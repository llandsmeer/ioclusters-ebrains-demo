{
 "cells": [
  {
   "cell_type": "code",
   "execution_count": 20,
   "id": "7407062e-f624-4b99-9671-6b9353204000",
   "metadata": {},
   "outputs": [
    {
     "name": "stdout",
     "output_type": "stream",
     "text": [
      "arbor version: 0.8.1\n"
     ]
    }
   ],
   "source": [
    "import os, arbor, plotly.express as px, pandas as pd\n",
    "print('arbor version:', arbor.config()['version'])\n",
    "if not os.path.exists('iopublic'):\n",
    "    !git clone --depth 1 'https://github.com/llandsmeer/iopublic'"
   ]
  },
  {
   "cell_type": "markdown",
   "id": "dac2f734-0f90-404d-bc62-7da3a44db041",
   "metadata": {},
   "source": [
    "# Morphology"
   ]
  },
  {
   "cell_type": "code",
   "execution_count": 2,
   "id": "aa814644-e318-42ee-b60e-d3be132b7cf7",
   "metadata": {},
   "outputs": [],
   "source": [
    "import arbor\n",
    "import numpy as np\n",
    "import plotly.express as px"
   ]
  },
  {
   "cell_type": "code",
   "execution_count": 3,
   "id": "8f6cbc68-079f-4952-8c30-2ace6d763e84",
   "metadata": {},
   "outputs": [],
   "source": [
    "morph = arbor.neuroml('./C51A.cell.nml').cell_morphology('C51A')"
   ]
  },
  {
   "cell_type": "code",
   "execution_count": 30,
   "id": "c364dc45-5fa7-47a6-a00e-eaa1f6c4327e",
   "metadata": {},
   "outputs": [],
   "source": [
    "segs = sum((morph.morphology.branch_segments(i) for i in range(morph.morphology.num_branches)), [])\n",
    "segs = np.array(\n",
    "    [(i, s.prox.x, s.prox.y, s.prox.z, s.prox.radius) for i, s in enumerate(segs)] +\n",
    "    [(i, s.dist.x, s.dist.y, s.dist.z, s.prox.radius) for i, s in enumerate(segs)])"
   ]
  },
  {
   "cell_type": "code",
   "execution_count": 37,
   "id": "e01a9b48-70f2-439c-81c2-9ee9642e6f2a",
   "metadata": {},
   "outputs": [
    {
     "data": {
      "application/vnd.plotly.v1+json": {
       "config": {
        "plotlyServerURL": "https://plot.ly"
       },
       "data": [
        {
         "error_x": {
          "array": [
           6.08,
           6.08
          ]
         },
         "error_y": {
          "array": [
           6.08,
           6.08
          ]
         },
         "error_z": {
          "array": [
           6.08,
           6.08
          ]
         },
         "hovertemplate": "0=0.0<br>1=%{x}<br>2=%{y}<br>3=%{z}<extra></extra>",
         "legendgroup": "",
         "line": {
          "color": "#636efa",
          "dash": "solid"
         },
         "marker": {
          "symbol": "circle"
         },
         "mode": "lines",
         "name": "",
         "scene": "scene",
         "showlegend": false,
         "type": "scatter3d",
         "x": [
          100.0331,
          98.23298
         ],
         "y": [
          117.0343,
          117.08635
         ],
         "z": [
          64.0716,
          60.51868
         ]
        },
        {
         "error_x": {
          "array": [
           6.91125,
           6.91125
          ]
         },
         "error_y": {
          "array": [
           6.91125,
           6.91125
          ]
         },
         "error_z": {
          "array": [
           6.91125,
           6.91125
          ]
         },
         "hovertemplate": "0=1.0<br>1=%{x}<br>2=%{y}<br>3=%{z}<extra></extra>",
         "legendgroup": "",
         "line": {
          "color": "#636efa",
          "dash": "solid"
         },
         "marker": {
          "symbol": "circle"
         },
         "mode": "lines",
         "name": "",
         "scene": "scene",
         "showlegend": false,
         "type": "scatter3d",
         "x": [
          98.23298,
          96.00656
         ],
         "y": [
          117.08635,
          116.31691
         ],
         "z": [
          60.51868,
          56.843815
         ]
        },
        {
         "error_x": {
          "array": [
           5.81875,
           5.81875
          ]
         },
         "error_y": {
          "array": [
           5.81875,
           5.81875
          ]
         },
         "error_z": {
          "array": [
           5.81875,
           5.81875
          ]
         },
         "hovertemplate": "0=2.0<br>1=%{x}<br>2=%{y}<br>3=%{z}<extra></extra>",
         "legendgroup": "",
         "line": {
          "color": "#636efa",
          "dash": "solid"
         },
         "marker": {
          "symbol": "circle"
         },
         "mode": "lines",
         "name": "",
         "scene": "scene",
         "showlegend": false,
         "type": "scatter3d",
         "x": [
          96.00656,
          92.90442
         ],
         "y": [
          116.31691,
          115.92622
         ],
         "z": [
          56.843815,
          54.09245
         ]
        },
        {
         "error_x": {
          "array": [
           1.54375,
           1.54375
          ]
         },
         "error_y": {
          "array": [
           1.54375,
           1.54375
          ]
         },
         "error_z": {
          "array": [
           1.54375,
           1.54375
          ]
         },
         "hovertemplate": "0=3.0<br>1=%{x}<br>2=%{y}<br>3=%{z}<extra></extra>",
         "legendgroup": "",
         "line": {
          "color": "#636efa",
          "dash": "solid"
         },
         "marker": {
          "symbol": "circle"
         },
         "mode": "lines",
         "name": "",
         "scene": "scene",
         "showlegend": false,
         "type": "scatter3d",
         "x": [
          92.90442,
          89.00891
         ],
         "y": [
          115.92622,
          115.1889
         ],
         "z": [
          54.09245,
          52.285038
         ]
        },
        {
         "error_x": {
          "array": [
           1.54375,
           1.54375
          ]
         },
         "error_y": {
          "array": [
           1.54375,
           1.54375
          ]
         },
         "error_z": {
          "array": [
           1.54375,
           1.54375
          ]
         },
         "hovertemplate": "0=4.0<br>1=%{x}<br>2=%{y}<br>3=%{z}<extra></extra>",
         "legendgroup": "",
         "line": {
          "color": "#636efa",
          "dash": "solid"
         },
         "marker": {
          "symbol": "circle"
         },
         "mode": "lines",
         "name": "",
         "scene": "scene",
         "showlegend": false,
         "type": "scatter3d",
         "x": [
          89.00891,
          85.82532
         ],
         "y": [
          115.1889,
          115.043205
         ],
         "z": [
          52.285038,
          48.74448
         ]
        },
        {
         "error_x": {
          "array": [
           1.4725,
           1.4725
          ]
         },
         "error_y": {
          "array": [
           1.4725,
           1.4725
          ]
         },
         "error_z": {
          "array": [
           1.4725,
           1.4725
          ]
         },
         "hovertemplate": "0=5.0<br>1=%{x}<br>2=%{y}<br>3=%{z}<extra></extra>",
         "legendgroup": "",
         "line": {
          "color": "#636efa",
          "dash": "solid"
         },
         "marker": {
          "symbol": "circle"
         },
         "mode": "lines",
         "name": "",
         "scene": "scene",
         "showlegend": false,
         "type": "scatter3d",
         "x": [
          85.82532,
          81.61282
         ],
         "y": [
          115.043205,
          115.32092
         ],
         "z": [
          48.74448,
          46.494926
         ]
        },
        {
         "error_x": {
          "array": [
           0.9975,
           0.9975
          ]
         },
         "error_y": {
          "array": [
           0.9975,
           0.9975
          ]
         },
         "error_z": {
          "array": [
           0.9975,
           0.9975
          ]
         },
         "hovertemplate": "0=6.0<br>1=%{x}<br>2=%{y}<br>3=%{z}<extra></extra>",
         "legendgroup": "",
         "line": {
          "color": "#636efa",
          "dash": "solid"
         },
         "marker": {
          "symbol": "circle"
         },
         "mode": "lines",
         "name": "",
         "scene": "scene",
         "showlegend": false,
         "type": "scatter3d",
         "x": [
          81.61282,
          77.14754
         ],
         "y": [
          115.32092,
          115.188545
         ],
         "z": [
          46.494926,
          44.71822
         ]
        },
        {
         "error_x": {
          "array": [
           1.21125,
           1.21125
          ]
         },
         "error_y": {
          "array": [
           1.21125,
           1.21125
          ]
         },
         "error_z": {
          "array": [
           1.21125,
           1.21125
          ]
         },
         "hovertemplate": "0=7.0<br>1=%{x}<br>2=%{y}<br>3=%{z}<extra></extra>",
         "legendgroup": "",
         "line": {
          "color": "#636efa",
          "dash": "solid"
         },
         "marker": {
          "symbol": "circle"
         },
         "mode": "lines",
         "name": "",
         "scene": "scene",
         "showlegend": false,
         "type": "scatter3d",
         "x": [
          77.14754,
          72.1531
         ],
         "y": [
          115.188545,
          115.10945
         ],
         "z": [
          44.71822,
          44.605515
         ]
        },
        {
         "error_x": {
          "array": [
           1.06875,
           1.06875
          ]
         },
         "error_y": {
          "array": [
           1.06875,
           1.06875
          ]
         },
         "error_z": {
          "array": [
           1.06875,
           1.06875
          ]
         },
         "hovertemplate": "0=8.0<br>1=%{x}<br>2=%{y}<br>3=%{z}<extra></extra>",
         "legendgroup": "",
         "line": {
          "color": "#636efa",
          "dash": "solid"
         },
         "marker": {
          "symbol": "circle"
         },
         "mode": "lines",
         "name": "",
         "scene": "scene",
         "showlegend": false,
         "type": "scatter3d",
         "x": [
          72.1531,
          67.250046
         ],
         "y": [
          115.10945,
          114.332726
         ],
         "z": [
          44.605515,
          44.65678
         ]
        },
        {
         "error_x": {
          "array": [
           1.0925,
           1.0925
          ]
         },
         "error_y": {
          "array": [
           1.0925,
           1.0925
          ]
         },
         "error_z": {
          "array": [
           1.0925,
           1.0925
          ]
         },
         "hovertemplate": "0=9.0<br>1=%{x}<br>2=%{y}<br>3=%{z}<extra></extra>",
         "legendgroup": "",
         "line": {
          "color": "#636efa",
          "dash": "solid"
         },
         "marker": {
          "symbol": "circle"
         },
         "mode": "lines",
         "name": "",
         "scene": "scene",
         "showlegend": false,
         "type": "scatter3d",
         "x": [
          67.250046,
          62.396137
         ],
         "y": [
          114.332726,
          113.82875
         ],
         "z": [
          44.65678,
          44.960453
         ]
        },
        {
         "error_x": {
          "array": [
           1.0925,
           1.0925
          ]
         },
         "error_y": {
          "array": [
           1.0925,
           1.0925
          ]
         },
         "error_z": {
          "array": [
           1.0925,
           1.0925
          ]
         },
         "hovertemplate": "0=10.0<br>1=%{x}<br>2=%{y}<br>3=%{z}<extra></extra>",
         "legendgroup": "",
         "line": {
          "color": "#636efa",
          "dash": "solid"
         },
         "marker": {
          "symbol": "circle"
         },
         "mode": "lines",
         "name": "",
         "scene": "scene",
         "showlegend": false,
         "type": "scatter3d",
         "x": [
          62.396137,
          58.156944
         ],
         "y": [
          113.82875,
          113.03555
         ],
         "z": [
          44.960453,
          47.13533
         ]
        },
        {
         "error_x": {
          "array": [
           0.9975,
           0.9975
          ]
         },
         "error_y": {
          "array": [
           0.9975,
           0.9975
          ]
         },
         "error_z": {
          "array": [
           0.9975,
           0.9975
          ]
         },
         "hovertemplate": "0=11.0<br>1=%{x}<br>2=%{y}<br>3=%{z}<extra></extra>",
         "legendgroup": "",
         "line": {
          "color": "#636efa",
          "dash": "solid"
         },
         "marker": {
          "symbol": "circle"
         },
         "mode": "lines",
         "name": "",
         "scene": "scene",
         "showlegend": false,
         "type": "scatter3d",
         "x": [
          58.156944,
          55.095238
         ],
         "y": [
          113.03555,
          112.83404
         ],
         "z": [
          47.13533,
          50.680958
         ]
        },
        {
         "error_x": {
          "array": [
           1.11625,
           1.11625
          ]
         },
         "error_y": {
          "array": [
           1.11625,
           1.11625
          ]
         },
         "error_z": {
          "array": [
           1.11625,
           1.11625
          ]
         },
         "hovertemplate": "0=12.0<br>1=%{x}<br>2=%{y}<br>3=%{z}<extra></extra>",
         "legendgroup": "",
         "line": {
          "color": "#636efa",
          "dash": "solid"
         },
         "marker": {
          "symbol": "circle"
         },
         "mode": "lines",
         "name": "",
         "scene": "scene",
         "showlegend": false,
         "type": "scatter3d",
         "x": [
          55.095238,
          51.16476
         ],
         "y": [
          112.83404,
          112.76482
         ],
         "z": [
          50.680958,
          53.35425
         ]
        },
        {
         "error_x": {
          "array": [
           1.0925,
           1.0925
          ]
         },
         "error_y": {
          "array": [
           1.0925,
           1.0925
          ]
         },
         "error_z": {
          "array": [
           1.0925,
           1.0925
          ]
         },
         "hovertemplate": "0=13.0<br>1=%{x}<br>2=%{y}<br>3=%{z}<extra></extra>",
         "legendgroup": "",
         "line": {
          "color": "#636efa",
          "dash": "solid"
         },
         "marker": {
          "symbol": "circle"
         },
         "mode": "lines",
         "name": "",
         "scene": "scene",
         "showlegend": false,
         "type": "scatter3d",
         "x": [
          51.16476,
          47.760235
         ],
         "y": [
          112.76482,
          111.88202
         ],
         "z": [
          53.35425,
          56.62351
         ]
        },
        {
         "error_x": {
          "array": [
           1.045,
           1.045
          ]
         },
         "error_y": {
          "array": [
           1.045,
           1.045
          ]
         },
         "error_z": {
          "array": [
           1.045,
           1.045
          ]
         },
         "hovertemplate": "0=14.0<br>1=%{x}<br>2=%{y}<br>3=%{z}<extra></extra>",
         "legendgroup": "",
         "line": {
          "color": "#636efa",
          "dash": "solid"
         },
         "marker": {
          "symbol": "circle"
         },
         "mode": "lines",
         "name": "",
         "scene": "scene",
         "showlegend": false,
         "type": "scatter3d",
         "x": [
          47.760235,
          44.718376
         ],
         "y": [
          111.88202,
          109.89297
         ],
         "z": [
          56.62351,
          59.66784
         ]
        },
        {
         "error_x": {
          "array": [
           1.14,
           1.14
          ]
         },
         "error_y": {
          "array": [
           1.14,
           1.14
          ]
         },
         "error_z": {
          "array": [
           1.14,
           1.14
          ]
         },
         "hovertemplate": "0=15.0<br>1=%{x}<br>2=%{y}<br>3=%{z}<extra></extra>",
         "legendgroup": "",
         "line": {
          "color": "#636efa",
          "dash": "solid"
         },
         "marker": {
          "symbol": "circle"
         },
         "mode": "lines",
         "name": "",
         "scene": "scene",
         "showlegend": false,
         "type": "scatter3d",
         "x": [
          44.718376,
          41.79909
         ],
         "y": [
          109.89297,
          107.003136
         ],
         "z": [
          59.66784,
          62.12046
         ]
        },
        {
         "error_x": {
          "array": [
           1.11625,
           1.11625
          ]
         },
         "error_y": {
          "array": [
           1.11625,
           1.11625
          ]
         },
         "error_z": {
          "array": [
           1.11625,
           1.11625
          ]
         },
         "hovertemplate": "0=16.0<br>1=%{x}<br>2=%{y}<br>3=%{z}<extra></extra>",
         "legendgroup": "",
         "line": {
          "color": "#636efa",
          "dash": "solid"
         },
         "marker": {
          "symbol": "circle"
         },
         "mode": "lines",
         "name": "",
         "scene": "scene",
         "showlegend": false,
         "type": "scatter3d",
         "x": [
          41.79909,
          39.41801
         ],
         "y": [
          107.003136,
          103.78742
         ],
         "z": [
          62.12046,
          64.23324
         ]
        },
        {
         "error_x": {
          "array": [
           1.0925,
           1.0925
          ]
         },
         "error_y": {
          "array": [
           1.0925,
           1.0925
          ]
         },
         "error_z": {
          "array": [
           1.0925,
           1.0925
          ]
         },
         "hovertemplate": "0=17.0<br>1=%{x}<br>2=%{y}<br>3=%{z}<extra></extra>",
         "legendgroup": "",
         "line": {
          "color": "#636efa",
          "dash": "solid"
         },
         "marker": {
          "symbol": "circle"
         },
         "mode": "lines",
         "name": "",
         "scene": "scene",
         "showlegend": false,
         "type": "scatter3d",
         "x": [
          39.41801,
          36.613926
         ],
         "y": [
          103.78742,
          99.9973
         ],
         "z": [
          64.23324,
          63.90837
         ]
        },
        {
         "error_x": {
          "array": [
           1.06875,
           1.06875
          ]
         },
         "error_y": {
          "array": [
           1.06875,
           1.06875
          ]
         },
         "error_z": {
          "array": [
           1.06875,
           1.06875
          ]
         },
         "hovertemplate": "0=18.0<br>1=%{x}<br>2=%{y}<br>3=%{z}<extra></extra>",
         "legendgroup": "",
         "line": {
          "color": "#636efa",
          "dash": "solid"
         },
         "marker": {
          "symbol": "circle"
         },
         "mode": "lines",
         "name": "",
         "scene": "scene",
         "showlegend": false,
         "type": "scatter3d",
         "x": [
          36.613926,
          35.913258
         ],
         "y": [
          99.9973,
          95.732895
         ],
         "z": [
          63.90837,
          61.6025
         ]
        },
        {
         "error_x": {
          "array": [
           1.02125,
           1.02125
          ]
         },
         "error_y": {
          "array": [
           1.02125,
           1.02125
          ]
         },
         "error_z": {
          "array": [
           1.02125,
           1.02125
          ]
         },
         "hovertemplate": "0=19.0<br>1=%{x}<br>2=%{y}<br>3=%{z}<extra></extra>",
         "legendgroup": "",
         "line": {
          "color": "#636efa",
          "dash": "solid"
         },
         "marker": {
          "symbol": "circle"
         },
         "mode": "lines",
         "name": "",
         "scene": "scene",
         "showlegend": false,
         "type": "scatter3d",
         "x": [
          35.913258,
          37.402714
         ],
         "y": [
          95.732895,
          93.06277
         ],
         "z": [
          61.6025,
          58.196003
         ]
        },
        {
         "error_x": {
          "array": [
           1.14,
           1.14
          ]
         },
         "error_y": {
          "array": [
           1.14,
           1.14
          ]
         },
         "error_z": {
          "array": [
           1.14,
           1.14
          ]
         },
         "hovertemplate": "0=20.0<br>1=%{x}<br>2=%{y}<br>3=%{z}<extra></extra>",
         "legendgroup": "",
         "line": {
          "color": "#636efa",
          "dash": "solid"
         },
         "marker": {
          "symbol": "circle"
         },
         "mode": "lines",
         "name": "",
         "scene": "scene",
         "showlegend": false,
         "type": "scatter3d",
         "x": [
          37.402714,
          40.615063
         ],
         "y": [
          93.06277,
          91.70859
         ],
         "z": [
          58.196003,
          55.207634
         ]
        },
        {
         "error_x": {
          "array": [
           1.21125,
           1.21125
          ]
         },
         "error_y": {
          "array": [
           1.21125,
           1.21125
          ]
         },
         "error_z": {
          "array": [
           1.21125,
           1.21125
          ]
         },
         "hovertemplate": "0=21.0<br>1=%{x}<br>2=%{y}<br>3=%{z}<extra></extra>",
         "legendgroup": "",
         "line": {
          "color": "#636efa",
          "dash": "solid"
         },
         "marker": {
          "symbol": "circle"
         },
         "mode": "lines",
         "name": "",
         "scene": "scene",
         "showlegend": false,
         "type": "scatter3d",
         "x": [
          40.615063,
          43.228508
         ],
         "y": [
          91.70859,
          87.825134
         ],
         "z": [
          55.207634,
          54.20124
         ]
        },
        {
         "error_x": {
          "array": [
           1.0925,
           1.0925
          ]
         },
         "error_y": {
          "array": [
           1.0925,
           1.0925
          ]
         },
         "error_z": {
          "array": [
           1.0925,
           1.0925
          ]
         },
         "hovertemplate": "0=22.0<br>1=%{x}<br>2=%{y}<br>3=%{z}<extra></extra>",
         "legendgroup": "",
         "line": {
          "color": "#636efa",
          "dash": "solid"
         },
         "marker": {
          "symbol": "circle"
         },
         "mode": "lines",
         "name": "",
         "scene": "scene",
         "showlegend": false,
         "type": "scatter3d",
         "x": [
          43.228508,
          44.769722
         ],
         "y": [
          87.825134,
          83.62442
         ],
         "z": [
          54.20124,
          55.112556
         ]
        },
        {
         "error_x": {
          "array": [
           1.0925,
           1.0925
          ]
         },
         "error_y": {
          "array": [
           1.0925,
           1.0925
          ]
         },
         "error_z": {
          "array": [
           1.0925,
           1.0925
          ]
         },
         "hovertemplate": "0=23.0<br>1=%{x}<br>2=%{y}<br>3=%{z}<extra></extra>",
         "legendgroup": "",
         "line": {
          "color": "#636efa",
          "dash": "solid"
         },
         "marker": {
          "symbol": "circle"
         },
         "mode": "lines",
         "name": "",
         "scene": "scene",
         "showlegend": false,
         "type": "scatter3d",
         "x": [
          44.769722,
          46.46949
         ],
         "y": [
          83.62442,
          79.119286
         ],
         "z": [
          55.112556,
          55.504807
         ]
        },
        {
         "error_x": {
          "array": [
           1.06875,
           1.06875
          ]
         },
         "error_y": {
          "array": [
           1.06875,
           1.06875
          ]
         },
         "error_z": {
          "array": [
           1.06875,
           1.06875
          ]
         },
         "hovertemplate": "0=24.0<br>1=%{x}<br>2=%{y}<br>3=%{z}<extra></extra>",
         "legendgroup": "",
         "line": {
          "color": "#636efa",
          "dash": "solid"
         },
         "marker": {
          "symbol": "circle"
         },
         "mode": "lines",
         "name": "",
         "scene": "scene",
         "showlegend": false,
         "type": "scatter3d",
         "x": [
          46.46949,
          49.6715
         ],
         "y": [
          79.119286,
          76.45187
         ],
         "z": [
          55.504807,
          53.44881
         ]
        },
        {
         "error_x": {
          "array": [
           1.045,
           1.045
          ]
         },
         "error_y": {
          "array": [
           1.045,
           1.045
          ]
         },
         "error_z": {
          "array": [
           1.045,
           1.045
          ]
         },
         "hovertemplate": "0=25.0<br>1=%{x}<br>2=%{y}<br>3=%{z}<extra></extra>",
         "legendgroup": "",
         "line": {
          "color": "#636efa",
          "dash": "solid"
         },
         "marker": {
          "symbol": "circle"
         },
         "mode": "lines",
         "name": "",
         "scene": "scene",
         "showlegend": false,
         "type": "scatter3d",
         "x": [
          49.6715,
          54.326424
         ],
         "y": [
          76.45187,
          74.904655
         ],
         "z": [
          53.44881,
          53.091026
         ]
        },
        {
         "error_x": {
          "array": [
           0.95,
           0.95
          ]
         },
         "error_y": {
          "array": [
           0.95,
           0.95
          ]
         },
         "error_z": {
          "array": [
           0.95,
           0.95
          ]
         },
         "hovertemplate": "0=26.0<br>1=%{x}<br>2=%{y}<br>3=%{z}<extra></extra>",
         "legendgroup": "",
         "line": {
          "color": "#636efa",
          "dash": "solid"
         },
         "marker": {
          "symbol": "circle"
         },
         "mode": "lines",
         "name": "",
         "scene": "scene",
         "showlegend": false,
         "type": "scatter3d",
         "x": [
          54.326424,
          58.586792
         ],
         "y": [
          74.904655,
          73.719734
         ],
         "z": [
          53.091026,
          54.608555
         ]
        },
        {
         "error_x": {
          "array": [
           1.045,
           1.045
          ]
         },
         "error_y": {
          "array": [
           1.045,
           1.045
          ]
         },
         "error_z": {
          "array": [
           1.045,
           1.045
          ]
         },
         "hovertemplate": "0=27.0<br>1=%{x}<br>2=%{y}<br>3=%{z}<extra></extra>",
         "legendgroup": "",
         "line": {
          "color": "#636efa",
          "dash": "solid"
         },
         "marker": {
          "symbol": "circle"
         },
         "mode": "lines",
         "name": "",
         "scene": "scene",
         "showlegend": false,
         "type": "scatter3d",
         "x": [
          58.586792,
          63.37947
         ],
         "y": [
          73.719734,
          74.032555
         ],
         "z": [
          54.608555,
          54.863537
         ]
        },
        {
         "error_x": {
          "array": [
           0.92625,
           0.92625
          ]
         },
         "error_y": {
          "array": [
           0.92625,
           0.92625
          ]
         },
         "error_z": {
          "array": [
           0.92625,
           0.92625
          ]
         },
         "hovertemplate": "0=28.0<br>1=%{x}<br>2=%{y}<br>3=%{z}<extra></extra>",
         "legendgroup": "",
         "line": {
          "color": "#636efa",
          "dash": "solid"
         },
         "marker": {
          "symbol": "circle"
         },
         "mode": "lines",
         "name": "",
         "scene": "scene",
         "showlegend": false,
         "type": "scatter3d",
         "x": [
          63.37947,
          68.360794
         ],
         "y": [
          74.032555,
          74.17684
         ],
         "z": [
          54.863537,
          54.81042
         ]
        },
        {
         "error_x": {
          "array": [
           0.9975,
           0.9975
          ]
         },
         "error_y": {
          "array": [
           0.9975,
           0.9975
          ]
         },
         "error_z": {
          "array": [
           0.9975,
           0.9975
          ]
         },
         "hovertemplate": "0=29.0<br>1=%{x}<br>2=%{y}<br>3=%{z}<extra></extra>",
         "legendgroup": "",
         "line": {
          "color": "#636efa",
          "dash": "solid"
         },
         "marker": {
          "symbol": "circle"
         },
         "mode": "lines",
         "name": "",
         "scene": "scene",
         "showlegend": false,
         "type": "scatter3d",
         "x": [
          68.360794,
          73.265816
         ],
         "y": [
          74.17684,
          74.22216
         ],
         "z": [
          54.81042,
          54.345688
         ]
        },
        {
         "error_x": {
          "array": [
           0.95,
           0.95
          ]
         },
         "error_y": {
          "array": [
           0.95,
           0.95
          ]
         },
         "error_z": {
          "array": [
           0.95,
           0.95
          ]
         },
         "hovertemplate": "0=30.0<br>1=%{x}<br>2=%{y}<br>3=%{z}<extra></extra>",
         "legendgroup": "",
         "line": {
          "color": "#636efa",
          "dash": "solid"
         },
         "marker": {
          "symbol": "circle"
         },
         "mode": "lines",
         "name": "",
         "scene": "scene",
         "showlegend": false,
         "type": "scatter3d",
         "x": [
          73.265816,
          77.72415
         ],
         "y": [
          74.22216,
          72.30599
         ],
         "z": [
          54.345688,
          53.7626
         ]
        },
        {
         "error_x": {
          "array": [
           0.97375,
           0.97375
          ]
         },
         "error_y": {
          "array": [
           0.97375,
           0.97375
          ]
         },
         "error_z": {
          "array": [
           0.97375,
           0.97375
          ]
         },
         "hovertemplate": "0=31.0<br>1=%{x}<br>2=%{y}<br>3=%{z}<extra></extra>",
         "legendgroup": "",
         "line": {
          "color": "#636efa",
          "dash": "solid"
         },
         "marker": {
          "symbol": "circle"
         },
         "mode": "lines",
         "name": "",
         "scene": "scene",
         "showlegend": false,
         "type": "scatter3d",
         "x": [
          77.72415,
          82.33542
         ],
         "y": [
          72.30599,
          72.325165
         ],
         "z": [
          53.7626,
          52.49579
         ]
        },
        {
         "error_x": {
          "array": [
           1.045,
           1.045
          ]
         },
         "error_y": {
          "array": [
           1.045,
           1.045
          ]
         },
         "error_z": {
          "array": [
           1.045,
           1.045
          ]
         },
         "hovertemplate": "0=32.0<br>1=%{x}<br>2=%{y}<br>3=%{z}<extra></extra>",
         "legendgroup": "",
         "line": {
          "color": "#636efa",
          "dash": "solid"
         },
         "marker": {
          "symbol": "circle"
         },
         "mode": "lines",
         "name": "",
         "scene": "scene",
         "showlegend": false,
         "type": "scatter3d",
         "x": [
          82.33542,
          87.265785
         ],
         "y": [
          72.325165,
          72.54208
         ],
         "z": [
          52.49579,
          52.100586
         ]
        },
        {
         "error_x": {
          "array": [
           0.92625,
           0.92625
          ]
         },
         "error_y": {
          "array": [
           0.92625,
           0.92625
          ]
         },
         "error_z": {
          "array": [
           0.92625,
           0.92625
          ]
         },
         "hovertemplate": "0=33.0<br>1=%{x}<br>2=%{y}<br>3=%{z}<extra></extra>",
         "legendgroup": "",
         "line": {
          "color": "#636efa",
          "dash": "solid"
         },
         "marker": {
          "symbol": "circle"
         },
         "mode": "lines",
         "name": "",
         "scene": "scene",
         "showlegend": false,
         "type": "scatter3d",
         "x": [
          87.265785,
          91.4011
         ],
         "y": [
          72.54208,
          72.79452
         ],
         "z": [
          52.100586,
          51.34628
         ]
        },
        {
         "error_x": {
          "array": [
           0.9975,
           0.9975
          ]
         },
         "error_y": {
          "array": [
           0.9975,
           0.9975
          ]
         },
         "error_z": {
          "array": [
           0.9975,
           0.9975
          ]
         },
         "hovertemplate": "0=34.0<br>1=%{x}<br>2=%{y}<br>3=%{z}<extra></extra>",
         "legendgroup": "",
         "line": {
          "color": "#636efa",
          "dash": "solid"
         },
         "marker": {
          "symbol": "circle"
         },
         "mode": "lines",
         "name": "",
         "scene": "scene",
         "showlegend": false,
         "type": "scatter3d",
         "x": [
          91.4011,
          96.260796
         ],
         "y": [
          72.79452,
          73.312775
         ],
         "z": [
          51.34628,
          51.030792
         ]
        },
        {
         "error_x": {
          "array": [
           1.06875,
           1.06875
          ]
         },
         "error_y": {
          "array": [
           1.06875,
           1.06875
          ]
         },
         "error_z": {
          "array": [
           1.06875,
           1.06875
          ]
         },
         "hovertemplate": "0=35.0<br>1=%{x}<br>2=%{y}<br>3=%{z}<extra></extra>",
         "legendgroup": "",
         "line": {
          "color": "#636efa",
          "dash": "solid"
         },
         "marker": {
          "symbol": "circle"
         },
         "mode": "lines",
         "name": "",
         "scene": "scene",
         "showlegend": false,
         "type": "scatter3d",
         "x": [
          96.260796,
          100.821
         ],
         "y": [
          73.312775,
          75.327385
         ],
         "z": [
          51.030792,
          50.98209
         ]
        },
        {
         "error_x": {
          "array": [
           0.92625,
           0.92625
          ]
         },
         "error_y": {
          "array": [
           0.92625,
           0.92625
          ]
         },
         "error_z": {
          "array": [
           0.92625,
           0.92625
          ]
         },
         "hovertemplate": "0=36.0<br>1=%{x}<br>2=%{y}<br>3=%{z}<extra></extra>",
         "legendgroup": "",
         "line": {
          "color": "#636efa",
          "dash": "solid"
         },
         "marker": {
          "symbol": "circle"
         },
         "mode": "lines",
         "name": "",
         "scene": "scene",
         "showlegend": false,
         "type": "scatter3d",
         "x": [
          100.821,
          105.25248
         ],
         "y": [
          75.327385,
          76.8469
         ],
         "z": [
          50.98209,
          52.196526
         ]
        },
        {
         "error_x": {
          "array": [
           1.11625,
           1.11625
          ]
         },
         "error_y": {
          "array": [
           1.11625,
           1.11625
          ]
         },
         "error_z": {
          "array": [
           1.11625,
           1.11625
          ]
         },
         "hovertemplate": "0=37.0<br>1=%{x}<br>2=%{y}<br>3=%{z}<extra></extra>",
         "legendgroup": "",
         "line": {
          "color": "#636efa",
          "dash": "solid"
         },
         "marker": {
          "symbol": "circle"
         },
         "mode": "lines",
         "name": "",
         "scene": "scene",
         "showlegend": false,
         "type": "scatter3d",
         "x": [
          105.25248,
          108.2834
         ],
         "y": [
          76.8469,
          79.74937
         ],
         "z": [
          52.196526,
          54.515415
         ]
        },
        {
         "error_x": {
          "array": [
           1.16375,
           1.16375
          ]
         },
         "error_y": {
          "array": [
           1.16375,
           1.16375
          ]
         },
         "error_z": {
          "array": [
           1.16375,
           1.16375
          ]
         },
         "hovertemplate": "0=38.0<br>1=%{x}<br>2=%{y}<br>3=%{z}<extra></extra>",
         "legendgroup": "",
         "line": {
          "color": "#636efa",
          "dash": "solid"
         },
         "marker": {
          "symbol": "circle"
         },
         "mode": "lines",
         "name": "",
         "scene": "scene",
         "showlegend": false,
         "type": "scatter3d",
         "x": [
          108.2834,
          110.748566
         ],
         "y": [
          79.74937,
          83.785675
         ],
         "z": [
          54.515415,
          55.8344
         ]
        },
        {
         "error_x": {
          "array": [
           1.35375,
           1.35375
          ]
         },
         "error_y": {
          "array": [
           1.35375,
           1.35375
          ]
         },
         "error_z": {
          "array": [
           1.35375,
           1.35375
          ]
         },
         "hovertemplate": "0=39.0<br>1=%{x}<br>2=%{y}<br>3=%{z}<extra></extra>",
         "legendgroup": "",
         "line": {
          "color": "#636efa",
          "dash": "solid"
         },
         "marker": {
          "symbol": "circle"
         },
         "mode": "lines",
         "name": "",
         "scene": "scene",
         "showlegend": false,
         "type": "scatter3d",
         "x": [
          110.748566,
          114.21451
         ],
         "y": [
          83.785675,
          87.35101
         ],
         "z": [
          55.8344,
          55.88966
         ]
        },
        {
         "error_x": {
          "array": [
           1.02125,
           1.02125
          ]
         },
         "error_y": {
          "array": [
           1.02125,
           1.02125
          ]
         },
         "error_z": {
          "array": [
           1.02125,
           1.02125
          ]
         },
         "hovertemplate": "0=40.0<br>1=%{x}<br>2=%{y}<br>3=%{z}<extra></extra>",
         "legendgroup": "",
         "line": {
          "color": "#636efa",
          "dash": "solid"
         },
         "marker": {
          "symbol": "circle"
         },
         "mode": "lines",
         "name": "",
         "scene": "scene",
         "showlegend": false,
         "type": "scatter3d",
         "x": [
          114.21451,
          118.30687
         ],
         "y": [
          87.35101,
          88.6655
         ],
         "z": [
          55.88966,
          58.053627
         ]
        },
        {
         "error_x": {
          "array": [
           0.855,
           0.855
          ]
         },
         "error_y": {
          "array": [
           0.855,
           0.855
          ]
         },
         "error_z": {
          "array": [
           0.855,
           0.855
          ]
         },
         "hovertemplate": "0=41.0<br>1=%{x}<br>2=%{y}<br>3=%{z}<extra></extra>",
         "legendgroup": "",
         "line": {
          "color": "#636efa",
          "dash": "solid"
         },
         "marker": {
          "symbol": "circle"
         },
         "mode": "lines",
         "name": "",
         "scene": "scene",
         "showlegend": false,
         "type": "scatter3d",
         "x": [
          118.30687,
          122.31231
         ],
         "y": [
          88.6655,
          88.61194
         ],
         "z": [
          58.053627,
          60.726738
         ]
        },
        {
         "error_x": {
          "array": [
           1.06875,
           1.06875
          ]
         },
         "error_y": {
          "array": [
           1.06875,
           1.06875
          ]
         },
         "error_z": {
          "array": [
           1.06875,
           1.06875
          ]
         },
         "hovertemplate": "0=42.0<br>1=%{x}<br>2=%{y}<br>3=%{z}<extra></extra>",
         "legendgroup": "",
         "line": {
          "color": "#636efa",
          "dash": "solid"
         },
         "marker": {
          "symbol": "circle"
         },
         "mode": "lines",
         "name": "",
         "scene": "scene",
         "showlegend": false,
         "type": "scatter3d",
         "x": [
          122.31231,
          126.51835
         ],
         "y": [
          88.61194,
          89.783676
         ],
         "z": [
          60.726738,
          62.4088
         ]
        },
        {
         "error_x": {
          "array": [
           1.14,
           1.14
          ]
         },
         "error_y": {
          "array": [
           1.14,
           1.14
          ]
         },
         "error_z": {
          "array": [
           1.14,
           1.14
          ]
         },
         "hovertemplate": "0=43.0<br>1=%{x}<br>2=%{y}<br>3=%{z}<extra></extra>",
         "legendgroup": "",
         "line": {
          "color": "#636efa",
          "dash": "solid"
         },
         "marker": {
          "symbol": "circle"
         },
         "mode": "lines",
         "name": "",
         "scene": "scene",
         "showlegend": false,
         "type": "scatter3d",
         "x": [
          126.51835,
          130.32344
         ],
         "y": [
          89.783676,
          91.741486
         ],
         "z": [
          62.4088,
          64.10449
         ]
        },
        {
         "error_x": {
          "array": [
           1.21125,
           1.21125
          ]
         },
         "error_y": {
          "array": [
           1.21125,
           1.21125
          ]
         },
         "error_z": {
          "array": [
           1.21125,
           1.21125
          ]
         },
         "hovertemplate": "0=44.0<br>1=%{x}<br>2=%{y}<br>3=%{z}<extra></extra>",
         "legendgroup": "",
         "line": {
          "color": "#636efa",
          "dash": "solid"
         },
         "marker": {
          "symbol": "circle"
         },
         "mode": "lines",
         "name": "",
         "scene": "scene",
         "showlegend": false,
         "type": "scatter3d",
         "x": [
          130.32344,
          132.57394
         ],
         "y": [
          91.741486,
          93.13225
         ],
         "z": [
          64.10449,
          68.06246
         ]
        },
        {
         "error_x": {
          "array": [
           1.3775,
           1.3775
          ]
         },
         "error_y": {
          "array": [
           1.3775,
           1.3775
          ]
         },
         "error_z": {
          "array": [
           1.3775,
           1.3775
          ]
         },
         "hovertemplate": "0=45.0<br>1=%{x}<br>2=%{y}<br>3=%{z}<extra></extra>",
         "legendgroup": "",
         "line": {
          "color": "#636efa",
          "dash": "solid"
         },
         "marker": {
          "symbol": "circle"
         },
         "mode": "lines",
         "name": "",
         "scene": "scene",
         "showlegend": false,
         "type": "scatter3d",
         "x": [
          132.57394,
          133.91548
         ],
         "y": [
          93.13225,
          94.16652
         ],
         "z": [
          68.06246,
          72.42844
         ]
        },
        {
         "error_x": {
          "array": [
           1.615,
           1.615
          ]
         },
         "error_y": {
          "array": [
           1.615,
           1.615
          ]
         },
         "error_z": {
          "array": [
           1.615,
           1.615
          ]
         },
         "hovertemplate": "0=46.0<br>1=%{x}<br>2=%{y}<br>3=%{z}<extra></extra>",
         "legendgroup": "",
         "line": {
          "color": "#636efa",
          "dash": "solid"
         },
         "marker": {
          "symbol": "circle"
         },
         "mode": "lines",
         "name": "",
         "scene": "scene",
         "showlegend": false,
         "type": "scatter3d",
         "x": [
          133.91548,
          134.04655
         ],
         "y": [
          94.16652,
          96.60633
         ],
         "z": [
          72.42844,
          76.67385
         ]
        },
        {
         "error_x": {
          "array": [
           2.1375,
           2.1375
          ]
         },
         "error_y": {
          "array": [
           2.1375,
           2.1375
          ]
         },
         "error_z": {
          "array": [
           2.1375,
           2.1375
          ]
         },
         "hovertemplate": "0=47.0<br>1=%{x}<br>2=%{y}<br>3=%{z}<extra></extra>",
         "legendgroup": "",
         "line": {
          "color": "#636efa",
          "dash": "solid"
         },
         "marker": {
          "symbol": "circle"
         },
         "mode": "lines",
         "name": "",
         "scene": "scene",
         "showlegend": false,
         "type": "scatter3d",
         "x": [
          134.04655,
          130.06805
         ],
         "y": [
          96.60633,
          99.0008
         ],
         "z": [
          76.67385,
          77.16152
         ]
        },
        {
         "error_x": {
          "array": [
           1.92375,
           1.92375
          ]
         },
         "error_y": {
          "array": [
           1.92375,
           1.92375
          ]
         },
         "error_z": {
          "array": [
           1.92375,
           1.92375
          ]
         },
         "hovertemplate": "0=48.0<br>1=%{x}<br>2=%{y}<br>3=%{z}<extra></extra>",
         "legendgroup": "",
         "line": {
          "color": "#636efa",
          "dash": "solid"
         },
         "marker": {
          "symbol": "circle"
         },
         "mode": "lines",
         "name": "",
         "scene": "scene",
         "showlegend": false,
         "type": "scatter3d",
         "x": [
          130.06805,
          125.7761
         ],
         "y": [
          99.0008,
          100.1892
         ],
         "z": [
          77.16152,
          78.8727
         ]
        },
        {
         "error_x": {
          "array": [
           0.78375,
           0.78375
          ]
         },
         "error_y": {
          "array": [
           0.78375,
           0.78375
          ]
         },
         "error_z": {
          "array": [
           0.78375,
           0.78375
          ]
         },
         "hovertemplate": "0=49.0<br>1=%{x}<br>2=%{y}<br>3=%{z}<extra></extra>",
         "legendgroup": "",
         "line": {
          "color": "#636efa",
          "dash": "solid"
         },
         "marker": {
          "symbol": "circle"
         },
         "mode": "lines",
         "name": "",
         "scene": "scene",
         "showlegend": false,
         "type": "scatter3d",
         "x": [
          125.7761,
          120.88977
         ],
         "y": [
          100.1892,
          101.01403
         ],
         "z": [
          78.8727,
          78.943016
         ]
        },
        {
         "error_x": {
          "array": [
           0.855,
           0.855
          ]
         },
         "error_y": {
          "array": [
           0.855,
           0.855
          ]
         },
         "error_z": {
          "array": [
           0.855,
           0.855
          ]
         },
         "hovertemplate": "0=50.0<br>1=%{x}<br>2=%{y}<br>3=%{z}<extra></extra>",
         "legendgroup": "",
         "line": {
          "color": "#636efa",
          "dash": "solid"
         },
         "marker": {
          "symbol": "circle"
         },
         "mode": "lines",
         "name": "",
         "scene": "scene",
         "showlegend": false,
         "type": "scatter3d",
         "x": [
          120.88977,
          116.14616
         ],
         "y": [
          101.01403,
          101.00517
         ],
         "z": [
          78.943016,
          79.92267
         ]
        },
        {
         "error_x": {
          "array": [
           0.97375,
           0.97375
          ]
         },
         "error_y": {
          "array": [
           0.97375,
           0.97375
          ]
         },
         "error_z": {
          "array": [
           0.97375,
           0.97375
          ]
         },
         "hovertemplate": "0=51.0<br>1=%{x}<br>2=%{y}<br>3=%{z}<extra></extra>",
         "legendgroup": "",
         "line": {
          "color": "#636efa",
          "dash": "solid"
         },
         "marker": {
          "symbol": "circle"
         },
         "mode": "lines",
         "name": "",
         "scene": "scene",
         "showlegend": false,
         "type": "scatter3d",
         "x": [
          116.14616,
          111.47015
         ],
         "y": [
          101.00517,
          100.25322
         ],
         "z": [
          79.92267,
          80.75713
         ]
        },
        {
         "error_x": {
          "array": [
           0.76,
           0.76
          ]
         },
         "error_y": {
          "array": [
           0.76,
           0.76
          ]
         },
         "error_z": {
          "array": [
           0.76,
           0.76
          ]
         },
         "hovertemplate": "0=52.0<br>1=%{x}<br>2=%{y}<br>3=%{z}<extra></extra>",
         "legendgroup": "",
         "line": {
          "color": "#636efa",
          "dash": "solid"
         },
         "marker": {
          "symbol": "circle"
         },
         "mode": "lines",
         "name": "",
         "scene": "scene",
         "showlegend": false,
         "type": "scatter3d",
         "x": [
          111.47015,
          107.63986
         ],
         "y": [
          100.25322,
          99.45664
         ],
         "z": [
          80.75713,
          82.811485
         ]
        },
        {
         "error_x": {
          "array": [
           0.9025,
           0.9025
          ]
         },
         "error_y": {
          "array": [
           0.9025,
           0.9025
          ]
         },
         "error_z": {
          "array": [
           0.9025,
           0.9025
          ]
         },
         "hovertemplate": "0=53.0<br>1=%{x}<br>2=%{y}<br>3=%{z}<extra></extra>",
         "legendgroup": "",
         "line": {
          "color": "#636efa",
          "dash": "solid"
         },
         "marker": {
          "symbol": "circle"
         },
         "mode": "lines",
         "name": "",
         "scene": "scene",
         "showlegend": false,
         "type": "scatter3d",
         "x": [
          107.63986,
          103.48933
         ],
         "y": [
          99.45664,
          97.76976
         ],
         "z": [
          82.811485,
          84.81541
         ]
        },
        {
         "error_x": {
          "array": [
           0.76,
           0.76
          ]
         },
         "error_y": {
          "array": [
           0.76,
           0.76
          ]
         },
         "error_z": {
          "array": [
           0.76,
           0.76
          ]
         },
         "hovertemplate": "0=54.0<br>1=%{x}<br>2=%{y}<br>3=%{z}<extra></extra>",
         "legendgroup": "",
         "line": {
          "color": "#636efa",
          "dash": "solid"
         },
         "marker": {
          "symbol": "circle"
         },
         "mode": "lines",
         "name": "",
         "scene": "scene",
         "showlegend": false,
         "type": "scatter3d",
         "x": [
          103.48933,
          98.94794
         ],
         "y": [
          97.76976,
          96.28273
         ],
         "z": [
          84.81541,
          85.86579
         ]
        },
        {
         "error_x": {
          "array": [
           1.14,
           1.14
          ]
         },
         "error_y": {
          "array": [
           1.14,
           1.14
          ]
         },
         "error_z": {
          "array": [
           1.14,
           1.14
          ]
         },
         "hovertemplate": "0=55.0<br>1=%{x}<br>2=%{y}<br>3=%{z}<extra></extra>",
         "legendgroup": "",
         "line": {
          "color": "#636efa",
          "dash": "solid"
         },
         "marker": {
          "symbol": "circle"
         },
         "mode": "lines",
         "name": "",
         "scene": "scene",
         "showlegend": false,
         "type": "scatter3d",
         "x": [
          98.94794,
          94.21584
         ],
         "y": [
          96.28273,
          94.67753
         ],
         "z": [
          85.86579,
          85.81767
         ]
        },
        {
         "error_x": {
          "array": [
           0.78375,
           0.78375
          ]
         },
         "error_y": {
          "array": [
           0.78375,
           0.78375
          ]
         },
         "error_z": {
          "array": [
           0.78375,
           0.78375
          ]
         },
         "hovertemplate": "0=56.0<br>1=%{x}<br>2=%{y}<br>3=%{z}<extra></extra>",
         "legendgroup": "",
         "line": {
          "color": "#636efa",
          "dash": "solid"
         },
         "marker": {
          "symbol": "circle"
         },
         "mode": "lines",
         "name": "",
         "scene": "scene",
         "showlegend": false,
         "type": "scatter3d",
         "x": [
          94.21584,
          89.6566
         ],
         "y": [
          94.67753,
          92.7299
         ],
         "z": [
          85.81767,
          85.79529
         ]
        },
        {
         "error_x": {
          "array": [
           0.9025,
           0.9025
          ]
         },
         "error_y": {
          "array": [
           0.9025,
           0.9025
          ]
         },
         "error_z": {
          "array": [
           0.9025,
           0.9025
          ]
         },
         "hovertemplate": "0=57.0<br>1=%{x}<br>2=%{y}<br>3=%{z}<extra></extra>",
         "legendgroup": "",
         "line": {
          "color": "#636efa",
          "dash": "solid"
         },
         "marker": {
          "symbol": "circle"
         },
         "mode": "lines",
         "name": "",
         "scene": "scene",
         "showlegend": false,
         "type": "scatter3d",
         "x": [
          89.6566,
          84.82734
         ],
         "y": [
          92.7299,
          92.082825
         ],
         "z": [
          85.79529,
          85.878235
         ]
        },
        {
         "error_x": {
          "array": [
           0.855,
           0.855
          ]
         },
         "error_y": {
          "array": [
           0.855,
           0.855
          ]
         },
         "error_z": {
          "array": [
           0.855,
           0.855
          ]
         },
         "hovertemplate": "0=58.0<br>1=%{x}<br>2=%{y}<br>3=%{z}<extra></extra>",
         "legendgroup": "",
         "line": {
          "color": "#636efa",
          "dash": "solid"
         },
         "marker": {
          "symbol": "circle"
         },
         "mode": "lines",
         "name": "",
         "scene": "scene",
         "showlegend": false,
         "type": "scatter3d",
         "x": [
          84.82734,
          80.93327
         ],
         "y": [
          92.082825,
          93.407974
         ],
         "z": [
          85.878235,
          88.136955
         ]
        },
        {
         "error_x": {
          "array": [
           0.78375,
           0.78375
          ]
         },
         "error_y": {
          "array": [
           0.78375,
           0.78375
          ]
         },
         "error_z": {
          "array": [
           0.78375,
           0.78375
          ]
         },
         "hovertemplate": "0=59.0<br>1=%{x}<br>2=%{y}<br>3=%{z}<extra></extra>",
         "legendgroup": "",
         "line": {
          "color": "#636efa",
          "dash": "solid"
         },
         "marker": {
          "symbol": "circle"
         },
         "mode": "lines",
         "name": "",
         "scene": "scene",
         "showlegend": false,
         "type": "scatter3d",
         "x": [
          80.93327,
          76.73592
         ],
         "y": [
          93.407974,
          92.121704
         ],
         "z": [
          88.136955,
          89.994
         ]
        },
        {
         "error_x": {
          "array": [
           1.14,
           1.14
          ]
         },
         "error_y": {
          "array": [
           1.14,
           1.14
          ]
         },
         "error_z": {
          "array": [
           1.14,
           1.14
          ]
         },
         "hovertemplate": "0=60.0<br>1=%{x}<br>2=%{y}<br>3=%{z}<extra></extra>",
         "legendgroup": "",
         "line": {
          "color": "#636efa",
          "dash": "solid"
         },
         "marker": {
          "symbol": "circle"
         },
         "mode": "lines",
         "name": "",
         "scene": "scene",
         "showlegend": false,
         "type": "scatter3d",
         "x": [
          76.73592,
          72.09481
         ],
         "y": [
          92.121704,
          90.38727
         ],
         "z": [
          89.994,
          90.05633
         ]
        },
        {
         "error_x": {
          "array": [
           0.9975,
           0.9975
          ]
         },
         "error_y": {
          "array": [
           0.9975,
           0.9975
          ]
         },
         "error_z": {
          "array": [
           0.9975,
           0.9975
          ]
         },
         "hovertemplate": "0=61.0<br>1=%{x}<br>2=%{y}<br>3=%{z}<extra></extra>",
         "legendgroup": "",
         "line": {
          "color": "#636efa",
          "dash": "solid"
         },
         "marker": {
          "symbol": "circle"
         },
         "mode": "lines",
         "name": "",
         "scene": "scene",
         "showlegend": false,
         "type": "scatter3d",
         "x": [
          72.09481,
          68.08775
         ],
         "y": [
          90.38727,
          87.72435
         ],
         "z": [
          90.05633,
          89.424484
         ]
        },
        {
         "error_x": {
          "array": [
           1.11625,
           1.11625
          ]
         },
         "error_y": {
          "array": [
           1.11625,
           1.11625
          ]
         },
         "error_z": {
          "array": [
           1.11625,
           1.11625
          ]
         },
         "hovertemplate": "0=62.0<br>1=%{x}<br>2=%{y}<br>3=%{z}<extra></extra>",
         "legendgroup": "",
         "line": {
          "color": "#636efa",
          "dash": "solid"
         },
         "marker": {
          "symbol": "circle"
         },
         "mode": "lines",
         "name": "",
         "scene": "scene",
         "showlegend": false,
         "type": "scatter3d",
         "x": [
          68.08775,
          64.01044
         ],
         "y": [
          87.72435,
          85.09583
         ],
         "z": [
          89.424484,
          88.78968
         ]
        },
        {
         "error_x": {
          "array": [
           1.06875,
           1.06875
          ]
         },
         "error_y": {
          "array": [
           1.06875,
           1.06875
          ]
         },
         "error_z": {
          "array": [
           1.06875,
           1.06875
          ]
         },
         "hovertemplate": "0=63.0<br>1=%{x}<br>2=%{y}<br>3=%{z}<extra></extra>",
         "legendgroup": "",
         "line": {
          "color": "#636efa",
          "dash": "solid"
         },
         "marker": {
          "symbol": "circle"
         },
         "mode": "lines",
         "name": "",
         "scene": "scene",
         "showlegend": false,
         "type": "scatter3d",
         "x": [
          64.01044,
          59.77245
         ],
         "y": [
          85.09583,
          83.376366
         ],
         "z": [
          88.78968,
          90.481705
         ]
        },
        {
         "error_x": {
          "array": [
           1.11625,
           1.11625
          ]
         },
         "error_y": {
          "array": [
           1.11625,
           1.11625
          ]
         },
         "error_z": {
          "array": [
           1.11625,
           1.11625
          ]
         },
         "hovertemplate": "0=64.0<br>1=%{x}<br>2=%{y}<br>3=%{z}<extra></extra>",
         "legendgroup": "",
         "line": {
          "color": "#636efa",
          "dash": "solid"
         },
         "marker": {
          "symbol": "circle"
         },
         "mode": "lines",
         "name": "",
         "scene": "scene",
         "showlegend": false,
         "type": "scatter3d",
         "x": [
          59.77245,
          55.643044
         ],
         "y": [
          83.376366,
          80.83979
         ],
         "z": [
          90.481705,
          91.23056
         ]
        },
        {
         "error_x": {
          "array": [
           0.83125,
           0.83125
          ]
         },
         "error_y": {
          "array": [
           0.83125,
           0.83125
          ]
         },
         "error_z": {
          "array": [
           0.83125,
           0.83125
          ]
         },
         "hovertemplate": "0=65.0<br>1=%{x}<br>2=%{y}<br>3=%{z}<extra></extra>",
         "legendgroup": "",
         "line": {
          "color": "#636efa",
          "dash": "solid"
         },
         "marker": {
          "symbol": "circle"
         },
         "mode": "lines",
         "name": "",
         "scene": "scene",
         "showlegend": false,
         "type": "scatter3d",
         "x": [
          55.643044,
          51.317623
         ],
         "y": [
          80.83979,
          78.64244
         ],
         "z": [
          91.23056,
          91.781
         ]
        },
        {
         "error_x": {
          "array": [
           0.92625,
           0.92625
          ]
         },
         "error_y": {
          "array": [
           0.92625,
           0.92625
          ]
         },
         "error_z": {
          "array": [
           0.92625,
           0.92625
          ]
         },
         "hovertemplate": "0=66.0<br>1=%{x}<br>2=%{y}<br>3=%{z}<extra></extra>",
         "legendgroup": "",
         "line": {
          "color": "#636efa",
          "dash": "solid"
         },
         "marker": {
          "symbol": "circle"
         },
         "mode": "lines",
         "name": "",
         "scene": "scene",
         "showlegend": false,
         "type": "scatter3d",
         "x": [
          51.317623,
          46.60474
         ],
         "y": [
          78.64244,
          76.987045
         ],
         "z": [
          91.781,
          91.80879
         ]
        },
        {
         "error_x": {
          "array": [
           0.92625,
           0.92625
          ]
         },
         "error_y": {
          "array": [
           0.92625,
           0.92625
          ]
         },
         "error_z": {
          "array": [
           0.92625,
           0.92625
          ]
         },
         "hovertemplate": "0=67.0<br>1=%{x}<br>2=%{y}<br>3=%{z}<extra></extra>",
         "legendgroup": "",
         "line": {
          "color": "#636efa",
          "dash": "solid"
         },
         "marker": {
          "symbol": "circle"
         },
         "mode": "lines",
         "name": "",
         "scene": "scene",
         "showlegend": false,
         "type": "scatter3d",
         "x": [
          46.60474,
          41.89039
         ],
         "y": [
          76.987045,
          75.732086
         ],
         "z": [
          91.80879,
          91.919
         ]
        },
        {
         "error_x": {
          "array": [
           0.76,
           0.76
          ]
         },
         "error_y": {
          "array": [
           0.76,
           0.76
          ]
         },
         "error_z": {
          "array": [
           0.76,
           0.76
          ]
         },
         "hovertemplate": "0=68.0<br>1=%{x}<br>2=%{y}<br>3=%{z}<extra></extra>",
         "legendgroup": "",
         "line": {
          "color": "#636efa",
          "dash": "solid"
         },
         "marker": {
          "symbol": "circle"
         },
         "mode": "lines",
         "name": "",
         "scene": "scene",
         "showlegend": false,
         "type": "scatter3d",
         "x": [
          41.89039,
          37.37208
         ],
         "y": [
          75.732086,
          74.11836
         ],
         "z": [
          91.919,
          92.40456
         ]
        },
        {
         "error_x": {
          "array": [
           1.045,
           1.045
          ]
         },
         "error_y": {
          "array": [
           1.045,
           1.045
          ]
         },
         "error_z": {
          "array": [
           1.045,
           1.045
          ]
         },
         "hovertemplate": "0=69.0<br>1=%{x}<br>2=%{y}<br>3=%{z}<extra></extra>",
         "legendgroup": "",
         "line": {
          "color": "#636efa",
          "dash": "solid"
         },
         "marker": {
          "symbol": "circle"
         },
         "mode": "lines",
         "name": "",
         "scene": "scene",
         "showlegend": false,
         "type": "scatter3d",
         "x": [
          37.37208,
          32.8176
         ],
         "y": [
          74.11836,
          72.36274
         ],
         "z": [
          92.40456,
          92.99486
         ]
        },
        {
         "error_x": {
          "array": [
           0.78375,
           0.78375
          ]
         },
         "error_y": {
          "array": [
           0.78375,
           0.78375
          ]
         },
         "error_z": {
          "array": [
           0.78375,
           0.78375
          ]
         },
         "hovertemplate": "0=70.0<br>1=%{x}<br>2=%{y}<br>3=%{z}<extra></extra>",
         "legendgroup": "",
         "line": {
          "color": "#636efa",
          "dash": "solid"
         },
         "marker": {
          "symbol": "circle"
         },
         "mode": "lines",
         "name": "",
         "scene": "scene",
         "showlegend": false,
         "type": "scatter3d",
         "x": [
          32.8176,
          28.521826
         ],
         "y": [
          72.36274,
          70.85686
         ],
         "z": [
          92.99486,
          91.82236
         ]
        },
        {
         "error_x": {
          "array": [
           0.855,
           0.855
          ]
         },
         "error_y": {
          "array": [
           0.855,
           0.855
          ]
         },
         "error_z": {
          "array": [
           0.855,
           0.855
          ]
         },
         "hovertemplate": "0=71.0<br>1=%{x}<br>2=%{y}<br>3=%{z}<extra></extra>",
         "legendgroup": "",
         "line": {
          "color": "#636efa",
          "dash": "solid"
         },
         "marker": {
          "symbol": "circle"
         },
         "mode": "lines",
         "name": "",
         "scene": "scene",
         "showlegend": false,
         "type": "scatter3d",
         "x": [
          28.521826,
          23.952576
         ],
         "y": [
          70.85686,
          69.14492
         ],
         "z": [
          91.82236,
          91.11651
         ]
        },
        {
         "error_x": {
          "array": [
           0.92625,
           0.92625
          ]
         },
         "error_y": {
          "array": [
           0.92625,
           0.92625
          ]
         },
         "error_z": {
          "array": [
           0.92625,
           0.92625
          ]
         },
         "hovertemplate": "0=72.0<br>1=%{x}<br>2=%{y}<br>3=%{z}<extra></extra>",
         "legendgroup": "",
         "line": {
          "color": "#636efa",
          "dash": "solid"
         },
         "marker": {
          "symbol": "circle"
         },
         "mode": "lines",
         "name": "",
         "scene": "scene",
         "showlegend": false,
         "type": "scatter3d",
         "x": [
          23.952576,
          19.277128
         ],
         "y": [
          69.14492,
          67.96416
         ],
         "z": [
          91.11651,
          90.4774
         ]
        },
        {
         "error_x": {
          "array": [
           0.78375,
           0.78375
          ]
         },
         "error_y": {
          "array": [
           0.78375,
           0.78375
          ]
         },
         "error_z": {
          "array": [
           0.78375,
           0.78375
          ]
         },
         "hovertemplate": "0=73.0<br>1=%{x}<br>2=%{y}<br>3=%{z}<extra></extra>",
         "legendgroup": "",
         "line": {
          "color": "#636efa",
          "dash": "solid"
         },
         "marker": {
          "symbol": "circle"
         },
         "mode": "lines",
         "name": "",
         "scene": "scene",
         "showlegend": false,
         "type": "scatter3d",
         "x": [
          19.277128,
          14.622624
         ],
         "y": [
          67.96416,
          66.87224
         ],
         "z": [
          90.4774,
          89.39902
         ]
        },
        {
         "error_x": {
          "array": [
           0.83125,
           0.83125
          ]
         },
         "error_y": {
          "array": [
           0.83125,
           0.83125
          ]
         },
         "error_z": {
          "array": [
           0.83125,
           0.83125
          ]
         },
         "hovertemplate": "0=74.0<br>1=%{x}<br>2=%{y}<br>3=%{z}<extra></extra>",
         "legendgroup": "",
         "line": {
          "color": "#636efa",
          "dash": "solid"
         },
         "marker": {
          "symbol": "circle"
         },
         "mode": "lines",
         "name": "",
         "scene": "scene",
         "showlegend": false,
         "type": "scatter3d",
         "x": [
          14.622624,
          9.757445
         ],
         "y": [
          66.87224,
          65.83266
         ],
         "z": [
          89.39902,
          89.36822
         ]
        },
        {
         "error_x": {
          "array": [
           0.78375,
           0.78375
          ]
         },
         "error_y": {
          "array": [
           0.78375,
           0.78375
          ]
         },
         "error_z": {
          "array": [
           0.78375,
           0.78375
          ]
         },
         "hovertemplate": "0=75.0<br>1=%{x}<br>2=%{y}<br>3=%{z}<extra></extra>",
         "legendgroup": "",
         "line": {
          "color": "#636efa",
          "dash": "solid"
         },
         "marker": {
          "symbol": "circle"
         },
         "mode": "lines",
         "name": "",
         "scene": "scene",
         "showlegend": false,
         "type": "scatter3d",
         "x": [
          9.757445,
          5.065181
         ],
         "y": [
          65.83266,
          65.81754
         ],
         "z": [
          89.36822,
          88.1706
         ]
        },
        {
         "error_x": {
          "array": [
           0.87875,
           0.87875
          ]
         },
         "error_y": {
          "array": [
           0.87875,
           0.87875
          ]
         },
         "error_z": {
          "array": [
           0.87875,
           0.87875
          ]
         },
         "hovertemplate": "0=76.0<br>1=%{x}<br>2=%{y}<br>3=%{z}<extra></extra>",
         "legendgroup": "",
         "line": {
          "color": "#636efa",
          "dash": "solid"
         },
         "marker": {
          "symbol": "circle"
         },
         "mode": "lines",
         "name": "",
         "scene": "scene",
         "showlegend": false,
         "type": "scatter3d",
         "x": [
          5.065181,
          0.37548545
         ],
         "y": [
          65.81754,
          65.52655
         ],
         "z": [
          88.1706,
          86.78876
         ]
        },
        {
         "error_x": {
          "array": [
           6.08,
           6.08
          ]
         },
         "error_y": {
          "array": [
           6.08,
           6.08
          ]
         },
         "error_z": {
          "array": [
           6.08,
           6.08
          ]
         },
         "hovertemplate": "0=77.0<br>1=%{x}<br>2=%{y}<br>3=%{z}<extra></extra>",
         "legendgroup": "",
         "line": {
          "color": "#636efa",
          "dash": "solid"
         },
         "marker": {
          "symbol": "circle"
         },
         "mode": "lines",
         "name": "",
         "scene": "scene",
         "showlegend": false,
         "type": "scatter3d",
         "x": [
          100.0331,
          99.500984
         ],
         "y": [
          117.0343,
          117.175804
         ],
         "z": [
          64.0716,
          59.84744
         ]
        },
        {
         "error_x": {
          "array": [
           1.9,
           1.9
          ]
         },
         "error_y": {
          "array": [
           1.9,
           1.9
          ]
         },
         "error_z": {
          "array": [
           1.9,
           1.9
          ]
         },
         "hovertemplate": "0=78.0<br>1=%{x}<br>2=%{y}<br>3=%{z}<extra></extra>",
         "legendgroup": "",
         "line": {
          "color": "#636efa",
          "dash": "solid"
         },
         "marker": {
          "symbol": "circle"
         },
         "mode": "lines",
         "name": "",
         "scene": "scene",
         "showlegend": false,
         "type": "scatter3d",
         "x": [
          99.500984,
          98.991035
         ],
         "y": [
          117.175804,
          117.04462
         ],
         "z": [
          59.84744,
          54.89241
         ]
        },
        {
         "error_x": {
          "array": [
           1.9,
           1.9
          ]
         },
         "error_y": {
          "array": [
           1.9,
           1.9
          ]
         },
         "error_z": {
          "array": [
           1.9,
           1.9
          ]
         },
         "hovertemplate": "0=79.0<br>1=%{x}<br>2=%{y}<br>3=%{z}<extra></extra>",
         "legendgroup": "",
         "line": {
          "color": "#636efa",
          "dash": "solid"
         },
         "marker": {
          "symbol": "circle"
         },
         "mode": "lines",
         "name": "",
         "scene": "scene",
         "showlegend": false,
         "type": "scatter3d",
         "x": [
          98.991035,
          97.46173
         ],
         "y": [
          117.04462,
          117.13632
         ],
         "z": [
          54.89241,
          50.397408
         ]
        },
        {
         "error_x": {
          "array": [
           4.9875,
           4.9875
          ]
         },
         "error_y": {
          "array": [
           4.9875,
           4.9875
          ]
         },
         "error_z": {
          "array": [
           4.9875,
           4.9875
          ]
         },
         "hovertemplate": "0=80.0<br>1=%{x}<br>2=%{y}<br>3=%{z}<extra></extra>",
         "legendgroup": "",
         "line": {
          "color": "#636efa",
          "dash": "solid"
         },
         "marker": {
          "symbol": "circle"
         },
         "mode": "lines",
         "name": "",
         "scene": "scene",
         "showlegend": false,
         "type": "scatter3d",
         "x": [
          97.46173,
          96.732605
         ],
         "y": [
          117.13632,
          117.02987
         ],
         "z": [
          50.397408,
          46.346184
         ]
        },
        {
         "error_x": {
          "array": [
           4.9875,
           4.9875
          ]
         },
         "error_y": {
          "array": [
           4.9875,
           4.9875
          ]
         },
         "error_z": {
          "array": [
           4.9875,
           4.9875
          ]
         },
         "hovertemplate": "0=81.0<br>1=%{x}<br>2=%{y}<br>3=%{z}<extra></extra>",
         "legendgroup": "",
         "line": {
          "color": "#636efa",
          "dash": "solid"
         },
         "marker": {
          "symbol": "circle"
         },
         "mode": "lines",
         "name": "",
         "scene": "scene",
         "showlegend": false,
         "type": "scatter3d",
         "x": [
          96.732605,
          98.06016
         ],
         "y": [
          117.02987,
          118.0089
         ],
         "z": [
          46.346184,
          42.213345
         ]
        },
        {
         "error_x": {
          "array": [
           3.15875,
           3.15875
          ]
         },
         "error_y": {
          "array": [
           3.15875,
           3.15875
          ]
         },
         "error_z": {
          "array": [
           3.15875,
           3.15875
          ]
         },
         "hovertemplate": "0=82.0<br>1=%{x}<br>2=%{y}<br>3=%{z}<extra></extra>",
         "legendgroup": "",
         "line": {
          "color": "#636efa",
          "dash": "solid"
         },
         "marker": {
          "symbol": "circle"
         },
         "mode": "lines",
         "name": "",
         "scene": "scene",
         "showlegend": false,
         "type": "scatter3d",
         "x": [
          98.06016,
          100.72381
         ],
         "y": [
          118.0089,
          119.737854
         ],
         "z": [
          42.213345,
          39.27035
         ]
        },
        {
         "error_x": {
          "array": [
           1.59125,
           1.59125
          ]
         },
         "error_y": {
          "array": [
           1.59125,
           1.59125
          ]
         },
         "error_z": {
          "array": [
           1.59125,
           1.59125
          ]
         },
         "hovertemplate": "0=83.0<br>1=%{x}<br>2=%{y}<br>3=%{z}<extra></extra>",
         "legendgroup": "",
         "line": {
          "color": "#636efa",
          "dash": "solid"
         },
         "marker": {
          "symbol": "circle"
         },
         "mode": "lines",
         "name": "",
         "scene": "scene",
         "showlegend": false,
         "type": "scatter3d",
         "x": [
          100.72381,
          100.92999
         ],
         "y": [
          119.737854,
          123.43514
         ],
         "z": [
          39.27035,
          36.604088
         ]
        },
        {
         "error_x": {
          "array": [
           1.59125,
           1.59125
          ]
         },
         "error_y": {
          "array": [
           1.59125,
           1.59125
          ]
         },
         "error_z": {
          "array": [
           1.59125,
           1.59125
          ]
         },
         "hovertemplate": "0=84.0<br>1=%{x}<br>2=%{y}<br>3=%{z}<extra></extra>",
         "legendgroup": "",
         "line": {
          "color": "#636efa",
          "dash": "solid"
         },
         "marker": {
          "symbol": "circle"
         },
         "mode": "lines",
         "name": "",
         "scene": "scene",
         "showlegend": false,
         "type": "scatter3d",
         "x": [
          100.92999,
          100.02584
         ],
         "y": [
          123.43514,
          125.90411
         ],
         "z": [
          36.604088,
          32.63682
         ]
        },
        {
         "error_x": {
          "array": [
           1.615,
           1.615
          ]
         },
         "error_y": {
          "array": [
           1.615,
           1.615
          ]
         },
         "error_z": {
          "array": [
           1.615,
           1.615
          ]
         },
         "hovertemplate": "0=85.0<br>1=%{x}<br>2=%{y}<br>3=%{z}<extra></extra>",
         "legendgroup": "",
         "line": {
          "color": "#636efa",
          "dash": "solid"
         },
         "marker": {
          "symbol": "circle"
         },
         "mode": "lines",
         "name": "",
         "scene": "scene",
         "showlegend": false,
         "type": "scatter3d",
         "x": [
          100.02584,
          99.28664
         ],
         "y": [
          125.90411,
          128.6306
         ],
         "z": [
          32.63682,
          29.124535
         ]
        },
        {
         "error_x": {
          "array": [
           1.73375,
           1.73375
          ]
         },
         "error_y": {
          "array": [
           1.73375,
           1.73375
          ]
         },
         "error_z": {
          "array": [
           1.73375,
           1.73375
          ]
         },
         "hovertemplate": "0=86.0<br>1=%{x}<br>2=%{y}<br>3=%{z}<extra></extra>",
         "legendgroup": "",
         "line": {
          "color": "#636efa",
          "dash": "solid"
         },
         "marker": {
          "symbol": "circle"
         },
         "mode": "lines",
         "name": "",
         "scene": "scene",
         "showlegend": false,
         "type": "scatter3d",
         "x": [
          99.28664,
          96.99186
         ],
         "y": [
          128.6306,
          132.73946
         ],
         "z": [
          29.124535,
          27.890474
         ]
        },
        {
         "error_x": {
          "array": [
           2.11375,
           2.11375
          ]
         },
         "error_y": {
          "array": [
           2.11375,
           2.11375
          ]
         },
         "error_z": {
          "array": [
           2.11375,
           2.11375
          ]
         },
         "hovertemplate": "0=87.0<br>1=%{x}<br>2=%{y}<br>3=%{z}<extra></extra>",
         "legendgroup": "",
         "line": {
          "color": "#636efa",
          "dash": "solid"
         },
         "marker": {
          "symbol": "circle"
         },
         "mode": "lines",
         "name": "",
         "scene": "scene",
         "showlegend": false,
         "type": "scatter3d",
         "x": [
          96.99186,
          95.003815
         ],
         "y": [
          132.73946,
          137.02176
         ],
         "z": [
          27.890474,
          26.631273
         ]
        },
        {
         "error_x": {
          "array": [
           1.8525,
           1.8525
          ]
         },
         "error_y": {
          "array": [
           1.8525,
           1.8525
          ]
         },
         "error_z": {
          "array": [
           1.8525,
           1.8525
          ]
         },
         "hovertemplate": "0=88.0<br>1=%{x}<br>2=%{y}<br>3=%{z}<extra></extra>",
         "legendgroup": "",
         "line": {
          "color": "#636efa",
          "dash": "solid"
         },
         "marker": {
          "symbol": "circle"
         },
         "mode": "lines",
         "name": "",
         "scene": "scene",
         "showlegend": false,
         "type": "scatter3d",
         "x": [
          95.003815,
          93.05427
         ],
         "y": [
          137.02176,
          140.7946
         ],
         "z": [
          26.631273,
          24.764526
         ]
        },
        {
         "error_x": {
          "array": [
           1.995,
           1.995
          ]
         },
         "error_y": {
          "array": [
           1.995,
           1.995
          ]
         },
         "error_z": {
          "array": [
           1.995,
           1.995
          ]
         },
         "hovertemplate": "0=89.0<br>1=%{x}<br>2=%{y}<br>3=%{z}<extra></extra>",
         "legendgroup": "",
         "line": {
          "color": "#636efa",
          "dash": "solid"
         },
         "marker": {
          "symbol": "circle"
         },
         "mode": "lines",
         "name": "",
         "scene": "scene",
         "showlegend": false,
         "type": "scatter3d",
         "x": [
          93.05427,
          92.08815
         ],
         "y": [
          140.7946,
          142.3108
         ],
         "z": [
          24.764526,
          20.353004
         ]
        },
        {
         "error_x": {
          "array": [
           1.995,
           1.995
          ]
         },
         "error_y": {
          "array": [
           1.995,
           1.995
          ]
         },
         "error_z": {
          "array": [
           1.995,
           1.995
          ]
         },
         "hovertemplate": "0=90.0<br>1=%{x}<br>2=%{y}<br>3=%{z}<extra></extra>",
         "legendgroup": "",
         "line": {
          "color": "#636efa",
          "dash": "solid"
         },
         "marker": {
          "symbol": "circle"
         },
         "mode": "lines",
         "name": "",
         "scene": "scene",
         "showlegend": false,
         "type": "scatter3d",
         "x": [
          92.08815,
          90.63472
         ],
         "y": [
          142.3108,
          143.18094
         ],
         "z": [
          20.353004,
          16.297527
         ]
        },
        {
         "error_x": {
          "array": [
           1.7575,
           1.7575
          ]
         },
         "error_y": {
          "array": [
           1.7575,
           1.7575
          ]
         },
         "error_z": {
          "array": [
           1.7575,
           1.7575
          ]
         },
         "hovertemplate": "0=91.0<br>1=%{x}<br>2=%{y}<br>3=%{z}<extra></extra>",
         "legendgroup": "",
         "line": {
          "color": "#636efa",
          "dash": "solid"
         },
         "marker": {
          "symbol": "circle"
         },
         "mode": "lines",
         "name": "",
         "scene": "scene",
         "showlegend": false,
         "type": "scatter3d",
         "x": [
          90.63472,
          87.10024
         ],
         "y": [
          143.18094,
          146.35237
         ],
         "z": [
          16.297527,
          15.686437
         ]
        },
        {
         "error_x": {
          "array": [
           1.92375,
           1.92375
          ]
         },
         "error_y": {
          "array": [
           1.92375,
           1.92375
          ]
         },
         "error_z": {
          "array": [
           1.92375,
           1.92375
          ]
         },
         "hovertemplate": "0=92.0<br>1=%{x}<br>2=%{y}<br>3=%{z}<extra></extra>",
         "legendgroup": "",
         "line": {
          "color": "#636efa",
          "dash": "solid"
         },
         "marker": {
          "symbol": "circle"
         },
         "mode": "lines",
         "name": "",
         "scene": "scene",
         "showlegend": false,
         "type": "scatter3d",
         "x": [
          87.10024,
          83.48728
         ],
         "y": [
          146.35237,
          149.57841
         ],
         "z": [
          15.686437,
          15.202836
         ]
        },
        {
         "error_x": {
          "array": [
           1.87625,
           1.87625
          ]
         },
         "error_y": {
          "array": [
           1.87625,
           1.87625
          ]
         },
         "error_z": {
          "array": [
           1.87625,
           1.87625
          ]
         },
         "hovertemplate": "0=93.0<br>1=%{x}<br>2=%{y}<br>3=%{z}<extra></extra>",
         "legendgroup": "",
         "line": {
          "color": "#636efa",
          "dash": "solid"
         },
         "marker": {
          "symbol": "circle"
         },
         "mode": "lines",
         "name": "",
         "scene": "scene",
         "showlegend": false,
         "type": "scatter3d",
         "x": [
          83.48728,
          81.60153
         ],
         "y": [
          149.57841,
          153.12468
         ],
         "z": [
          15.202836,
          12.565319
         ]
        },
        {
         "error_x": {
          "array": [
           2.35125,
           2.35125
          ]
         },
         "error_y": {
          "array": [
           2.35125,
           2.35125
          ]
         },
         "error_z": {
          "array": [
           2.35125,
           2.35125
          ]
         },
         "hovertemplate": "0=94.0<br>1=%{x}<br>2=%{y}<br>3=%{z}<extra></extra>",
         "legendgroup": "",
         "line": {
          "color": "#636efa",
          "dash": "solid"
         },
         "marker": {
          "symbol": "circle"
         },
         "mode": "lines",
         "name": "",
         "scene": "scene",
         "showlegend": false,
         "type": "scatter3d",
         "x": [
          81.60153,
          79.46671
         ],
         "y": [
          153.12468,
          155.22899
         ],
         "z": [
          12.565319,
          9.260741
         ]
        },
        {
         "error_x": {
          "array": [
           2.66,
           2.66
          ]
         },
         "error_y": {
          "array": [
           2.66,
           2.66
          ]
         },
         "error_z": {
          "array": [
           2.66,
           2.66
          ]
         },
         "hovertemplate": "0=95.0<br>1=%{x}<br>2=%{y}<br>3=%{z}<extra></extra>",
         "legendgroup": "",
         "line": {
          "color": "#636efa",
          "dash": "solid"
         },
         "marker": {
          "symbol": "circle"
         },
         "mode": "lines",
         "name": "",
         "scene": "scene",
         "showlegend": false,
         "type": "scatter3d",
         "x": [
          100.72381,
          103.156944
         ],
         "y": [
          119.737854,
          121.30524
         ],
         "z": [
          39.27035,
          35.585514
         ]
        },
        {
         "error_x": {
          "array": [
           2.66,
           2.66
          ]
         },
         "error_y": {
          "array": [
           2.66,
           2.66
          ]
         },
         "error_z": {
          "array": [
           2.66,
           2.66
          ]
         },
         "hovertemplate": "0=96.0<br>1=%{x}<br>2=%{y}<br>3=%{z}<extra></extra>",
         "legendgroup": "",
         "line": {
          "color": "#636efa",
          "dash": "solid"
         },
         "marker": {
          "symbol": "circle"
         },
         "mode": "lines",
         "name": "",
         "scene": "scene",
         "showlegend": false,
         "type": "scatter3d",
         "x": [
          103.156944,
          106.996864
         ],
         "y": [
          121.30524,
          122.85052
         ],
         "z": [
          35.585514,
          33.768246
         ]
        },
        {
         "error_x": {
          "array": [
           2.28,
           2.28
          ]
         },
         "error_y": {
          "array": [
           2.28,
           2.28
          ]
         },
         "error_z": {
          "array": [
           2.28,
           2.28
          ]
         },
         "hovertemplate": "0=97.0<br>1=%{x}<br>2=%{y}<br>3=%{z}<extra></extra>",
         "legendgroup": "",
         "line": {
          "color": "#636efa",
          "dash": "solid"
         },
         "marker": {
          "symbol": "circle"
         },
         "mode": "lines",
         "name": "",
         "scene": "scene",
         "showlegend": false,
         "type": "scatter3d",
         "x": [
          106.996864,
          109.148766
         ],
         "y": [
          122.85052,
          125.224594
         ],
         "z": [
          33.768246,
          30.22409
         ]
        },
        {
         "error_x": {
          "array": [
           2.4225,
           2.4225
          ]
         },
         "error_y": {
          "array": [
           2.4225,
           2.4225
          ]
         },
         "error_z": {
          "array": [
           2.4225,
           2.4225
          ]
         },
         "hovertemplate": "0=98.0<br>1=%{x}<br>2=%{y}<br>3=%{z}<extra></extra>",
         "legendgroup": "",
         "line": {
          "color": "#636efa",
          "dash": "solid"
         },
         "marker": {
          "symbol": "circle"
         },
         "mode": "lines",
         "name": "",
         "scene": "scene",
         "showlegend": false,
         "type": "scatter3d",
         "x": [
          109.148766,
          110.64164
         ],
         "y": [
          125.224594,
          129.04732
         ],
         "z": [
          30.22409,
          29.62083
         ]
        },
        {
         "error_x": {
          "array": [
           2.4225,
           2.4225
          ]
         },
         "error_y": {
          "array": [
           2.4225,
           2.4225
          ]
         },
         "error_z": {
          "array": [
           2.4225,
           2.4225
          ]
         },
         "hovertemplate": "0=99.0<br>1=%{x}<br>2=%{y}<br>3=%{z}<extra></extra>",
         "legendgroup": "",
         "line": {
          "color": "#636efa",
          "dash": "solid"
         },
         "marker": {
          "symbol": "circle"
         },
         "mode": "lines",
         "name": "",
         "scene": "scene",
         "showlegend": false,
         "type": "scatter3d",
         "x": [
          110.64164,
          111.529175
         ],
         "y": [
          129.04732,
          133.33562
         ],
         "z": [
          29.62083,
          28.170368
         ]
        },
        {
         "error_x": {
          "array": [
           2.47,
           2.47
          ]
         },
         "error_y": {
          "array": [
           2.47,
           2.47
          ]
         },
         "error_z": {
          "array": [
           2.47,
           2.47
          ]
         },
         "hovertemplate": "0=100.0<br>1=%{x}<br>2=%{y}<br>3=%{z}<extra></extra>",
         "legendgroup": "",
         "line": {
          "color": "#636efa",
          "dash": "solid"
         },
         "marker": {
          "symbol": "circle"
         },
         "mode": "lines",
         "name": "",
         "scene": "scene",
         "showlegend": false,
         "type": "scatter3d",
         "x": [
          111.529175,
          112.90348
         ],
         "y": [
          133.33562,
          138.0683
         ],
         "z": [
          28.170368,
          28.017675
         ]
        },
        {
         "error_x": {
          "array": [
           1.97125,
           1.97125
          ]
         },
         "error_y": {
          "array": [
           1.97125,
           1.97125
          ]
         },
         "error_z": {
          "array": [
           1.97125,
           1.97125
          ]
         },
         "hovertemplate": "0=101.0<br>1=%{x}<br>2=%{y}<br>3=%{z}<extra></extra>",
         "legendgroup": "",
         "line": {
          "color": "#636efa",
          "dash": "solid"
         },
         "marker": {
          "symbol": "circle"
         },
         "mode": "lines",
         "name": "",
         "scene": "scene",
         "showlegend": false,
         "type": "scatter3d",
         "x": [
          112.90348,
          115.21709
         ],
         "y": [
          138.0683,
          140.8446
         ],
         "z": [
          28.017675,
          25.456741
         ]
        },
        {
         "error_x": {
          "array": [
           2.20875,
           2.20875
          ]
         },
         "error_y": {
          "array": [
           2.20875,
           2.20875
          ]
         },
         "error_z": {
          "array": [
           2.20875,
           2.20875
          ]
         },
         "hovertemplate": "0=102.0<br>1=%{x}<br>2=%{y}<br>3=%{z}<extra></extra>",
         "legendgroup": "",
         "line": {
          "color": "#636efa",
          "dash": "solid"
         },
         "marker": {
          "symbol": "circle"
         },
         "mode": "lines",
         "name": "",
         "scene": "scene",
         "showlegend": false,
         "type": "scatter3d",
         "x": [
          115.21709,
          117.40047
         ],
         "y": [
          140.8446,
          143.46512
         ],
         "z": [
          25.456741,
          22.750874
         ]
        },
        {
         "error_x": {
          "array": [
           1.97125,
           1.97125
          ]
         },
         "error_y": {
          "array": [
           1.97125,
           1.97125
          ]
         },
         "error_z": {
          "array": [
           1.97125,
           1.97125
          ]
         },
         "hovertemplate": "0=103.0<br>1=%{x}<br>2=%{y}<br>3=%{z}<extra></extra>",
         "legendgroup": "",
         "line": {
          "color": "#636efa",
          "dash": "solid"
         },
         "marker": {
          "symbol": "circle"
         },
         "mode": "lines",
         "name": "",
         "scene": "scene",
         "showlegend": false,
         "type": "scatter3d",
         "x": [
          117.40047,
          120.70839
         ],
         "y": [
          143.46512,
          145.53702
         ],
         "z": [
          22.750874,
          20.167479
         ]
        },
        {
         "error_x": {
          "array": [
           2.565,
           2.565
          ]
         },
         "error_y": {
          "array": [
           2.565,
           2.565
          ]
         },
         "error_z": {
          "array": [
           2.565,
           2.565
          ]
         },
         "hovertemplate": "0=104.0<br>1=%{x}<br>2=%{y}<br>3=%{z}<extra></extra>",
         "legendgroup": "",
         "line": {
          "color": "#636efa",
          "dash": "solid"
         },
         "marker": {
          "symbol": "circle"
         },
         "mode": "lines",
         "name": "",
         "scene": "scene",
         "showlegend": false,
         "type": "scatter3d",
         "x": [
          120.70839,
          124.60582
         ],
         "y": [
          145.53702,
          147.883
         ],
         "z": [
          20.167479,
          18.913176
         ]
        },
        {
         "error_x": {
          "array": [
           1.8525,
           1.8525
          ]
         },
         "error_y": {
          "array": [
           1.8525,
           1.8525
          ]
         },
         "error_z": {
          "array": [
           1.8525,
           1.8525
          ]
         },
         "hovertemplate": "0=105.0<br>1=%{x}<br>2=%{y}<br>3=%{z}<extra></extra>",
         "legendgroup": "",
         "line": {
          "color": "#636efa",
          "dash": "solid"
         },
         "marker": {
          "symbol": "circle"
         },
         "mode": "lines",
         "name": "",
         "scene": "scene",
         "showlegend": false,
         "type": "scatter3d",
         "x": [
          124.60582,
          129.39795
         ],
         "y": [
          147.883,
          148.67822
         ],
         "z": [
          18.913176,
          18.457844
         ]
        },
        {
         "error_x": {
          "array": [
           2.11375,
           2.11375
          ]
         },
         "error_y": {
          "array": [
           2.11375,
           2.11375
          ]
         },
         "error_z": {
          "array": [
           2.11375,
           2.11375
          ]
         },
         "hovertemplate": "0=106.0<br>1=%{x}<br>2=%{y}<br>3=%{z}<extra></extra>",
         "legendgroup": "",
         "line": {
          "color": "#636efa",
          "dash": "solid"
         },
         "marker": {
          "symbol": "circle"
         },
         "mode": "lines",
         "name": "",
         "scene": "scene",
         "showlegend": false,
         "type": "scatter3d",
         "x": [
          129.39795,
          134.22755
         ],
         "y": [
          148.67822,
          148.20454
         ],
         "z": [
          18.457844,
          17.597366
         ]
        },
        {
         "error_x": {
          "array": [
           2.8975,
           2.8975
          ]
         },
         "error_y": {
          "array": [
           2.8975,
           2.8975
          ]
         },
         "error_z": {
          "array": [
           2.8975,
           2.8975
          ]
         },
         "hovertemplate": "0=107.0<br>1=%{x}<br>2=%{y}<br>3=%{z}<extra></extra>",
         "legendgroup": "",
         "line": {
          "color": "#636efa",
          "dash": "solid"
         },
         "marker": {
          "symbol": "circle"
         },
         "mode": "lines",
         "name": "",
         "scene": "scene",
         "showlegend": false,
         "type": "scatter3d",
         "x": [
          134.22755,
          138.35289
         ],
         "y": [
          148.20454,
          147.49309
         ],
         "z": [
          17.597366,
          15.773309
         ]
        },
        {
         "error_x": {
          "array": [
           1.78125,
           1.78125
          ]
         },
         "error_y": {
          "array": [
           1.78125,
           1.78125
          ]
         },
         "error_z": {
          "array": [
           1.78125,
           1.78125
          ]
         },
         "hovertemplate": "0=108.0<br>1=%{x}<br>2=%{y}<br>3=%{z}<extra></extra>",
         "legendgroup": "",
         "line": {
          "color": "#636efa",
          "dash": "solid"
         },
         "marker": {
          "symbol": "circle"
         },
         "mode": "lines",
         "name": "",
         "scene": "scene",
         "showlegend": false,
         "type": "scatter3d",
         "x": [
          138.35289,
          142.52684
         ],
         "y": [
          147.49309,
          147.21321
         ],
         "z": [
          15.773309,
          13.242693
         ]
        },
        {
         "error_x": {
          "array": [
           1.78125,
           1.78125
          ]
         },
         "error_y": {
          "array": [
           1.78125,
           1.78125
          ]
         },
         "error_z": {
          "array": [
           1.78125,
           1.78125
          ]
         },
         "hovertemplate": "0=109.0<br>1=%{x}<br>2=%{y}<br>3=%{z}<extra></extra>",
         "legendgroup": "",
         "line": {
          "color": "#636efa",
          "dash": "solid"
         },
         "marker": {
          "symbol": "circle"
         },
         "mode": "lines",
         "name": "",
         "scene": "scene",
         "showlegend": false,
         "type": "scatter3d",
         "x": [
          142.52684,
          147.40135
         ],
         "y": [
          147.21321,
          146.51971
         ],
         "z": [
          13.242693,
          12.910784
         ]
        },
        {
         "error_x": {
          "array": [
           1.82875,
           1.82875
          ]
         },
         "error_y": {
          "array": [
           1.82875,
           1.82875
          ]
         },
         "error_z": {
          "array": [
           1.82875,
           1.82875
          ]
         },
         "hovertemplate": "0=110.0<br>1=%{x}<br>2=%{y}<br>3=%{z}<extra></extra>",
         "legendgroup": "",
         "line": {
          "color": "#636efa",
          "dash": "solid"
         },
         "marker": {
          "symbol": "circle"
         },
         "mode": "lines",
         "name": "",
         "scene": "scene",
         "showlegend": false,
         "type": "scatter3d",
         "x": [
          147.40135,
          151.03392
         ],
         "y": [
          146.51971,
          145.512
         ],
         "z": [
          12.910784,
          10.913757
         ]
        },
        {
         "error_x": {
          "array": [
           1.87625,
           1.87625
          ]
         },
         "error_y": {
          "array": [
           1.87625,
           1.87625
          ]
         },
         "error_z": {
          "array": [
           1.87625,
           1.87625
          ]
         },
         "hovertemplate": "0=111.0<br>1=%{x}<br>2=%{y}<br>3=%{z}<extra></extra>",
         "legendgroup": "",
         "line": {
          "color": "#636efa",
          "dash": "solid"
         },
         "marker": {
          "symbol": "circle"
         },
         "mode": "lines",
         "name": "",
         "scene": "scene",
         "showlegend": false,
         "type": "scatter3d",
         "x": [
          109.148766,
          111.50864
         ],
         "y": [
          125.224594,
          125.87573
         ],
         "z": [
          30.22409,
          26.433949
         ]
        },
        {
         "error_x": {
          "array": [
           1.87625,
           1.87625
          ]
         },
         "error_y": {
          "array": [
           1.87625,
           1.87625
          ]
         },
         "error_z": {
          "array": [
           1.87625,
           1.87625
          ]
         },
         "hovertemplate": "0=112.0<br>1=%{x}<br>2=%{y}<br>3=%{z}<extra></extra>",
         "legendgroup": "",
         "line": {
          "color": "#636efa",
          "dash": "solid"
         },
         "marker": {
          "symbol": "circle"
         },
         "mode": "lines",
         "name": "",
         "scene": "scene",
         "showlegend": false,
         "type": "scatter3d",
         "x": [
          111.50864,
          113.99992
         ],
         "y": [
          125.87573,
          125.697495
         ],
         "z": [
          26.433949,
          22.271345
         ]
        },
        {
         "error_x": {
          "array": [
           1.9,
           1.9
          ]
         },
         "error_y": {
          "array": [
           1.9,
           1.9
          ]
         },
         "error_z": {
          "array": [
           1.9,
           1.9
          ]
         },
         "hovertemplate": "0=113.0<br>1=%{x}<br>2=%{y}<br>3=%{z}<extra></extra>",
         "legendgroup": "",
         "line": {
          "color": "#636efa",
          "dash": "solid"
         },
         "marker": {
          "symbol": "circle"
         },
         "mode": "lines",
         "name": "",
         "scene": "scene",
         "showlegend": false,
         "type": "scatter3d",
         "x": [
          113.99992,
          114.98476
         ],
         "y": [
          125.697495,
          126.95526
         ],
         "z": [
          22.271345,
          17.853302
         ]
        },
        {
         "error_x": {
          "array": [
           1.9,
           1.9
          ]
         },
         "error_y": {
          "array": [
           1.9,
           1.9
          ]
         },
         "error_z": {
          "array": [
           1.9,
           1.9
          ]
         },
         "hovertemplate": "0=114.0<br>1=%{x}<br>2=%{y}<br>3=%{z}<extra></extra>",
         "legendgroup": "",
         "line": {
          "color": "#636efa",
          "dash": "solid"
         },
         "marker": {
          "symbol": "circle"
         },
         "mode": "lines",
         "name": "",
         "scene": "scene",
         "showlegend": false,
         "type": "scatter3d",
         "x": [
          114.98476,
          116.91561
         ],
         "y": [
          126.95526,
          125.10964
         ],
         "z": [
          17.853302,
          14.298338
         ]
        },
        {
         "error_x": {
          "array": [
           1.5675,
           1.5675
          ]
         },
         "error_y": {
          "array": [
           1.5675,
           1.5675
          ]
         },
         "error_z": {
          "array": [
           1.5675,
           1.5675
          ]
         },
         "hovertemplate": "0=115.0<br>1=%{x}<br>2=%{y}<br>3=%{z}<extra></extra>",
         "legendgroup": "",
         "line": {
          "color": "#636efa",
          "dash": "solid"
         },
         "marker": {
          "symbol": "circle"
         },
         "mode": "lines",
         "name": "",
         "scene": "scene",
         "showlegend": false,
         "type": "scatter3d",
         "x": [
          116.91561,
          119.04049
         ],
         "y": [
          125.10964,
          122.132645
         ],
         "z": [
          14.298338,
          11.999732
         ]
        },
        {
         "error_x": {
          "array": [
           1.73375,
           1.73375
          ]
         },
         "error_y": {
          "array": [
           1.73375,
           1.73375
          ]
         },
         "error_z": {
          "array": [
           1.73375,
           1.73375
          ]
         },
         "hovertemplate": "0=116.0<br>1=%{x}<br>2=%{y}<br>3=%{z}<extra></extra>",
         "legendgroup": "",
         "line": {
          "color": "#636efa",
          "dash": "solid"
         },
         "marker": {
          "symbol": "circle"
         },
         "mode": "lines",
         "name": "",
         "scene": "scene",
         "showlegend": false,
         "type": "scatter3d",
         "x": [
          119.04049,
          122.80351
         ],
         "y": [
          122.132645,
          119.23237
         ],
         "z": [
          11.999732,
          11.663377
         ]
        },
        {
         "error_x": {
          "array": [
           2.47,
           2.47
          ]
         },
         "error_y": {
          "array": [
           2.47,
           2.47
          ]
         },
         "error_z": {
          "array": [
           2.47,
           2.47
          ]
         },
         "hovertemplate": "0=117.0<br>1=%{x}<br>2=%{y}<br>3=%{z}<extra></extra>",
         "legendgroup": "",
         "line": {
          "color": "#636efa",
          "dash": "solid"
         },
         "marker": {
          "symbol": "circle"
         },
         "mode": "lines",
         "name": "",
         "scene": "scene",
         "showlegend": false,
         "type": "scatter3d",
         "x": [
          122.80351,
          125.42827
         ],
         "y": [
          119.23237,
          115.47852
         ],
         "z": [
          11.663377,
          10.723401
         ]
        },
        {
         "error_x": {
          "array": [
           6.08,
           6.08
          ]
         },
         "error_y": {
          "array": [
           6.08,
           6.08
          ]
         },
         "error_z": {
          "array": [
           6.08,
           6.08
          ]
         },
         "hovertemplate": "0=118.0<br>1=%{x}<br>2=%{y}<br>3=%{z}<extra></extra>",
         "legendgroup": "",
         "line": {
          "color": "#636efa",
          "dash": "solid"
         },
         "marker": {
          "symbol": "circle"
         },
         "mode": "lines",
         "name": "",
         "scene": "scene",
         "showlegend": false,
         "type": "scatter3d",
         "x": [
          100.0331,
          103.44089
         ],
         "y": [
          117.0343,
          117.78664
         ],
         "z": [
          64.0716,
          64.21883
         ]
        },
        {
         "error_x": {
          "array": [
           3.01625,
           3.01625
          ]
         },
         "error_y": {
          "array": [
           3.01625,
           3.01625
          ]
         },
         "error_z": {
          "array": [
           3.01625,
           3.01625
          ]
         },
         "hovertemplate": "0=119.0<br>1=%{x}<br>2=%{y}<br>3=%{z}<extra></extra>",
         "legendgroup": "",
         "line": {
          "color": "#636efa",
          "dash": "solid"
         },
         "marker": {
          "symbol": "circle"
         },
         "mode": "lines",
         "name": "",
         "scene": "scene",
         "showlegend": false,
         "type": "scatter3d",
         "x": [
          106.92203,
          106.92203
         ],
         "y": [
          120.05485,
          120.05485
         ],
         "z": [
          64.55995,
          64.55995
         ]
        },
        {
         "error_x": {
          "array": [
           3.01625,
           3.01625
          ]
         },
         "error_y": {
          "array": [
           3.01625,
           3.01625
          ]
         },
         "error_z": {
          "array": [
           3.01625,
           3.01625
          ]
         },
         "hovertemplate": "0=120.0<br>1=%{x}<br>2=%{y}<br>3=%{z}<extra></extra>",
         "legendgroup": "",
         "line": {
          "color": "#636efa",
          "dash": "solid"
         },
         "marker": {
          "symbol": "circle"
         },
         "mode": "lines",
         "name": "",
         "scene": "scene",
         "showlegend": false,
         "type": "scatter3d",
         "x": [
          106.92203,
          110.296196
         ],
         "y": [
          120.05485,
          122.097946
         ],
         "z": [
          64.55995,
          66.35443
         ]
        },
        {
         "error_x": {
          "array": [
           1.9,
           1.9
          ]
         },
         "error_y": {
          "array": [
           1.9,
           1.9
          ]
         },
         "error_z": {
          "array": [
           1.9,
           1.9
          ]
         },
         "hovertemplate": "0=121.0<br>1=%{x}<br>2=%{y}<br>3=%{z}<extra></extra>",
         "legendgroup": "",
         "line": {
          "color": "#636efa",
          "dash": "solid"
         },
         "marker": {
          "symbol": "circle"
         },
         "mode": "lines",
         "name": "",
         "scene": "scene",
         "showlegend": false,
         "type": "scatter3d",
         "x": [
          110.296196,
          113.333626
         ],
         "y": [
          122.097946,
          125.86467
         ],
         "z": [
          66.35443,
          66.85107
         ]
        },
        {
         "error_x": {
          "array": [
           1.9,
           1.9
          ]
         },
         "error_y": {
          "array": [
           1.9,
           1.9
          ]
         },
         "error_z": {
          "array": [
           1.9,
           1.9
          ]
         },
         "hovertemplate": "0=122.0<br>1=%{x}<br>2=%{y}<br>3=%{z}<extra></extra>",
         "legendgroup": "",
         "line": {
          "color": "#636efa",
          "dash": "solid"
         },
         "marker": {
          "symbol": "circle"
         },
         "mode": "lines",
         "name": "",
         "scene": "scene",
         "showlegend": false,
         "type": "scatter3d",
         "x": [
          113.333626,
          117.48747
         ],
         "y": [
          125.86467,
          128.28882
         ],
         "z": [
          66.85107,
          67.55344
         ]
        },
        {
         "error_x": {
          "array": [
           2.06625,
           2.06625
          ]
         },
         "error_y": {
          "array": [
           2.06625,
           2.06625
          ]
         },
         "error_z": {
          "array": [
           2.06625,
           2.06625
          ]
         },
         "hovertemplate": "0=123.0<br>1=%{x}<br>2=%{y}<br>3=%{z}<extra></extra>",
         "legendgroup": "",
         "line": {
          "color": "#636efa",
          "dash": "solid"
         },
         "marker": {
          "symbol": "circle"
         },
         "mode": "lines",
         "name": "",
         "scene": "scene",
         "showlegend": false,
         "type": "scatter3d",
         "x": [
          117.48747,
          120.56125
         ],
         "y": [
          128.28882,
          130.90836
         ],
         "z": [
          67.55344,
          69.43326
         ]
        },
        {
         "error_x": {
          "array": [
           1.9,
           1.9
          ]
         },
         "error_y": {
          "array": [
           1.9,
           1.9
          ]
         },
         "error_z": {
          "array": [
           1.9,
           1.9
          ]
         },
         "hovertemplate": "0=124.0<br>1=%{x}<br>2=%{y}<br>3=%{z}<extra></extra>",
         "legendgroup": "",
         "line": {
          "color": "#636efa",
          "dash": "solid"
         },
         "marker": {
          "symbol": "circle"
         },
         "mode": "lines",
         "name": "",
         "scene": "scene",
         "showlegend": false,
         "type": "scatter3d",
         "x": [
          120.56125,
          123.87312
         ],
         "y": [
          130.90836,
          133.985
         ],
         "z": [
          69.43326,
          70.630684
         ]
        },
        {
         "error_x": {
          "array": [
           1.87625,
           1.87625
          ]
         },
         "error_y": {
          "array": [
           1.87625,
           1.87625
          ]
         },
         "error_z": {
          "array": [
           1.87625,
           1.87625
          ]
         },
         "hovertemplate": "0=125.0<br>1=%{x}<br>2=%{y}<br>3=%{z}<extra></extra>",
         "legendgroup": "",
         "line": {
          "color": "#636efa",
          "dash": "solid"
         },
         "marker": {
          "symbol": "circle"
         },
         "mode": "lines",
         "name": "",
         "scene": "scene",
         "showlegend": false,
         "type": "scatter3d",
         "x": [
          123.87312,
          127.53139
         ],
         "y": [
          133.985,
          136.5186
         ],
         "z": [
          70.630684,
          72.341446
         ]
        },
        {
         "error_x": {
          "array": [
           1.44875,
           1.44875
          ]
         },
         "error_y": {
          "array": [
           1.44875,
           1.44875
          ]
         },
         "error_z": {
          "array": [
           1.44875,
           1.44875
          ]
         },
         "hovertemplate": "0=126.0<br>1=%{x}<br>2=%{y}<br>3=%{z}<extra></extra>",
         "legendgroup": "",
         "line": {
          "color": "#636efa",
          "dash": "solid"
         },
         "marker": {
          "symbol": "circle"
         },
         "mode": "lines",
         "name": "",
         "scene": "scene",
         "showlegend": false,
         "type": "scatter3d",
         "x": [
          127.53139,
          131.14748
         ],
         "y": [
          136.5186,
          138.82394
         ],
         "z": [
          72.341446,
          74.32564
         ]
        },
        {
         "error_x": {
          "array": [
           1.6625,
           1.6625
          ]
         },
         "error_y": {
          "array": [
           1.6625,
           1.6625
          ]
         },
         "error_z": {
          "array": [
           1.6625,
           1.6625
          ]
         },
         "hovertemplate": "0=127.0<br>1=%{x}<br>2=%{y}<br>3=%{z}<extra></extra>",
         "legendgroup": "",
         "line": {
          "color": "#636efa",
          "dash": "solid"
         },
         "marker": {
          "symbol": "circle"
         },
         "mode": "lines",
         "name": "",
         "scene": "scene",
         "showlegend": false,
         "type": "scatter3d",
         "x": [
          131.14748,
          135.27681
         ],
         "y": [
          138.82394,
          141.0772
         ],
         "z": [
          74.32564,
          75.4132
         ]
        },
        {
         "error_x": {
          "array": [
           1.78125,
           1.78125
          ]
         },
         "error_y": {
          "array": [
           1.78125,
           1.78125
          ]
         },
         "error_z": {
          "array": [
           1.78125,
           1.78125
          ]
         },
         "hovertemplate": "0=128.0<br>1=%{x}<br>2=%{y}<br>3=%{z}<extra></extra>",
         "legendgroup": "",
         "line": {
          "color": "#636efa",
          "dash": "solid"
         },
         "marker": {
          "symbol": "circle"
         },
         "mode": "lines",
         "name": "",
         "scene": "scene",
         "showlegend": false,
         "type": "scatter3d",
         "x": [
          135.27681,
          137.6434
         ],
         "y": [
          141.0772,
          144.44707
         ],
         "z": [
          75.4132,
          77.87138
         ]
        },
        {
         "error_x": {
          "array": [
           1.7575,
           1.7575
          ]
         },
         "error_y": {
          "array": [
           1.7575,
           1.7575
          ]
         },
         "error_z": {
          "array": [
           1.7575,
           1.7575
          ]
         },
         "hovertemplate": "0=129.0<br>1=%{x}<br>2=%{y}<br>3=%{z}<extra></extra>",
         "legendgroup": "",
         "line": {
          "color": "#636efa",
          "dash": "solid"
         },
         "marker": {
          "symbol": "circle"
         },
         "mode": "lines",
         "name": "",
         "scene": "scene",
         "showlegend": false,
         "type": "scatter3d",
         "x": [
          137.6434,
          138.81964
         ],
         "y": [
          144.44707,
          147.59724
         ],
         "z": [
          77.87138,
          80.927505
         ]
        },
        {
         "error_x": {
          "array": [
           1.6625,
           1.6625
          ]
         },
         "error_y": {
          "array": [
           1.6625,
           1.6625
          ]
         },
         "error_z": {
          "array": [
           1.6625,
           1.6625
          ]
         },
         "hovertemplate": "0=130.0<br>1=%{x}<br>2=%{y}<br>3=%{z}<extra></extra>",
         "legendgroup": "",
         "line": {
          "color": "#636efa",
          "dash": "solid"
         },
         "marker": {
          "symbol": "circle"
         },
         "mode": "lines",
         "name": "",
         "scene": "scene",
         "showlegend": false,
         "type": "scatter3d",
         "x": [
          138.81964,
          139.6293
         ],
         "y": [
          147.59724,
          150.95567
         ],
         "z": [
          80.927505,
          83.447495
         ]
        },
        {
         "error_x": {
          "array": [
           1.6625,
           1.6625
          ]
         },
         "error_y": {
          "array": [
           1.6625,
           1.6625
          ]
         },
         "error_z": {
          "array": [
           1.6625,
           1.6625
          ]
         },
         "hovertemplate": "0=131.0<br>1=%{x}<br>2=%{y}<br>3=%{z}<extra></extra>",
         "legendgroup": "",
         "line": {
          "color": "#636efa",
          "dash": "solid"
         },
         "marker": {
          "symbol": "circle"
         },
         "mode": "lines",
         "name": "",
         "scene": "scene",
         "showlegend": false,
         "type": "scatter3d",
         "x": [
          139.6293,
          140.94249
         ],
         "y": [
          150.95567,
          153.88506
         ],
         "z": [
          83.447495,
          86.09787
         ]
        },
        {
         "error_x": {
          "array": [
           1.5675,
           1.5675
          ]
         },
         "error_y": {
          "array": [
           1.5675,
           1.5675
          ]
         },
         "error_z": {
          "array": [
           1.5675,
           1.5675
          ]
         },
         "hovertemplate": "0=132.0<br>1=%{x}<br>2=%{y}<br>3=%{z}<extra></extra>",
         "legendgroup": "",
         "line": {
          "color": "#636efa",
          "dash": "solid"
         },
         "marker": {
          "symbol": "circle"
         },
         "mode": "lines",
         "name": "",
         "scene": "scene",
         "showlegend": false,
         "type": "scatter3d",
         "x": [
          140.94249,
          140.14668
         ],
         "y": [
          153.88506,
          157.08604
         ],
         "z": [
          86.09787,
          89.19749
         ]
        },
        {
         "error_x": {
          "array": [
           1.5675,
           1.5675
          ]
         },
         "error_y": {
          "array": [
           1.5675,
           1.5675
          ]
         },
         "error_z": {
          "array": [
           1.5675,
           1.5675
          ]
         },
         "hovertemplate": "0=133.0<br>1=%{x}<br>2=%{y}<br>3=%{z}<extra></extra>",
         "legendgroup": "",
         "line": {
          "color": "#636efa",
          "dash": "solid"
         },
         "marker": {
          "symbol": "circle"
         },
         "mode": "lines",
         "name": "",
         "scene": "scene",
         "showlegend": false,
         "type": "scatter3d",
         "x": [
          140.14668,
          137.33809
         ],
         "y": [
          157.08604,
          159.2629
         ],
         "z": [
          89.19749,
          91.79611
         ]
        },
        {
         "error_x": {
          "array": [
           1.52,
           1.52
          ]
         },
         "error_y": {
          "array": [
           1.52,
           1.52
          ]
         },
         "error_z": {
          "array": [
           1.52,
           1.52
          ]
         },
         "hovertemplate": "0=134.0<br>1=%{x}<br>2=%{y}<br>3=%{z}<extra></extra>",
         "legendgroup": "",
         "line": {
          "color": "#636efa",
          "dash": "solid"
         },
         "marker": {
          "symbol": "circle"
         },
         "mode": "lines",
         "name": "",
         "scene": "scene",
         "showlegend": false,
         "type": "scatter3d",
         "x": [
          137.33809,
          133.7941
         ],
         "y": [
          159.2629,
          161.25099
         ],
         "z": [
          91.79611,
          94.2269
         ]
        },
        {
         "error_x": {
          "array": [
           1.615,
           1.615
          ]
         },
         "error_y": {
          "array": [
           1.615,
           1.615
          ]
         },
         "error_z": {
          "array": [
           1.615,
           1.615
          ]
         },
         "hovertemplate": "0=135.0<br>1=%{x}<br>2=%{y}<br>3=%{z}<extra></extra>",
         "legendgroup": "",
         "line": {
          "color": "#636efa",
          "dash": "solid"
         },
         "marker": {
          "symbol": "circle"
         },
         "mode": "lines",
         "name": "",
         "scene": "scene",
         "showlegend": false,
         "type": "scatter3d",
         "x": [
          133.7941,
          129.88939
         ],
         "y": [
          161.25099,
          163.06448
         ],
         "z": [
          94.2269,
          95.75489
         ]
        },
        {
         "error_x": {
          "array": [
           1.40125,
           1.40125
          ]
         },
         "error_y": {
          "array": [
           1.40125,
           1.40125
          ]
         },
         "error_z": {
          "array": [
           1.40125,
           1.40125
          ]
         },
         "hovertemplate": "0=136.0<br>1=%{x}<br>2=%{y}<br>3=%{z}<extra></extra>",
         "legendgroup": "",
         "line": {
          "color": "#636efa",
          "dash": "solid"
         },
         "marker": {
          "symbol": "circle"
         },
         "mode": "lines",
         "name": "",
         "scene": "scene",
         "showlegend": false,
         "type": "scatter3d",
         "x": [
          129.88939,
          125.414314
         ],
         "y": [
          163.06448,
          163.79887
         ],
         "z": [
          95.75489,
          97.34071
         ]
        },
        {
         "error_x": {
          "array": [
           1.4725,
           1.4725
          ]
         },
         "error_y": {
          "array": [
           1.4725,
           1.4725
          ]
         },
         "error_z": {
          "array": [
           1.4725,
           1.4725
          ]
         },
         "hovertemplate": "0=137.0<br>1=%{x}<br>2=%{y}<br>3=%{z}<extra></extra>",
         "legendgroup": "",
         "line": {
          "color": "#636efa",
          "dash": "solid"
         },
         "marker": {
          "symbol": "circle"
         },
         "mode": "lines",
         "name": "",
         "scene": "scene",
         "showlegend": false,
         "type": "scatter3d",
         "x": [
          125.414314,
          120.44719
         ],
         "y": [
          163.79887,
          163.89763
         ],
         "z": [
          97.34071,
          97.55
         ]
        },
        {
         "error_x": {
          "array": [
           1.44875,
           1.44875
          ]
         },
         "error_y": {
          "array": [
           1.44875,
           1.44875
          ]
         },
         "error_z": {
          "array": [
           1.44875,
           1.44875
          ]
         },
         "hovertemplate": "0=138.0<br>1=%{x}<br>2=%{y}<br>3=%{z}<extra></extra>",
         "legendgroup": "",
         "line": {
          "color": "#636efa",
          "dash": "solid"
         },
         "marker": {
          "symbol": "circle"
         },
         "mode": "lines",
         "name": "",
         "scene": "scene",
         "showlegend": false,
         "type": "scatter3d",
         "x": [
          120.44719,
          116.50558
         ],
         "y": [
          163.89763,
          164.6722
         ],
         "z": [
          97.55,
          99.48465
         ]
        },
        {
         "error_x": {
          "array": [
           1.35375,
           1.35375
          ]
         },
         "error_y": {
          "array": [
           1.35375,
           1.35375
          ]
         },
         "error_z": {
          "array": [
           1.35375,
           1.35375
          ]
         },
         "hovertemplate": "0=139.0<br>1=%{x}<br>2=%{y}<br>3=%{z}<extra></extra>",
         "legendgroup": "",
         "line": {
          "color": "#636efa",
          "dash": "solid"
         },
         "marker": {
          "symbol": "circle"
         },
         "mode": "lines",
         "name": "",
         "scene": "scene",
         "showlegend": false,
         "type": "scatter3d",
         "x": [
          116.50558,
          111.90053
         ],
         "y": [
          164.6722,
          166.53687
         ],
         "z": [
          99.48465,
          99.6115
         ]
        },
        {
         "error_x": {
          "array": [
           1.02125,
           1.02125
          ]
         },
         "error_y": {
          "array": [
           1.02125,
           1.02125
          ]
         },
         "error_z": {
          "array": [
           1.02125,
           1.02125
          ]
         },
         "hovertemplate": "0=140.0<br>1=%{x}<br>2=%{y}<br>3=%{z}<extra></extra>",
         "legendgroup": "",
         "line": {
          "color": "#636efa",
          "dash": "solid"
         },
         "marker": {
          "symbol": "circle"
         },
         "mode": "lines",
         "name": "",
         "scene": "scene",
         "showlegend": false,
         "type": "scatter3d",
         "x": [
          111.90053,
          107.673645
         ],
         "y": [
          166.53687,
          168.92276
         ],
         "z": [
          99.6115,
          98.9275
         ]
        },
        {
         "error_x": {
          "array": [
           0.855,
           0.855
          ]
         },
         "error_y": {
          "array": [
           0.855,
           0.855
          ]
         },
         "error_z": {
          "array": [
           0.855,
           0.855
          ]
         },
         "hovertemplate": "0=141.0<br>1=%{x}<br>2=%{y}<br>3=%{z}<extra></extra>",
         "legendgroup": "",
         "line": {
          "color": "#636efa",
          "dash": "solid"
         },
         "marker": {
          "symbol": "circle"
         },
         "mode": "lines",
         "name": "",
         "scene": "scene",
         "showlegend": false,
         "type": "scatter3d",
         "x": [
          107.673645,
          103.81734
         ],
         "y": [
          168.92276,
          170.61336
         ],
         "z": [
          98.9275,
          96.657875
         ]
        },
        {
         "error_x": {
          "array": [
           1.25875,
           1.25875
          ]
         },
         "error_y": {
          "array": [
           1.25875,
           1.25875
          ]
         },
         "error_z": {
          "array": [
           1.25875,
           1.25875
          ]
         },
         "hovertemplate": "0=142.0<br>1=%{x}<br>2=%{y}<br>3=%{z}<extra></extra>",
         "legendgroup": "",
         "line": {
          "color": "#636efa",
          "dash": "solid"
         },
         "marker": {
          "symbol": "circle"
         },
         "mode": "lines",
         "name": "",
         "scene": "scene",
         "showlegend": false,
         "type": "scatter3d",
         "x": [
          103.81734,
          99.251144
         ],
         "y": [
          170.61336,
          172.51361
         ],
         "z": [
          96.657875,
          96.542786
         ]
        },
        {
         "error_x": {
          "array": [
           0.97375,
           0.97375
          ]
         },
         "error_y": {
          "array": [
           0.97375,
           0.97375
          ]
         },
         "error_z": {
          "array": [
           0.97375,
           0.97375
          ]
         },
         "hovertemplate": "0=143.0<br>1=%{x}<br>2=%{y}<br>3=%{z}<extra></extra>",
         "legendgroup": "",
         "line": {
          "color": "#636efa",
          "dash": "solid"
         },
         "marker": {
          "symbol": "circle"
         },
         "mode": "lines",
         "name": "",
         "scene": "scene",
         "showlegend": false,
         "type": "scatter3d",
         "x": [
          99.251144,
          95.42013
         ],
         "y": [
          172.51361,
          174.66144
         ],
         "z": [
          96.542786,
          94.67623
         ]
        },
        {
         "error_x": {
          "array": [
           1.3775,
           1.3775
          ]
         },
         "error_y": {
          "array": [
           1.3775,
           1.3775
          ]
         },
         "error_z": {
          "array": [
           1.3775,
           1.3775
          ]
         },
         "hovertemplate": "0=144.0<br>1=%{x}<br>2=%{y}<br>3=%{z}<extra></extra>",
         "legendgroup": "",
         "line": {
          "color": "#636efa",
          "dash": "solid"
         },
         "marker": {
          "symbol": "circle"
         },
         "mode": "lines",
         "name": "",
         "scene": "scene",
         "showlegend": false,
         "type": "scatter3d",
         "x": [
          95.42013,
          91.30497
         ],
         "y": [
          174.66144,
          176.54524
         ],
         "z": [
          94.67623,
          93.463646
         ]
        },
        {
         "error_x": {
          "array": [
           1.06875,
           1.06875
          ]
         },
         "error_y": {
          "array": [
           1.06875,
           1.06875
          ]
         },
         "error_z": {
          "array": [
           1.06875,
           1.06875
          ]
         },
         "hovertemplate": "0=145.0<br>1=%{x}<br>2=%{y}<br>3=%{z}<extra></extra>",
         "legendgroup": "",
         "line": {
          "color": "#636efa",
          "dash": "solid"
         },
         "marker": {
          "symbol": "circle"
         },
         "mode": "lines",
         "name": "",
         "scene": "scene",
         "showlegend": false,
         "type": "scatter3d",
         "x": [
          91.30497,
          87.66208
         ],
         "y": [
          176.54524,
          179.7921
         ],
         "z": [
          93.463646,
          93.04229
         ]
        },
        {
         "error_x": {
          "array": [
           1.30625,
           1.30625
          ]
         },
         "error_y": {
          "array": [
           1.30625,
           1.30625
          ]
         },
         "error_z": {
          "array": [
           1.30625,
           1.30625
          ]
         },
         "hovertemplate": "0=146.0<br>1=%{x}<br>2=%{y}<br>3=%{z}<extra></extra>",
         "legendgroup": "",
         "line": {
          "color": "#636efa",
          "dash": "solid"
         },
         "marker": {
          "symbol": "circle"
         },
         "mode": "lines",
         "name": "",
         "scene": "scene",
         "showlegend": false,
         "type": "scatter3d",
         "x": [
          87.66208,
          83.94105
         ],
         "y": [
          179.7921,
          182.33165
         ],
         "z": [
          93.04229,
          91.86053
         ]
        },
        {
         "error_x": {
          "array": [
           1.11625,
           1.11625
          ]
         },
         "error_y": {
          "array": [
           1.11625,
           1.11625
          ]
         },
         "error_z": {
          "array": [
           1.11625,
           1.11625
          ]
         },
         "hovertemplate": "0=147.0<br>1=%{x}<br>2=%{y}<br>3=%{z}<extra></extra>",
         "legendgroup": "",
         "line": {
          "color": "#636efa",
          "dash": "solid"
         },
         "marker": {
          "symbol": "circle"
         },
         "mode": "lines",
         "name": "",
         "scene": "scene",
         "showlegend": false,
         "type": "scatter3d",
         "x": [
          83.94105,
          80.52869
         ],
         "y": [
          182.33165,
          183.68608
         ],
         "z": [
          91.86053,
          89.50274
         ]
        },
        {
         "error_x": {
          "array": [
           0.92625,
           0.92625
          ]
         },
         "error_y": {
          "array": [
           0.92625,
           0.92625
          ]
         },
         "error_z": {
          "array": [
           0.92625,
           0.92625
          ]
         },
         "hovertemplate": "0=148.0<br>1=%{x}<br>2=%{y}<br>3=%{z}<extra></extra>",
         "legendgroup": "",
         "line": {
          "color": "#636efa",
          "dash": "solid"
         },
         "marker": {
          "symbol": "circle"
         },
         "mode": "lines",
         "name": "",
         "scene": "scene",
         "showlegend": false,
         "type": "scatter3d",
         "x": [
          80.52869,
          76.45383
         ],
         "y": [
          183.68608,
          184.31956
         ],
         "z": [
          89.50274,
          87.75368
         ]
        },
        {
         "error_x": {
          "array": [
           1.16375,
           1.16375
          ]
         },
         "error_y": {
          "array": [
           1.16375,
           1.16375
          ]
         },
         "error_z": {
          "array": [
           1.16375,
           1.16375
          ]
         },
         "hovertemplate": "0=149.0<br>1=%{x}<br>2=%{y}<br>3=%{z}<extra></extra>",
         "legendgroup": "",
         "line": {
          "color": "#636efa",
          "dash": "solid"
         },
         "marker": {
          "symbol": "circle"
         },
         "mode": "lines",
         "name": "",
         "scene": "scene",
         "showlegend": false,
         "type": "scatter3d",
         "x": [
          76.45383,
          74.134926
         ],
         "y": [
          184.31956,
          183.12778
         ],
         "z": [
          87.75368,
          85.17032
         ]
        },
        {
         "error_x": {
          "array": [
           1.40125,
           1.40125
          ]
         },
         "error_y": {
          "array": [
           1.40125,
           1.40125
          ]
         },
         "error_z": {
          "array": [
           1.40125,
           1.40125
          ]
         },
         "hovertemplate": "0=150.0<br>1=%{x}<br>2=%{y}<br>3=%{z}<extra></extra>",
         "legendgroup": "",
         "line": {
          "color": "#636efa",
          "dash": "solid"
         },
         "marker": {
          "symbol": "circle"
         },
         "mode": "lines",
         "name": "",
         "scene": "scene",
         "showlegend": false,
         "type": "scatter3d",
         "x": [
          74.134926,
          71.91589
         ],
         "y": [
          183.12778,
          178.96802
         ],
         "z": [
          85.17032,
          84.019196
         ]
        },
        {
         "error_x": {
          "array": [
           1.35375,
           1.35375
          ]
         },
         "error_y": {
          "array": [
           1.35375,
           1.35375
          ]
         },
         "error_z": {
          "array": [
           1.35375,
           1.35375
          ]
         },
         "hovertemplate": "0=151.0<br>1=%{x}<br>2=%{y}<br>3=%{z}<extra></extra>",
         "legendgroup": "",
         "line": {
          "color": "#636efa",
          "dash": "solid"
         },
         "marker": {
          "symbol": "circle"
         },
         "mode": "lines",
         "name": "",
         "scene": "scene",
         "showlegend": false,
         "type": "scatter3d",
         "x": [
          71.91589,
          67.2312
         ],
         "y": [
          178.96802,
          178.06055
         ],
         "z": [
          84.019196,
          83.30253
         ]
        },
        {
         "error_x": {
          "array": [
           0.95,
           0.95
          ]
         },
         "error_y": {
          "array": [
           0.95,
           0.95
          ]
         },
         "error_z": {
          "array": [
           0.95,
           0.95
          ]
         },
         "hovertemplate": "0=152.0<br>1=%{x}<br>2=%{y}<br>3=%{z}<extra></extra>",
         "legendgroup": "",
         "line": {
          "color": "#636efa",
          "dash": "solid"
         },
         "marker": {
          "symbol": "circle"
         },
         "mode": "lines",
         "name": "",
         "scene": "scene",
         "showlegend": false,
         "type": "scatter3d",
         "x": [
          67.2312,
          64.22996
         ],
         "y": [
          178.06055,
          175.10406
         ],
         "z": [
          83.30253,
          81.56749
         ]
        },
        {
         "error_x": {
          "array": [
           1.045,
           1.045
          ]
         },
         "error_y": {
          "array": [
           1.045,
           1.045
          ]
         },
         "error_z": {
          "array": [
           1.045,
           1.045
          ]
         },
         "hovertemplate": "0=153.0<br>1=%{x}<br>2=%{y}<br>3=%{z}<extra></extra>",
         "legendgroup": "",
         "line": {
          "color": "#636efa",
          "dash": "solid"
         },
         "marker": {
          "symbol": "circle"
         },
         "mode": "lines",
         "name": "",
         "scene": "scene",
         "showlegend": false,
         "type": "scatter3d",
         "x": [
          64.22996,
          60.8788
         ],
         "y": [
          175.10406,
          171.96658
         ],
         "z": [
          81.56749,
          82.216965
         ]
        },
        {
         "error_x": {
          "array": [
           0.68875,
           0.68875
          ]
         },
         "error_y": {
          "array": [
           0.68875,
           0.68875
          ]
         },
         "error_z": {
          "array": [
           0.68875,
           0.68875
          ]
         },
         "hovertemplate": "0=154.0<br>1=%{x}<br>2=%{y}<br>3=%{z}<extra></extra>",
         "legendgroup": "",
         "line": {
          "color": "#636efa",
          "dash": "solid"
         },
         "marker": {
          "symbol": "circle"
         },
         "mode": "lines",
         "name": "",
         "scene": "scene",
         "showlegend": false,
         "type": "scatter3d",
         "x": [
          60.8788,
          56.014244
         ],
         "y": [
          171.96658,
          171.96149
         ],
         "z": [
          82.216965,
          81.68894
         ]
        },
        {
         "error_x": {
          "array": [
           0.855,
           0.855
          ]
         },
         "error_y": {
          "array": [
           0.855,
           0.855
          ]
         },
         "error_z": {
          "array": [
           0.855,
           0.855
          ]
         },
         "hovertemplate": "0=155.0<br>1=%{x}<br>2=%{y}<br>3=%{z}<extra></extra>",
         "legendgroup": "",
         "line": {
          "color": "#636efa",
          "dash": "solid"
         },
         "marker": {
          "symbol": "circle"
         },
         "mode": "lines",
         "name": "",
         "scene": "scene",
         "showlegend": false,
         "type": "scatter3d",
         "x": [
          56.014244,
          52.005398
         ],
         "y": [
          171.96149,
          170.22005
         ],
         "z": [
          81.68894,
          81.58177
         ]
        },
        {
         "error_x": {
          "array": [
           1.30625,
           1.30625
          ]
         },
         "error_y": {
          "array": [
           1.30625,
           1.30625
          ]
         },
         "error_z": {
          "array": [
           1.30625,
           1.30625
          ]
         },
         "hovertemplate": "0=156.0<br>1=%{x}<br>2=%{y}<br>3=%{z}<extra></extra>",
         "legendgroup": "",
         "line": {
          "color": "#636efa",
          "dash": "solid"
         },
         "marker": {
          "symbol": "circle"
         },
         "mode": "lines",
         "name": "",
         "scene": "scene",
         "showlegend": false,
         "type": "scatter3d",
         "x": [
          52.005398,
          51.130775
         ],
         "y": [
          170.22005,
          167.4147
         ],
         "z": [
          81.58177,
          84.93671
         ]
        },
        {
         "error_x": {
          "array": [
           1.14,
           1.14
          ]
         },
         "error_y": {
          "array": [
           1.14,
           1.14
          ]
         },
         "error_z": {
          "array": [
           1.14,
           1.14
          ]
         },
         "hovertemplate": "0=157.0<br>1=%{x}<br>2=%{y}<br>3=%{z}<extra></extra>",
         "legendgroup": "",
         "line": {
          "color": "#636efa",
          "dash": "solid"
         },
         "marker": {
          "symbol": "circle"
         },
         "mode": "lines",
         "name": "",
         "scene": "scene",
         "showlegend": false,
         "type": "scatter3d",
         "x": [
          51.130775,
          48.160862
         ],
         "y": [
          167.4147,
          164.70822
         ],
         "z": [
          84.93671,
          87.10783
         ]
        },
        {
         "error_x": {
          "array": [
           1.16375,
           1.16375
          ]
         },
         "error_y": {
          "array": [
           1.16375,
           1.16375
          ]
         },
         "error_z": {
          "array": [
           1.16375,
           1.16375
          ]
         },
         "hovertemplate": "0=158.0<br>1=%{x}<br>2=%{y}<br>3=%{z}<extra></extra>",
         "legendgroup": "",
         "line": {
          "color": "#636efa",
          "dash": "solid"
         },
         "marker": {
          "symbol": "circle"
         },
         "mode": "lines",
         "name": "",
         "scene": "scene",
         "showlegend": false,
         "type": "scatter3d",
         "x": [
          48.160862,
          45.026226
         ],
         "y": [
          164.70822,
          161.79991
         ],
         "z": [
          87.10783,
          88.87718
         ]
        },
        {
         "error_x": {
          "array": [
           1.0925,
           1.0925
          ]
         },
         "error_y": {
          "array": [
           1.0925,
           1.0925
          ]
         },
         "error_z": {
          "array": [
           1.0925,
           1.0925
          ]
         },
         "hovertemplate": "0=159.0<br>1=%{x}<br>2=%{y}<br>3=%{z}<extra></extra>",
         "legendgroup": "",
         "line": {
          "color": "#636efa",
          "dash": "solid"
         },
         "marker": {
          "symbol": "circle"
         },
         "mode": "lines",
         "name": "",
         "scene": "scene",
         "showlegend": false,
         "type": "scatter3d",
         "x": [
          45.026226,
          43.220413
         ],
         "y": [
          161.79991,
          160.10997
         ],
         "z": [
          88.87718,
          93.05578
         ]
        },
        {
         "error_x": {
          "array": [
           0.95,
           0.95
          ]
         },
         "error_y": {
          "array": [
           0.95,
           0.95
          ]
         },
         "error_z": {
          "array": [
           0.95,
           0.95
          ]
         },
         "hovertemplate": "0=160.0<br>1=%{x}<br>2=%{y}<br>3=%{z}<extra></extra>",
         "legendgroup": "",
         "line": {
          "color": "#636efa",
          "dash": "solid"
         },
         "marker": {
          "symbol": "circle"
         },
         "mode": "lines",
         "name": "",
         "scene": "scene",
         "showlegend": false,
         "type": "scatter3d",
         "x": [
          43.220413,
          40.265438
         ],
         "y": [
          160.10997,
          157.29381
         ],
         "z": [
          93.05578,
          95.11373
         ]
        },
        {
         "error_x": {
          "array": [
           0.87875,
           0.87875
          ]
         },
         "error_y": {
          "array": [
           0.87875,
           0.87875
          ]
         },
         "error_z": {
          "array": [
           0.87875,
           0.87875
          ]
         },
         "hovertemplate": "0=161.0<br>1=%{x}<br>2=%{y}<br>3=%{z}<extra></extra>",
         "legendgroup": "",
         "line": {
          "color": "#636efa",
          "dash": "solid"
         },
         "marker": {
          "symbol": "circle"
         },
         "mode": "lines",
         "name": "",
         "scene": "scene",
         "showlegend": false,
         "type": "scatter3d",
         "x": [
          40.265438,
          35.615456
         ],
         "y": [
          157.29381,
          157.1249
         ],
         "z": [
          95.11373,
          94.5085
         ]
        },
        {
         "error_x": {
          "array": [
           0.54625,
           0.54625
          ]
         },
         "error_y": {
          "array": [
           0.54625,
           0.54625
          ]
         },
         "error_z": {
          "array": [
           0.54625,
           0.54625
          ]
         },
         "hovertemplate": "0=162.0<br>1=%{x}<br>2=%{y}<br>3=%{z}<extra></extra>",
         "legendgroup": "",
         "line": {
          "color": "#636efa",
          "dash": "solid"
         },
         "marker": {
          "symbol": "circle"
         },
         "mode": "lines",
         "name": "",
         "scene": "scene",
         "showlegend": false,
         "type": "scatter3d",
         "x": [
          35.615456,
          31.390364
         ],
         "y": [
          157.1249,
          158.45975
         ],
         "z": [
          94.5085,
          94.3287
         ]
        },
        {
         "error_x": {
          "array": [
           1.14,
           1.14
          ]
         },
         "error_y": {
          "array": [
           1.14,
           1.14
          ]
         },
         "error_z": {
          "array": [
           1.14,
           1.14
          ]
         },
         "hovertemplate": "0=163.0<br>1=%{x}<br>2=%{y}<br>3=%{z}<extra></extra>",
         "legendgroup": "",
         "line": {
          "color": "#636efa",
          "dash": "solid"
         },
         "marker": {
          "symbol": "circle"
         },
         "mode": "lines",
         "name": "",
         "scene": "scene",
         "showlegend": false,
         "type": "scatter3d",
         "x": [
          31.390364,
          26.997551
         ],
         "y": [
          158.45975,
          157.20334
         ],
         "z": [
          94.3287,
          93.92524
         ]
        },
        {
         "error_x": {
          "array": [
           0.64125,
           0.64125
          ]
         },
         "error_y": {
          "array": [
           0.64125,
           0.64125
          ]
         },
         "error_z": {
          "array": [
           0.64125,
           0.64125
          ]
         },
         "hovertemplate": "0=164.0<br>1=%{x}<br>2=%{y}<br>3=%{z}<extra></extra>",
         "legendgroup": "",
         "line": {
          "color": "#636efa",
          "dash": "solid"
         },
         "marker": {
          "symbol": "circle"
         },
         "mode": "lines",
         "name": "",
         "scene": "scene",
         "showlegend": false,
         "type": "scatter3d",
         "x": [
          26.997551,
          22.522455
         ],
         "y": [
          157.20334,
          157.19408
         ],
         "z": [
          93.92524,
          92.66251
         ]
        },
        {
         "error_x": {
          "array": [
           0.855,
           0.855
          ]
         },
         "error_y": {
          "array": [
           0.855,
           0.855
          ]
         },
         "error_z": {
          "array": [
           0.855,
           0.855
          ]
         },
         "hovertemplate": "0=165.0<br>1=%{x}<br>2=%{y}<br>3=%{z}<extra></extra>",
         "legendgroup": "",
         "line": {
          "color": "#636efa",
          "dash": "solid"
         },
         "marker": {
          "symbol": "circle"
         },
         "mode": "lines",
         "name": "",
         "scene": "scene",
         "showlegend": false,
         "type": "scatter3d",
         "x": [
          22.522455,
          19.241987
         ],
         "y": [
          157.19408,
          154.34749
         ],
         "z": [
          92.66251,
          92.457695
         ]
        },
        {
         "error_x": {
          "array": [
           1.78125,
           1.78125
          ]
         },
         "error_y": {
          "array": [
           1.78125,
           1.78125
          ]
         },
         "error_z": {
          "array": [
           1.78125,
           1.78125
          ]
         },
         "hovertemplate": "0=166.0<br>1=%{x}<br>2=%{y}<br>3=%{z}<extra></extra>",
         "legendgroup": "",
         "line": {
          "color": "#636efa",
          "dash": "solid"
         },
         "marker": {
          "symbol": "circle"
         },
         "mode": "lines",
         "name": "",
         "scene": "scene",
         "showlegend": false,
         "type": "scatter3d",
         "x": [
          140.94249,
          143.18703
         ],
         "y": [
          153.88506,
          155.64981
         ],
         "z": [
          86.09787,
          89.28595
         ]
        },
        {
         "error_x": {
          "array": [
           1.78125,
           1.78125
          ]
         },
         "error_y": {
          "array": [
           1.78125,
           1.78125
          ]
         },
         "error_z": {
          "array": [
           1.78125,
           1.78125
          ]
         },
         "hovertemplate": "0=167.0<br>1=%{x}<br>2=%{y}<br>3=%{z}<extra></extra>",
         "legendgroup": "",
         "line": {
          "color": "#636efa",
          "dash": "solid"
         },
         "marker": {
          "symbol": "circle"
         },
         "mode": "lines",
         "name": "",
         "scene": "scene",
         "showlegend": false,
         "type": "scatter3d",
         "x": [
          143.18703,
          145.74252
         ],
         "y": [
          155.64981,
          156.14674
         ],
         "z": [
          89.28595,
          93.08589
         ]
        },
        {
         "error_x": {
          "array": [
           1.6625,
           1.6625
          ]
         },
         "error_y": {
          "array": [
           1.6625,
           1.6625
          ]
         },
         "error_z": {
          "array": [
           1.6625,
           1.6625
          ]
         },
         "hovertemplate": "0=168.0<br>1=%{x}<br>2=%{y}<br>3=%{z}<extra></extra>",
         "legendgroup": "",
         "line": {
          "color": "#636efa",
          "dash": "solid"
         },
         "marker": {
          "symbol": "circle"
         },
         "mode": "lines",
         "name": "",
         "scene": "scene",
         "showlegend": false,
         "type": "scatter3d",
         "x": [
          145.74252,
          149.98378
         ],
         "y": [
          156.14674,
          156.97856
         ],
         "z": [
          93.08589,
          95.07613
         ]
        },
        {
         "error_x": {
          "array": [
           1.21125,
           1.21125
          ]
         },
         "error_y": {
          "array": [
           1.21125,
           1.21125
          ]
         },
         "error_z": {
          "array": [
           1.21125,
           1.21125
          ]
         },
         "hovertemplate": "0=169.0<br>1=%{x}<br>2=%{y}<br>3=%{z}<extra></extra>",
         "legendgroup": "",
         "line": {
          "color": "#636efa",
          "dash": "solid"
         },
         "marker": {
          "symbol": "circle"
         },
         "mode": "lines",
         "name": "",
         "scene": "scene",
         "showlegend": false,
         "type": "scatter3d",
         "x": [
          149.98378,
          154.75667
         ],
         "y": [
          156.97856,
          157.81892
         ],
         "z": [
          95.07613,
          95.75186
         ]
        },
        {
         "error_x": {
          "array": [
           1.11625,
           1.11625
          ]
         },
         "error_y": {
          "array": [
           1.11625,
           1.11625
          ]
         },
         "error_z": {
          "array": [
           1.11625,
           1.11625
          ]
         },
         "hovertemplate": "0=170.0<br>1=%{x}<br>2=%{y}<br>3=%{z}<extra></extra>",
         "legendgroup": "",
         "line": {
          "color": "#636efa",
          "dash": "solid"
         },
         "marker": {
          "symbol": "circle"
         },
         "mode": "lines",
         "name": "",
         "scene": "scene",
         "showlegend": false,
         "type": "scatter3d",
         "x": [
          154.75667,
          159.58467
         ],
         "y": [
          157.81892,
          158.54956
         ],
         "z": [
          95.75186,
          96.346275
         ]
        },
        {
         "error_x": {
          "array": [
           1.33,
           1.33
          ]
         },
         "error_y": {
          "array": [
           1.33,
           1.33
          ]
         },
         "error_z": {
          "array": [
           1.33,
           1.33
          ]
         },
         "hovertemplate": "0=171.0<br>1=%{x}<br>2=%{y}<br>3=%{z}<extra></extra>",
         "legendgroup": "",
         "line": {
          "color": "#636efa",
          "dash": "solid"
         },
         "marker": {
          "symbol": "circle"
         },
         "mode": "lines",
         "name": "",
         "scene": "scene",
         "showlegend": false,
         "type": "scatter3d",
         "x": [
          159.58467,
          164.0698
         ],
         "y": [
          158.54956,
          160.07007
         ],
         "z": [
          96.346275,
          96.29852
         ]
        },
        {
         "error_x": {
          "array": [
           1.6625,
           1.6625
          ]
         },
         "error_y": {
          "array": [
           1.6625,
           1.6625
          ]
         },
         "error_z": {
          "array": [
           1.6625,
           1.6625
          ]
         },
         "hovertemplate": "0=172.0<br>1=%{x}<br>2=%{y}<br>3=%{z}<extra></extra>",
         "legendgroup": "",
         "line": {
          "color": "#636efa",
          "dash": "solid"
         },
         "marker": {
          "symbol": "circle"
         },
         "mode": "lines",
         "name": "",
         "scene": "scene",
         "showlegend": false,
         "type": "scatter3d",
         "x": [
          164.0698,
          167.93677
         ],
         "y": [
          160.07007,
          163.02231
         ],
         "z": [
          96.29852,
          95.6576
         ]
        },
        {
         "error_x": {
          "array": [
           1.44875,
           1.44875
          ]
         },
         "error_y": {
          "array": [
           1.44875,
           1.44875
          ]
         },
         "error_z": {
          "array": [
           1.44875,
           1.44875
          ]
         },
         "hovertemplate": "0=173.0<br>1=%{x}<br>2=%{y}<br>3=%{z}<extra></extra>",
         "legendgroup": "",
         "line": {
          "color": "#636efa",
          "dash": "solid"
         },
         "marker": {
          "symbol": "circle"
         },
         "mode": "lines",
         "name": "",
         "scene": "scene",
         "showlegend": false,
         "type": "scatter3d",
         "x": [
          167.93677,
          171.9517
         ],
         "y": [
          163.02231,
          165.87012
         ],
         "z": [
          95.6576,
          95.6662
         ]
        },
        {
         "error_x": {
          "array": [
           1.40125,
           1.40125
          ]
         },
         "error_y": {
          "array": [
           1.40125,
           1.40125
          ]
         },
         "error_z": {
          "array": [
           1.40125,
           1.40125
          ]
         },
         "hovertemplate": "0=174.0<br>1=%{x}<br>2=%{y}<br>3=%{z}<extra></extra>",
         "legendgroup": "",
         "line": {
          "color": "#636efa",
          "dash": "solid"
         },
         "marker": {
          "symbol": "circle"
         },
         "mode": "lines",
         "name": "",
         "scene": "scene",
         "showlegend": false,
         "type": "scatter3d",
         "x": [
          171.9517,
          173.07188
         ],
         "y": [
          165.87012,
          170.7063
         ],
         "z": [
          95.6662,
          95.65886
         ]
        },
        {
         "error_x": {
          "array": [
           1.52,
           1.52
          ]
         },
         "error_y": {
          "array": [
           1.52,
           1.52
          ]
         },
         "error_z": {
          "array": [
           1.52,
           1.52
          ]
         },
         "hovertemplate": "0=175.0<br>1=%{x}<br>2=%{y}<br>3=%{z}<extra></extra>",
         "legendgroup": "",
         "line": {
          "color": "#636efa",
          "dash": "solid"
         },
         "marker": {
          "symbol": "circle"
         },
         "mode": "lines",
         "name": "",
         "scene": "scene",
         "showlegend": false,
         "type": "scatter3d",
         "x": [
          173.07188,
          173.305
         ],
         "y": [
          170.7063,
          175.66805
         ],
         "z": [
          95.65886,
          95.56955
         ]
        },
        {
         "error_x": {
          "array": [
           1.82875,
           1.82875
          ]
         },
         "error_y": {
          "array": [
           1.82875,
           1.82875
          ]
         },
         "error_z": {
          "array": [
           1.82875,
           1.82875
          ]
         },
         "hovertemplate": "0=176.0<br>1=%{x}<br>2=%{y}<br>3=%{z}<extra></extra>",
         "legendgroup": "",
         "line": {
          "color": "#636efa",
          "dash": "solid"
         },
         "marker": {
          "symbol": "circle"
         },
         "mode": "lines",
         "name": "",
         "scene": "scene",
         "showlegend": false,
         "type": "scatter3d",
         "x": [
          173.305,
          174.83214
         ],
         "y": [
          175.66805,
          180.41061
         ],
         "z": [
          95.56955,
          95.71209
         ]
        },
        {
         "error_x": {
          "array": [
           1.68625,
           1.68625
          ]
         },
         "error_y": {
          "array": [
           1.68625,
           1.68625
          ]
         },
         "error_z": {
          "array": [
           1.68625,
           1.68625
          ]
         },
         "hovertemplate": "0=177.0<br>1=%{x}<br>2=%{y}<br>3=%{z}<extra></extra>",
         "legendgroup": "",
         "line": {
          "color": "#636efa",
          "dash": "solid"
         },
         "marker": {
          "symbol": "circle"
         },
         "mode": "lines",
         "name": "",
         "scene": "scene",
         "showlegend": false,
         "type": "scatter3d",
         "x": [
          174.83214,
          175.07915
         ],
         "y": [
          180.41061,
          185.2884
         ],
         "z": [
          95.71209,
          96.336464
         ]
        },
        {
         "error_x": {
          "array": [
           1.16375,
           1.16375
          ]
         },
         "error_y": {
          "array": [
           1.16375,
           1.16375
          ]
         },
         "error_z": {
          "array": [
           1.16375,
           1.16375
          ]
         },
         "hovertemplate": "0=178.0<br>1=%{x}<br>2=%{y}<br>3=%{z}<extra></extra>",
         "legendgroup": "",
         "line": {
          "color": "#636efa",
          "dash": "solid"
         },
         "marker": {
          "symbol": "circle"
         },
         "mode": "lines",
         "name": "",
         "scene": "scene",
         "showlegend": false,
         "type": "scatter3d",
         "x": [
          175.07915,
          174.60724
         ],
         "y": [
          185.2884,
          190.09602
         ],
         "z": [
          96.336464,
          96.297104
         ]
        },
        {
         "error_x": {
          "array": [
           0.87875,
           0.87875
          ]
         },
         "error_y": {
          "array": [
           0.87875,
           0.87875
          ]
         },
         "error_z": {
          "array": [
           0.87875,
           0.87875
          ]
         },
         "hovertemplate": "0=179.0<br>1=%{x}<br>2=%{y}<br>3=%{z}<extra></extra>",
         "legendgroup": "",
         "line": {
          "color": "#636efa",
          "dash": "solid"
         },
         "marker": {
          "symbol": "circle"
         },
         "mode": "lines",
         "name": "",
         "scene": "scene",
         "showlegend": false,
         "type": "scatter3d",
         "x": [
          174.60724,
          173.13069
         ],
         "y": [
          190.09602,
          193.9125
         ],
         "z": [
          96.297104,
          97.941925
         ]
        },
        {
         "error_x": {
          "array": [
           0.76,
           0.76
          ]
         },
         "error_y": {
          "array": [
           0.76,
           0.76
          ]
         },
         "error_z": {
          "array": [
           0.76,
           0.76
          ]
         },
         "hovertemplate": "0=180.0<br>1=%{x}<br>2=%{y}<br>3=%{z}<extra></extra>",
         "legendgroup": "",
         "line": {
          "color": "#636efa",
          "dash": "solid"
         },
         "marker": {
          "symbol": "circle"
         },
         "mode": "lines",
         "name": "",
         "scene": "scene",
         "showlegend": false,
         "type": "scatter3d",
         "x": [
          173.13069,
          171.57484
         ],
         "y": [
          193.9125,
          197.18045
         ],
         "z": [
          97.941925,
          99.531204
         ]
        },
        {
         "error_x": {
          "array": [
           0.855,
           0.855
          ]
         },
         "error_y": {
          "array": [
           0.855,
           0.855
          ]
         },
         "error_z": {
          "array": [
           0.855,
           0.855
          ]
         },
         "hovertemplate": "0=181.0<br>1=%{x}<br>2=%{y}<br>3=%{z}<extra></extra>",
         "legendgroup": "",
         "line": {
          "color": "#636efa",
          "dash": "solid"
         },
         "marker": {
          "symbol": "circle"
         },
         "mode": "lines",
         "name": "",
         "scene": "scene",
         "showlegend": false,
         "type": "scatter3d",
         "x": [
          171.57484,
          169.4209
         ],
         "y": [
          197.18045,
          200.97218
         ],
         "z": [
          99.531204,
          99.436066
         ]
        },
        {
         "error_x": {
          "array": [
           0.76,
           0.76
          ]
         },
         "error_y": {
          "array": [
           0.76,
           0.76
          ]
         },
         "error_z": {
          "array": [
           0.76,
           0.76
          ]
         },
         "hovertemplate": "0=182.0<br>1=%{x}<br>2=%{y}<br>3=%{z}<extra></extra>",
         "legendgroup": "",
         "line": {
          "color": "#636efa",
          "dash": "solid"
         },
         "marker": {
          "symbol": "circle"
         },
         "mode": "lines",
         "name": "",
         "scene": "scene",
         "showlegend": false,
         "type": "scatter3d",
         "x": [
          169.4209,
          168.68658
         ],
         "y": [
          200.97218,
          204.77837
         ],
         "z": [
          99.436066,
          101.65192
         ]
        },
        {
         "error_x": {
          "array": [
           0.7125,
           0.7125
          ]
         },
         "error_y": {
          "array": [
           0.7125,
           0.7125
          ]
         },
         "error_z": {
          "array": [
           0.7125,
           0.7125
          ]
         },
         "hovertemplate": "0=183.0<br>1=%{x}<br>2=%{y}<br>3=%{z}<extra></extra>",
         "legendgroup": "",
         "line": {
          "color": "#636efa",
          "dash": "solid"
         },
         "marker": {
          "symbol": "circle"
         },
         "mode": "lines",
         "name": "",
         "scene": "scene",
         "showlegend": false,
         "type": "scatter3d",
         "x": [
          168.68658,
          167.99948
         ],
         "y": [
          204.77837,
          208.93382
         ],
         "z": [
          101.65192,
          103.1182
         ]
        },
        {
         "error_x": {
          "array": [
           1.02125,
           1.02125
          ]
         },
         "error_y": {
          "array": [
           1.02125,
           1.02125
          ]
         },
         "error_z": {
          "array": [
           1.02125,
           1.02125
          ]
         },
         "hovertemplate": "0=184.0<br>1=%{x}<br>2=%{y}<br>3=%{z}<extra></extra>",
         "legendgroup": "",
         "line": {
          "color": "#636efa",
          "dash": "solid"
         },
         "marker": {
          "symbol": "circle"
         },
         "mode": "lines",
         "name": "",
         "scene": "scene",
         "showlegend": false,
         "type": "scatter3d",
         "x": [
          167.99948,
          169.02818
         ],
         "y": [
          208.93382,
          211.7983
         ],
         "z": [
          103.1182,
          106.29162
         ]
        },
        {
         "error_x": {
          "array": [
           0.78375,
           0.78375
          ]
         },
         "error_y": {
          "array": [
           0.78375,
           0.78375
          ]
         },
         "error_z": {
          "array": [
           0.78375,
           0.78375
          ]
         },
         "hovertemplate": "0=185.0<br>1=%{x}<br>2=%{y}<br>3=%{z}<extra></extra>",
         "legendgroup": "",
         "line": {
          "color": "#636efa",
          "dash": "solid"
         },
         "marker": {
          "symbol": "circle"
         },
         "mode": "lines",
         "name": "",
         "scene": "scene",
         "showlegend": false,
         "type": "scatter3d",
         "x": [
          169.02818,
          169.9657
         ],
         "y": [
          211.7983,
          216.29213
         ],
         "z": [
          106.29162,
          107.433
         ]
        },
        {
         "error_x": {
          "array": [
           0.92625,
           0.92625
          ]
         },
         "error_y": {
          "array": [
           0.92625,
           0.92625
          ]
         },
         "error_z": {
          "array": [
           0.92625,
           0.92625
          ]
         },
         "hovertemplate": "0=186.0<br>1=%{x}<br>2=%{y}<br>3=%{z}<extra></extra>",
         "legendgroup": "",
         "line": {
          "color": "#636efa",
          "dash": "solid"
         },
         "marker": {
          "symbol": "circle"
         },
         "mode": "lines",
         "name": "",
         "scene": "scene",
         "showlegend": false,
         "type": "scatter3d",
         "x": [
          169.9657,
          169.65826
         ],
         "y": [
          216.29213,
          220.05489
         ],
         "z": [
          107.433,
          110.38553
         ]
        },
        {
         "error_x": {
          "array": [
           1.235,
           1.235
          ]
         },
         "error_y": {
          "array": [
           1.235,
           1.235
          ]
         },
         "error_z": {
          "array": [
           1.235,
           1.235
          ]
         },
         "hovertemplate": "0=187.0<br>1=%{x}<br>2=%{y}<br>3=%{z}<extra></extra>",
         "legendgroup": "",
         "line": {
          "color": "#636efa",
          "dash": "solid"
         },
         "marker": {
          "symbol": "circle"
         },
         "mode": "lines",
         "name": "",
         "scene": "scene",
         "showlegend": false,
         "type": "scatter3d",
         "x": [
          169.65826,
          169.27722
         ],
         "y": [
          220.05489,
          224.5771
         ],
         "z": [
          110.38553,
          111.59691
         ]
        },
        {
         "error_x": {
          "array": [
           0.92625,
           0.92625
          ]
         },
         "error_y": {
          "array": [
           0.92625,
           0.92625
          ]
         },
         "error_z": {
          "array": [
           0.92625,
           0.92625
          ]
         },
         "hovertemplate": "0=188.0<br>1=%{x}<br>2=%{y}<br>3=%{z}<extra></extra>",
         "legendgroup": "",
         "line": {
          "color": "#636efa",
          "dash": "solid"
         },
         "marker": {
          "symbol": "circle"
         },
         "mode": "lines",
         "name": "",
         "scene": "scene",
         "showlegend": false,
         "type": "scatter3d",
         "x": [
          169.27722,
          170.15015
         ],
         "y": [
          224.5771,
          228.37808
         ],
         "z": [
          111.59691,
          114.05491
         ]
        },
        {
         "error_x": {
          "array": [
           1.0925,
           1.0925
          ]
         },
         "error_y": {
          "array": [
           1.0925,
           1.0925
          ]
         },
         "error_z": {
          "array": [
           1.0925,
           1.0925
          ]
         },
         "hovertemplate": "0=189.0<br>1=%{x}<br>2=%{y}<br>3=%{z}<extra></extra>",
         "legendgroup": "",
         "line": {
          "color": "#636efa",
          "dash": "solid"
         },
         "marker": {
          "symbol": "circle"
         },
         "mode": "lines",
         "name": "",
         "scene": "scene",
         "showlegend": false,
         "type": "scatter3d",
         "x": [
          170.15015,
          171.49733
         ],
         "y": [
          228.37808,
          229.25653
         ],
         "z": [
          114.05491,
          118.6538
         ]
        },
        {
         "error_x": {
          "array": [
           1.06875,
           1.06875
          ]
         },
         "error_y": {
          "array": [
           1.06875,
           1.06875
          ]
         },
         "error_z": {
          "array": [
           1.06875,
           1.06875
          ]
         },
         "hovertemplate": "0=190.0<br>1=%{x}<br>2=%{y}<br>3=%{z}<extra></extra>",
         "legendgroup": "",
         "line": {
          "color": "#636efa",
          "dash": "solid"
         },
         "marker": {
          "symbol": "circle"
         },
         "mode": "lines",
         "name": "",
         "scene": "scene",
         "showlegend": false,
         "type": "scatter3d",
         "x": [
          171.49733,
          172.4967
         ],
         "y": [
          229.25653,
          229.99811
         ],
         "z": [
          118.6538,
          123.365425
         ]
        },
        {
         "error_x": {
          "array": [
           0.95,
           0.95
          ]
         },
         "error_y": {
          "array": [
           0.95,
           0.95
          ]
         },
         "error_z": {
          "array": [
           0.95,
           0.95
          ]
         },
         "hovertemplate": "0=191.0<br>1=%{x}<br>2=%{y}<br>3=%{z}<extra></extra>",
         "legendgroup": "",
         "line": {
          "color": "#636efa",
          "dash": "solid"
         },
         "marker": {
          "symbol": "circle"
         },
         "mode": "lines",
         "name": "",
         "scene": "scene",
         "showlegend": false,
         "type": "scatter3d",
         "x": [
          172.4967,
          173.75537
         ],
         "y": [
          229.99811,
          232.25546
         ],
         "z": [
          123.365425,
          127.6186
         ]
        },
        {
         "error_x": {
          "array": [
           0.38,
           0.38
          ]
         },
         "error_y": {
          "array": [
           0.38,
           0.38
          ]
         },
         "error_z": {
          "array": [
           0.38,
           0.38
          ]
         },
         "hovertemplate": "0=192.0<br>1=%{x}<br>2=%{y}<br>3=%{z}<extra></extra>",
         "legendgroup": "",
         "line": {
          "color": "#636efa",
          "dash": "solid"
         },
         "marker": {
          "symbol": "circle"
         },
         "mode": "lines",
         "name": "",
         "scene": "scene",
         "showlegend": false,
         "type": "scatter3d",
         "x": [
          173.75537,
          174.26192
         ],
         "y": [
          232.25546,
          235.57066
         ],
         "z": [
          127.6186,
          130.58784
         ]
        },
        {
         "error_x": {
          "array": [
           0.855,
           0.855
          ]
         },
         "error_y": {
          "array": [
           0.855,
           0.855
          ]
         },
         "error_z": {
          "array": [
           0.855,
           0.855
          ]
         },
         "hovertemplate": "0=193.0<br>1=%{x}<br>2=%{y}<br>3=%{z}<extra></extra>",
         "legendgroup": "",
         "line": {
          "color": "#636efa",
          "dash": "solid"
         },
         "marker": {
          "symbol": "circle"
         },
         "mode": "lines",
         "name": "",
         "scene": "scene",
         "showlegend": false,
         "type": "scatter3d",
         "x": [
          174.26192,
          174.66841
         ],
         "y": [
          235.57066,
          238.49535
         ],
         "z": [
          130.58784,
          133.94699
         ]
        },
        {
         "error_x": {
          "array": [
           0.475,
           0.475
          ]
         },
         "error_y": {
          "array": [
           0.475,
           0.475
          ]
         },
         "error_z": {
          "array": [
           0.475,
           0.475
          ]
         },
         "hovertemplate": "0=194.0<br>1=%{x}<br>2=%{y}<br>3=%{z}<extra></extra>",
         "legendgroup": "",
         "line": {
          "color": "#636efa",
          "dash": "solid"
         },
         "marker": {
          "symbol": "circle"
         },
         "mode": "lines",
         "name": "",
         "scene": "scene",
         "showlegend": false,
         "type": "scatter3d",
         "x": [
          174.66841,
          173.73213
         ],
         "y": [
          238.49535,
          240.87823
         ],
         "z": [
          133.94699,
          138.03159
         ]
        },
        {
         "error_x": {
          "array": [
           0.57,
           0.57
          ]
         },
         "error_y": {
          "array": [
           0.57,
           0.57
          ]
         },
         "error_z": {
          "array": [
           0.57,
           0.57
          ]
         },
         "hovertemplate": "0=195.0<br>1=%{x}<br>2=%{y}<br>3=%{z}<extra></extra>",
         "legendgroup": "",
         "line": {
          "color": "#636efa",
          "dash": "solid"
         },
         "marker": {
          "symbol": "circle"
         },
         "mode": "lines",
         "name": "",
         "scene": "scene",
         "showlegend": false,
         "type": "scatter3d",
         "x": [
          173.73213,
          172.73717
         ],
         "y": [
          240.87823,
          241.88275
         ],
         "z": [
          138.03159,
          142.53535
         ]
        },
        {
         "error_x": {
          "array": [
           6.08,
           6.08
          ]
         },
         "error_y": {
          "array": [
           6.08,
           6.08
          ]
         },
         "error_z": {
          "array": [
           6.08,
           6.08
          ]
         },
         "hovertemplate": "0=196.0<br>1=%{x}<br>2=%{y}<br>3=%{z}<extra></extra>",
         "legendgroup": "",
         "line": {
          "color": "#636efa",
          "dash": "solid"
         },
         "marker": {
          "symbol": "circle"
         },
         "mode": "lines",
         "name": "",
         "scene": "scene",
         "showlegend": false,
         "type": "scatter3d",
         "x": [
          100.0331,
          109.54862
         ],
         "y": [
          117.0343,
          116.90429
         ],
         "z": [
          64.0716,
          63.909813
         ]
        },
        {
         "error_x": {
          "array": [
           1.6625,
           1.6625
          ]
         },
         "error_y": {
          "array": [
           1.6625,
           1.6625
          ]
         },
         "error_z": {
          "array": [
           1.6625,
           1.6625
          ]
         },
         "hovertemplate": "0=197.0<br>1=%{x}<br>2=%{y}<br>3=%{z}<extra></extra>",
         "legendgroup": "",
         "line": {
          "color": "#636efa",
          "dash": "solid"
         },
         "marker": {
          "symbol": "circle"
         },
         "mode": "lines",
         "name": "",
         "scene": "scene",
         "showlegend": false,
         "type": "scatter3d",
         "x": [
          109.54862,
          113.51131
         ],
         "y": [
          116.90429,
          116.271095
         ],
         "z": [
          63.909813,
          64.82662
         ]
        },
        {
         "error_x": {
          "array": [
           1.6625,
           1.6625
          ]
         },
         "error_y": {
          "array": [
           1.6625,
           1.6625
          ]
         },
         "error_z": {
          "array": [
           1.6625,
           1.6625
          ]
         },
         "hovertemplate": "0=198.0<br>1=%{x}<br>2=%{y}<br>3=%{z}<extra></extra>",
         "legendgroup": "",
         "line": {
          "color": "#636efa",
          "dash": "solid"
         },
         "marker": {
          "symbol": "circle"
         },
         "mode": "lines",
         "name": "",
         "scene": "scene",
         "showlegend": false,
         "type": "scatter3d",
         "x": [
          113.51131,
          117.48315
         ],
         "y": [
          116.271095,
          113.6857
         ],
         "z": [
          64.82662,
          65.977425
         ]
        },
        {
         "error_x": {
          "array": [
           1.44875,
           1.44875
          ]
         },
         "error_y": {
          "array": [
           1.44875,
           1.44875
          ]
         },
         "error_z": {
          "array": [
           1.44875,
           1.44875
          ]
         },
         "hovertemplate": "0=199.0<br>1=%{x}<br>2=%{y}<br>3=%{z}<extra></extra>",
         "legendgroup": "",
         "line": {
          "color": "#636efa",
          "dash": "solid"
         },
         "marker": {
          "symbol": "circle"
         },
         "mode": "lines",
         "name": "",
         "scene": "scene",
         "showlegend": false,
         "type": "scatter3d",
         "x": [
          117.48315,
          120.80912
         ],
         "y": [
          113.6857,
          110.48447
         ],
         "z": [
          65.977425,
          67.384964
         ]
        },
        {
         "error_x": {
          "array": [
           1.425,
           1.425
          ]
         },
         "error_y": {
          "array": [
           1.425,
           1.425
          ]
         },
         "error_z": {
          "array": [
           1.425,
           1.425
          ]
         },
         "hovertemplate": "0=200.0<br>1=%{x}<br>2=%{y}<br>3=%{z}<extra></extra>",
         "legendgroup": "",
         "line": {
          "color": "#636efa",
          "dash": "solid"
         },
         "marker": {
          "symbol": "circle"
         },
         "mode": "lines",
         "name": "",
         "scene": "scene",
         "showlegend": false,
         "type": "scatter3d",
         "x": [
          120.80912,
          122.47599
         ],
         "y": [
          110.48447,
          107.93817
         ],
         "z": [
          67.384964,
          71.02953
         ]
        },
        {
         "error_x": {
          "array": [
           1.615,
           1.615
          ]
         },
         "error_y": {
          "array": [
           1.615,
           1.615
          ]
         },
         "error_z": {
          "array": [
           1.615,
           1.615
          ]
         },
         "hovertemplate": "0=201.0<br>1=%{x}<br>2=%{y}<br>3=%{z}<extra></extra>",
         "legendgroup": "",
         "line": {
          "color": "#636efa",
          "dash": "solid"
         },
         "marker": {
          "symbol": "circle"
         },
         "mode": "lines",
         "name": "",
         "scene": "scene",
         "showlegend": false,
         "type": "scatter3d",
         "x": [
          122.47599,
          124.517426
         ],
         "y": [
          107.93817,
          105.66183
         ],
         "z": [
          71.02953,
          73.79254
         ]
        },
        {
         "error_x": {
          "array": [
           1.68625,
           1.68625
          ]
         },
         "error_y": {
          "array": [
           1.68625,
           1.68625
          ]
         },
         "error_z": {
          "array": [
           1.68625,
           1.68625
          ]
         },
         "hovertemplate": "0=202.0<br>1=%{x}<br>2=%{y}<br>3=%{z}<extra></extra>",
         "legendgroup": "",
         "line": {
          "color": "#636efa",
          "dash": "solid"
         },
         "marker": {
          "symbol": "circle"
         },
         "mode": "lines",
         "name": "",
         "scene": "scene",
         "showlegend": false,
         "type": "scatter3d",
         "x": [
          124.517426,
          126.69149
         ],
         "y": [
          105.66183,
          102.57235
         ],
         "z": [
          73.79254,
          76.007545
         ]
        },
        {
         "error_x": {
          "array": [
           1.2825,
           1.2825
          ]
         },
         "error_y": {
          "array": [
           1.2825,
           1.2825
          ]
         },
         "error_z": {
          "array": [
           1.2825,
           1.2825
          ]
         },
         "hovertemplate": "0=203.0<br>1=%{x}<br>2=%{y}<br>3=%{z}<extra></extra>",
         "legendgroup": "",
         "line": {
          "color": "#636efa",
          "dash": "solid"
         },
         "marker": {
          "symbol": "circle"
         },
         "mode": "lines",
         "name": "",
         "scene": "scene",
         "showlegend": false,
         "type": "scatter3d",
         "x": [
          126.69149,
          130.18379
         ],
         "y": [
          102.57235,
          99.0743
         ],
         "z": [
          76.007545,
          76.41969
         ]
        },
        {
         "error_x": {
          "array": [
           1.82875,
           1.82875
          ]
         },
         "error_y": {
          "array": [
           1.82875,
           1.82875
          ]
         },
         "error_z": {
          "array": [
           1.82875,
           1.82875
          ]
         },
         "hovertemplate": "0=204.0<br>1=%{x}<br>2=%{y}<br>3=%{z}<extra></extra>",
         "legendgroup": "",
         "line": {
          "color": "#636efa",
          "dash": "solid"
         },
         "marker": {
          "symbol": "circle"
         },
         "mode": "lines",
         "name": "",
         "scene": "scene",
         "showlegend": false,
         "type": "scatter3d",
         "x": [
          130.18379,
          134.29066
         ],
         "y": [
          99.0743,
          96.54255
         ],
         "z": [
          76.41969,
          77.289444
         ]
        },
        {
         "error_x": {
          "array": [
           1.14,
           1.14
          ]
         },
         "error_y": {
          "array": [
           1.14,
           1.14
          ]
         },
         "error_z": {
          "array": [
           1.14,
           1.14
          ]
         },
         "hovertemplate": "0=205.0<br>1=%{x}<br>2=%{y}<br>3=%{z}<extra></extra>",
         "legendgroup": "",
         "line": {
          "color": "#636efa",
          "dash": "solid"
         },
         "marker": {
          "symbol": "circle"
         },
         "mode": "lines",
         "name": "",
         "scene": "scene",
         "showlegend": false,
         "type": "scatter3d",
         "x": [
          134.29066,
          138.82549
         ],
         "y": [
          96.54255,
          95.432106
         ],
         "z": [
          77.289444,
          77.43809
         ]
        },
        {
         "error_x": {
          "array": [
           1.25875,
           1.25875
          ]
         },
         "error_y": {
          "array": [
           1.25875,
           1.25875
          ]
         },
         "error_z": {
          "array": [
           1.25875,
           1.25875
          ]
         },
         "hovertemplate": "0=206.0<br>1=%{x}<br>2=%{y}<br>3=%{z}<extra></extra>",
         "legendgroup": "",
         "line": {
          "color": "#636efa",
          "dash": "solid"
         },
         "marker": {
          "symbol": "circle"
         },
         "mode": "lines",
         "name": "",
         "scene": "scene",
         "showlegend": false,
         "type": "scatter3d",
         "x": [
          138.82549,
          143.69116
         ],
         "y": [
          95.432106,
          94.33204
         ],
         "z": [
          77.43809,
          77.36541
         ]
        },
        {
         "error_x": {
          "array": [
           1.33,
           1.33
          ]
         },
         "error_y": {
          "array": [
           1.33,
           1.33
          ]
         },
         "error_z": {
          "array": [
           1.33,
           1.33
          ]
         },
         "hovertemplate": "0=207.0<br>1=%{x}<br>2=%{y}<br>3=%{z}<extra></extra>",
         "legendgroup": "",
         "line": {
          "color": "#636efa",
          "dash": "solid"
         },
         "marker": {
          "symbol": "circle"
         },
         "mode": "lines",
         "name": "",
         "scene": "scene",
         "showlegend": false,
         "type": "scatter3d",
         "x": [
          143.69116,
          148.36044
         ],
         "y": [
          94.33204,
          92.69523
         ],
         "z": [
          77.36541,
          77.3442
         ]
        },
        {
         "error_x": {
          "array": [
           1.30625,
           1.30625
          ]
         },
         "error_y": {
          "array": [
           1.30625,
           1.30625
          ]
         },
         "error_z": {
          "array": [
           1.30625,
           1.30625
          ]
         },
         "hovertemplate": "0=208.0<br>1=%{x}<br>2=%{y}<br>3=%{z}<extra></extra>",
         "legendgroup": "",
         "line": {
          "color": "#636efa",
          "dash": "solid"
         },
         "marker": {
          "symbol": "circle"
         },
         "mode": "lines",
         "name": "",
         "scene": "scene",
         "showlegend": false,
         "type": "scatter3d",
         "x": [
          148.36044,
          153.14438
         ],
         "y": [
          92.69523,
          91.291534
         ],
         "z": [
          77.3442,
          77.234726
         ]
        },
        {
         "error_x": {
          "array": [
           1.425,
           1.425
          ]
         },
         "error_y": {
          "array": [
           1.425,
           1.425
          ]
         },
         "error_z": {
          "array": [
           1.425,
           1.425
          ]
         },
         "hovertemplate": "0=209.0<br>1=%{x}<br>2=%{y}<br>3=%{z}<extra></extra>",
         "legendgroup": "",
         "line": {
          "color": "#636efa",
          "dash": "solid"
         },
         "marker": {
          "symbol": "circle"
         },
         "mode": "lines",
         "name": "",
         "scene": "scene",
         "showlegend": false,
         "type": "scatter3d",
         "x": [
          153.14438,
          157.78389
         ],
         "y": [
          91.291534,
          89.62916
         ],
         "z": [
          77.234726,
          77.38059
         ]
        },
        {
         "error_x": {
          "array": [
           1.33,
           1.33
          ]
         },
         "error_y": {
          "array": [
           1.33,
           1.33
          ]
         },
         "error_z": {
          "array": [
           1.33,
           1.33
          ]
         },
         "hovertemplate": "0=210.0<br>1=%{x}<br>2=%{y}<br>3=%{z}<extra></extra>",
         "legendgroup": "",
         "line": {
          "color": "#636efa",
          "dash": "solid"
         },
         "marker": {
          "symbol": "circle"
         },
         "mode": "lines",
         "name": "",
         "scene": "scene",
         "showlegend": false,
         "type": "scatter3d",
         "x": [
          157.78389,
          161.7159
         ],
         "y": [
          89.62916,
          86.59652
         ],
         "z": [
          77.38059,
          77.434235
         ]
        },
        {
         "error_x": {
          "array": [
           1.5675,
           1.5675
          ]
         },
         "error_y": {
          "array": [
           1.5675,
           1.5675
          ]
         },
         "error_z": {
          "array": [
           1.5675,
           1.5675
          ]
         },
         "hovertemplate": "0=211.0<br>1=%{x}<br>2=%{y}<br>3=%{z}<extra></extra>",
         "legendgroup": "",
         "line": {
          "color": "#636efa",
          "dash": "solid"
         },
         "marker": {
          "symbol": "circle"
         },
         "mode": "lines",
         "name": "",
         "scene": "scene",
         "showlegend": false,
         "type": "scatter3d",
         "x": [
          161.7159,
          165.74356
         ],
         "y": [
          86.59652,
          83.70184
         ],
         "z": [
          77.434235,
          77.47244
         ]
        },
        {
         "error_x": {
          "array": [
           1.40125,
           1.40125
          ]
         },
         "error_y": {
          "array": [
           1.40125,
           1.40125
          ]
         },
         "error_z": {
          "array": [
           1.40125,
           1.40125
          ]
         },
         "hovertemplate": "0=212.0<br>1=%{x}<br>2=%{y}<br>3=%{z}<extra></extra>",
         "legendgroup": "",
         "line": {
          "color": "#636efa",
          "dash": "solid"
         },
         "marker": {
          "symbol": "circle"
         },
         "mode": "lines",
         "name": "",
         "scene": "scene",
         "showlegend": false,
         "type": "scatter3d",
         "x": [
          165.74356,
          169.65575
         ],
         "y": [
          83.70184,
          80.613075
         ],
         "z": [
          77.47244,
          77.35433
         ]
        },
        {
         "error_x": {
          "array": [
           1.1875,
           1.1875
          ]
         },
         "error_y": {
          "array": [
           1.1875,
           1.1875
          ]
         },
         "error_z": {
          "array": [
           1.1875,
           1.1875
          ]
         },
         "hovertemplate": "0=213.0<br>1=%{x}<br>2=%{y}<br>3=%{z}<extra></extra>",
         "legendgroup": "",
         "line": {
          "color": "#636efa",
          "dash": "solid"
         },
         "marker": {
          "symbol": "circle"
         },
         "mode": "lines",
         "name": "",
         "scene": "scene",
         "showlegend": false,
         "type": "scatter3d",
         "x": [
          169.65575,
          172.26724
         ],
         "y": [
          80.613075,
          77.02895
         ],
         "z": [
          77.35433,
          75.72885
         ]
        },
        {
         "error_x": {
          "array": [
           1.2825,
           1.2825
          ]
         },
         "error_y": {
          "array": [
           1.2825,
           1.2825
          ]
         },
         "error_z": {
          "array": [
           1.2825,
           1.2825
          ]
         },
         "hovertemplate": "0=214.0<br>1=%{x}<br>2=%{y}<br>3=%{z}<extra></extra>",
         "legendgroup": "",
         "line": {
          "color": "#636efa",
          "dash": "solid"
         },
         "marker": {
          "symbol": "circle"
         },
         "mode": "lines",
         "name": "",
         "scene": "scene",
         "showlegend": false,
         "type": "scatter3d",
         "x": [
          172.26724,
          174.40276
         ],
         "y": [
          77.02895,
          75.116806
         ],
         "z": [
          75.72885,
          72.173294
         ]
        },
        {
         "error_x": {
          "array": [
           1.30625,
           1.30625
          ]
         },
         "error_y": {
          "array": [
           1.30625,
           1.30625
          ]
         },
         "error_z": {
          "array": [
           1.30625,
           1.30625
          ]
         },
         "hovertemplate": "0=215.0<br>1=%{x}<br>2=%{y}<br>3=%{z}<extra></extra>",
         "legendgroup": "",
         "line": {
          "color": "#636efa",
          "dash": "solid"
         },
         "marker": {
          "symbol": "circle"
         },
         "mode": "lines",
         "name": "",
         "scene": "scene",
         "showlegend": false,
         "type": "scatter3d",
         "x": [
          174.40276,
          176.59364
         ],
         "y": [
          75.116806,
          73.42914
         ],
         "z": [
          72.173294,
          68.496185
         ]
        },
        {
         "error_x": {
          "array": [
           1.52,
           1.52
          ]
         },
         "error_y": {
          "array": [
           1.52,
           1.52
          ]
         },
         "error_z": {
          "array": [
           1.52,
           1.52
          ]
         },
         "hovertemplate": "0=216.0<br>1=%{x}<br>2=%{y}<br>3=%{z}<extra></extra>",
         "legendgroup": "",
         "line": {
          "color": "#636efa",
          "dash": "solid"
         },
         "marker": {
          "symbol": "circle"
         },
         "mode": "lines",
         "name": "",
         "scene": "scene",
         "showlegend": false,
         "type": "scatter3d",
         "x": [
          176.59364,
          178.06429
         ],
         "y": [
          73.42914,
          72.354675
         ],
         "z": [
          68.496185,
          63.92601
         ]
        },
        {
         "error_x": {
          "array": [
           1.9475,
           1.9475
          ]
         },
         "error_y": {
          "array": [
           1.9475,
           1.9475
          ]
         },
         "error_z": {
          "array": [
           1.9475,
           1.9475
          ]
         },
         "hovertemplate": "0=217.0<br>1=%{x}<br>2=%{y}<br>3=%{z}<extra></extra>",
         "legendgroup": "",
         "line": {
          "color": "#636efa",
          "dash": "solid"
         },
         "marker": {
          "symbol": "circle"
         },
         "mode": "lines",
         "name": "",
         "scene": "scene",
         "showlegend": false,
         "type": "scatter3d",
         "x": [
          178.06429,
          178.13147
         ],
         "y": [
          72.354675,
          71.62568
         ],
         "z": [
          63.92601,
          59.23547
         ]
        },
        {
         "error_x": {
          "array": [
           2.185,
           2.185
          ]
         },
         "error_y": {
          "array": [
           2.185,
           2.185
          ]
         },
         "error_z": {
          "array": [
           2.185,
           2.185
          ]
         },
         "hovertemplate": "0=218.0<br>1=%{x}<br>2=%{y}<br>3=%{z}<extra></extra>",
         "legendgroup": "",
         "line": {
          "color": "#636efa",
          "dash": "solid"
         },
         "marker": {
          "symbol": "circle"
         },
         "mode": "lines",
         "name": "",
         "scene": "scene",
         "showlegend": false,
         "type": "scatter3d",
         "x": [
          178.13147,
          178.02997
         ],
         "y": [
          71.62568,
          70.34527
         ],
         "z": [
          59.23547,
          54.43667
         ]
        },
        {
         "error_x": {
          "array": [
           1.9475,
           1.9475
          ]
         },
         "error_y": {
          "array": [
           1.9475,
           1.9475
          ]
         },
         "error_z": {
          "array": [
           1.9475,
           1.9475
          ]
         },
         "hovertemplate": "0=219.0<br>1=%{x}<br>2=%{y}<br>3=%{z}<extra></extra>",
         "legendgroup": "",
         "line": {
          "color": "#636efa",
          "dash": "solid"
         },
         "marker": {
          "symbol": "circle"
         },
         "mode": "lines",
         "name": "",
         "scene": "scene",
         "showlegend": false,
         "type": "scatter3d",
         "x": [
          178.02997,
          178.02875
         ],
         "y": [
          70.34527,
          70.069145
         ],
         "z": [
          54.43667,
          49.463375
         ]
        },
        {
         "error_x": {
          "array": [
           2.06625,
           2.06625
          ]
         },
         "error_y": {
          "array": [
           2.06625,
           2.06625
          ]
         },
         "error_z": {
          "array": [
           2.06625,
           2.06625
          ]
         },
         "hovertemplate": "0=220.0<br>1=%{x}<br>2=%{y}<br>3=%{z}<extra></extra>",
         "legendgroup": "",
         "line": {
          "color": "#636efa",
          "dash": "solid"
         },
         "marker": {
          "symbol": "circle"
         },
         "mode": "lines",
         "name": "",
         "scene": "scene",
         "showlegend": false,
         "type": "scatter3d",
         "x": [
          178.02875,
          177.90921
         ],
         "y": [
          70.069145,
          71.23797
         ],
         "z": [
          49.463375,
          44.689354
         ]
        },
        {
         "error_x": {
          "array": [
           2.11375,
           2.11375
          ]
         },
         "error_y": {
          "array": [
           2.11375,
           2.11375
          ]
         },
         "error_z": {
          "array": [
           2.11375,
           2.11375
          ]
         },
         "hovertemplate": "0=221.0<br>1=%{x}<br>2=%{y}<br>3=%{z}<extra></extra>",
         "legendgroup": "",
         "line": {
          "color": "#636efa",
          "dash": "solid"
         },
         "marker": {
          "symbol": "circle"
         },
         "mode": "lines",
         "name": "",
         "scene": "scene",
         "showlegend": false,
         "type": "scatter3d",
         "x": [
          177.90921,
          178.0403
         ],
         "y": [
          71.23797,
          72.56331
         ],
         "z": [
          44.689354,
          39.90429
         ]
        },
        {
         "error_x": {
          "array": [
           2.16125,
           2.16125
          ]
         },
         "error_y": {
          "array": [
           2.16125,
           2.16125
          ]
         },
         "error_z": {
          "array": [
           2.16125,
           2.16125
          ]
         },
         "hovertemplate": "0=222.0<br>1=%{x}<br>2=%{y}<br>3=%{z}<extra></extra>",
         "legendgroup": "",
         "line": {
          "color": "#636efa",
          "dash": "solid"
         },
         "marker": {
          "symbol": "circle"
         },
         "mode": "lines",
         "name": "",
         "scene": "scene",
         "showlegend": false,
         "type": "scatter3d",
         "x": [
          178.0403,
          178.55739
         ],
         "y": [
          72.56331,
          72.77061
         ],
         "z": [
          39.90429,
          34.950413
         ]
        },
        {
         "error_x": {
          "array": [
           1.92375,
           1.92375
          ]
         },
         "error_y": {
          "array": [
           1.92375,
           1.92375
          ]
         },
         "error_z": {
          "array": [
           1.92375,
           1.92375
          ]
         },
         "hovertemplate": "0=223.0<br>1=%{x}<br>2=%{y}<br>3=%{z}<extra></extra>",
         "legendgroup": "",
         "line": {
          "color": "#636efa",
          "dash": "solid"
         },
         "marker": {
          "symbol": "circle"
         },
         "mode": "lines",
         "name": "",
         "scene": "scene",
         "showlegend": false,
         "type": "scatter3d",
         "x": [
          178.55739,
          179.79085
         ],
         "y": [
          72.77061,
          72.75476
         ],
         "z": [
          34.950413,
          30.141432
         ]
        },
        {
         "error_x": {
          "array": [
           1.78125,
           1.78125
          ]
         },
         "error_y": {
          "array": [
           1.78125,
           1.78125
          ]
         },
         "error_z": {
          "array": [
           1.78125,
           1.78125
          ]
         },
         "hovertemplate": "0=224.0<br>1=%{x}<br>2=%{y}<br>3=%{z}<extra></extra>",
         "legendgroup": "",
         "line": {
          "color": "#636efa",
          "dash": "solid"
         },
         "marker": {
          "symbol": "circle"
         },
         "mode": "lines",
         "name": "",
         "scene": "scene",
         "showlegend": false,
         "type": "scatter3d",
         "x": [
          179.79085,
          182.10081
         ],
         "y": [
          72.75476,
          72.94778
         ],
         "z": [
          30.141432,
          25.906929
         ]
        },
        {
         "error_x": {
          "array": [
           1.5675,
           1.5675
          ]
         },
         "error_y": {
          "array": [
           1.5675,
           1.5675
          ]
         },
         "error_z": {
          "array": [
           1.5675,
           1.5675
          ]
         },
         "hovertemplate": "0=225.0<br>1=%{x}<br>2=%{y}<br>3=%{z}<extra></extra>",
         "legendgroup": "",
         "line": {
          "color": "#636efa",
          "dash": "solid"
         },
         "marker": {
          "symbol": "circle"
         },
         "mode": "lines",
         "name": "",
         "scene": "scene",
         "showlegend": false,
         "type": "scatter3d",
         "x": [
          182.10081,
          183.5544
         ],
         "y": [
          72.94778,
          73.26709
         ],
         "z": [
          25.906929,
          22.37239
         ]
        },
        {
         "error_x": {
          "array": [
           1.49625,
           1.49625
          ]
         },
         "error_y": {
          "array": [
           1.49625,
           1.49625
          ]
         },
         "error_z": {
          "array": [
           1.49625,
           1.49625
          ]
         },
         "hovertemplate": "0=226.0<br>1=%{x}<br>2=%{y}<br>3=%{z}<extra></extra>",
         "legendgroup": "",
         "line": {
          "color": "#636efa",
          "dash": "solid"
         },
         "marker": {
          "symbol": "circle"
         },
         "mode": "lines",
         "name": "",
         "scene": "scene",
         "showlegend": false,
         "type": "scatter3d",
         "x": [
          183.5544,
          185.40085
         ],
         "y": [
          73.26709,
          73.84347
         ],
         "z": [
          22.37239,
          17.934471
         ]
        },
        {
         "error_x": {
          "array": [
           1.54375,
           1.54375
          ]
         },
         "error_y": {
          "array": [
           1.54375,
           1.54375
          ]
         },
         "error_z": {
          "array": [
           1.54375,
           1.54375
          ]
         },
         "hovertemplate": "0=227.0<br>1=%{x}<br>2=%{y}<br>3=%{z}<extra></extra>",
         "legendgroup": "",
         "line": {
          "color": "#636efa",
          "dash": "solid"
         },
         "marker": {
          "symbol": "circle"
         },
         "mode": "lines",
         "name": "",
         "scene": "scene",
         "showlegend": false,
         "type": "scatter3d",
         "x": [
          185.40085,
          188.11485
         ],
         "y": [
          73.84347,
          75.19325
         ],
         "z": [
          17.934471,
          14.165885
         ]
        },
        {
         "error_x": {
          "array": [
           1.425,
           1.425
          ]
         },
         "error_y": {
          "array": [
           1.425,
           1.425
          ]
         },
         "error_z": {
          "array": [
           1.425,
           1.425
          ]
         },
         "hovertemplate": "0=228.0<br>1=%{x}<br>2=%{y}<br>3=%{z}<extra></extra>",
         "legendgroup": "",
         "line": {
          "color": "#636efa",
          "dash": "solid"
         },
         "marker": {
          "symbol": "circle"
         },
         "mode": "lines",
         "name": "",
         "scene": "scene",
         "showlegend": false,
         "type": "scatter3d",
         "x": [
          188.11485,
          191.13681
         ],
         "y": [
          75.19325,
          75.87612
         ],
         "z": [
          14.165885,
          10.579071
         ]
        },
        {
         "error_x": {
          "array": [
           1.21125,
           1.21125
          ]
         },
         "error_y": {
          "array": [
           1.21125,
           1.21125
          ]
         },
         "error_z": {
          "array": [
           1.21125,
           1.21125
          ]
         },
         "hovertemplate": "0=229.0<br>1=%{x}<br>2=%{y}<br>3=%{z}<extra></extra>",
         "legendgroup": "",
         "line": {
          "color": "#636efa",
          "dash": "solid"
         },
         "marker": {
          "symbol": "circle"
         },
         "mode": "lines",
         "name": "",
         "scene": "scene",
         "showlegend": false,
         "type": "scatter3d",
         "x": [
          191.13681,
          194.67096
         ],
         "y": [
          75.87612,
          76.5112
         ],
         "z": [
          10.579071,
          7.6586304
         ]
        },
        {
         "error_x": {
          "array": [
           5.13,
           5.13
          ]
         },
         "error_y": {
          "array": [
           5.13,
           5.13
          ]
         },
         "error_z": {
          "array": [
           5.13,
           5.13
          ]
         },
         "hovertemplate": "0=230.0<br>1=%{x}<br>2=%{y}<br>3=%{z}<extra></extra>",
         "legendgroup": "",
         "line": {
          "color": "#636efa",
          "dash": "solid"
         },
         "marker": {
          "symbol": "circle"
         },
         "mode": "lines",
         "name": "",
         "scene": "scene",
         "showlegend": false,
         "type": "scatter3d",
         "x": [
          103.44089,
          99.62035
         ],
         "y": [
          117.78664,
          121.99568
         ],
         "z": [
          64.21883,
          64.0379
         ]
        },
        {
         "error_x": {
          "array": [
           4.01375,
           4.01375
          ]
         },
         "error_y": {
          "array": [
           4.01375,
           4.01375
          ]
         },
         "error_z": {
          "array": [
           4.01375,
           4.01375
          ]
         },
         "hovertemplate": "0=231.0<br>1=%{x}<br>2=%{y}<br>3=%{z}<extra></extra>",
         "legendgroup": "",
         "line": {
          "color": "#636efa",
          "dash": "solid"
         },
         "marker": {
          "symbol": "circle"
         },
         "mode": "lines",
         "name": "",
         "scene": "scene",
         "showlegend": false,
         "type": "scatter3d",
         "x": [
          99.62035,
          100.13775
         ],
         "y": [
          121.99568,
          126.56034
         ],
         "z": [
          64.0379,
          64.97941
         ]
        },
        {
         "error_x": {
          "array": [
           1.78125,
           1.78125
          ]
         },
         "error_y": {
          "array": [
           1.78125,
           1.78125
          ]
         },
         "error_z": {
          "array": [
           1.78125,
           1.78125
          ]
         },
         "hovertemplate": "0=232.0<br>1=%{x}<br>2=%{y}<br>3=%{z}<extra></extra>",
         "legendgroup": "",
         "line": {
          "color": "#636efa",
          "dash": "solid"
         },
         "marker": {
          "symbol": "circle"
         },
         "mode": "lines",
         "name": "",
         "scene": "scene",
         "showlegend": false,
         "type": "scatter3d",
         "x": [
          100.13775,
          99.06469
         ],
         "y": [
          126.56034,
          129.25687
         ],
         "z": [
          64.97941,
          63.63407
         ]
        },
        {
         "error_x": {
          "array": [
           1.78125,
           1.78125
          ]
         },
         "error_y": {
          "array": [
           1.78125,
           1.78125
          ]
         },
         "error_z": {
          "array": [
           1.78125,
           1.78125
          ]
         },
         "hovertemplate": "0=233.0<br>1=%{x}<br>2=%{y}<br>3=%{z}<extra></extra>",
         "legendgroup": "",
         "line": {
          "color": "#636efa",
          "dash": "solid"
         },
         "marker": {
          "symbol": "circle"
         },
         "mode": "lines",
         "name": "",
         "scene": "scene",
         "showlegend": false,
         "type": "scatter3d",
         "x": [
          99.06469,
          98.04022
         ],
         "y": [
          129.25687,
          133.31123
         ],
         "z": [
          63.63407,
          61.09065
         ]
        },
        {
         "error_x": {
          "array": [
           1.9,
           1.9
          ]
         },
         "error_y": {
          "array": [
           1.9,
           1.9
          ]
         },
         "error_z": {
          "array": [
           1.9,
           1.9
          ]
         },
         "hovertemplate": "0=234.0<br>1=%{x}<br>2=%{y}<br>3=%{z}<extra></extra>",
         "legendgroup": "",
         "line": {
          "color": "#636efa",
          "dash": "solid"
         },
         "marker": {
          "symbol": "circle"
         },
         "mode": "lines",
         "name": "",
         "scene": "scene",
         "showlegend": false,
         "type": "scatter3d",
         "x": [
          98.04022,
          97.78179
         ],
         "y": [
          133.31123,
          136.46417
         ],
         "z": [
          61.09065,
          58.26515
         ]
        },
        {
         "error_x": {
          "array": [
           1.78125,
           1.78125
          ]
         },
         "error_y": {
          "array": [
           1.78125,
           1.78125
          ]
         },
         "error_z": {
          "array": [
           1.78125,
           1.78125
          ]
         },
         "hovertemplate": "0=235.0<br>1=%{x}<br>2=%{y}<br>3=%{z}<extra></extra>",
         "legendgroup": "",
         "line": {
          "color": "#636efa",
          "dash": "solid"
         },
         "marker": {
          "symbol": "circle"
         },
         "mode": "lines",
         "name": "",
         "scene": "scene",
         "showlegend": false,
         "type": "scatter3d",
         "x": [
          97.78179,
          96.63503
         ],
         "y": [
          136.46417,
          139.6812
         ],
         "z": [
          58.26515,
          56.070347
         ]
        },
        {
         "error_x": {
          "array": [
           1.82875,
           1.82875
          ]
         },
         "error_y": {
          "array": [
           1.82875,
           1.82875
          ]
         },
         "error_z": {
          "array": [
           1.82875,
           1.82875
          ]
         },
         "hovertemplate": "0=236.0<br>1=%{x}<br>2=%{y}<br>3=%{z}<extra></extra>",
         "legendgroup": "",
         "line": {
          "color": "#636efa",
          "dash": "solid"
         },
         "marker": {
          "symbol": "circle"
         },
         "mode": "lines",
         "name": "",
         "scene": "scene",
         "showlegend": false,
         "type": "scatter3d",
         "x": [
          96.63503,
          95.50644
         ],
         "y": [
          139.6812,
          142.02995
         ],
         "z": [
          56.070347,
          52.5838
         ]
        },
        {
         "error_x": {
          "array": [
           2.01875,
           2.01875
          ]
         },
         "error_y": {
          "array": [
           2.01875,
           2.01875
          ]
         },
         "error_z": {
          "array": [
           2.01875,
           2.01875
          ]
         },
         "hovertemplate": "0=237.0<br>1=%{x}<br>2=%{y}<br>3=%{z}<extra></extra>",
         "legendgroup": "",
         "line": {
          "color": "#636efa",
          "dash": "solid"
         },
         "marker": {
          "symbol": "circle"
         },
         "mode": "lines",
         "name": "",
         "scene": "scene",
         "showlegend": false,
         "type": "scatter3d",
         "x": [
          95.50644,
          93.77509
         ],
         "y": [
          142.02995,
          146.35011
         ],
         "z": [
          52.5838,
          51.984238
         ]
        },
        {
         "error_x": {
          "array": [
           2.06625,
           2.06625
          ]
         },
         "error_y": {
          "array": [
           2.06625,
           2.06625
          ]
         },
         "error_z": {
          "array": [
           2.06625,
           2.06625
          ]
         },
         "hovertemplate": "0=238.0<br>1=%{x}<br>2=%{y}<br>3=%{z}<extra></extra>",
         "legendgroup": "",
         "line": {
          "color": "#636efa",
          "dash": "solid"
         },
         "marker": {
          "symbol": "circle"
         },
         "mode": "lines",
         "name": "",
         "scene": "scene",
         "showlegend": false,
         "type": "scatter3d",
         "x": [
          93.77509,
          92.62966
         ],
         "y": [
          146.35011,
          151.0735
         ],
         "z": [
          51.984238,
          51.305653
         ]
        },
        {
         "error_x": {
          "array": [
           2.06625,
           2.06625
          ]
         },
         "error_y": {
          "array": [
           2.06625,
           2.06625
          ]
         },
         "error_z": {
          "array": [
           2.06625,
           2.06625
          ]
         },
         "hovertemplate": "0=239.0<br>1=%{x}<br>2=%{y}<br>3=%{z}<extra></extra>",
         "legendgroup": "",
         "line": {
          "color": "#636efa",
          "dash": "solid"
         },
         "marker": {
          "symbol": "circle"
         },
         "mode": "lines",
         "name": "",
         "scene": "scene",
         "showlegend": false,
         "type": "scatter3d",
         "x": [
          92.62966,
          91.10209
         ],
         "y": [
          151.0735,
          155.57063
         ],
         "z": [
          51.305653,
          50.56924
         ]
        },
        {
         "error_x": {
          "array": [
           2.5175,
           2.5175
          ]
         },
         "error_y": {
          "array": [
           2.5175,
           2.5175
          ]
         },
         "error_z": {
          "array": [
           2.5175,
           2.5175
          ]
         },
         "hovertemplate": "0=240.0<br>1=%{x}<br>2=%{y}<br>3=%{z}<extra></extra>",
         "legendgroup": "",
         "line": {
          "color": "#636efa",
          "dash": "solid"
         },
         "marker": {
          "symbol": "circle"
         },
         "mode": "lines",
         "name": "",
         "scene": "scene",
         "showlegend": false,
         "type": "scatter3d",
         "x": [
          91.10209,
          89.41548
         ],
         "y": [
          155.57063,
          160.02643
         ],
         "z": [
          50.56924,
          49.89523
         ]
        },
        {
         "error_x": {
          "array": [
           2.5175,
           2.5175
          ]
         },
         "error_y": {
          "array": [
           2.5175,
           2.5175
          ]
         },
         "error_z": {
          "array": [
           2.5175,
           2.5175
          ]
         },
         "hovertemplate": "0=241.0<br>1=%{x}<br>2=%{y}<br>3=%{z}<extra></extra>",
         "legendgroup": "",
         "line": {
          "color": "#636efa",
          "dash": "solid"
         },
         "marker": {
          "symbol": "circle"
         },
         "mode": "lines",
         "name": "",
         "scene": "scene",
         "showlegend": false,
         "type": "scatter3d",
         "x": [
          89.41548,
          86.49748
         ],
         "y": [
          160.02643,
          164.03358
         ],
         "z": [
          49.89523,
          49.935516
         ]
        },
        {
         "error_x": {
          "array": [
           2.2325,
           2.2325
          ]
         },
         "error_y": {
          "array": [
           2.2325,
           2.2325
          ]
         },
         "error_z": {
          "array": [
           2.2325,
           2.2325
          ]
         },
         "hovertemplate": "0=242.0<br>1=%{x}<br>2=%{y}<br>3=%{z}<extra></extra>",
         "legendgroup": "",
         "line": {
          "color": "#636efa",
          "dash": "solid"
         },
         "marker": {
          "symbol": "circle"
         },
         "mode": "lines",
         "name": "",
         "scene": "scene",
         "showlegend": false,
         "type": "scatter3d",
         "x": [
          86.49748,
          82.822784
         ],
         "y": [
          164.03358,
          167.23523
         ],
         "z": [
          49.935516,
          50.04701
         ]
        },
        {
         "error_x": {
          "array": [
           1.2825,
           1.2825
          ]
         },
         "error_y": {
          "array": [
           1.2825,
           1.2825
          ]
         },
         "error_z": {
          "array": [
           1.2825,
           1.2825
          ]
         },
         "hovertemplate": "0=243.0<br>1=%{x}<br>2=%{y}<br>3=%{z}<extra></extra>",
         "legendgroup": "",
         "line": {
          "color": "#636efa",
          "dash": "solid"
         },
         "marker": {
          "symbol": "circle"
         },
         "mode": "lines",
         "name": "",
         "scene": "scene",
         "showlegend": false,
         "type": "scatter3d",
         "x": [
          82.822784,
          78.62992
         ],
         "y": [
          167.23523,
          169.16504
         ],
         "z": [
          50.04701,
          50.068127
         ]
        },
        {
         "error_x": {
          "array": [
           1.2825,
           1.2825
          ]
         },
         "error_y": {
          "array": [
           1.2825,
           1.2825
          ]
         },
         "error_z": {
          "array": [
           1.2825,
           1.2825
          ]
         },
         "hovertemplate": "0=244.0<br>1=%{x}<br>2=%{y}<br>3=%{z}<extra></extra>",
         "legendgroup": "",
         "line": {
          "color": "#636efa",
          "dash": "solid"
         },
         "marker": {
          "symbol": "circle"
         },
         "mode": "lines",
         "name": "",
         "scene": "scene",
         "showlegend": false,
         "type": "scatter3d",
         "x": [
          78.62992,
          73.944534
         ],
         "y": [
          169.16504,
          169.829
         ],
         "z": [
          50.068127,
          51.006763
         ]
        },
        {
         "error_x": {
          "array": [
           1.59125,
           1.59125
          ]
         },
         "error_y": {
          "array": [
           1.59125,
           1.59125
          ]
         },
         "error_z": {
          "array": [
           1.59125,
           1.59125
          ]
         },
         "hovertemplate": "0=245.0<br>1=%{x}<br>2=%{y}<br>3=%{z}<extra></extra>",
         "legendgroup": "",
         "line": {
          "color": "#636efa",
          "dash": "solid"
         },
         "marker": {
          "symbol": "circle"
         },
         "mode": "lines",
         "name": "",
         "scene": "scene",
         "showlegend": false,
         "type": "scatter3d",
         "x": [
          73.944534,
          69.26245
         ],
         "y": [
          169.829,
          170.11551
         ],
         "z": [
          51.006763,
          52.290627
         ]
        },
        {
         "error_x": {
          "array": [
           1.87625,
           1.87625
          ]
         },
         "error_y": {
          "array": [
           1.87625,
           1.87625
          ]
         },
         "error_z": {
          "array": [
           1.87625,
           1.87625
          ]
         },
         "hovertemplate": "0=246.0<br>1=%{x}<br>2=%{y}<br>3=%{z}<extra></extra>",
         "legendgroup": "",
         "line": {
          "color": "#636efa",
          "dash": "solid"
         },
         "marker": {
          "symbol": "circle"
         },
         "mode": "lines",
         "name": "",
         "scene": "scene",
         "showlegend": false,
         "type": "scatter3d",
         "x": [
          69.26245,
          65.62927
         ],
         "y": [
          170.11551,
          170.83888
         ],
         "z": [
          52.290627,
          50.88964
         ]
        },
        {
         "error_x": {
          "array": [
           1.59125,
           1.59125
          ]
         },
         "error_y": {
          "array": [
           1.59125,
           1.59125
          ]
         },
         "error_z": {
          "array": [
           1.59125,
           1.59125
          ]
         },
         "hovertemplate": "0=247.0<br>1=%{x}<br>2=%{y}<br>3=%{z}<extra></extra>",
         "legendgroup": "",
         "line": {
          "color": "#636efa",
          "dash": "solid"
         },
         "marker": {
          "symbol": "circle"
         },
         "mode": "lines",
         "name": "",
         "scene": "scene",
         "showlegend": false,
         "type": "scatter3d",
         "x": [
          65.62927,
          61.850834
         ],
         "y": [
          170.83888,
          172.98442
         ],
         "z": [
          50.88964,
          48.86038
         ]
        },
        {
         "error_x": {
          "array": [
           1.78125,
           1.78125
          ]
         },
         "error_y": {
          "array": [
           1.78125,
           1.78125
          ]
         },
         "error_z": {
          "array": [
           1.78125,
           1.78125
          ]
         },
         "hovertemplate": "0=248.0<br>1=%{x}<br>2=%{y}<br>3=%{z}<extra></extra>",
         "legendgroup": "",
         "line": {
          "color": "#636efa",
          "dash": "solid"
         },
         "marker": {
          "symbol": "circle"
         },
         "mode": "lines",
         "name": "",
         "scene": "scene",
         "showlegend": false,
         "type": "scatter3d",
         "x": [
          61.850834,
          59.71455
         ],
         "y": [
          172.98442,
          174.78015
         ],
         "z": [
          48.86038,
          45.562588
         ]
        },
        {
         "error_x": {
          "array": [
           1.59125,
           1.59125
          ]
         },
         "error_y": {
          "array": [
           1.59125,
           1.59125
          ]
         },
         "error_z": {
          "array": [
           1.59125,
           1.59125
          ]
         },
         "hovertemplate": "0=249.0<br>1=%{x}<br>2=%{y}<br>3=%{z}<extra></extra>",
         "legendgroup": "",
         "line": {
          "color": "#636efa",
          "dash": "solid"
         },
         "marker": {
          "symbol": "circle"
         },
         "mode": "lines",
         "name": "",
         "scene": "scene",
         "showlegend": false,
         "type": "scatter3d",
         "x": [
          59.71455,
          59.081615
         ],
         "y": [
          174.78015,
          174.62602
         ],
         "z": [
          45.562588,
          40.663425
         ]
        },
        {
         "error_x": {
          "array": [
           1.87625,
           1.87625
          ]
         },
         "error_y": {
          "array": [
           1.87625,
           1.87625
          ]
         },
         "error_z": {
          "array": [
           1.87625,
           1.87625
          ]
         },
         "hovertemplate": "0=250.0<br>1=%{x}<br>2=%{y}<br>3=%{z}<extra></extra>",
         "legendgroup": "",
         "line": {
          "color": "#636efa",
          "dash": "solid"
         },
         "marker": {
          "symbol": "circle"
         },
         "mode": "lines",
         "name": "",
         "scene": "scene",
         "showlegend": false,
         "type": "scatter3d",
         "x": [
          59.081615,
          59.062256
         ],
         "y": [
          174.62602,
          174.50978
         ],
         "z": [
          40.663425,
          35.690884
         ]
        },
        {
         "error_x": {
          "array": [
           2.755,
           2.755
          ]
         },
         "error_y": {
          "array": [
           2.755,
           2.755
          ]
         },
         "error_z": {
          "array": [
           2.755,
           2.755
          ]
         },
         "hovertemplate": "0=251.0<br>1=%{x}<br>2=%{y}<br>3=%{z}<extra></extra>",
         "legendgroup": "",
         "line": {
          "color": "#636efa",
          "dash": "solid"
         },
         "marker": {
          "symbol": "circle"
         },
         "mode": "lines",
         "name": "",
         "scene": "scene",
         "showlegend": false,
         "type": "scatter3d",
         "x": [
          59.062256,
          57.648304
         ],
         "y": [
          174.50978,
          173.32787
         ],
         "z": [
          35.690884,
          31.511717
         ]
        },
        {
         "error_x": {
          "array": [
           1.71,
           1.71
          ]
         },
         "error_y": {
          "array": [
           1.71,
           1.71
          ]
         },
         "error_z": {
          "array": [
           1.71,
           1.71
          ]
         },
         "hovertemplate": "0=252.0<br>1=%{x}<br>2=%{y}<br>3=%{z}<extra></extra>",
         "legendgroup": "",
         "line": {
          "color": "#636efa",
          "dash": "solid"
         },
         "marker": {
          "symbol": "circle"
         },
         "mode": "lines",
         "name": "",
         "scene": "scene",
         "showlegend": false,
         "type": "scatter3d",
         "x": [
          57.648304,
          57.310696
         ],
         "y": [
          173.32787,
          170.38213
         ],
         "z": [
          31.511717,
          27.759077
         ]
        },
        {
         "error_x": {
          "array": [
           1.40125,
           1.40125
          ]
         },
         "error_y": {
          "array": [
           1.40125,
           1.40125
          ]
         },
         "error_z": {
          "array": [
           1.40125,
           1.40125
          ]
         },
         "hovertemplate": "0=253.0<br>1=%{x}<br>2=%{y}<br>3=%{z}<extra></extra>",
         "legendgroup": "",
         "line": {
          "color": "#636efa",
          "dash": "solid"
         },
         "marker": {
          "symbol": "circle"
         },
         "mode": "lines",
         "name": "",
         "scene": "scene",
         "showlegend": false,
         "type": "scatter3d",
         "x": [
          57.310696,
          55.713722
         ],
         "y": [
          170.38213,
          169.03894
         ],
         "z": [
          27.759077,
          23.783026
         ]
        },
        {
         "error_x": {
          "array": [
           1.54375,
           1.54375
          ]
         },
         "error_y": {
          "array": [
           1.54375,
           1.54375
          ]
         },
         "error_z": {
          "array": [
           1.54375,
           1.54375
          ]
         },
         "hovertemplate": "0=254.0<br>1=%{x}<br>2=%{y}<br>3=%{z}<extra></extra>",
         "legendgroup": "",
         "line": {
          "color": "#636efa",
          "dash": "solid"
         },
         "marker": {
          "symbol": "circle"
         },
         "mode": "lines",
         "name": "",
         "scene": "scene",
         "showlegend": false,
         "type": "scatter3d",
         "x": [
          55.713722,
          53.78365
         ],
         "y": [
          169.03894,
          166.69174
         ],
         "z": [
          23.783026,
          20.097765
         ]
        },
        {
         "error_x": {
          "array": [
           1.59125,
           1.59125
          ]
         },
         "error_y": {
          "array": [
           1.59125,
           1.59125
          ]
         },
         "error_z": {
          "array": [
           1.59125,
           1.59125
          ]
         },
         "hovertemplate": "0=255.0<br>1=%{x}<br>2=%{y}<br>3=%{z}<extra></extra>",
         "legendgroup": "",
         "line": {
          "color": "#636efa",
          "dash": "solid"
         },
         "marker": {
          "symbol": "circle"
         },
         "mode": "lines",
         "name": "",
         "scene": "scene",
         "showlegend": false,
         "type": "scatter3d",
         "x": [
          53.78365,
          52.88089
         ],
         "y": [
          166.69174,
          163.97014
         ],
         "z": [
          20.097765,
          16.585258
         ]
        },
        {
         "error_x": {
          "array": [
           1.97125,
           1.97125
          ]
         },
         "error_y": {
          "array": [
           1.97125,
           1.97125
          ]
         },
         "error_z": {
          "array": [
           1.97125,
           1.97125
          ]
         },
         "hovertemplate": "0=256.0<br>1=%{x}<br>2=%{y}<br>3=%{z}<extra></extra>",
         "legendgroup": "",
         "line": {
          "color": "#636efa",
          "dash": "solid"
         },
         "marker": {
          "symbol": "circle"
         },
         "mode": "lines",
         "name": "",
         "scene": "scene",
         "showlegend": false,
         "type": "scatter3d",
         "x": [
          52.88089,
          49.880207
         ],
         "y": [
          163.97014,
          163.06319
         ],
         "z": [
          16.585258,
          13.145863
         ]
        },
        {
         "error_x": {
          "array": [
           1.49625,
           1.49625
          ]
         },
         "error_y": {
          "array": [
           1.49625,
           1.49625
          ]
         },
         "error_z": {
          "array": [
           1.49625,
           1.49625
          ]
         },
         "hovertemplate": "0=257.0<br>1=%{x}<br>2=%{y}<br>3=%{z}<extra></extra>",
         "legendgroup": "",
         "line": {
          "color": "#636efa",
          "dash": "solid"
         },
         "marker": {
          "symbol": "circle"
         },
         "mode": "lines",
         "name": "",
         "scene": "scene",
         "showlegend": false,
         "type": "scatter3d",
         "x": [
          49.880207,
          47.159634
         ],
         "y": [
          163.06319,
          164.94078
         ],
         "z": [
          13.145863,
          9.9164
         ]
        },
        {
         "error_x": {
          "array": [
           1.235,
           1.235
          ]
         },
         "error_y": {
          "array": [
           1.235,
           1.235
          ]
         },
         "error_z": {
          "array": [
           1.235,
           1.235
          ]
         },
         "hovertemplate": "0=258.0<br>1=%{x}<br>2=%{y}<br>3=%{z}<extra></extra>",
         "legendgroup": "",
         "line": {
          "color": "#636efa",
          "dash": "solid"
         },
         "marker": {
          "symbol": "circle"
         },
         "mode": "lines",
         "name": "",
         "scene": "scene",
         "showlegend": false,
         "type": "scatter3d",
         "x": [
          47.159634,
          44.070385
         ],
         "y": [
          164.94078,
          167.71408
         ],
         "z": [
          9.9164,
          8.2528925
         ]
        },
        {
         "error_x": {
          "array": [
           1.54375,
           1.54375
          ]
         },
         "error_y": {
          "array": [
           1.54375,
           1.54375
          ]
         },
         "error_z": {
          "array": [
           1.54375,
           1.54375
          ]
         },
         "hovertemplate": "0=259.0<br>1=%{x}<br>2=%{y}<br>3=%{z}<extra></extra>",
         "legendgroup": "",
         "line": {
          "color": "#636efa",
          "dash": "solid"
         },
         "marker": {
          "symbol": "circle"
         },
         "mode": "lines",
         "name": "",
         "scene": "scene",
         "showlegend": false,
         "type": "scatter3d",
         "x": [
          82.822784,
          80.523895
         ],
         "y": [
          167.23523,
          170.36613
         ],
         "z": [
          50.04701,
          51.828747
         ]
        },
        {
         "error_x": {
          "array": [
           1.54375,
           1.54375
          ]
         },
         "error_y": {
          "array": [
           1.54375,
           1.54375
          ]
         },
         "error_z": {
          "array": [
           1.54375,
           1.54375
          ]
         },
         "hovertemplate": "0=260.0<br>1=%{x}<br>2=%{y}<br>3=%{z}<extra></extra>",
         "legendgroup": "",
         "line": {
          "color": "#636efa",
          "dash": "solid"
         },
         "marker": {
          "symbol": "circle"
         },
         "mode": "lines",
         "name": "",
         "scene": "scene",
         "showlegend": false,
         "type": "scatter3d",
         "x": [
          80.523895,
          78.28644
         ],
         "y": [
          170.36613,
          173.12755
         ],
         "z": [
          51.828747,
          54.46372
         ]
        },
        {
         "error_x": {
          "array": [
           1.40125,
           1.40125
          ]
         },
         "error_y": {
          "array": [
           1.40125,
           1.40125
          ]
         },
         "error_z": {
          "array": [
           1.40125,
           1.40125
          ]
         },
         "hovertemplate": "0=261.0<br>1=%{x}<br>2=%{y}<br>3=%{z}<extra></extra>",
         "legendgroup": "",
         "line": {
          "color": "#636efa",
          "dash": "solid"
         },
         "marker": {
          "symbol": "circle"
         },
         "mode": "lines",
         "name": "",
         "scene": "scene",
         "showlegend": false,
         "type": "scatter3d",
         "x": [
          78.28644,
          78.09801
         ],
         "y": [
          173.12755,
          176.1944
         ],
         "z": [
          54.46372,
          57.974205
         ]
        },
        {
         "error_x": {
          "array": [
           1.87625,
           1.87625
          ]
         },
         "error_y": {
          "array": [
           1.87625,
           1.87625
          ]
         },
         "error_z": {
          "array": [
           1.87625,
           1.87625
          ]
         },
         "hovertemplate": "0=262.0<br>1=%{x}<br>2=%{y}<br>3=%{z}<extra></extra>",
         "legendgroup": "",
         "line": {
          "color": "#636efa",
          "dash": "solid"
         },
         "marker": {
          "symbol": "circle"
         },
         "mode": "lines",
         "name": "",
         "scene": "scene",
         "showlegend": false,
         "type": "scatter3d",
         "x": [
          78.09801,
          77.82688
         ],
         "y": [
          176.1944,
          178.2088
         ],
         "z": [
          57.974205,
          62.266487
         ]
        },
        {
         "error_x": {
          "array": [
           1.59125,
           1.59125
          ]
         },
         "error_y": {
          "array": [
           1.59125,
           1.59125
          ]
         },
         "error_z": {
          "array": [
           1.59125,
           1.59125
          ]
         },
         "hovertemplate": "0=263.0<br>1=%{x}<br>2=%{y}<br>3=%{z}<extra></extra>",
         "legendgroup": "",
         "line": {
          "color": "#636efa",
          "dash": "solid"
         },
         "marker": {
          "symbol": "circle"
         },
         "mode": "lines",
         "name": "",
         "scene": "scene",
         "showlegend": false,
         "type": "scatter3d",
         "x": [
          77.82688,
          77.50193
         ],
         "y": [
          178.2088,
          179.82043
         ],
         "z": [
          62.266487,
          66.63481
         ]
        },
        {
         "error_x": {
          "array": [
           1.68625,
           1.68625
          ]
         },
         "error_y": {
          "array": [
           1.68625,
           1.68625
          ]
         },
         "error_z": {
          "array": [
           1.68625,
           1.68625
          ]
         },
         "hovertemplate": "0=264.0<br>1=%{x}<br>2=%{y}<br>3=%{z}<extra></extra>",
         "legendgroup": "",
         "line": {
          "color": "#636efa",
          "dash": "solid"
         },
         "marker": {
          "symbol": "circle"
         },
         "mode": "lines",
         "name": "",
         "scene": "scene",
         "showlegend": false,
         "type": "scatter3d",
         "x": [
          77.50193,
          76.59345
         ],
         "y": [
          179.82043,
          181.62433
         ],
         "z": [
          66.63481,
          70.9913
         ]
        },
        {
         "error_x": {
          "array": [
           1.97125,
           1.97125
          ]
         },
         "error_y": {
          "array": [
           1.97125,
           1.97125
          ]
         },
         "error_z": {
          "array": [
           1.97125,
           1.97125
          ]
         },
         "hovertemplate": "0=265.0<br>1=%{x}<br>2=%{y}<br>3=%{z}<extra></extra>",
         "legendgroup": "",
         "line": {
          "color": "#636efa",
          "dash": "solid"
         },
         "marker": {
          "symbol": "circle"
         },
         "mode": "lines",
         "name": "",
         "scene": "scene",
         "showlegend": false,
         "type": "scatter3d",
         "x": [
          76.59345,
          74.6965
         ],
         "y": [
          181.62433,
          183.57204
         ],
         "z": [
          70.9913,
          74.66327
         ]
        },
        {
         "error_x": {
          "array": [
           1.87625,
           1.87625
          ]
         },
         "error_y": {
          "array": [
           1.87625,
           1.87625
          ]
         },
         "error_z": {
          "array": [
           1.87625,
           1.87625
          ]
         },
         "hovertemplate": "0=266.0<br>1=%{x}<br>2=%{y}<br>3=%{z}<extra></extra>",
         "legendgroup": "",
         "line": {
          "color": "#636efa",
          "dash": "solid"
         },
         "marker": {
          "symbol": "circle"
         },
         "mode": "lines",
         "name": "",
         "scene": "scene",
         "showlegend": false,
         "type": "scatter3d",
         "x": [
          74.6965,
          73.66678
         ],
         "y": [
          183.57204,
          186.0879
         ],
         "z": [
          74.66327,
          78.565056
         ]
        },
        {
         "error_x": {
          "array": [
           1.33,
           1.33
          ]
         },
         "error_y": {
          "array": [
           1.33,
           1.33
          ]
         },
         "error_z": {
          "array": [
           1.33,
           1.33
          ]
         },
         "hovertemplate": "0=267.0<br>1=%{x}<br>2=%{y}<br>3=%{z}<extra></extra>",
         "legendgroup": "",
         "line": {
          "color": "#636efa",
          "dash": "solid"
         },
         "marker": {
          "symbol": "circle"
         },
         "mode": "lines",
         "name": "",
         "scene": "scene",
         "showlegend": false,
         "type": "scatter3d",
         "x": [
          73.66678,
          70.84449
         ],
         "y": [
          186.0879,
          189.80399
         ],
         "z": [
          78.565056,
          79.39793
         ]
        },
        {
         "error_x": {
          "array": [
           1.21125,
           1.21125
          ]
         },
         "error_y": {
          "array": [
           1.21125,
           1.21125
          ]
         },
         "error_z": {
          "array": [
           1.21125,
           1.21125
          ]
         },
         "hovertemplate": "0=268.0<br>1=%{x}<br>2=%{y}<br>3=%{z}<extra></extra>",
         "legendgroup": "",
         "line": {
          "color": "#636efa",
          "dash": "solid"
         },
         "marker": {
          "symbol": "circle"
         },
         "mode": "lines",
         "name": "",
         "scene": "scene",
         "showlegend": false,
         "type": "scatter3d",
         "x": [
          70.84449,
          67.9385
         ],
         "y": [
          189.80399,
          193.24338
         ],
         "z": [
          79.39793,
          81.11403
         ]
        },
        {
         "error_x": {
          "array": [
           1.235,
           1.235
          ]
         },
         "error_y": {
          "array": [
           1.235,
           1.235
          ]
         },
         "error_z": {
          "array": [
           1.235,
           1.235
          ]
         },
         "hovertemplate": "0=269.0<br>1=%{x}<br>2=%{y}<br>3=%{z}<extra></extra>",
         "legendgroup": "",
         "line": {
          "color": "#636efa",
          "dash": "solid"
         },
         "marker": {
          "symbol": "circle"
         },
         "mode": "lines",
         "name": "",
         "scene": "scene",
         "showlegend": false,
         "type": "scatter3d",
         "x": [
          67.9385,
          65.876854
         ],
         "y": [
          193.24338,
          197.26015
         ],
         "z": [
          81.11403,
          82.74238
         ]
        },
        {
         "error_x": {
          "array": [
           1.235,
           1.235
          ]
         },
         "error_y": {
          "array": [
           1.235,
           1.235
          ]
         },
         "error_z": {
          "array": [
           1.235,
           1.235
          ]
         },
         "hovertemplate": "0=270.0<br>1=%{x}<br>2=%{y}<br>3=%{z}<extra></extra>",
         "legendgroup": "",
         "line": {
          "color": "#636efa",
          "dash": "solid"
         },
         "marker": {
          "symbol": "circle"
         },
         "mode": "lines",
         "name": "",
         "scene": "scene",
         "showlegend": false,
         "type": "scatter3d",
         "x": [
          65.876854,
          63.86084
         ],
         "y": [
          197.26015,
          201.55681
         ],
         "z": [
          82.74238,
          82.83101
         ]
        },
        {
         "error_x": {
          "array": [
           1.30625,
           1.30625
          ]
         },
         "error_y": {
          "array": [
           1.30625,
           1.30625
          ]
         },
         "error_z": {
          "array": [
           1.30625,
           1.30625
          ]
         },
         "hovertemplate": "0=271.0<br>1=%{x}<br>2=%{y}<br>3=%{z}<extra></extra>",
         "legendgroup": "",
         "line": {
          "color": "#636efa",
          "dash": "solid"
         },
         "marker": {
          "symbol": "circle"
         },
         "mode": "lines",
         "name": "",
         "scene": "scene",
         "showlegend": false,
         "type": "scatter3d",
         "x": [
          63.86084,
          62.40939
         ],
         "y": [
          201.55681,
          203.53627
         ],
         "z": [
          82.83101,
          86.14846
         ]
        },
        {
         "error_x": {
          "array": [
           1.54375,
           1.54375
          ]
         },
         "error_y": {
          "array": [
           1.54375,
           1.54375
          ]
         },
         "error_z": {
          "array": [
           1.54375,
           1.54375
          ]
         },
         "hovertemplate": "0=272.0<br>1=%{x}<br>2=%{y}<br>3=%{z}<extra></extra>",
         "legendgroup": "",
         "line": {
          "color": "#636efa",
          "dash": "solid"
         },
         "marker": {
          "symbol": "circle"
         },
         "mode": "lines",
         "name": "",
         "scene": "scene",
         "showlegend": false,
         "type": "scatter3d",
         "x": [
          62.40939,
          60.680218
         ],
         "y": [
          203.53627,
          205.28201
         ],
         "z": [
          86.14846,
          89.765434
         ]
        },
        {
         "error_x": {
          "array": [
           0.97375,
           0.97375
          ]
         },
         "error_y": {
          "array": [
           0.97375,
           0.97375
          ]
         },
         "error_z": {
          "array": [
           0.97375,
           0.97375
          ]
         },
         "hovertemplate": "0=273.0<br>1=%{x}<br>2=%{y}<br>3=%{z}<extra></extra>",
         "legendgroup": "",
         "line": {
          "color": "#636efa",
          "dash": "solid"
         },
         "marker": {
          "symbol": "circle"
         },
         "mode": "lines",
         "name": "",
         "scene": "scene",
         "showlegend": false,
         "type": "scatter3d",
         "x": [
          60.680218,
          57.771683
         ],
         "y": [
          205.28201,
          207.96284
         ],
         "z": [
          89.765434,
          91.70699
         ]
        },
        {
         "error_x": {
          "array": [
           1.2825,
           1.2825
          ]
         },
         "error_y": {
          "array": [
           1.2825,
           1.2825
          ]
         },
         "error_z": {
          "array": [
           1.2825,
           1.2825
          ]
         },
         "hovertemplate": "0=274.0<br>1=%{x}<br>2=%{y}<br>3=%{z}<extra></extra>",
         "legendgroup": "",
         "line": {
          "color": "#636efa",
          "dash": "solid"
         },
         "marker": {
          "symbol": "circle"
         },
         "mode": "lines",
         "name": "",
         "scene": "scene",
         "showlegend": false,
         "type": "scatter3d",
         "x": [
          57.771683,
          54.676826
         ],
         "y": [
          207.96284,
          210.41261
         ],
         "z": [
          91.70699,
          94.30783
         ]
        },
        {
         "error_x": {
          "array": [
           1.52,
           1.52
          ]
         },
         "error_y": {
          "array": [
           1.52,
           1.52
          ]
         },
         "error_z": {
          "array": [
           1.52,
           1.52
          ]
         },
         "hovertemplate": "0=275.0<br>1=%{x}<br>2=%{y}<br>3=%{z}<extra></extra>",
         "legendgroup": "",
         "line": {
          "color": "#636efa",
          "dash": "solid"
         },
         "marker": {
          "symbol": "circle"
         },
         "mode": "lines",
         "name": "",
         "scene": "scene",
         "showlegend": false,
         "type": "scatter3d",
         "x": [
          54.676826,
          51.24454
         ],
         "y": [
          210.41261,
          213.2949
         ],
         "z": [
          94.30783,
          95.68176
         ]
        },
        {
         "error_x": {
          "array": [
           1.0925,
           1.0925
          ]
         },
         "error_y": {
          "array": [
           1.0925,
           1.0925
          ]
         },
         "error_z": {
          "array": [
           1.0925,
           1.0925
          ]
         },
         "hovertemplate": "0=276.0<br>1=%{x}<br>2=%{y}<br>3=%{z}<extra></extra>",
         "legendgroup": "",
         "line": {
          "color": "#636efa",
          "dash": "solid"
         },
         "marker": {
          "symbol": "circle"
         },
         "mode": "lines",
         "name": "",
         "scene": "scene",
         "showlegend": false,
         "type": "scatter3d",
         "x": [
          51.24454,
          47.81062
         ],
         "y": [
          213.2949,
          216.8239
         ],
         "z": [
          95.68176,
          95.95705
         ]
        },
        {
         "error_x": {
          "array": [
           0.8075,
           0.8075
          ]
         },
         "error_y": {
          "array": [
           0.8075,
           0.8075
          ]
         },
         "error_z": {
          "array": [
           0.8075,
           0.8075
          ]
         },
         "hovertemplate": "0=277.0<br>1=%{x}<br>2=%{y}<br>3=%{z}<extra></extra>",
         "legendgroup": "",
         "line": {
          "color": "#636efa",
          "dash": "solid"
         },
         "marker": {
          "symbol": "circle"
         },
         "mode": "lines",
         "name": "",
         "scene": "scene",
         "showlegend": false,
         "type": "scatter3d",
         "x": [
          47.81062,
          46.343082
         ],
         "y": [
          216.8239,
          221.25728
         ],
         "z": [
          95.95705,
          97.244644
         ]
        },
        {
         "error_x": {
          "array": [
           0.97375,
           0.97375
          ]
         },
         "error_y": {
          "array": [
           0.97375,
           0.97375
          ]
         },
         "error_z": {
          "array": [
           0.97375,
           0.97375
          ]
         },
         "hovertemplate": "0=278.0<br>1=%{x}<br>2=%{y}<br>3=%{z}<extra></extra>",
         "legendgroup": "",
         "line": {
          "color": "#636efa",
          "dash": "solid"
         },
         "marker": {
          "symbol": "circle"
         },
         "mode": "lines",
         "name": "",
         "scene": "scene",
         "showlegend": false,
         "type": "scatter3d",
         "x": [
          46.343082,
          46.798653
         ],
         "y": [
          221.25728,
          224.69775
         ],
         "z": [
          97.244644,
          100.47684
         ]
        },
        {
         "error_x": {
          "array": [
           1.14,
           1.14
          ]
         },
         "error_y": {
          "array": [
           1.14,
           1.14
          ]
         },
         "error_z": {
          "array": [
           1.14,
           1.14
          ]
         },
         "hovertemplate": "0=279.0<br>1=%{x}<br>2=%{y}<br>3=%{z}<extra></extra>",
         "legendgroup": "",
         "line": {
          "color": "#636efa",
          "dash": "solid"
         },
         "marker": {
          "symbol": "circle"
         },
         "mode": "lines",
         "name": "",
         "scene": "scene",
         "showlegend": false,
         "type": "scatter3d",
         "x": [
          46.798653,
          45.96259
         ],
         "y": [
          224.69775,
          228.12225
         ],
         "z": [
          100.47684,
          103.329506
         ]
        },
        {
         "error_x": {
          "array": [
           1.16375,
           1.16375
          ]
         },
         "error_y": {
          "array": [
           1.16375,
           1.16375
          ]
         },
         "error_z": {
          "array": [
           1.16375,
           1.16375
          ]
         },
         "hovertemplate": "0=280.0<br>1=%{x}<br>2=%{y}<br>3=%{z}<extra></extra>",
         "legendgroup": "",
         "line": {
          "color": "#636efa",
          "dash": "solid"
         },
         "marker": {
          "symbol": "circle"
         },
         "mode": "lines",
         "name": "",
         "scene": "scene",
         "showlegend": false,
         "type": "scatter3d",
         "x": [
          45.96259,
          44.513058
         ],
         "y": [
          228.12225,
          232.68484
         ],
         "z": [
          103.329506,
          103.51782
         ]
        },
        {
         "error_x": {
          "array": [
           0.87875,
           0.87875
          ]
         },
         "error_y": {
          "array": [
           0.87875,
           0.87875
          ]
         },
         "error_z": {
          "array": [
           0.87875,
           0.87875
          ]
         },
         "hovertemplate": "0=281.0<br>1=%{x}<br>2=%{y}<br>3=%{z}<extra></extra>",
         "legendgroup": "",
         "line": {
          "color": "#636efa",
          "dash": "solid"
         },
         "marker": {
          "symbol": "circle"
         },
         "mode": "lines",
         "name": "",
         "scene": "scene",
         "showlegend": false,
         "type": "scatter3d",
         "x": [
          44.513058,
          43.575195
         ],
         "y": [
          232.68484,
          236.02805
         ],
         "z": [
          103.51782,
          106.47028
         ]
        },
        {
         "error_x": {
          "array": [
           0.6175,
           0.6175
          ]
         },
         "error_y": {
          "array": [
           0.6175,
           0.6175
          ]
         },
         "error_z": {
          "array": [
           0.6175,
           0.6175
          ]
         },
         "hovertemplate": "0=282.0<br>1=%{x}<br>2=%{y}<br>3=%{z}<extra></extra>",
         "legendgroup": "",
         "line": {
          "color": "#636efa",
          "dash": "solid"
         },
         "marker": {
          "symbol": "circle"
         },
         "mode": "lines",
         "name": "",
         "scene": "scene",
         "showlegend": false,
         "type": "scatter3d",
         "x": [
          43.575195,
          41.40075
         ],
         "y": [
          236.02805,
          240.43922
         ],
         "z": [
          106.47028,
          106.478745
         ]
        },
        {
         "error_x": {
          "array": [
           0.59375,
           0.59375
          ]
         },
         "error_y": {
          "array": [
           0.59375,
           0.59375
          ]
         },
         "error_z": {
          "array": [
           0.59375,
           0.59375
          ]
         },
         "hovertemplate": "0=283.0<br>1=%{x}<br>2=%{y}<br>3=%{z}<extra></extra>",
         "legendgroup": "",
         "line": {
          "color": "#636efa",
          "dash": "solid"
         },
         "marker": {
          "symbol": "circle"
         },
         "mode": "lines",
         "name": "",
         "scene": "scene",
         "showlegend": false,
         "type": "scatter3d",
         "x": [
          41.40075,
          40.582363
         ],
         "y": [
          240.43922,
          245.32878
         ],
         "z": [
          106.478745,
          106.55517
         ]
        },
        {
         "error_x": {
          "array": [
           0.78375,
           0.78375
          ]
         },
         "error_y": {
          "array": [
           0.78375,
           0.78375
          ]
         },
         "error_z": {
          "array": [
           0.78375,
           0.78375
          ]
         },
         "hovertemplate": "0=284.0<br>1=%{x}<br>2=%{y}<br>3=%{z}<extra></extra>",
         "legendgroup": "",
         "line": {
          "color": "#636efa",
          "dash": "solid"
         },
         "marker": {
          "symbol": "circle"
         },
         "mode": "lines",
         "name": "",
         "scene": "scene",
         "showlegend": false,
         "type": "scatter3d",
         "x": [
          40.582363,
          38.405647
         ],
         "y": [
          245.32878,
          249.17804
         ],
         "z": [
          106.55517,
          105.99067
         ]
        },
        {
         "error_x": {
          "array": [
           0.9025,
           0.9025
          ]
         },
         "error_y": {
          "array": [
           0.9025,
           0.9025
          ]
         },
         "error_z": {
          "array": [
           0.9025,
           0.9025
          ]
         },
         "hovertemplate": "0=285.0<br>1=%{x}<br>2=%{y}<br>3=%{z}<extra></extra>",
         "legendgroup": "",
         "line": {
          "color": "#636efa",
          "dash": "solid"
         },
         "marker": {
          "symbol": "circle"
         },
         "mode": "lines",
         "name": "",
         "scene": "scene",
         "showlegend": false,
         "type": "scatter3d",
         "x": [
          38.405647,
          34.276905
         ],
         "y": [
          249.17804,
          251.2491
         ],
         "z": [
          105.99067,
          104.20719
         ]
        },
        {
         "error_x": {
          "array": [
           0.9975,
           0.9975
          ]
         },
         "error_y": {
          "array": [
           0.9975,
           0.9975
          ]
         },
         "error_z": {
          "array": [
           0.9975,
           0.9975
          ]
         },
         "hovertemplate": "0=286.0<br>1=%{x}<br>2=%{y}<br>3=%{z}<extra></extra>",
         "legendgroup": "",
         "line": {
          "color": "#636efa",
          "dash": "solid"
         },
         "marker": {
          "symbol": "circle"
         },
         "mode": "lines",
         "name": "",
         "scene": "scene",
         "showlegend": false,
         "type": "scatter3d",
         "x": [
          34.276905,
          30.503704
         ],
         "y": [
          251.2491,
          253.7543
         ],
         "z": [
          104.20719,
          102.88896
         ]
        },
        {
         "error_x": {
          "array": [
           0.76,
           0.76
          ]
         },
         "error_y": {
          "array": [
           0.76,
           0.76
          ]
         },
         "error_z": {
          "array": [
           0.76,
           0.76
          ]
         },
         "hovertemplate": "0=287.0<br>1=%{x}<br>2=%{y}<br>3=%{z}<extra></extra>",
         "legendgroup": "",
         "line": {
          "color": "#636efa",
          "dash": "solid"
         },
         "marker": {
          "symbol": "circle"
         },
         "mode": "lines",
         "name": "",
         "scene": "scene",
         "showlegend": false,
         "type": "scatter3d",
         "x": [
          30.503704,
          26.52625
         ],
         "y": [
          253.7543,
          255.79924
         ],
         "z": [
          102.88896,
          103.70627
         ]
        },
        {
         "error_x": {
          "array": [
           1.2825,
           1.2825
          ]
         },
         "error_y": {
          "array": [
           1.2825,
           1.2825
          ]
         },
         "error_z": {
          "array": [
           1.2825,
           1.2825
          ]
         },
         "hovertemplate": "0=288.0<br>1=%{x}<br>2=%{y}<br>3=%{z}<extra></extra>",
         "legendgroup": "",
         "line": {
          "color": "#636efa",
          "dash": "solid"
         },
         "marker": {
          "symbol": "circle"
         },
         "mode": "lines",
         "name": "",
         "scene": "scene",
         "showlegend": false,
         "type": "scatter3d",
         "x": [
          26.52625,
          23.769718
         ],
         "y": [
          255.79924,
          258.99796
         ],
         "z": [
          103.70627,
          105.34874
         ]
        },
        {
         "error_x": {
          "array": [
           0.97375,
           0.97375
          ]
         },
         "error_y": {
          "array": [
           0.97375,
           0.97375
          ]
         },
         "error_z": {
          "array": [
           0.97375,
           0.97375
          ]
         },
         "hovertemplate": "0=289.0<br>1=%{x}<br>2=%{y}<br>3=%{z}<extra></extra>",
         "legendgroup": "",
         "line": {
          "color": "#636efa",
          "dash": "solid"
         },
         "marker": {
          "symbol": "circle"
         },
         "mode": "lines",
         "name": "",
         "scene": "scene",
         "showlegend": false,
         "type": "scatter3d",
         "x": [
          23.769718,
          20.729685
         ],
         "y": [
          258.99796,
          262.64157
         ],
         "z": [
          105.34874,
          105.979744
         ]
        },
        {
         "error_x": {
          "array": [
           0.92625,
           0.92625
          ]
         },
         "error_y": {
          "array": [
           0.92625,
           0.92625
          ]
         },
         "error_z": {
          "array": [
           0.92625,
           0.92625
          ]
         },
         "hovertemplate": "0=290.0<br>1=%{x}<br>2=%{y}<br>3=%{z}<extra></extra>",
         "legendgroup": "",
         "line": {
          "color": "#636efa",
          "dash": "solid"
         },
         "marker": {
          "symbol": "circle"
         },
         "mode": "lines",
         "name": "",
         "scene": "scene",
         "showlegend": false,
         "type": "scatter3d",
         "x": [
          20.729685,
          20.365944
         ],
         "y": [
          262.64157,
          266.55972
         ],
         "z": [
          105.979744,
          107.39187
         ]
        },
        {
         "error_x": {
          "array": [
           0.76,
           0.76
          ]
         },
         "error_y": {
          "array": [
           0.76,
           0.76
          ]
         },
         "error_z": {
          "array": [
           0.76,
           0.76
          ]
         },
         "hovertemplate": "0=291.0<br>1=%{x}<br>2=%{y}<br>3=%{z}<extra></extra>",
         "legendgroup": "",
         "line": {
          "color": "#636efa",
          "dash": "solid"
         },
         "marker": {
          "symbol": "circle"
         },
         "mode": "lines",
         "name": "",
         "scene": "scene",
         "showlegend": false,
         "type": "scatter3d",
         "x": [
          20.365944,
          18.356697
         ],
         "y": [
          266.55972,
          267.79657
         ],
         "z": [
          107.39187,
          109.87159
         ]
        },
        {
         "error_x": {
          "array": [
           1.16375,
           1.16375
          ]
         },
         "error_y": {
          "array": [
           1.16375,
           1.16375
          ]
         },
         "error_z": {
          "array": [
           1.16375,
           1.16375
          ]
         },
         "hovertemplate": "0=292.0<br>1=%{x}<br>2=%{y}<br>3=%{z}<extra></extra>",
         "legendgroup": "",
         "line": {
          "color": "#636efa",
          "dash": "solid"
         },
         "marker": {
          "symbol": "circle"
         },
         "mode": "lines",
         "name": "",
         "scene": "scene",
         "showlegend": false,
         "type": "scatter3d",
         "x": [
          18.356697,
          16.953663
         ],
         "y": [
          267.79657,
          271.1398
         ],
         "z": [
          109.87159,
          112.19447
         ]
        },
        {
         "error_x": {
          "array": [
           1.2825,
           1.2825
          ]
         },
         "error_y": {
          "array": [
           1.2825,
           1.2825
          ]
         },
         "error_z": {
          "array": [
           1.2825,
           1.2825
          ]
         },
         "hovertemplate": "0=293.0<br>1=%{x}<br>2=%{y}<br>3=%{z}<extra></extra>",
         "legendgroup": "",
         "line": {
          "color": "#636efa",
          "dash": "solid"
         },
         "marker": {
          "symbol": "circle"
         },
         "mode": "lines",
         "name": "",
         "scene": "scene",
         "showlegend": false,
         "type": "scatter3d",
         "x": [
          16.953663,
          16.815336
         ],
         "y": [
          271.1398,
          273.13397
         ],
         "z": [
          112.19447,
          115.732834
         ]
        },
        {
         "error_x": {
          "array": [
           1.4725,
           1.4725
          ]
         },
         "error_y": {
          "array": [
           1.4725,
           1.4725
          ]
         },
         "error_z": {
          "array": [
           1.4725,
           1.4725
          ]
         },
         "hovertemplate": "0=294.0<br>1=%{x}<br>2=%{y}<br>3=%{z}<extra></extra>",
         "legendgroup": "",
         "line": {
          "color": "#636efa",
          "dash": "solid"
         },
         "marker": {
          "symbol": "circle"
         },
         "mode": "lines",
         "name": "",
         "scene": "scene",
         "showlegend": false,
         "type": "scatter3d",
         "x": [
          16.815336,
          16.141363
         ],
         "y": [
          273.13397,
          277.23608
         ],
         "z": [
          115.732834,
          117.724434
         ]
        },
        {
         "error_x": {
          "array": [
           0.76,
           0.76
          ]
         },
         "error_y": {
          "array": [
           0.76,
           0.76
          ]
         },
         "error_z": {
          "array": [
           0.76,
           0.76
          ]
         },
         "hovertemplate": "0=295.0<br>1=%{x}<br>2=%{y}<br>3=%{z}<extra></extra>",
         "legendgroup": "",
         "line": {
          "color": "#636efa",
          "dash": "solid"
         },
         "marker": {
          "symbol": "circle"
         },
         "mode": "lines",
         "name": "",
         "scene": "scene",
         "showlegend": false,
         "type": "scatter3d",
         "x": [
          16.141363,
          13.691125
         ],
         "y": [
          277.23608,
          280.22812
         ],
         "z": [
          117.724434,
          120.08463
         ]
        },
        {
         "error_x": {
          "array": [
           0.83125,
           0.83125
          ]
         },
         "error_y": {
          "array": [
           0.83125,
           0.83125
          ]
         },
         "error_z": {
          "array": [
           0.83125,
           0.83125
          ]
         },
         "hovertemplate": "0=296.0<br>1=%{x}<br>2=%{y}<br>3=%{z}<extra></extra>",
         "legendgroup": "",
         "line": {
          "color": "#636efa",
          "dash": "solid"
         },
         "marker": {
          "symbol": "circle"
         },
         "mode": "lines",
         "name": "",
         "scene": "scene",
         "showlegend": false,
         "type": "scatter3d",
         "x": [
          13.691125,
          10.669605
         ],
         "y": [
          280.22812,
          282.7042
         ],
         "z": [
          120.08463,
          122.36792
         ]
        },
        {
         "error_x": {
          "array": [
           0.83125,
           0.83125
          ]
         },
         "error_y": {
          "array": [
           0.83125,
           0.83125
          ]
         },
         "error_z": {
          "array": [
           0.83125,
           0.83125
          ]
         },
         "hovertemplate": "0=297.0<br>1=%{x}<br>2=%{y}<br>3=%{z}<extra></extra>",
         "legendgroup": "",
         "line": {
          "color": "#636efa",
          "dash": "solid"
         },
         "marker": {
          "symbol": "circle"
         },
         "mode": "lines",
         "name": "",
         "scene": "scene",
         "showlegend": false,
         "type": "scatter3d",
         "x": [
          10.669605,
          10.643123
         ],
         "y": [
          282.7042,
          284.2102
         ],
         "z": [
          122.36792,
          126.10681
         ]
        },
        {
         "error_x": {
          "array": [
           1.06875,
           1.06875
          ]
         },
         "error_y": {
          "array": [
           1.06875,
           1.06875
          ]
         },
         "error_z": {
          "array": [
           1.06875,
           1.06875
          ]
         },
         "hovertemplate": "0=298.0<br>1=%{x}<br>2=%{y}<br>3=%{z}<extra></extra>",
         "legendgroup": "",
         "line": {
          "color": "#636efa",
          "dash": "solid"
         },
         "marker": {
          "symbol": "circle"
         },
         "mode": "lines",
         "name": "",
         "scene": "scene",
         "showlegend": false,
         "type": "scatter3d",
         "x": [
          10.643123,
          12.627056
         ],
         "y": [
          284.2102,
          283.7833
         ],
         "z": [
          126.10681,
          130.14641
         ]
        },
        {
         "error_x": {
          "array": [
           0.59375,
           0.59375
          ]
         },
         "error_y": {
          "array": [
           0.59375,
           0.59375
          ]
         },
         "error_z": {
          "array": [
           0.59375,
           0.59375
          ]
         },
         "hovertemplate": "0=299.0<br>1=%{x}<br>2=%{y}<br>3=%{z}<extra></extra>",
         "legendgroup": "",
         "line": {
          "color": "#636efa",
          "dash": "solid"
         },
         "marker": {
          "symbol": "circle"
         },
         "mode": "lines",
         "name": "",
         "scene": "scene",
         "showlegend": false,
         "type": "scatter3d",
         "x": [
          12.627056,
          15.07304
         ],
         "y": [
          283.7833,
          282.50363
         ],
         "z": [
          130.14641,
          133.38806
         ]
        },
        {
         "error_x": {
          "array": [
           0.76,
           0.76
          ]
         },
         "error_y": {
          "array": [
           0.76,
           0.76
          ]
         },
         "error_z": {
          "array": [
           0.76,
           0.76
          ]
         },
         "hovertemplate": "0=300.0<br>1=%{x}<br>2=%{y}<br>3=%{z}<extra></extra>",
         "legendgroup": "",
         "line": {
          "color": "#636efa",
          "dash": "solid"
         },
         "marker": {
          "symbol": "circle"
         },
         "mode": "lines",
         "name": "",
         "scene": "scene",
         "showlegend": false,
         "type": "scatter3d",
         "x": [
          15.07304,
          17.110668
         ],
         "y": [
          282.50363,
          282.09402
         ],
         "z": [
          133.38806,
          137.7632
         ]
        },
        {
         "error_x": {
          "array": [
           2.565,
           2.565
          ]
         },
         "error_y": {
          "array": [
           2.565,
           2.565
          ]
         },
         "error_z": {
          "array": [
           2.565,
           2.565
          ]
         },
         "hovertemplate": "0=301.0<br>1=%{x}<br>2=%{y}<br>3=%{z}<extra></extra>",
         "legendgroup": "",
         "line": {
          "color": "#636efa",
          "dash": "solid"
         },
         "marker": {
          "symbol": "circle"
         },
         "mode": "lines",
         "name": "",
         "scene": "scene",
         "showlegend": false,
         "type": "scatter3d",
         "x": [
          91.10209,
          90.979774
         ],
         "y": [
          155.57063,
          157.86743
         ],
         "z": [
          50.56924,
          46.93153
         ]
        },
        {
         "error_x": {
          "array": [
           2.565,
           2.565
          ]
         },
         "error_y": {
          "array": [
           2.565,
           2.565
          ]
         },
         "error_z": {
          "array": [
           2.565,
           2.565
          ]
         },
         "hovertemplate": "0=302.0<br>1=%{x}<br>2=%{y}<br>3=%{z}<extra></extra>",
         "legendgroup": "",
         "line": {
          "color": "#636efa",
          "dash": "solid"
         },
         "marker": {
          "symbol": "circle"
         },
         "mode": "lines",
         "name": "",
         "scene": "scene",
         "showlegend": false,
         "type": "scatter3d",
         "x": [
          90.979774,
          90.25381
         ],
         "y": [
          157.86743,
          159.91464
         ],
         "z": [
          46.93153,
          42.693325
         ]
        },
        {
         "error_x": {
          "array": [
           2.8975,
           2.8975
          ]
         },
         "error_y": {
          "array": [
           2.8975,
           2.8975
          ]
         },
         "error_z": {
          "array": [
           2.8975,
           2.8975
          ]
         },
         "hovertemplate": "0=303.0<br>1=%{x}<br>2=%{y}<br>3=%{z}<extra></extra>",
         "legendgroup": "",
         "line": {
          "color": "#636efa",
          "dash": "solid"
         },
         "marker": {
          "symbol": "circle"
         },
         "mode": "lines",
         "name": "",
         "scene": "scene",
         "showlegend": false,
         "type": "scatter3d",
         "x": [
          90.25381,
          90.393196
         ],
         "y": [
          159.91464,
          162.628
         ],
         "z": [
          42.693325,
          38.816696
         ]
        },
        {
         "error_x": {
          "array": [
           2.25625,
           2.25625
          ]
         },
         "error_y": {
          "array": [
           2.25625,
           2.25625
          ]
         },
         "error_z": {
          "array": [
           2.25625,
           2.25625
          ]
         },
         "hovertemplate": "0=304.0<br>1=%{x}<br>2=%{y}<br>3=%{z}<extra></extra>",
         "legendgroup": "",
         "line": {
          "color": "#636efa",
          "dash": "solid"
         },
         "marker": {
          "symbol": "circle"
         },
         "mode": "lines",
         "name": "",
         "scene": "scene",
         "showlegend": false,
         "type": "scatter3d",
         "x": [
          90.393196,
          89.74766
         ],
         "y": [
          162.628,
          166.03432
         ],
         "z": [
          38.816696,
          36.070965
         ]
        },
        {
         "error_x": {
          "array": [
           2.1375,
           2.1375
          ]
         },
         "error_y": {
          "array": [
           2.1375,
           2.1375
          ]
         },
         "error_z": {
          "array": [
           2.1375,
           2.1375
          ]
         },
         "hovertemplate": "0=305.0<br>1=%{x}<br>2=%{y}<br>3=%{z}<extra></extra>",
         "legendgroup": "",
         "line": {
          "color": "#636efa",
          "dash": "solid"
         },
         "marker": {
          "symbol": "circle"
         },
         "mode": "lines",
         "name": "",
         "scene": "scene",
         "showlegend": false,
         "type": "scatter3d",
         "x": [
          89.74766,
          89.703545
         ],
         "y": [
          166.03432,
          168.28944
         ],
         "z": [
          36.070965,
          31.969234
         ]
        },
        {
         "error_x": {
          "array": [
           2.1375,
           2.1375
          ]
         },
         "error_y": {
          "array": [
           2.1375,
           2.1375
          ]
         },
         "error_z": {
          "array": [
           2.1375,
           2.1375
          ]
         },
         "hovertemplate": "0=306.0<br>1=%{x}<br>2=%{y}<br>3=%{z}<extra></extra>",
         "legendgroup": "",
         "line": {
          "color": "#636efa",
          "dash": "solid"
         },
         "marker": {
          "symbol": "circle"
         },
         "mode": "lines",
         "name": "",
         "scene": "scene",
         "showlegend": false,
         "type": "scatter3d",
         "x": [
          89.703545,
          89.854904
         ],
         "y": [
          168.28944,
          170.59843
         ],
         "z": [
          31.969234,
          28.42177
         ]
        },
        {
         "error_x": {
          "array": [
           2.1375,
           2.1375
          ]
         },
         "error_y": {
          "array": [
           2.1375,
           2.1375
          ]
         },
         "error_z": {
          "array": [
           2.1375,
           2.1375
          ]
         },
         "hovertemplate": "0=307.0<br>1=%{x}<br>2=%{y}<br>3=%{z}<extra></extra>",
         "legendgroup": "",
         "line": {
          "color": "#636efa",
          "dash": "solid"
         },
         "marker": {
          "symbol": "circle"
         },
         "mode": "lines",
         "name": "",
         "scene": "scene",
         "showlegend": false,
         "type": "scatter3d",
         "x": [
          89.854904,
          89.94455
         ],
         "y": [
          170.59843,
          174.18173
         ],
         "z": [
          28.42177,
          25.377699
         ]
        },
        {
         "error_x": {
          "array": [
           1.78125,
           1.78125
          ]
         },
         "error_y": {
          "array": [
           1.78125,
           1.78125
          ]
         },
         "error_z": {
          "array": [
           1.78125,
           1.78125
          ]
         },
         "hovertemplate": "0=308.0<br>1=%{x}<br>2=%{y}<br>3=%{z}<extra></extra>",
         "legendgroup": "",
         "line": {
          "color": "#636efa",
          "dash": "solid"
         },
         "marker": {
          "symbol": "circle"
         },
         "mode": "lines",
         "name": "",
         "scene": "scene",
         "showlegend": false,
         "type": "scatter3d",
         "x": [
          89.94455,
          88.498055
         ],
         "y": [
          174.18173,
          176.93137
         ],
         "z": [
          25.377699,
          22.301847
         ]
        },
        {
         "error_x": {
          "array": [
           2.09,
           2.09
          ]
         },
         "error_y": {
          "array": [
           2.09,
           2.09
          ]
         },
         "error_z": {
          "array": [
           2.09,
           2.09
          ]
         },
         "hovertemplate": "0=309.0<br>1=%{x}<br>2=%{y}<br>3=%{z}<extra></extra>",
         "legendgroup": "",
         "line": {
          "color": "#636efa",
          "dash": "solid"
         },
         "marker": {
          "symbol": "circle"
         },
         "mode": "lines",
         "name": "",
         "scene": "scene",
         "showlegend": false,
         "type": "scatter3d",
         "x": [
          88.498055,
          87.88923
         ],
         "y": [
          176.93137,
          180.49149
         ],
         "z": [
          22.301847,
          18.905098
         ]
        },
        {
         "error_x": {
          "array": [
           2.6125,
           2.6125
          ]
         },
         "error_y": {
          "array": [
           2.6125,
           2.6125
          ]
         },
         "error_z": {
          "array": [
           2.6125,
           2.6125
          ]
         },
         "hovertemplate": "0=310.0<br>1=%{x}<br>2=%{y}<br>3=%{z}<extra></extra>",
         "legendgroup": "",
         "line": {
          "color": "#636efa",
          "dash": "solid"
         },
         "marker": {
          "symbol": "circle"
         },
         "mode": "lines",
         "name": "",
         "scene": "scene",
         "showlegend": false,
         "type": "scatter3d",
         "x": [
          87.88923,
          86.65285
         ],
         "y": [
          180.49149,
          183.41428
         ],
         "z": [
          18.905098,
          16.172737
         ]
        }
       ],
       "layout": {
        "autosize": true,
        "legend": {
         "tracegroupgap": 0
        },
        "margin": {
         "t": 60
        },
        "scene": {
         "aspectmode": "auto",
         "aspectratio": {
          "x": 1.08573545640865,
          "y": 1.222018130333543,
          "z": 0.7536996785590213
         },
         "camera": {
          "center": {
           "x": 0,
           "y": 0,
           "z": 0
          },
          "eye": {
           "x": 1.0890909082897278,
           "y": 0.6730640822745905,
           "z": 0.5595374122928461
          },
          "projection": {
           "type": "perspective"
          },
          "up": {
           "x": 0,
           "y": 0,
           "z": 1
          }
         },
         "domain": {
          "x": [
           0,
           1
          ],
          "y": [
           0,
           1
          ]
         },
         "xaxis": {
          "title": {
           "text": "1"
          },
          "type": "linear"
         },
         "yaxis": {
          "title": {
           "text": "2"
          },
          "type": "linear"
         },
         "zaxis": {
          "title": {
           "text": "3"
          },
          "type": "linear"
         }
        },
        "template": {
         "data": {
          "bar": [
           {
            "error_x": {
             "color": "#2a3f5f"
            },
            "error_y": {
             "color": "#2a3f5f"
            },
            "marker": {
             "line": {
              "color": "#E5ECF6",
              "width": 0.5
             },
             "pattern": {
              "fillmode": "overlay",
              "size": 10,
              "solidity": 0.2
             }
            },
            "type": "bar"
           }
          ],
          "barpolar": [
           {
            "marker": {
             "line": {
              "color": "#E5ECF6",
              "width": 0.5
             },
             "pattern": {
              "fillmode": "overlay",
              "size": 10,
              "solidity": 0.2
             }
            },
            "type": "barpolar"
           }
          ],
          "carpet": [
           {
            "aaxis": {
             "endlinecolor": "#2a3f5f",
             "gridcolor": "white",
             "linecolor": "white",
             "minorgridcolor": "white",
             "startlinecolor": "#2a3f5f"
            },
            "baxis": {
             "endlinecolor": "#2a3f5f",
             "gridcolor": "white",
             "linecolor": "white",
             "minorgridcolor": "white",
             "startlinecolor": "#2a3f5f"
            },
            "type": "carpet"
           }
          ],
          "choropleth": [
           {
            "colorbar": {
             "outlinewidth": 0,
             "ticks": ""
            },
            "type": "choropleth"
           }
          ],
          "contour": [
           {
            "colorbar": {
             "outlinewidth": 0,
             "ticks": ""
            },
            "colorscale": [
             [
              0,
              "#0d0887"
             ],
             [
              0.1111111111111111,
              "#46039f"
             ],
             [
              0.2222222222222222,
              "#7201a8"
             ],
             [
              0.3333333333333333,
              "#9c179e"
             ],
             [
              0.4444444444444444,
              "#bd3786"
             ],
             [
              0.5555555555555556,
              "#d8576b"
             ],
             [
              0.6666666666666666,
              "#ed7953"
             ],
             [
              0.7777777777777778,
              "#fb9f3a"
             ],
             [
              0.8888888888888888,
              "#fdca26"
             ],
             [
              1,
              "#f0f921"
             ]
            ],
            "type": "contour"
           }
          ],
          "contourcarpet": [
           {
            "colorbar": {
             "outlinewidth": 0,
             "ticks": ""
            },
            "type": "contourcarpet"
           }
          ],
          "heatmap": [
           {
            "colorbar": {
             "outlinewidth": 0,
             "ticks": ""
            },
            "colorscale": [
             [
              0,
              "#0d0887"
             ],
             [
              0.1111111111111111,
              "#46039f"
             ],
             [
              0.2222222222222222,
              "#7201a8"
             ],
             [
              0.3333333333333333,
              "#9c179e"
             ],
             [
              0.4444444444444444,
              "#bd3786"
             ],
             [
              0.5555555555555556,
              "#d8576b"
             ],
             [
              0.6666666666666666,
              "#ed7953"
             ],
             [
              0.7777777777777778,
              "#fb9f3a"
             ],
             [
              0.8888888888888888,
              "#fdca26"
             ],
             [
              1,
              "#f0f921"
             ]
            ],
            "type": "heatmap"
           }
          ],
          "heatmapgl": [
           {
            "colorbar": {
             "outlinewidth": 0,
             "ticks": ""
            },
            "colorscale": [
             [
              0,
              "#0d0887"
             ],
             [
              0.1111111111111111,
              "#46039f"
             ],
             [
              0.2222222222222222,
              "#7201a8"
             ],
             [
              0.3333333333333333,
              "#9c179e"
             ],
             [
              0.4444444444444444,
              "#bd3786"
             ],
             [
              0.5555555555555556,
              "#d8576b"
             ],
             [
              0.6666666666666666,
              "#ed7953"
             ],
             [
              0.7777777777777778,
              "#fb9f3a"
             ],
             [
              0.8888888888888888,
              "#fdca26"
             ],
             [
              1,
              "#f0f921"
             ]
            ],
            "type": "heatmapgl"
           }
          ],
          "histogram": [
           {
            "marker": {
             "pattern": {
              "fillmode": "overlay",
              "size": 10,
              "solidity": 0.2
             }
            },
            "type": "histogram"
           }
          ],
          "histogram2d": [
           {
            "colorbar": {
             "outlinewidth": 0,
             "ticks": ""
            },
            "colorscale": [
             [
              0,
              "#0d0887"
             ],
             [
              0.1111111111111111,
              "#46039f"
             ],
             [
              0.2222222222222222,
              "#7201a8"
             ],
             [
              0.3333333333333333,
              "#9c179e"
             ],
             [
              0.4444444444444444,
              "#bd3786"
             ],
             [
              0.5555555555555556,
              "#d8576b"
             ],
             [
              0.6666666666666666,
              "#ed7953"
             ],
             [
              0.7777777777777778,
              "#fb9f3a"
             ],
             [
              0.8888888888888888,
              "#fdca26"
             ],
             [
              1,
              "#f0f921"
             ]
            ],
            "type": "histogram2d"
           }
          ],
          "histogram2dcontour": [
           {
            "colorbar": {
             "outlinewidth": 0,
             "ticks": ""
            },
            "colorscale": [
             [
              0,
              "#0d0887"
             ],
             [
              0.1111111111111111,
              "#46039f"
             ],
             [
              0.2222222222222222,
              "#7201a8"
             ],
             [
              0.3333333333333333,
              "#9c179e"
             ],
             [
              0.4444444444444444,
              "#bd3786"
             ],
             [
              0.5555555555555556,
              "#d8576b"
             ],
             [
              0.6666666666666666,
              "#ed7953"
             ],
             [
              0.7777777777777778,
              "#fb9f3a"
             ],
             [
              0.8888888888888888,
              "#fdca26"
             ],
             [
              1,
              "#f0f921"
             ]
            ],
            "type": "histogram2dcontour"
           }
          ],
          "mesh3d": [
           {
            "colorbar": {
             "outlinewidth": 0,
             "ticks": ""
            },
            "type": "mesh3d"
           }
          ],
          "parcoords": [
           {
            "line": {
             "colorbar": {
              "outlinewidth": 0,
              "ticks": ""
             }
            },
            "type": "parcoords"
           }
          ],
          "pie": [
           {
            "automargin": true,
            "type": "pie"
           }
          ],
          "scatter": [
           {
            "marker": {
             "colorbar": {
              "outlinewidth": 0,
              "ticks": ""
             }
            },
            "type": "scatter"
           }
          ],
          "scatter3d": [
           {
            "line": {
             "colorbar": {
              "outlinewidth": 0,
              "ticks": ""
             }
            },
            "marker": {
             "colorbar": {
              "outlinewidth": 0,
              "ticks": ""
             }
            },
            "type": "scatter3d"
           }
          ],
          "scattercarpet": [
           {
            "marker": {
             "colorbar": {
              "outlinewidth": 0,
              "ticks": ""
             }
            },
            "type": "scattercarpet"
           }
          ],
          "scattergeo": [
           {
            "marker": {
             "colorbar": {
              "outlinewidth": 0,
              "ticks": ""
             }
            },
            "type": "scattergeo"
           }
          ],
          "scattergl": [
           {
            "marker": {
             "colorbar": {
              "outlinewidth": 0,
              "ticks": ""
             }
            },
            "type": "scattergl"
           }
          ],
          "scattermapbox": [
           {
            "marker": {
             "colorbar": {
              "outlinewidth": 0,
              "ticks": ""
             }
            },
            "type": "scattermapbox"
           }
          ],
          "scatterpolar": [
           {
            "marker": {
             "colorbar": {
              "outlinewidth": 0,
              "ticks": ""
             }
            },
            "type": "scatterpolar"
           }
          ],
          "scatterpolargl": [
           {
            "marker": {
             "colorbar": {
              "outlinewidth": 0,
              "ticks": ""
             }
            },
            "type": "scatterpolargl"
           }
          ],
          "scatterternary": [
           {
            "marker": {
             "colorbar": {
              "outlinewidth": 0,
              "ticks": ""
             }
            },
            "type": "scatterternary"
           }
          ],
          "surface": [
           {
            "colorbar": {
             "outlinewidth": 0,
             "ticks": ""
            },
            "colorscale": [
             [
              0,
              "#0d0887"
             ],
             [
              0.1111111111111111,
              "#46039f"
             ],
             [
              0.2222222222222222,
              "#7201a8"
             ],
             [
              0.3333333333333333,
              "#9c179e"
             ],
             [
              0.4444444444444444,
              "#bd3786"
             ],
             [
              0.5555555555555556,
              "#d8576b"
             ],
             [
              0.6666666666666666,
              "#ed7953"
             ],
             [
              0.7777777777777778,
              "#fb9f3a"
             ],
             [
              0.8888888888888888,
              "#fdca26"
             ],
             [
              1,
              "#f0f921"
             ]
            ],
            "type": "surface"
           }
          ],
          "table": [
           {
            "cells": {
             "fill": {
              "color": "#EBF0F8"
             },
             "line": {
              "color": "white"
             }
            },
            "header": {
             "fill": {
              "color": "#C8D4E3"
             },
             "line": {
              "color": "white"
             }
            },
            "type": "table"
           }
          ]
         },
         "layout": {
          "annotationdefaults": {
           "arrowcolor": "#2a3f5f",
           "arrowhead": 0,
           "arrowwidth": 1
          },
          "autotypenumbers": "strict",
          "coloraxis": {
           "colorbar": {
            "outlinewidth": 0,
            "ticks": ""
           }
          },
          "colorscale": {
           "diverging": [
            [
             0,
             "#8e0152"
            ],
            [
             0.1,
             "#c51b7d"
            ],
            [
             0.2,
             "#de77ae"
            ],
            [
             0.3,
             "#f1b6da"
            ],
            [
             0.4,
             "#fde0ef"
            ],
            [
             0.5,
             "#f7f7f7"
            ],
            [
             0.6,
             "#e6f5d0"
            ],
            [
             0.7,
             "#b8e186"
            ],
            [
             0.8,
             "#7fbc41"
            ],
            [
             0.9,
             "#4d9221"
            ],
            [
             1,
             "#276419"
            ]
           ],
           "sequential": [
            [
             0,
             "#0d0887"
            ],
            [
             0.1111111111111111,
             "#46039f"
            ],
            [
             0.2222222222222222,
             "#7201a8"
            ],
            [
             0.3333333333333333,
             "#9c179e"
            ],
            [
             0.4444444444444444,
             "#bd3786"
            ],
            [
             0.5555555555555556,
             "#d8576b"
            ],
            [
             0.6666666666666666,
             "#ed7953"
            ],
            [
             0.7777777777777778,
             "#fb9f3a"
            ],
            [
             0.8888888888888888,
             "#fdca26"
            ],
            [
             1,
             "#f0f921"
            ]
           ],
           "sequentialminus": [
            [
             0,
             "#0d0887"
            ],
            [
             0.1111111111111111,
             "#46039f"
            ],
            [
             0.2222222222222222,
             "#7201a8"
            ],
            [
             0.3333333333333333,
             "#9c179e"
            ],
            [
             0.4444444444444444,
             "#bd3786"
            ],
            [
             0.5555555555555556,
             "#d8576b"
            ],
            [
             0.6666666666666666,
             "#ed7953"
            ],
            [
             0.7777777777777778,
             "#fb9f3a"
            ],
            [
             0.8888888888888888,
             "#fdca26"
            ],
            [
             1,
             "#f0f921"
            ]
           ]
          },
          "colorway": [
           "#636efa",
           "#EF553B",
           "#00cc96",
           "#ab63fa",
           "#FFA15A",
           "#19d3f3",
           "#FF6692",
           "#B6E880",
           "#FF97FF",
           "#FECB52"
          ],
          "font": {
           "color": "#2a3f5f"
          },
          "geo": {
           "bgcolor": "white",
           "lakecolor": "white",
           "landcolor": "#E5ECF6",
           "showlakes": true,
           "showland": true,
           "subunitcolor": "white"
          },
          "hoverlabel": {
           "align": "left"
          },
          "hovermode": "closest",
          "mapbox": {
           "style": "light"
          },
          "paper_bgcolor": "white",
          "plot_bgcolor": "#E5ECF6",
          "polar": {
           "angularaxis": {
            "gridcolor": "white",
            "linecolor": "white",
            "ticks": ""
           },
           "bgcolor": "#E5ECF6",
           "radialaxis": {
            "gridcolor": "white",
            "linecolor": "white",
            "ticks": ""
           }
          },
          "scene": {
           "xaxis": {
            "backgroundcolor": "#E5ECF6",
            "gridcolor": "white",
            "gridwidth": 2,
            "linecolor": "white",
            "showbackground": true,
            "ticks": "",
            "zerolinecolor": "white"
           },
           "yaxis": {
            "backgroundcolor": "#E5ECF6",
            "gridcolor": "white",
            "gridwidth": 2,
            "linecolor": "white",
            "showbackground": true,
            "ticks": "",
            "zerolinecolor": "white"
           },
           "zaxis": {
            "backgroundcolor": "#E5ECF6",
            "gridcolor": "white",
            "gridwidth": 2,
            "linecolor": "white",
            "showbackground": true,
            "ticks": "",
            "zerolinecolor": "white"
           }
          },
          "shapedefaults": {
           "line": {
            "color": "#2a3f5f"
           }
          },
          "ternary": {
           "aaxis": {
            "gridcolor": "white",
            "linecolor": "white",
            "ticks": ""
           },
           "baxis": {
            "gridcolor": "white",
            "linecolor": "white",
            "ticks": ""
           },
           "bgcolor": "#E5ECF6",
           "caxis": {
            "gridcolor": "white",
            "linecolor": "white",
            "ticks": ""
           }
          },
          "title": {
           "x": 0.05
          },
          "xaxis": {
           "automargin": true,
           "gridcolor": "white",
           "linecolor": "white",
           "ticks": "",
           "title": {
            "standoff": 15
           },
           "zerolinecolor": "white",
           "zerolinewidth": 2
          },
          "yaxis": {
           "automargin": true,
           "gridcolor": "white",
           "linecolor": "white",
           "ticks": "",
           "title": {
            "standoff": 15
           },
           "zerolinecolor": "white",
           "zerolinewidth": 2
          }
         }
        }
       }
      },
      "image/png": "[encoded data removed]",
      "text/html": [
       "<div>                            <div id=\"d046ade2-9568-41f3-94eb-dc54ffc61565\" class=\"plotly-graph-div\" style=\"height:600px; width:100%;\"></div>            <script type=\"text/javascript\">                require([\"plotly\"], function(Plotly) {                    window.PLOTLYENV=window.PLOTLYENV || {};                                    if (document.getElementById(\"d046ade2-9568-41f3-94eb-dc54ffc61565\")) {                    Plotly.newPlot(                        \"d046ade2-9568-41f3-94eb-dc54ffc61565\",                        [{\"error_x\":{\"array\":[6.08,6.08]},\"error_y\":{\"array\":[6.08,6.08]},\"error_z\":{\"array\":[6.08,6.08]},\"hovertemplate\":\"0=0.0<br>1=%{x}<br>2=%{y}<br>3=%{z}<extra></extra>\",\"legendgroup\":\"\",\"line\":{\"color\":\"#636efa\",\"dash\":\"solid\"},\"marker\":{\"symbol\":\"circle\"},\"mode\":\"lines\",\"name\":\"\",\"scene\":\"scene\",\"showlegend\":false,\"x\":[100.0331,98.23298],\"y\":[117.0343,117.08635],\"z\":[64.0716,60.51868],\"type\":\"scatter3d\"},{\"error_x\":{\"array\":[6.91125,6.91125]},\"error_y\":{\"array\":[6.91125,6.91125]},\"error_z\":{\"array\":[6.91125,6.91125]},\"hovertemplate\":\"0=1.0<br>1=%{x}<br>2=%{y}<br>3=%{z}<extra></extra>\",\"legendgroup\":\"\",\"line\":{\"color\":\"#636efa\",\"dash\":\"solid\"},\"marker\":{\"symbol\":\"circle\"},\"mode\":\"lines\",\"name\":\"\",\"scene\":\"scene\",\"showlegend\":false,\"x\":[98.23298,96.00656],\"y\":[117.08635,116.31691],\"z\":[60.51868,56.843815],\"type\":\"scatter3d\"},{\"error_x\":{\"array\":[5.81875,5.81875]},\"error_y\":{\"array\":[5.81875,5.81875]},\"error_z\":{\"array\":[5.81875,5.81875]},\"hovertemplate\":\"0=2.0<br>1=%{x}<br>2=%{y}<br>3=%{z}<extra></extra>\",\"legendgroup\":\"\",\"line\":{\"color\":\"#636efa\",\"dash\":\"solid\"},\"marker\":{\"symbol\":\"circle\"},\"mode\":\"lines\",\"name\":\"\",\"scene\":\"scene\",\"showlegend\":false,\"x\":[96.00656,92.90442],\"y\":[116.31691,115.92622],\"z\":[56.843815,54.09245],\"type\":\"scatter3d\"},{\"error_x\":{\"array\":[1.54375,1.54375]},\"error_y\":{\"array\":[1.54375,1.54375]},\"error_z\":{\"array\":[1.54375,1.54375]},\"hovertemplate\":\"0=3.0<br>1=%{x}<br>2=%{y}<br>3=%{z}<extra></extra>\",\"legendgroup\":\"\",\"line\":{\"color\":\"#636efa\",\"dash\":\"solid\"},\"marker\":{\"symbol\":\"circle\"},\"mode\":\"lines\",\"name\":\"\",\"scene\":\"scene\",\"showlegend\":false,\"x\":[92.90442,89.00891],\"y\":[115.92622,115.1889],\"z\":[54.09245,52.285038],\"type\":\"scatter3d\"},{\"error_x\":{\"array\":[1.54375,1.54375]},\"error_y\":{\"array\":[1.54375,1.54375]},\"error_z\":{\"array\":[1.54375,1.54375]},\"hovertemplate\":\"0=4.0<br>1=%{x}<br>2=%{y}<br>3=%{z}<extra></extra>\",\"legendgroup\":\"\",\"line\":{\"color\":\"#636efa\",\"dash\":\"solid\"},\"marker\":{\"symbol\":\"circle\"},\"mode\":\"lines\",\"name\":\"\",\"scene\":\"scene\",\"showlegend\":false,\"x\":[89.00891,85.82532],\"y\":[115.1889,115.043205],\"z\":[52.285038,48.74448],\"type\":\"scatter3d\"},{\"error_x\":{\"array\":[1.4725,1.4725]},\"error_y\":{\"array\":[1.4725,1.4725]},\"error_z\":{\"array\":[1.4725,1.4725]},\"hovertemplate\":\"0=5.0<br>1=%{x}<br>2=%{y}<br>3=%{z}<extra></extra>\",\"legendgroup\":\"\",\"line\":{\"color\":\"#636efa\",\"dash\":\"solid\"},\"marker\":{\"symbol\":\"circle\"},\"mode\":\"lines\",\"name\":\"\",\"scene\":\"scene\",\"showlegend\":false,\"x\":[85.82532,81.61282],\"y\":[115.043205,115.32092],\"z\":[48.74448,46.494926],\"type\":\"scatter3d\"},{\"error_x\":{\"array\":[0.9975,0.9975]},\"error_y\":{\"array\":[0.9975,0.9975]},\"error_z\":{\"array\":[0.9975,0.9975]},\"hovertemplate\":\"0=6.0<br>1=%{x}<br>2=%{y}<br>3=%{z}<extra></extra>\",\"legendgroup\":\"\",\"line\":{\"color\":\"#636efa\",\"dash\":\"solid\"},\"marker\":{\"symbol\":\"circle\"},\"mode\":\"lines\",\"name\":\"\",\"scene\":\"scene\",\"showlegend\":false,\"x\":[81.61282,77.14754],\"y\":[115.32092,115.188545],\"z\":[46.494926,44.71822],\"type\":\"scatter3d\"},{\"error_x\":{\"array\":[1.21125,1.21125]},\"error_y\":{\"array\":[1.21125,1.21125]},\"error_z\":{\"array\":[1.21125,1.21125]},\"hovertemplate\":\"0=7.0<br>1=%{x}<br>2=%{y}<br>3=%{z}<extra></extra>\",\"legendgroup\":\"\",\"line\":{\"color\":\"#636efa\",\"dash\":\"solid\"},\"marker\":{\"symbol\":\"circle\"},\"mode\":\"lines\",\"name\":\"\",\"scene\":\"scene\",\"showlegend\":false,\"x\":[77.14754,72.1531],\"y\":[115.188545,115.10945],\"z\":[44.71822,44.605515],\"type\":\"scatter3d\"},{\"error_x\":{\"array\":[1.06875,1.06875]},\"error_y\":{\"array\":[1.06875,1.06875]},\"error_z\":{\"array\":[1.06875,1.06875]},\"hovertemplate\":\"0=8.0<br>1=%{x}<br>2=%{y}<br>3=%{z}<extra></extra>\",\"legendgroup\":\"\",\"line\":{\"color\":\"#636efa\",\"dash\":\"solid\"},\"marker\":{\"symbol\":\"circle\"},\"mode\":\"lines\",\"name\":\"\",\"scene\":\"scene\",\"showlegend\":false,\"x\":[72.1531,67.250046],\"y\":[115.10945,114.332726],\"z\":[44.605515,44.65678],\"type\":\"scatter3d\"},{\"error_x\":{\"array\":[1.0925,1.0925]},\"error_y\":{\"array\":[1.0925,1.0925]},\"error_z\":{\"array\":[1.0925,1.0925]},\"hovertemplate\":\"0=9.0<br>1=%{x}<br>2=%{y}<br>3=%{z}<extra></extra>\",\"legendgroup\":\"\",\"line\":{\"color\":\"#636efa\",\"dash\":\"solid\"},\"marker\":{\"symbol\":\"circle\"},\"mode\":\"lines\",\"name\":\"\",\"scene\":\"scene\",\"showlegend\":false,\"x\":[67.250046,62.396137],\"y\":[114.332726,113.82875],\"z\":[44.65678,44.960453],\"type\":\"scatter3d\"},{\"error_x\":{\"array\":[1.0925,1.0925]},\"error_y\":{\"array\":[1.0925,1.0925]},\"error_z\":{\"array\":[1.0925,1.0925]},\"hovertemplate\":\"0=10.0<br>1=%{x}<br>2=%{y}<br>3=%{z}<extra></extra>\",\"legendgroup\":\"\",\"line\":{\"color\":\"#636efa\",\"dash\":\"solid\"},\"marker\":{\"symbol\":\"circle\"},\"mode\":\"lines\",\"name\":\"\",\"scene\":\"scene\",\"showlegend\":false,\"x\":[62.396137,58.156944],\"y\":[113.82875,113.03555],\"z\":[44.960453,47.13533],\"type\":\"scatter3d\"},{\"error_x\":{\"array\":[0.9975,0.9975]},\"error_y\":{\"array\":[0.9975,0.9975]},\"error_z\":{\"array\":[0.9975,0.9975]},\"hovertemplate\":\"0=11.0<br>1=%{x}<br>2=%{y}<br>3=%{z}<extra></extra>\",\"legendgroup\":\"\",\"line\":{\"color\":\"#636efa\",\"dash\":\"solid\"},\"marker\":{\"symbol\":\"circle\"},\"mode\":\"lines\",\"name\":\"\",\"scene\":\"scene\",\"showlegend\":false,\"x\":[58.156944,55.095238],\"y\":[113.03555,112.83404],\"z\":[47.13533,50.680958],\"type\":\"scatter3d\"},{\"error_x\":{\"array\":[1.11625,1.11625]},\"error_y\":{\"array\":[1.11625,1.11625]},\"error_z\":{\"array\":[1.11625,1.11625]},\"hovertemplate\":\"0=12.0<br>1=%{x}<br>2=%{y}<br>3=%{z}<extra></extra>\",\"legendgroup\":\"\",\"line\":{\"color\":\"#636efa\",\"dash\":\"solid\"},\"marker\":{\"symbol\":\"circle\"},\"mode\":\"lines\",\"name\":\"\",\"scene\":\"scene\",\"showlegend\":false,\"x\":[55.095238,51.16476],\"y\":[112.83404,112.76482],\"z\":[50.680958,53.35425],\"type\":\"scatter3d\"},{\"error_x\":{\"array\":[1.0925,1.0925]},\"error_y\":{\"array\":[1.0925,1.0925]},\"error_z\":{\"array\":[1.0925,1.0925]},\"hovertemplate\":\"0=13.0<br>1=%{x}<br>2=%{y}<br>3=%{z}<extra></extra>\",\"legendgroup\":\"\",\"line\":{\"color\":\"#636efa\",\"dash\":\"solid\"},\"marker\":{\"symbol\":\"circle\"},\"mode\":\"lines\",\"name\":\"\",\"scene\":\"scene\",\"showlegend\":false,\"x\":[51.16476,47.760235],\"y\":[112.76482,111.88202],\"z\":[53.35425,56.62351],\"type\":\"scatter3d\"},{\"error_x\":{\"array\":[1.045,1.045]},\"error_y\":{\"array\":[1.045,1.045]},\"error_z\":{\"array\":[1.045,1.045]},\"hovertemplate\":\"0=14.0<br>1=%{x}<br>2=%{y}<br>3=%{z}<extra></extra>\",\"legendgroup\":\"\",\"line\":{\"color\":\"#636efa\",\"dash\":\"solid\"},\"marker\":{\"symbol\":\"circle\"},\"mode\":\"lines\",\"name\":\"\",\"scene\":\"scene\",\"showlegend\":false,\"x\":[47.760235,44.718376],\"y\":[111.88202,109.89297],\"z\":[56.62351,59.66784],\"type\":\"scatter3d\"},{\"error_x\":{\"array\":[1.14,1.14]},\"error_y\":{\"array\":[1.14,1.14]},\"error_z\":{\"array\":[1.14,1.14]},\"hovertemplate\":\"0=15.0<br>1=%{x}<br>2=%{y}<br>3=%{z}<extra></extra>\",\"legendgroup\":\"\",\"line\":{\"color\":\"#636efa\",\"dash\":\"solid\"},\"marker\":{\"symbol\":\"circle\"},\"mode\":\"lines\",\"name\":\"\",\"scene\":\"scene\",\"showlegend\":false,\"x\":[44.718376,41.79909],\"y\":[109.89297,107.003136],\"z\":[59.66784,62.12046],\"type\":\"scatter3d\"},{\"error_x\":{\"array\":[1.11625,1.11625]},\"error_y\":{\"array\":[1.11625,1.11625]},\"error_z\":{\"array\":[1.11625,1.11625]},\"hovertemplate\":\"0=16.0<br>1=%{x}<br>2=%{y}<br>3=%{z}<extra></extra>\",\"legendgroup\":\"\",\"line\":{\"color\":\"#636efa\",\"dash\":\"solid\"},\"marker\":{\"symbol\":\"circle\"},\"mode\":\"lines\",\"name\":\"\",\"scene\":\"scene\",\"showlegend\":false,\"x\":[41.79909,39.41801],\"y\":[107.003136,103.78742],\"z\":[62.12046,64.23324],\"type\":\"scatter3d\"},{\"error_x\":{\"array\":[1.0925,1.0925]},\"error_y\":{\"array\":[1.0925,1.0925]},\"error_z\":{\"array\":[1.0925,1.0925]},\"hovertemplate\":\"0=17.0<br>1=%{x}<br>2=%{y}<br>3=%{z}<extra></extra>\",\"legendgroup\":\"\",\"line\":{\"color\":\"#636efa\",\"dash\":\"solid\"},\"marker\":{\"symbol\":\"circle\"},\"mode\":\"lines\",\"name\":\"\",\"scene\":\"scene\",\"showlegend\":false,\"x\":[39.41801,36.613926],\"y\":[103.78742,99.9973],\"z\":[64.23324,63.90837],\"type\":\"scatter3d\"},{\"error_x\":{\"array\":[1.06875,1.06875]},\"error_y\":{\"array\":[1.06875,1.06875]},\"error_z\":{\"array\":[1.06875,1.06875]},\"hovertemplate\":\"0=18.0<br>1=%{x}<br>2=%{y}<br>3=%{z}<extra></extra>\",\"legendgroup\":\"\",\"line\":{\"color\":\"#636efa\",\"dash\":\"solid\"},\"marker\":{\"symbol\":\"circle\"},\"mode\":\"lines\",\"name\":\"\",\"scene\":\"scene\",\"showlegend\":false,\"x\":[36.613926,35.913258],\"y\":[99.9973,95.732895],\"z\":[63.90837,61.6025],\"type\":\"scatter3d\"},{\"error_x\":{\"array\":[1.02125,1.02125]},\"error_y\":{\"array\":[1.02125,1.02125]},\"error_z\":{\"array\":[1.02125,1.02125]},\"hovertemplate\":\"0=19.0<br>1=%{x}<br>2=%{y}<br>3=%{z}<extra></extra>\",\"legendgroup\":\"\",\"line\":{\"color\":\"#636efa\",\"dash\":\"solid\"},\"marker\":{\"symbol\":\"circle\"},\"mode\":\"lines\",\"name\":\"\",\"scene\":\"scene\",\"showlegend\":false,\"x\":[35.913258,37.402714],\"y\":[95.732895,93.06277],\"z\":[61.6025,58.196003],\"type\":\"scatter3d\"},{\"error_x\":{\"array\":[1.14,1.14]},\"error_y\":{\"array\":[1.14,1.14]},\"error_z\":{\"array\":[1.14,1.14]},\"hovertemplate\":\"0=20.0<br>1=%{x}<br>2=%{y}<br>3=%{z}<extra></extra>\",\"legendgroup\":\"\",\"line\":{\"color\":\"#636efa\",\"dash\":\"solid\"},\"marker\":{\"symbol\":\"circle\"},\"mode\":\"lines\",\"name\":\"\",\"scene\":\"scene\",\"showlegend\":false,\"x\":[37.402714,40.615063],\"y\":[93.06277,91.70859],\"z\":[58.196003,55.207634],\"type\":\"scatter3d\"},{\"error_x\":{\"array\":[1.21125,1.21125]},\"error_y\":{\"array\":[1.21125,1.21125]},\"error_z\":{\"array\":[1.21125,1.21125]},\"hovertemplate\":\"0=21.0<br>1=%{x}<br>2=%{y}<br>3=%{z}<extra></extra>\",\"legendgroup\":\"\",\"line\":{\"color\":\"#636efa\",\"dash\":\"solid\"},\"marker\":{\"symbol\":\"circle\"},\"mode\":\"lines\",\"name\":\"\",\"scene\":\"scene\",\"showlegend\":false,\"x\":[40.615063,43.228508],\"y\":[91.70859,87.825134],\"z\":[55.207634,54.20124],\"type\":\"scatter3d\"},{\"error_x\":{\"array\":[1.0925,1.0925]},\"error_y\":{\"array\":[1.0925,1.0925]},\"error_z\":{\"array\":[1.0925,1.0925]},\"hovertemplate\":\"0=22.0<br>1=%{x}<br>2=%{y}<br>3=%{z}<extra></extra>\",\"legendgroup\":\"\",\"line\":{\"color\":\"#636efa\",\"dash\":\"solid\"},\"marker\":{\"symbol\":\"circle\"},\"mode\":\"lines\",\"name\":\"\",\"scene\":\"scene\",\"showlegend\":false,\"x\":[43.228508,44.769722],\"y\":[87.825134,83.62442],\"z\":[54.20124,55.112556],\"type\":\"scatter3d\"},{\"error_x\":{\"array\":[1.0925,1.0925]},\"error_y\":{\"array\":[1.0925,1.0925]},\"error_z\":{\"array\":[1.0925,1.0925]},\"hovertemplate\":\"0=23.0<br>1=%{x}<br>2=%{y}<br>3=%{z}<extra></extra>\",\"legendgroup\":\"\",\"line\":{\"color\":\"#636efa\",\"dash\":\"solid\"},\"marker\":{\"symbol\":\"circle\"},\"mode\":\"lines\",\"name\":\"\",\"scene\":\"scene\",\"showlegend\":false,\"x\":[44.769722,46.46949],\"y\":[83.62442,79.119286],\"z\":[55.112556,55.504807],\"type\":\"scatter3d\"},{\"error_x\":{\"array\":[1.06875,1.06875]},\"error_y\":{\"array\":[1.06875,1.06875]},\"error_z\":{\"array\":[1.06875,1.06875]},\"hovertemplate\":\"0=24.0<br>1=%{x}<br>2=%{y}<br>3=%{z}<extra></extra>\",\"legendgroup\":\"\",\"line\":{\"color\":\"#636efa\",\"dash\":\"solid\"},\"marker\":{\"symbol\":\"circle\"},\"mode\":\"lines\",\"name\":\"\",\"scene\":\"scene\",\"showlegend\":false,\"x\":[46.46949,49.6715],\"y\":[79.119286,76.45187],\"z\":[55.504807,53.44881],\"type\":\"scatter3d\"},{\"error_x\":{\"array\":[1.045,1.045]},\"error_y\":{\"array\":[1.045,1.045]},\"error_z\":{\"array\":[1.045,1.045]},\"hovertemplate\":\"0=25.0<br>1=%{x}<br>2=%{y}<br>3=%{z}<extra></extra>\",\"legendgroup\":\"\",\"line\":{\"color\":\"#636efa\",\"dash\":\"solid\"},\"marker\":{\"symbol\":\"circle\"},\"mode\":\"lines\",\"name\":\"\",\"scene\":\"scene\",\"showlegend\":false,\"x\":[49.6715,54.326424],\"y\":[76.45187,74.904655],\"z\":[53.44881,53.091026],\"type\":\"scatter3d\"},{\"error_x\":{\"array\":[0.95,0.95]},\"error_y\":{\"array\":[0.95,0.95]},\"error_z\":{\"array\":[0.95,0.95]},\"hovertemplate\":\"0=26.0<br>1=%{x}<br>2=%{y}<br>3=%{z}<extra></extra>\",\"legendgroup\":\"\",\"line\":{\"color\":\"#636efa\",\"dash\":\"solid\"},\"marker\":{\"symbol\":\"circle\"},\"mode\":\"lines\",\"name\":\"\",\"scene\":\"scene\",\"showlegend\":false,\"x\":[54.326424,58.586792],\"y\":[74.904655,73.719734],\"z\":[53.091026,54.608555],\"type\":\"scatter3d\"},{\"error_x\":{\"array\":[1.045,1.045]},\"error_y\":{\"array\":[1.045,1.045]},\"error_z\":{\"array\":[1.045,1.045]},\"hovertemplate\":\"0=27.0<br>1=%{x}<br>2=%{y}<br>3=%{z}<extra></extra>\",\"legendgroup\":\"\",\"line\":{\"color\":\"#636efa\",\"dash\":\"solid\"},\"marker\":{\"symbol\":\"circle\"},\"mode\":\"lines\",\"name\":\"\",\"scene\":\"scene\",\"showlegend\":false,\"x\":[58.586792,63.37947],\"y\":[73.719734,74.032555],\"z\":[54.608555,54.863537],\"type\":\"scatter3d\"},{\"error_x\":{\"array\":[0.92625,0.92625]},\"error_y\":{\"array\":[0.92625,0.92625]},\"error_z\":{\"array\":[0.92625,0.92625]},\"hovertemplate\":\"0=28.0<br>1=%{x}<br>2=%{y}<br>3=%{z}<extra></extra>\",\"legendgroup\":\"\",\"line\":{\"color\":\"#636efa\",\"dash\":\"solid\"},\"marker\":{\"symbol\":\"circle\"},\"mode\":\"lines\",\"name\":\"\",\"scene\":\"scene\",\"showlegend\":false,\"x\":[63.37947,68.360794],\"y\":[74.032555,74.17684],\"z\":[54.863537,54.81042],\"type\":\"scatter3d\"},{\"error_x\":{\"array\":[0.9975,0.9975]},\"error_y\":{\"array\":[0.9975,0.9975]},\"error_z\":{\"array\":[0.9975,0.9975]},\"hovertemplate\":\"0=29.0<br>1=%{x}<br>2=%{y}<br>3=%{z}<extra></extra>\",\"legendgroup\":\"\",\"line\":{\"color\":\"#636efa\",\"dash\":\"solid\"},\"marker\":{\"symbol\":\"circle\"},\"mode\":\"lines\",\"name\":\"\",\"scene\":\"scene\",\"showlegend\":false,\"x\":[68.360794,73.265816],\"y\":[74.17684,74.22216],\"z\":[54.81042,54.345688],\"type\":\"scatter3d\"},{\"error_x\":{\"array\":[0.95,0.95]},\"error_y\":{\"array\":[0.95,0.95]},\"error_z\":{\"array\":[0.95,0.95]},\"hovertemplate\":\"0=30.0<br>1=%{x}<br>2=%{y}<br>3=%{z}<extra></extra>\",\"legendgroup\":\"\",\"line\":{\"color\":\"#636efa\",\"dash\":\"solid\"},\"marker\":{\"symbol\":\"circle\"},\"mode\":\"lines\",\"name\":\"\",\"scene\":\"scene\",\"showlegend\":false,\"x\":[73.265816,77.72415],\"y\":[74.22216,72.30599],\"z\":[54.345688,53.7626],\"type\":\"scatter3d\"},{\"error_x\":{\"array\":[0.97375,0.97375]},\"error_y\":{\"array\":[0.97375,0.97375]},\"error_z\":{\"array\":[0.97375,0.97375]},\"hovertemplate\":\"0=31.0<br>1=%{x}<br>2=%{y}<br>3=%{z}<extra></extra>\",\"legendgroup\":\"\",\"line\":{\"color\":\"#636efa\",\"dash\":\"solid\"},\"marker\":{\"symbol\":\"circle\"},\"mode\":\"lines\",\"name\":\"\",\"scene\":\"scene\",\"showlegend\":false,\"x\":[77.72415,82.33542],\"y\":[72.30599,72.325165],\"z\":[53.7626,52.49579],\"type\":\"scatter3d\"},{\"error_x\":{\"array\":[1.045,1.045]},\"error_y\":{\"array\":[1.045,1.045]},\"error_z\":{\"array\":[1.045,1.045]},\"hovertemplate\":\"0=32.0<br>1=%{x}<br>2=%{y}<br>3=%{z}<extra></extra>\",\"legendgroup\":\"\",\"line\":{\"color\":\"#636efa\",\"dash\":\"solid\"},\"marker\":{\"symbol\":\"circle\"},\"mode\":\"lines\",\"name\":\"\",\"scene\":\"scene\",\"showlegend\":false,\"x\":[82.33542,87.265785],\"y\":[72.325165,72.54208],\"z\":[52.49579,52.100586],\"type\":\"scatter3d\"},{\"error_x\":{\"array\":[0.92625,0.92625]},\"error_y\":{\"array\":[0.92625,0.92625]},\"error_z\":{\"array\":[0.92625,0.92625]},\"hovertemplate\":\"0=33.0<br>1=%{x}<br>2=%{y}<br>3=%{z}<extra></extra>\",\"legendgroup\":\"\",\"line\":{\"color\":\"#636efa\",\"dash\":\"solid\"},\"marker\":{\"symbol\":\"circle\"},\"mode\":\"lines\",\"name\":\"\",\"scene\":\"scene\",\"showlegend\":false,\"x\":[87.265785,91.4011],\"y\":[72.54208,72.79452],\"z\":[52.100586,51.34628],\"type\":\"scatter3d\"},{\"error_x\":{\"array\":[0.9975,0.9975]},\"error_y\":{\"array\":[0.9975,0.9975]},\"error_z\":{\"array\":[0.9975,0.9975]},\"hovertemplate\":\"0=34.0<br>1=%{x}<br>2=%{y}<br>3=%{z}<extra></extra>\",\"legendgroup\":\"\",\"line\":{\"color\":\"#636efa\",\"dash\":\"solid\"},\"marker\":{\"symbol\":\"circle\"},\"mode\":\"lines\",\"name\":\"\",\"scene\":\"scene\",\"showlegend\":false,\"x\":[91.4011,96.260796],\"y\":[72.79452,73.312775],\"z\":[51.34628,51.030792],\"type\":\"scatter3d\"},{\"error_x\":{\"array\":[1.06875,1.06875]},\"error_y\":{\"array\":[1.06875,1.06875]},\"error_z\":{\"array\":[1.06875,1.06875]},\"hovertemplate\":\"0=35.0<br>1=%{x}<br>2=%{y}<br>3=%{z}<extra></extra>\",\"legendgroup\":\"\",\"line\":{\"color\":\"#636efa\",\"dash\":\"solid\"},\"marker\":{\"symbol\":\"circle\"},\"mode\":\"lines\",\"name\":\"\",\"scene\":\"scene\",\"showlegend\":false,\"x\":[96.260796,100.821],\"y\":[73.312775,75.327385],\"z\":[51.030792,50.98209],\"type\":\"scatter3d\"},{\"error_x\":{\"array\":[0.92625,0.92625]},\"error_y\":{\"array\":[0.92625,0.92625]},\"error_z\":{\"array\":[0.92625,0.92625]},\"hovertemplate\":\"0=36.0<br>1=%{x}<br>2=%{y}<br>3=%{z}<extra></extra>\",\"legendgroup\":\"\",\"line\":{\"color\":\"#636efa\",\"dash\":\"solid\"},\"marker\":{\"symbol\":\"circle\"},\"mode\":\"lines\",\"name\":\"\",\"scene\":\"scene\",\"showlegend\":false,\"x\":[100.821,105.25248],\"y\":[75.327385,76.8469],\"z\":[50.98209,52.196526],\"type\":\"scatter3d\"},{\"error_x\":{\"array\":[1.11625,1.11625]},\"error_y\":{\"array\":[1.11625,1.11625]},\"error_z\":{\"array\":[1.11625,1.11625]},\"hovertemplate\":\"0=37.0<br>1=%{x}<br>2=%{y}<br>3=%{z}<extra></extra>\",\"legendgroup\":\"\",\"line\":{\"color\":\"#636efa\",\"dash\":\"solid\"},\"marker\":{\"symbol\":\"circle\"},\"mode\":\"lines\",\"name\":\"\",\"scene\":\"scene\",\"showlegend\":false,\"x\":[105.25248,108.2834],\"y\":[76.8469,79.74937],\"z\":[52.196526,54.515415],\"type\":\"scatter3d\"},{\"error_x\":{\"array\":[1.16375,1.16375]},\"error_y\":{\"array\":[1.16375,1.16375]},\"error_z\":{\"array\":[1.16375,1.16375]},\"hovertemplate\":\"0=38.0<br>1=%{x}<br>2=%{y}<br>3=%{z}<extra></extra>\",\"legendgroup\":\"\",\"line\":{\"color\":\"#636efa\",\"dash\":\"solid\"},\"marker\":{\"symbol\":\"circle\"},\"mode\":\"lines\",\"name\":\"\",\"scene\":\"scene\",\"showlegend\":false,\"x\":[108.2834,110.748566],\"y\":[79.74937,83.785675],\"z\":[54.515415,55.8344],\"type\":\"scatter3d\"},{\"error_x\":{\"array\":[1.35375,1.35375]},\"error_y\":{\"array\":[1.35375,1.35375]},\"error_z\":{\"array\":[1.35375,1.35375]},\"hovertemplate\":\"0=39.0<br>1=%{x}<br>2=%{y}<br>3=%{z}<extra></extra>\",\"legendgroup\":\"\",\"line\":{\"color\":\"#636efa\",\"dash\":\"solid\"},\"marker\":{\"symbol\":\"circle\"},\"mode\":\"lines\",\"name\":\"\",\"scene\":\"scene\",\"showlegend\":false,\"x\":[110.748566,114.21451],\"y\":[83.785675,87.35101],\"z\":[55.8344,55.88966],\"type\":\"scatter3d\"},{\"error_x\":{\"array\":[1.02125,1.02125]},\"error_y\":{\"array\":[1.02125,1.02125]},\"error_z\":{\"array\":[1.02125,1.02125]},\"hovertemplate\":\"0=40.0<br>1=%{x}<br>2=%{y}<br>3=%{z}<extra></extra>\",\"legendgroup\":\"\",\"line\":{\"color\":\"#636efa\",\"dash\":\"solid\"},\"marker\":{\"symbol\":\"circle\"},\"mode\":\"lines\",\"name\":\"\",\"scene\":\"scene\",\"showlegend\":false,\"x\":[114.21451,118.30687],\"y\":[87.35101,88.6655],\"z\":[55.88966,58.053627],\"type\":\"scatter3d\"},{\"error_x\":{\"array\":[0.855,0.855]},\"error_y\":{\"array\":[0.855,0.855]},\"error_z\":{\"array\":[0.855,0.855]},\"hovertemplate\":\"0=41.0<br>1=%{x}<br>2=%{y}<br>3=%{z}<extra></extra>\",\"legendgroup\":\"\",\"line\":{\"color\":\"#636efa\",\"dash\":\"solid\"},\"marker\":{\"symbol\":\"circle\"},\"mode\":\"lines\",\"name\":\"\",\"scene\":\"scene\",\"showlegend\":false,\"x\":[118.30687,122.31231],\"y\":[88.6655,88.61194],\"z\":[58.053627,60.726738],\"type\":\"scatter3d\"},{\"error_x\":{\"array\":[1.06875,1.06875]},\"error_y\":{\"array\":[1.06875,1.06875]},\"error_z\":{\"array\":[1.06875,1.06875]},\"hovertemplate\":\"0=42.0<br>1=%{x}<br>2=%{y}<br>3=%{z}<extra></extra>\",\"legendgroup\":\"\",\"line\":{\"color\":\"#636efa\",\"dash\":\"solid\"},\"marker\":{\"symbol\":\"circle\"},\"mode\":\"lines\",\"name\":\"\",\"scene\":\"scene\",\"showlegend\":false,\"x\":[122.31231,126.51835],\"y\":[88.61194,89.783676],\"z\":[60.726738,62.4088],\"type\":\"scatter3d\"},{\"error_x\":{\"array\":[1.14,1.14]},\"error_y\":{\"array\":[1.14,1.14]},\"error_z\":{\"array\":[1.14,1.14]},\"hovertemplate\":\"0=43.0<br>1=%{x}<br>2=%{y}<br>3=%{z}<extra></extra>\",\"legendgroup\":\"\",\"line\":{\"color\":\"#636efa\",\"dash\":\"solid\"},\"marker\":{\"symbol\":\"circle\"},\"mode\":\"lines\",\"name\":\"\",\"scene\":\"scene\",\"showlegend\":false,\"x\":[126.51835,130.32344],\"y\":[89.783676,91.741486],\"z\":[62.4088,64.10449],\"type\":\"scatter3d\"},{\"error_x\":{\"array\":[1.21125,1.21125]},\"error_y\":{\"array\":[1.21125,1.21125]},\"error_z\":{\"array\":[1.21125,1.21125]},\"hovertemplate\":\"0=44.0<br>1=%{x}<br>2=%{y}<br>3=%{z}<extra></extra>\",\"legendgroup\":\"\",\"line\":{\"color\":\"#636efa\",\"dash\":\"solid\"},\"marker\":{\"symbol\":\"circle\"},\"mode\":\"lines\",\"name\":\"\",\"scene\":\"scene\",\"showlegend\":false,\"x\":[130.32344,132.57394],\"y\":[91.741486,93.13225],\"z\":[64.10449,68.06246],\"type\":\"scatter3d\"},{\"error_x\":{\"array\":[1.3775,1.3775]},\"error_y\":{\"array\":[1.3775,1.3775]},\"error_z\":{\"array\":[1.3775,1.3775]},\"hovertemplate\":\"0=45.0<br>1=%{x}<br>2=%{y}<br>3=%{z}<extra></extra>\",\"legendgroup\":\"\",\"line\":{\"color\":\"#636efa\",\"dash\":\"solid\"},\"marker\":{\"symbol\":\"circle\"},\"mode\":\"lines\",\"name\":\"\",\"scene\":\"scene\",\"showlegend\":false,\"x\":[132.57394,133.91548],\"y\":[93.13225,94.16652],\"z\":[68.06246,72.42844],\"type\":\"scatter3d\"},{\"error_x\":{\"array\":[1.615,1.615]},\"error_y\":{\"array\":[1.615,1.615]},\"error_z\":{\"array\":[1.615,1.615]},\"hovertemplate\":\"0=46.0<br>1=%{x}<br>2=%{y}<br>3=%{z}<extra></extra>\",\"legendgroup\":\"\",\"line\":{\"color\":\"#636efa\",\"dash\":\"solid\"},\"marker\":{\"symbol\":\"circle\"},\"mode\":\"lines\",\"name\":\"\",\"scene\":\"scene\",\"showlegend\":false,\"x\":[133.91548,134.04655],\"y\":[94.16652,96.60633],\"z\":[72.42844,76.67385],\"type\":\"scatter3d\"},{\"error_x\":{\"array\":[2.1375,2.1375]},\"error_y\":{\"array\":[2.1375,2.1375]},\"error_z\":{\"array\":[2.1375,2.1375]},\"hovertemplate\":\"0=47.0<br>1=%{x}<br>2=%{y}<br>3=%{z}<extra></extra>\",\"legendgroup\":\"\",\"line\":{\"color\":\"#636efa\",\"dash\":\"solid\"},\"marker\":{\"symbol\":\"circle\"},\"mode\":\"lines\",\"name\":\"\",\"scene\":\"scene\",\"showlegend\":false,\"x\":[134.04655,130.06805],\"y\":[96.60633,99.0008],\"z\":[76.67385,77.16152],\"type\":\"scatter3d\"},{\"error_x\":{\"array\":[1.92375,1.92375]},\"error_y\":{\"array\":[1.92375,1.92375]},\"error_z\":{\"array\":[1.92375,1.92375]},\"hovertemplate\":\"0=48.0<br>1=%{x}<br>2=%{y}<br>3=%{z}<extra></extra>\",\"legendgroup\":\"\",\"line\":{\"color\":\"#636efa\",\"dash\":\"solid\"},\"marker\":{\"symbol\":\"circle\"},\"mode\":\"lines\",\"name\":\"\",\"scene\":\"scene\",\"showlegend\":false,\"x\":[130.06805,125.7761],\"y\":[99.0008,100.1892],\"z\":[77.16152,78.8727],\"type\":\"scatter3d\"},{\"error_x\":{\"array\":[0.78375,0.78375]},\"error_y\":{\"array\":[0.78375,0.78375]},\"error_z\":{\"array\":[0.78375,0.78375]},\"hovertemplate\":\"0=49.0<br>1=%{x}<br>2=%{y}<br>3=%{z}<extra></extra>\",\"legendgroup\":\"\",\"line\":{\"color\":\"#636efa\",\"dash\":\"solid\"},\"marker\":{\"symbol\":\"circle\"},\"mode\":\"lines\",\"name\":\"\",\"scene\":\"scene\",\"showlegend\":false,\"x\":[125.7761,120.88977],\"y\":[100.1892,101.01403],\"z\":[78.8727,78.943016],\"type\":\"scatter3d\"},{\"error_x\":{\"array\":[0.855,0.855]},\"error_y\":{\"array\":[0.855,0.855]},\"error_z\":{\"array\":[0.855,0.855]},\"hovertemplate\":\"0=50.0<br>1=%{x}<br>2=%{y}<br>3=%{z}<extra></extra>\",\"legendgroup\":\"\",\"line\":{\"color\":\"#636efa\",\"dash\":\"solid\"},\"marker\":{\"symbol\":\"circle\"},\"mode\":\"lines\",\"name\":\"\",\"scene\":\"scene\",\"showlegend\":false,\"x\":[120.88977,116.14616],\"y\":[101.01403,101.00517],\"z\":[78.943016,79.92267],\"type\":\"scatter3d\"},{\"error_x\":{\"array\":[0.97375,0.97375]},\"error_y\":{\"array\":[0.97375,0.97375]},\"error_z\":{\"array\":[0.97375,0.97375]},\"hovertemplate\":\"0=51.0<br>1=%{x}<br>2=%{y}<br>3=%{z}<extra></extra>\",\"legendgroup\":\"\",\"line\":{\"color\":\"#636efa\",\"dash\":\"solid\"},\"marker\":{\"symbol\":\"circle\"},\"mode\":\"lines\",\"name\":\"\",\"scene\":\"scene\",\"showlegend\":false,\"x\":[116.14616,111.47015],\"y\":[101.00517,100.25322],\"z\":[79.92267,80.75713],\"type\":\"scatter3d\"},{\"error_x\":{\"array\":[0.76,0.76]},\"error_y\":{\"array\":[0.76,0.76]},\"error_z\":{\"array\":[0.76,0.76]},\"hovertemplate\":\"0=52.0<br>1=%{x}<br>2=%{y}<br>3=%{z}<extra></extra>\",\"legendgroup\":\"\",\"line\":{\"color\":\"#636efa\",\"dash\":\"solid\"},\"marker\":{\"symbol\":\"circle\"},\"mode\":\"lines\",\"name\":\"\",\"scene\":\"scene\",\"showlegend\":false,\"x\":[111.47015,107.63986],\"y\":[100.25322,99.45664],\"z\":[80.75713,82.811485],\"type\":\"scatter3d\"},{\"error_x\":{\"array\":[0.9025,0.9025]},\"error_y\":{\"array\":[0.9025,0.9025]},\"error_z\":{\"array\":[0.9025,0.9025]},\"hovertemplate\":\"0=53.0<br>1=%{x}<br>2=%{y}<br>3=%{z}<extra></extra>\",\"legendgroup\":\"\",\"line\":{\"color\":\"#636efa\",\"dash\":\"solid\"},\"marker\":{\"symbol\":\"circle\"},\"mode\":\"lines\",\"name\":\"\",\"scene\":\"scene\",\"showlegend\":false,\"x\":[107.63986,103.48933],\"y\":[99.45664,97.76976],\"z\":[82.811485,84.81541],\"type\":\"scatter3d\"},{\"error_x\":{\"array\":[0.76,0.76]},\"error_y\":{\"array\":[0.76,0.76]},\"error_z\":{\"array\":[0.76,0.76]},\"hovertemplate\":\"0=54.0<br>1=%{x}<br>2=%{y}<br>3=%{z}<extra></extra>\",\"legendgroup\":\"\",\"line\":{\"color\":\"#636efa\",\"dash\":\"solid\"},\"marker\":{\"symbol\":\"circle\"},\"mode\":\"lines\",\"name\":\"\",\"scene\":\"scene\",\"showlegend\":false,\"x\":[103.48933,98.94794],\"y\":[97.76976,96.28273],\"z\":[84.81541,85.86579],\"type\":\"scatter3d\"},{\"error_x\":{\"array\":[1.14,1.14]},\"error_y\":{\"array\":[1.14,1.14]},\"error_z\":{\"array\":[1.14,1.14]},\"hovertemplate\":\"0=55.0<br>1=%{x}<br>2=%{y}<br>3=%{z}<extra></extra>\",\"legendgroup\":\"\",\"line\":{\"color\":\"#636efa\",\"dash\":\"solid\"},\"marker\":{\"symbol\":\"circle\"},\"mode\":\"lines\",\"name\":\"\",\"scene\":\"scene\",\"showlegend\":false,\"x\":[98.94794,94.21584],\"y\":[96.28273,94.67753],\"z\":[85.86579,85.81767],\"type\":\"scatter3d\"},{\"error_x\":{\"array\":[0.78375,0.78375]},\"error_y\":{\"array\":[0.78375,0.78375]},\"error_z\":{\"array\":[0.78375,0.78375]},\"hovertemplate\":\"0=56.0<br>1=%{x}<br>2=%{y}<br>3=%{z}<extra></extra>\",\"legendgroup\":\"\",\"line\":{\"color\":\"#636efa\",\"dash\":\"solid\"},\"marker\":{\"symbol\":\"circle\"},\"mode\":\"lines\",\"name\":\"\",\"scene\":\"scene\",\"showlegend\":false,\"x\":[94.21584,89.6566],\"y\":[94.67753,92.7299],\"z\":[85.81767,85.79529],\"type\":\"scatter3d\"},{\"error_x\":{\"array\":[0.9025,0.9025]},\"error_y\":{\"array\":[0.9025,0.9025]},\"error_z\":{\"array\":[0.9025,0.9025]},\"hovertemplate\":\"0=57.0<br>1=%{x}<br>2=%{y}<br>3=%{z}<extra></extra>\",\"legendgroup\":\"\",\"line\":{\"color\":\"#636efa\",\"dash\":\"solid\"},\"marker\":{\"symbol\":\"circle\"},\"mode\":\"lines\",\"name\":\"\",\"scene\":\"scene\",\"showlegend\":false,\"x\":[89.6566,84.82734],\"y\":[92.7299,92.082825],\"z\":[85.79529,85.878235],\"type\":\"scatter3d\"},{\"error_x\":{\"array\":[0.855,0.855]},\"error_y\":{\"array\":[0.855,0.855]},\"error_z\":{\"array\":[0.855,0.855]},\"hovertemplate\":\"0=58.0<br>1=%{x}<br>2=%{y}<br>3=%{z}<extra></extra>\",\"legendgroup\":\"\",\"line\":{\"color\":\"#636efa\",\"dash\":\"solid\"},\"marker\":{\"symbol\":\"circle\"},\"mode\":\"lines\",\"name\":\"\",\"scene\":\"scene\",\"showlegend\":false,\"x\":[84.82734,80.93327],\"y\":[92.082825,93.407974],\"z\":[85.878235,88.136955],\"type\":\"scatter3d\"},{\"error_x\":{\"array\":[0.78375,0.78375]},\"error_y\":{\"array\":[0.78375,0.78375]},\"error_z\":{\"array\":[0.78375,0.78375]},\"hovertemplate\":\"0=59.0<br>1=%{x}<br>2=%{y}<br>3=%{z}<extra></extra>\",\"legendgroup\":\"\",\"line\":{\"color\":\"#636efa\",\"dash\":\"solid\"},\"marker\":{\"symbol\":\"circle\"},\"mode\":\"lines\",\"name\":\"\",\"scene\":\"scene\",\"showlegend\":false,\"x\":[80.93327,76.73592],\"y\":[93.407974,92.121704],\"z\":[88.136955,89.994],\"type\":\"scatter3d\"},{\"error_x\":{\"array\":[1.14,1.14]},\"error_y\":{\"array\":[1.14,1.14]},\"error_z\":{\"array\":[1.14,1.14]},\"hovertemplate\":\"0=60.0<br>1=%{x}<br>2=%{y}<br>3=%{z}<extra></extra>\",\"legendgroup\":\"\",\"line\":{\"color\":\"#636efa\",\"dash\":\"solid\"},\"marker\":{\"symbol\":\"circle\"},\"mode\":\"lines\",\"name\":\"\",\"scene\":\"scene\",\"showlegend\":false,\"x\":[76.73592,72.09481],\"y\":[92.121704,90.38727],\"z\":[89.994,90.05633],\"type\":\"scatter3d\"},{\"error_x\":{\"array\":[0.9975,0.9975]},\"error_y\":{\"array\":[0.9975,0.9975]},\"error_z\":{\"array\":[0.9975,0.9975]},\"hovertemplate\":\"0=61.0<br>1=%{x}<br>2=%{y}<br>3=%{z}<extra></extra>\",\"legendgroup\":\"\",\"line\":{\"color\":\"#636efa\",\"dash\":\"solid\"},\"marker\":{\"symbol\":\"circle\"},\"mode\":\"lines\",\"name\":\"\",\"scene\":\"scene\",\"showlegend\":false,\"x\":[72.09481,68.08775],\"y\":[90.38727,87.72435],\"z\":[90.05633,89.424484],\"type\":\"scatter3d\"},{\"error_x\":{\"array\":[1.11625,1.11625]},\"error_y\":{\"array\":[1.11625,1.11625]},\"error_z\":{\"array\":[1.11625,1.11625]},\"hovertemplate\":\"0=62.0<br>1=%{x}<br>2=%{y}<br>3=%{z}<extra></extra>\",\"legendgroup\":\"\",\"line\":{\"color\":\"#636efa\",\"dash\":\"solid\"},\"marker\":{\"symbol\":\"circle\"},\"mode\":\"lines\",\"name\":\"\",\"scene\":\"scene\",\"showlegend\":false,\"x\":[68.08775,64.01044],\"y\":[87.72435,85.09583],\"z\":[89.424484,88.78968],\"type\":\"scatter3d\"},{\"error_x\":{\"array\":[1.06875,1.06875]},\"error_y\":{\"array\":[1.06875,1.06875]},\"error_z\":{\"array\":[1.06875,1.06875]},\"hovertemplate\":\"0=63.0<br>1=%{x}<br>2=%{y}<br>3=%{z}<extra></extra>\",\"legendgroup\":\"\",\"line\":{\"color\":\"#636efa\",\"dash\":\"solid\"},\"marker\":{\"symbol\":\"circle\"},\"mode\":\"lines\",\"name\":\"\",\"scene\":\"scene\",\"showlegend\":false,\"x\":[64.01044,59.77245],\"y\":[85.09583,83.376366],\"z\":[88.78968,90.481705],\"type\":\"scatter3d\"},{\"error_x\":{\"array\":[1.11625,1.11625]},\"error_y\":{\"array\":[1.11625,1.11625]},\"error_z\":{\"array\":[1.11625,1.11625]},\"hovertemplate\":\"0=64.0<br>1=%{x}<br>2=%{y}<br>3=%{z}<extra></extra>\",\"legendgroup\":\"\",\"line\":{\"color\":\"#636efa\",\"dash\":\"solid\"},\"marker\":{\"symbol\":\"circle\"},\"mode\":\"lines\",\"name\":\"\",\"scene\":\"scene\",\"showlegend\":false,\"x\":[59.77245,55.643044],\"y\":[83.376366,80.83979],\"z\":[90.481705,91.23056],\"type\":\"scatter3d\"},{\"error_x\":{\"array\":[0.83125,0.83125]},\"error_y\":{\"array\":[0.83125,0.83125]},\"error_z\":{\"array\":[0.83125,0.83125]},\"hovertemplate\":\"0=65.0<br>1=%{x}<br>2=%{y}<br>3=%{z}<extra></extra>\",\"legendgroup\":\"\",\"line\":{\"color\":\"#636efa\",\"dash\":\"solid\"},\"marker\":{\"symbol\":\"circle\"},\"mode\":\"lines\",\"name\":\"\",\"scene\":\"scene\",\"showlegend\":false,\"x\":[55.643044,51.317623],\"y\":[80.83979,78.64244],\"z\":[91.23056,91.781],\"type\":\"scatter3d\"},{\"error_x\":{\"array\":[0.92625,0.92625]},\"error_y\":{\"array\":[0.92625,0.92625]},\"error_z\":{\"array\":[0.92625,0.92625]},\"hovertemplate\":\"0=66.0<br>1=%{x}<br>2=%{y}<br>3=%{z}<extra></extra>\",\"legendgroup\":\"\",\"line\":{\"color\":\"#636efa\",\"dash\":\"solid\"},\"marker\":{\"symbol\":\"circle\"},\"mode\":\"lines\",\"name\":\"\",\"scene\":\"scene\",\"showlegend\":false,\"x\":[51.317623,46.60474],\"y\":[78.64244,76.987045],\"z\":[91.781,91.80879],\"type\":\"scatter3d\"},{\"error_x\":{\"array\":[0.92625,0.92625]},\"error_y\":{\"array\":[0.92625,0.92625]},\"error_z\":{\"array\":[0.92625,0.92625]},\"hovertemplate\":\"0=67.0<br>1=%{x}<br>2=%{y}<br>3=%{z}<extra></extra>\",\"legendgroup\":\"\",\"line\":{\"color\":\"#636efa\",\"dash\":\"solid\"},\"marker\":{\"symbol\":\"circle\"},\"mode\":\"lines\",\"name\":\"\",\"scene\":\"scene\",\"showlegend\":false,\"x\":[46.60474,41.89039],\"y\":[76.987045,75.732086],\"z\":[91.80879,91.919],\"type\":\"scatter3d\"},{\"error_x\":{\"array\":[0.76,0.76]},\"error_y\":{\"array\":[0.76,0.76]},\"error_z\":{\"array\":[0.76,0.76]},\"hovertemplate\":\"0=68.0<br>1=%{x}<br>2=%{y}<br>3=%{z}<extra></extra>\",\"legendgroup\":\"\",\"line\":{\"color\":\"#636efa\",\"dash\":\"solid\"},\"marker\":{\"symbol\":\"circle\"},\"mode\":\"lines\",\"name\":\"\",\"scene\":\"scene\",\"showlegend\":false,\"x\":[41.89039,37.37208],\"y\":[75.732086,74.11836],\"z\":[91.919,92.40456],\"type\":\"scatter3d\"},{\"error_x\":{\"array\":[1.045,1.045]},\"error_y\":{\"array\":[1.045,1.045]},\"error_z\":{\"array\":[1.045,1.045]},\"hovertemplate\":\"0=69.0<br>1=%{x}<br>2=%{y}<br>3=%{z}<extra></extra>\",\"legendgroup\":\"\",\"line\":{\"color\":\"#636efa\",\"dash\":\"solid\"},\"marker\":{\"symbol\":\"circle\"},\"mode\":\"lines\",\"name\":\"\",\"scene\":\"scene\",\"showlegend\":false,\"x\":[37.37208,32.8176],\"y\":[74.11836,72.36274],\"z\":[92.40456,92.99486],\"type\":\"scatter3d\"},{\"error_x\":{\"array\":[0.78375,0.78375]},\"error_y\":{\"array\":[0.78375,0.78375]},\"error_z\":{\"array\":[0.78375,0.78375]},\"hovertemplate\":\"0=70.0<br>1=%{x}<br>2=%{y}<br>3=%{z}<extra></extra>\",\"legendgroup\":\"\",\"line\":{\"color\":\"#636efa\",\"dash\":\"solid\"},\"marker\":{\"symbol\":\"circle\"},\"mode\":\"lines\",\"name\":\"\",\"scene\":\"scene\",\"showlegend\":false,\"x\":[32.8176,28.521826],\"y\":[72.36274,70.85686],\"z\":[92.99486,91.82236],\"type\":\"scatter3d\"},{\"error_x\":{\"array\":[0.855,0.855]},\"error_y\":{\"array\":[0.855,0.855]},\"error_z\":{\"array\":[0.855,0.855]},\"hovertemplate\":\"0=71.0<br>1=%{x}<br>2=%{y}<br>3=%{z}<extra></extra>\",\"legendgroup\":\"\",\"line\":{\"color\":\"#636efa\",\"dash\":\"solid\"},\"marker\":{\"symbol\":\"circle\"},\"mode\":\"lines\",\"name\":\"\",\"scene\":\"scene\",\"showlegend\":false,\"x\":[28.521826,23.952576],\"y\":[70.85686,69.14492],\"z\":[91.82236,91.11651],\"type\":\"scatter3d\"},{\"error_x\":{\"array\":[0.92625,0.92625]},\"error_y\":{\"array\":[0.92625,0.92625]},\"error_z\":{\"array\":[0.92625,0.92625]},\"hovertemplate\":\"0=72.0<br>1=%{x}<br>2=%{y}<br>3=%{z}<extra></extra>\",\"legendgroup\":\"\",\"line\":{\"color\":\"#636efa\",\"dash\":\"solid\"},\"marker\":{\"symbol\":\"circle\"},\"mode\":\"lines\",\"name\":\"\",\"scene\":\"scene\",\"showlegend\":false,\"x\":[23.952576,19.277128],\"y\":[69.14492,67.96416],\"z\":[91.11651,90.4774],\"type\":\"scatter3d\"},{\"error_x\":{\"array\":[0.78375,0.78375]},\"error_y\":{\"array\":[0.78375,0.78375]},\"error_z\":{\"array\":[0.78375,0.78375]},\"hovertemplate\":\"0=73.0<br>1=%{x}<br>2=%{y}<br>3=%{z}<extra></extra>\",\"legendgroup\":\"\",\"line\":{\"color\":\"#636efa\",\"dash\":\"solid\"},\"marker\":{\"symbol\":\"circle\"},\"mode\":\"lines\",\"name\":\"\",\"scene\":\"scene\",\"showlegend\":false,\"x\":[19.277128,14.622624],\"y\":[67.96416,66.87224],\"z\":[90.4774,89.39902],\"type\":\"scatter3d\"},{\"error_x\":{\"array\":[0.83125,0.83125]},\"error_y\":{\"array\":[0.83125,0.83125]},\"error_z\":{\"array\":[0.83125,0.83125]},\"hovertemplate\":\"0=74.0<br>1=%{x}<br>2=%{y}<br>3=%{z}<extra></extra>\",\"legendgroup\":\"\",\"line\":{\"color\":\"#636efa\",\"dash\":\"solid\"},\"marker\":{\"symbol\":\"circle\"},\"mode\":\"lines\",\"name\":\"\",\"scene\":\"scene\",\"showlegend\":false,\"x\":[14.622624,9.757445],\"y\":[66.87224,65.83266],\"z\":[89.39902,89.36822],\"type\":\"scatter3d\"},{\"error_x\":{\"array\":[0.78375,0.78375]},\"error_y\":{\"array\":[0.78375,0.78375]},\"error_z\":{\"array\":[0.78375,0.78375]},\"hovertemplate\":\"0=75.0<br>1=%{x}<br>2=%{y}<br>3=%{z}<extra></extra>\",\"legendgroup\":\"\",\"line\":{\"color\":\"#636efa\",\"dash\":\"solid\"},\"marker\":{\"symbol\":\"circle\"},\"mode\":\"lines\",\"name\":\"\",\"scene\":\"scene\",\"showlegend\":false,\"x\":[9.757445,5.065181],\"y\":[65.83266,65.81754],\"z\":[89.36822,88.1706],\"type\":\"scatter3d\"},{\"error_x\":{\"array\":[0.87875,0.87875]},\"error_y\":{\"array\":[0.87875,0.87875]},\"error_z\":{\"array\":[0.87875,0.87875]},\"hovertemplate\":\"0=76.0<br>1=%{x}<br>2=%{y}<br>3=%{z}<extra></extra>\",\"legendgroup\":\"\",\"line\":{\"color\":\"#636efa\",\"dash\":\"solid\"},\"marker\":{\"symbol\":\"circle\"},\"mode\":\"lines\",\"name\":\"\",\"scene\":\"scene\",\"showlegend\":false,\"x\":[5.065181,0.37548545],\"y\":[65.81754,65.52655],\"z\":[88.1706,86.78876],\"type\":\"scatter3d\"},{\"error_x\":{\"array\":[6.08,6.08]},\"error_y\":{\"array\":[6.08,6.08]},\"error_z\":{\"array\":[6.08,6.08]},\"hovertemplate\":\"0=77.0<br>1=%{x}<br>2=%{y}<br>3=%{z}<extra></extra>\",\"legendgroup\":\"\",\"line\":{\"color\":\"#636efa\",\"dash\":\"solid\"},\"marker\":{\"symbol\":\"circle\"},\"mode\":\"lines\",\"name\":\"\",\"scene\":\"scene\",\"showlegend\":false,\"x\":[100.0331,99.500984],\"y\":[117.0343,117.175804],\"z\":[64.0716,59.84744],\"type\":\"scatter3d\"},{\"error_x\":{\"array\":[1.9,1.9]},\"error_y\":{\"array\":[1.9,1.9]},\"error_z\":{\"array\":[1.9,1.9]},\"hovertemplate\":\"0=78.0<br>1=%{x}<br>2=%{y}<br>3=%{z}<extra></extra>\",\"legendgroup\":\"\",\"line\":{\"color\":\"#636efa\",\"dash\":\"solid\"},\"marker\":{\"symbol\":\"circle\"},\"mode\":\"lines\",\"name\":\"\",\"scene\":\"scene\",\"showlegend\":false,\"x\":[99.500984,98.991035],\"y\":[117.175804,117.04462],\"z\":[59.84744,54.89241],\"type\":\"scatter3d\"},{\"error_x\":{\"array\":[1.9,1.9]},\"error_y\":{\"array\":[1.9,1.9]},\"error_z\":{\"array\":[1.9,1.9]},\"hovertemplate\":\"0=79.0<br>1=%{x}<br>2=%{y}<br>3=%{z}<extra></extra>\",\"legendgroup\":\"\",\"line\":{\"color\":\"#636efa\",\"dash\":\"solid\"},\"marker\":{\"symbol\":\"circle\"},\"mode\":\"lines\",\"name\":\"\",\"scene\":\"scene\",\"showlegend\":false,\"x\":[98.991035,97.46173],\"y\":[117.04462,117.13632],\"z\":[54.89241,50.397408],\"type\":\"scatter3d\"},{\"error_x\":{\"array\":[4.9875,4.9875]},\"error_y\":{\"array\":[4.9875,4.9875]},\"error_z\":{\"array\":[4.9875,4.9875]},\"hovertemplate\":\"0=80.0<br>1=%{x}<br>2=%{y}<br>3=%{z}<extra></extra>\",\"legendgroup\":\"\",\"line\":{\"color\":\"#636efa\",\"dash\":\"solid\"},\"marker\":{\"symbol\":\"circle\"},\"mode\":\"lines\",\"name\":\"\",\"scene\":\"scene\",\"showlegend\":false,\"x\":[97.46173,96.732605],\"y\":[117.13632,117.02987],\"z\":[50.397408,46.346184],\"type\":\"scatter3d\"},{\"error_x\":{\"array\":[4.9875,4.9875]},\"error_y\":{\"array\":[4.9875,4.9875]},\"error_z\":{\"array\":[4.9875,4.9875]},\"hovertemplate\":\"0=81.0<br>1=%{x}<br>2=%{y}<br>3=%{z}<extra></extra>\",\"legendgroup\":\"\",\"line\":{\"color\":\"#636efa\",\"dash\":\"solid\"},\"marker\":{\"symbol\":\"circle\"},\"mode\":\"lines\",\"name\":\"\",\"scene\":\"scene\",\"showlegend\":false,\"x\":[96.732605,98.06016],\"y\":[117.02987,118.0089],\"z\":[46.346184,42.213345],\"type\":\"scatter3d\"},{\"error_x\":{\"array\":[3.15875,3.15875]},\"error_y\":{\"array\":[3.15875,3.15875]},\"error_z\":{\"array\":[3.15875,3.15875]},\"hovertemplate\":\"0=82.0<br>1=%{x}<br>2=%{y}<br>3=%{z}<extra></extra>\",\"legendgroup\":\"\",\"line\":{\"color\":\"#636efa\",\"dash\":\"solid\"},\"marker\":{\"symbol\":\"circle\"},\"mode\":\"lines\",\"name\":\"\",\"scene\":\"scene\",\"showlegend\":false,\"x\":[98.06016,100.72381],\"y\":[118.0089,119.737854],\"z\":[42.213345,39.27035],\"type\":\"scatter3d\"},{\"error_x\":{\"array\":[1.59125,1.59125]},\"error_y\":{\"array\":[1.59125,1.59125]},\"error_z\":{\"array\":[1.59125,1.59125]},\"hovertemplate\":\"0=83.0<br>1=%{x}<br>2=%{y}<br>3=%{z}<extra></extra>\",\"legendgroup\":\"\",\"line\":{\"color\":\"#636efa\",\"dash\":\"solid\"},\"marker\":{\"symbol\":\"circle\"},\"mode\":\"lines\",\"name\":\"\",\"scene\":\"scene\",\"showlegend\":false,\"x\":[100.72381,100.92999],\"y\":[119.737854,123.43514],\"z\":[39.27035,36.604088],\"type\":\"scatter3d\"},{\"error_x\":{\"array\":[1.59125,1.59125]},\"error_y\":{\"array\":[1.59125,1.59125]},\"error_z\":{\"array\":[1.59125,1.59125]},\"hovertemplate\":\"0=84.0<br>1=%{x}<br>2=%{y}<br>3=%{z}<extra></extra>\",\"legendgroup\":\"\",\"line\":{\"color\":\"#636efa\",\"dash\":\"solid\"},\"marker\":{\"symbol\":\"circle\"},\"mode\":\"lines\",\"name\":\"\",\"scene\":\"scene\",\"showlegend\":false,\"x\":[100.92999,100.02584],\"y\":[123.43514,125.90411],\"z\":[36.604088,32.63682],\"type\":\"scatter3d\"},{\"error_x\":{\"array\":[1.615,1.615]},\"error_y\":{\"array\":[1.615,1.615]},\"error_z\":{\"array\":[1.615,1.615]},\"hovertemplate\":\"0=85.0<br>1=%{x}<br>2=%{y}<br>3=%{z}<extra></extra>\",\"legendgroup\":\"\",\"line\":{\"color\":\"#636efa\",\"dash\":\"solid\"},\"marker\":{\"symbol\":\"circle\"},\"mode\":\"lines\",\"name\":\"\",\"scene\":\"scene\",\"showlegend\":false,\"x\":[100.02584,99.28664],\"y\":[125.90411,128.6306],\"z\":[32.63682,29.124535],\"type\":\"scatter3d\"},{\"error_x\":{\"array\":[1.73375,1.73375]},\"error_y\":{\"array\":[1.73375,1.73375]},\"error_z\":{\"array\":[1.73375,1.73375]},\"hovertemplate\":\"0=86.0<br>1=%{x}<br>2=%{y}<br>3=%{z}<extra></extra>\",\"legendgroup\":\"\",\"line\":{\"color\":\"#636efa\",\"dash\":\"solid\"},\"marker\":{\"symbol\":\"circle\"},\"mode\":\"lines\",\"name\":\"\",\"scene\":\"scene\",\"showlegend\":false,\"x\":[99.28664,96.99186],\"y\":[128.6306,132.73946],\"z\":[29.124535,27.890474],\"type\":\"scatter3d\"},{\"error_x\":{\"array\":[2.11375,2.11375]},\"error_y\":{\"array\":[2.11375,2.11375]},\"error_z\":{\"array\":[2.11375,2.11375]},\"hovertemplate\":\"0=87.0<br>1=%{x}<br>2=%{y}<br>3=%{z}<extra></extra>\",\"legendgroup\":\"\",\"line\":{\"color\":\"#636efa\",\"dash\":\"solid\"},\"marker\":{\"symbol\":\"circle\"},\"mode\":\"lines\",\"name\":\"\",\"scene\":\"scene\",\"showlegend\":false,\"x\":[96.99186,95.003815],\"y\":[132.73946,137.02176],\"z\":[27.890474,26.631273],\"type\":\"scatter3d\"},{\"error_x\":{\"array\":[1.8525,1.8525]},\"error_y\":{\"array\":[1.8525,1.8525]},\"error_z\":{\"array\":[1.8525,1.8525]},\"hovertemplate\":\"0=88.0<br>1=%{x}<br>2=%{y}<br>3=%{z}<extra></extra>\",\"legendgroup\":\"\",\"line\":{\"color\":\"#636efa\",\"dash\":\"solid\"},\"marker\":{\"symbol\":\"circle\"},\"mode\":\"lines\",\"name\":\"\",\"scene\":\"scene\",\"showlegend\":false,\"x\":[95.003815,93.05427],\"y\":[137.02176,140.7946],\"z\":[26.631273,24.764526],\"type\":\"scatter3d\"},{\"error_x\":{\"array\":[1.995,1.995]},\"error_y\":{\"array\":[1.995,1.995]},\"error_z\":{\"array\":[1.995,1.995]},\"hovertemplate\":\"0=89.0<br>1=%{x}<br>2=%{y}<br>3=%{z}<extra></extra>\",\"legendgroup\":\"\",\"line\":{\"color\":\"#636efa\",\"dash\":\"solid\"},\"marker\":{\"symbol\":\"circle\"},\"mode\":\"lines\",\"name\":\"\",\"scene\":\"scene\",\"showlegend\":false,\"x\":[93.05427,92.08815],\"y\":[140.7946,142.3108],\"z\":[24.764526,20.353004],\"type\":\"scatter3d\"},{\"error_x\":{\"array\":[1.995,1.995]},\"error_y\":{\"array\":[1.995,1.995]},\"error_z\":{\"array\":[1.995,1.995]},\"hovertemplate\":\"0=90.0<br>1=%{x}<br>2=%{y}<br>3=%{z}<extra></extra>\",\"legendgroup\":\"\",\"line\":{\"color\":\"#636efa\",\"dash\":\"solid\"},\"marker\":{\"symbol\":\"circle\"},\"mode\":\"lines\",\"name\":\"\",\"scene\":\"scene\",\"showlegend\":false,\"x\":[92.08815,90.63472],\"y\":[142.3108,143.18094],\"z\":[20.353004,16.297527],\"type\":\"scatter3d\"},{\"error_x\":{\"array\":[1.7575,1.7575]},\"error_y\":{\"array\":[1.7575,1.7575]},\"error_z\":{\"array\":[1.7575,1.7575]},\"hovertemplate\":\"0=91.0<br>1=%{x}<br>2=%{y}<br>3=%{z}<extra></extra>\",\"legendgroup\":\"\",\"line\":{\"color\":\"#636efa\",\"dash\":\"solid\"},\"marker\":{\"symbol\":\"circle\"},\"mode\":\"lines\",\"name\":\"\",\"scene\":\"scene\",\"showlegend\":false,\"x\":[90.63472,87.10024],\"y\":[143.18094,146.35237],\"z\":[16.297527,15.686437],\"type\":\"scatter3d\"},{\"error_x\":{\"array\":[1.92375,1.92375]},\"error_y\":{\"array\":[1.92375,1.92375]},\"error_z\":{\"array\":[1.92375,1.92375]},\"hovertemplate\":\"0=92.0<br>1=%{x}<br>2=%{y}<br>3=%{z}<extra></extra>\",\"legendgroup\":\"\",\"line\":{\"color\":\"#636efa\",\"dash\":\"solid\"},\"marker\":{\"symbol\":\"circle\"},\"mode\":\"lines\",\"name\":\"\",\"scene\":\"scene\",\"showlegend\":false,\"x\":[87.10024,83.48728],\"y\":[146.35237,149.57841],\"z\":[15.686437,15.202836],\"type\":\"scatter3d\"},{\"error_x\":{\"array\":[1.87625,1.87625]},\"error_y\":{\"array\":[1.87625,1.87625]},\"error_z\":{\"array\":[1.87625,1.87625]},\"hovertemplate\":\"0=93.0<br>1=%{x}<br>2=%{y}<br>3=%{z}<extra></extra>\",\"legendgroup\":\"\",\"line\":{\"color\":\"#636efa\",\"dash\":\"solid\"},\"marker\":{\"symbol\":\"circle\"},\"mode\":\"lines\",\"name\":\"\",\"scene\":\"scene\",\"showlegend\":false,\"x\":[83.48728,81.60153],\"y\":[149.57841,153.12468],\"z\":[15.202836,12.565319],\"type\":\"scatter3d\"},{\"error_x\":{\"array\":[2.35125,2.35125]},\"error_y\":{\"array\":[2.35125,2.35125]},\"error_z\":{\"array\":[2.35125,2.35125]},\"hovertemplate\":\"0=94.0<br>1=%{x}<br>2=%{y}<br>3=%{z}<extra></extra>\",\"legendgroup\":\"\",\"line\":{\"color\":\"#636efa\",\"dash\":\"solid\"},\"marker\":{\"symbol\":\"circle\"},\"mode\":\"lines\",\"name\":\"\",\"scene\":\"scene\",\"showlegend\":false,\"x\":[81.60153,79.46671],\"y\":[153.12468,155.22899],\"z\":[12.565319,9.260741],\"type\":\"scatter3d\"},{\"error_x\":{\"array\":[2.66,2.66]},\"error_y\":{\"array\":[2.66,2.66]},\"error_z\":{\"array\":[2.66,2.66]},\"hovertemplate\":\"0=95.0<br>1=%{x}<br>2=%{y}<br>3=%{z}<extra></extra>\",\"legendgroup\":\"\",\"line\":{\"color\":\"#636efa\",\"dash\":\"solid\"},\"marker\":{\"symbol\":\"circle\"},\"mode\":\"lines\",\"name\":\"\",\"scene\":\"scene\",\"showlegend\":false,\"x\":[100.72381,103.156944],\"y\":[119.737854,121.30524],\"z\":[39.27035,35.585514],\"type\":\"scatter3d\"},{\"error_x\":{\"array\":[2.66,2.66]},\"error_y\":{\"array\":[2.66,2.66]},\"error_z\":{\"array\":[2.66,2.66]},\"hovertemplate\":\"0=96.0<br>1=%{x}<br>2=%{y}<br>3=%{z}<extra></extra>\",\"legendgroup\":\"\",\"line\":{\"color\":\"#636efa\",\"dash\":\"solid\"},\"marker\":{\"symbol\":\"circle\"},\"mode\":\"lines\",\"name\":\"\",\"scene\":\"scene\",\"showlegend\":false,\"x\":[103.156944,106.996864],\"y\":[121.30524,122.85052],\"z\":[35.585514,33.768246],\"type\":\"scatter3d\"},{\"error_x\":{\"array\":[2.28,2.28]},\"error_y\":{\"array\":[2.28,2.28]},\"error_z\":{\"array\":[2.28,2.28]},\"hovertemplate\":\"0=97.0<br>1=%{x}<br>2=%{y}<br>3=%{z}<extra></extra>\",\"legendgroup\":\"\",\"line\":{\"color\":\"#636efa\",\"dash\":\"solid\"},\"marker\":{\"symbol\":\"circle\"},\"mode\":\"lines\",\"name\":\"\",\"scene\":\"scene\",\"showlegend\":false,\"x\":[106.996864,109.148766],\"y\":[122.85052,125.224594],\"z\":[33.768246,30.22409],\"type\":\"scatter3d\"},{\"error_x\":{\"array\":[2.4225,2.4225]},\"error_y\":{\"array\":[2.4225,2.4225]},\"error_z\":{\"array\":[2.4225,2.4225]},\"hovertemplate\":\"0=98.0<br>1=%{x}<br>2=%{y}<br>3=%{z}<extra></extra>\",\"legendgroup\":\"\",\"line\":{\"color\":\"#636efa\",\"dash\":\"solid\"},\"marker\":{\"symbol\":\"circle\"},\"mode\":\"lines\",\"name\":\"\",\"scene\":\"scene\",\"showlegend\":false,\"x\":[109.148766,110.64164],\"y\":[125.224594,129.04732],\"z\":[30.22409,29.62083],\"type\":\"scatter3d\"},{\"error_x\":{\"array\":[2.4225,2.4225]},\"error_y\":{\"array\":[2.4225,2.4225]},\"error_z\":{\"array\":[2.4225,2.4225]},\"hovertemplate\":\"0=99.0<br>1=%{x}<br>2=%{y}<br>3=%{z}<extra></extra>\",\"legendgroup\":\"\",\"line\":{\"color\":\"#636efa\",\"dash\":\"solid\"},\"marker\":{\"symbol\":\"circle\"},\"mode\":\"lines\",\"name\":\"\",\"scene\":\"scene\",\"showlegend\":false,\"x\":[110.64164,111.529175],\"y\":[129.04732,133.33562],\"z\":[29.62083,28.170368],\"type\":\"scatter3d\"},{\"error_x\":{\"array\":[2.47,2.47]},\"error_y\":{\"array\":[2.47,2.47]},\"error_z\":{\"array\":[2.47,2.47]},\"hovertemplate\":\"0=100.0<br>1=%{x}<br>2=%{y}<br>3=%{z}<extra></extra>\",\"legendgroup\":\"\",\"line\":{\"color\":\"#636efa\",\"dash\":\"solid\"},\"marker\":{\"symbol\":\"circle\"},\"mode\":\"lines\",\"name\":\"\",\"scene\":\"scene\",\"showlegend\":false,\"x\":[111.529175,112.90348],\"y\":[133.33562,138.0683],\"z\":[28.170368,28.017675],\"type\":\"scatter3d\"},{\"error_x\":{\"array\":[1.97125,1.97125]},\"error_y\":{\"array\":[1.97125,1.97125]},\"error_z\":{\"array\":[1.97125,1.97125]},\"hovertemplate\":\"0=101.0<br>1=%{x}<br>2=%{y}<br>3=%{z}<extra></extra>\",\"legendgroup\":\"\",\"line\":{\"color\":\"#636efa\",\"dash\":\"solid\"},\"marker\":{\"symbol\":\"circle\"},\"mode\":\"lines\",\"name\":\"\",\"scene\":\"scene\",\"showlegend\":false,\"x\":[112.90348,115.21709],\"y\":[138.0683,140.8446],\"z\":[28.017675,25.456741],\"type\":\"scatter3d\"},{\"error_x\":{\"array\":[2.20875,2.20875]},\"error_y\":{\"array\":[2.20875,2.20875]},\"error_z\":{\"array\":[2.20875,2.20875]},\"hovertemplate\":\"0=102.0<br>1=%{x}<br>2=%{y}<br>3=%{z}<extra></extra>\",\"legendgroup\":\"\",\"line\":{\"color\":\"#636efa\",\"dash\":\"solid\"},\"marker\":{\"symbol\":\"circle\"},\"mode\":\"lines\",\"name\":\"\",\"scene\":\"scene\",\"showlegend\":false,\"x\":[115.21709,117.40047],\"y\":[140.8446,143.46512],\"z\":[25.456741,22.750874],\"type\":\"scatter3d\"},{\"error_x\":{\"array\":[1.97125,1.97125]},\"error_y\":{\"array\":[1.97125,1.97125]},\"error_z\":{\"array\":[1.97125,1.97125]},\"hovertemplate\":\"0=103.0<br>1=%{x}<br>2=%{y}<br>3=%{z}<extra></extra>\",\"legendgroup\":\"\",\"line\":{\"color\":\"#636efa\",\"dash\":\"solid\"},\"marker\":{\"symbol\":\"circle\"},\"mode\":\"lines\",\"name\":\"\",\"scene\":\"scene\",\"showlegend\":false,\"x\":[117.40047,120.70839],\"y\":[143.46512,145.53702],\"z\":[22.750874,20.167479],\"type\":\"scatter3d\"},{\"error_x\":{\"array\":[2.565,2.565]},\"error_y\":{\"array\":[2.565,2.565]},\"error_z\":{\"array\":[2.565,2.565]},\"hovertemplate\":\"0=104.0<br>1=%{x}<br>2=%{y}<br>3=%{z}<extra></extra>\",\"legendgroup\":\"\",\"line\":{\"color\":\"#636efa\",\"dash\":\"solid\"},\"marker\":{\"symbol\":\"circle\"},\"mode\":\"lines\",\"name\":\"\",\"scene\":\"scene\",\"showlegend\":false,\"x\":[120.70839,124.60582],\"y\":[145.53702,147.883],\"z\":[20.167479,18.913176],\"type\":\"scatter3d\"},{\"error_x\":{\"array\":[1.8525,1.8525]},\"error_y\":{\"array\":[1.8525,1.8525]},\"error_z\":{\"array\":[1.8525,1.8525]},\"hovertemplate\":\"0=105.0<br>1=%{x}<br>2=%{y}<br>3=%{z}<extra></extra>\",\"legendgroup\":\"\",\"line\":{\"color\":\"#636efa\",\"dash\":\"solid\"},\"marker\":{\"symbol\":\"circle\"},\"mode\":\"lines\",\"name\":\"\",\"scene\":\"scene\",\"showlegend\":false,\"x\":[124.60582,129.39795],\"y\":[147.883,148.67822],\"z\":[18.913176,18.457844],\"type\":\"scatter3d\"},{\"error_x\":{\"array\":[2.11375,2.11375]},\"error_y\":{\"array\":[2.11375,2.11375]},\"error_z\":{\"array\":[2.11375,2.11375]},\"hovertemplate\":\"0=106.0<br>1=%{x}<br>2=%{y}<br>3=%{z}<extra></extra>\",\"legendgroup\":\"\",\"line\":{\"color\":\"#636efa\",\"dash\":\"solid\"},\"marker\":{\"symbol\":\"circle\"},\"mode\":\"lines\",\"name\":\"\",\"scene\":\"scene\",\"showlegend\":false,\"x\":[129.39795,134.22755],\"y\":[148.67822,148.20454],\"z\":[18.457844,17.597366],\"type\":\"scatter3d\"},{\"error_x\":{\"array\":[2.8975,2.8975]},\"error_y\":{\"array\":[2.8975,2.8975]},\"error_z\":{\"array\":[2.8975,2.8975]},\"hovertemplate\":\"0=107.0<br>1=%{x}<br>2=%{y}<br>3=%{z}<extra></extra>\",\"legendgroup\":\"\",\"line\":{\"color\":\"#636efa\",\"dash\":\"solid\"},\"marker\":{\"symbol\":\"circle\"},\"mode\":\"lines\",\"name\":\"\",\"scene\":\"scene\",\"showlegend\":false,\"x\":[134.22755,138.35289],\"y\":[148.20454,147.49309],\"z\":[17.597366,15.773309],\"type\":\"scatter3d\"},{\"error_x\":{\"array\":[1.78125,1.78125]},\"error_y\":{\"array\":[1.78125,1.78125]},\"error_z\":{\"array\":[1.78125,1.78125]},\"hovertemplate\":\"0=108.0<br>1=%{x}<br>2=%{y}<br>3=%{z}<extra></extra>\",\"legendgroup\":\"\",\"line\":{\"color\":\"#636efa\",\"dash\":\"solid\"},\"marker\":{\"symbol\":\"circle\"},\"mode\":\"lines\",\"name\":\"\",\"scene\":\"scene\",\"showlegend\":false,\"x\":[138.35289,142.52684],\"y\":[147.49309,147.21321],\"z\":[15.773309,13.242693],\"type\":\"scatter3d\"},{\"error_x\":{\"array\":[1.78125,1.78125]},\"error_y\":{\"array\":[1.78125,1.78125]},\"error_z\":{\"array\":[1.78125,1.78125]},\"hovertemplate\":\"0=109.0<br>1=%{x}<br>2=%{y}<br>3=%{z}<extra></extra>\",\"legendgroup\":\"\",\"line\":{\"color\":\"#636efa\",\"dash\":\"solid\"},\"marker\":{\"symbol\":\"circle\"},\"mode\":\"lines\",\"name\":\"\",\"scene\":\"scene\",\"showlegend\":false,\"x\":[142.52684,147.40135],\"y\":[147.21321,146.51971],\"z\":[13.242693,12.910784],\"type\":\"scatter3d\"},{\"error_x\":{\"array\":[1.82875,1.82875]},\"error_y\":{\"array\":[1.82875,1.82875]},\"error_z\":{\"array\":[1.82875,1.82875]},\"hovertemplate\":\"0=110.0<br>1=%{x}<br>2=%{y}<br>3=%{z}<extra></extra>\",\"legendgroup\":\"\",\"line\":{\"color\":\"#636efa\",\"dash\":\"solid\"},\"marker\":{\"symbol\":\"circle\"},\"mode\":\"lines\",\"name\":\"\",\"scene\":\"scene\",\"showlegend\":false,\"x\":[147.40135,151.03392],\"y\":[146.51971,145.512],\"z\":[12.910784,10.913757],\"type\":\"scatter3d\"},{\"error_x\":{\"array\":[1.87625,1.87625]},\"error_y\":{\"array\":[1.87625,1.87625]},\"error_z\":{\"array\":[1.87625,1.87625]},\"hovertemplate\":\"0=111.0<br>1=%{x}<br>2=%{y}<br>3=%{z}<extra></extra>\",\"legendgroup\":\"\",\"line\":{\"color\":\"#636efa\",\"dash\":\"solid\"},\"marker\":{\"symbol\":\"circle\"},\"mode\":\"lines\",\"name\":\"\",\"scene\":\"scene\",\"showlegend\":false,\"x\":[109.148766,111.50864],\"y\":[125.224594,125.87573],\"z\":[30.22409,26.433949],\"type\":\"scatter3d\"},{\"error_x\":{\"array\":[1.87625,1.87625]},\"error_y\":{\"array\":[1.87625,1.87625]},\"error_z\":{\"array\":[1.87625,1.87625]},\"hovertemplate\":\"0=112.0<br>1=%{x}<br>2=%{y}<br>3=%{z}<extra></extra>\",\"legendgroup\":\"\",\"line\":{\"color\":\"#636efa\",\"dash\":\"solid\"},\"marker\":{\"symbol\":\"circle\"},\"mode\":\"lines\",\"name\":\"\",\"scene\":\"scene\",\"showlegend\":false,\"x\":[111.50864,113.99992],\"y\":[125.87573,125.697495],\"z\":[26.433949,22.271345],\"type\":\"scatter3d\"},{\"error_x\":{\"array\":[1.9,1.9]},\"error_y\":{\"array\":[1.9,1.9]},\"error_z\":{\"array\":[1.9,1.9]},\"hovertemplate\":\"0=113.0<br>1=%{x}<br>2=%{y}<br>3=%{z}<extra></extra>\",\"legendgroup\":\"\",\"line\":{\"color\":\"#636efa\",\"dash\":\"solid\"},\"marker\":{\"symbol\":\"circle\"},\"mode\":\"lines\",\"name\":\"\",\"scene\":\"scene\",\"showlegend\":false,\"x\":[113.99992,114.98476],\"y\":[125.697495,126.95526],\"z\":[22.271345,17.853302],\"type\":\"scatter3d\"},{\"error_x\":{\"array\":[1.9,1.9]},\"error_y\":{\"array\":[1.9,1.9]},\"error_z\":{\"array\":[1.9,1.9]},\"hovertemplate\":\"0=114.0<br>1=%{x}<br>2=%{y}<br>3=%{z}<extra></extra>\",\"legendgroup\":\"\",\"line\":{\"color\":\"#636efa\",\"dash\":\"solid\"},\"marker\":{\"symbol\":\"circle\"},\"mode\":\"lines\",\"name\":\"\",\"scene\":\"scene\",\"showlegend\":false,\"x\":[114.98476,116.91561],\"y\":[126.95526,125.10964],\"z\":[17.853302,14.298338],\"type\":\"scatter3d\"},{\"error_x\":{\"array\":[1.5675,1.5675]},\"error_y\":{\"array\":[1.5675,1.5675]},\"error_z\":{\"array\":[1.5675,1.5675]},\"hovertemplate\":\"0=115.0<br>1=%{x}<br>2=%{y}<br>3=%{z}<extra></extra>\",\"legendgroup\":\"\",\"line\":{\"color\":\"#636efa\",\"dash\":\"solid\"},\"marker\":{\"symbol\":\"circle\"},\"mode\":\"lines\",\"name\":\"\",\"scene\":\"scene\",\"showlegend\":false,\"x\":[116.91561,119.04049],\"y\":[125.10964,122.132645],\"z\":[14.298338,11.999732],\"type\":\"scatter3d\"},{\"error_x\":{\"array\":[1.73375,1.73375]},\"error_y\":{\"array\":[1.73375,1.73375]},\"error_z\":{\"array\":[1.73375,1.73375]},\"hovertemplate\":\"0=116.0<br>1=%{x}<br>2=%{y}<br>3=%{z}<extra></extra>\",\"legendgroup\":\"\",\"line\":{\"color\":\"#636efa\",\"dash\":\"solid\"},\"marker\":{\"symbol\":\"circle\"},\"mode\":\"lines\",\"name\":\"\",\"scene\":\"scene\",\"showlegend\":false,\"x\":[119.04049,122.80351],\"y\":[122.132645,119.23237],\"z\":[11.999732,11.663377],\"type\":\"scatter3d\"},{\"error_x\":{\"array\":[2.47,2.47]},\"error_y\":{\"array\":[2.47,2.47]},\"error_z\":{\"array\":[2.47,2.47]},\"hovertemplate\":\"0=117.0<br>1=%{x}<br>2=%{y}<br>3=%{z}<extra></extra>\",\"legendgroup\":\"\",\"line\":{\"color\":\"#636efa\",\"dash\":\"solid\"},\"marker\":{\"symbol\":\"circle\"},\"mode\":\"lines\",\"name\":\"\",\"scene\":\"scene\",\"showlegend\":false,\"x\":[122.80351,125.42827],\"y\":[119.23237,115.47852],\"z\":[11.663377,10.723401],\"type\":\"scatter3d\"},{\"error_x\":{\"array\":[6.08,6.08]},\"error_y\":{\"array\":[6.08,6.08]},\"error_z\":{\"array\":[6.08,6.08]},\"hovertemplate\":\"0=118.0<br>1=%{x}<br>2=%{y}<br>3=%{z}<extra></extra>\",\"legendgroup\":\"\",\"line\":{\"color\":\"#636efa\",\"dash\":\"solid\"},\"marker\":{\"symbol\":\"circle\"},\"mode\":\"lines\",\"name\":\"\",\"scene\":\"scene\",\"showlegend\":false,\"x\":[100.0331,103.44089],\"y\":[117.0343,117.78664],\"z\":[64.0716,64.21883],\"type\":\"scatter3d\"},{\"error_x\":{\"array\":[3.01625,3.01625]},\"error_y\":{\"array\":[3.01625,3.01625]},\"error_z\":{\"array\":[3.01625,3.01625]},\"hovertemplate\":\"0=119.0<br>1=%{x}<br>2=%{y}<br>3=%{z}<extra></extra>\",\"legendgroup\":\"\",\"line\":{\"color\":\"#636efa\",\"dash\":\"solid\"},\"marker\":{\"symbol\":\"circle\"},\"mode\":\"lines\",\"name\":\"\",\"scene\":\"scene\",\"showlegend\":false,\"x\":[106.92203,106.92203],\"y\":[120.05485,120.05485],\"z\":[64.55995,64.55995],\"type\":\"scatter3d\"},{\"error_x\":{\"array\":[3.01625,3.01625]},\"error_y\":{\"array\":[3.01625,3.01625]},\"error_z\":{\"array\":[3.01625,3.01625]},\"hovertemplate\":\"0=120.0<br>1=%{x}<br>2=%{y}<br>3=%{z}<extra></extra>\",\"legendgroup\":\"\",\"line\":{\"color\":\"#636efa\",\"dash\":\"solid\"},\"marker\":{\"symbol\":\"circle\"},\"mode\":\"lines\",\"name\":\"\",\"scene\":\"scene\",\"showlegend\":false,\"x\":[106.92203,110.296196],\"y\":[120.05485,122.097946],\"z\":[64.55995,66.35443],\"type\":\"scatter3d\"},{\"error_x\":{\"array\":[1.9,1.9]},\"error_y\":{\"array\":[1.9,1.9]},\"error_z\":{\"array\":[1.9,1.9]},\"hovertemplate\":\"0=121.0<br>1=%{x}<br>2=%{y}<br>3=%{z}<extra></extra>\",\"legendgroup\":\"\",\"line\":{\"color\":\"#636efa\",\"dash\":\"solid\"},\"marker\":{\"symbol\":\"circle\"},\"mode\":\"lines\",\"name\":\"\",\"scene\":\"scene\",\"showlegend\":false,\"x\":[110.296196,113.333626],\"y\":[122.097946,125.86467],\"z\":[66.35443,66.85107],\"type\":\"scatter3d\"},{\"error_x\":{\"array\":[1.9,1.9]},\"error_y\":{\"array\":[1.9,1.9]},\"error_z\":{\"array\":[1.9,1.9]},\"hovertemplate\":\"0=122.0<br>1=%{x}<br>2=%{y}<br>3=%{z}<extra></extra>\",\"legendgroup\":\"\",\"line\":{\"color\":\"#636efa\",\"dash\":\"solid\"},\"marker\":{\"symbol\":\"circle\"},\"mode\":\"lines\",\"name\":\"\",\"scene\":\"scene\",\"showlegend\":false,\"x\":[113.333626,117.48747],\"y\":[125.86467,128.28882],\"z\":[66.85107,67.55344],\"type\":\"scatter3d\"},{\"error_x\":{\"array\":[2.06625,2.06625]},\"error_y\":{\"array\":[2.06625,2.06625]},\"error_z\":{\"array\":[2.06625,2.06625]},\"hovertemplate\":\"0=123.0<br>1=%{x}<br>2=%{y}<br>3=%{z}<extra></extra>\",\"legendgroup\":\"\",\"line\":{\"color\":\"#636efa\",\"dash\":\"solid\"},\"marker\":{\"symbol\":\"circle\"},\"mode\":\"lines\",\"name\":\"\",\"scene\":\"scene\",\"showlegend\":false,\"x\":[117.48747,120.56125],\"y\":[128.28882,130.90836],\"z\":[67.55344,69.43326],\"type\":\"scatter3d\"},{\"error_x\":{\"array\":[1.9,1.9]},\"error_y\":{\"array\":[1.9,1.9]},\"error_z\":{\"array\":[1.9,1.9]},\"hovertemplate\":\"0=124.0<br>1=%{x}<br>2=%{y}<br>3=%{z}<extra></extra>\",\"legendgroup\":\"\",\"line\":{\"color\":\"#636efa\",\"dash\":\"solid\"},\"marker\":{\"symbol\":\"circle\"},\"mode\":\"lines\",\"name\":\"\",\"scene\":\"scene\",\"showlegend\":false,\"x\":[120.56125,123.87312],\"y\":[130.90836,133.985],\"z\":[69.43326,70.630684],\"type\":\"scatter3d\"},{\"error_x\":{\"array\":[1.87625,1.87625]},\"error_y\":{\"array\":[1.87625,1.87625]},\"error_z\":{\"array\":[1.87625,1.87625]},\"hovertemplate\":\"0=125.0<br>1=%{x}<br>2=%{y}<br>3=%{z}<extra></extra>\",\"legendgroup\":\"\",\"line\":{\"color\":\"#636efa\",\"dash\":\"solid\"},\"marker\":{\"symbol\":\"circle\"},\"mode\":\"lines\",\"name\":\"\",\"scene\":\"scene\",\"showlegend\":false,\"x\":[123.87312,127.53139],\"y\":[133.985,136.5186],\"z\":[70.630684,72.341446],\"type\":\"scatter3d\"},{\"error_x\":{\"array\":[1.44875,1.44875]},\"error_y\":{\"array\":[1.44875,1.44875]},\"error_z\":{\"array\":[1.44875,1.44875]},\"hovertemplate\":\"0=126.0<br>1=%{x}<br>2=%{y}<br>3=%{z}<extra></extra>\",\"legendgroup\":\"\",\"line\":{\"color\":\"#636efa\",\"dash\":\"solid\"},\"marker\":{\"symbol\":\"circle\"},\"mode\":\"lines\",\"name\":\"\",\"scene\":\"scene\",\"showlegend\":false,\"x\":[127.53139,131.14748],\"y\":[136.5186,138.82394],\"z\":[72.341446,74.32564],\"type\":\"scatter3d\"},{\"error_x\":{\"array\":[1.6625,1.6625]},\"error_y\":{\"array\":[1.6625,1.6625]},\"error_z\":{\"array\":[1.6625,1.6625]},\"hovertemplate\":\"0=127.0<br>1=%{x}<br>2=%{y}<br>3=%{z}<extra></extra>\",\"legendgroup\":\"\",\"line\":{\"color\":\"#636efa\",\"dash\":\"solid\"},\"marker\":{\"symbol\":\"circle\"},\"mode\":\"lines\",\"name\":\"\",\"scene\":\"scene\",\"showlegend\":false,\"x\":[131.14748,135.27681],\"y\":[138.82394,141.0772],\"z\":[74.32564,75.4132],\"type\":\"scatter3d\"},{\"error_x\":{\"array\":[1.78125,1.78125]},\"error_y\":{\"array\":[1.78125,1.78125]},\"error_z\":{\"array\":[1.78125,1.78125]},\"hovertemplate\":\"0=128.0<br>1=%{x}<br>2=%{y}<br>3=%{z}<extra></extra>\",\"legendgroup\":\"\",\"line\":{\"color\":\"#636efa\",\"dash\":\"solid\"},\"marker\":{\"symbol\":\"circle\"},\"mode\":\"lines\",\"name\":\"\",\"scene\":\"scene\",\"showlegend\":false,\"x\":[135.27681,137.6434],\"y\":[141.0772,144.44707],\"z\":[75.4132,77.87138],\"type\":\"scatter3d\"},{\"error_x\":{\"array\":[1.7575,1.7575]},\"error_y\":{\"array\":[1.7575,1.7575]},\"error_z\":{\"array\":[1.7575,1.7575]},\"hovertemplate\":\"0=129.0<br>1=%{x}<br>2=%{y}<br>3=%{z}<extra></extra>\",\"legendgroup\":\"\",\"line\":{\"color\":\"#636efa\",\"dash\":\"solid\"},\"marker\":{\"symbol\":\"circle\"},\"mode\":\"lines\",\"name\":\"\",\"scene\":\"scene\",\"showlegend\":false,\"x\":[137.6434,138.81964],\"y\":[144.44707,147.59724],\"z\":[77.87138,80.927505],\"type\":\"scatter3d\"},{\"error_x\":{\"array\":[1.6625,1.6625]},\"error_y\":{\"array\":[1.6625,1.6625]},\"error_z\":{\"array\":[1.6625,1.6625]},\"hovertemplate\":\"0=130.0<br>1=%{x}<br>2=%{y}<br>3=%{z}<extra></extra>\",\"legendgroup\":\"\",\"line\":{\"color\":\"#636efa\",\"dash\":\"solid\"},\"marker\":{\"symbol\":\"circle\"},\"mode\":\"lines\",\"name\":\"\",\"scene\":\"scene\",\"showlegend\":false,\"x\":[138.81964,139.6293],\"y\":[147.59724,150.95567],\"z\":[80.927505,83.447495],\"type\":\"scatter3d\"},{\"error_x\":{\"array\":[1.6625,1.6625]},\"error_y\":{\"array\":[1.6625,1.6625]},\"error_z\":{\"array\":[1.6625,1.6625]},\"hovertemplate\":\"0=131.0<br>1=%{x}<br>2=%{y}<br>3=%{z}<extra></extra>\",\"legendgroup\":\"\",\"line\":{\"color\":\"#636efa\",\"dash\":\"solid\"},\"marker\":{\"symbol\":\"circle\"},\"mode\":\"lines\",\"name\":\"\",\"scene\":\"scene\",\"showlegend\":false,\"x\":[139.6293,140.94249],\"y\":[150.95567,153.88506],\"z\":[83.447495,86.09787],\"type\":\"scatter3d\"},{\"error_x\":{\"array\":[1.5675,1.5675]},\"error_y\":{\"array\":[1.5675,1.5675]},\"error_z\":{\"array\":[1.5675,1.5675]},\"hovertemplate\":\"0=132.0<br>1=%{x}<br>2=%{y}<br>3=%{z}<extra></extra>\",\"legendgroup\":\"\",\"line\":{\"color\":\"#636efa\",\"dash\":\"solid\"},\"marker\":{\"symbol\":\"circle\"},\"mode\":\"lines\",\"name\":\"\",\"scene\":\"scene\",\"showlegend\":false,\"x\":[140.94249,140.14668],\"y\":[153.88506,157.08604],\"z\":[86.09787,89.19749],\"type\":\"scatter3d\"},{\"error_x\":{\"array\":[1.5675,1.5675]},\"error_y\":{\"array\":[1.5675,1.5675]},\"error_z\":{\"array\":[1.5675,1.5675]},\"hovertemplate\":\"0=133.0<br>1=%{x}<br>2=%{y}<br>3=%{z}<extra></extra>\",\"legendgroup\":\"\",\"line\":{\"color\":\"#636efa\",\"dash\":\"solid\"},\"marker\":{\"symbol\":\"circle\"},\"mode\":\"lines\",\"name\":\"\",\"scene\":\"scene\",\"showlegend\":false,\"x\":[140.14668,137.33809],\"y\":[157.08604,159.2629],\"z\":[89.19749,91.79611],\"type\":\"scatter3d\"},{\"error_x\":{\"array\":[1.52,1.52]},\"error_y\":{\"array\":[1.52,1.52]},\"error_z\":{\"array\":[1.52,1.52]},\"hovertemplate\":\"0=134.0<br>1=%{x}<br>2=%{y}<br>3=%{z}<extra></extra>\",\"legendgroup\":\"\",\"line\":{\"color\":\"#636efa\",\"dash\":\"solid\"},\"marker\":{\"symbol\":\"circle\"},\"mode\":\"lines\",\"name\":\"\",\"scene\":\"scene\",\"showlegend\":false,\"x\":[137.33809,133.7941],\"y\":[159.2629,161.25099],\"z\":[91.79611,94.2269],\"type\":\"scatter3d\"},{\"error_x\":{\"array\":[1.615,1.615]},\"error_y\":{\"array\":[1.615,1.615]},\"error_z\":{\"array\":[1.615,1.615]},\"hovertemplate\":\"0=135.0<br>1=%{x}<br>2=%{y}<br>3=%{z}<extra></extra>\",\"legendgroup\":\"\",\"line\":{\"color\":\"#636efa\",\"dash\":\"solid\"},\"marker\":{\"symbol\":\"circle\"},\"mode\":\"lines\",\"name\":\"\",\"scene\":\"scene\",\"showlegend\":false,\"x\":[133.7941,129.88939],\"y\":[161.25099,163.06448],\"z\":[94.2269,95.75489],\"type\":\"scatter3d\"},{\"error_x\":{\"array\":[1.40125,1.40125]},\"error_y\":{\"array\":[1.40125,1.40125]},\"error_z\":{\"array\":[1.40125,1.40125]},\"hovertemplate\":\"0=136.0<br>1=%{x}<br>2=%{y}<br>3=%{z}<extra></extra>\",\"legendgroup\":\"\",\"line\":{\"color\":\"#636efa\",\"dash\":\"solid\"},\"marker\":{\"symbol\":\"circle\"},\"mode\":\"lines\",\"name\":\"\",\"scene\":\"scene\",\"showlegend\":false,\"x\":[129.88939,125.414314],\"y\":[163.06448,163.79887],\"z\":[95.75489,97.34071],\"type\":\"scatter3d\"},{\"error_x\":{\"array\":[1.4725,1.4725]},\"error_y\":{\"array\":[1.4725,1.4725]},\"error_z\":{\"array\":[1.4725,1.4725]},\"hovertemplate\":\"0=137.0<br>1=%{x}<br>2=%{y}<br>3=%{z}<extra></extra>\",\"legendgroup\":\"\",\"line\":{\"color\":\"#636efa\",\"dash\":\"solid\"},\"marker\":{\"symbol\":\"circle\"},\"mode\":\"lines\",\"name\":\"\",\"scene\":\"scene\",\"showlegend\":false,\"x\":[125.414314,120.44719],\"y\":[163.79887,163.89763],\"z\":[97.34071,97.55],\"type\":\"scatter3d\"},{\"error_x\":{\"array\":[1.44875,1.44875]},\"error_y\":{\"array\":[1.44875,1.44875]},\"error_z\":{\"array\":[1.44875,1.44875]},\"hovertemplate\":\"0=138.0<br>1=%{x}<br>2=%{y}<br>3=%{z}<extra></extra>\",\"legendgroup\":\"\",\"line\":{\"color\":\"#636efa\",\"dash\":\"solid\"},\"marker\":{\"symbol\":\"circle\"},\"mode\":\"lines\",\"name\":\"\",\"scene\":\"scene\",\"showlegend\":false,\"x\":[120.44719,116.50558],\"y\":[163.89763,164.6722],\"z\":[97.55,99.48465],\"type\":\"scatter3d\"},{\"error_x\":{\"array\":[1.35375,1.35375]},\"error_y\":{\"array\":[1.35375,1.35375]},\"error_z\":{\"array\":[1.35375,1.35375]},\"hovertemplate\":\"0=139.0<br>1=%{x}<br>2=%{y}<br>3=%{z}<extra></extra>\",\"legendgroup\":\"\",\"line\":{\"color\":\"#636efa\",\"dash\":\"solid\"},\"marker\":{\"symbol\":\"circle\"},\"mode\":\"lines\",\"name\":\"\",\"scene\":\"scene\",\"showlegend\":false,\"x\":[116.50558,111.90053],\"y\":[164.6722,166.53687],\"z\":[99.48465,99.6115],\"type\":\"scatter3d\"},{\"error_x\":{\"array\":[1.02125,1.02125]},\"error_y\":{\"array\":[1.02125,1.02125]},\"error_z\":{\"array\":[1.02125,1.02125]},\"hovertemplate\":\"0=140.0<br>1=%{x}<br>2=%{y}<br>3=%{z}<extra></extra>\",\"legendgroup\":\"\",\"line\":{\"color\":\"#636efa\",\"dash\":\"solid\"},\"marker\":{\"symbol\":\"circle\"},\"mode\":\"lines\",\"name\":\"\",\"scene\":\"scene\",\"showlegend\":false,\"x\":[111.90053,107.673645],\"y\":[166.53687,168.92276],\"z\":[99.6115,98.9275],\"type\":\"scatter3d\"},{\"error_x\":{\"array\":[0.855,0.855]},\"error_y\":{\"array\":[0.855,0.855]},\"error_z\":{\"array\":[0.855,0.855]},\"hovertemplate\":\"0=141.0<br>1=%{x}<br>2=%{y}<br>3=%{z}<extra></extra>\",\"legendgroup\":\"\",\"line\":{\"color\":\"#636efa\",\"dash\":\"solid\"},\"marker\":{\"symbol\":\"circle\"},\"mode\":\"lines\",\"name\":\"\",\"scene\":\"scene\",\"showlegend\":false,\"x\":[107.673645,103.81734],\"y\":[168.92276,170.61336],\"z\":[98.9275,96.657875],\"type\":\"scatter3d\"},{\"error_x\":{\"array\":[1.25875,1.25875]},\"error_y\":{\"array\":[1.25875,1.25875]},\"error_z\":{\"array\":[1.25875,1.25875]},\"hovertemplate\":\"0=142.0<br>1=%{x}<br>2=%{y}<br>3=%{z}<extra></extra>\",\"legendgroup\":\"\",\"line\":{\"color\":\"#636efa\",\"dash\":\"solid\"},\"marker\":{\"symbol\":\"circle\"},\"mode\":\"lines\",\"name\":\"\",\"scene\":\"scene\",\"showlegend\":false,\"x\":[103.81734,99.251144],\"y\":[170.61336,172.51361],\"z\":[96.657875,96.542786],\"type\":\"scatter3d\"},{\"error_x\":{\"array\":[0.97375,0.97375]},\"error_y\":{\"array\":[0.97375,0.97375]},\"error_z\":{\"array\":[0.97375,0.97375]},\"hovertemplate\":\"0=143.0<br>1=%{x}<br>2=%{y}<br>3=%{z}<extra></extra>\",\"legendgroup\":\"\",\"line\":{\"color\":\"#636efa\",\"dash\":\"solid\"},\"marker\":{\"symbol\":\"circle\"},\"mode\":\"lines\",\"name\":\"\",\"scene\":\"scene\",\"showlegend\":false,\"x\":[99.251144,95.42013],\"y\":[172.51361,174.66144],\"z\":[96.542786,94.67623],\"type\":\"scatter3d\"},{\"error_x\":{\"array\":[1.3775,1.3775]},\"error_y\":{\"array\":[1.3775,1.3775]},\"error_z\":{\"array\":[1.3775,1.3775]},\"hovertemplate\":\"0=144.0<br>1=%{x}<br>2=%{y}<br>3=%{z}<extra></extra>\",\"legendgroup\":\"\",\"line\":{\"color\":\"#636efa\",\"dash\":\"solid\"},\"marker\":{\"symbol\":\"circle\"},\"mode\":\"lines\",\"name\":\"\",\"scene\":\"scene\",\"showlegend\":false,\"x\":[95.42013,91.30497],\"y\":[174.66144,176.54524],\"z\":[94.67623,93.463646],\"type\":\"scatter3d\"},{\"error_x\":{\"array\":[1.06875,1.06875]},\"error_y\":{\"array\":[1.06875,1.06875]},\"error_z\":{\"array\":[1.06875,1.06875]},\"hovertemplate\":\"0=145.0<br>1=%{x}<br>2=%{y}<br>3=%{z}<extra></extra>\",\"legendgroup\":\"\",\"line\":{\"color\":\"#636efa\",\"dash\":\"solid\"},\"marker\":{\"symbol\":\"circle\"},\"mode\":\"lines\",\"name\":\"\",\"scene\":\"scene\",\"showlegend\":false,\"x\":[91.30497,87.66208],\"y\":[176.54524,179.7921],\"z\":[93.463646,93.04229],\"type\":\"scatter3d\"},{\"error_x\":{\"array\":[1.30625,1.30625]},\"error_y\":{\"array\":[1.30625,1.30625]},\"error_z\":{\"array\":[1.30625,1.30625]},\"hovertemplate\":\"0=146.0<br>1=%{x}<br>2=%{y}<br>3=%{z}<extra></extra>\",\"legendgroup\":\"\",\"line\":{\"color\":\"#636efa\",\"dash\":\"solid\"},\"marker\":{\"symbol\":\"circle\"},\"mode\":\"lines\",\"name\":\"\",\"scene\":\"scene\",\"showlegend\":false,\"x\":[87.66208,83.94105],\"y\":[179.7921,182.33165],\"z\":[93.04229,91.86053],\"type\":\"scatter3d\"},{\"error_x\":{\"array\":[1.11625,1.11625]},\"error_y\":{\"array\":[1.11625,1.11625]},\"error_z\":{\"array\":[1.11625,1.11625]},\"hovertemplate\":\"0=147.0<br>1=%{x}<br>2=%{y}<br>3=%{z}<extra></extra>\",\"legendgroup\":\"\",\"line\":{\"color\":\"#636efa\",\"dash\":\"solid\"},\"marker\":{\"symbol\":\"circle\"},\"mode\":\"lines\",\"name\":\"\",\"scene\":\"scene\",\"showlegend\":false,\"x\":[83.94105,80.52869],\"y\":[182.33165,183.68608],\"z\":[91.86053,89.50274],\"type\":\"scatter3d\"},{\"error_x\":{\"array\":[0.92625,0.92625]},\"error_y\":{\"array\":[0.92625,0.92625]},\"error_z\":{\"array\":[0.92625,0.92625]},\"hovertemplate\":\"0=148.0<br>1=%{x}<br>2=%{y}<br>3=%{z}<extra></extra>\",\"legendgroup\":\"\",\"line\":{\"color\":\"#636efa\",\"dash\":\"solid\"},\"marker\":{\"symbol\":\"circle\"},\"mode\":\"lines\",\"name\":\"\",\"scene\":\"scene\",\"showlegend\":false,\"x\":[80.52869,76.45383],\"y\":[183.68608,184.31956],\"z\":[89.50274,87.75368],\"type\":\"scatter3d\"},{\"error_x\":{\"array\":[1.16375,1.16375]},\"error_y\":{\"array\":[1.16375,1.16375]},\"error_z\":{\"array\":[1.16375,1.16375]},\"hovertemplate\":\"0=149.0<br>1=%{x}<br>2=%{y}<br>3=%{z}<extra></extra>\",\"legendgroup\":\"\",\"line\":{\"color\":\"#636efa\",\"dash\":\"solid\"},\"marker\":{\"symbol\":\"circle\"},\"mode\":\"lines\",\"name\":\"\",\"scene\":\"scene\",\"showlegend\":false,\"x\":[76.45383,74.134926],\"y\":[184.31956,183.12778],\"z\":[87.75368,85.17032],\"type\":\"scatter3d\"},{\"error_x\":{\"array\":[1.40125,1.40125]},\"error_y\":{\"array\":[1.40125,1.40125]},\"error_z\":{\"array\":[1.40125,1.40125]},\"hovertemplate\":\"0=150.0<br>1=%{x}<br>2=%{y}<br>3=%{z}<extra></extra>\",\"legendgroup\":\"\",\"line\":{\"color\":\"#636efa\",\"dash\":\"solid\"},\"marker\":{\"symbol\":\"circle\"},\"mode\":\"lines\",\"name\":\"\",\"scene\":\"scene\",\"showlegend\":false,\"x\":[74.134926,71.91589],\"y\":[183.12778,178.96802],\"z\":[85.17032,84.019196],\"type\":\"scatter3d\"},{\"error_x\":{\"array\":[1.35375,1.35375]},\"error_y\":{\"array\":[1.35375,1.35375]},\"error_z\":{\"array\":[1.35375,1.35375]},\"hovertemplate\":\"0=151.0<br>1=%{x}<br>2=%{y}<br>3=%{z}<extra></extra>\",\"legendgroup\":\"\",\"line\":{\"color\":\"#636efa\",\"dash\":\"solid\"},\"marker\":{\"symbol\":\"circle\"},\"mode\":\"lines\",\"name\":\"\",\"scene\":\"scene\",\"showlegend\":false,\"x\":[71.91589,67.2312],\"y\":[178.96802,178.06055],\"z\":[84.019196,83.30253],\"type\":\"scatter3d\"},{\"error_x\":{\"array\":[0.95,0.95]},\"error_y\":{\"array\":[0.95,0.95]},\"error_z\":{\"array\":[0.95,0.95]},\"hovertemplate\":\"0=152.0<br>1=%{x}<br>2=%{y}<br>3=%{z}<extra></extra>\",\"legendgroup\":\"\",\"line\":{\"color\":\"#636efa\",\"dash\":\"solid\"},\"marker\":{\"symbol\":\"circle\"},\"mode\":\"lines\",\"name\":\"\",\"scene\":\"scene\",\"showlegend\":false,\"x\":[67.2312,64.22996],\"y\":[178.06055,175.10406],\"z\":[83.30253,81.56749],\"type\":\"scatter3d\"},{\"error_x\":{\"array\":[1.045,1.045]},\"error_y\":{\"array\":[1.045,1.045]},\"error_z\":{\"array\":[1.045,1.045]},\"hovertemplate\":\"0=153.0<br>1=%{x}<br>2=%{y}<br>3=%{z}<extra></extra>\",\"legendgroup\":\"\",\"line\":{\"color\":\"#636efa\",\"dash\":\"solid\"},\"marker\":{\"symbol\":\"circle\"},\"mode\":\"lines\",\"name\":\"\",\"scene\":\"scene\",\"showlegend\":false,\"x\":[64.22996,60.8788],\"y\":[175.10406,171.96658],\"z\":[81.56749,82.216965],\"type\":\"scatter3d\"},{\"error_x\":{\"array\":[0.68875,0.68875]},\"error_y\":{\"array\":[0.68875,0.68875]},\"error_z\":{\"array\":[0.68875,0.68875]},\"hovertemplate\":\"0=154.0<br>1=%{x}<br>2=%{y}<br>3=%{z}<extra></extra>\",\"legendgroup\":\"\",\"line\":{\"color\":\"#636efa\",\"dash\":\"solid\"},\"marker\":{\"symbol\":\"circle\"},\"mode\":\"lines\",\"name\":\"\",\"scene\":\"scene\",\"showlegend\":false,\"x\":[60.8788,56.014244],\"y\":[171.96658,171.96149],\"z\":[82.216965,81.68894],\"type\":\"scatter3d\"},{\"error_x\":{\"array\":[0.855,0.855]},\"error_y\":{\"array\":[0.855,0.855]},\"error_z\":{\"array\":[0.855,0.855]},\"hovertemplate\":\"0=155.0<br>1=%{x}<br>2=%{y}<br>3=%{z}<extra></extra>\",\"legendgroup\":\"\",\"line\":{\"color\":\"#636efa\",\"dash\":\"solid\"},\"marker\":{\"symbol\":\"circle\"},\"mode\":\"lines\",\"name\":\"\",\"scene\":\"scene\",\"showlegend\":false,\"x\":[56.014244,52.005398],\"y\":[171.96149,170.22005],\"z\":[81.68894,81.58177],\"type\":\"scatter3d\"},{\"error_x\":{\"array\":[1.30625,1.30625]},\"error_y\":{\"array\":[1.30625,1.30625]},\"error_z\":{\"array\":[1.30625,1.30625]},\"hovertemplate\":\"0=156.0<br>1=%{x}<br>2=%{y}<br>3=%{z}<extra></extra>\",\"legendgroup\":\"\",\"line\":{\"color\":\"#636efa\",\"dash\":\"solid\"},\"marker\":{\"symbol\":\"circle\"},\"mode\":\"lines\",\"name\":\"\",\"scene\":\"scene\",\"showlegend\":false,\"x\":[52.005398,51.130775],\"y\":[170.22005,167.4147],\"z\":[81.58177,84.93671],\"type\":\"scatter3d\"},{\"error_x\":{\"array\":[1.14,1.14]},\"error_y\":{\"array\":[1.14,1.14]},\"error_z\":{\"array\":[1.14,1.14]},\"hovertemplate\":\"0=157.0<br>1=%{x}<br>2=%{y}<br>3=%{z}<extra></extra>\",\"legendgroup\":\"\",\"line\":{\"color\":\"#636efa\",\"dash\":\"solid\"},\"marker\":{\"symbol\":\"circle\"},\"mode\":\"lines\",\"name\":\"\",\"scene\":\"scene\",\"showlegend\":false,\"x\":[51.130775,48.160862],\"y\":[167.4147,164.70822],\"z\":[84.93671,87.10783],\"type\":\"scatter3d\"},{\"error_x\":{\"array\":[1.16375,1.16375]},\"error_y\":{\"array\":[1.16375,1.16375]},\"error_z\":{\"array\":[1.16375,1.16375]},\"hovertemplate\":\"0=158.0<br>1=%{x}<br>2=%{y}<br>3=%{z}<extra></extra>\",\"legendgroup\":\"\",\"line\":{\"color\":\"#636efa\",\"dash\":\"solid\"},\"marker\":{\"symbol\":\"circle\"},\"mode\":\"lines\",\"name\":\"\",\"scene\":\"scene\",\"showlegend\":false,\"x\":[48.160862,45.026226],\"y\":[164.70822,161.79991],\"z\":[87.10783,88.87718],\"type\":\"scatter3d\"},{\"error_x\":{\"array\":[1.0925,1.0925]},\"error_y\":{\"array\":[1.0925,1.0925]},\"error_z\":{\"array\":[1.0925,1.0925]},\"hovertemplate\":\"0=159.0<br>1=%{x}<br>2=%{y}<br>3=%{z}<extra></extra>\",\"legendgroup\":\"\",\"line\":{\"color\":\"#636efa\",\"dash\":\"solid\"},\"marker\":{\"symbol\":\"circle\"},\"mode\":\"lines\",\"name\":\"\",\"scene\":\"scene\",\"showlegend\":false,\"x\":[45.026226,43.220413],\"y\":[161.79991,160.10997],\"z\":[88.87718,93.05578],\"type\":\"scatter3d\"},{\"error_x\":{\"array\":[0.95,0.95]},\"error_y\":{\"array\":[0.95,0.95]},\"error_z\":{\"array\":[0.95,0.95]},\"hovertemplate\":\"0=160.0<br>1=%{x}<br>2=%{y}<br>3=%{z}<extra></extra>\",\"legendgroup\":\"\",\"line\":{\"color\":\"#636efa\",\"dash\":\"solid\"},\"marker\":{\"symbol\":\"circle\"},\"mode\":\"lines\",\"name\":\"\",\"scene\":\"scene\",\"showlegend\":false,\"x\":[43.220413,40.265438],\"y\":[160.10997,157.29381],\"z\":[93.05578,95.11373],\"type\":\"scatter3d\"},{\"error_x\":{\"array\":[0.87875,0.87875]},\"error_y\":{\"array\":[0.87875,0.87875]},\"error_z\":{\"array\":[0.87875,0.87875]},\"hovertemplate\":\"0=161.0<br>1=%{x}<br>2=%{y}<br>3=%{z}<extra></extra>\",\"legendgroup\":\"\",\"line\":{\"color\":\"#636efa\",\"dash\":\"solid\"},\"marker\":{\"symbol\":\"circle\"},\"mode\":\"lines\",\"name\":\"\",\"scene\":\"scene\",\"showlegend\":false,\"x\":[40.265438,35.615456],\"y\":[157.29381,157.1249],\"z\":[95.11373,94.5085],\"type\":\"scatter3d\"},{\"error_x\":{\"array\":[0.54625,0.54625]},\"error_y\":{\"array\":[0.54625,0.54625]},\"error_z\":{\"array\":[0.54625,0.54625]},\"hovertemplate\":\"0=162.0<br>1=%{x}<br>2=%{y}<br>3=%{z}<extra></extra>\",\"legendgroup\":\"\",\"line\":{\"color\":\"#636efa\",\"dash\":\"solid\"},\"marker\":{\"symbol\":\"circle\"},\"mode\":\"lines\",\"name\":\"\",\"scene\":\"scene\",\"showlegend\":false,\"x\":[35.615456,31.390364],\"y\":[157.1249,158.45975],\"z\":[94.5085,94.3287],\"type\":\"scatter3d\"},{\"error_x\":{\"array\":[1.14,1.14]},\"error_y\":{\"array\":[1.14,1.14]},\"error_z\":{\"array\":[1.14,1.14]},\"hovertemplate\":\"0=163.0<br>1=%{x}<br>2=%{y}<br>3=%{z}<extra></extra>\",\"legendgroup\":\"\",\"line\":{\"color\":\"#636efa\",\"dash\":\"solid\"},\"marker\":{\"symbol\":\"circle\"},\"mode\":\"lines\",\"name\":\"\",\"scene\":\"scene\",\"showlegend\":false,\"x\":[31.390364,26.997551],\"y\":[158.45975,157.20334],\"z\":[94.3287,93.92524],\"type\":\"scatter3d\"},{\"error_x\":{\"array\":[0.64125,0.64125]},\"error_y\":{\"array\":[0.64125,0.64125]},\"error_z\":{\"array\":[0.64125,0.64125]},\"hovertemplate\":\"0=164.0<br>1=%{x}<br>2=%{y}<br>3=%{z}<extra></extra>\",\"legendgroup\":\"\",\"line\":{\"color\":\"#636efa\",\"dash\":\"solid\"},\"marker\":{\"symbol\":\"circle\"},\"mode\":\"lines\",\"name\":\"\",\"scene\":\"scene\",\"showlegend\":false,\"x\":[26.997551,22.522455],\"y\":[157.20334,157.19408],\"z\":[93.92524,92.66251],\"type\":\"scatter3d\"},{\"error_x\":{\"array\":[0.855,0.855]},\"error_y\":{\"array\":[0.855,0.855]},\"error_z\":{\"array\":[0.855,0.855]},\"hovertemplate\":\"0=165.0<br>1=%{x}<br>2=%{y}<br>3=%{z}<extra></extra>\",\"legendgroup\":\"\",\"line\":{\"color\":\"#636efa\",\"dash\":\"solid\"},\"marker\":{\"symbol\":\"circle\"},\"mode\":\"lines\",\"name\":\"\",\"scene\":\"scene\",\"showlegend\":false,\"x\":[22.522455,19.241987],\"y\":[157.19408,154.34749],\"z\":[92.66251,92.457695],\"type\":\"scatter3d\"},{\"error_x\":{\"array\":[1.78125,1.78125]},\"error_y\":{\"array\":[1.78125,1.78125]},\"error_z\":{\"array\":[1.78125,1.78125]},\"hovertemplate\":\"0=166.0<br>1=%{x}<br>2=%{y}<br>3=%{z}<extra></extra>\",\"legendgroup\":\"\",\"line\":{\"color\":\"#636efa\",\"dash\":\"solid\"},\"marker\":{\"symbol\":\"circle\"},\"mode\":\"lines\",\"name\":\"\",\"scene\":\"scene\",\"showlegend\":false,\"x\":[140.94249,143.18703],\"y\":[153.88506,155.64981],\"z\":[86.09787,89.28595],\"type\":\"scatter3d\"},{\"error_x\":{\"array\":[1.78125,1.78125]},\"error_y\":{\"array\":[1.78125,1.78125]},\"error_z\":{\"array\":[1.78125,1.78125]},\"hovertemplate\":\"0=167.0<br>1=%{x}<br>2=%{y}<br>3=%{z}<extra></extra>\",\"legendgroup\":\"\",\"line\":{\"color\":\"#636efa\",\"dash\":\"solid\"},\"marker\":{\"symbol\":\"circle\"},\"mode\":\"lines\",\"name\":\"\",\"scene\":\"scene\",\"showlegend\":false,\"x\":[143.18703,145.74252],\"y\":[155.64981,156.14674],\"z\":[89.28595,93.08589],\"type\":\"scatter3d\"},{\"error_x\":{\"array\":[1.6625,1.6625]},\"error_y\":{\"array\":[1.6625,1.6625]},\"error_z\":{\"array\":[1.6625,1.6625]},\"hovertemplate\":\"0=168.0<br>1=%{x}<br>2=%{y}<br>3=%{z}<extra></extra>\",\"legendgroup\":\"\",\"line\":{\"color\":\"#636efa\",\"dash\":\"solid\"},\"marker\":{\"symbol\":\"circle\"},\"mode\":\"lines\",\"name\":\"\",\"scene\":\"scene\",\"showlegend\":false,\"x\":[145.74252,149.98378],\"y\":[156.14674,156.97856],\"z\":[93.08589,95.07613],\"type\":\"scatter3d\"},{\"error_x\":{\"array\":[1.21125,1.21125]},\"error_y\":{\"array\":[1.21125,1.21125]},\"error_z\":{\"array\":[1.21125,1.21125]},\"hovertemplate\":\"0=169.0<br>1=%{x}<br>2=%{y}<br>3=%{z}<extra></extra>\",\"legendgroup\":\"\",\"line\":{\"color\":\"#636efa\",\"dash\":\"solid\"},\"marker\":{\"symbol\":\"circle\"},\"mode\":\"lines\",\"name\":\"\",\"scene\":\"scene\",\"showlegend\":false,\"x\":[149.98378,154.75667],\"y\":[156.97856,157.81892],\"z\":[95.07613,95.75186],\"type\":\"scatter3d\"},{\"error_x\":{\"array\":[1.11625,1.11625]},\"error_y\":{\"array\":[1.11625,1.11625]},\"error_z\":{\"array\":[1.11625,1.11625]},\"hovertemplate\":\"0=170.0<br>1=%{x}<br>2=%{y}<br>3=%{z}<extra></extra>\",\"legendgroup\":\"\",\"line\":{\"color\":\"#636efa\",\"dash\":\"solid\"},\"marker\":{\"symbol\":\"circle\"},\"mode\":\"lines\",\"name\":\"\",\"scene\":\"scene\",\"showlegend\":false,\"x\":[154.75667,159.58467],\"y\":[157.81892,158.54956],\"z\":[95.75186,96.346275],\"type\":\"scatter3d\"},{\"error_x\":{\"array\":[1.33,1.33]},\"error_y\":{\"array\":[1.33,1.33]},\"error_z\":{\"array\":[1.33,1.33]},\"hovertemplate\":\"0=171.0<br>1=%{x}<br>2=%{y}<br>3=%{z}<extra></extra>\",\"legendgroup\":\"\",\"line\":{\"color\":\"#636efa\",\"dash\":\"solid\"},\"marker\":{\"symbol\":\"circle\"},\"mode\":\"lines\",\"name\":\"\",\"scene\":\"scene\",\"showlegend\":false,\"x\":[159.58467,164.0698],\"y\":[158.54956,160.07007],\"z\":[96.346275,96.29852],\"type\":\"scatter3d\"},{\"error_x\":{\"array\":[1.6625,1.6625]},\"error_y\":{\"array\":[1.6625,1.6625]},\"error_z\":{\"array\":[1.6625,1.6625]},\"hovertemplate\":\"0=172.0<br>1=%{x}<br>2=%{y}<br>3=%{z}<extra></extra>\",\"legendgroup\":\"\",\"line\":{\"color\":\"#636efa\",\"dash\":\"solid\"},\"marker\":{\"symbol\":\"circle\"},\"mode\":\"lines\",\"name\":\"\",\"scene\":\"scene\",\"showlegend\":false,\"x\":[164.0698,167.93677],\"y\":[160.07007,163.02231],\"z\":[96.29852,95.6576],\"type\":\"scatter3d\"},{\"error_x\":{\"array\":[1.44875,1.44875]},\"error_y\":{\"array\":[1.44875,1.44875]},\"error_z\":{\"array\":[1.44875,1.44875]},\"hovertemplate\":\"0=173.0<br>1=%{x}<br>2=%{y}<br>3=%{z}<extra></extra>\",\"legendgroup\":\"\",\"line\":{\"color\":\"#636efa\",\"dash\":\"solid\"},\"marker\":{\"symbol\":\"circle\"},\"mode\":\"lines\",\"name\":\"\",\"scene\":\"scene\",\"showlegend\":false,\"x\":[167.93677,171.9517],\"y\":[163.02231,165.87012],\"z\":[95.6576,95.6662],\"type\":\"scatter3d\"},{\"error_x\":{\"array\":[1.40125,1.40125]},\"error_y\":{\"array\":[1.40125,1.40125]},\"error_z\":{\"array\":[1.40125,1.40125]},\"hovertemplate\":\"0=174.0<br>1=%{x}<br>2=%{y}<br>3=%{z}<extra></extra>\",\"legendgroup\":\"\",\"line\":{\"color\":\"#636efa\",\"dash\":\"solid\"},\"marker\":{\"symbol\":\"circle\"},\"mode\":\"lines\",\"name\":\"\",\"scene\":\"scene\",\"showlegend\":false,\"x\":[171.9517,173.07188],\"y\":[165.87012,170.7063],\"z\":[95.6662,95.65886],\"type\":\"scatter3d\"},{\"error_x\":{\"array\":[1.52,1.52]},\"error_y\":{\"array\":[1.52,1.52]},\"error_z\":{\"array\":[1.52,1.52]},\"hovertemplate\":\"0=175.0<br>1=%{x}<br>2=%{y}<br>3=%{z}<extra></extra>\",\"legendgroup\":\"\",\"line\":{\"color\":\"#636efa\",\"dash\":\"solid\"},\"marker\":{\"symbol\":\"circle\"},\"mode\":\"lines\",\"name\":\"\",\"scene\":\"scene\",\"showlegend\":false,\"x\":[173.07188,173.305],\"y\":[170.7063,175.66805],\"z\":[95.65886,95.56955],\"type\":\"scatter3d\"},{\"error_x\":{\"array\":[1.82875,1.82875]},\"error_y\":{\"array\":[1.82875,1.82875]},\"error_z\":{\"array\":[1.82875,1.82875]},\"hovertemplate\":\"0=176.0<br>1=%{x}<br>2=%{y}<br>3=%{z}<extra></extra>\",\"legendgroup\":\"\",\"line\":{\"color\":\"#636efa\",\"dash\":\"solid\"},\"marker\":{\"symbol\":\"circle\"},\"mode\":\"lines\",\"name\":\"\",\"scene\":\"scene\",\"showlegend\":false,\"x\":[173.305,174.83214],\"y\":[175.66805,180.41061],\"z\":[95.56955,95.71209],\"type\":\"scatter3d\"},{\"error_x\":{\"array\":[1.68625,1.68625]},\"error_y\":{\"array\":[1.68625,1.68625]},\"error_z\":{\"array\":[1.68625,1.68625]},\"hovertemplate\":\"0=177.0<br>1=%{x}<br>2=%{y}<br>3=%{z}<extra></extra>\",\"legendgroup\":\"\",\"line\":{\"color\":\"#636efa\",\"dash\":\"solid\"},\"marker\":{\"symbol\":\"circle\"},\"mode\":\"lines\",\"name\":\"\",\"scene\":\"scene\",\"showlegend\":false,\"x\":[174.83214,175.07915],\"y\":[180.41061,185.2884],\"z\":[95.71209,96.336464],\"type\":\"scatter3d\"},{\"error_x\":{\"array\":[1.16375,1.16375]},\"error_y\":{\"array\":[1.16375,1.16375]},\"error_z\":{\"array\":[1.16375,1.16375]},\"hovertemplate\":\"0=178.0<br>1=%{x}<br>2=%{y}<br>3=%{z}<extra></extra>\",\"legendgroup\":\"\",\"line\":{\"color\":\"#636efa\",\"dash\":\"solid\"},\"marker\":{\"symbol\":\"circle\"},\"mode\":\"lines\",\"name\":\"\",\"scene\":\"scene\",\"showlegend\":false,\"x\":[175.07915,174.60724],\"y\":[185.2884,190.09602],\"z\":[96.336464,96.297104],\"type\":\"scatter3d\"},{\"error_x\":{\"array\":[0.87875,0.87875]},\"error_y\":{\"array\":[0.87875,0.87875]},\"error_z\":{\"array\":[0.87875,0.87875]},\"hovertemplate\":\"0=179.0<br>1=%{x}<br>2=%{y}<br>3=%{z}<extra></extra>\",\"legendgroup\":\"\",\"line\":{\"color\":\"#636efa\",\"dash\":\"solid\"},\"marker\":{\"symbol\":\"circle\"},\"mode\":\"lines\",\"name\":\"\",\"scene\":\"scene\",\"showlegend\":false,\"x\":[174.60724,173.13069],\"y\":[190.09602,193.9125],\"z\":[96.297104,97.941925],\"type\":\"scatter3d\"},{\"error_x\":{\"array\":[0.76,0.76]},\"error_y\":{\"array\":[0.76,0.76]},\"error_z\":{\"array\":[0.76,0.76]},\"hovertemplate\":\"0=180.0<br>1=%{x}<br>2=%{y}<br>3=%{z}<extra></extra>\",\"legendgroup\":\"\",\"line\":{\"color\":\"#636efa\",\"dash\":\"solid\"},\"marker\":{\"symbol\":\"circle\"},\"mode\":\"lines\",\"name\":\"\",\"scene\":\"scene\",\"showlegend\":false,\"x\":[173.13069,171.57484],\"y\":[193.9125,197.18045],\"z\":[97.941925,99.531204],\"type\":\"scatter3d\"},{\"error_x\":{\"array\":[0.855,0.855]},\"error_y\":{\"array\":[0.855,0.855]},\"error_z\":{\"array\":[0.855,0.855]},\"hovertemplate\":\"0=181.0<br>1=%{x}<br>2=%{y}<br>3=%{z}<extra></extra>\",\"legendgroup\":\"\",\"line\":{\"color\":\"#636efa\",\"dash\":\"solid\"},\"marker\":{\"symbol\":\"circle\"},\"mode\":\"lines\",\"name\":\"\",\"scene\":\"scene\",\"showlegend\":false,\"x\":[171.57484,169.4209],\"y\":[197.18045,200.97218],\"z\":[99.531204,99.436066],\"type\":\"scatter3d\"},{\"error_x\":{\"array\":[0.76,0.76]},\"error_y\":{\"array\":[0.76,0.76]},\"error_z\":{\"array\":[0.76,0.76]},\"hovertemplate\":\"0=182.0<br>1=%{x}<br>2=%{y}<br>3=%{z}<extra></extra>\",\"legendgroup\":\"\",\"line\":{\"color\":\"#636efa\",\"dash\":\"solid\"},\"marker\":{\"symbol\":\"circle\"},\"mode\":\"lines\",\"name\":\"\",\"scene\":\"scene\",\"showlegend\":false,\"x\":[169.4209,168.68658],\"y\":[200.97218,204.77837],\"z\":[99.436066,101.65192],\"type\":\"scatter3d\"},{\"error_x\":{\"array\":[0.7125,0.7125]},\"error_y\":{\"array\":[0.7125,0.7125]},\"error_z\":{\"array\":[0.7125,0.7125]},\"hovertemplate\":\"0=183.0<br>1=%{x}<br>2=%{y}<br>3=%{z}<extra></extra>\",\"legendgroup\":\"\",\"line\":{\"color\":\"#636efa\",\"dash\":\"solid\"},\"marker\":{\"symbol\":\"circle\"},\"mode\":\"lines\",\"name\":\"\",\"scene\":\"scene\",\"showlegend\":false,\"x\":[168.68658,167.99948],\"y\":[204.77837,208.93382],\"z\":[101.65192,103.1182],\"type\":\"scatter3d\"},{\"error_x\":{\"array\":[1.02125,1.02125]},\"error_y\":{\"array\":[1.02125,1.02125]},\"error_z\":{\"array\":[1.02125,1.02125]},\"hovertemplate\":\"0=184.0<br>1=%{x}<br>2=%{y}<br>3=%{z}<extra></extra>\",\"legendgroup\":\"\",\"line\":{\"color\":\"#636efa\",\"dash\":\"solid\"},\"marker\":{\"symbol\":\"circle\"},\"mode\":\"lines\",\"name\":\"\",\"scene\":\"scene\",\"showlegend\":false,\"x\":[167.99948,169.02818],\"y\":[208.93382,211.7983],\"z\":[103.1182,106.29162],\"type\":\"scatter3d\"},{\"error_x\":{\"array\":[0.78375,0.78375]},\"error_y\":{\"array\":[0.78375,0.78375]},\"error_z\":{\"array\":[0.78375,0.78375]},\"hovertemplate\":\"0=185.0<br>1=%{x}<br>2=%{y}<br>3=%{z}<extra></extra>\",\"legendgroup\":\"\",\"line\":{\"color\":\"#636efa\",\"dash\":\"solid\"},\"marker\":{\"symbol\":\"circle\"},\"mode\":\"lines\",\"name\":\"\",\"scene\":\"scene\",\"showlegend\":false,\"x\":[169.02818,169.9657],\"y\":[211.7983,216.29213],\"z\":[106.29162,107.433],\"type\":\"scatter3d\"},{\"error_x\":{\"array\":[0.92625,0.92625]},\"error_y\":{\"array\":[0.92625,0.92625]},\"error_z\":{\"array\":[0.92625,0.92625]},\"hovertemplate\":\"0=186.0<br>1=%{x}<br>2=%{y}<br>3=%{z}<extra></extra>\",\"legendgroup\":\"\",\"line\":{\"color\":\"#636efa\",\"dash\":\"solid\"},\"marker\":{\"symbol\":\"circle\"},\"mode\":\"lines\",\"name\":\"\",\"scene\":\"scene\",\"showlegend\":false,\"x\":[169.9657,169.65826],\"y\":[216.29213,220.05489],\"z\":[107.433,110.38553],\"type\":\"scatter3d\"},{\"error_x\":{\"array\":[1.235,1.235]},\"error_y\":{\"array\":[1.235,1.235]},\"error_z\":{\"array\":[1.235,1.235]},\"hovertemplate\":\"0=187.0<br>1=%{x}<br>2=%{y}<br>3=%{z}<extra></extra>\",\"legendgroup\":\"\",\"line\":{\"color\":\"#636efa\",\"dash\":\"solid\"},\"marker\":{\"symbol\":\"circle\"},\"mode\":\"lines\",\"name\":\"\",\"scene\":\"scene\",\"showlegend\":false,\"x\":[169.65826,169.27722],\"y\":[220.05489,224.5771],\"z\":[110.38553,111.59691],\"type\":\"scatter3d\"},{\"error_x\":{\"array\":[0.92625,0.92625]},\"error_y\":{\"array\":[0.92625,0.92625]},\"error_z\":{\"array\":[0.92625,0.92625]},\"hovertemplate\":\"0=188.0<br>1=%{x}<br>2=%{y}<br>3=%{z}<extra></extra>\",\"legendgroup\":\"\",\"line\":{\"color\":\"#636efa\",\"dash\":\"solid\"},\"marker\":{\"symbol\":\"circle\"},\"mode\":\"lines\",\"name\":\"\",\"scene\":\"scene\",\"showlegend\":false,\"x\":[169.27722,170.15015],\"y\":[224.5771,228.37808],\"z\":[111.59691,114.05491],\"type\":\"scatter3d\"},{\"error_x\":{\"array\":[1.0925,1.0925]},\"error_y\":{\"array\":[1.0925,1.0925]},\"error_z\":{\"array\":[1.0925,1.0925]},\"hovertemplate\":\"0=189.0<br>1=%{x}<br>2=%{y}<br>3=%{z}<extra></extra>\",\"legendgroup\":\"\",\"line\":{\"color\":\"#636efa\",\"dash\":\"solid\"},\"marker\":{\"symbol\":\"circle\"},\"mode\":\"lines\",\"name\":\"\",\"scene\":\"scene\",\"showlegend\":false,\"x\":[170.15015,171.49733],\"y\":[228.37808,229.25653],\"z\":[114.05491,118.6538],\"type\":\"scatter3d\"},{\"error_x\":{\"array\":[1.06875,1.06875]},\"error_y\":{\"array\":[1.06875,1.06875]},\"error_z\":{\"array\":[1.06875,1.06875]},\"hovertemplate\":\"0=190.0<br>1=%{x}<br>2=%{y}<br>3=%{z}<extra></extra>\",\"legendgroup\":\"\",\"line\":{\"color\":\"#636efa\",\"dash\":\"solid\"},\"marker\":{\"symbol\":\"circle\"},\"mode\":\"lines\",\"name\":\"\",\"scene\":\"scene\",\"showlegend\":false,\"x\":[171.49733,172.4967],\"y\":[229.25653,229.99811],\"z\":[118.6538,123.365425],\"type\":\"scatter3d\"},{\"error_x\":{\"array\":[0.95,0.95]},\"error_y\":{\"array\":[0.95,0.95]},\"error_z\":{\"array\":[0.95,0.95]},\"hovertemplate\":\"0=191.0<br>1=%{x}<br>2=%{y}<br>3=%{z}<extra></extra>\",\"legendgroup\":\"\",\"line\":{\"color\":\"#636efa\",\"dash\":\"solid\"},\"marker\":{\"symbol\":\"circle\"},\"mode\":\"lines\",\"name\":\"\",\"scene\":\"scene\",\"showlegend\":false,\"x\":[172.4967,173.75537],\"y\":[229.99811,232.25546],\"z\":[123.365425,127.6186],\"type\":\"scatter3d\"},{\"error_x\":{\"array\":[0.38,0.38]},\"error_y\":{\"array\":[0.38,0.38]},\"error_z\":{\"array\":[0.38,0.38]},\"hovertemplate\":\"0=192.0<br>1=%{x}<br>2=%{y}<br>3=%{z}<extra></extra>\",\"legendgroup\":\"\",\"line\":{\"color\":\"#636efa\",\"dash\":\"solid\"},\"marker\":{\"symbol\":\"circle\"},\"mode\":\"lines\",\"name\":\"\",\"scene\":\"scene\",\"showlegend\":false,\"x\":[173.75537,174.26192],\"y\":[232.25546,235.57066],\"z\":[127.6186,130.58784],\"type\":\"scatter3d\"},{\"error_x\":{\"array\":[0.855,0.855]},\"error_y\":{\"array\":[0.855,0.855]},\"error_z\":{\"array\":[0.855,0.855]},\"hovertemplate\":\"0=193.0<br>1=%{x}<br>2=%{y}<br>3=%{z}<extra></extra>\",\"legendgroup\":\"\",\"line\":{\"color\":\"#636efa\",\"dash\":\"solid\"},\"marker\":{\"symbol\":\"circle\"},\"mode\":\"lines\",\"name\":\"\",\"scene\":\"scene\",\"showlegend\":false,\"x\":[174.26192,174.66841],\"y\":[235.57066,238.49535],\"z\":[130.58784,133.94699],\"type\":\"scatter3d\"},{\"error_x\":{\"array\":[0.475,0.475]},\"error_y\":{\"array\":[0.475,0.475]},\"error_z\":{\"array\":[0.475,0.475]},\"hovertemplate\":\"0=194.0<br>1=%{x}<br>2=%{y}<br>3=%{z}<extra></extra>\",\"legendgroup\":\"\",\"line\":{\"color\":\"#636efa\",\"dash\":\"solid\"},\"marker\":{\"symbol\":\"circle\"},\"mode\":\"lines\",\"name\":\"\",\"scene\":\"scene\",\"showlegend\":false,\"x\":[174.66841,173.73213],\"y\":[238.49535,240.87823],\"z\":[133.94699,138.03159],\"type\":\"scatter3d\"},{\"error_x\":{\"array\":[0.57,0.57]},\"error_y\":{\"array\":[0.57,0.57]},\"error_z\":{\"array\":[0.57,0.57]},\"hovertemplate\":\"0=195.0<br>1=%{x}<br>2=%{y}<br>3=%{z}<extra></extra>\",\"legendgroup\":\"\",\"line\":{\"color\":\"#636efa\",\"dash\":\"solid\"},\"marker\":{\"symbol\":\"circle\"},\"mode\":\"lines\",\"name\":\"\",\"scene\":\"scene\",\"showlegend\":false,\"x\":[173.73213,172.73717],\"y\":[240.87823,241.88275],\"z\":[138.03159,142.53535],\"type\":\"scatter3d\"},{\"error_x\":{\"array\":[6.08,6.08]},\"error_y\":{\"array\":[6.08,6.08]},\"error_z\":{\"array\":[6.08,6.08]},\"hovertemplate\":\"0=196.0<br>1=%{x}<br>2=%{y}<br>3=%{z}<extra></extra>\",\"legendgroup\":\"\",\"line\":{\"color\":\"#636efa\",\"dash\":\"solid\"},\"marker\":{\"symbol\":\"circle\"},\"mode\":\"lines\",\"name\":\"\",\"scene\":\"scene\",\"showlegend\":false,\"x\":[100.0331,109.54862],\"y\":[117.0343,116.90429],\"z\":[64.0716,63.909813],\"type\":\"scatter3d\"},{\"error_x\":{\"array\":[1.6625,1.6625]},\"error_y\":{\"array\":[1.6625,1.6625]},\"error_z\":{\"array\":[1.6625,1.6625]},\"hovertemplate\":\"0=197.0<br>1=%{x}<br>2=%{y}<br>3=%{z}<extra></extra>\",\"legendgroup\":\"\",\"line\":{\"color\":\"#636efa\",\"dash\":\"solid\"},\"marker\":{\"symbol\":\"circle\"},\"mode\":\"lines\",\"name\":\"\",\"scene\":\"scene\",\"showlegend\":false,\"x\":[109.54862,113.51131],\"y\":[116.90429,116.271095],\"z\":[63.909813,64.82662],\"type\":\"scatter3d\"},{\"error_x\":{\"array\":[1.6625,1.6625]},\"error_y\":{\"array\":[1.6625,1.6625]},\"error_z\":{\"array\":[1.6625,1.6625]},\"hovertemplate\":\"0=198.0<br>1=%{x}<br>2=%{y}<br>3=%{z}<extra></extra>\",\"legendgroup\":\"\",\"line\":{\"color\":\"#636efa\",\"dash\":\"solid\"},\"marker\":{\"symbol\":\"circle\"},\"mode\":\"lines\",\"name\":\"\",\"scene\":\"scene\",\"showlegend\":false,\"x\":[113.51131,117.48315],\"y\":[116.271095,113.6857],\"z\":[64.82662,65.977425],\"type\":\"scatter3d\"},{\"error_x\":{\"array\":[1.44875,1.44875]},\"error_y\":{\"array\":[1.44875,1.44875]},\"error_z\":{\"array\":[1.44875,1.44875]},\"hovertemplate\":\"0=199.0<br>1=%{x}<br>2=%{y}<br>3=%{z}<extra></extra>\",\"legendgroup\":\"\",\"line\":{\"color\":\"#636efa\",\"dash\":\"solid\"},\"marker\":{\"symbol\":\"circle\"},\"mode\":\"lines\",\"name\":\"\",\"scene\":\"scene\",\"showlegend\":false,\"x\":[117.48315,120.80912],\"y\":[113.6857,110.48447],\"z\":[65.977425,67.384964],\"type\":\"scatter3d\"},{\"error_x\":{\"array\":[1.425,1.425]},\"error_y\":{\"array\":[1.425,1.425]},\"error_z\":{\"array\":[1.425,1.425]},\"hovertemplate\":\"0=200.0<br>1=%{x}<br>2=%{y}<br>3=%{z}<extra></extra>\",\"legendgroup\":\"\",\"line\":{\"color\":\"#636efa\",\"dash\":\"solid\"},\"marker\":{\"symbol\":\"circle\"},\"mode\":\"lines\",\"name\":\"\",\"scene\":\"scene\",\"showlegend\":false,\"x\":[120.80912,122.47599],\"y\":[110.48447,107.93817],\"z\":[67.384964,71.02953],\"type\":\"scatter3d\"},{\"error_x\":{\"array\":[1.615,1.615]},\"error_y\":{\"array\":[1.615,1.615]},\"error_z\":{\"array\":[1.615,1.615]},\"hovertemplate\":\"0=201.0<br>1=%{x}<br>2=%{y}<br>3=%{z}<extra></extra>\",\"legendgroup\":\"\",\"line\":{\"color\":\"#636efa\",\"dash\":\"solid\"},\"marker\":{\"symbol\":\"circle\"},\"mode\":\"lines\",\"name\":\"\",\"scene\":\"scene\",\"showlegend\":false,\"x\":[122.47599,124.517426],\"y\":[107.93817,105.66183],\"z\":[71.02953,73.79254],\"type\":\"scatter3d\"},{\"error_x\":{\"array\":[1.68625,1.68625]},\"error_y\":{\"array\":[1.68625,1.68625]},\"error_z\":{\"array\":[1.68625,1.68625]},\"hovertemplate\":\"0=202.0<br>1=%{x}<br>2=%{y}<br>3=%{z}<extra></extra>\",\"legendgroup\":\"\",\"line\":{\"color\":\"#636efa\",\"dash\":\"solid\"},\"marker\":{\"symbol\":\"circle\"},\"mode\":\"lines\",\"name\":\"\",\"scene\":\"scene\",\"showlegend\":false,\"x\":[124.517426,126.69149],\"y\":[105.66183,102.57235],\"z\":[73.79254,76.007545],\"type\":\"scatter3d\"},{\"error_x\":{\"array\":[1.2825,1.2825]},\"error_y\":{\"array\":[1.2825,1.2825]},\"error_z\":{\"array\":[1.2825,1.2825]},\"hovertemplate\":\"0=203.0<br>1=%{x}<br>2=%{y}<br>3=%{z}<extra></extra>\",\"legendgroup\":\"\",\"line\":{\"color\":\"#636efa\",\"dash\":\"solid\"},\"marker\":{\"symbol\":\"circle\"},\"mode\":\"lines\",\"name\":\"\",\"scene\":\"scene\",\"showlegend\":false,\"x\":[126.69149,130.18379],\"y\":[102.57235,99.0743],\"z\":[76.007545,76.41969],\"type\":\"scatter3d\"},{\"error_x\":{\"array\":[1.82875,1.82875]},\"error_y\":{\"array\":[1.82875,1.82875]},\"error_z\":{\"array\":[1.82875,1.82875]},\"hovertemplate\":\"0=204.0<br>1=%{x}<br>2=%{y}<br>3=%{z}<extra></extra>\",\"legendgroup\":\"\",\"line\":{\"color\":\"#636efa\",\"dash\":\"solid\"},\"marker\":{\"symbol\":\"circle\"},\"mode\":\"lines\",\"name\":\"\",\"scene\":\"scene\",\"showlegend\":false,\"x\":[130.18379,134.29066],\"y\":[99.0743,96.54255],\"z\":[76.41969,77.289444],\"type\":\"scatter3d\"},{\"error_x\":{\"array\":[1.14,1.14]},\"error_y\":{\"array\":[1.14,1.14]},\"error_z\":{\"array\":[1.14,1.14]},\"hovertemplate\":\"0=205.0<br>1=%{x}<br>2=%{y}<br>3=%{z}<extra></extra>\",\"legendgroup\":\"\",\"line\":{\"color\":\"#636efa\",\"dash\":\"solid\"},\"marker\":{\"symbol\":\"circle\"},\"mode\":\"lines\",\"name\":\"\",\"scene\":\"scene\",\"showlegend\":false,\"x\":[134.29066,138.82549],\"y\":[96.54255,95.432106],\"z\":[77.289444,77.43809],\"type\":\"scatter3d\"},{\"error_x\":{\"array\":[1.25875,1.25875]},\"error_y\":{\"array\":[1.25875,1.25875]},\"error_z\":{\"array\":[1.25875,1.25875]},\"hovertemplate\":\"0=206.0<br>1=%{x}<br>2=%{y}<br>3=%{z}<extra></extra>\",\"legendgroup\":\"\",\"line\":{\"color\":\"#636efa\",\"dash\":\"solid\"},\"marker\":{\"symbol\":\"circle\"},\"mode\":\"lines\",\"name\":\"\",\"scene\":\"scene\",\"showlegend\":false,\"x\":[138.82549,143.69116],\"y\":[95.432106,94.33204],\"z\":[77.43809,77.36541],\"type\":\"scatter3d\"},{\"error_x\":{\"array\":[1.33,1.33]},\"error_y\":{\"array\":[1.33,1.33]},\"error_z\":{\"array\":[1.33,1.33]},\"hovertemplate\":\"0=207.0<br>1=%{x}<br>2=%{y}<br>3=%{z}<extra></extra>\",\"legendgroup\":\"\",\"line\":{\"color\":\"#636efa\",\"dash\":\"solid\"},\"marker\":{\"symbol\":\"circle\"},\"mode\":\"lines\",\"name\":\"\",\"scene\":\"scene\",\"showlegend\":false,\"x\":[143.69116,148.36044],\"y\":[94.33204,92.69523],\"z\":[77.36541,77.3442],\"type\":\"scatter3d\"},{\"error_x\":{\"array\":[1.30625,1.30625]},\"error_y\":{\"array\":[1.30625,1.30625]},\"error_z\":{\"array\":[1.30625,1.30625]},\"hovertemplate\":\"0=208.0<br>1=%{x}<br>2=%{y}<br>3=%{z}<extra></extra>\",\"legendgroup\":\"\",\"line\":{\"color\":\"#636efa\",\"dash\":\"solid\"},\"marker\":{\"symbol\":\"circle\"},\"mode\":\"lines\",\"name\":\"\",\"scene\":\"scene\",\"showlegend\":false,\"x\":[148.36044,153.14438],\"y\":[92.69523,91.291534],\"z\":[77.3442,77.234726],\"type\":\"scatter3d\"},{\"error_x\":{\"array\":[1.425,1.425]},\"error_y\":{\"array\":[1.425,1.425]},\"error_z\":{\"array\":[1.425,1.425]},\"hovertemplate\":\"0=209.0<br>1=%{x}<br>2=%{y}<br>3=%{z}<extra></extra>\",\"legendgroup\":\"\",\"line\":{\"color\":\"#636efa\",\"dash\":\"solid\"},\"marker\":{\"symbol\":\"circle\"},\"mode\":\"lines\",\"name\":\"\",\"scene\":\"scene\",\"showlegend\":false,\"x\":[153.14438,157.78389],\"y\":[91.291534,89.62916],\"z\":[77.234726,77.38059],\"type\":\"scatter3d\"},{\"error_x\":{\"array\":[1.33,1.33]},\"error_y\":{\"array\":[1.33,1.33]},\"error_z\":{\"array\":[1.33,1.33]},\"hovertemplate\":\"0=210.0<br>1=%{x}<br>2=%{y}<br>3=%{z}<extra></extra>\",\"legendgroup\":\"\",\"line\":{\"color\":\"#636efa\",\"dash\":\"solid\"},\"marker\":{\"symbol\":\"circle\"},\"mode\":\"lines\",\"name\":\"\",\"scene\":\"scene\",\"showlegend\":false,\"x\":[157.78389,161.7159],\"y\":[89.62916,86.59652],\"z\":[77.38059,77.434235],\"type\":\"scatter3d\"},{\"error_x\":{\"array\":[1.5675,1.5675]},\"error_y\":{\"array\":[1.5675,1.5675]},\"error_z\":{\"array\":[1.5675,1.5675]},\"hovertemplate\":\"0=211.0<br>1=%{x}<br>2=%{y}<br>3=%{z}<extra></extra>\",\"legendgroup\":\"\",\"line\":{\"color\":\"#636efa\",\"dash\":\"solid\"},\"marker\":{\"symbol\":\"circle\"},\"mode\":\"lines\",\"name\":\"\",\"scene\":\"scene\",\"showlegend\":false,\"x\":[161.7159,165.74356],\"y\":[86.59652,83.70184],\"z\":[77.434235,77.47244],\"type\":\"scatter3d\"},{\"error_x\":{\"array\":[1.40125,1.40125]},\"error_y\":{\"array\":[1.40125,1.40125]},\"error_z\":{\"array\":[1.40125,1.40125]},\"hovertemplate\":\"0=212.0<br>1=%{x}<br>2=%{y}<br>3=%{z}<extra></extra>\",\"legendgroup\":\"\",\"line\":{\"color\":\"#636efa\",\"dash\":\"solid\"},\"marker\":{\"symbol\":\"circle\"},\"mode\":\"lines\",\"name\":\"\",\"scene\":\"scene\",\"showlegend\":false,\"x\":[165.74356,169.65575],\"y\":[83.70184,80.613075],\"z\":[77.47244,77.35433],\"type\":\"scatter3d\"},{\"error_x\":{\"array\":[1.1875,1.1875]},\"error_y\":{\"array\":[1.1875,1.1875]},\"error_z\":{\"array\":[1.1875,1.1875]},\"hovertemplate\":\"0=213.0<br>1=%{x}<br>2=%{y}<br>3=%{z}<extra></extra>\",\"legendgroup\":\"\",\"line\":{\"color\":\"#636efa\",\"dash\":\"solid\"},\"marker\":{\"symbol\":\"circle\"},\"mode\":\"lines\",\"name\":\"\",\"scene\":\"scene\",\"showlegend\":false,\"x\":[169.65575,172.26724],\"y\":[80.613075,77.02895],\"z\":[77.35433,75.72885],\"type\":\"scatter3d\"},{\"error_x\":{\"array\":[1.2825,1.2825]},\"error_y\":{\"array\":[1.2825,1.2825]},\"error_z\":{\"array\":[1.2825,1.2825]},\"hovertemplate\":\"0=214.0<br>1=%{x}<br>2=%{y}<br>3=%{z}<extra></extra>\",\"legendgroup\":\"\",\"line\":{\"color\":\"#636efa\",\"dash\":\"solid\"},\"marker\":{\"symbol\":\"circle\"},\"mode\":\"lines\",\"name\":\"\",\"scene\":\"scene\",\"showlegend\":false,\"x\":[172.26724,174.40276],\"y\":[77.02895,75.116806],\"z\":[75.72885,72.173294],\"type\":\"scatter3d\"},{\"error_x\":{\"array\":[1.30625,1.30625]},\"error_y\":{\"array\":[1.30625,1.30625]},\"error_z\":{\"array\":[1.30625,1.30625]},\"hovertemplate\":\"0=215.0<br>1=%{x}<br>2=%{y}<br>3=%{z}<extra></extra>\",\"legendgroup\":\"\",\"line\":{\"color\":\"#636efa\",\"dash\":\"solid\"},\"marker\":{\"symbol\":\"circle\"},\"mode\":\"lines\",\"name\":\"\",\"scene\":\"scene\",\"showlegend\":false,\"x\":[174.40276,176.59364],\"y\":[75.116806,73.42914],\"z\":[72.173294,68.496185],\"type\":\"scatter3d\"},{\"error_x\":{\"array\":[1.52,1.52]},\"error_y\":{\"array\":[1.52,1.52]},\"error_z\":{\"array\":[1.52,1.52]},\"hovertemplate\":\"0=216.0<br>1=%{x}<br>2=%{y}<br>3=%{z}<extra></extra>\",\"legendgroup\":\"\",\"line\":{\"color\":\"#636efa\",\"dash\":\"solid\"},\"marker\":{\"symbol\":\"circle\"},\"mode\":\"lines\",\"name\":\"\",\"scene\":\"scene\",\"showlegend\":false,\"x\":[176.59364,178.06429],\"y\":[73.42914,72.354675],\"z\":[68.496185,63.92601],\"type\":\"scatter3d\"},{\"error_x\":{\"array\":[1.9475,1.9475]},\"error_y\":{\"array\":[1.9475,1.9475]},\"error_z\":{\"array\":[1.9475,1.9475]},\"hovertemplate\":\"0=217.0<br>1=%{x}<br>2=%{y}<br>3=%{z}<extra></extra>\",\"legendgroup\":\"\",\"line\":{\"color\":\"#636efa\",\"dash\":\"solid\"},\"marker\":{\"symbol\":\"circle\"},\"mode\":\"lines\",\"name\":\"\",\"scene\":\"scene\",\"showlegend\":false,\"x\":[178.06429,178.13147],\"y\":[72.354675,71.62568],\"z\":[63.92601,59.23547],\"type\":\"scatter3d\"},{\"error_x\":{\"array\":[2.185,2.185]},\"error_y\":{\"array\":[2.185,2.185]},\"error_z\":{\"array\":[2.185,2.185]},\"hovertemplate\":\"0=218.0<br>1=%{x}<br>2=%{y}<br>3=%{z}<extra></extra>\",\"legendgroup\":\"\",\"line\":{\"color\":\"#636efa\",\"dash\":\"solid\"},\"marker\":{\"symbol\":\"circle\"},\"mode\":\"lines\",\"name\":\"\",\"scene\":\"scene\",\"showlegend\":false,\"x\":[178.13147,178.02997],\"y\":[71.62568,70.34527],\"z\":[59.23547,54.43667],\"type\":\"scatter3d\"},{\"error_x\":{\"array\":[1.9475,1.9475]},\"error_y\":{\"array\":[1.9475,1.9475]},\"error_z\":{\"array\":[1.9475,1.9475]},\"hovertemplate\":\"0=219.0<br>1=%{x}<br>2=%{y}<br>3=%{z}<extra></extra>\",\"legendgroup\":\"\",\"line\":{\"color\":\"#636efa\",\"dash\":\"solid\"},\"marker\":{\"symbol\":\"circle\"},\"mode\":\"lines\",\"name\":\"\",\"scene\":\"scene\",\"showlegend\":false,\"x\":[178.02997,178.02875],\"y\":[70.34527,70.069145],\"z\":[54.43667,49.463375],\"type\":\"scatter3d\"},{\"error_x\":{\"array\":[2.06625,2.06625]},\"error_y\":{\"array\":[2.06625,2.06625]},\"error_z\":{\"array\":[2.06625,2.06625]},\"hovertemplate\":\"0=220.0<br>1=%{x}<br>2=%{y}<br>3=%{z}<extra></extra>\",\"legendgroup\":\"\",\"line\":{\"color\":\"#636efa\",\"dash\":\"solid\"},\"marker\":{\"symbol\":\"circle\"},\"mode\":\"lines\",\"name\":\"\",\"scene\":\"scene\",\"showlegend\":false,\"x\":[178.02875,177.90921],\"y\":[70.069145,71.23797],\"z\":[49.463375,44.689354],\"type\":\"scatter3d\"},{\"error_x\":{\"array\":[2.11375,2.11375]},\"error_y\":{\"array\":[2.11375,2.11375]},\"error_z\":{\"array\":[2.11375,2.11375]},\"hovertemplate\":\"0=221.0<br>1=%{x}<br>2=%{y}<br>3=%{z}<extra></extra>\",\"legendgroup\":\"\",\"line\":{\"color\":\"#636efa\",\"dash\":\"solid\"},\"marker\":{\"symbol\":\"circle\"},\"mode\":\"lines\",\"name\":\"\",\"scene\":\"scene\",\"showlegend\":false,\"x\":[177.90921,178.0403],\"y\":[71.23797,72.56331],\"z\":[44.689354,39.90429],\"type\":\"scatter3d\"},{\"error_x\":{\"array\":[2.16125,2.16125]},\"error_y\":{\"array\":[2.16125,2.16125]},\"error_z\":{\"array\":[2.16125,2.16125]},\"hovertemplate\":\"0=222.0<br>1=%{x}<br>2=%{y}<br>3=%{z}<extra></extra>\",\"legendgroup\":\"\",\"line\":{\"color\":\"#636efa\",\"dash\":\"solid\"},\"marker\":{\"symbol\":\"circle\"},\"mode\":\"lines\",\"name\":\"\",\"scene\":\"scene\",\"showlegend\":false,\"x\":[178.0403,178.55739],\"y\":[72.56331,72.77061],\"z\":[39.90429,34.950413],\"type\":\"scatter3d\"},{\"error_x\":{\"array\":[1.92375,1.92375]},\"error_y\":{\"array\":[1.92375,1.92375]},\"error_z\":{\"array\":[1.92375,1.92375]},\"hovertemplate\":\"0=223.0<br>1=%{x}<br>2=%{y}<br>3=%{z}<extra></extra>\",\"legendgroup\":\"\",\"line\":{\"color\":\"#636efa\",\"dash\":\"solid\"},\"marker\":{\"symbol\":\"circle\"},\"mode\":\"lines\",\"name\":\"\",\"scene\":\"scene\",\"showlegend\":false,\"x\":[178.55739,179.79085],\"y\":[72.77061,72.75476],\"z\":[34.950413,30.141432],\"type\":\"scatter3d\"},{\"error_x\":{\"array\":[1.78125,1.78125]},\"error_y\":{\"array\":[1.78125,1.78125]},\"error_z\":{\"array\":[1.78125,1.78125]},\"hovertemplate\":\"0=224.0<br>1=%{x}<br>2=%{y}<br>3=%{z}<extra></extra>\",\"legendgroup\":\"\",\"line\":{\"color\":\"#636efa\",\"dash\":\"solid\"},\"marker\":{\"symbol\":\"circle\"},\"mode\":\"lines\",\"name\":\"\",\"scene\":\"scene\",\"showlegend\":false,\"x\":[179.79085,182.10081],\"y\":[72.75476,72.94778],\"z\":[30.141432,25.906929],\"type\":\"scatter3d\"},{\"error_x\":{\"array\":[1.5675,1.5675]},\"error_y\":{\"array\":[1.5675,1.5675]},\"error_z\":{\"array\":[1.5675,1.5675]},\"hovertemplate\":\"0=225.0<br>1=%{x}<br>2=%{y}<br>3=%{z}<extra></extra>\",\"legendgroup\":\"\",\"line\":{\"color\":\"#636efa\",\"dash\":\"solid\"},\"marker\":{\"symbol\":\"circle\"},\"mode\":\"lines\",\"name\":\"\",\"scene\":\"scene\",\"showlegend\":false,\"x\":[182.10081,183.5544],\"y\":[72.94778,73.26709],\"z\":[25.906929,22.37239],\"type\":\"scatter3d\"},{\"error_x\":{\"array\":[1.49625,1.49625]},\"error_y\":{\"array\":[1.49625,1.49625]},\"error_z\":{\"array\":[1.49625,1.49625]},\"hovertemplate\":\"0=226.0<br>1=%{x}<br>2=%{y}<br>3=%{z}<extra></extra>\",\"legendgroup\":\"\",\"line\":{\"color\":\"#636efa\",\"dash\":\"solid\"},\"marker\":{\"symbol\":\"circle\"},\"mode\":\"lines\",\"name\":\"\",\"scene\":\"scene\",\"showlegend\":false,\"x\":[183.5544,185.40085],\"y\":[73.26709,73.84347],\"z\":[22.37239,17.934471],\"type\":\"scatter3d\"},{\"error_x\":{\"array\":[1.54375,1.54375]},\"error_y\":{\"array\":[1.54375,1.54375]},\"error_z\":{\"array\":[1.54375,1.54375]},\"hovertemplate\":\"0=227.0<br>1=%{x}<br>2=%{y}<br>3=%{z}<extra></extra>\",\"legendgroup\":\"\",\"line\":{\"color\":\"#636efa\",\"dash\":\"solid\"},\"marker\":{\"symbol\":\"circle\"},\"mode\":\"lines\",\"name\":\"\",\"scene\":\"scene\",\"showlegend\":false,\"x\":[185.40085,188.11485],\"y\":[73.84347,75.19325],\"z\":[17.934471,14.165885],\"type\":\"scatter3d\"},{\"error_x\":{\"array\":[1.425,1.425]},\"error_y\":{\"array\":[1.425,1.425]},\"error_z\":{\"array\":[1.425,1.425]},\"hovertemplate\":\"0=228.0<br>1=%{x}<br>2=%{y}<br>3=%{z}<extra></extra>\",\"legendgroup\":\"\",\"line\":{\"color\":\"#636efa\",\"dash\":\"solid\"},\"marker\":{\"symbol\":\"circle\"},\"mode\":\"lines\",\"name\":\"\",\"scene\":\"scene\",\"showlegend\":false,\"x\":[188.11485,191.13681],\"y\":[75.19325,75.87612],\"z\":[14.165885,10.579071],\"type\":\"scatter3d\"},{\"error_x\":{\"array\":[1.21125,1.21125]},\"error_y\":{\"array\":[1.21125,1.21125]},\"error_z\":{\"array\":[1.21125,1.21125]},\"hovertemplate\":\"0=229.0<br>1=%{x}<br>2=%{y}<br>3=%{z}<extra></extra>\",\"legendgroup\":\"\",\"line\":{\"color\":\"#636efa\",\"dash\":\"solid\"},\"marker\":{\"symbol\":\"circle\"},\"mode\":\"lines\",\"name\":\"\",\"scene\":\"scene\",\"showlegend\":false,\"x\":[191.13681,194.67096],\"y\":[75.87612,76.5112],\"z\":[10.579071,7.6586304],\"type\":\"scatter3d\"},{\"error_x\":{\"array\":[5.13,5.13]},\"error_y\":{\"array\":[5.13,5.13]},\"error_z\":{\"array\":[5.13,5.13]},\"hovertemplate\":\"0=230.0<br>1=%{x}<br>2=%{y}<br>3=%{z}<extra></extra>\",\"legendgroup\":\"\",\"line\":{\"color\":\"#636efa\",\"dash\":\"solid\"},\"marker\":{\"symbol\":\"circle\"},\"mode\":\"lines\",\"name\":\"\",\"scene\":\"scene\",\"showlegend\":false,\"x\":[103.44089,99.62035],\"y\":[117.78664,121.99568],\"z\":[64.21883,64.0379],\"type\":\"scatter3d\"},{\"error_x\":{\"array\":[4.01375,4.01375]},\"error_y\":{\"array\":[4.01375,4.01375]},\"error_z\":{\"array\":[4.01375,4.01375]},\"hovertemplate\":\"0=231.0<br>1=%{x}<br>2=%{y}<br>3=%{z}<extra></extra>\",\"legendgroup\":\"\",\"line\":{\"color\":\"#636efa\",\"dash\":\"solid\"},\"marker\":{\"symbol\":\"circle\"},\"mode\":\"lines\",\"name\":\"\",\"scene\":\"scene\",\"showlegend\":false,\"x\":[99.62035,100.13775],\"y\":[121.99568,126.56034],\"z\":[64.0379,64.97941],\"type\":\"scatter3d\"},{\"error_x\":{\"array\":[1.78125,1.78125]},\"error_y\":{\"array\":[1.78125,1.78125]},\"error_z\":{\"array\":[1.78125,1.78125]},\"hovertemplate\":\"0=232.0<br>1=%{x}<br>2=%{y}<br>3=%{z}<extra></extra>\",\"legendgroup\":\"\",\"line\":{\"color\":\"#636efa\",\"dash\":\"solid\"},\"marker\":{\"symbol\":\"circle\"},\"mode\":\"lines\",\"name\":\"\",\"scene\":\"scene\",\"showlegend\":false,\"x\":[100.13775,99.06469],\"y\":[126.56034,129.25687],\"z\":[64.97941,63.63407],\"type\":\"scatter3d\"},{\"error_x\":{\"array\":[1.78125,1.78125]},\"error_y\":{\"array\":[1.78125,1.78125]},\"error_z\":{\"array\":[1.78125,1.78125]},\"hovertemplate\":\"0=233.0<br>1=%{x}<br>2=%{y}<br>3=%{z}<extra></extra>\",\"legendgroup\":\"\",\"line\":{\"color\":\"#636efa\",\"dash\":\"solid\"},\"marker\":{\"symbol\":\"circle\"},\"mode\":\"lines\",\"name\":\"\",\"scene\":\"scene\",\"showlegend\":false,\"x\":[99.06469,98.04022],\"y\":[129.25687,133.31123],\"z\":[63.63407,61.09065],\"type\":\"scatter3d\"},{\"error_x\":{\"array\":[1.9,1.9]},\"error_y\":{\"array\":[1.9,1.9]},\"error_z\":{\"array\":[1.9,1.9]},\"hovertemplate\":\"0=234.0<br>1=%{x}<br>2=%{y}<br>3=%{z}<extra></extra>\",\"legendgroup\":\"\",\"line\":{\"color\":\"#636efa\",\"dash\":\"solid\"},\"marker\":{\"symbol\":\"circle\"},\"mode\":\"lines\",\"name\":\"\",\"scene\":\"scene\",\"showlegend\":false,\"x\":[98.04022,97.78179],\"y\":[133.31123,136.46417],\"z\":[61.09065,58.26515],\"type\":\"scatter3d\"},{\"error_x\":{\"array\":[1.78125,1.78125]},\"error_y\":{\"array\":[1.78125,1.78125]},\"error_z\":{\"array\":[1.78125,1.78125]},\"hovertemplate\":\"0=235.0<br>1=%{x}<br>2=%{y}<br>3=%{z}<extra></extra>\",\"legendgroup\":\"\",\"line\":{\"color\":\"#636efa\",\"dash\":\"solid\"},\"marker\":{\"symbol\":\"circle\"},\"mode\":\"lines\",\"name\":\"\",\"scene\":\"scene\",\"showlegend\":false,\"x\":[97.78179,96.63503],\"y\":[136.46417,139.6812],\"z\":[58.26515,56.070347],\"type\":\"scatter3d\"},{\"error_x\":{\"array\":[1.82875,1.82875]},\"error_y\":{\"array\":[1.82875,1.82875]},\"error_z\":{\"array\":[1.82875,1.82875]},\"hovertemplate\":\"0=236.0<br>1=%{x}<br>2=%{y}<br>3=%{z}<extra></extra>\",\"legendgroup\":\"\",\"line\":{\"color\":\"#636efa\",\"dash\":\"solid\"},\"marker\":{\"symbol\":\"circle\"},\"mode\":\"lines\",\"name\":\"\",\"scene\":\"scene\",\"showlegend\":false,\"x\":[96.63503,95.50644],\"y\":[139.6812,142.02995],\"z\":[56.070347,52.5838],\"type\":\"scatter3d\"},{\"error_x\":{\"array\":[2.01875,2.01875]},\"error_y\":{\"array\":[2.01875,2.01875]},\"error_z\":{\"array\":[2.01875,2.01875]},\"hovertemplate\":\"0=237.0<br>1=%{x}<br>2=%{y}<br>3=%{z}<extra></extra>\",\"legendgroup\":\"\",\"line\":{\"color\":\"#636efa\",\"dash\":\"solid\"},\"marker\":{\"symbol\":\"circle\"},\"mode\":\"lines\",\"name\":\"\",\"scene\":\"scene\",\"showlegend\":false,\"x\":[95.50644,93.77509],\"y\":[142.02995,146.35011],\"z\":[52.5838,51.984238],\"type\":\"scatter3d\"},{\"error_x\":{\"array\":[2.06625,2.06625]},\"error_y\":{\"array\":[2.06625,2.06625]},\"error_z\":{\"array\":[2.06625,2.06625]},\"hovertemplate\":\"0=238.0<br>1=%{x}<br>2=%{y}<br>3=%{z}<extra></extra>\",\"legendgroup\":\"\",\"line\":{\"color\":\"#636efa\",\"dash\":\"solid\"},\"marker\":{\"symbol\":\"circle\"},\"mode\":\"lines\",\"name\":\"\",\"scene\":\"scene\",\"showlegend\":false,\"x\":[93.77509,92.62966],\"y\":[146.35011,151.0735],\"z\":[51.984238,51.305653],\"type\":\"scatter3d\"},{\"error_x\":{\"array\":[2.06625,2.06625]},\"error_y\":{\"array\":[2.06625,2.06625]},\"error_z\":{\"array\":[2.06625,2.06625]},\"hovertemplate\":\"0=239.0<br>1=%{x}<br>2=%{y}<br>3=%{z}<extra></extra>\",\"legendgroup\":\"\",\"line\":{\"color\":\"#636efa\",\"dash\":\"solid\"},\"marker\":{\"symbol\":\"circle\"},\"mode\":\"lines\",\"name\":\"\",\"scene\":\"scene\",\"showlegend\":false,\"x\":[92.62966,91.10209],\"y\":[151.0735,155.57063],\"z\":[51.305653,50.56924],\"type\":\"scatter3d\"},{\"error_x\":{\"array\":[2.5175,2.5175]},\"error_y\":{\"array\":[2.5175,2.5175]},\"error_z\":{\"array\":[2.5175,2.5175]},\"hovertemplate\":\"0=240.0<br>1=%{x}<br>2=%{y}<br>3=%{z}<extra></extra>\",\"legendgroup\":\"\",\"line\":{\"color\":\"#636efa\",\"dash\":\"solid\"},\"marker\":{\"symbol\":\"circle\"},\"mode\":\"lines\",\"name\":\"\",\"scene\":\"scene\",\"showlegend\":false,\"x\":[91.10209,89.41548],\"y\":[155.57063,160.02643],\"z\":[50.56924,49.89523],\"type\":\"scatter3d\"},{\"error_x\":{\"array\":[2.5175,2.5175]},\"error_y\":{\"array\":[2.5175,2.5175]},\"error_z\":{\"array\":[2.5175,2.5175]},\"hovertemplate\":\"0=241.0<br>1=%{x}<br>2=%{y}<br>3=%{z}<extra></extra>\",\"legendgroup\":\"\",\"line\":{\"color\":\"#636efa\",\"dash\":\"solid\"},\"marker\":{\"symbol\":\"circle\"},\"mode\":\"lines\",\"name\":\"\",\"scene\":\"scene\",\"showlegend\":false,\"x\":[89.41548,86.49748],\"y\":[160.02643,164.03358],\"z\":[49.89523,49.935516],\"type\":\"scatter3d\"},{\"error_x\":{\"array\":[2.2325,2.2325]},\"error_y\":{\"array\":[2.2325,2.2325]},\"error_z\":{\"array\":[2.2325,2.2325]},\"hovertemplate\":\"0=242.0<br>1=%{x}<br>2=%{y}<br>3=%{z}<extra></extra>\",\"legendgroup\":\"\",\"line\":{\"color\":\"#636efa\",\"dash\":\"solid\"},\"marker\":{\"symbol\":\"circle\"},\"mode\":\"lines\",\"name\":\"\",\"scene\":\"scene\",\"showlegend\":false,\"x\":[86.49748,82.822784],\"y\":[164.03358,167.23523],\"z\":[49.935516,50.04701],\"type\":\"scatter3d\"},{\"error_x\":{\"array\":[1.2825,1.2825]},\"error_y\":{\"array\":[1.2825,1.2825]},\"error_z\":{\"array\":[1.2825,1.2825]},\"hovertemplate\":\"0=243.0<br>1=%{x}<br>2=%{y}<br>3=%{z}<extra></extra>\",\"legendgroup\":\"\",\"line\":{\"color\":\"#636efa\",\"dash\":\"solid\"},\"marker\":{\"symbol\":\"circle\"},\"mode\":\"lines\",\"name\":\"\",\"scene\":\"scene\",\"showlegend\":false,\"x\":[82.822784,78.62992],\"y\":[167.23523,169.16504],\"z\":[50.04701,50.068127],\"type\":\"scatter3d\"},{\"error_x\":{\"array\":[1.2825,1.2825]},\"error_y\":{\"array\":[1.2825,1.2825]},\"error_z\":{\"array\":[1.2825,1.2825]},\"hovertemplate\":\"0=244.0<br>1=%{x}<br>2=%{y}<br>3=%{z}<extra></extra>\",\"legendgroup\":\"\",\"line\":{\"color\":\"#636efa\",\"dash\":\"solid\"},\"marker\":{\"symbol\":\"circle\"},\"mode\":\"lines\",\"name\":\"\",\"scene\":\"scene\",\"showlegend\":false,\"x\":[78.62992,73.944534],\"y\":[169.16504,169.829],\"z\":[50.068127,51.006763],\"type\":\"scatter3d\"},{\"error_x\":{\"array\":[1.59125,1.59125]},\"error_y\":{\"array\":[1.59125,1.59125]},\"error_z\":{\"array\":[1.59125,1.59125]},\"hovertemplate\":\"0=245.0<br>1=%{x}<br>2=%{y}<br>3=%{z}<extra></extra>\",\"legendgroup\":\"\",\"line\":{\"color\":\"#636efa\",\"dash\":\"solid\"},\"marker\":{\"symbol\":\"circle\"},\"mode\":\"lines\",\"name\":\"\",\"scene\":\"scene\",\"showlegend\":false,\"x\":[73.944534,69.26245],\"y\":[169.829,170.11551],\"z\":[51.006763,52.290627],\"type\":\"scatter3d\"},{\"error_x\":{\"array\":[1.87625,1.87625]},\"error_y\":{\"array\":[1.87625,1.87625]},\"error_z\":{\"array\":[1.87625,1.87625]},\"hovertemplate\":\"0=246.0<br>1=%{x}<br>2=%{y}<br>3=%{z}<extra></extra>\",\"legendgroup\":\"\",\"line\":{\"color\":\"#636efa\",\"dash\":\"solid\"},\"marker\":{\"symbol\":\"circle\"},\"mode\":\"lines\",\"name\":\"\",\"scene\":\"scene\",\"showlegend\":false,\"x\":[69.26245,65.62927],\"y\":[170.11551,170.83888],\"z\":[52.290627,50.88964],\"type\":\"scatter3d\"},{\"error_x\":{\"array\":[1.59125,1.59125]},\"error_y\":{\"array\":[1.59125,1.59125]},\"error_z\":{\"array\":[1.59125,1.59125]},\"hovertemplate\":\"0=247.0<br>1=%{x}<br>2=%{y}<br>3=%{z}<extra></extra>\",\"legendgroup\":\"\",\"line\":{\"color\":\"#636efa\",\"dash\":\"solid\"},\"marker\":{\"symbol\":\"circle\"},\"mode\":\"lines\",\"name\":\"\",\"scene\":\"scene\",\"showlegend\":false,\"x\":[65.62927,61.850834],\"y\":[170.83888,172.98442],\"z\":[50.88964,48.86038],\"type\":\"scatter3d\"},{\"error_x\":{\"array\":[1.78125,1.78125]},\"error_y\":{\"array\":[1.78125,1.78125]},\"error_z\":{\"array\":[1.78125,1.78125]},\"hovertemplate\":\"0=248.0<br>1=%{x}<br>2=%{y}<br>3=%{z}<extra></extra>\",\"legendgroup\":\"\",\"line\":{\"color\":\"#636efa\",\"dash\":\"solid\"},\"marker\":{\"symbol\":\"circle\"},\"mode\":\"lines\",\"name\":\"\",\"scene\":\"scene\",\"showlegend\":false,\"x\":[61.850834,59.71455],\"y\":[172.98442,174.78015],\"z\":[48.86038,45.562588],\"type\":\"scatter3d\"},{\"error_x\":{\"array\":[1.59125,1.59125]},\"error_y\":{\"array\":[1.59125,1.59125]},\"error_z\":{\"array\":[1.59125,1.59125]},\"hovertemplate\":\"0=249.0<br>1=%{x}<br>2=%{y}<br>3=%{z}<extra></extra>\",\"legendgroup\":\"\",\"line\":{\"color\":\"#636efa\",\"dash\":\"solid\"},\"marker\":{\"symbol\":\"circle\"},\"mode\":\"lines\",\"name\":\"\",\"scene\":\"scene\",\"showlegend\":false,\"x\":[59.71455,59.081615],\"y\":[174.78015,174.62602],\"z\":[45.562588,40.663425],\"type\":\"scatter3d\"},{\"error_x\":{\"array\":[1.87625,1.87625]},\"error_y\":{\"array\":[1.87625,1.87625]},\"error_z\":{\"array\":[1.87625,1.87625]},\"hovertemplate\":\"0=250.0<br>1=%{x}<br>2=%{y}<br>3=%{z}<extra></extra>\",\"legendgroup\":\"\",\"line\":{\"color\":\"#636efa\",\"dash\":\"solid\"},\"marker\":{\"symbol\":\"circle\"},\"mode\":\"lines\",\"name\":\"\",\"scene\":\"scene\",\"showlegend\":false,\"x\":[59.081615,59.062256],\"y\":[174.62602,174.50978],\"z\":[40.663425,35.690884],\"type\":\"scatter3d\"},{\"error_x\":{\"array\":[2.755,2.755]},\"error_y\":{\"array\":[2.755,2.755]},\"error_z\":{\"array\":[2.755,2.755]},\"hovertemplate\":\"0=251.0<br>1=%{x}<br>2=%{y}<br>3=%{z}<extra></extra>\",\"legendgroup\":\"\",\"line\":{\"color\":\"#636efa\",\"dash\":\"solid\"},\"marker\":{\"symbol\":\"circle\"},\"mode\":\"lines\",\"name\":\"\",\"scene\":\"scene\",\"showlegend\":false,\"x\":[59.062256,57.648304],\"y\":[174.50978,173.32787],\"z\":[35.690884,31.511717],\"type\":\"scatter3d\"},{\"error_x\":{\"array\":[1.71,1.71]},\"error_y\":{\"array\":[1.71,1.71]},\"error_z\":{\"array\":[1.71,1.71]},\"hovertemplate\":\"0=252.0<br>1=%{x}<br>2=%{y}<br>3=%{z}<extra></extra>\",\"legendgroup\":\"\",\"line\":{\"color\":\"#636efa\",\"dash\":\"solid\"},\"marker\":{\"symbol\":\"circle\"},\"mode\":\"lines\",\"name\":\"\",\"scene\":\"scene\",\"showlegend\":false,\"x\":[57.648304,57.310696],\"y\":[173.32787,170.38213],\"z\":[31.511717,27.759077],\"type\":\"scatter3d\"},{\"error_x\":{\"array\":[1.40125,1.40125]},\"error_y\":{\"array\":[1.40125,1.40125]},\"error_z\":{\"array\":[1.40125,1.40125]},\"hovertemplate\":\"0=253.0<br>1=%{x}<br>2=%{y}<br>3=%{z}<extra></extra>\",\"legendgroup\":\"\",\"line\":{\"color\":\"#636efa\",\"dash\":\"solid\"},\"marker\":{\"symbol\":\"circle\"},\"mode\":\"lines\",\"name\":\"\",\"scene\":\"scene\",\"showlegend\":false,\"x\":[57.310696,55.713722],\"y\":[170.38213,169.03894],\"z\":[27.759077,23.783026],\"type\":\"scatter3d\"},{\"error_x\":{\"array\":[1.54375,1.54375]},\"error_y\":{\"array\":[1.54375,1.54375]},\"error_z\":{\"array\":[1.54375,1.54375]},\"hovertemplate\":\"0=254.0<br>1=%{x}<br>2=%{y}<br>3=%{z}<extra></extra>\",\"legendgroup\":\"\",\"line\":{\"color\":\"#636efa\",\"dash\":\"solid\"},\"marker\":{\"symbol\":\"circle\"},\"mode\":\"lines\",\"name\":\"\",\"scene\":\"scene\",\"showlegend\":false,\"x\":[55.713722,53.78365],\"y\":[169.03894,166.69174],\"z\":[23.783026,20.097765],\"type\":\"scatter3d\"},{\"error_x\":{\"array\":[1.59125,1.59125]},\"error_y\":{\"array\":[1.59125,1.59125]},\"error_z\":{\"array\":[1.59125,1.59125]},\"hovertemplate\":\"0=255.0<br>1=%{x}<br>2=%{y}<br>3=%{z}<extra></extra>\",\"legendgroup\":\"\",\"line\":{\"color\":\"#636efa\",\"dash\":\"solid\"},\"marker\":{\"symbol\":\"circle\"},\"mode\":\"lines\",\"name\":\"\",\"scene\":\"scene\",\"showlegend\":false,\"x\":[53.78365,52.88089],\"y\":[166.69174,163.97014],\"z\":[20.097765,16.585258],\"type\":\"scatter3d\"},{\"error_x\":{\"array\":[1.97125,1.97125]},\"error_y\":{\"array\":[1.97125,1.97125]},\"error_z\":{\"array\":[1.97125,1.97125]},\"hovertemplate\":\"0=256.0<br>1=%{x}<br>2=%{y}<br>3=%{z}<extra></extra>\",\"legendgroup\":\"\",\"line\":{\"color\":\"#636efa\",\"dash\":\"solid\"},\"marker\":{\"symbol\":\"circle\"},\"mode\":\"lines\",\"name\":\"\",\"scene\":\"scene\",\"showlegend\":false,\"x\":[52.88089,49.880207],\"y\":[163.97014,163.06319],\"z\":[16.585258,13.145863],\"type\":\"scatter3d\"},{\"error_x\":{\"array\":[1.49625,1.49625]},\"error_y\":{\"array\":[1.49625,1.49625]},\"error_z\":{\"array\":[1.49625,1.49625]},\"hovertemplate\":\"0=257.0<br>1=%{x}<br>2=%{y}<br>3=%{z}<extra></extra>\",\"legendgroup\":\"\",\"line\":{\"color\":\"#636efa\",\"dash\":\"solid\"},\"marker\":{\"symbol\":\"circle\"},\"mode\":\"lines\",\"name\":\"\",\"scene\":\"scene\",\"showlegend\":false,\"x\":[49.880207,47.159634],\"y\":[163.06319,164.94078],\"z\":[13.145863,9.9164],\"type\":\"scatter3d\"},{\"error_x\":{\"array\":[1.235,1.235]},\"error_y\":{\"array\":[1.235,1.235]},\"error_z\":{\"array\":[1.235,1.235]},\"hovertemplate\":\"0=258.0<br>1=%{x}<br>2=%{y}<br>3=%{z}<extra></extra>\",\"legendgroup\":\"\",\"line\":{\"color\":\"#636efa\",\"dash\":\"solid\"},\"marker\":{\"symbol\":\"circle\"},\"mode\":\"lines\",\"name\":\"\",\"scene\":\"scene\",\"showlegend\":false,\"x\":[47.159634,44.070385],\"y\":[164.94078,167.71408],\"z\":[9.9164,8.2528925],\"type\":\"scatter3d\"},{\"error_x\":{\"array\":[1.54375,1.54375]},\"error_y\":{\"array\":[1.54375,1.54375]},\"error_z\":{\"array\":[1.54375,1.54375]},\"hovertemplate\":\"0=259.0<br>1=%{x}<br>2=%{y}<br>3=%{z}<extra></extra>\",\"legendgroup\":\"\",\"line\":{\"color\":\"#636efa\",\"dash\":\"solid\"},\"marker\":{\"symbol\":\"circle\"},\"mode\":\"lines\",\"name\":\"\",\"scene\":\"scene\",\"showlegend\":false,\"x\":[82.822784,80.523895],\"y\":[167.23523,170.36613],\"z\":[50.04701,51.828747],\"type\":\"scatter3d\"},{\"error_x\":{\"array\":[1.54375,1.54375]},\"error_y\":{\"array\":[1.54375,1.54375]},\"error_z\":{\"array\":[1.54375,1.54375]},\"hovertemplate\":\"0=260.0<br>1=%{x}<br>2=%{y}<br>3=%{z}<extra></extra>\",\"legendgroup\":\"\",\"line\":{\"color\":\"#636efa\",\"dash\":\"solid\"},\"marker\":{\"symbol\":\"circle\"},\"mode\":\"lines\",\"name\":\"\",\"scene\":\"scene\",\"showlegend\":false,\"x\":[80.523895,78.28644],\"y\":[170.36613,173.12755],\"z\":[51.828747,54.46372],\"type\":\"scatter3d\"},{\"error_x\":{\"array\":[1.40125,1.40125]},\"error_y\":{\"array\":[1.40125,1.40125]},\"error_z\":{\"array\":[1.40125,1.40125]},\"hovertemplate\":\"0=261.0<br>1=%{x}<br>2=%{y}<br>3=%{z}<extra></extra>\",\"legendgroup\":\"\",\"line\":{\"color\":\"#636efa\",\"dash\":\"solid\"},\"marker\":{\"symbol\":\"circle\"},\"mode\":\"lines\",\"name\":\"\",\"scene\":\"scene\",\"showlegend\":false,\"x\":[78.28644,78.09801],\"y\":[173.12755,176.1944],\"z\":[54.46372,57.974205],\"type\":\"scatter3d\"},{\"error_x\":{\"array\":[1.87625,1.87625]},\"error_y\":{\"array\":[1.87625,1.87625]},\"error_z\":{\"array\":[1.87625,1.87625]},\"hovertemplate\":\"0=262.0<br>1=%{x}<br>2=%{y}<br>3=%{z}<extra></extra>\",\"legendgroup\":\"\",\"line\":{\"color\":\"#636efa\",\"dash\":\"solid\"},\"marker\":{\"symbol\":\"circle\"},\"mode\":\"lines\",\"name\":\"\",\"scene\":\"scene\",\"showlegend\":false,\"x\":[78.09801,77.82688],\"y\":[176.1944,178.2088],\"z\":[57.974205,62.266487],\"type\":\"scatter3d\"},{\"error_x\":{\"array\":[1.59125,1.59125]},\"error_y\":{\"array\":[1.59125,1.59125]},\"error_z\":{\"array\":[1.59125,1.59125]},\"hovertemplate\":\"0=263.0<br>1=%{x}<br>2=%{y}<br>3=%{z}<extra></extra>\",\"legendgroup\":\"\",\"line\":{\"color\":\"#636efa\",\"dash\":\"solid\"},\"marker\":{\"symbol\":\"circle\"},\"mode\":\"lines\",\"name\":\"\",\"scene\":\"scene\",\"showlegend\":false,\"x\":[77.82688,77.50193],\"y\":[178.2088,179.82043],\"z\":[62.266487,66.63481],\"type\":\"scatter3d\"},{\"error_x\":{\"array\":[1.68625,1.68625]},\"error_y\":{\"array\":[1.68625,1.68625]},\"error_z\":{\"array\":[1.68625,1.68625]},\"hovertemplate\":\"0=264.0<br>1=%{x}<br>2=%{y}<br>3=%{z}<extra></extra>\",\"legendgroup\":\"\",\"line\":{\"color\":\"#636efa\",\"dash\":\"solid\"},\"marker\":{\"symbol\":\"circle\"},\"mode\":\"lines\",\"name\":\"\",\"scene\":\"scene\",\"showlegend\":false,\"x\":[77.50193,76.59345],\"y\":[179.82043,181.62433],\"z\":[66.63481,70.9913],\"type\":\"scatter3d\"},{\"error_x\":{\"array\":[1.97125,1.97125]},\"error_y\":{\"array\":[1.97125,1.97125]},\"error_z\":{\"array\":[1.97125,1.97125]},\"hovertemplate\":\"0=265.0<br>1=%{x}<br>2=%{y}<br>3=%{z}<extra></extra>\",\"legendgroup\":\"\",\"line\":{\"color\":\"#636efa\",\"dash\":\"solid\"},\"marker\":{\"symbol\":\"circle\"},\"mode\":\"lines\",\"name\":\"\",\"scene\":\"scene\",\"showlegend\":false,\"x\":[76.59345,74.6965],\"y\":[181.62433,183.57204],\"z\":[70.9913,74.66327],\"type\":\"scatter3d\"},{\"error_x\":{\"array\":[1.87625,1.87625]},\"error_y\":{\"array\":[1.87625,1.87625]},\"error_z\":{\"array\":[1.87625,1.87625]},\"hovertemplate\":\"0=266.0<br>1=%{x}<br>2=%{y}<br>3=%{z}<extra></extra>\",\"legendgroup\":\"\",\"line\":{\"color\":\"#636efa\",\"dash\":\"solid\"},\"marker\":{\"symbol\":\"circle\"},\"mode\":\"lines\",\"name\":\"\",\"scene\":\"scene\",\"showlegend\":false,\"x\":[74.6965,73.66678],\"y\":[183.57204,186.0879],\"z\":[74.66327,78.565056],\"type\":\"scatter3d\"},{\"error_x\":{\"array\":[1.33,1.33]},\"error_y\":{\"array\":[1.33,1.33]},\"error_z\":{\"array\":[1.33,1.33]},\"hovertemplate\":\"0=267.0<br>1=%{x}<br>2=%{y}<br>3=%{z}<extra></extra>\",\"legendgroup\":\"\",\"line\":{\"color\":\"#636efa\",\"dash\":\"solid\"},\"marker\":{\"symbol\":\"circle\"},\"mode\":\"lines\",\"name\":\"\",\"scene\":\"scene\",\"showlegend\":false,\"x\":[73.66678,70.84449],\"y\":[186.0879,189.80399],\"z\":[78.565056,79.39793],\"type\":\"scatter3d\"},{\"error_x\":{\"array\":[1.21125,1.21125]},\"error_y\":{\"array\":[1.21125,1.21125]},\"error_z\":{\"array\":[1.21125,1.21125]},\"hovertemplate\":\"0=268.0<br>1=%{x}<br>2=%{y}<br>3=%{z}<extra></extra>\",\"legendgroup\":\"\",\"line\":{\"color\":\"#636efa\",\"dash\":\"solid\"},\"marker\":{\"symbol\":\"circle\"},\"mode\":\"lines\",\"name\":\"\",\"scene\":\"scene\",\"showlegend\":false,\"x\":[70.84449,67.9385],\"y\":[189.80399,193.24338],\"z\":[79.39793,81.11403],\"type\":\"scatter3d\"},{\"error_x\":{\"array\":[1.235,1.235]},\"error_y\":{\"array\":[1.235,1.235]},\"error_z\":{\"array\":[1.235,1.235]},\"hovertemplate\":\"0=269.0<br>1=%{x}<br>2=%{y}<br>3=%{z}<extra></extra>\",\"legendgroup\":\"\",\"line\":{\"color\":\"#636efa\",\"dash\":\"solid\"},\"marker\":{\"symbol\":\"circle\"},\"mode\":\"lines\",\"name\":\"\",\"scene\":\"scene\",\"showlegend\":false,\"x\":[67.9385,65.876854],\"y\":[193.24338,197.26015],\"z\":[81.11403,82.74238],\"type\":\"scatter3d\"},{\"error_x\":{\"array\":[1.235,1.235]},\"error_y\":{\"array\":[1.235,1.235]},\"error_z\":{\"array\":[1.235,1.235]},\"hovertemplate\":\"0=270.0<br>1=%{x}<br>2=%{y}<br>3=%{z}<extra></extra>\",\"legendgroup\":\"\",\"line\":{\"color\":\"#636efa\",\"dash\":\"solid\"},\"marker\":{\"symbol\":\"circle\"},\"mode\":\"lines\",\"name\":\"\",\"scene\":\"scene\",\"showlegend\":false,\"x\":[65.876854,63.86084],\"y\":[197.26015,201.55681],\"z\":[82.74238,82.83101],\"type\":\"scatter3d\"},{\"error_x\":{\"array\":[1.30625,1.30625]},\"error_y\":{\"array\":[1.30625,1.30625]},\"error_z\":{\"array\":[1.30625,1.30625]},\"hovertemplate\":\"0=271.0<br>1=%{x}<br>2=%{y}<br>3=%{z}<extra></extra>\",\"legendgroup\":\"\",\"line\":{\"color\":\"#636efa\",\"dash\":\"solid\"},\"marker\":{\"symbol\":\"circle\"},\"mode\":\"lines\",\"name\":\"\",\"scene\":\"scene\",\"showlegend\":false,\"x\":[63.86084,62.40939],\"y\":[201.55681,203.53627],\"z\":[82.83101,86.14846],\"type\":\"scatter3d\"},{\"error_x\":{\"array\":[1.54375,1.54375]},\"error_y\":{\"array\":[1.54375,1.54375]},\"error_z\":{\"array\":[1.54375,1.54375]},\"hovertemplate\":\"0=272.0<br>1=%{x}<br>2=%{y}<br>3=%{z}<extra></extra>\",\"legendgroup\":\"\",\"line\":{\"color\":\"#636efa\",\"dash\":\"solid\"},\"marker\":{\"symbol\":\"circle\"},\"mode\":\"lines\",\"name\":\"\",\"scene\":\"scene\",\"showlegend\":false,\"x\":[62.40939,60.680218],\"y\":[203.53627,205.28201],\"z\":[86.14846,89.765434],\"type\":\"scatter3d\"},{\"error_x\":{\"array\":[0.97375,0.97375]},\"error_y\":{\"array\":[0.97375,0.97375]},\"error_z\":{\"array\":[0.97375,0.97375]},\"hovertemplate\":\"0=273.0<br>1=%{x}<br>2=%{y}<br>3=%{z}<extra></extra>\",\"legendgroup\":\"\",\"line\":{\"color\":\"#636efa\",\"dash\":\"solid\"},\"marker\":{\"symbol\":\"circle\"},\"mode\":\"lines\",\"name\":\"\",\"scene\":\"scene\",\"showlegend\":false,\"x\":[60.680218,57.771683],\"y\":[205.28201,207.96284],\"z\":[89.765434,91.70699],\"type\":\"scatter3d\"},{\"error_x\":{\"array\":[1.2825,1.2825]},\"error_y\":{\"array\":[1.2825,1.2825]},\"error_z\":{\"array\":[1.2825,1.2825]},\"hovertemplate\":\"0=274.0<br>1=%{x}<br>2=%{y}<br>3=%{z}<extra></extra>\",\"legendgroup\":\"\",\"line\":{\"color\":\"#636efa\",\"dash\":\"solid\"},\"marker\":{\"symbol\":\"circle\"},\"mode\":\"lines\",\"name\":\"\",\"scene\":\"scene\",\"showlegend\":false,\"x\":[57.771683,54.676826],\"y\":[207.96284,210.41261],\"z\":[91.70699,94.30783],\"type\":\"scatter3d\"},{\"error_x\":{\"array\":[1.52,1.52]},\"error_y\":{\"array\":[1.52,1.52]},\"error_z\":{\"array\":[1.52,1.52]},\"hovertemplate\":\"0=275.0<br>1=%{x}<br>2=%{y}<br>3=%{z}<extra></extra>\",\"legendgroup\":\"\",\"line\":{\"color\":\"#636efa\",\"dash\":\"solid\"},\"marker\":{\"symbol\":\"circle\"},\"mode\":\"lines\",\"name\":\"\",\"scene\":\"scene\",\"showlegend\":false,\"x\":[54.676826,51.24454],\"y\":[210.41261,213.2949],\"z\":[94.30783,95.68176],\"type\":\"scatter3d\"},{\"error_x\":{\"array\":[1.0925,1.0925]},\"error_y\":{\"array\":[1.0925,1.0925]},\"error_z\":{\"array\":[1.0925,1.0925]},\"hovertemplate\":\"0=276.0<br>1=%{x}<br>2=%{y}<br>3=%{z}<extra></extra>\",\"legendgroup\":\"\",\"line\":{\"color\":\"#636efa\",\"dash\":\"solid\"},\"marker\":{\"symbol\":\"circle\"},\"mode\":\"lines\",\"name\":\"\",\"scene\":\"scene\",\"showlegend\":false,\"x\":[51.24454,47.81062],\"y\":[213.2949,216.8239],\"z\":[95.68176,95.95705],\"type\":\"scatter3d\"},{\"error_x\":{\"array\":[0.8075,0.8075]},\"error_y\":{\"array\":[0.8075,0.8075]},\"error_z\":{\"array\":[0.8075,0.8075]},\"hovertemplate\":\"0=277.0<br>1=%{x}<br>2=%{y}<br>3=%{z}<extra></extra>\",\"legendgroup\":\"\",\"line\":{\"color\":\"#636efa\",\"dash\":\"solid\"},\"marker\":{\"symbol\":\"circle\"},\"mode\":\"lines\",\"name\":\"\",\"scene\":\"scene\",\"showlegend\":false,\"x\":[47.81062,46.343082],\"y\":[216.8239,221.25728],\"z\":[95.95705,97.244644],\"type\":\"scatter3d\"},{\"error_x\":{\"array\":[0.97375,0.97375]},\"error_y\":{\"array\":[0.97375,0.97375]},\"error_z\":{\"array\":[0.97375,0.97375]},\"hovertemplate\":\"0=278.0<br>1=%{x}<br>2=%{y}<br>3=%{z}<extra></extra>\",\"legendgroup\":\"\",\"line\":{\"color\":\"#636efa\",\"dash\":\"solid\"},\"marker\":{\"symbol\":\"circle\"},\"mode\":\"lines\",\"name\":\"\",\"scene\":\"scene\",\"showlegend\":false,\"x\":[46.343082,46.798653],\"y\":[221.25728,224.69775],\"z\":[97.244644,100.47684],\"type\":\"scatter3d\"},{\"error_x\":{\"array\":[1.14,1.14]},\"error_y\":{\"array\":[1.14,1.14]},\"error_z\":{\"array\":[1.14,1.14]},\"hovertemplate\":\"0=279.0<br>1=%{x}<br>2=%{y}<br>3=%{z}<extra></extra>\",\"legendgroup\":\"\",\"line\":{\"color\":\"#636efa\",\"dash\":\"solid\"},\"marker\":{\"symbol\":\"circle\"},\"mode\":\"lines\",\"name\":\"\",\"scene\":\"scene\",\"showlegend\":false,\"x\":[46.798653,45.96259],\"y\":[224.69775,228.12225],\"z\":[100.47684,103.329506],\"type\":\"scatter3d\"},{\"error_x\":{\"array\":[1.16375,1.16375]},\"error_y\":{\"array\":[1.16375,1.16375]},\"error_z\":{\"array\":[1.16375,1.16375]},\"hovertemplate\":\"0=280.0<br>1=%{x}<br>2=%{y}<br>3=%{z}<extra></extra>\",\"legendgroup\":\"\",\"line\":{\"color\":\"#636efa\",\"dash\":\"solid\"},\"marker\":{\"symbol\":\"circle\"},\"mode\":\"lines\",\"name\":\"\",\"scene\":\"scene\",\"showlegend\":false,\"x\":[45.96259,44.513058],\"y\":[228.12225,232.68484],\"z\":[103.329506,103.51782],\"type\":\"scatter3d\"},{\"error_x\":{\"array\":[0.87875,0.87875]},\"error_y\":{\"array\":[0.87875,0.87875]},\"error_z\":{\"array\":[0.87875,0.87875]},\"hovertemplate\":\"0=281.0<br>1=%{x}<br>2=%{y}<br>3=%{z}<extra></extra>\",\"legendgroup\":\"\",\"line\":{\"color\":\"#636efa\",\"dash\":\"solid\"},\"marker\":{\"symbol\":\"circle\"},\"mode\":\"lines\",\"name\":\"\",\"scene\":\"scene\",\"showlegend\":false,\"x\":[44.513058,43.575195],\"y\":[232.68484,236.02805],\"z\":[103.51782,106.47028],\"type\":\"scatter3d\"},{\"error_x\":{\"array\":[0.6175,0.6175]},\"error_y\":{\"array\":[0.6175,0.6175]},\"error_z\":{\"array\":[0.6175,0.6175]},\"hovertemplate\":\"0=282.0<br>1=%{x}<br>2=%{y}<br>3=%{z}<extra></extra>\",\"legendgroup\":\"\",\"line\":{\"color\":\"#636efa\",\"dash\":\"solid\"},\"marker\":{\"symbol\":\"circle\"},\"mode\":\"lines\",\"name\":\"\",\"scene\":\"scene\",\"showlegend\":false,\"x\":[43.575195,41.40075],\"y\":[236.02805,240.43922],\"z\":[106.47028,106.478745],\"type\":\"scatter3d\"},{\"error_x\":{\"array\":[0.59375,0.59375]},\"error_y\":{\"array\":[0.59375,0.59375]},\"error_z\":{\"array\":[0.59375,0.59375]},\"hovertemplate\":\"0=283.0<br>1=%{x}<br>2=%{y}<br>3=%{z}<extra></extra>\",\"legendgroup\":\"\",\"line\":{\"color\":\"#636efa\",\"dash\":\"solid\"},\"marker\":{\"symbol\":\"circle\"},\"mode\":\"lines\",\"name\":\"\",\"scene\":\"scene\",\"showlegend\":false,\"x\":[41.40075,40.582363],\"y\":[240.43922,245.32878],\"z\":[106.478745,106.55517],\"type\":\"scatter3d\"},{\"error_x\":{\"array\":[0.78375,0.78375]},\"error_y\":{\"array\":[0.78375,0.78375]},\"error_z\":{\"array\":[0.78375,0.78375]},\"hovertemplate\":\"0=284.0<br>1=%{x}<br>2=%{y}<br>3=%{z}<extra></extra>\",\"legendgroup\":\"\",\"line\":{\"color\":\"#636efa\",\"dash\":\"solid\"},\"marker\":{\"symbol\":\"circle\"},\"mode\":\"lines\",\"name\":\"\",\"scene\":\"scene\",\"showlegend\":false,\"x\":[40.582363,38.405647],\"y\":[245.32878,249.17804],\"z\":[106.55517,105.99067],\"type\":\"scatter3d\"},{\"error_x\":{\"array\":[0.9025,0.9025]},\"error_y\":{\"array\":[0.9025,0.9025]},\"error_z\":{\"array\":[0.9025,0.9025]},\"hovertemplate\":\"0=285.0<br>1=%{x}<br>2=%{y}<br>3=%{z}<extra></extra>\",\"legendgroup\":\"\",\"line\":{\"color\":\"#636efa\",\"dash\":\"solid\"},\"marker\":{\"symbol\":\"circle\"},\"mode\":\"lines\",\"name\":\"\",\"scene\":\"scene\",\"showlegend\":false,\"x\":[38.405647,34.276905],\"y\":[249.17804,251.2491],\"z\":[105.99067,104.20719],\"type\":\"scatter3d\"},{\"error_x\":{\"array\":[0.9975,0.9975]},\"error_y\":{\"array\":[0.9975,0.9975]},\"error_z\":{\"array\":[0.9975,0.9975]},\"hovertemplate\":\"0=286.0<br>1=%{x}<br>2=%{y}<br>3=%{z}<extra></extra>\",\"legendgroup\":\"\",\"line\":{\"color\":\"#636efa\",\"dash\":\"solid\"},\"marker\":{\"symbol\":\"circle\"},\"mode\":\"lines\",\"name\":\"\",\"scene\":\"scene\",\"showlegend\":false,\"x\":[34.276905,30.503704],\"y\":[251.2491,253.7543],\"z\":[104.20719,102.88896],\"type\":\"scatter3d\"},{\"error_x\":{\"array\":[0.76,0.76]},\"error_y\":{\"array\":[0.76,0.76]},\"error_z\":{\"array\":[0.76,0.76]},\"hovertemplate\":\"0=287.0<br>1=%{x}<br>2=%{y}<br>3=%{z}<extra></extra>\",\"legendgroup\":\"\",\"line\":{\"color\":\"#636efa\",\"dash\":\"solid\"},\"marker\":{\"symbol\":\"circle\"},\"mode\":\"lines\",\"name\":\"\",\"scene\":\"scene\",\"showlegend\":false,\"x\":[30.503704,26.52625],\"y\":[253.7543,255.79924],\"z\":[102.88896,103.70627],\"type\":\"scatter3d\"},{\"error_x\":{\"array\":[1.2825,1.2825]},\"error_y\":{\"array\":[1.2825,1.2825]},\"error_z\":{\"array\":[1.2825,1.2825]},\"hovertemplate\":\"0=288.0<br>1=%{x}<br>2=%{y}<br>3=%{z}<extra></extra>\",\"legendgroup\":\"\",\"line\":{\"color\":\"#636efa\",\"dash\":\"solid\"},\"marker\":{\"symbol\":\"circle\"},\"mode\":\"lines\",\"name\":\"\",\"scene\":\"scene\",\"showlegend\":false,\"x\":[26.52625,23.769718],\"y\":[255.79924,258.99796],\"z\":[103.70627,105.34874],\"type\":\"scatter3d\"},{\"error_x\":{\"array\":[0.97375,0.97375]},\"error_y\":{\"array\":[0.97375,0.97375]},\"error_z\":{\"array\":[0.97375,0.97375]},\"hovertemplate\":\"0=289.0<br>1=%{x}<br>2=%{y}<br>3=%{z}<extra></extra>\",\"legendgroup\":\"\",\"line\":{\"color\":\"#636efa\",\"dash\":\"solid\"},\"marker\":{\"symbol\":\"circle\"},\"mode\":\"lines\",\"name\":\"\",\"scene\":\"scene\",\"showlegend\":false,\"x\":[23.769718,20.729685],\"y\":[258.99796,262.64157],\"z\":[105.34874,105.979744],\"type\":\"scatter3d\"},{\"error_x\":{\"array\":[0.92625,0.92625]},\"error_y\":{\"array\":[0.92625,0.92625]},\"error_z\":{\"array\":[0.92625,0.92625]},\"hovertemplate\":\"0=290.0<br>1=%{x}<br>2=%{y}<br>3=%{z}<extra></extra>\",\"legendgroup\":\"\",\"line\":{\"color\":\"#636efa\",\"dash\":\"solid\"},\"marker\":{\"symbol\":\"circle\"},\"mode\":\"lines\",\"name\":\"\",\"scene\":\"scene\",\"showlegend\":false,\"x\":[20.729685,20.365944],\"y\":[262.64157,266.55972],\"z\":[105.979744,107.39187],\"type\":\"scatter3d\"},{\"error_x\":{\"array\":[0.76,0.76]},\"error_y\":{\"array\":[0.76,0.76]},\"error_z\":{\"array\":[0.76,0.76]},\"hovertemplate\":\"0=291.0<br>1=%{x}<br>2=%{y}<br>3=%{z}<extra></extra>\",\"legendgroup\":\"\",\"line\":{\"color\":\"#636efa\",\"dash\":\"solid\"},\"marker\":{\"symbol\":\"circle\"},\"mode\":\"lines\",\"name\":\"\",\"scene\":\"scene\",\"showlegend\":false,\"x\":[20.365944,18.356697],\"y\":[266.55972,267.79657],\"z\":[107.39187,109.87159],\"type\":\"scatter3d\"},{\"error_x\":{\"array\":[1.16375,1.16375]},\"error_y\":{\"array\":[1.16375,1.16375]},\"error_z\":{\"array\":[1.16375,1.16375]},\"hovertemplate\":\"0=292.0<br>1=%{x}<br>2=%{y}<br>3=%{z}<extra></extra>\",\"legendgroup\":\"\",\"line\":{\"color\":\"#636efa\",\"dash\":\"solid\"},\"marker\":{\"symbol\":\"circle\"},\"mode\":\"lines\",\"name\":\"\",\"scene\":\"scene\",\"showlegend\":false,\"x\":[18.356697,16.953663],\"y\":[267.79657,271.1398],\"z\":[109.87159,112.19447],\"type\":\"scatter3d\"},{\"error_x\":{\"array\":[1.2825,1.2825]},\"error_y\":{\"array\":[1.2825,1.2825]},\"error_z\":{\"array\":[1.2825,1.2825]},\"hovertemplate\":\"0=293.0<br>1=%{x}<br>2=%{y}<br>3=%{z}<extra></extra>\",\"legendgroup\":\"\",\"line\":{\"color\":\"#636efa\",\"dash\":\"solid\"},\"marker\":{\"symbol\":\"circle\"},\"mode\":\"lines\",\"name\":\"\",\"scene\":\"scene\",\"showlegend\":false,\"x\":[16.953663,16.815336],\"y\":[271.1398,273.13397],\"z\":[112.19447,115.732834],\"type\":\"scatter3d\"},{\"error_x\":{\"array\":[1.4725,1.4725]},\"error_y\":{\"array\":[1.4725,1.4725]},\"error_z\":{\"array\":[1.4725,1.4725]},\"hovertemplate\":\"0=294.0<br>1=%{x}<br>2=%{y}<br>3=%{z}<extra></extra>\",\"legendgroup\":\"\",\"line\":{\"color\":\"#636efa\",\"dash\":\"solid\"},\"marker\":{\"symbol\":\"circle\"},\"mode\":\"lines\",\"name\":\"\",\"scene\":\"scene\",\"showlegend\":false,\"x\":[16.815336,16.141363],\"y\":[273.13397,277.23608],\"z\":[115.732834,117.724434],\"type\":\"scatter3d\"},{\"error_x\":{\"array\":[0.76,0.76]},\"error_y\":{\"array\":[0.76,0.76]},\"error_z\":{\"array\":[0.76,0.76]},\"hovertemplate\":\"0=295.0<br>1=%{x}<br>2=%{y}<br>3=%{z}<extra></extra>\",\"legendgroup\":\"\",\"line\":{\"color\":\"#636efa\",\"dash\":\"solid\"},\"marker\":{\"symbol\":\"circle\"},\"mode\":\"lines\",\"name\":\"\",\"scene\":\"scene\",\"showlegend\":false,\"x\":[16.141363,13.691125],\"y\":[277.23608,280.22812],\"z\":[117.724434,120.08463],\"type\":\"scatter3d\"},{\"error_x\":{\"array\":[0.83125,0.83125]},\"error_y\":{\"array\":[0.83125,0.83125]},\"error_z\":{\"array\":[0.83125,0.83125]},\"hovertemplate\":\"0=296.0<br>1=%{x}<br>2=%{y}<br>3=%{z}<extra></extra>\",\"legendgroup\":\"\",\"line\":{\"color\":\"#636efa\",\"dash\":\"solid\"},\"marker\":{\"symbol\":\"circle\"},\"mode\":\"lines\",\"name\":\"\",\"scene\":\"scene\",\"showlegend\":false,\"x\":[13.691125,10.669605],\"y\":[280.22812,282.7042],\"z\":[120.08463,122.36792],\"type\":\"scatter3d\"},{\"error_x\":{\"array\":[0.83125,0.83125]},\"error_y\":{\"array\":[0.83125,0.83125]},\"error_z\":{\"array\":[0.83125,0.83125]},\"hovertemplate\":\"0=297.0<br>1=%{x}<br>2=%{y}<br>3=%{z}<extra></extra>\",\"legendgroup\":\"\",\"line\":{\"color\":\"#636efa\",\"dash\":\"solid\"},\"marker\":{\"symbol\":\"circle\"},\"mode\":\"lines\",\"name\":\"\",\"scene\":\"scene\",\"showlegend\":false,\"x\":[10.669605,10.643123],\"y\":[282.7042,284.2102],\"z\":[122.36792,126.10681],\"type\":\"scatter3d\"},{\"error_x\":{\"array\":[1.06875,1.06875]},\"error_y\":{\"array\":[1.06875,1.06875]},\"error_z\":{\"array\":[1.06875,1.06875]},\"hovertemplate\":\"0=298.0<br>1=%{x}<br>2=%{y}<br>3=%{z}<extra></extra>\",\"legendgroup\":\"\",\"line\":{\"color\":\"#636efa\",\"dash\":\"solid\"},\"marker\":{\"symbol\":\"circle\"},\"mode\":\"lines\",\"name\":\"\",\"scene\":\"scene\",\"showlegend\":false,\"x\":[10.643123,12.627056],\"y\":[284.2102,283.7833],\"z\":[126.10681,130.14641],\"type\":\"scatter3d\"},{\"error_x\":{\"array\":[0.59375,0.59375]},\"error_y\":{\"array\":[0.59375,0.59375]},\"error_z\":{\"array\":[0.59375,0.59375]},\"hovertemplate\":\"0=299.0<br>1=%{x}<br>2=%{y}<br>3=%{z}<extra></extra>\",\"legendgroup\":\"\",\"line\":{\"color\":\"#636efa\",\"dash\":\"solid\"},\"marker\":{\"symbol\":\"circle\"},\"mode\":\"lines\",\"name\":\"\",\"scene\":\"scene\",\"showlegend\":false,\"x\":[12.627056,15.07304],\"y\":[283.7833,282.50363],\"z\":[130.14641,133.38806],\"type\":\"scatter3d\"},{\"error_x\":{\"array\":[0.76,0.76]},\"error_y\":{\"array\":[0.76,0.76]},\"error_z\":{\"array\":[0.76,0.76]},\"hovertemplate\":\"0=300.0<br>1=%{x}<br>2=%{y}<br>3=%{z}<extra></extra>\",\"legendgroup\":\"\",\"line\":{\"color\":\"#636efa\",\"dash\":\"solid\"},\"marker\":{\"symbol\":\"circle\"},\"mode\":\"lines\",\"name\":\"\",\"scene\":\"scene\",\"showlegend\":false,\"x\":[15.07304,17.110668],\"y\":[282.50363,282.09402],\"z\":[133.38806,137.7632],\"type\":\"scatter3d\"},{\"error_x\":{\"array\":[2.565,2.565]},\"error_y\":{\"array\":[2.565,2.565]},\"error_z\":{\"array\":[2.565,2.565]},\"hovertemplate\":\"0=301.0<br>1=%{x}<br>2=%{y}<br>3=%{z}<extra></extra>\",\"legendgroup\":\"\",\"line\":{\"color\":\"#636efa\",\"dash\":\"solid\"},\"marker\":{\"symbol\":\"circle\"},\"mode\":\"lines\",\"name\":\"\",\"scene\":\"scene\",\"showlegend\":false,\"x\":[91.10209,90.979774],\"y\":[155.57063,157.86743],\"z\":[50.56924,46.93153],\"type\":\"scatter3d\"},{\"error_x\":{\"array\":[2.565,2.565]},\"error_y\":{\"array\":[2.565,2.565]},\"error_z\":{\"array\":[2.565,2.565]},\"hovertemplate\":\"0=302.0<br>1=%{x}<br>2=%{y}<br>3=%{z}<extra></extra>\",\"legendgroup\":\"\",\"line\":{\"color\":\"#636efa\",\"dash\":\"solid\"},\"marker\":{\"symbol\":\"circle\"},\"mode\":\"lines\",\"name\":\"\",\"scene\":\"scene\",\"showlegend\":false,\"x\":[90.979774,90.25381],\"y\":[157.86743,159.91464],\"z\":[46.93153,42.693325],\"type\":\"scatter3d\"},{\"error_x\":{\"array\":[2.8975,2.8975]},\"error_y\":{\"array\":[2.8975,2.8975]},\"error_z\":{\"array\":[2.8975,2.8975]},\"hovertemplate\":\"0=303.0<br>1=%{x}<br>2=%{y}<br>3=%{z}<extra></extra>\",\"legendgroup\":\"\",\"line\":{\"color\":\"#636efa\",\"dash\":\"solid\"},\"marker\":{\"symbol\":\"circle\"},\"mode\":\"lines\",\"name\":\"\",\"scene\":\"scene\",\"showlegend\":false,\"x\":[90.25381,90.393196],\"y\":[159.91464,162.628],\"z\":[42.693325,38.816696],\"type\":\"scatter3d\"},{\"error_x\":{\"array\":[2.25625,2.25625]},\"error_y\":{\"array\":[2.25625,2.25625]},\"error_z\":{\"array\":[2.25625,2.25625]},\"hovertemplate\":\"0=304.0<br>1=%{x}<br>2=%{y}<br>3=%{z}<extra></extra>\",\"legendgroup\":\"\",\"line\":{\"color\":\"#636efa\",\"dash\":\"solid\"},\"marker\":{\"symbol\":\"circle\"},\"mode\":\"lines\",\"name\":\"\",\"scene\":\"scene\",\"showlegend\":false,\"x\":[90.393196,89.74766],\"y\":[162.628,166.03432],\"z\":[38.816696,36.070965],\"type\":\"scatter3d\"},{\"error_x\":{\"array\":[2.1375,2.1375]},\"error_y\":{\"array\":[2.1375,2.1375]},\"error_z\":{\"array\":[2.1375,2.1375]},\"hovertemplate\":\"0=305.0<br>1=%{x}<br>2=%{y}<br>3=%{z}<extra></extra>\",\"legendgroup\":\"\",\"line\":{\"color\":\"#636efa\",\"dash\":\"solid\"},\"marker\":{\"symbol\":\"circle\"},\"mode\":\"lines\",\"name\":\"\",\"scene\":\"scene\",\"showlegend\":false,\"x\":[89.74766,89.703545],\"y\":[166.03432,168.28944],\"z\":[36.070965,31.969234],\"type\":\"scatter3d\"},{\"error_x\":{\"array\":[2.1375,2.1375]},\"error_y\":{\"array\":[2.1375,2.1375]},\"error_z\":{\"array\":[2.1375,2.1375]},\"hovertemplate\":\"0=306.0<br>1=%{x}<br>2=%{y}<br>3=%{z}<extra></extra>\",\"legendgroup\":\"\",\"line\":{\"color\":\"#636efa\",\"dash\":\"solid\"},\"marker\":{\"symbol\":\"circle\"},\"mode\":\"lines\",\"name\":\"\",\"scene\":\"scene\",\"showlegend\":false,\"x\":[89.703545,89.854904],\"y\":[168.28944,170.59843],\"z\":[31.969234,28.42177],\"type\":\"scatter3d\"},{\"error_x\":{\"array\":[2.1375,2.1375]},\"error_y\":{\"array\":[2.1375,2.1375]},\"error_z\":{\"array\":[2.1375,2.1375]},\"hovertemplate\":\"0=307.0<br>1=%{x}<br>2=%{y}<br>3=%{z}<extra></extra>\",\"legendgroup\":\"\",\"line\":{\"color\":\"#636efa\",\"dash\":\"solid\"},\"marker\":{\"symbol\":\"circle\"},\"mode\":\"lines\",\"name\":\"\",\"scene\":\"scene\",\"showlegend\":false,\"x\":[89.854904,89.94455],\"y\":[170.59843,174.18173],\"z\":[28.42177,25.377699],\"type\":\"scatter3d\"},{\"error_x\":{\"array\":[1.78125,1.78125]},\"error_y\":{\"array\":[1.78125,1.78125]},\"error_z\":{\"array\":[1.78125,1.78125]},\"hovertemplate\":\"0=308.0<br>1=%{x}<br>2=%{y}<br>3=%{z}<extra></extra>\",\"legendgroup\":\"\",\"line\":{\"color\":\"#636efa\",\"dash\":\"solid\"},\"marker\":{\"symbol\":\"circle\"},\"mode\":\"lines\",\"name\":\"\",\"scene\":\"scene\",\"showlegend\":false,\"x\":[89.94455,88.498055],\"y\":[174.18173,176.93137],\"z\":[25.377699,22.301847],\"type\":\"scatter3d\"},{\"error_x\":{\"array\":[2.09,2.09]},\"error_y\":{\"array\":[2.09,2.09]},\"error_z\":{\"array\":[2.09,2.09]},\"hovertemplate\":\"0=309.0<br>1=%{x}<br>2=%{y}<br>3=%{z}<extra></extra>\",\"legendgroup\":\"\",\"line\":{\"color\":\"#636efa\",\"dash\":\"solid\"},\"marker\":{\"symbol\":\"circle\"},\"mode\":\"lines\",\"name\":\"\",\"scene\":\"scene\",\"showlegend\":false,\"x\":[88.498055,87.88923],\"y\":[176.93137,180.49149],\"z\":[22.301847,18.905098],\"type\":\"scatter3d\"},{\"error_x\":{\"array\":[2.6125,2.6125]},\"error_y\":{\"array\":[2.6125,2.6125]},\"error_z\":{\"array\":[2.6125,2.6125]},\"hovertemplate\":\"0=310.0<br>1=%{x}<br>2=%{y}<br>3=%{z}<extra></extra>\",\"legendgroup\":\"\",\"line\":{\"color\":\"#636efa\",\"dash\":\"solid\"},\"marker\":{\"symbol\":\"circle\"},\"mode\":\"lines\",\"name\":\"\",\"scene\":\"scene\",\"showlegend\":false,\"x\":[87.88923,86.65285],\"y\":[180.49149,183.41428],\"z\":[18.905098,16.172737],\"type\":\"scatter3d\"}],                        {\"template\":{\"data\":{\"bar\":[{\"error_x\":{\"color\":\"#2a3f5f\"},\"error_y\":{\"color\":\"#2a3f5f\"},\"marker\":{\"line\":{\"color\":\"#E5ECF6\",\"width\":0.5},\"pattern\":{\"fillmode\":\"overlay\",\"size\":10,\"solidity\":0.2}},\"type\":\"bar\"}],\"barpolar\":[{\"marker\":{\"line\":{\"color\":\"#E5ECF6\",\"width\":0.5},\"pattern\":{\"fillmode\":\"overlay\",\"size\":10,\"solidity\":0.2}},\"type\":\"barpolar\"}],\"carpet\":[{\"aaxis\":{\"endlinecolor\":\"#2a3f5f\",\"gridcolor\":\"white\",\"linecolor\":\"white\",\"minorgridcolor\":\"white\",\"startlinecolor\":\"#2a3f5f\"},\"baxis\":{\"endlinecolor\":\"#2a3f5f\",\"gridcolor\":\"white\",\"linecolor\":\"white\",\"minorgridcolor\":\"white\",\"startlinecolor\":\"#2a3f5f\"},\"type\":\"carpet\"}],\"choropleth\":[{\"colorbar\":{\"outlinewidth\":0,\"ticks\":\"\"},\"type\":\"choropleth\"}],\"contour\":[{\"colorbar\":{\"outlinewidth\":0,\"ticks\":\"\"},\"colorscale\":[[0.0,\"#0d0887\"],[0.1111111111111111,\"#46039f\"],[0.2222222222222222,\"#7201a8\"],[0.3333333333333333,\"#9c179e\"],[0.4444444444444444,\"#bd3786\"],[0.5555555555555556,\"#d8576b\"],[0.6666666666666666,\"#ed7953\"],[0.7777777777777778,\"#fb9f3a\"],[0.8888888888888888,\"#fdca26\"],[1.0,\"#f0f921\"]],\"type\":\"contour\"}],\"contourcarpet\":[{\"colorbar\":{\"outlinewidth\":0,\"ticks\":\"\"},\"type\":\"contourcarpet\"}],\"heatmap\":[{\"colorbar\":{\"outlinewidth\":0,\"ticks\":\"\"},\"colorscale\":[[0.0,\"#0d0887\"],[0.1111111111111111,\"#46039f\"],[0.2222222222222222,\"#7201a8\"],[0.3333333333333333,\"#9c179e\"],[0.4444444444444444,\"#bd3786\"],[0.5555555555555556,\"#d8576b\"],[0.6666666666666666,\"#ed7953\"],[0.7777777777777778,\"#fb9f3a\"],[0.8888888888888888,\"#fdca26\"],[1.0,\"#f0f921\"]],\"type\":\"heatmap\"}],\"heatmapgl\":[{\"colorbar\":{\"outlinewidth\":0,\"ticks\":\"\"},\"colorscale\":[[0.0,\"#0d0887\"],[0.1111111111111111,\"#46039f\"],[0.2222222222222222,\"#7201a8\"],[0.3333333333333333,\"#9c179e\"],[0.4444444444444444,\"#bd3786\"],[0.5555555555555556,\"#d8576b\"],[0.6666666666666666,\"#ed7953\"],[0.7777777777777778,\"#fb9f3a\"],[0.8888888888888888,\"#fdca26\"],[1.0,\"#f0f921\"]],\"type\":\"heatmapgl\"}],\"histogram\":[{\"marker\":{\"pattern\":{\"fillmode\":\"overlay\",\"size\":10,\"solidity\":0.2}},\"type\":\"histogram\"}],\"histogram2d\":[{\"colorbar\":{\"outlinewidth\":0,\"ticks\":\"\"},\"colorscale\":[[0.0,\"#0d0887\"],[0.1111111111111111,\"#46039f\"],[0.2222222222222222,\"#7201a8\"],[0.3333333333333333,\"#9c179e\"],[0.4444444444444444,\"#bd3786\"],[0.5555555555555556,\"#d8576b\"],[0.6666666666666666,\"#ed7953\"],[0.7777777777777778,\"#fb9f3a\"],[0.8888888888888888,\"#fdca26\"],[1.0,\"#f0f921\"]],\"type\":\"histogram2d\"}],\"histogram2dcontour\":[{\"colorbar\":{\"outlinewidth\":0,\"ticks\":\"\"},\"colorscale\":[[0.0,\"#0d0887\"],[0.1111111111111111,\"#46039f\"],[0.2222222222222222,\"#7201a8\"],[0.3333333333333333,\"#9c179e\"],[0.4444444444444444,\"#bd3786\"],[0.5555555555555556,\"#d8576b\"],[0.6666666666666666,\"#ed7953\"],[0.7777777777777778,\"#fb9f3a\"],[0.8888888888888888,\"#fdca26\"],[1.0,\"#f0f921\"]],\"type\":\"histogram2dcontour\"}],\"mesh3d\":[{\"colorbar\":{\"outlinewidth\":0,\"ticks\":\"\"},\"type\":\"mesh3d\"}],\"parcoords\":[{\"line\":{\"colorbar\":{\"outlinewidth\":0,\"ticks\":\"\"}},\"type\":\"parcoords\"}],\"pie\":[{\"automargin\":true,\"type\":\"pie\"}],\"scatter\":[{\"marker\":{\"colorbar\":{\"outlinewidth\":0,\"ticks\":\"\"}},\"type\":\"scatter\"}],\"scatter3d\":[{\"line\":{\"colorbar\":{\"outlinewidth\":0,\"ticks\":\"\"}},\"marker\":{\"colorbar\":{\"outlinewidth\":0,\"ticks\":\"\"}},\"type\":\"scatter3d\"}],\"scattercarpet\":[{\"marker\":{\"colorbar\":{\"outlinewidth\":0,\"ticks\":\"\"}},\"type\":\"scattercarpet\"}],\"scattergeo\":[{\"marker\":{\"colorbar\":{\"outlinewidth\":0,\"ticks\":\"\"}},\"type\":\"scattergeo\"}],\"scattergl\":[{\"marker\":{\"colorbar\":{\"outlinewidth\":0,\"ticks\":\"\"}},\"type\":\"scattergl\"}],\"scattermapbox\":[{\"marker\":{\"colorbar\":{\"outlinewidth\":0,\"ticks\":\"\"}},\"type\":\"scattermapbox\"}],\"scatterpolar\":[{\"marker\":{\"colorbar\":{\"outlinewidth\":0,\"ticks\":\"\"}},\"type\":\"scatterpolar\"}],\"scatterpolargl\":[{\"marker\":{\"colorbar\":{\"outlinewidth\":0,\"ticks\":\"\"}},\"type\":\"scatterpolargl\"}],\"scatterternary\":[{\"marker\":{\"colorbar\":{\"outlinewidth\":0,\"ticks\":\"\"}},\"type\":\"scatterternary\"}],\"surface\":[{\"colorbar\":{\"outlinewidth\":0,\"ticks\":\"\"},\"colorscale\":[[0.0,\"#0d0887\"],[0.1111111111111111,\"#46039f\"],[0.2222222222222222,\"#7201a8\"],[0.3333333333333333,\"#9c179e\"],[0.4444444444444444,\"#bd3786\"],[0.5555555555555556,\"#d8576b\"],[0.6666666666666666,\"#ed7953\"],[0.7777777777777778,\"#fb9f3a\"],[0.8888888888888888,\"#fdca26\"],[1.0,\"#f0f921\"]],\"type\":\"surface\"}],\"table\":[{\"cells\":{\"fill\":{\"color\":\"#EBF0F8\"},\"line\":{\"color\":\"white\"}},\"header\":{\"fill\":{\"color\":\"#C8D4E3\"},\"line\":{\"color\":\"white\"}},\"type\":\"table\"}]},\"layout\":{\"annotationdefaults\":{\"arrowcolor\":\"#2a3f5f\",\"arrowhead\":0,\"arrowwidth\":1},\"autotypenumbers\":\"strict\",\"coloraxis\":{\"colorbar\":{\"outlinewidth\":0,\"ticks\":\"\"}},\"colorscale\":{\"diverging\":[[0,\"#8e0152\"],[0.1,\"#c51b7d\"],[0.2,\"#de77ae\"],[0.3,\"#f1b6da\"],[0.4,\"#fde0ef\"],[0.5,\"#f7f7f7\"],[0.6,\"#e6f5d0\"],[0.7,\"#b8e186\"],[0.8,\"#7fbc41\"],[0.9,\"#4d9221\"],[1,\"#276419\"]],\"sequential\":[[0.0,\"#0d0887\"],[0.1111111111111111,\"#46039f\"],[0.2222222222222222,\"#7201a8\"],[0.3333333333333333,\"#9c179e\"],[0.4444444444444444,\"#bd3786\"],[0.5555555555555556,\"#d8576b\"],[0.6666666666666666,\"#ed7953\"],[0.7777777777777778,\"#fb9f3a\"],[0.8888888888888888,\"#fdca26\"],[1.0,\"#f0f921\"]],\"sequentialminus\":[[0.0,\"#0d0887\"],[0.1111111111111111,\"#46039f\"],[0.2222222222222222,\"#7201a8\"],[0.3333333333333333,\"#9c179e\"],[0.4444444444444444,\"#bd3786\"],[0.5555555555555556,\"#d8576b\"],[0.6666666666666666,\"#ed7953\"],[0.7777777777777778,\"#fb9f3a\"],[0.8888888888888888,\"#fdca26\"],[1.0,\"#f0f921\"]]},\"colorway\":[\"#636efa\",\"#EF553B\",\"#00cc96\",\"#ab63fa\",\"#FFA15A\",\"#19d3f3\",\"#FF6692\",\"#B6E880\",\"#FF97FF\",\"#FECB52\"],\"font\":{\"color\":\"#2a3f5f\"},\"geo\":{\"bgcolor\":\"white\",\"lakecolor\":\"white\",\"landcolor\":\"#E5ECF6\",\"showlakes\":true,\"showland\":true,\"subunitcolor\":\"white\"},\"hoverlabel\":{\"align\":\"left\"},\"hovermode\":\"closest\",\"mapbox\":{\"style\":\"light\"},\"paper_bgcolor\":\"white\",\"plot_bgcolor\":\"#E5ECF6\",\"polar\":{\"angularaxis\":{\"gridcolor\":\"white\",\"linecolor\":\"white\",\"ticks\":\"\"},\"bgcolor\":\"#E5ECF6\",\"radialaxis\":{\"gridcolor\":\"white\",\"linecolor\":\"white\",\"ticks\":\"\"}},\"scene\":{\"xaxis\":{\"backgroundcolor\":\"#E5ECF6\",\"gridcolor\":\"white\",\"gridwidth\":2,\"linecolor\":\"white\",\"showbackground\":true,\"ticks\":\"\",\"zerolinecolor\":\"white\"},\"yaxis\":{\"backgroundcolor\":\"#E5ECF6\",\"gridcolor\":\"white\",\"gridwidth\":2,\"linecolor\":\"white\",\"showbackground\":true,\"ticks\":\"\",\"zerolinecolor\":\"white\"},\"zaxis\":{\"backgroundcolor\":\"#E5ECF6\",\"gridcolor\":\"white\",\"gridwidth\":2,\"linecolor\":\"white\",\"showbackground\":true,\"ticks\":\"\",\"zerolinecolor\":\"white\"}},\"shapedefaults\":{\"line\":{\"color\":\"#2a3f5f\"}},\"ternary\":{\"aaxis\":{\"gridcolor\":\"white\",\"linecolor\":\"white\",\"ticks\":\"\"},\"baxis\":{\"gridcolor\":\"white\",\"linecolor\":\"white\",\"ticks\":\"\"},\"bgcolor\":\"#E5ECF6\",\"caxis\":{\"gridcolor\":\"white\",\"linecolor\":\"white\",\"ticks\":\"\"}},\"title\":{\"x\":0.05},\"xaxis\":{\"automargin\":true,\"gridcolor\":\"white\",\"linecolor\":\"white\",\"ticks\":\"\",\"title\":{\"standoff\":15},\"zerolinecolor\":\"white\",\"zerolinewidth\":2},\"yaxis\":{\"automargin\":true,\"gridcolor\":\"white\",\"linecolor\":\"white\",\"ticks\":\"\",\"title\":{\"standoff\":15},\"zerolinecolor\":\"white\",\"zerolinewidth\":2}}},\"scene\":{\"domain\":{\"x\":[0.0,1.0],\"y\":[0.0,1.0]},\"xaxis\":{\"title\":{\"text\":\"1\"}},\"yaxis\":{\"title\":{\"text\":\"2\"}},\"zaxis\":{\"title\":{\"text\":\"3\"}},\"camera\":{\"eye\":{\"x\":-1.4,\"y\":1.4,\"z\":0.6}}},\"legend\":{\"tracegroupgap\":0},\"margin\":{\"t\":60},\"autosize\":true,\"height\":600},                        {\"responsive\": true}                    ).then(function(){\n",
       "                            \n",
       "var gd = document.getElementById('d046ade2-9568-41f3-94eb-dc54ffc61565');\n",
       "var x = new MutationObserver(function (mutations, observer) {{\n",
       "        var display = window.getComputedStyle(gd).display;\n",
       "        if (!display || display === 'none') {{\n",
       "            console.log([gd, 'removed!']);\n",
       "            Plotly.purge(gd);\n",
       "            observer.disconnect();\n",
       "        }}\n",
       "}});\n",
       "\n",
       "// Listen for the removal of the full notebook cells\n",
       "var notebookContainer = gd.closest('#notebook-container');\n",
       "if (notebookContainer) {{\n",
       "    x.observe(notebookContainer, {childList: true});\n",
       "}}\n",
       "\n",
       "// Listen for the clearing of the current output cell\n",
       "var outputEl = gd.closest('.output');\n",
       "if (outputEl) {{\n",
       "    x.observe(outputEl, {childList: true});\n",
       "}}\n",
       "\n",
       "                        })                };                });            </script>        </div>"
      ]
     },
     "metadata": {},
     "output_type": "display_data"
    }
   ],
   "source": [
    "fig = px.line_3d(segs, x=1, y=2, z=3, error_x=4, error_y=4, error_z=4, line_group=0)\n",
    "fig.update_layout(\n",
    "    autosize=True,\n",
    "    height=600,\n",
    "    scene=dict(camera=dict(eye=dict(x=-1.4, y=1.4, z=0.6))),\n",
    "    )"
   ]
  },
  {
   "cell_type": "markdown",
   "id": "e0770bbb-1870-406b-81fd-f38fc4a58f6f",
   "metadata": {},
   "source": [
    "# Biophysics"
   ]
  },
  {
   "cell_type": "code",
   "execution_count": 8,
   "id": "9d09b523-74b8-4190-b7d1-6bda09778503",
   "metadata": {},
   "outputs": [],
   "source": [
    "if not os.path.exists('io-catalogue.so'):\n",
    "    !arbor-build-catalogue io iopublic/smol_model --cxx g++"
   ]
  },
  {
   "cell_type": "code",
   "execution_count": 10,
   "id": "9c68a7eb-c30b-475d-a8be-915e038990ee",
   "metadata": {},
   "outputs": [],
   "source": [
    "def make_decor(R=lambda x: x):\n",
    "    return (arbor.decor()\n",
    "        .paint('\"soma_group\"', arbor.density('na_s', dict(gmax=R(0.030))))\n",
    "        .paint('\"soma_group\"', arbor.density('kdr',  dict(gmax=R(0.030))))\n",
    "        .paint('\"soma_group\"', arbor.density('cal',  dict(gmax=R(0.045))))\n",
    "        .paint('\"dendrite_group\"', arbor.density('cah',  dict(gmax=R(0.010))))\n",
    "        .paint('\"dendrite_group\"', arbor.density('kca',  dict(gmax=R(0.220))))\n",
    "        .paint('\"dendrite_group\"', arbor.density('h',    dict(gmax=R(0.015))))\n",
    "        .paint('\"dendrite_group\"', arbor.density('cacc', dict(gmax=R(0.000))))\n",
    "        .paint('\"axon_group\"', arbor.density('na_a', dict(gmax=R(0.200))))\n",
    "        .paint('\"axon_group\"', arbor.density('k',    dict(gmax=R(0.200))))\n",
    "        .paint('\"soma_group\"', arbor.density('k',    dict(gmax=R(0.015))))\n",
    "        .paint('(all)',  arbor.density('leak', dict(gmax=R(1.3e-05))))\n",
    "        .set_property(cm=0.01)\n",
    "        .set_property(Vm=-R(65.0))\n",
    "        .paint('(all)', rL=100)\n",
    "        .paint('(all)', ion_name='ca', rev_pot=R(120), int_con=3.7152)\n",
    "        .paint('(all)', ion_name='na', rev_pot=R(55))\n",
    "        .paint('(all)', ion_name='k', rev_pot=-R(75))\n",
    "        .paint('(all)', arbor.density('ca_conc'))\n",
    "    )\n",
    "\n",
    "io_catalogue = arbor.load_catalogue('./io-catalogue.so')\n",
    "nml = arbor.neuroml('C51A.cell.nml').cell_morphology('C51A')\n",
    "label = arbor.label_dict()\n",
    "label.append(nml.segments())\n",
    "label.append(nml.named_segments())\n",
    "label.append(nml.groups())\n",
    "c51a_default = arbor.cable_cell(nml.morphology, make_decor(), label)"
   ]
  },
  {
   "cell_type": "markdown",
   "id": "8c6890ef-939c-4cd2-afe1-a58cedf55fc2",
   "metadata": {},
   "source": [
    "# Single cell simulation"
   ]
  },
  {
   "cell_type": "code",
   "execution_count": 26,
   "id": "75396207-7aff-4ac2-ae78-4c4833b110e2",
   "metadata": {},
   "outputs": [
    {
     "data": {
      "application/vnd.plotly.v1+json": {
       "config": {
        "plotlyServerURL": "https://plot.ly"
       },
       "data": [
        {
         "hovertemplate": "t/ms=%{x}<br>U/mV=%{y}<extra></extra>",
         "legendgroup": "",
         "line": {
          "color": "#636efa",
          "dash": "solid"
         },
         "marker": {
          "symbol": "circle"
         },
         "mode": "lines",
         "name": "",
         "showlegend": false,
         "type": "scattergl",
         "x": [
          0,
          0.9750000000000005,
          1.999999999999997,
          2.9999999999999933,
          3.99999999999999,
          4.975000000000003,
          5.975000000000017,
          6.975000000000032,
          7.975000000000046,
          8.97500000000006,
          9.975000000000074,
          10.975000000000088,
          11.975000000000103,
          12.975000000000117,
          13.975000000000131,
          14.975000000000145,
          15.97500000000016,
          16.975000000000104,
          17.975000000000048,
          18.99999999999999,
          19.999999999999932,
          20.999999999999876,
          21.99999999999982,
          22.999999999999762,
          23.999999999999705,
          24.99999999999965,
          25.99999999999959,
          26.999999999999535,
          27.999999999999478,
          28.99999999999942,
          29.999999999999364,
          30.999999999999307,
          31.99999999999925,
          32.9999999999992,
          33.99999999999914,
          34.99999999999908,
          35.99999999999903,
          36.99999999999897,
          37.99999999999891,
          38.999999999998856,
          39.9999999999988,
          40.99999999999874,
          41.999999999998685,
          42.99999999999863,
          43.99999999999857,
          44.999999999998515,
          45.99999999999846,
          46.9999999999984,
          47.999999999998344,
          48.99999999999829,
          49.99999999999823,
          50.999999999998174,
          51.99999999999812,
          52.99999999999806,
          53.999999999998,
          54.99999999999795,
          55.99999999999789,
          56.99999999999783,
          57.999999999997776,
          58.99999999999772,
          59.99999999999766,
          60.999999999997605,
          61.99999999999755,
          62.99999999999749,
          63.999999999997435,
          64.99999999999766,
          65.99999999999788,
          66.99999999999811,
          67.99999999999834,
          68.99999999999856,
          69.99999999999879,
          70.99999999999902,
          71.99999999999925,
          72.99999999999947,
          73.9999999999997,
          74.99999999999993,
          75.97500000000015,
          76.97500000000038,
          77.9750000000006,
          78.97500000000083,
          79.97500000000106,
          80.97500000000129,
          81.97500000000151,
          82.97500000000174,
          83.97500000000197,
          84.9750000000022,
          85.97500000000242,
          86.97500000000265,
          87.97500000000288,
          88.9750000000031,
          89.97500000000333,
          90.97500000000356,
          91.97500000000379,
          92.97500000000402,
          93.97500000000424,
          94.97500000000447,
          95.9750000000047,
          96.97500000000493,
          97.97500000000515,
          98.97500000000538,
          99.97500000000561,
          100.97500000000583,
          101.97500000000606,
          102.97500000000629,
          103.97500000000652,
          104.97500000000674,
          105.97500000000697,
          106.9750000000072,
          107.97500000000743,
          108.97500000000765,
          109.97500000000788,
          110.97500000000811,
          111.97500000000834,
          112.97500000000856,
          113.97500000000879,
          114.97500000000902,
          115.97500000000925,
          116.97500000000947,
          117.9750000000097,
          118.97500000000993,
          119.97500000001016,
          120.97500000001038,
          121.97500000001061,
          122.97500000001084,
          123.97500000001106,
          124.97500000001129,
          125.97500000001152,
          126.97500000001175,
          127.97500000001197,
          128.9750000000122,
          129.97500000001241,
          130.97500000001264,
          131.97500000001287,
          132.9750000000131,
          133.97500000001332,
          134.97500000001355,
          135.97500000001378,
          136.975000000014,
          137.97500000001423,
          138.97500000001446,
          139.9750000000147,
          140.97500000001492,
          141.97500000001514,
          142.97500000001537,
          143.9750000000156,
          144.97500000001583,
          145.97500000001605,
          146.97500000001628,
          147.9750000000165,
          148.97500000001673,
          149.97500000001696,
          150.9750000000172,
          151.97500000001742,
          152.97500000001764,
          153.97500000001787,
          154.9750000000181,
          155.97500000001833,
          156.97500000001855,
          157.97500000001878,
          158.975000000019,
          159.97500000001924,
          160.97500000001946,
          161.9750000000197,
          162.97500000001992,
          163.97500000002015,
          164.97500000002037,
          165.9750000000206,
          166.97500000002083,
          167.97500000002105,
          168.97500000002128,
          169.9750000000215,
          170.97500000002174,
          171.97500000002196,
          172.9750000000222,
          173.97500000002242,
          174.97500000002265,
          175.97500000002287,
          176.9750000000231,
          177.97500000002333,
          178.97500000002356,
          179.97500000002378,
          180.975000000024,
          181.97500000002424,
          182.97500000002447,
          183.9750000000247,
          184.97500000002492,
          185.97500000002515,
          186.97500000002537,
          187.9750000000256,
          188.97500000002583,
          189.97500000002606,
          190.97500000002628,
          191.9750000000265,
          192.97500000002674,
          193.97500000002697,
          194.9750000000272,
          195.97500000002742,
          196.97500000002765,
          197.97500000002788,
          198.9750000000281,
          199.97500000002833,
          200.97500000002856,
          201.97500000002879,
          202.975000000029,
          203.97500000002924,
          204.97500000002947,
          205.9750000000297,
          206.97500000002992,
          207.97500000003015,
          208.97500000003038,
          209.9750000000306,
          210.97500000003083,
          211.97500000003106,
          212.9750000000313,
          213.9750000000315,
          214.97500000003174,
          215.97500000003197,
          216.9750000000322,
          217.97500000003242,
          218.97500000003265,
          219.97500000003288,
          220.9750000000331,
          221.97500000003333,
          222.97500000003356,
          223.9750000000338,
          224.97500000003402,
          225.97500000003424,
          226.97500000003447,
          227.9750000000347,
          228.97500000003492,
          229.97500000003515,
          230.97500000003538,
          231.9750000000356,
          232.97500000003583,
          233.97500000003606,
          234.9750000000363,
          235.97500000003652,
          236.97500000003674,
          237.97500000003697,
          238.9750000000372,
          239.97500000003743,
          240.97500000003765,
          241.97500000003788,
          242.9750000000381,
          243.97500000003834,
          244.97500000003856,
          245.9750000000388,
          246.97500000003902,
          247.97500000003924,
          248.97500000003947,
          249.9750000000397,
          250.97500000003993,
          251.97500000004015,
          252.97500000004038,
          253.9750000000406,
          254.97500000004084,
          255.97500000004106,
          256.97500000004015,
          257.97500000003924,
          258.97500000003834,
          259.9750000000374,
          260.9750000000365,
          261.9750000000356,
          262.9750000000347,
          263.9750000000338,
          264.9750000000329,
          265.97500000003197,
          266.97500000003106,
          267.97500000003015,
          268.97500000002924,
          269.97500000002833,
          270.9750000000274,
          271.9750000000265,
          272.9750000000256,
          273.9750000000247,
          274.9750000000238,
          275.9750000000229,
          276.97500000002196,
          277.97500000002105,
          278.97500000002015,
          279.97500000001924,
          280.9750000000183,
          281.9750000000174,
          282.9750000000165,
          283.9750000000156,
          284.9750000000147,
          285.9750000000138,
          286.97500000001287,
          287.97500000001196,
          288.97500000001105,
          289.97500000001014,
          290.97500000000923,
          291.9750000000083,
          292.9750000000074,
          293.9750000000065,
          294.9750000000056,
          295.9750000000047,
          296.9750000000038,
          297.97500000000286,
          298.97500000000196,
          299.97500000000105,
          300.97500000000014,
          301.9999999999992,
          302.9999999999983,
          303.9999999999974,
          304.9999999999965,
          305.99999999999557,
          306.99999999999466,
          307.99999999999375,
          308.99999999999284,
          309.9999999999919,
          310.999999999991,
          311.9999999999901,
          312.9999999999892,
          313.9999999999883,
          314.9999999999874,
          315.99999999998647,
          316.99999999998556,
          317.99999999998465,
          318.99999999998374,
          319.99999999998283,
          320.9999999999819,
          321.999999999981,
          322.9999999999801,
          323.9999999999792,
          324.9999999999783,
          325.9999999999774,
          326.99999999997647,
          327.99999999997556,
          328.99999999997465,
          329.99999999997374,
          330.99999999997283,
          331.9999999999719,
          332.999999999971,
          333.9999999999701,
          334.9999999999692,
          335.9999999999683,
          336.9999999999674,
          337.99999999996646,
          338.99999999996555,
          339.99999999996464,
          340.99999999996373,
          341.9999999999628,
          342.9999999999619,
          343.999999999961,
          344.9999999999601,
          345.9999999999592,
          346.9999999999583,
          347.99999999995737,
          348.99999999995646,
          349.99999999995555,
          350.99999999995464,
          351.99999999995373,
          352.9999999999528,
          353.9999999999519,
          354.999999999951,
          355.9999999999501,
          356.9999999999492,
          357.9999999999483,
          358.99999999994736,
          359.99999999994645,
          360.99999999994554,
          361.99999999994463,
          362.9999999999437,
          363.9999999999428,
          364.9999999999419,
          365.999999999941,
          366.9999999999401,
          367.9999999999392,
          368.99999999993827,
          369.99999999993736,
          370.99999999993645,
          371.99999999993554,
          372.99999999993463,
          373.9999999999337,
          374.9999999999328,
          375.9999999999319,
          376.999999999931,
          377.9999999999301,
          378.9999999999292,
          379.99999999992826,
          380.99999999992735,
          381.99999999992644,
          382.99999999992554,
          383.9999999999246,
          384.9999999999237,
          385.9999999999228,
          386.9999999999219,
          387.999999999921,
          388.9999999999201,
          389.99999999991917,
          390.99999999991826,
          391.99999999991735,
          392.99999999991644,
          393.99999999991553,
          394.9999999999146,
          395.9999999999137,
          396.9999999999128,
          397.9999999999119,
          398.999999999911,
          399.9999999999101,
          400.99999999990916,
          401.99999999990825,
          402.99999999990735,
          403.99999999990644,
          404.9999999999055,
          405.9999999999046,
          406.9999999999037,
          407.9999999999028,
          408.9999999999019,
          409.999999999901,
          410.99999999990007,
          411.99999999989916,
          412.99999999989825,
          413.99999999989734,
          414.99999999989643,
          415.9999999998955,
          416.9999999998946,
          417.9999999998937,
          418.9999999998928,
          419.9999999998919,
          420.999999999891,
          421.99999999989006,
          422.99999999988916,
          423.99999999988825,
          424.99999999988734,
          425.9999999998864,
          426.9999999998855,
          427.9999999998846,
          428.9999999998837,
          429.9999999998828,
          430.9999999998819,
          431.99999999988097,
          432.99999999988006,
          433.99999999987915,
          434.99999999987824,
          435.99999999987733,
          436.9999999998764,
          437.9999999998755,
          438.9999999998746,
          439.9999999998737,
          440.9999999998728,
          441.9999999998719,
          442.99999999987097,
          443.99999999987006,
          444.99999999986915,
          445.99999999986824,
          446.9999999998673,
          447.9999999998664,
          448.9999999998655,
          449.9999999998646,
          450.9999999998637,
          451.9999999998628,
          452.99999999986187,
          453.99999999986096,
          454.99999999986005,
          455.99999999985914,
          456.99999999985823,
          457.9999999998573,
          458.9999999998564,
          459.9999999998555,
          460.9999999998546,
          461.9999999998537,
          462.9999999998528,
          463.99999999985187,
          464.99999999985096,
          465.99999999985005,
          466.99999999984914,
          467.9999999998482,
          468.9999999998473,
          469.9999999998464,
          470.9999999998455,
          471.9999999998446,
          472.9999999998437,
          473.99999999984277,
          474.99999999984186,
          475.99999999984095,
          476.99999999984004,
          477.99999999983913,
          478.9999999998382,
          479.9999999998373,
          480.9999999998364,
          481.9999999998355,
          482.9999999998346,
          483.9999999998337,
          484.99999999983277,
          485.99999999983186,
          486.99999999983095,
          487.99999999983004,
          488.99999999982913,
          489.9999999998282,
          490.9999999998273,
          491.9999999998264,
          492.9999999998255,
          493.9999999998246,
          494.9999999998237,
          495.99999999982276,
          496.99999999982185,
          497.99999999982094,
          498.99999999982003,
          499.9999999998191,
          500.9999999998182,
          501.9999999998173,
          502.9999999998164,
          503.9999999998155,
          504.9999999998146,
          505.99999999981367,
          506.99999999981276,
          507.99999999981185,
          508.99999999981094,
          509.99999999981003,
          510.9999999998091,
          511.9999999998082,
          512.9999999998073,
          513.9999999998064,
          514.9999999998055,
          515.9999999998046,
          516.9999999998037,
          517.9999999998028,
          518.9999999998018,
          519.9999999998009,
          520.9999999998,
          521.9999999997991,
          522.9999999997982,
          523.9999999997973,
          524.9999999997964,
          525.9999999997955,
          526.9999999997946,
          527.9999999997937,
          528.9999999997927,
          529.9999999997918,
          530.9999999997909,
          531.99999999979,
          532.9999999997891,
          533.9999999997882,
          534.9999999997873,
          535.9999999997864,
          536.9999999997855,
          537.9999999997846,
          538.9999999997837,
          539.9999999997827,
          540.9999999997818,
          541.9999999997809,
          542.99999999978,
          543.9999999997791,
          544.9999999997782,
          545.9999999997773,
          546.9999999997764,
          547.9999999997755,
          548.9999999997746,
          549.9999999997736,
          550.9999999997727,
          551.9999999997718,
          552.9999999997709,
          553.99999999977,
          554.9999999997691,
          555.9999999997682,
          556.9999999997673,
          557.9999999997664,
          558.9999999997655,
          559.9999999997646,
          560.9999999997636,
          561.9999999997627,
          562.9999999997618,
          563.9999999997609,
          564.99999999976,
          565.9999999997591,
          566.9999999997582,
          567.9999999997573,
          568.9999999997564,
          569.9999999997555,
          570.9999999997546,
          571.9999999997536,
          572.9999999997527,
          573.9999999997518,
          574.9999999997509,
          575.99999999975,
          576.9999999997491,
          577.9999999997482,
          578.9999999997473,
          579.9999999997464,
          580.9999999997455,
          581.9999999997445,
          582.9999999997436,
          583.9999999997427,
          584.9999999997418,
          585.9999999997409,
          586.99999999974,
          587.9999999997391,
          588.9999999997382,
          589.9999999997373,
          590.9999999997364,
          591.9999999997355,
          592.9999999997345,
          593.9999999997336,
          594.9999999997327,
          595.9999999997318,
          596.9999999997309,
          597.99999999973,
          598.9999999997291,
          599.9999999997282,
          600.9999999997273,
          601.9999999997264,
          602.9999999997254,
          603.9999999997245,
          604.9999999997236,
          605.9999999997227,
          606.9999999997218,
          607.9999999997209,
          608.99999999972,
          609.9999999997191,
          610.9999999997182,
          611.9999999997173,
          612.9999999997164,
          613.9999999997154,
          614.9999999997145,
          615.9999999997136,
          616.9999999997127,
          617.9999999997118,
          618.9999999997109,
          619.99999999971,
          620.9999999997091,
          621.9999999997082,
          622.9999999997073,
          623.9999999997063,
          624.9999999997054,
          625.9999999997045,
          626.9999999997036,
          627.9999999997027,
          628.9999999997018,
          629.9999999997009,
          630.9999999997,
          631.9999999996991,
          632.9999999996982,
          633.9999999996973,
          634.9999999996963,
          635.9999999996954,
          636.9999999996945,
          637.9999999996936,
          638.9999999996927,
          639.9999999996918,
          640.9999999996909,
          641.99999999969,
          642.9999999996891,
          643.9999999996882,
          644.9999999996872,
          645.9999999996863,
          646.9999999996854,
          647.9999999996845,
          648.9999999996836,
          649.9999999996827,
          650.9999999996818,
          651.9999999996809,
          652.99999999968,
          653.9999999996791,
          654.9999999996782,
          655.9999999996772,
          656.9999999996763,
          657.9999999996754,
          658.9999999996745,
          659.9999999996736,
          660.9999999996727,
          661.9999999996718,
          662.9999999996709,
          663.99999999967,
          664.9999999996691,
          665.9999999996681,
          666.9999999996672,
          667.9999999996663,
          668.9999999996654,
          669.9999999996645,
          670.9999999996636,
          671.9999999996627,
          672.9999999996618,
          673.9999999996609,
          674.99999999966,
          675.999999999659,
          676.9999999996581,
          677.9999999996572,
          678.9999999996563,
          679.9999999996554,
          680.9999999996545,
          681.9999999996536,
          682.9999999996527,
          683.9999999996518,
          684.9999999996509,
          685.99999999965,
          686.999999999649,
          687.9999999996481,
          688.9999999996472,
          689.9999999996463,
          690.9999999996454,
          691.9999999996445,
          692.9999999996436,
          693.9999999996427,
          694.9999999996418,
          695.9999999996409,
          696.99999999964,
          697.999999999639,
          698.9999999996381,
          699.9999999996372,
          700.9999999996363,
          701.9999999996354,
          702.9999999996345,
          703.9999999996336,
          704.9999999996327,
          705.9999999996318,
          706.9999999996309,
          707.99999999963,
          708.999999999629,
          709.9999999996281,
          710.9999999996272,
          711.9999999996263,
          712.9999999996254,
          713.9999999996245,
          714.9999999996236,
          715.9999999996227,
          716.9999999996218,
          717.9999999996209,
          718.99999999962,
          719.999999999619,
          720.9999999996181,
          721.9999999996172,
          722.9999999996163,
          723.9999999996154,
          724.9999999996145,
          725.9999999996136,
          726.9999999996127,
          727.9999999996118,
          728.9999999996108,
          729.9999999996099,
          730.999999999609,
          731.9999999996081,
          732.9999999996072,
          733.9999999996063,
          734.9999999996054,
          735.9999999996045,
          736.9999999996036,
          737.9999999996027,
          738.9999999996018,
          739.9999999996008,
          740.9999999995999,
          741.999999999599,
          742.9999999995981,
          743.9999999995972,
          744.9999999995963,
          745.9999999995954,
          746.9999999995945,
          747.9999999995936,
          748.9999999995927,
          749.9999999995918,
          750.9999999995908,
          751.9999999995899,
          752.999999999589,
          753.9999999995881,
          754.9999999995872,
          755.9999999995863,
          756.9999999995854,
          757.9999999995845,
          758.9999999995836,
          759.9999999995827,
          760.9999999995817,
          761.9999999995808,
          762.9999999995799,
          763.999999999579,
          764.9999999995781,
          765.9999999995772,
          766.9999999995763,
          767.9999999995754,
          768.9999999995745,
          769.9999999995736,
          770.9999999995727,
          771.9999999995717,
          772.9999999995708,
          773.9999999995699,
          774.999999999569,
          775.9999999995681,
          776.9999999995672,
          777.9999999995663,
          778.9999999995654,
          779.9999999995645,
          780.9999999995636,
          781.9999999995626,
          782.9999999995617,
          783.9999999995608,
          784.9999999995599,
          785.999999999559,
          786.9999999995581,
          787.9999999995572,
          788.9999999995563,
          789.9999999995554,
          790.9999999995545,
          791.9999999995536,
          792.9999999995526,
          793.9999999995517,
          794.9999999995508,
          795.9999999995499,
          796.999999999549,
          797.9999999995481,
          798.9999999995472,
          799.9999999995463,
          800.9999999995454,
          801.9999999995445,
          802.9999999995435,
          803.9999999995426,
          804.9999999995417,
          805.9999999995408,
          806.9999999995399,
          807.999999999539,
          808.9999999995381,
          809.9999999995372,
          810.9999999995363,
          811.9999999995354,
          812.9999999995345,
          813.9999999995335,
          814.9999999995326,
          815.9999999995317,
          816.9999999995308,
          817.9999999995299,
          818.999999999529,
          819.9999999995281,
          820.9999999995272,
          821.9999999995263,
          822.9999999995254,
          823.9999999995244,
          824.9999999995235,
          825.9999999995226,
          826.9999999995217,
          827.9999999995208,
          828.9999999995199,
          829.999999999519,
          830.9999999995181,
          831.9999999995172,
          832.9999999995163,
          833.9999999995154,
          834.9999999995144,
          835.9999999995135,
          836.9999999995126,
          837.9999999995117,
          838.9999999995108,
          839.9999999995099,
          840.999999999509,
          841.9999999995081,
          842.9999999995072,
          843.9999999995063,
          844.9999999995053,
          845.9999999995044,
          846.9999999995035,
          847.9999999995026,
          848.9999999995017,
          849.9999999995008,
          850.9999999994999,
          851.999999999499,
          852.9999999994981,
          853.9999999994972,
          854.9999999994963,
          855.9999999994953,
          856.9999999994944,
          857.9999999994935,
          858.9999999994926,
          859.9999999994917,
          860.9999999994908,
          861.9999999994899,
          862.999999999489,
          863.9999999994881,
          864.9999999994872,
          865.9999999994862,
          866.9999999994853,
          867.9999999994844,
          868.9999999994835,
          869.9999999994826,
          870.9999999994817,
          871.9999999994808,
          872.9999999994799,
          873.999999999479,
          874.9999999994781,
          875.9999999994772,
          876.9999999994762,
          877.9999999994753,
          878.9999999994744,
          879.9999999994735,
          880.9999999994726,
          881.9999999994717,
          882.9999999994708,
          883.9999999994699,
          884.999999999469,
          885.9999999994681,
          886.9999999994671,
          887.9999999994662,
          888.9999999994653,
          889.9999999994644,
          890.9999999994635,
          891.9999999994626,
          892.9999999994617,
          893.9999999994608,
          894.9999999994599,
          895.999999999459,
          896.999999999458,
          897.9999999994571,
          898.9999999994562,
          899.9999999994553,
          900.9999999994544,
          901.9999999994535,
          902.9999999994526,
          903.9999999994517,
          904.9999999994508,
          905.9999999994499,
          906.999999999449,
          907.999999999448,
          908.9999999994471,
          909.9999999994462,
          910.9999999994453,
          911.9999999994444,
          912.9999999994435,
          913.9999999994426,
          914.9999999994417,
          915.9999999994408,
          916.9999999994399,
          917.999999999439,
          918.999999999438,
          919.9999999994371,
          920.9999999994362,
          921.9999999994353,
          922.9999999994344,
          923.9999999994335,
          924.9999999994326,
          925.9999999994317,
          926.9999999994308,
          927.9999999994299,
          928.999999999429,
          929.999999999428,
          930.9999999994271,
          931.9999999994262,
          932.9999999994253,
          933.9999999994244,
          934.9999999994235,
          935.9999999994226,
          936.9999999994217,
          937.9999999994208,
          938.9999999994199,
          939.999999999419,
          940.999999999418,
          941.9999999994171,
          942.9999999994162,
          943.9999999994153,
          944.9999999994144,
          945.9999999994135,
          946.9999999994126,
          947.9999999994117,
          948.9999999994108,
          949.9999999994099,
          950.9999999994089,
          951.999999999408,
          952.9999999994071,
          953.9999999994062,
          954.9999999994053,
          955.9999999994044,
          956.9999999994035,
          957.9999999994026,
          958.9999999994017,
          959.9999999994008,
          960.9999999993998,
          961.9999999993989,
          962.999999999398,
          963.9999999993971,
          964.9999999993962,
          965.9999999993953,
          966.9999999993944,
          967.9999999993935,
          968.9999999993926,
          969.9999999993917,
          970.9999999993908,
          971.9999999993898,
          972.9999999993889,
          973.999999999388,
          974.9999999993871,
          975.9999999993862,
          976.9999999993853,
          977.9999999993844,
          978.9999999993835,
          979.9999999993826,
          980.9999999993817,
          981.9999999993807,
          982.9999999993798,
          983.9999999993789,
          984.999999999378,
          985.9999999993771,
          986.9999999993762,
          987.9999999993753,
          988.9999999993744,
          989.9999999993735,
          990.9999999993726,
          991.9999999993717,
          992.9999999993707,
          993.9999999993698,
          994.9999999993689,
          995.999999999368,
          996.9999999993671,
          997.9999999993662,
          998.9999999993653,
          999.9999999993644,
          1000.9999999993635,
          1001.9999999993626,
          1002.9999999993616,
          1003.9999999993607,
          1004.9999999993598,
          1005.9999999993589,
          1006.999999999358,
          1007.9999999993571,
          1008.9999999993562,
          1009.9999999993553,
          1010.9999999993544,
          1011.9999999993535,
          1012.9999999993526,
          1013.9999999993516,
          1014.9999999993507,
          1015.9999999993498,
          1016.9999999993489,
          1017.999999999348,
          1018.9999999993471,
          1019.9999999993462,
          1020.9999999993453,
          1021.9999999993444,
          1022.9999999993435,
          1023.9999999993425,
          1024.999999999346,
          1025.9999999993497,
          1026.9999999993533,
          1027.999999999357,
          1028.9999999993606,
          1029.9999999993643,
          1030.999999999368,
          1031.9999999993715,
          1032.9999999993752,
          1033.9999999993788,
          1034.9999999993825,
          1035.999999999386,
          1036.9999999993897,
          1037.9999999993934,
          1038.999999999397,
          1039.9999999994006,
          1040.9999999994043,
          1041.999999999408,
          1042.9999999994116,
          1043.9999999994152,
          1044.9999999994188,
          1045.9999999994225,
          1046.999999999426,
          1047.9999999994297,
          1048.9999999994334,
          1049.999999999437,
          1050.9999999994407,
          1051.9999999994443,
          1052.999999999448,
          1053.9999999994516,
          1054.9999999994552,
          1055.9999999994589,
          1056.9999999994625,
          1057.9999999994661,
          1058.9999999994698,
          1059.9999999994734,
          1060.999999999477,
          1061.9999999994807,
          1062.9999999994843,
          1063.999999999488,
          1064.9999999994916,
          1065.9999999994952,
          1066.9999999994989,
          1067.9999999995025,
          1068.9999999995061,
          1069.9999999995098,
          1070.9999999995134,
          1071.999999999517,
          1072.9999999995207,
          1073.9999999995243,
          1074.999999999528,
          1075.9999999995316,
          1076.9999999995352,
          1077.9999999995389,
          1078.9999999995425,
          1079.9999999995462,
          1080.9999999995498,
          1081.9999999995534,
          1082.999999999557,
          1083.9999999995607,
          1084.9999999995644,
          1085.999999999568,
          1086.9999999995716,
          1087.9999999995753,
          1088.999999999579,
          1089.9999999995825,
          1090.9999999995862,
          1091.9999999995898,
          1092.9999999995935,
          1093.999999999597,
          1094.9999999996007,
          1095.9999999996044,
          1096.999999999608,
          1097.9999999996116,
          1098.9999999996153,
          1099.999999999619,
          1100.9999999996226,
          1101.9999999996262,
          1102.9999999996298,
          1103.9999999996335,
          1104.999999999637,
          1105.9999999996407,
          1106.9999999996444,
          1107.999999999648,
          1108.9999999996517,
          1109.9999999996553,
          1110.999999999659,
          1111.9999999996626,
          1112.9999999996662,
          1113.9999999996699,
          1114.9999999996735,
          1115.9999999996771,
          1116.9999999996808,
          1117.9999999996844,
          1118.999999999688,
          1119.9999999996917,
          1120.9999999996953,
          1121.999999999699,
          1122.9999999997026,
          1123.9999999997062,
          1124.9999999997099,
          1125.9999999997135,
          1126.9999999997171,
          1127.9999999997208,
          1128.9999999997244,
          1129.999999999728,
          1130.9999999997317,
          1131.9999999997353,
          1132.999999999739,
          1133.9999999997426,
          1134.9999999997463,
          1135.99999999975,
          1136.9999999997535,
          1137.9999999997572,
          1138.9999999997608,
          1139.9999999997644,
          1140.999999999768,
          1141.9999999997717,
          1142.9999999997754,
          1143.999999999779,
          1144.9999999997826,
          1145.9999999997863,
          1146.99999999979,
          1147.9999999997935,
          1148.9999999997972,
          1149.9999999998008,
          1150.9999999998045,
          1151.999999999808,
          1152.9999999998117,
          1153.9999999998154,
          1154.999999999819,
          1155.9999999998226,
          1156.9999999998263,
          1157.99999999983,
          1158.9999999998336,
          1159.9999999998372,
          1160.9999999998408,
          1161.9999999998445,
          1162.9999999998481,
          1163.9999999998518,
          1164.9999999998554,
          1165.999999999859,
          1166.9999999998627,
          1167.9999999998663,
          1168.99999999987,
          1169.9999999998736,
          1170.9999999998772,
          1171.9999999998809,
          1172.9999999998845,
          1173.9999999998881,
          1174.9999999998918,
          1175.9999999998954,
          1176.999999999899,
          1177.9999999999027,
          1178.9999999999063,
          1179.99999999991,
          1180.9999999999136,
          1181.9999999999172,
          1182.9999999999209,
          1183.9999999999245,
          1184.9999999999281,
          1185.9999999999318,
          1186.9999999999354,
          1187.999999999939,
          1188.9999999999427,
          1189.9999999999463,
          1190.99999999995,
          1191.9999999999536,
          1192.9999999999573,
          1193.999999999961,
          1194.9999999999645,
          1195.9999999999682,
          1196.9999999999718,
          1197.9999999999754,
          1198.999999999979,
          1199.9999999999827,
          1200.9999999999864,
          1201.99999999999,
          1202.9999999999936,
          1203.9999999999973,
          1204.9750000000008,
          1205.9750000000045,
          1206.975000000008,
          1207.9750000000117,
          1208.9750000000154,
          1209.975000000019,
          1210.9750000000226,
          1211.9750000000263,
          1212.97500000003,
          1213.9750000000336,
          1214.9750000000372,
          1215.9750000000408,
          1216.9750000000445,
          1217.975000000048,
          1218.9750000000518,
          1219.9750000000554,
          1220.975000000059,
          1221.9750000000627,
          1222.9750000000663,
          1223.97500000007,
          1224.9750000000736,
          1225.9750000000772,
          1226.9750000000809,
          1227.9750000000845,
          1228.9750000000881,
          1229.9750000000918,
          1230.9750000000954,
          1231.975000000099,
          1232.9750000001027,
          1233.9750000001063,
          1234.97500000011,
          1235.9750000001136,
          1236.9750000001172,
          1237.9750000001209,
          1238.9750000001245,
          1239.9750000001281,
          1240.9750000001318,
          1241.9750000001354,
          1242.975000000139,
          1243.9750000001427,
          1244.9750000001463,
          1245.97500000015,
          1246.9750000001536,
          1247.9750000001573,
          1248.975000000161,
          1249.9750000001645,
          1250.9750000001682,
          1251.9750000001718,
          1252.9750000001754,
          1253.975000000179,
          1254.9750000001827,
          1255.9750000001864,
          1256.97500000019,
          1257.9750000001936,
          1258.9750000001973,
          1259.975000000201,
          1260.9750000002045,
          1261.9750000002082,
          1262.9750000002118,
          1263.9750000002155,
          1264.975000000219,
          1265.9750000002227,
          1266.9750000002264,
          1267.97500000023,
          1268.9750000002336,
          1269.9750000002373,
          1270.975000000241,
          1271.9750000002446,
          1272.9750000002482,
          1273.9750000002518,
          1274.9750000002555,
          1275.9750000002591,
          1276.9750000002628,
          1277.9750000002664,
          1278.97500000027,
          1279.9750000002737,
          1280.9750000002773,
          1281.975000000281,
          1282.9750000002846,
          1283.9750000002882,
          1284.9750000002919,
          1285.9750000002955,
          1286.9750000002991,
          1287.9750000003028,
          1288.9750000003064,
          1289.97500000031,
          1290.9750000003137,
          1291.9750000003173,
          1292.975000000321,
          1293.9750000003246,
          1294.9750000003282,
          1295.9750000003319,
          1296.9750000003355,
          1297.9750000003392,
          1298.9750000003428,
          1299.9750000003464,
          1300.97500000035,
          1301.9750000003537,
          1302.9750000003573,
          1303.975000000361,
          1304.9750000003646,
          1305.9750000003683,
          1306.975000000372,
          1307.9750000003755,
          1308.9750000003792,
          1309.9750000003828,
          1310.9750000003864,
          1311.97500000039,
          1312.9750000003937,
          1313.9750000003974,
          1314.975000000401,
          1315.9750000004046,
          1316.9750000004083,
          1317.975000000412,
          1318.9750000004155,
          1319.9750000004192,
          1320.9750000004228,
          1321.9750000004265,
          1322.97500000043,
          1323.9750000004337,
          1324.9750000004374,
          1325.975000000441,
          1326.9750000004447,
          1327.9750000004483,
          1328.975000000452,
          1329.9750000004556,
          1330.9750000004592,
          1331.9750000004628,
          1332.9750000004665,
          1333.9750000004701,
          1334.9750000004738,
          1335.9750000004774,
          1336.975000000481,
          1337.9750000004847,
          1338.9750000004883,
          1339.975000000492,
          1340.9750000004956,
          1341.9750000004992,
          1342.9750000005029,
          1343.9750000005065,
          1344.9750000005101,
          1345.9750000005138,
          1346.9750000005174,
          1347.975000000521,
          1348.9750000005247,
          1349.9750000005283,
          1350.975000000532,
          1351.9750000005356,
          1352.9750000005392,
          1353.9750000005429,
          1354.9750000005465,
          1355.9750000005502,
          1356.9750000005538,
          1357.9750000005574,
          1358.975000000561,
          1359.9750000005647,
          1360.9750000005683,
          1361.975000000572,
          1362.9750000005756,
          1363.9750000005793,
          1364.975000000583,
          1365.9750000005865,
          1366.9750000005902,
          1367.9750000005938,
          1368.9750000005974,
          1369.975000000601,
          1370.9750000006047,
          1371.9750000006084,
          1372.975000000612,
          1373.9750000006156,
          1374.9750000006193,
          1375.975000000623,
          1376.9750000006266,
          1377.9750000006302,
          1378.9750000006338,
          1379.9750000006375,
          1380.975000000641,
          1381.9750000006447,
          1382.9750000006484,
          1383.975000000652,
          1384.9750000006557,
          1385.9750000006593,
          1386.975000000663,
          1387.9750000006666,
          1388.9750000006702,
          1389.9750000006738,
          1390.9750000006775,
          1391.9750000006811,
          1392.9750000006848,
          1393.9750000006884,
          1394.975000000692,
          1395.9750000006957,
          1396.9750000006993,
          1397.975000000703,
          1398.9750000007066,
          1399.9750000007102,
          1400.9750000007139,
          1401.9750000007175,
          1402.9750000007211,
          1403.9750000007248,
          1404.9750000007284,
          1405.975000000732,
          1406.9750000007357,
          1407.9750000007393,
          1408.975000000743,
          1409.9750000007466,
          1410.9750000007502,
          1411.9750000007539,
          1412.9750000007575,
          1413.9750000007612,
          1414.9750000007648,
          1415.9750000007684,
          1416.975000000772,
          1417.9750000007757,
          1418.9750000007793,
          1419.975000000783,
          1420.9750000007866,
          1421.9750000007903,
          1422.975000000794,
          1423.9750000007975,
          1424.9750000008012,
          1425.9750000008048,
          1426.9750000008084,
          1427.975000000812,
          1428.9750000008157,
          1429.9750000008194,
          1430.975000000823,
          1431.9750000008266,
          1432.9750000008303,
          1433.975000000834,
          1434.9750000008376,
          1435.9750000008412,
          1436.9750000008448,
          1437.9750000008485,
          1438.975000000852,
          1439.9750000008557,
          1440.9750000008594,
          1441.975000000863,
          1442.9750000008667,
          1443.9750000008703,
          1444.975000000874,
          1445.9750000008776,
          1446.9750000008812,
          1447.9750000008848,
          1448.9750000008885,
          1449.9750000008921,
          1450.9750000008958,
          1451.9750000008994,
          1452.975000000903,
          1453.9750000009067,
          1454.9750000009103,
          1455.975000000914,
          1456.9750000009176,
          1457.9750000009212,
          1458.9750000009249,
          1459.9750000009285,
          1460.9750000009321,
          1461.9750000009358,
          1462.9750000009394,
          1463.975000000943,
          1464.9750000009467,
          1465.9750000009503,
          1466.975000000954,
          1467.9750000009576,
          1468.9750000009612,
          1469.9750000009649,
          1470.9750000009685,
          1471.9750000009722,
          1472.9750000009758,
          1473.9750000009794,
          1474.975000000983,
          1475.9750000009867,
          1476.9750000009903,
          1477.975000000994,
          1478.9750000009976,
          1479.9750000010013,
          1480.975000001005,
          1481.9750000010085,
          1482.9750000010122,
          1483.9750000010158,
          1484.9750000010195,
          1485.975000001023,
          1486.9750000010267,
          1487.9750000010304,
          1488.975000001034,
          1489.9750000010376,
          1490.9750000010413,
          1491.975000001045,
          1492.9750000010486,
          1493.9750000010522,
          1494.9750000010558,
          1495.9750000010595,
          1496.975000001063,
          1497.9750000010667,
          1498.9750000010704,
          1499.975000001074,
          1500.9750000010777,
          1501.9750000010813,
          1502.975000001085,
          1503.9750000010886,
          1504.9750000010922,
          1505.9750000010959,
          1506.9750000010995,
          1507.9750000011031,
          1508.9750000011068,
          1509.9750000011104,
          1510.975000001114,
          1511.9750000011177,
          1512.9750000011213,
          1513.975000001125,
          1514.9750000011286,
          1515.9750000011322,
          1516.9750000011359,
          1517.9750000011395,
          1518.9750000011431,
          1519.9750000011468,
          1520.9750000011504,
          1521.975000001154,
          1522.9750000011577,
          1523.9750000011613,
          1524.975000001165,
          1525.9750000011686,
          1526.9750000011722,
          1527.9750000011759,
          1528.9750000011795,
          1529.9750000011832,
          1530.9750000011868,
          1531.9750000011904,
          1532.975000001194,
          1533.9750000011977,
          1534.9750000012014,
          1535.975000001205,
          1536.9750000012086,
          1537.9750000012123,
          1538.975000001216,
          1539.9750000012195,
          1540.9750000012232,
          1541.9750000012268,
          1542.9750000012305,
          1543.975000001234,
          1544.9750000012377,
          1545.9750000012414,
          1546.975000001245,
          1547.9750000012486,
          1548.9750000012523,
          1549.975000001256,
          1550.9750000012596,
          1551.9750000012632,
          1552.9750000012668,
          1553.9750000012705,
          1554.975000001274,
          1555.9750000012777,
          1556.9750000012814,
          1557.975000001285,
          1558.9750000012887,
          1559.9750000012923,
          1560.975000001296,
          1561.9750000012996,
          1562.9750000013032,
          1563.9750000013069,
          1564.9750000013105,
          1565.9750000013141,
          1566.9750000013178,
          1567.9750000013214,
          1568.975000001325,
          1569.9750000013287,
          1570.9750000013323,
          1571.975000001336,
          1572.9750000013396,
          1573.9750000013432,
          1574.9750000013469,
          1575.9750000013505,
          1576.9750000013541,
          1577.9750000013578,
          1578.9750000013614,
          1579.975000001365,
          1580.9750000013687,
          1581.9750000013723,
          1582.975000001376,
          1583.9750000013796,
          1584.9750000013833,
          1585.975000001387,
          1586.9750000013905,
          1587.9750000013942,
          1588.9750000013978,
          1589.9750000014014,
          1590.975000001405,
          1591.9750000014087,
          1592.9750000014124,
          1593.975000001416,
          1594.9750000014196,
          1595.9750000014233,
          1596.975000001427,
          1597.9750000014305,
          1598.9750000014342,
          1599.9750000014378,
          1600.9750000014415,
          1601.975000001445,
          1602.9750000014487,
          1603.9750000014524,
          1604.975000001456,
          1605.9750000014596,
          1606.9750000014633,
          1607.975000001467,
          1608.9750000014706,
          1609.9750000014742,
          1610.9750000014778,
          1611.9750000014815,
          1612.9750000014851,
          1613.9750000014888,
          1614.9750000014924,
          1615.975000001496,
          1616.9750000014997,
          1617.9750000015033,
          1618.975000001507,
          1619.9750000015106,
          1620.9750000015142,
          1621.9750000015179,
          1622.9750000015215,
          1623.9750000015251,
          1624.9750000015288,
          1625.9750000015324,
          1626.975000001536,
          1627.9750000015397,
          1628.9750000015433,
          1629.975000001547,
          1630.9750000015506,
          1631.9750000015542,
          1632.9750000015579,
          1633.9750000015615,
          1634.9750000015651,
          1635.9750000015688,
          1636.9750000015724,
          1637.975000001576,
          1638.9750000015797,
          1639.9750000015833,
          1640.975000001587,
          1641.9750000015906,
          1642.9750000015943,
          1643.975000001598,
          1644.9750000016015,
          1645.9750000016052,
          1646.9750000016088,
          1647.9750000016124,
          1648.975000001616,
          1649.9750000016197,
          1650.9750000016234,
          1651.975000001627,
          1652.9750000016306,
          1653.9750000016343,
          1654.975000001638,
          1655.9750000016415,
          1656.9750000016452,
          1657.9750000016488,
          1658.9750000016525,
          1659.975000001656,
          1660.9750000016597,
          1661.9750000016634,
          1662.975000001667,
          1663.9750000016707,
          1664.9750000016743,
          1665.975000001678,
          1666.9750000016816,
          1667.9750000016852,
          1668.9750000016888,
          1669.9750000016925,
          1670.9750000016961,
          1671.9750000016998,
          1672.9750000017034,
          1673.975000001707,
          1674.9750000017107,
          1675.9750000017143,
          1676.975000001718,
          1677.9750000017216,
          1678.9750000017252,
          1679.9750000017289,
          1680.9750000017325,
          1681.9750000017361,
          1682.9750000017398,
          1683.9750000017434,
          1684.975000001747,
          1685.9750000017507,
          1686.9750000017543,
          1687.975000001758,
          1688.9750000017616,
          1689.9750000017652,
          1690.9750000017689,
          1691.9750000017725,
          1692.9750000017762,
          1693.9750000017798,
          1694.9750000017834,
          1695.975000001787,
          1696.9750000017907,
          1697.9750000017943,
          1698.975000001798,
          1699.9750000018016,
          1700.9750000018053,
          1701.975000001809,
          1702.9750000018125,
          1703.9750000018162,
          1704.9750000018198,
          1705.9750000018234,
          1706.975000001827,
          1707.9750000018307,
          1708.9750000018344,
          1709.975000001838,
          1710.9750000018416,
          1711.9750000018453,
          1712.975000001849,
          1713.9750000018525,
          1714.9750000018562,
          1715.9750000018598,
          1716.9750000018635,
          1717.975000001867,
          1718.9750000018707,
          1719.9750000018744,
          1720.975000001878,
          1721.9750000018817,
          1722.9750000018853,
          1723.975000001889,
          1724.9750000018926,
          1725.9750000018962,
          1726.9750000018998,
          1727.9750000019035,
          1728.9750000019071,
          1729.9750000019108,
          1730.9750000019144,
          1731.975000001918,
          1732.9750000019217,
          1733.9750000019253,
          1734.975000001929,
          1735.9750000019326,
          1736.9750000019362,
          1737.9750000019399,
          1738.9750000019435,
          1739.9750000019471,
          1740.9750000019508,
          1741.9750000019544,
          1742.975000001958,
          1743.9750000019617,
          1744.9750000019653,
          1745.975000001969,
          1746.9750000019726,
          1747.9750000019762,
          1748.9750000019799,
          1749.9750000019835,
          1750.9750000019872,
          1751.9750000019908,
          1752.9750000019944,
          1753.975000001998,
          1754.9750000020017,
          1755.9750000020053,
          1756.975000002009,
          1757.9750000020126,
          1758.9750000020163,
          1759.97500000202,
          1760.9750000020235,
          1761.9750000020272,
          1762.9750000020308,
          1763.9750000020344,
          1764.975000002038,
          1765.9750000020417,
          1766.9750000020454,
          1767.975000002049,
          1768.9750000020526,
          1769.9750000020563,
          1770.97500000206,
          1771.9750000020636,
          1772.9750000020672,
          1773.9750000020708,
          1774.9750000020745,
          1775.975000002078,
          1776.9750000020817,
          1777.9750000020854,
          1778.975000002089,
          1779.9750000020927,
          1780.9750000020963,
          1781.9750000021,
          1782.9750000021036,
          1783.9750000021072,
          1784.9750000021108,
          1785.9750000021145,
          1786.9750000021181,
          1787.9750000021218,
          1788.9750000021254,
          1789.975000002129,
          1790.9750000021327,
          1791.9750000021363,
          1792.97500000214,
          1793.9750000021436,
          1794.9750000021472,
          1795.9750000021509,
          1796.9750000021545,
          1797.9750000021581,
          1798.9750000021618,
          1799.9750000021654,
          1800.975000002169,
          1801.9750000021727,
          1802.9750000021763,
          1803.97500000218,
          1804.9750000021836,
          1805.9750000021872,
          1806.9750000021909,
          1807.9750000021945,
          1808.9750000021982,
          1809.9750000022018,
          1810.9750000022054,
          1811.975000002209,
          1812.9750000022127,
          1813.9750000022163,
          1814.97500000222,
          1815.9750000022236,
          1816.9750000022273,
          1817.975000002231,
          1818.9750000022345,
          1819.9750000022382,
          1820.9750000022418,
          1821.9750000022455,
          1822.975000002249,
          1823.9750000022527,
          1824.9750000022564,
          1825.97500000226,
          1826.9750000022636,
          1827.9750000022673,
          1828.975000002271,
          1829.9750000022746,
          1830.9750000022782,
          1831.9750000022818,
          1832.9750000022855,
          1833.975000002289,
          1834.9750000022927,
          1835.9750000022964,
          1836.9750000023,
          1837.9750000023037,
          1838.9750000023073,
          1839.975000002311,
          1840.9750000023146,
          1841.9750000023182,
          1842.9750000023218,
          1843.9750000023255,
          1844.9750000023291,
          1845.9750000023328,
          1846.9750000023364,
          1847.97500000234,
          1848.9750000023437,
          1849.9750000023473,
          1850.975000002351,
          1851.9750000023546,
          1852.9750000023582,
          1853.9750000023619,
          1854.9750000023655,
          1855.9750000023691,
          1856.9750000023728,
          1857.9750000023764,
          1858.97500000238,
          1859.9750000023837,
          1860.9750000023873,
          1861.975000002391,
          1862.9750000023946,
          1863.9750000023982,
          1864.9750000024019,
          1865.9750000024055,
          1866.9750000024092,
          1867.9750000024128,
          1868.9750000024164,
          1869.97500000242,
          1870.9750000024237,
          1871.9750000024274,
          1872.975000002431,
          1873.9750000024346,
          1874.9750000024383,
          1875.975000002442,
          1876.9750000024455,
          1877.9750000024492,
          1878.9750000024528,
          1879.9750000024565,
          1880.97500000246,
          1881.9750000024637,
          1882.9750000024674,
          1883.975000002471,
          1884.9750000024746,
          1885.9750000024783,
          1886.975000002482,
          1887.9750000024856,
          1888.9750000024892,
          1889.9750000024928,
          1890.9750000024965,
          1891.9750000025,
          1892.9750000025037,
          1893.9750000025074,
          1894.975000002511,
          1895.9750000025147,
          1896.9750000025183,
          1897.975000002522,
          1898.9750000025256,
          1899.9750000025292,
          1900.9750000025329,
          1901.9750000025365,
          1902.9750000025401,
          1903.9750000025438,
          1904.9750000025474,
          1905.975000002551,
          1906.9750000025547,
          1907.9750000025583,
          1908.975000002562,
          1909.9750000025656,
          1910.9750000025692,
          1911.9750000025729,
          1912.9750000025765,
          1913.9750000025801,
          1914.9750000025838,
          1915.9750000025874,
          1916.975000002591,
          1917.9750000025947,
          1918.9750000025983,
          1919.975000002602,
          1920.9750000026056,
          1921.9750000026092,
          1922.975000002613,
          1923.9750000026165,
          1924.9750000026202,
          1925.9750000026238,
          1926.9750000026274,
          1927.975000002631,
          1928.9750000026347,
          1929.9750000026384,
          1930.975000002642,
          1931.9750000026456,
          1932.9750000026493,
          1933.975000002653,
          1934.9750000026565,
          1935.9750000026602,
          1936.9750000026638,
          1937.9750000026675,
          1938.975000002671,
          1939.9750000026747,
          1940.9750000026784,
          1941.975000002682,
          1942.9750000026856,
          1943.9750000026893,
          1944.975000002693,
          1945.9750000026966,
          1946.9750000027002,
          1947.9750000027038,
          1948.9750000027075,
          1949.975000002711,
          1950.9750000027148,
          1951.9750000027184,
          1952.975000002722,
          1953.9750000027257,
          1954.9750000027293,
          1955.975000002733,
          1956.9750000027366,
          1957.9750000027402,
          1958.9750000027439,
          1959.9750000027475,
          1960.9750000027511,
          1961.9750000027548,
          1962.9750000027584,
          1963.975000002762,
          1964.9750000027657,
          1965.9750000027693,
          1966.975000002773,
          1967.9750000027766,
          1968.9750000027802,
          1969.9750000027839,
          1970.9750000027875,
          1971.9750000027911,
          1972.9750000027948,
          1973.9750000027984,
          1974.975000002802,
          1975.9750000028057,
          1976.9750000028093,
          1977.975000002813,
          1978.9750000028166,
          1979.9750000028203,
          1980.975000002824,
          1981.9750000028275,
          1982.9750000028312,
          1983.9750000028348,
          1984.9750000028384,
          1985.975000002842,
          1986.9750000028457,
          1987.9750000028494,
          1988.975000002853,
          1989.9750000028566,
          1990.9750000028603,
          1991.975000002864,
          1992.9750000028675,
          1993.9750000028712,
          1994.9750000028748,
          1995.9750000028785,
          1996.975000002882,
          1997.9750000028857,
          1998.9750000028894,
          1999.975000002893,
          2000.9750000028966,
          2001.9750000029003,
          2002.975000002904,
          2003.9750000029076,
          2004.9750000029112,
          2005.9750000029148,
          2006.9750000029185,
          2007.9750000029221,
          2008.9750000029258,
          2009.9750000029294,
          2010.975000002933,
          2011.9750000029367,
          2012.9750000029403,
          2013.975000002944,
          2014.9750000029476,
          2015.9750000029512,
          2016.9750000029549,
          2017.9750000029585,
          2018.9750000029621,
          2019.9750000029658,
          2020.9750000029694,
          2021.975000002973,
          2022.9750000029767,
          2023.9750000029803,
          2024.975000002984,
          2025.9750000029876,
          2026.9750000029912,
          2027.9750000029949,
          2028.9750000029985,
          2029.9750000030022,
          2030.9750000030058,
          2031.9750000030094,
          2032.975000003013,
          2033.9750000030167,
          2034.9750000030203,
          2035.975000003024,
          2036.9750000030276,
          2037.9750000030313,
          2038.975000003035,
          2039.9750000030385,
          2040.9750000030422,
          2041.9750000030458,
          2042.9750000030494,
          2043.975000003053,
          2044.9750000030567,
          2045.9750000030604,
          2046.975000003064,
          2047.9750000030676,
          2048.9750000030713,
          2049.975000003075,
          2050.9750000030785,
          2051.975000003082,
          2052.975000003086,
          2053.9750000030895,
          2054.975000003093,
          2055.9750000030967,
          2056.9750000031004,
          2057.975000003104,
          2058.9750000031077,
          2059.9750000031113,
          2060.975000003115,
          2061.9750000031186,
          2062.975000003122,
          2063.975000003126,
          2064.9750000031295,
          2065.975000003133,
          2066.9750000031368,
          2067.9750000031404,
          2068.975000003144,
          2069.9750000031477,
          2070.9750000031513,
          2071.975000003155,
          2072.9750000031586,
          2073.975000003162,
          2074.975000003166,
          2075.9750000031695,
          2076.975000003173,
          2077.975000003177,
          2078.9750000031804,
          2079.975000003184,
          2080.9750000031877,
          2081.9750000031913,
          2082.975000003195,
          2083.9750000031986,
          2084.9750000032022,
          2085.975000003206,
          2086.9750000032095,
          2087.975000003213,
          2088.975000003217,
          2089.9750000032204,
          2090.975000003224,
          2091.9750000032277,
          2092.9750000032313,
          2093.975000003235,
          2094.9750000032386,
          2095.9750000032423,
          2096.975000003246,
          2097.9750000032495,
          2098.975000003253,
          2099.975000003257,
          2100.9750000032604,
          2101.975000003264,
          2102.9750000032677,
          2103.9750000032714,
          2104.975000003275,
          2105.9750000032786,
          2106.9750000032823,
          2107.975000003286,
          2108.9750000032896,
          2109.975000003293,
          2110.975000003297,
          2111.9750000033005,
          2112.975000003304,
          2113.9750000033077,
          2114.9750000033114,
          2115.975000003315,
          2116.9750000033187,
          2117.9750000033223,
          2118.975000003326,
          2119.9750000033296,
          2120.975000003333,
          2121.975000003337,
          2122.9750000033405,
          2123.975000003344,
          2124.9750000033478,
          2125.9750000033514,
          2126.975000003355,
          2127.9750000033587,
          2128.9750000033623,
          2129.975000003366,
          2130.9750000033696,
          2131.975000003373,
          2132.975000003377,
          2133.9750000033805,
          2134.975000003384,
          2135.975000003388,
          2136.9750000033914,
          2137.975000003395,
          2138.9750000033987,
          2139.9750000034023,
          2140.975000003406,
          2141.9750000034096,
          2142.9750000034132,
          2143.975000003417,
          2144.9750000034205,
          2145.975000003424,
          2146.975000003428,
          2147.9750000034314,
          2148.975000003435,
          2149.9750000034387,
          2150.9750000034423,
          2151.975000003446,
          2152.9750000034496,
          2153.9750000034533,
          2154.975000003457,
          2155.9750000034605,
          2156.975000003464,
          2157.975000003468,
          2158.9750000034715,
          2159.975000003475,
          2160.9750000034787,
          2161.9750000034824,
          2162.975000003486,
          2163.9750000034896,
          2164.9750000034933,
          2165.975000003497,
          2166.9750000035006,
          2167.975000003504,
          2168.975000003508,
          2169.9750000035115,
          2170.975000003515,
          2171.9750000035187,
          2172.9750000035224,
          2173.975000003526,
          2174.9750000035297,
          2175.9750000035333,
          2176.975000003537,
          2177.9750000035406,
          2178.975000003544,
          2179.975000003548,
          2180.9750000035515,
          2181.975000003555,
          2182.9750000035588,
          2183.9750000035624,
          2184.975000003566,
          2185.9750000035697,
          2186.9750000035733,
          2187.975000003577,
          2188.9750000035806,
          2189.9750000035842,
          2190.975000003588,
          2191.9750000035915,
          2192.975000003595,
          2193.975000003599,
          2194.9750000036024,
          2195.975000003606,
          2196.9750000036097,
          2197.9750000036133,
          2198.975000003617,
          2199.9750000036206,
          2200.9750000036242,
          2201.975000003628,
          2202.9750000036315,
          2203.975000003635,
          2204.975000003639,
          2205.9750000036424,
          2206.975000003646,
          2207.9750000036497,
          2208.9750000036533,
          2209.975000003657,
          2210.9750000036606,
          2211.9750000036643,
          2212.975000003668,
          2213.9750000036715,
          2214.975000003675,
          2215.975000003679,
          2216.9750000036825,
          2217.975000003686,
          2218.9750000036897,
          2219.9750000036934,
          2220.975000003697,
          2221.9750000037006,
          2222.9750000037043,
          2223.975000003708,
          2224.9750000037116,
          2225.975000003715,
          2226.975000003719,
          2227.9750000037225,
          2228.975000003726,
          2229.9750000037297,
          2230.9750000037334,
          2231.975000003737,
          2232.9750000037407,
          2233.9750000037443,
          2234.975000003748,
          2235.9750000037516,
          2236.975000003755,
          2237.975000003759,
          2238.9750000037625,
          2239.975000003766,
          2240.9750000037698,
          2241.9750000037734,
          2242.975000003777,
          2243.9750000037807,
          2244.9750000037843,
          2245.975000003788,
          2246.9750000037916,
          2247.9750000037952,
          2248.975000003799,
          2249.9750000038025,
          2250.975000003806,
          2251.97500000381,
          2252.9750000038134,
          2253.975000003817,
          2254.9750000038207,
          2255.9750000038243,
          2256.975000003828,
          2257.9750000038316,
          2258.9750000038352,
          2259.975000003839,
          2260.9750000038425,
          2261.975000003846,
          2262.97500000385,
          2263.9750000038534,
          2264.975000003857,
          2265.9750000038607,
          2266.9750000038644,
          2267.975000003868,
          2268.9750000038716,
          2269.9750000038753,
          2270.975000003879,
          2271.9750000038825,
          2272.975000003886,
          2273.97500000389,
          2274.9750000038935,
          2275.975000003897,
          2276.9750000039007,
          2277.9750000039044,
          2278.975000003908,
          2279.9750000039116,
          2280.9750000039153,
          2281.975000003919,
          2282.9750000039226,
          2283.975000003926,
          2284.97500000393,
          2285.9750000039335,
          2286.975000003937,
          2287.9750000039407,
          2288.9750000039444,
          2289.975000003948,
          2290.9750000039517,
          2291.9750000039553,
          2292.975000003959,
          2293.9750000039626,
          2294.975000003966,
          2295.97500000397,
          2296.9750000039735,
          2297.975000003977,
          2298.9750000039808,
          2299.9750000039844,
          2300.975000003988,
          2301.9750000039917,
          2302.9750000039953,
          2303.975000003999,
          2304.9750000040026,
          2305.9750000040062,
          2306.97500000401,
          2307.9750000040135,
          2308.975000004017,
          2309.975000004021,
          2310.9750000040244,
          2311.975000004028,
          2312.9750000040317,
          2313.9750000040353,
          2314.975000004039,
          2315.9750000040426,
          2316.9750000040463,
          2317.97500000405,
          2318.9750000040535,
          2319.975000004057,
          2320.975000004061,
          2321.9750000040644,
          2322.975000004068,
          2323.9750000040717,
          2324.9750000040754,
          2325.975000004079,
          2326.9750000040826,
          2327.9750000040863,
          2328.97500000409,
          2329.9750000040935,
          2330.975000004097,
          2331.975000004101,
          2332.9750000041045,
          2333.975000004108,
          2334.9750000041117,
          2335.9750000041154,
          2336.975000004119,
          2337.9750000041226,
          2338.9750000041263,
          2339.97500000413,
          2340.9750000041336,
          2341.975000004137,
          2342.975000004141,
          2343.9750000041445,
          2344.975000004148,
          2345.9750000041518,
          2346.9750000041554,
          2347.975000004159,
          2348.9750000041627,
          2349.9750000041663,
          2350.97500000417,
          2351.9750000041736,
          2352.975000004177,
          2353.975000004181,
          2354.9750000041845,
          2355.975000004188,
          2356.9750000041918,
          2357.9750000041954,
          2358.975000004199,
          2359.9750000042027,
          2360.9750000042063,
          2361.97500000421,
          2362.9750000042136,
          2363.9750000042172,
          2364.975000004221,
          2365.9750000042245,
          2366.975000004228,
          2367.975000004232,
          2368.9750000042354,
          2369.975000004239,
          2370.9750000042427,
          2371.9750000042463,
          2372.97500000425,
          2373.9750000042536,
          2374.9750000042573,
          2375.975000004261,
          2376.9750000042645,
          2377.975000004268,
          2378.975000004272,
          2379.9750000042754,
          2380.975000004279,
          2381.9750000042827,
          2382.9750000042864,
          2383.97500000429,
          2384.9750000042936,
          2385.9750000042973,
          2386.975000004301,
          2387.9750000043045,
          2388.975000004308,
          2389.975000004312,
          2390.9750000043155,
          2391.975000004319,
          2392.9750000043227,
          2393.9750000043264,
          2394.97500000433,
          2395.9750000043337,
          2396.9750000043373,
          2397.975000004341,
          2398.9750000043446,
          2399.975000004348,
          2400.975000004352,
          2401.9750000043555,
          2402.975000004359,
          2403.9750000043628,
          2404.9750000043664,
          2405.97500000437,
          2406.9750000043737,
          2407.9750000043773,
          2408.975000004381,
          2409.9750000043846,
          2410.975000004388,
          2411.975000004392,
          2412.9750000043955,
          2413.975000004399,
          2414.975000004403,
          2415.9750000044064,
          2416.97500000441,
          2417.9750000044137,
          2418.9750000044173,
          2419.975000004421,
          2420.9750000044246,
          2421.9750000044282,
          2422.975000004432,
          2423.9750000044355,
          2424.975000004439,
          2425.975000004443,
          2426.9750000044464,
          2427.97500000445,
          2428.9750000044537,
          2429.9750000044573,
          2430.975000004461,
          2431.9750000044646,
          2432.9750000044683,
          2433.975000004472,
          2434.9750000044755,
          2435.975000004479,
          2436.975000004483,
          2437.9750000044864,
          2438.97500000449,
          2439.9750000044937,
          2440.9750000044974,
          2441.975000004501,
          2442.9750000045046,
          2443.9750000045083,
          2444.975000004512,
          2445.9750000045156,
          2446.975000004519,
          2447.975000004523,
          2448.9750000045265,
          2449.97500000453,
          2450.9750000045337,
          2451.9750000045374,
          2452.975000004541,
          2453.9750000045447,
          2454.9750000045483,
          2455.975000004552,
          2456.9750000045556,
          2457.975000004559,
          2458.975000004563,
          2459.9750000045665,
          2460.97500000457,
          2461.9750000045738,
          2462.9750000045774,
          2463.975000004581,
          2464.9750000045847,
          2465.9750000045883,
          2466.975000004592,
          2467.9750000045956,
          2468.975000004599,
          2469.975000004603,
          2470.9750000046065,
          2471.97500000461,
          2472.975000004614,
          2473.9750000046174,
          2474.975000004621,
          2475.9750000046247,
          2476.9750000046283,
          2477.975000004632,
          2478.9750000046356,
          2479.9750000046392,
          2480.975000004643,
          2481.9750000046465,
          2482.97500000465,
          2483.975000004654,
          2484.9750000046574,
          2485.975000004661,
          2486.9750000046647,
          2487.9750000046683,
          2488.975000004672,
          2489.9750000046756,
          2490.9750000046793,
          2491.975000004683,
          2492.9750000046865,
          2493.97500000469,
          2494.975000004694,
          2495.9750000046974,
          2496.975000004701,
          2497.9750000047047,
          2498.9750000047084,
          2499.975000004712,
          2500.9750000047156,
          2501.9750000047193,
          2502.975000004723,
          2503.9750000047266,
          2504.97500000473,
          2505.975000004734,
          2506.9750000047375,
          2507.975000004741,
          2508.9750000047447,
          2509.9750000047484,
          2510.975000004752,
          2511.9750000047557,
          2512.9750000047593,
          2513.975000004763,
          2514.9750000047666,
          2515.97500000477,
          2516.975000004774,
          2517.9750000047775,
          2518.975000004781,
          2519.9750000047848,
          2520.9750000047884,
          2521.975000004792,
          2522.9750000047957,
          2523.9750000047993,
          2524.975000004803,
          2525.9750000048066,
          2526.97500000481,
          2527.975000004814,
          2528.9750000048175,
          2529.975000004821,
          2530.975000004825,
          2531.9750000048284,
          2532.975000004832,
          2533.9750000048357,
          2534.9750000048393,
          2535.975000004843,
          2536.9750000048466,
          2537.9750000048502,
          2538.975000004854,
          2539.9750000048575,
          2540.975000004861,
          2541.975000004865,
          2542.9750000048684,
          2543.975000004872,
          2544.9750000048757,
          2545.9750000048793,
          2546.975000004883,
          2547.9750000048866,
          2548.9750000048903,
          2549.975000004894,
          2550.9750000048975,
          2551.975000004901,
          2552.975000004905,
          2553.9750000049085,
          2554.975000004912,
          2555.9750000049157,
          2556.9750000049194,
          2557.975000004923,
          2558.9750000049266,
          2559.9750000049303,
          2560.975000004934,
          2561.9750000049376,
          2562.975000004941,
          2563.975000004945,
          2564.9750000049485,
          2565.975000004952,
          2566.9750000049557,
          2567.9750000049594,
          2568.975000004963,
          2569.9750000049667,
          2570.9750000049703,
          2571.975000004974,
          2572.9750000049776,
          2573.975000004981,
          2574.975000004985,
          2575.9750000049885,
          2576.975000004992,
          2577.9750000049958,
          2578.9750000049994,
          2579.975000005003,
          2580.9750000050067,
          2581.9750000050103,
          2582.975000005014,
          2583.9750000050176,
          2584.9750000050212,
          2585.975000005025,
          2586.9750000050285,
          2587.975000005032,
          2588.975000005036,
          2589.9750000050394,
          2590.975000005043,
          2591.9750000050467,
          2592.9750000050503,
          2593.975000005054,
          2594.9750000050576,
          2595.9750000050612,
          2596.975000005065,
          2597.9750000050685,
          2598.975000005072,
          2599.975000005076,
          2600.9750000050794,
          2601.975000005083,
          2602.9750000050867,
          2603.9750000050904,
          2604.975000005094,
          2605.9750000050976,
          2606.9750000051013,
          2607.975000005105,
          2608.9750000051085,
          2609.975000005112,
          2610.975000005116,
          2611.9750000051195,
          2612.975000005123,
          2613.9750000051267,
          2614.9750000051304,
          2615.975000005134,
          2616.9750000051376,
          2617.9750000051413,
          2618.975000005145,
          2619.9750000051486,
          2620.975000005152,
          2621.975000005156,
          2622.9750000051595,
          2623.975000005163,
          2624.9750000051667,
          2625.9750000051704,
          2626.975000005174,
          2627.9750000051777,
          2628.9750000051813,
          2629.975000005185,
          2630.9750000051886,
          2631.975000005192,
          2632.975000005196,
          2633.9750000051995,
          2634.975000005203,
          2635.9750000052068,
          2636.9750000052104,
          2637.975000005214,
          2638.9750000052177,
          2639.9750000052213,
          2640.975000005225,
          2641.9750000052286,
          2642.9750000052322,
          2643.975000005236,
          2644.9750000052395,
          2645.975000005243,
          2646.975000005247,
          2647.9750000052504,
          2648.975000005254,
          2649.9750000052577,
          2650.9750000052613,
          2651.975000005265,
          2652.9750000052686,
          2653.9750000052722,
          2654.975000005276,
          2655.9750000052795,
          2656.975000005283,
          2657.975000005287,
          2658.9750000052904,
          2659.975000005294,
          2660.9750000052977,
          2661.9750000053014,
          2662.975000005305,
          2663.9750000053086,
          2664.9750000053123,
          2665.975000005316,
          2666.9750000053195,
          2667.975000005323,
          2668.975000005327,
          2669.9750000053305,
          2670.975000005334,
          2671.9750000053377,
          2672.9750000053414,
          2673.975000005345,
          2674.9750000053486,
          2675.9750000053523,
          2676.975000005356,
          2677.9750000053596,
          2678.975000005363,
          2679.975000005367,
          2680.9750000053705,
          2681.975000005374,
          2682.9750000053778,
          2683.9750000053814,
          2684.975000005385,
          2685.9750000053887,
          2686.9750000053923,
          2687.975000005396,
          2688.9750000053996,
          2689.975000005403,
          2690.975000005407,
          2691.9750000054105,
          2692.975000005414,
          2693.9750000054178,
          2694.9750000054214,
          2695.975000005425,
          2696.9750000054287,
          2697.9750000054323,
          2698.975000005436,
          2699.9750000054396,
          2700.9750000054432,
          2701.975000005447,
          2702.9750000054505,
          2703.975000005454,
          2704.975000005458,
          2705.9750000054614,
          2706.975000005465,
          2707.9750000054687,
          2708.9750000054723,
          2709.975000005476,
          2710.9750000054796,
          2711.9750000054833,
          2712.975000005487,
          2713.9750000054905,
          2714.975000005494,
          2715.975000005498,
          2716.9750000055014,
          2717.975000005505,
          2718.9750000055087,
          2719.9750000055124,
          2720.975000005516,
          2721.9750000055196,
          2722.9750000055233,
          2723.975000005527,
          2724.9750000055305,
          2725.975000005534,
          2726.975000005538,
          2727.9750000055415,
          2728.975000005545,
          2729.9750000055487,
          2730.9750000055524,
          2731.975000005556,
          2732.9750000055597,
          2733.9750000055633,
          2734.975000005567,
          2735.9750000055706,
          2736.975000005574,
          2737.975000005578,
          2738.9750000055815,
          2739.975000005585,
          2740.9750000055888,
          2741.9750000055924,
          2742.975000005596,
          2743.9750000055997,
          2744.9750000056033,
          2745.975000005607,
          2746.9750000056106,
          2747.975000005614,
          2748.975000005618,
          2749.9750000056215,
          2750.975000005625,
          2751.9750000056288,
          2752.9750000056324,
          2753.975000005636,
          2754.9750000056397,
          2755.9750000056433,
          2756.975000005647,
          2757.9750000056506,
          2758.9750000056542,
          2759.975000005658,
          2760.9750000056615,
          2761.975000005665,
          2762.975000005669,
          2763.9750000056724,
          2764.975000005676,
          2765.9750000056797,
          2766.9750000056833,
          2767.975000005687,
          2768.9750000056906,
          2769.9750000056943,
          2770.975000005698,
          2771.9750000057015,
          2772.975000005705,
          2773.975000005709,
          2774.9750000057124,
          2775.975000005716,
          2776.9750000057197,
          2777.9750000057234,
          2778.975000005727,
          2779.9750000057306,
          2780.9750000057343,
          2781.975000005738,
          2782.9750000057415,
          2783.975000005745,
          2784.975000005749,
          2785.9750000057525,
          2786.975000005756,
          2787.9750000057597,
          2788.9750000057634,
          2789.975000005767,
          2790.9750000057707,
          2791.9750000057743,
          2792.975000005778,
          2793.9750000057816,
          2794.975000005785,
          2795.975000005789,
          2796.9750000057925,
          2797.975000005796,
          2798.9750000057998,
          2799.9750000058034,
          2800.975000005807,
          2801.9750000058107,
          2802.9750000058143,
          2803.975000005818,
          2804.9750000058216,
          2805.975000005825,
          2806.975000005829,
          2807.9750000058325,
          2808.975000005836,
          2809.97500000584,
          2810.9750000058434,
          2811.975000005847,
          2812.9750000058507,
          2813.9750000058543,
          2814.975000005858,
          2815.9750000058616,
          2816.9750000058652,
          2817.975000005869,
          2818.9750000058725,
          2819.975000005876,
          2820.97500000588,
          2821.9750000058834,
          2822.975000005887,
          2823.9750000058907,
          2824.9750000058943,
          2825.975000005898,
          2826.9750000059016,
          2827.9750000059053,
          2828.975000005909,
          2829.9750000059125,
          2830.975000005916,
          2831.97500000592,
          2832.9750000059234,
          2833.975000005927,
          2834.9750000059307,
          2835.9750000059344,
          2836.975000005938,
          2837.9750000059416,
          2838.9750000059453,
          2839.975000005949,
          2840.9750000059526,
          2841.975000005956,
          2842.97500000596,
          2843.9750000059635,
          2844.975000005967,
          2845.9750000059707,
          2846.9750000059744,
          2847.975000005978,
          2848.9750000059817,
          2849.9750000059853,
          2850.975000005989,
          2851.9750000059926,
          2852.975000005996,
          2853.975000006,
          2854.9750000060035,
          2855.975000006007,
          2856.9750000060108,
          2857.9750000060144,
          2858.975000006018,
          2859.9750000060217,
          2860.9750000060253,
          2861.975000006029,
          2862.9750000060326,
          2863.975000006036,
          2864.97500000604,
          2865.9750000060435,
          2866.975000006047,
          2867.975000006051,
          2868.9750000060544,
          2869.975000006058,
          2870.9750000060617,
          2871.9750000060653,
          2872.975000006069,
          2873.9750000060726,
          2874.9750000060762,
          2875.97500000608,
          2876.9750000060835,
          2877.975000006087,
          2878.975000006091,
          2879.9750000060944,
          2880.975000006098,
          2881.9750000061017,
          2882.9750000061053,
          2883.975000006109,
          2884.9750000061126,
          2885.9750000061163,
          2886.97500000612,
          2887.9750000061235,
          2888.975000006127,
          2889.975000006131,
          2890.9750000061345,
          2891.975000006138,
          2892.9750000061417,
          2893.9750000061454,
          2894.975000006149,
          2895.9750000061526,
          2896.9750000061563,
          2897.97500000616,
          2898.9750000061636,
          2899.975000006167,
          2900.975000006171,
          2901.9750000061745,
          2902.975000006178,
          2903.9750000061817,
          2904.9750000061854,
          2905.975000006189,
          2906.9750000061927,
          2907.9750000061963,
          2908.9750000062,
          2909.9750000062036,
          2910.975000006207,
          2911.975000006211,
          2912.9750000062145,
          2913.975000006218,
          2914.9750000062218,
          2915.9750000062254,
          2916.975000006229,
          2917.9750000062327,
          2918.9750000062363,
          2919.97500000624,
          2920.9750000062436,
          2921.9750000062472,
          2922.975000006251,
          2923.9750000062545,
          2924.975000006258,
          2925.975000006262,
          2926.9750000062654,
          2927.975000006269,
          2928.9750000062727,
          2929.9750000062763,
          2930.97500000628,
          2931.9750000062836,
          2932.9750000062872,
          2933.975000006291,
          2934.9750000062945,
          2935.975000006298,
          2936.975000006302,
          2937.9750000063054,
          2938.975000006309,
          2939.9750000063127,
          2940.9750000063163,
          2941.97500000632,
          2942.9750000063236,
          2943.9750000063273,
          2944.975000006331,
          2945.9750000063345,
          2946.975000006338,
          2947.975000006342,
          2948.9750000063455,
          2949.975000006349,
          2950.9750000063527,
          2951.9750000063564,
          2952.97500000636,
          2953.9750000063636,
          2954.9750000063673,
          2955.975000006371,
          2956.9750000063746,
          2957.975000006378,
          2958.975000006382,
          2959.9750000063855,
          2960.975000006389,
          2961.9750000063927,
          2962.9750000063964,
          2963.9750000064,
          2964.9750000064037,
          2965.9750000064073,
          2966.975000006411,
          2967.9750000064146,
          2968.975000006418,
          2969.975000006422,
          2970.9750000064255,
          2971.975000006429,
          2972.9750000064328,
          2973.9750000064364,
          2974.97500000644,
          2975.9750000064437,
          2976.9750000064473,
          2977.975000006451,
          2978.9750000064546,
          2979.9750000064582,
          2980.975000006462,
          2981.9750000064655,
          2982.975000006469,
          2983.975000006473,
          2984.9750000064764,
          2985.97500000648,
          2986.9750000064837,
          2987.9750000064873,
          2988.975000006491,
          2989.9750000064946,
          2990.9750000064982,
          2991.975000006502,
          2992.9750000065055,
          2993.975000006509,
          2994.975000006513,
          2995.9750000065164,
          2996.97500000652,
          2997.9750000065237,
          2998.9750000065274
         ],
         "xaxis": "x",
         "y": [
          -65,
          -65.676826523535,
          -65.95549732987887,
          -66.05999285862255,
          -66.10035448050618,
          -66.11193770872165,
          -66.10946001457623,
          -66.09873790687625,
          -66.08274494071377,
          -66.0629416731771,
          -66.040086701825,
          -66.0146010053782,
          -65.98673760080264,
          -65.95666262353842,
          -65.92449494045522,
          -65.89032596052458,
          -65.85422983439277,
          -65.81626891097427,
          -65.77649680480503,
          -65.73389956966048,
          -65.69059688229792,
          -65.64560755488873,
          -65.59896311492318,
          -65.55069112820681,
          -65.50081551429592,
          -65.44935678901905,
          -65.39633225046683,
          -65.34175611905427,
          -65.28563963892105,
          -65.22799114559811,
          -65.16881610344097,
          -65.10811711509487,
          -65.04589390439932,
          -64.98214327342596,
          -64.91685903357393,
          -64.85003191013358,
          -64.78164941904011,
          -64.71169571397718,
          -64.640151401247,
          -64.56699331916415,
          -64.49219427782805,
          -64.41572275418424,
          -64.33754253615268,
          -64.257612308194,
          -64.17588516903625,
          -64.09230807027856,
          -64.0068211620612,
          -63.91935702889887,
          -63.829839794918,
          -63.7381840728601,
          -63.644293725028774,
          -63.548060396557176,
          -63.44936177121881,
          -63.34805948705219,
          -63.2439966320382,
          -63.13699471790421,
          -63.026850000705664,
          -62.91332897766768,
          -62.79616283719768,
          -62.67504056762083,
          -62.549600332644175,
          -62.41941858670714,
          -62.283996215383006,
          -62.14274072094244,
          -61.99494309560697,
          -61.83974748162897,
          -61.676110926389775,
          -61.50274937823472,
          -61.31806434307536,
          -61.120042040594036,
          -60.90611301841671,
          -60.67295435392332,
          -60.41620791560578,
          -60.13007570712764,
          -59.806736820398655,
          -59.435513252945825,
          -59.01346604365761,
          -58.49924311825569,
          -57.8757341633968,
          -57.10833748012098,
          -56.15875736718883,
          -54.99966220510572,
          -53.64608168210454,
          -52.191250549061415,
          -50.80283544297325,
          -49.653265392422405,
          -48.840528221058946,
          -48.37033556894864,
          -48.1921245163654,
          -48.24129556827069,
          -48.4628806372267,
          -48.818120449750005,
          -49.282780140835435,
          -49.843439716825245,
          -50.494427069176204,
          -51.23606789500007,
          -52.07418078069006,
          -53.02052182733024,
          -54.093609301369845,
          -55.31834516526153,
          -56.71982811642333,
          -58.300934839583896,
          -59.99454922501839,
          -61.626277168564044,
          -62.985163384248935,
          -63.97135088040531,
          -64.62727297306365,
          -65.05169791006517,
          -65.33137980697627,
          -65.52385039508276,
          -65.66314988813569,
          -65.76865154470079,
          -65.8513987270704,
          -65.91785111477357,
          -65.97194557487474,
          -66.01620361813539,
          -66.05232695679337,
          -66.08152274365678,
          -66.104685850514,
          -66.12250455783158,
          -66.13552431406755,
          -66.14418786372023,
          -66.14886158598753,
          -66.14985347180354,
          -66.14742582600263,
          -66.14180451217544,
          -66.1331858505643,
          -66.12174187271042,
          -66.10762439451031,
          -66.09096822023072,
          -66.07189369502062,
          -66.05050876094936,
          -66.02691062929428,
          -66.00118715258702,
          -65.97341795908397,
          -65.94367539736398,
          -65.91202532781094,
          -65.87852778947733,
          -65.84323756472851,
          -65.80620465932614,
          -65.76747471200937,
          -65.72708934482263,
          -65.6850864632078,
          -65.64150051318019,
          -65.5963627014863,
          -65.54970118354524,
          -65.5015412230595,
          -65.45190532645975,
          -65.4008133547377,
          -65.34828261470194,
          -65.294327931269,
          -65.23896170205039,
          -65.18219393514445,
          -65.12403227077205,
          -65.06448198714936,
          -65.0035459906798,
          -64.94122479039531,
          -64.87751645625988,
          -64.81241656076337,
          -64.74591810292232,
          -64.67801141355916,
          -64.60868404044233,
          -64.53792061145968,
          -64.46570267366155,
          -64.392008505563,
          -64.31681289949712,
          -64.24008691028017,
          -64.16179756563174,
          -64.08190753295712,
          -64.00037473603447,
          -63.91715191382976,
          -63.832186112143624,
          -63.745418096868484,
          -63.6567816752591,
          -63.56620290875173,
          -63.473599197251545,
          -63.37887821024895,
          -63.28193663452801,
          -63.1826587009644,
          -63.080914443891736,
          -62.976557634729275,
          -62.86942331660293,
          -62.75932484713403,
          -62.646050331119525,
          -62.52935829132953,
          -62.40897238123739,
          -62.28457488429287,
          -62.15579866457739,
          -62.02221712558654,
          -61.883331585971824,
          -61.73855527723697,
          -61.587192884967756,
          -61.428414158186996,
          -61.26121955123734,
          -61.084395067203985,
          -60.89645233779559,
          -60.695548355587405,
          -60.47937697312978,
          -60.24502105699687,
          -59.988749804555354,
          -59.705740196807426,
          -59.38969573658134,
          -59.03233296376043,
          -58.622717180739684,
          -58.14648110437469,
          -57.58512008552,
          -56.91596046159084,
          -56.11423382342592,
          -55.15990081656013,
          -54.05203846016987,
          -52.828660297915185,
          -51.57754773485223,
          -50.41805152111491,
          -49.456851921672815,
          -48.75125127515369,
          -48.30496105269179,
          -48.08810233607432,
          -48.06024844660039,
          -48.18485738136083,
          -48.43464247087128,
          -48.79165745871378,
          -49.24545646301072,
          -49.79115740196708,
          -50.42810952888933,
          -51.15930949483626,
          -51.991490353092075,
          -52.93566627581817,
          -54.007573126775604,
          -55.22642862675847,
          -56.6080017860552,
          -58.14463292939286,
          -59.769606521593104,
          -61.336805206286726,
          -62.67683075002197,
          -63.70065747866692,
          -64.4274311271003,
          -64.92932880651385,
          -65.27868265839281,
          -65.52879997024681,
          -65.71435870003998,
          -65.85686750656579,
          -65.96955755704167,
          -66.06068088434344,
          -66.13552248782038,
          -66.19758274164087,
          -66.24926623985432,
          -66.29228591093361,
          -66.3279040992478,
          -66.35707978272009,
          -66.38056098920877,
          -66.39894456841654,
          -66.41271603647627,
          -66.42227692104257,
          -66.42796404099931,
          -66.43006343418395,
          -66.42882063788429,
          -66.42444842223082,
          -66.41713270491894,
          -66.4070371415335,
          -66.39430673438595,
          -66.37907070259962,
          -66.36144478845986,
          -66.34153312815604,
          -66.31942978221838,
          -66.29521999729774,
          -66.26898125390292,
          -66.24078414205879,
          -66.21069309750564,
          -66.17876702391496,
          -66.1450598212969,
          -66.10962083651447,
          -66.07249524868736,
          -66.03372439974854,
          -65.99334607835746,
          -65.95139476392426,
          -65.90790183611266,
          -65.86289575427476,
          -65.81640221041215,
          -65.7684442585557,
          -65.7190424229559,
          -65.66821478696912,
          -65.61597706414129,
          -65.56234265266392,
          -65.50732267404852,
          -65.45092599665082,
          -65.39315924438115,
          -65.3340267907297,
          -65.27353073804234,
          -65.2116708816975,
          -65.14844465868055,
          -65.08384707976148,
          -65.01787064425334,
          -64.95050523603697,
          -64.88173799923231,
          -64.81155319150872,
          -64.73993201266039,
          -64.66685240553736,
          -64.59228882589301,
          -64.51621197701013,
          -64.43858850417766,
          -64.35938064310912,
          -64.27854581522803,
          -64.1939515100502,
          -64.10966939739467,
          -64.02359706964799,
          -63.9356670548788,
          -63.84580385583374,
          -63.75392296650347,
          -63.659929720154175,
          -63.563717934372534,
          -63.46516831031089,
          -63.36414653248886,
          -63.26050100156769,
          -63.154060114384734,
          -63.04462898177473,
          -62.93198544336739,
          -62.81587519674364,
          -62.69600580234383,
          -62.57203924953384,
          -62.443582665452666,
          -62.310176604867486,
          -62.17128015935351,
          -62.02625184218991,
          -61.8743248037228,
          -61.71457435310683,
          -61.54587491869687,
          -61.36684233637058,
          -61.17575550364406,
          -60.9704486547796,
          -60.74816130040338,
          -60.50532648699891,
          -60.23726840421723,
          -59.93776619984663,
          -59.598421267010465,
          -59.20774240647803,
          -58.74985110474038,
          -58.20275977366153,
          -57.536449595066905,
          -56.71188788215606,
          -55.68445443735098,
          -54.41915004073245,
          -52.92501496677825,
          -51.296277987393495,
          -49.71084716603707,
          -48.3553898508202,
          -47.338792841026425,
          -46.671456096722956,
          -46.302609941009784,
          -46.165465866154236,
          -46.20330714405243,
          -46.37701738062253,
          -46.663107392581395,
          -47.049131263580364,
          -47.52959941904794,
          -48.10320912256278,
          -48.771326481313395,
          -49.537474065785496,
          -50.4076405291614,
          -51.39131020876414,
          -52.50306562570668,
          -53.76415796666632,
          -55.20175987366316,
          -56.8390073368109,
          -58.66189845884473,
          -60.5606295071058,
          -62.316265869047335,
          -63.72657084666917,
          -64.74093323039016,
          -65.43214312526538,
          -65.90089134968738,
          -66.22670066202394,
          -66.46162445678422,
          -66.63752368186556,
          -66.77365383255855,
          -66.88181687362886,
          -66.96944765111297,
          -67.0413904584335,
          -67.10091660257886,
          -67.15031421059766,
          -67.19123730390405,
          -67.2249178029193,
          -67.2522979805445,
          -67.27411564556552,
          -67.29096049669273,
          -67.3033124137448,
          -67.31156812622538,
          -67.31606021054546,
          -67.31707090209507,
          -67.31484232490992,
          -67.30958419617876,
          -67.30147971780178,
          -67.2906901443711,
          -67.2773583698523,
          -67.26161177640923,
          -67.24356452119474,
          -67.22331938989157,
          -67.20096931257193,
          -67.17659861368914,
          -67.15028405072162,
          -67.12209568331417,
          -67.09209760532454,
          -67.06034856509523,
          -67.02690249387356,
          -66.99180895819364,
          -66.95511354881619,
          -66.9168582163844,
          -66.87708156194644,
          -66.83581908898445,
          -66.79310342237248,
          -66.74896449867582,
          -66.70342973140956,
          -66.65652415425888,
          -66.60827054470977,
          -66.55868953009382,
          -66.50779967771686,
          -66.45561757041814,
          -66.4021578686424,
          -66.34743335987979,
          -66.29145499616192,
          -66.23423192006497,
          -66.17577147957319,
          -66.11607923197114,
          -66.05515893676763,
          -65.99301253757906,
          -65.92964013264437,
          -65.86503993364839,
          -65.7992082122017,
          -65.73213923327184,
          -65.66382517463161,
          -65.59425603117346,
          -65.52341950269121,
          -65.45130086348114,
          -65.37788281175781,
          -65.30314529653523,
          -65.22706531914187,
          -65.14961670606344,
          -65.07076984914676,
          -64.99049140842122,
          -64.90874397196359,
          -64.82548566606434,
          -64.7406697076261,
          -64.65424388911393,
          -64.56614998431645,
          -64.47632306069389,
          -64.38469068096452,
          -64.29117197266507,
          -64.1956765395116,
          -64.09810318213047,
          -63.99833838776374,
          -63.896254538328115,
          -63.79170777292456,
          -63.68453542366256,
          -63.57455292091335,
          -63.46155003403835,
          -63.34528627341742,
          -63.22548522532189,
          -63.101827517220734,
          -62.97394200938313,
          -62.841394666940914,
          -62.70367436729194,
          -62.560174613580806,
          -62.41016971508775,
          -62.25278339549472,
          -62.08694689997189,
          -61.911342331303466,
          -61.72432489457066,
          -61.52381454298955,
          -61.30714248701954,
          -61.07082996949381,
          -60.81026363456247,
          -60.51921044595576,
          -60.189080280828925,
          -59.80778904551238,
          -59.35799458458866,
          -58.8143900965351,
          -58.13977123185443,
          -57.2802665564957,
          -56.16311343568147,
          -54.70908231945994,
          -52.883968145306355,
          -50.791597997739686,
          -48.70742277852141,
          -46.94001275888739,
          -45.65247103992879,
          -44.83431179811669,
          -44.385662941775706,
          -44.19834657352793,
          -44.19226580201347,
          -44.31928061780394,
          -44.5548534653314,
          -44.888835438416805,
          -45.318866324003096,
          -45.84640474154818,
          -46.47459312776057,
          -47.2072934205486,
          -48.048941047882884,
          -49.00512820331458,
          -50.08399989823929,
          -51.298599731244636,
          -52.670066922849635,
          -54.23033596652684,
          -56.01833623855028,
          -58.05135008830337,
          -60.2457004335652,
          -62.34421283206826,
          -64.04773242809809,
          -65.25532040834482,
          -66.05757575251373,
          -66.58853512719307,
          -66.95049256671868,
          -67.20756802378251,
          -67.39766881429689,
          -67.54318982102099,
          -67.6576850503546,
          -67.74964045272974,
          -67.82456640247169,
          -67.88617148288485,
          -67.93703704654163,
          -67.97901634122032,
          -68.0134779326673,
          -68.04145861356177,
          -68.06376216013497,
          -68.08102477366344,
          -68.09375948227282,
          -68.10238693111528,
          -68.10725716980244,
          -68.10866536315919,
          -68.10686332214192,
          -68.10206810829551,
          -68.09446855462491,
          -68.08423027924374,
          -68.07149959214613,
          -68.05640657744667,
          -68.03906755311607,
          -68.01958705483617,
          -67.99805945171136,
          -67.9745702741545,
          -67.94919731434517,
          -67.92201154535184,
          -67.89307789431932,
          -67.86245589724612,
          -67.83020025689532,
          -67.79636132086931,
          -67.76098549335536,
          -67.72411559142265,
          -67.68579115456572,
          -67.64604871460176,
          -67.6049220316854,
          -67.56244230117942,
          -67.51863833525765,
          -67.47353672248269,
          -67.42716196799624,
          -67.37953661657406,
          -67.33068136036675,
          -67.28061513290481,
          -67.22935519060145,
          -67.17691718289709,
          -67.12331521185637,
          -67.06856188200621,
          -67.01266834096116,
          -66.95564431133909,
          -66.89749811427673,
          -66.83823668484753,
          -66.77786557949945,
          -66.71638897560902,
          -66.65380966310548,
          -66.59012902807014,
          -66.52534702808943,
          -66.45946215909977,
          -66.39247141326084,
          -66.32437022741217,
          -66.25515242142795,
          -66.18481012573609,
          -66.1133336970492,
          -66.04071162122824,
          -65.96693040196762,
          -65.89197443377759,
          -65.81582585744356,
          -65.73846439583855,
          -65.65986716758806,
          -65.58000847563245,
          -65.49885956716506,
          -65.41638836086985,
          -65.33255913646931,
          -65.24733218081231,
          -65.1606633834546,
          -65.07250377337597,
          -64.9827989867272,
          -64.89148865338993,
          -64.79850568750769,
          -64.70377546386474,
          -64.60721485783058,
          -64.50873112144913,
          -64.40822056152734,
          -64.30556697714485,
          -64.20063980303671,
          -64.09329189104585,
          -63.983356843213606,
          -63.87064578545789,
          -63.75494343796646,
          -63.63600329439024,
          -63.513541662005444,
          -63.38723023298516,
          -63.2566867430023,
          -63.12146311367272,
          -62.9810302484409,
          -62.83475832480166,
          -62.68189094900848,
          -62.521510832813746,
          -62.35249358816798,
          -62.1734446073035,
          -61.982611457681195,
          -61.777760191695094,
          -61.55599744934911,
          -61.313509471927226,
          -61.04517106400864,
          -60.74394669192138,
          -60.39995284481534,
          -59.99896029335418,
          -59.519968035075074,
          -58.93128109758606,
          -58.18443589369064,
          -57.20623407296542,
          -55.89447333962503,
          -54.14042499275427,
          -51.92352143068358,
          -49.455724096912625,
          -47.15371917628875,
          -45.36093246489821,
          -44.16631098772176,
          -43.471169557386325,
          -43.12539307319906,
          -43.00714307675847,
          -43.04135594134781,
          -43.18996950037922,
          -43.43754298203838,
          -43.78062355020556,
          -44.22145711461164,
          -44.76463722020781,
          -45.415416880500146,
          -46.178943877475646,
          -47.06012946939616,
          -48.06416749628392,
          -49.19791890019878,
          -50.47247582985496,
          -51.90711500404502,
          -53.533974581142346,
          -55.39883450088463,
          -57.539905011075746,
          -59.904938824971126,
          -62.23137204287987,
          -64.14703936609327,
          -65.49629149659886,
          -66.37732253888674,
          -66.95023248002376,
          -67.33534620554157,
          -67.60597011182583,
          -67.80439442473472,
          -67.95519208793814,
          -68.07309191967467,
          -68.16726600080094,
          -68.24364897093871,
          -68.30622086447808,
          -68.35773994312342,
          -68.40017589766589,
          -68.4349744189068,
          -68.4632236586722,
          -68.48576179597116,
          -68.50324823471354,
          -68.51621177239413,
          -68.52508385785796,
          -68.53022199872784,
          -68.531926540098,
          -68.53045290407893,
          -68.52602066860169,
          -68.51882040940438,
          -68.50901893393922,
          -68.49676334154981,
          -68.48218421432506,
          -68.46539815513952,
          -68.44650982902604,
          -68.42561362197952,
          -68.40279500176531,
          -68.37813164407675,
          -68.35169437210725,
          -68.3235479463718,
          -68.29375173329237,
          -68.26236027481714,
          -68.22942377661869,
          -68.19498852880004,
          -68.15909727025146,
          -68.12178950561116,
          -68.08310178210962,
          -68.04306793220415,
          -68.00171928686618,
          -67.95908486351622,
          -67.91519153189225,
          -67.87006416063967,
          -67.82372574688956,
          -67.77619753074788,
          -67.72749909632677,
          -67.67764846065369,
          -67.6266621516196,
          -67.57455527590817,
          -67.52134157773204,
          -67.46703348902982,
          -67.41164217170824,
          -67.35517755234807,
          -67.29764834977651,
          -67.23906209575978,
          -67.17942514904706,
          -67.11874270288166,
          -67.05701878606142,
          -66.99425625752588,
          -66.93045679444579,
          -66.86562087363014,
          -66.79974774608286,
          -66.73283540441622,
          -66.66488054275857,
          -66.59587850871966,
          -66.525823246853,
          -66.45470723297731,
          -66.38252139857401,
          -66.3092550443535,
          -66.23489574189072,
          -66.15942922210601,
          -66.08283924907356,
          -66.00510747745864,
          -65.9262132915275,
          -65.84613362336295,
          -65.76484274749399,
          -65.68231204861934,
          -65.59850975853043,
          -65.51340065765106,
          -65.42694573564789,
          -65.33910180461594,
          -65.24982105696225,
          -65.15905055858936,
          -65.06673166596136,
          -64.9727993532695,
          -64.87718143283024,
          -64.77979764809562,
          -64.68055861382943,
          -64.5793645719305,
          -64.47610392361476,
          -64.37065148860474,
          -64.26286642903666,
          -64.1525897587563,
          -64.03964133631624,
          -63.923816210206866,
          -63.80488014494671,
          -63.68256410251664,
          -63.556557379647,
          -63.42649899895892,
          -63.2919668085619,
          -63.152463541392216,
          -63.007398793604146,
          -62.85606545600375,
          -62.69760850365264,
          -62.5309831038031,
          -62.35489755810504,
          -62.16773434706198,
          -61.96743897809918,
          -61.751360564627504,
          -61.516018520203275,
          -61.256753649159556,
          -60.967194214967535,
          -60.63841919077078,
          -60.2576159835044,
          -59.80588373845701,
          -59.254602280543544,
          -58.559528171420105,
          -57.65202783493201,
          -56.43016209467855,
          -54.76679578857807,
          -52.58402726972365,
          -50.02156359990677,
          -47.50124983466192,
          -45.45885653482012,
          -44.06284975414627,
          -43.23526573341665,
          -42.81030263284596,
          -42.643304097389205,
          -42.64260419574158,
          -42.76108615952095,
          -42.979253616004094,
          -43.292218313652235,
          -43.7020046510836,
          -44.21350398068294,
          -44.83245245603255,
          -45.56446010131632,
          -46.41467115021207,
          -47.38800584572671,
          -48.49017406211219,
          -49.7297990393061,
          -51.122012146417724,
          -52.693491877415134,
          -54.48677312005618,
          -56.55282807848466,
          -58.897219309255796,
          -61.347862493393045,
          -63.51890374681508,
          -65.12171531007608,
          -66.17911616979393,
          -66.85812171998796,
          -67.30534712294119,
          -67.61336361563897,
          -67.83539612959672,
          -68.00187289330097,
          -68.13069363501056,
          -68.23281103036227,
          -68.31520230525705,
          -68.38248249266512,
          -68.43781022697499,
          -68.48341531680832,
          -68.52091696320343,
          -68.55152185607476,
          -68.57615098491891,
          -68.59552285059878,
          -68.61020929935378,
          -68.62067376456861,
          -68.62729797088188,
          -68.63040092923661,
          -68.63025269040736,
          -68.62708447458807,
          -68.62109625439875,
          -68.61246251973662,
          -68.60133672439075,
          -68.58785476249913,
          -68.57213772080692,
          -68.55429408295022,
          -68.53442151384826,
          -68.51260831849996,
          -68.48893464549947,
          -68.46347348837467,
          -68.43629152520559,
          -68.40744982778095,
          -68.37700446456634,
          -68.34500701658659,
          -68.311505021306,
          -68.27654235655018,
          -68.24015957417149,
          -68.202394191233,
          -68.16328094510723,
          -68.12285201767497,
          -68.08113723291419,
          -68.03816423140509,
          -67.99395862470344,
          -67.9485441320286,
          -67.90194270131649,
          -67.8541746163635,
          -67.80525859152243,
          -67.75521185516561,
          -67.70405022294271,
          -67.6517881617303,
          -67.5984388449968,
          -67.5440142001618,
          -67.48852494853601,
          -67.43198063819256,
          -67.37438967012658,
          -67.31575931798493,
          -67.25609574152827,
          -67.19540399397809,
          -67.13368802328917,
          -67.07095066737801,
          -67.00719364322079,
          -66.94241752973652,
          -66.8766217442349,
          -66.80980451222062,
          -66.74196283017922,
          -66.67309242099786,
          -66.6031876814896,
          -66.53224162144183,
          -66.46024579352199,
          -66.38719021316162,
          -66.31306326752221,
          -66.23785161234221,
          -66.16154005539438,
          -66.0841114249959,
          -66.00554642173874,
          -65.92582345134814,
          -65.84491843618693,
          -65.76280460245103,
          -65.67945223966278,
          -65.59482842835185,
          -65.50889673112542,
          -65.42161684139707,
          -65.33294418290384,
          -65.24282945183504,
          -65.15121809166695,
          -65.05804968879744,
          -64.96325727443629,
          -64.86676651509434,
          -64.76849476989373,
          -64.66834998794182,
          -64.56622941245163,
          -64.4620180500671,
          -64.35558685316005,
          -64.2467905489376,
          -64.13546503107173,
          -64.02142420549055,
          -63.904456149975736,
          -63.78431840413172,
          -63.66073214784565,
          -63.533374946022995,
          -63.4018716259722,
          -63.26578269733121,
          -63.124589501782985,
          -62.97767495894611,
          -62.824298305542676,
          -62.66356152811697,
          -62.4943641377732,
          -62.31534131996614,
          -62.1247779650128,
          -61.92048705288695,
          -61.6996343007361,
          -61.458480066374264,
          -61.1919909756583,
          -60.89324170566353,
          -60.55247120067741,
          -60.155559062918876,
          -59.68152000591369,
          -59.09836004649581,
          -58.35641403430677,
          -57.3789202085083,
          -56.05470948253627,
          -54.25736675022864,
          -51.947101282727765,
          -49.34492236367877,
          -46.915559893123586,
          -45.042115045456654,
          -43.814908398965926,
          -43.11612087971492,
          -42.777583490891296,
          -42.667678775696295,
          -42.708084133273935,
          -42.86057861117464,
          -43.110505804867316,
          -43.45525385061607,
          -43.89772757051407,
          -44.44298616044541,
          -45.096585347551546,
          -45.8638227601418,
          -46.74958544645578,
          -47.75882484500933,
          -48.89789349945466,
          -50.17709459171084,
          -51.61474509011856,
          -53.242363825837515,
          -55.10718453436316,
          -57.255436886787905,
          -59.654033269253226,
          -62.05394870724729,
          -64.05676472189488,
          -65.4700809391607,
          -66.3866146816368,
          -66.97712932501699,
          -67.37100473529173,
          -67.6463059092976,
          -67.84748660727513,
          -68.00008180169456,
          -68.11926487291373,
          -68.21442766619253,
          -68.29162178039996,
          -68.35489368988013,
          -68.40704135045964,
          -68.45005904945472,
          -68.48540813116956,
          -68.5141869252001,
          -68.53724036051241,
          -68.55523241122941,
          -68.56869504096161,
          -68.57806194857963,
          -68.58369228536095,
          -68.58588763180593,
          -68.58490436499291,
          -68.58096282071573,
          -68.57425419053685,
          -68.56494579272199,
          -68.55318515779346,
          -68.53910323724726,
          -68.52281695448055,
          -68.50443125576713,
          -68.48404077642685,
          -68.4617312074738,
          -68.43758042652014,
          -68.41165944133417,
          -68.38403318307692,
          -68.35476117787678,
          -68.32389811912527,
          -68.29149435810032,
          -68.25759632690101,
          -68.22224690488916,
          -68.18548573762058,
          -68.1473495155618,
          -68.10787221854719,
          -68.06708533082276,
          -68.02501803072302,
          -67.98169735827953,
          -67.93714836353037,
          -67.89139423785677,
          -67.84445643026173,
          -67.79635475023422,
          -67.74710745855126,
          -67.69673134721126,
          -67.64524180942773,
          -67.59265290054984,
          -67.53897739056832,
          -67.48422680880981,
          -67.42841148127748,
          -67.37154056103266,
          -67.3136220519316,
          -67.25466282593972,
          -67.19466863420598,
          -67.13364411198445,
          -67.07159277745085,
          -67.00851702439684,
          -66.94441810871018,
          -66.87929612849972,
          -66.81314999764683,
          -66.74597741251064,
          -66.6777748114249,
          -66.60853732652035,
          -66.53825872738771,
          -66.46693135589034,
          -66.3945460513979,
          -66.32109206555116,
          -66.24655696551095,
          -66.17092652445879,
          -66.09418459794364,
          -66.01631298438195,
          -65.93729126776554,
          -65.85709664029292,
          -65.77570370221234,
          -65.69308423572653,
          -65.60920694922197,
          -65.5240371873825,
          -65.43753660195104,
          -65.34966277687603,
          -65.2603688003612,
          -65.16960277480553,
          -65.07730725384228,
          -64.98341859328096,
          -64.88786619999765,
          -64.79057165918148,
          -64.69144771586188,
          -64.59039708092637,
          -64.48731102450593,
          -64.38206771030374,
          -64.27453021220518,
          -64.1645441388007,
          -64.05193477052306,
          -63.936503586578596,
          -63.81802402185887,
          -63.696236244178245,
          -63.570840673968206,
          -63.44148987468932,
          -63.307778311064915,
          -63.169229286997684,
          -63.025278110066246,
          -62.8752501450568,
          -62.71833185285747,
          -62.55353206460685,
          -62.379629453462506,
          -62.19510017336344,
          -61.99801649009385,
          -61.78590217152899,
          -61.55552209756083,
          -61.302569628469314,
          -61.02119148042277,
          -60.70324855035715,
          -60.337138877749084,
          -59.90588414593811,
          -59.38397926032984,
          -58.73224974462109,
          -57.8899953939095,
          -56.765774088630415,
          -55.23847193631424,
          -53.208203551345434,
          -50.743211704529955,
          -48.19947564295958,
          -46.03592857151689,
          -44.49561431653142,
          -43.551182725727635,
          -43.04905130936779,
          -42.83638913308517,
          -42.80929343444573,
          -42.91117934124245,
          -43.11669785897796,
          -43.417680898780496,
          -43.81435870819572,
          -44.310606568630305,
          -44.911544310101746,
          -45.622388896344304,
          -46.44803617334535,
          -47.39324669157014,
          -48.46356667907262,
          -49.667272333252605,
          -51.01866849884368,
          -52.54277624229228,
          -54.279709563950604,
          -56.27977010410886,
          -58.55943352320246,
          -60.980891511134416,
          -63.18450436843843,
          -64.85187082812952,
          -65.96520990203004,
          -66.68067151028103,
          -67.14962357309075,
          -67.4706505042874,
          -67.70086675278677,
          -67.87284055536516,
          -68.00560522782823,
          -68.11072065105968,
          -68.19550045693337,
          -68.26475451681831,
          -68.32175989672868,
          -68.36882190354893,
          -68.40761002514228,
          -68.43936576564737,
          -68.46503503304208,
          -68.48535468130315,
          -68.50091041407575,
          -68.51217635936875,
          -68.51954265902158,
          -68.52333506742606,
          -68.52382912596678,
          -68.52126059182221,
          -68.51583323735744,
          -68.50772477394173,
          -68.49709141701021,
          -68.48407145198772,
          -68.46878805494988,
          -68.45135154983852,
          -68.43186123422716,
          -68.41040687080894,
          -68.38706991697356,
          -68.36192454709291,
          -68.33503850911626,
          -68.30647384759234,
          -68.2762875180319,
          -68.24453191220647,
          -68.21125530986258,
          -68.17650226920242,
          -68.14031396602759,
          -68.10272848957267,
          -68.06378110149085,
          -68.02350446338926,
          -67.98192883719435,
          -67.93908226203476,
          -67.89499071061171,
          -67.84967822755411,
          -67.80316705185187,
          -67.75547772515118,
          -67.70662918733306,
          -67.65663886068518,
          -67.60552272365959,
          -67.5532953751503,
          -67.499970089984,
          -67.44555886629033,
          -67.39007246523651,
          -67.33352044355175,
          -67.27591117917602,
          -67.21725189030478,
          -67.15754864798534,
          -67.09680638241177,
          -67.03502888295972,
          -66.9722187919527,
          -66.90837759207956,
          -66.84350558734594,
          -66.77760187731376,
          -66.71066432440588,
          -66.64268951385466,
          -66.57367270591327,
          -66.5036077797465,
          -66.43248716840374,
          -66.36030178406257,
          -66.2870409327245,
          -66.212692217213,
          -66.13724142733946,
          -66.06067241573726,
          -65.98296695769504,
          -65.90410459302119,
          -65.82406244761758,
          -65.74281503205057,
          -65.66033401391094,
          -65.57658796019956,
          -65.49154204525276,
          -65.4051577188982,
          -65.31739232852999,
          -65.22819868749922,
          -65.13752458076017,
          -65.0453121967624,
          -64.95149747231885,
          -64.85600933423723,
          -64.75876881789311,
          -64.65968803834201,
          -64.5586689837824,
          -64.45560209376242,
          -64.35036457499804,
          -64.24281839538604,
          -64.1328078806717,
          -64.02015681710779,
          -63.90466493540681,
          -63.78610361366184,
          -63.667300852054986,
          -63.54186855243709,
          -63.41246060164923,
          -63.278668887650454,
          -63.14001359775288,
          -62.99592623989386,
          -62.8457275064188,
          -62.68859805901218,
          -62.52353945913069,
          -62.34932116942342,
          -62.16440754141336,
          -61.966855535353794,
          -61.75416882196504,
          -61.523085555511855,
          -61.269263113684254,
          -60.98679923169285,
          -60.66748763286811,
          -60.29963429025818,
          -59.86613710086818,
          -59.34133521368229,
          -58.68589732986463,
          -57.83910718072357,
          -56.710122421866195,
          -55.180256818584276,
          -53.155473236894125,
          -50.710990140896286,
          -48.20126724953982,
          -46.073201342578926,
          -44.55972477733139,
          -43.63174142939102,
          -43.13882331704706,
          -42.931811311707875,
          -42.909162093058754,
          -43.01535882143474,
          -43.22536624051716,
          -43.53099228984494,
          -43.93231921777528,
          -44.43303929068512,
          -45.03809071256236,
          -45.752534468329344,
          -46.581166895269895,
          -47.52874960763327,
          -48.60098711380306,
          -49.806532419091226,
          -51.16032950340801,
          -52.68825408193295,
          -54.43108666743343,
          -56.43801621115671,
          -58.71866317862342,
          -61.121233322826086,
          -63.282501505613716,
          -64.90372289646413,
          -65.98338815328854,
          -66.67835682345105,
          -67.13540014830895,
          -67.44936653020854,
          -67.67520693525456,
          -67.84433446533852,
          -67.97516230510203,
          -68.07890492704428,
          -68.16267492074822,
          -68.23116024755873,
          -68.2875614149715,
          -68.3341342193699,
          -68.37251531460102,
          -68.40392393590496,
          -68.42929056918554,
          -68.4493411720552,
          -68.46465359809369,
          -68.47569621187242,
          -68.48285484593008,
          -68.48645197629753,
          -68.48676060948857,
          -68.48401451306194,
          -68.47841587616404,
          -68.4701411345249,
          -68.45934546410105,
          -68.44616629456107,
          -68.43072609085752,
          -68.41313458089263,
          -68.39349055862391,
          -68.37188335796462,
          -68.34839406853423,
          -68.323096546929,
          -68.29605826450688,
          -68.26734102320086,
          -68.23700156401445,
          -68.20509208742179,
          -68.17166070100666,
          -68.13675180649155,
          -68.10040643593715,
          -68.06266254503507,
          -68.02355526989946,
          -67.98311715263736,
          -67.9413783399961,
          -67.89836675868693,
          -67.85410827033365,
          -67.80862680851718,
          -67.76194449999406,
          -67.71408177181723,
          -67.66505744582356,
          -67.61488882171498,
          -67.56359174977104,
          -67.51118069405655,
          -67.45766878687375,
          -67.40306787504062,
          -67.3473885585365,
          -67.29064022186473,
          -67.23283105852586,
          -67.17396808878338,
          -67.11405717094347,
          -67.0531030062122,
          -66.99110913721813,
          -66.92807794011398,
          -66.86401061022482,
          -66.79890714104386,
          -66.73276629635836,
          -66.66558557521026,
          -66.59736116929466,
          -66.5280879123243,
          -66.45775922077533,
          -66.38636702537133,
          -66.31390169242431,
          -66.24035193415031,
          -66.16570470678057,
          -66.08994509520478,
          -66.01305618255388,
          -65.93501890297907,
          -65.85581187547578,
          -65.77541121629392,
          -65.69379032702105,
          -65.61091965491208,
          -65.52676642138962,
          -65.4412943139335,
          -65.35446313562758,
          -65.26622840553718,
          -65.17654090173492,
          -65.0853461371383,
          -64.9925837562481,
          -64.89818683835914,
          -64.80208108956309,
          -64.70418390198252,
          -64.60440325346488,
          -64.50263641470238,
          -64.39876842238255,
          -64.29267026647521,
          -64.18419672591098,
          -64.07318376894706,
          -63.95944541065167,
          -63.84276988832856,
          -63.722914973086226,
          -63.59960217797993,
          -63.47250954400289,
          -63.34126257531612,
          -63.205422741136275,
          -63.06447274294168,
          -62.917797430856396,
          -62.76465879354536,
          -62.60416276511356,
          -62.43521456723572,
          -62.256457734510285,
          -62.06618952214341,
          -61.862241502827246,
          -61.641807849903074,
          -61.40119336797181,
          -61.135435731789194,
          -60.83772619515642,
          -60.49850062154349,
          -60.10398194343714,
          -59.63380356378782,
          -59.057121586859374,
          -58.32645415514267,
          -57.369146573164464,
          -56.08108349169914,
          -54.34450176601008,
          -52.11952155505992,
          -49.603241859224816,
          -47.227267675795126,
          -45.367150768302174,
          -44.129333161693744,
          -43.41387571069957,
          -43.062351414265535,
          -42.945632439829275,
          -42.98434960606641,
          -43.13835524645221,
          -43.39128081173759,
          -43.73923395767925,
          -44.18418757252727,
          -44.730499947080425,
          -45.38318878444775,
          -46.147169050282294,
          -47.02714116013879,
          -48.028133124458826,
          -49.156901011691446,
          -50.42449581442878,
          -51.85022057242464,
          -53.46639434198574,
          -55.31957366317462,
          -57.45066723651588,
          -59.813515538642314,
          -62.15001607717356,
          -64.08051761534632,
          -65.4389364313332,
          -66.32242796312302,
          -66.89447654241485,
          -67.27788385358981,
          -67.54697378879096,
          -67.74429295282866,
          -67.89439434813502,
          -68.0119180395175,
          -68.10594852024592,
          -68.1823513554983,
          -68.24505632474765,
          -68.29678632040934,
          -68.33948644174575,
          -68.37458530672332,
          -68.40315916362016,
          -68.42603783234699,
          -68.44387479808171,
          -68.45719463360788,
          -68.46642575133423,
          -68.4719234656083,
          -68.47398653356824,
          -68.47286922882533,
          -68.46879030316133,
          -68.46193974476763,
          -68.45248395154086,
          -68.44056974683237,
          -68.4263275374442,
          -68.40987382708721,
          -68.39131323922602,
          -68.37074016180956,
          -68.34824009732573,
          -68.32389078066949,
          -68.29776311234549,
          -68.2699219433294,
          -68.24042673980973,
          -68.2093321498235,
          -68.17668848912412,
          -68.14254216007602,
          -68.10693601462071,
          -68.06990967015155,
          -68.03149978554814,
          -67.99174030317386,
          -67.95066266172752,
          -67.90829598383469,
          -67.86466724171298,
          -67.81980140362582,
          -67.77372156339739,
          -67.72644905491163,
          -67.67800355318498,
          -67.62840316338416,
          -67.57766449889071,
          -67.52580274941425,
          -67.47283173991879,
          -67.41876398105241,
          -67.36361071164467,
          -67.3073819337034,
          -67.25008644029695,
          -67.1917318366063,
          -67.1323245543359,
          -67.0718698596502,
          -67.01037185468248,
          -66.94783347263079,
          -66.88425646638012,
          -66.81964139051108,
          -66.75398757653294,
          -66.68729310100777,
          -66.61955474627437,
          -66.5507679533118,
          -66.48092676619771,
          -66.41002376754973,
          -66.33805000417091,
          -66.26499490202256,
          -66.19084616944988,
          -66.1155896874564,
          -66.0392093855504,
          -65.96168710149838,
          -65.88300242299586,
          -65.80313250892179,
          -65.72205188746065,
          -65.63973222786758,
          -65.55614208208762,
          -65.47124659172118,
          -65.3850071550022,
          -65.29738104744432,
          -65.20832098850072,
          -65.11777464511243,
          -65.02568406110875,
          -64.93198499906283,
          -64.83660617831912,
          -64.73946838923017,
          -64.64048345905533,
          -64.53955303910722,
          -64.43656717531486,
          -64.3314026147461,
          -64.22392078822986,
          -64.11396539303894,
          -64.00135947826111,
          -63.88590190722117,
          -63.767363033475,
          -63.64547937573601,
          -63.51994700720639,
          -63.390413278444825,
          -63.25646635825764,
          -63.117621886957366,
          -62.973305764128,
          -62.822831697955614,
          -62.66537156142757,
          -62.49991573031622,
          -62.325219254143484,
          -62.139727662018856,
          -61.94147297313156,
          -61.727925284204055,
          -61.49577677929304,
          -61.24062073882888,
          -60.95646380585792,
          -60.63496772655452,
          -60.2642437889887,
          -59.826898846345294,
          -59.29683654689951,
          -58.63409380217696,
          -57.77714360591914,
          -56.63453455281864,
          -55.08872766722075,
          -53.05197671694135,
          -50.61149768548419,
          -48.12763913706874,
          -46.03700631617733,
          -44.5577703223978,
          -43.65404341293807,
          -43.17609403800306,
          -42.978102015260205,
          -42.96146369361359,
          -43.07243966151459,
          -43.28686366875084,
          -43.5968958848275,
          -44.00271877596212,
          -44.50801298841719,
          -45.11766176307631,
          -45.83666567567938,
          -46.66978644615571,
          -47.621813922491256,
          -48.69859195226085,
          -49.90908252959803,
          -51.268763113445935,
          -52.80425597848846,
          -54.556974047785744,
          -56.57517572944334,
          -58.86223194878173,
          -61.25335458906598,
          -63.381580503819066,
          -64.96516177444501,
          -66.01694361676651,
          -66.69483700850776,
          -67.14194109171075,
          -67.4500086411483,
          -67.67217565858023,
          -67.8388857634194,
          -67.9680361736556,
          -68.0705580035736,
          -68.15340140150103,
          -68.22115705377978,
          -68.27696485009811,
          -68.32304147212206,
          -68.36099755671178,
          -68.3920345635949,
          -68.417070535084,
          -68.43682251906048,
          -68.45186185263702,
          -68.462652037455,
          -68.46957520740422,
          -68.47295097479912,
          -68.4730500918272,
          -68.47010452414256,
          -68.46431500033135,
          -68.45585675709243,
          -68.44488397457847,
          -68.43153324667624,
          -68.41592633006778,
          -68.39817234711008,
          -68.37836956979582,
          -68.35660687865749,
          -68.33296496666894,
          -68.30751734105245,
          -68.28033116338123,
          -68.25146795917125,
          -68.22098422120773,
          -68.18893192569449,
          -68.15535897630663,
          -68.12030958818977,
          -68.08382462158619,
          -68.04594187290601,
          -68.00669632959142,
          -67.96612039400628,
          -67.92424408059422,
          -67.88109518987542,
          -67.83669946219209,
          -67.79108071366974,
          -67.74426095643399,
          -67.69626050479627,
          -67.64709806887099,
          -67.59679083681633,
          -67.54535454675059,
          -67.49280354918663,
          -67.43915086070302,
          -67.38440820947366,
          -67.32858607313021,
          -67.27169370936802,
          -67.21373917960187,
          -67.15472936591686,
          -67.09466998147666,
          -67.03356557448434,
          -66.97141952573267,
          -66.90823403968484,
          -66.84401012902666,
          -66.77874759246122,
          -66.7124449855621,
          -66.64509958431456,
          -66.57670734097405,
          -66.50726283173245,
          -66.43675919560764,
          -66.36518806381841,
          -66.29253947883667,
          -66.21880180210181,
          -66.14396160924346,
          -66.06800357144309,
          -65.99091032135465,
          -65.91266230169087,
          -65.83323759431221,
          -65.75261172721646,
          -65.67075745642485,
          -65.58764451918995,
          -65.50323935428717,
          -65.41750478440203,
          -65.33039965463496,
          -65.24187841999586,
          -65.15189067334555,
          -65.06038060349681,
          -64.96728637099075,
          -64.87253938640913,
          -64.77606347272102,
          -64.677773888927,
          -64.57757618688699,
          -64.47536486647797,
          -64.3710217854207,
          -64.26441426887148,
          -64.15539284920933,
          -64.04378854716587,
          -63.929409580027865,
          -63.81203734865902,
          -63.691421509344394,
          -63.567273874230764,
          -63.439260798660186,
          -63.30699359471835,
          -63.170016343173444,
          -63.02779023773315,
          -62.87967325158743,
          -62.72489341251375,
          -62.562513223633275,
          -62.39138163448493,
          -62.2100682256491,
          -62.01677154236478,
          -61.809189157828136,
          -61.584329954686105,
          -61.338237330460316,
          -61.06557207873828,
          -60.758969355210816,
          -60.4080244974186,
          -59.99765971420688,
          -59.50545532181019,
          -58.897299816115634,
          -58.12062556085205,
          -57.095674551967804,
          -55.711961350313814,
          -53.85845306805287,
          -51.53776093985354,
          -49.014672589215635,
          -46.737689408452866,
          -45.02604089085535,
          -43.92484587943526,
          -43.30871347004267,
          -43.02162055498115,
          -42.946274185373895,
          -43.01401207986544,
          -43.191577598729914,
          -43.466350007646255,
          -43.8362599903645,
          -44.30406987092079,
          -44.87440799344144,
          -45.552318173189704,
          -46.34266236008008,
          -47.25015037756025,
          -48.28005613175883,
          -49.43985801847081,
          -50.74211655970068,
          -52.20872807343456,
          -53.875506928860304,
          -55.7908563110143,
          -57.985737250803005,
          -60.37391164428151,
          -62.64673547678278,
          -64.44683961289627,
          -65.68102616404587,
          -66.47883508251388,
          -66.99852831708742,
          -67.35051508548739,
          -67.60019597570083,
          -67.78496037577207,
          -67.92653090066325,
          -68.0379815801269,
          -68.12750339385478,
          -68.2004325999942,
          -68.26037342234682,
          -68.30984140368523,
          -68.35064534568595,
          -68.38412169159322,
          -68.41128272579351,
          -68.43291281586549,
          -68.44963242844904,
          -68.46194164937745,
          -68.47025037572517,
          -68.47489966556329,
          -68.47617711223481,
          -68.47432810961553,
          -68.4695642442825,
          -68.46206964604835,
          -68.45200586487373,
          -68.43951566795323,
          -68.42472603407231,
          -68.40775054298518,
          -68.38869130296486,
          -68.36764052150588,
          -68.34468179722265,
          -68.3198911916031,
          -68.29333812522933,
          -68.26508613279474,
          -68.23519350349777,
          -68.20371382768238,
          -68.17069646615802,
          -68.13618695529594,
          -68.10022735839591,
          -68.06285657176225,
          -68.02411059238689,
          -67.98402275279814,
          -67.94262392772228,
          -67.89994271632722,
          -67.85600560317985,
          -67.81083710058246,
          -67.76445987442352,
          -67.7168948554115,
          -67.6681613372191,
          -67.61827706283894,
          -67.56725830024159,
          -67.51511990826457,
          -67.46187539347055,
          -67.40753695868345,
          -67.35211554365661,
          -67.2956208583697,
          -67.23806140925974,
          -67.17944451868344,
          -67.11977633777522,
          -67.0590618528445,
          -66.99730488534627,
          -66.93450808544551,
          -66.87067291905404,
          -66.80579964823505,
          -66.73988730474085,
          -66.67293365639571,
          -66.60493516595221,
          -66.53588694197205,
          -66.46578268116231,
          -66.39461460151045,
          -66.3223733654271,
          -66.24904799195201,
          -66.17462575696052,
          -66.09909208005196,
          -66.0224303966482,
          -65.94462201352844,
          -65.86564594573899,
          -65.78547873248225,
          -65.70409422911055,
          -65.62146337190902,
          -65.53755391168625,
          -65.45233011150886,
          -65.36575240298146,
          -65.277776994453,
          -65.18835542315882,
          -65.09743404175606,
          -65.00495342763632,
          -64.91084770103824,
          -64.81504373480055,
          -64.7174602347851,
          -64.61800666512389,
          -64.516581986215,
          -64.41307316549359,
          -64.30735341079513,
          -64.19928006287816,
          -64.08869206636462,
          -63.97540691555697,
          -63.8592169412071,
          -63.739884763665195,
          -63.617137682589096,
          -63.49066069796935,
          -63.36008775263602,
          -63.224990640153,
          -63.0848648145909,
          -62.939111040804136,
          -62.787011390059845,
          -62.62769744457841,
          -62.46010761141792,
          -62.28292897486117,
          -62.09451682863411,
          -61.89278140362331,
          -61.675025447588055,
          -61.43770665280424,
          -61.17608268364899,
          -60.88366875487195,
          -60.55138952856451,
          -60.16622355540563,
          -59.70899773696961,
          -59.15077696101104,
          -58.44709574242438,
          -57.52970470962593,
          -56.299219252440786,
          -54.63673105079985,
          -52.480993884136545,
          -49.98573601305376,
          -47.56048040041097,
          -45.609201642557565,
          -44.28026721796501,
          -43.49530871176829,
          -43.09740571455946,
          -42.95058325148023,
          -42.96830186199126,
          -43.10551897653886,
          -43.34311502516027,
          -43.67583184794945,
          -44.105043161510984,
          -44.63490154034942,
          -45.270409101746516,
          -46.01653604881438,
          -46.878011969673935,
          -47.85975357413089,
          -48.96810872229757,
          -50.213216974343744,
          -51.612748467310695,
          -53.19666778211542,
          -55.00966293289652,
          -57.09675079637308,
          -59.43425836700694,
          -61.80122087232173,
          -63.815692192466045,
          -65.26294252486748,
          -66.21076238320546,
          -66.82289863700481,
          -67.23047177792682,
          -67.51443239537706,
          -67.72128565851149,
          -67.87778636509064,
          -67.99979974433877,
          -68.09711066659013,
          -68.17599939100498,
          -68.24065014488339,
          -68.2939472312205,
          -68.33794128808057,
          -68.37413186001687,
          -68.40364407268844,
          -68.42734222157137,
          -68.44590464526877,
          -68.45987420568079,
          -68.46969303754975,
          -68.4757269406947,
          -68.47828282216197,
          -68.47762139119132,
          -68.47396655622451,
          -68.46751249307235,
          -68.45842904229639,
          -68.44686588944276,
          -68.43295584546536,
          -68.41681745258968,
          -68.39855707776555,
          -68.37827061201855,
          -68.35604486320707,
          -68.33195870764479,
          -68.30608405021152,
          -68.27848663088707,
          -68.24922670709145,
          -68.21835963470645,
          -68.18593636582055,
          -68.15200387750015,
          -68.11660554298801,
          -68.07978145455742,
          -68.0415687054289,
          -68.00200163683527,
          -67.96111205518295,
          -67.91892942341566,
          -67.87548102994634,
          -67.83079213797443,
          -67.78488611754511,
          -67.73778456229404,
          -67.6895073925434,
          -67.64007294613452,
          -67.58949805814893,
          -67.5377981305348,
          -67.48498719242485,
          -67.4310779518749,
          -67.37608183956938,
          -67.32000904497924,
          -67.26286854535226,
          -67.20466812782384,
          -67.14541440487204,
          -67.08511282327912,
          -67.0237676666589,
          -66.96138205157631,
          -66.89795791721649,
          -66.83349600846907,
          -66.76799585224637,
          -66.70145572679937,
          -66.63387262364995,
          -66.56524220175763,
          -66.49555873338144,
          -66.42481504103506,
          -66.3530024247808,
          -66.28011057900213,
          -66.20612749762543,
          -66.1310393665973,
          -66.05483044219203,
          -65.97748291352768,
          -65.89897674732623,
          -65.81928951269894,
          -65.73839618324403,
          -65.65626891337583,
          -65.57287678515901,
          -65.48818552128641,
          -65.4021571590245,
          -65.31474967891002,
          -65.2259165808444,
          -65.13560639867582,
          -65.04376214258362,
          -64.95032065631041,
          -64.85521187343727,
          -64.75835795344075,
          -64.65967227378005,
          -64.55905824868266,
          -64.4564079381148,
          -64.35160040124285,
          -64.2444997367752,
          -64.13495273710718,
          -64.02278606276813,
          -63.90780281678562,
          -63.78977836238379,
          -63.668455178890426,
          -63.54353648426504,
          -63.41467826136759,
          -63.28147919760709,
          -63.14346786809548,
          -63.00008623586287,
          -62.850668171201576,
          -62.69441114649722,
          -62.53033844858768,
          -62.35724801551534,
          -62.17364209788812,
          -61.97762894696358,
          -61.76678292538319,
          -61.537941576227894,
          -61.286905072747466,
          -61.00798117904097,
          -60.69328037544814,
          -60.331598946804284,
          -59.90661322232982,
          -59.39392414304782,
          -58.75626000539064,
          -57.936166548306986,
          -56.84730777269772,
          -55.374425949304396,
          -53.41686570867965,
          -51.021612974026446,
          -48.50971768164562,
          -46.32982722485908,
          -44.74654067008006,
          -43.75719643661729,
          -43.22027112775663,
          -42.98430968548342,
          -42.94232306303173,
          -43.0342027217987,
          -43.23200680114854,
          -43.52595295471601,
          -43.915334591670316,
          -44.40349214603717,
          -44.99523860347502,
          -45.6956203635819,
          -46.50945401931082,
          -47.44148203557196,
          -48.49725117209937,
          -49.68497718633871,
          -51.0187054599926,
          -52.52279851235806,
          -54.2361536335998,
          -56.207781964133346,
          -58.4558917400229,
          -60.8536646530765,
          -63.055960494458326,
          -64.74040686977611,
          -65.87371591481208,
          -66.6043267522559,
          -67.08323128916072,
          -67.41058523830391,
          -67.64488549460016,
          -67.81958955140442,
          -67.95425638601496,
          -68.06075214442154,
          -68.14657130873974,
          -68.21663331471552,
          -68.27428368706875,
          -68.32187191819291,
          -68.36109693647677,
          -68.39322045722545,
          -68.4192026489657,
          -68.43979068070878,
          -68.45557788697222,
          -68.46704415768022,
          -68.47458406762762,
          -68.47852684102928,
          -68.47915077880326,
          -68.47669386535486,
          -68.47136169533925,
          -68.46333349000993,
          -68.45276673047286,
          -68.43980077451585,
          -68.42455971571556,
          -68.4071546700257,
          -68.3876856242206,
          -68.36624294502414,
          -68.34290862255847,
          -68.31775730360087,
          -68.29085715694046,
          -68.26227060339617,
          -68.23205493585617,
          -68.20026284914474,
          -68.16694289547137,
          -68.13213987795105,
          -68.09589519223901,
          -68.05824712437064,
          -68.01923111143385,
          -67.97887997042533,
          -67.93722409970783,
          -67.89429165676059,
          -67.8501087152036,
          -67.80469940367203,
          -67.75808602860603,
          -67.71028918275802,
          -67.66132784088988,
          -67.61121944392708,
          -67.55997997260093,
          -67.50762401150713,
          -67.45416480427988,
          -67.39961430053543,
          -67.34398319508603,
          -67.28728095982842,
          -67.2295158686602,
          -67.17069501565643,
          -67.11082432669453,
          -67.04990856462591,
          -66.98795132805259,
          -66.92495504367554,
          -66.86092095211569,
          -66.79584908707332,
          -66.72973824757851,
          -66.66258596303716,
          -66.59438845067754,
          -66.52514056494178,
          -66.45483573822304,
          -66.38346591228287,
          -66.31102145951935,
          -66.23749109313654,
          -66.16286176509813,
          -66.08711855052493,
          -66.0102445170174,
          -65.93222057708407,
          -65.85302532155337,
          -65.77263483150266,
          -65.69102246575271,
          -65.60815862051112,
          -65.52401045707118,
          -65.43854159274412,
          -65.35171174927963,
          -65.26347635191672,
          -65.17378607085296,
          -65.08258629522193,
          -64.98981652763372,
          -64.8954096847491,
          -64.79929128618163,
          -64.70137850992138,
          -64.60157908752812,
          -64.49979000571616,
          -64.39589597282642,
          -64.28976759787054,
          -64.18125921609452,
          -64.07020627674903,
          -63.956422184871876,
          -63.83969445691225,
          -63.71978000718372,
          -63.59639932385815,
          -63.46922921342257,
          -63.33789368173849,
          -63.20195236455048,
          -63.06088569954925,
          -62.914075714419035,
          -62.76078084142819,
          -62.60010248145256,
          -62.4309400046115,
          -62.251929287707426,
          -62.06135741266372,
          -61.857042213227274,
          -61.636158972222354,
          -61.394986007116195,
          -61.128523057881154,
          -60.8299058012086,
          -60.48948672701176,
          -60.09336074661715,
          -59.620960737420326,
          -59.041125779350715,
          -58.30588224277675,
          -57.34188362181489,
          -56.04435679941442,
          -54.296035023783666,
          -52.06093507884555,
          -49.5429357302947,
          -47.175930263345315,
          -45.33010388909587,
          -44.10555021796847,
          -43.39957572375308,
          -43.05392626957476,
          -42.94066659480145,
          -42.98152516130977,
          -43.13706754703775,
          -43.39132035580976,
          -43.74059314075048,
          -44.18695848302924,
          -44.7348239321629,
          -45.38923231486928,
          -46.155112925904405,
          -47.037178431974354,
          -48.04047647326646,
          -49.17180390115347,
          -50.4422934783713,
          -51.87139330121529,
          -53.49162996580192,
          -55.349696455533675,
          -57.48597333658565,
          -59.85186598270504,
          -62.18567707929494,
          -64.1085342177744,
          -65.45920902230962,
          -66.33736275859793,
          -66.90624467243124,
          -67.28782023234088,
          -67.5558071471554,
          -67.75241409606959,
          -67.90201931500492,
          -68.01917288172218,
          -68.11291157395948,
          -68.18907443614165,
          -68.2515756704565,
          -68.30312849127792,
          -68.34567166452926,
          -68.38062947299561,
          -68.4090750838916,
          -68.4318360581503,
          -68.4495641809382,
          -68.46278271675575,
          -68.47191905127171,
          -68.47732767884152,
          -68.47930669132278,
          -68.47810981479368,
          -68.47395534451488,
          -68.46703288351058,
          -68.45750850119157,
          -68.44552873802746,
          -68.43122375502479,
          -68.41470984059994,
          -68.3960914282514,
          -68.37546273719535,
          -68.35290911912988,
          -68.32850817346356,
          -68.30233067835884,
          -68.27444137380806,
          -68.24489962492858,
          -68.2137599873574,
          -68.18107269210003,
          -68.14688406356555,
          -68.11123688177884,
          -68.07417069764537,
          -68.03572210842053,
          -67.9959249992625,
          -67.95481075565759,
          -67.91240845066257,
          -67.86874501026034,
          -67.82384535953605,
          -67.77773255193985,
          -67.73042788357583,
          -67.68195099408473,
          -67.63231995547675,
          -67.58155135004964,
          -67.52966033835727,
          -67.47666071800312,
          -67.42256497396873,
          -67.36738432099006,
          -67.31112873846683,
          -67.25380699826155,
          -67.19542668566086,
          -67.13599421372875,
          -67.07551483116082,
          -67.01399262374143,
          -66.95143050938077,
          -66.88783022668413,
          -66.82319231692398,
          -66.75751609920638,
          -66.69079963858177,
          -66.62303970671503,
          -66.55423173471986,
          -66.48436975759468,
          -66.41344634961905,
          -66.34145254999568,
          -66.26837777778087,
          -66.19420973510367,
          -66.11893429741323,
          -66.04253538932046,
          -65.96499484432904,
          -65.88629224649256,
          -65.80640475167611,
          -65.72530688565546,
          -65.64297031589125,
          -65.55936359313577,
          -65.4744518584092,
          -65.38819650998728,
          -65.30055482403637,
          -65.21147952130138,
          -65.12091827067107,
          -65.02881311858711,
          -64.93509983093563,
          -64.83970713109468,
          -64.7425558142129,
          -64.64355771314777,
          -64.54261448566764,
          -64.43961618506025,
          -64.33443956672069,
          -64.22694607085324,
          -64.11697940521863,
          -64.00436263059171,
          -63.88889462326128,
          -63.77034575110444,
          -63.64845254854308,
          -63.52291110590778,
          -63.39336879221192,
          -63.259413795832074,
          -63.120561777299756,
          -62.97623865617965,
          -62.825758158808576,
          -62.6682921716904,
          -62.50283107463949,
          -62.3281299033832,
          -62.14263414089118,
          -61.94437570254553,
          -61.730824478667856,
          -61.49867226336267,
          -61.24351161443028,
          -60.959347838151835,
          -60.63784018352286,
          -60.26709518827403,
          -59.829710447785,
          -59.299571066584946,
          -58.63667585973998,
          -57.77941866093505,
          -56.63618853254088,
          -55.08916741574024,
          -53.050302808789866,
          -50.606912918842085,
          -48.1201678450397,
          -46.02749437812565,
          -44.54716808998248,
          -43.64294287198863,
          -43.16471043359707,
          -42.96642795165288,
          -42.94941095595435,
          -43.05991748701502,
          -43.273808524481296,
          -43.58327800194874,
          -43.98854093505806,
          -44.49330780713568,
          -45.102488665978306,
          -45.821106455371655,
          -46.65393746705834,
          -47.605772912539265,
          -48.68243780315537,
          -49.89284772718768,
          -51.25240130769306,
          -52.7876163912342,
          -54.53982750919546,
          -56.557437370333766,
          -58.84464629805384,
          -61.238241495948664,
          -63.37148584760228,
          -64.96038049253987,
          -66.01606929999164,
          -66.69641194818205,
          -67.14499114429796,
          -67.45395773894394,
          -67.67668772418541,
          -67.84376017417588,
          -67.97314952281667,
          -68.07583228812813,
          -68.15878617466517,
          -68.22661904500043,
          -68.28248173133339,
          -68.3285980175199,
          -68.36658322877157,
          -68.39764197058747,
          -68.4226944306293,
          -68.4424591441054,
          -68.45750849652934,
          -68.46830674083378,
          -68.47523655805077,
          -68.47861796514154,
          -68.47872201791566,
          -68.47578091286672,
          -68.46999555619337,
          -68.46154132268884,
          -68.45057250087308,
          -68.4372257703368,
          -68.42162295601246,
          -68.403873234914,
          -68.38407492301944,
          -68.36231693641317,
          -68.33867999691495,
          -68.31323763523488,
          -68.28605703215375,
          -68.25719972896432,
          -68.2267222314988,
          -68.19467652683355,
          -68.16111052780579,
          -68.12606845740946,
          -68.089591182742,
          -68.05171650634422,
          -68.01247942132099,
          -67.97191233542037,
          -67.93004526838624,
          -67.8869060261071,
          -67.8425203545233,
          -67.79691207571335,
          -67.75010320824438,
          -67.70211407347074,
          -67.65296338927186,
          -67.60266835240787,
          -67.55124471053708,
          -67.49870682476815,
          -67.4450677234516,
          -67.39033914781028,
          -67.33453158993238,
          -67.27765432349867,
          -67.21971542757453,
          -67.16072180369875,
          -67.10067918643885,
          -67.03959214752119,
          -66.97746409354606,
          -66.91429725727068,
          -66.85009268235764,
          -66.78485020140052,
          -66.71856840702436,
          -66.65124461569991,
          -66.58287482391337,
          -66.51345365615482,
          -66.44297430418948,
          -66.37142845685791,
          -66.2988062195773,
          -66.22509602259724,
          -66.15028451679734,
          -66.07435645573156,
          -65.9972945622882,
          -65.91907937814129,
          -65.83968909380816,
          -65.75909935676182,
          -65.67728305459205,
          -65.59421006968252,
          -65.50984700120418,
          -65.42415684946403,
          -65.33709865670184,
          -65.24862709725103,
          -65.15869200862448,
          -65.06723785327925,
          -64.97420309875781,
          -64.87951950118206,
          -64.78311127376432,
          -64.68489411785744,
          -64.58477408871494,
          -64.48264626147102,
          -64.37839315417263,
          -64.27188285357626,
          -64.16296677494168,
          -64.05147696806354,
          -63.93722285665923,
          -63.81998726476609,
          -63.699521538722685,
          -63.575539511998535,
          -63.447709975997455,
          -63.31564720290439,
          -63.17889890226006,
          -63.03693075883767,
          -62.88910636155294,
          -62.7346608387861,
          -62.572665780753105,
          -62.40198191976234,
          -62.22119433394254,
          -62.02852227124292,
          -61.82169143352009,
          -61.597749633749544,
          -61.352795241006866,
          -61.081568369913825,
          -60.77682129771927,
          -60.42832645517036,
          -60.021280030479254,
          -59.533694089390316,
          -58.932141140506005,
          -58.16510585733196,
          -57.15425329644559,
          -55.790196464507396,
          -53.95989010611123,
          -51.65637324298409,
          -49.13103272630894,
          -46.83097755694481,
          -45.08795463765666,
          -43.95899620553297,
          -43.323040539665314,
          -43.02310671277368,
          -42.939375941125256,
          -43.00104613018114,
          -43.17352796818256,
          -43.44349524536749,
          -43.808547721617394,
          -44.271315163498464,
          -44.83639192263863,
          -45.508832487326735,
          -46.29351997520841,
          -47.19516399620584,
          -48.21897638713487,
          -49.372256500700054,
          -50.66719989806366,
          -52.125093004398124,
          -53.78096630846402,
          -55.68293861402761,
          -57.86468128137918,
          -60.24960811103933,
          -62.53953597175019,
          -64.37001572272439,
          -65.6317206838676,
          -66.44813794136957,
          -66.97915425977776,
          -67.33795433235709,
          -67.59186093550524,
          -67.77936566632718,
          -67.92279806774363,
          -68.03557063655016,
          -68.12606920826894,
          -68.19974640757093,
          -68.26027847537476,
          -68.31022700772321,
          -68.35143113902475,
          -68.38524783242713,
          -68.41270359853397,
          -68.43459289547448,
          -68.45154350234853,
          -68.46406091284166,
          -68.47255910072097,
          -68.47738225310057,
          -68.47882040570117,
          -68.4771208887099,
          -68.4724968459672,
          -68.4651336762722,
          -68.45519397616141,
          -68.44282138551067,
          -68.4281436181237,
          -68.4112748785652,
          -68.39231781074305,
          -68.37136508493684,
          -68.34850070250975,
          -68.32380107780142,
          -68.29733594247645,
          -68.269169107095,
          -68.23935910685422,
          -68.20795975260032,
          -68.17502060377866,
          -68.14058737656583,
          -68.10470229775028,
          -68.06740441298811,
          -68.02872985627796,
          -67.98871208641344,
          -67.94738209498509,
          -67.90476858979982,
          -67.86089815688837,
          -67.81579540373662,
          -67.76948308596386,
          -67.72198221927152,
          -67.67331217825654,
          -67.62349078335917,
          -67.57253437707364,
          -67.52045789033983,
          -67.46727489989472,
          -67.4129976772404,
          -67.3576372297499,
          -67.30120333437667,
          -67.24370456429001,
          -67.18514830872944,
          -67.12554078625587,
          -67.06488705154129,
          -67.00319099575388,
          -66.94045534051087,
          -66.87668162535815,
          -66.81187018861104,
          -66.74602014136129,
          -66.67912933435197,
          -66.61119431737139,
          -66.54221029070855,
          -66.47217104810036,
          -66.4010689105581,
          -66.32889465024489,
          -66.2556374035211,
          -66.18128457204972,
          -66.10582171072241,
          -66.02923240088661,
          -65.95149810718142,
          -65.87259801590399,
          -65.7925088525453,
          -65.71120467568588,
          -65.62865664392427,
          -65.54483275196529,
          -65.45969753120987,
          -65.37321170937125,
          -65.2853318225343,
          -65.19600977183808,
          -65.10519231529204,
          -65.01282048337828,
          -64.91882890456168,
          -64.82314502387497,
          -64.72568819392255,
          -64.62636861282986,
          -64.5250860776295,
          -64.42172851375369,
          -64.31617023130701,
          -64.20826984584183,
          -64.09786778433552,
          -63.984783274785535,
          -63.86881068813879,
          -63.749715061417824,
          -63.62722657707558,
          -63.50103369983501,
          -63.37077457033366,
          -63.23602611233054,
          -63.09629010821975,
          -62.95097520794544,
          -62.79937341485948,
          -62.64062896970522,
          -62.47369662023638,
          -62.29728483966802,
          -62.109777345210105,
          -61.90912276771311,
          -61.69267667511455,
          -61.456970853352914,
          -61.197369134133154,
          -60.907542366311844,
          -60.57864889325545,
          -60.19802667398545,
          -59.74706747646952,
          -59.19773590511495,
          -58.50698660191206,
          -57.60866037577088,
          -56.40571785866236,
          -54.7791574272972,
          -52.65840570899283,
          -50.1761947187756,
          -47.72897740270234,
          -45.73301512072004,
          -44.35800798013829,
          -43.53745287207667,
          -43.11579638746474,
          -42.95375687960662,
          -42.96111290033925,
          -43.09025439003112,
          -43.32060164013779,
          -43.64616300060306,
          -44.06798264680974,
          -44.590090769585906,
          -45.217467598406515,
          -45.955101479933454,
          -46.807734101135246,
          -47.780235923584726,
          -48.87877884703774,
          -50.11310111982909,
          -51.50014015433432,
          -53.0687721985321,
          -54.8627063048722,
          -56.92837669686995,
          -59.25164592720945,
          -61.629557490193676,
          -63.68243419035439,
          -65.17301891124033,
          -66.15302936269144,
          -66.78533852579871,
          -67.20502885928413,
          -67.49639775690437,
          -67.70797190427595,
          -67.86762758872217,
          -67.9918493968469,
          -68.09077317255529,
          -68.1708852875803,
          -68.23649556497672,
          -68.29056754885471,
          -68.33520347900814,
          -68.37193747651386,
          -68.40191844499542,
          -68.4260274274876,
          -68.44495482422965,
          -68.45925236769581,
          -68.46936884619727,
          -68.47567514339394,
          -68.47848211848684,
          -68.47805360275211,
          -68.47461600765932,
          -68.46836554319842,
          -68.45947372375377,
          -68.44809162790285,
          -68.43435323805016,
          -68.41837809095152,
          -68.40027340527132,
          -68.3801358073287,
          -68.35805274445816,
          -68.33410365294873,
          -68.30836093114223,
          -68.28089075643949,
          -68.25175377612966,
          -68.22100569537389,
          -68.18869778069286,
          -68.1548772934941,
          -68.11958786528204,
          -68.08286982385762,
          -68.04476047810816,
          -68.0052943675043,
          -67.96450348136993,
          -67.92241745206518,
          -67.87906372549136,
          -67.83446771182254,
          -67.78865291877297,
          -67.74164106945356,
          -67.69345220643643,
          -67.64410478347361,
          -67.59361574602752,
          -67.54200060161943,
          -67.4892734808477,
          -67.43544718972996,
          -67.38053325402586,
          -67.32454195593947,
          -67.26748236365471,
          -67.20936235395703,
          -67.15018862820044,
          -67.08996672175566,
          -67.02870100703674,
          -66.96639469011673,
          -66.90304980089623,
          -66.83866717670703,
          -66.77324643917103,
          -66.70678596405854,
          -66.63928284382364,
          -66.57073284238966,
          -66.50113034169046,
          -66.43046827934113,
          -66.35873807673,
          -66.28592955665007,
          -66.21203084946984,
          -66.137028286677,
          -66.0609062803476,
          -65.98364718698527,
          -65.90523115376672,
          -65.8256359449894,
          -65.74483674608415,
          -65.66280594210936,
          -65.57951286706923,
          -65.49492351976362,
          -65.40900024103415,
          -65.32170134630745,
          -65.23298070616357,
          -65.14278726617418,
          -65.05106449545283,
          -64.95774975118633,
          -64.86277354358835,
          -64.76605868230334,
          -64.66751928092826,
          -64.56705959079704,
          -64.46457262815902,
          -64.35993854988365,
          -64.25302272113744,
          -64.14367340333749,
          -64.03171897075994,
          -63.916964537790115,
          -63.79918784357907,
          -63.678134193375705,
          -63.55351019106387,
          -63.42497590840147,
          -63.2921350124538,
          -63.15452219803966,
          -63.011587022768374,
          -62.862672881779496,
          -62.70698933031316,
          -62.54357517395938,
          -62.37124855235424,
          -62.188538401546026,
          -61.99358879044968,
          -61.78402300150751,
          -61.55674667360133,
          -61.307656745793174,
          -61.03120158676592,
          -60.719700875452155,
          -60.36226982612855,
          -59.94308243707477,
          -59.43853043447497,
          -58.81260283365998,
          -58.009783980069905,
          -56.94629923933791,
          -55.50855236761529,
          -53.591156470870615,
          -51.22295873719786,
          -48.70379132621674,
          -46.48422484817252,
          -44.85073705471278,
          -43.81851663963647,
          -43.251542615478456,
          -42.99623787703371,
          -42.94156860419311,
          -43.024170563987596,
          -43.21410920394535,
          -43.500548867341024,
          -43.882282627697755,
          -44.36244269806486,
          -44.94577963547448,
          -45.63734388388591,
          -46.44197103208009,
          -47.36438754058785,
          -48.410023986078755,
          -49.586789864504404,
          -50.90812231272882,
          -52.39738732294318,
          -54.09227341045836,
          -56.041709800367435,
          -58.269485190873304,
          -60.665393433182686,
          -62.897527300493266,
          -64.62795739529952,
          -65.80034753216042,
          -66.55671761622256,
          -67.0512175109826,
          -67.38799985829273,
          -67.62820074395914,
          -67.80677332611069,
          -67.94409981139661,
          -68.05250697468784,
          -68.13975567287906,
          -68.21092519672119,
          -68.26946051855649,
          -68.317775082231,
          -68.35761019165533,
          -68.39025641282736,
          -68.41669405022941,
          -68.43768465329732,
          -68.45383204988683,
          -68.46562394325875,
          -68.47346083759281,
          -68.47767653748738,
          -68.47855294112641,
          -68.47633090158178,
          -68.47121833350921,
          -68.46339635874969,
          -68.45302403385018,
          -68.44024203664142,
          -68.42517557769663,
          -68.40793672671929,
          -68.38862629161281,
          -68.36733535147044,
          -68.34414651879094,
          -68.31913498764663,
          -68.29236941101269,
          -68.26391264047462,
          -68.23382235415087,
          -68.20215159307776,
          -68.16894922203603,
          -68.13426032756044,
          -68.09812656334952,
          -68.06058645131488,
          -68.0216756449634,
          -67.98142716059233,
          -67.93987158076584,
          -67.8970372338073,
          -67.85295035237485,
          -67.80763521366032,
          -67.76111426338504,
          -67.71340822537076,
          -67.66453619819539,
          -67.61451574019912,
          -67.5633629439317,
          -67.51109250091389,
          -67.4577177574905,
          -67.40325076238737,
          -67.34770230651144,
          -67.29108195539388,
          -67.23339807463067,
          -67.17465784857318,
          -67.11486729244183,
          -67.0540312580042,
          -66.9921534328205,
          -66.9292363330928,
          -66.86528128997793,
          -66.8002884292619,
          -66.73425664413465,
          -66.66718356078161,
          -66.59906549642606,
          -66.52989740932847,
          -66.45967284019545,
          -66.38838384430953,
          -66.31602091357965,
          -66.24257288757572,
          -66.1680268524172,
          -66.09236802622233,
          -66.01557962960572,
          -65.93764273940674,
          -65.85853612359429,
          -65.77823605485705,
          -65.69671610001551,
          -65.61394688183402,
          -65.52989580922258,
          -65.44452677105343,
          -65.3577997879277,
          -65.26967061509934,
          -65.18009028850402,
          -65.08900460405077,
          -64.99635351847493,
          -64.90207045736094,
          -64.80608151292476,
          -64.70830451009891,
          -64.60864791452545,
          -64.50700954966739,
          -64.40327508217665,
          -64.2973162241258,
          -64.18898858714367,
          -64.07812910572463,
          -63.96455292345177,
          -63.84804960469177,
          -63.72837849235041,
          -63.605262975318695,
          -63.47838335134699,
          -63.347367862963644,
          -63.21178133262542,
          -63.07111060833373,
          -62.924745721800974,
          -62.771955210381066,
          -62.61185338637329,
          -62.443356332997546,
          -62.265121869456436,
          -62.075466333142124,
          -61.872247225182036,
          -61.65269460902273,
          -61.4131639804406,
          -61.14876619140354,
          -60.85280063488218,
          -60.515866945639566,
          -60.12444222061555,
          -59.658562936862594,
          -59.08803235053524,
          -58.366394408524165,
          -57.42249293935869,
          -56.15380323477391,
          -54.44207534891325,
          -52.23999037245532,
          -49.73006093709044,
          -47.337022513140006,
          -45.446248427095355,
          -44.17798063368735,
          -43.4392319393689,
          -43.0719867110534,
          -42.944843987078436,
          -42.97608153367149,
          -43.123951969091294,
          -43.37119208825615,
          -43.71347105780462,
          -44.15257694648588,
          -44.692814261288476,
          -45.3392101552675,
          -46.09671079512452,
          -46.97003375698084,
          -47.96416665849516,
          -49.08570833490588,
          -50.3453587517931,
          -51.76179730842911,
          -53.36645688297671,
          -55.20522980360966,
          -57.32071319230813,
          -59.67538534404581,
          -62.02460974001465,
          -63.98678290336611,
          -65.37782508199983,
          -66.28476369285794,
          -66.87145286262944,
          -67.26373393544921,
          -67.53831047214447,
          -67.73915352985522,
          -67.8916153957277,
          -68.01078585264491,
          -68.1060092697036,
          -68.18330646462194,
          -68.24670308527618,
          -68.29898306719325,
          -68.34213148010468,
          -68.37760379234734,
          -68.40649472169571,
          -68.42964707863582,
          -68.44772368026601,
          -68.46125593912515,
          -68.47067737739192,
          -68.47634719623456,
          -68.47856715976097,
          -68.4775939047253,
          -68.47364806723202,
          -68.46692115817949,
          -68.45758082106498,
          -68.44577490963782,
          -68.43163469183057,
          -68.41527739782697,
          -68.39680826927074,
          -68.3763222243577,
          -68.35390522375059,
          -68.32963540098207,
          -68.3035840055999,
          -68.27581619604237,
          -68.24639171086,
          -68.21536544063133,
          -68.18278791819542,
          -68.14870574116576,
          -68.1131619378881,
          -68.07619628587706,
          -68.03784558997505,
          -67.99814392620495,
          -67.95712285617311,
          -67.9148116160331,
          -67.87123728333006,
          -67.82642492449015,
          -67.78039772525503,
          -67.73317710598721,
          -67.68478282347749,
          -67.6352330606131,
          -67.58454450505032,
          -67.53273241786437,
          -67.47981069298517,
          -67.42579190811102,
          -67.37068736763175,
          -67.31450713806314,
          -67.25726007633328,
          -67.19895385122408,
          -67.13959495818044,
          -67.07918872761864,
          -67.01773932682602,
          -66.95524975544662,
          -66.89172183449718,
          -66.82715618880172,
          -66.76155222262908,
          -66.69490808829184,
          -66.62722064734596,
          -66.55848542395395,
          -66.48869654991482,
          -66.41784670069515,
          -66.34592702174095,
          -66.2729270441655,
          -66.19883458877838,
          -66.12363565724593,
          -66.04731430893509,
          -65.9698525217856,
          -65.89123003522404,
          -65.81142417286068,
          -65.73040964222331,
          -65.64815830838029,
          -65.56463893768272,
          -65.47981690718676,
          -65.39365387446472,
          -65.30610740154967,
          -65.21713052543028,
          -65.12667126613223,
          -65.03467206140913,
          -64.9410691148921,
          -64.84579164158629
         ],
         "yaxis": "y"
        }
       ],
       "layout": {
        "autosize": true,
        "legend": {
         "tracegroupgap": 0
        },
        "margin": {
         "t": 60
        },
        "template": {
         "data": {
          "bar": [
           {
            "error_x": {
             "color": "#2a3f5f"
            },
            "error_y": {
             "color": "#2a3f5f"
            },
            "marker": {
             "line": {
              "color": "#E5ECF6",
              "width": 0.5
             },
             "pattern": {
              "fillmode": "overlay",
              "size": 10,
              "solidity": 0.2
             }
            },
            "type": "bar"
           }
          ],
          "barpolar": [
           {
            "marker": {
             "line": {
              "color": "#E5ECF6",
              "width": 0.5
             },
             "pattern": {
              "fillmode": "overlay",
              "size": 10,
              "solidity": 0.2
             }
            },
            "type": "barpolar"
           }
          ],
          "carpet": [
           {
            "aaxis": {
             "endlinecolor": "#2a3f5f",
             "gridcolor": "white",
             "linecolor": "white",
             "minorgridcolor": "white",
             "startlinecolor": "#2a3f5f"
            },
            "baxis": {
             "endlinecolor": "#2a3f5f",
             "gridcolor": "white",
             "linecolor": "white",
             "minorgridcolor": "white",
             "startlinecolor": "#2a3f5f"
            },
            "type": "carpet"
           }
          ],
          "choropleth": [
           {
            "colorbar": {
             "outlinewidth": 0,
             "ticks": ""
            },
            "type": "choropleth"
           }
          ],
          "contour": [
           {
            "colorbar": {
             "outlinewidth": 0,
             "ticks": ""
            },
            "colorscale": [
             [
              0,
              "#0d0887"
             ],
             [
              0.1111111111111111,
              "#46039f"
             ],
             [
              0.2222222222222222,
              "#7201a8"
             ],
             [
              0.3333333333333333,
              "#9c179e"
             ],
             [
              0.4444444444444444,
              "#bd3786"
             ],
             [
              0.5555555555555556,
              "#d8576b"
             ],
             [
              0.6666666666666666,
              "#ed7953"
             ],
             [
              0.7777777777777778,
              "#fb9f3a"
             ],
             [
              0.8888888888888888,
              "#fdca26"
             ],
             [
              1,
              "#f0f921"
             ]
            ],
            "type": "contour"
           }
          ],
          "contourcarpet": [
           {
            "colorbar": {
             "outlinewidth": 0,
             "ticks": ""
            },
            "type": "contourcarpet"
           }
          ],
          "heatmap": [
           {
            "colorbar": {
             "outlinewidth": 0,
             "ticks": ""
            },
            "colorscale": [
             [
              0,
              "#0d0887"
             ],
             [
              0.1111111111111111,
              "#46039f"
             ],
             [
              0.2222222222222222,
              "#7201a8"
             ],
             [
              0.3333333333333333,
              "#9c179e"
             ],
             [
              0.4444444444444444,
              "#bd3786"
             ],
             [
              0.5555555555555556,
              "#d8576b"
             ],
             [
              0.6666666666666666,
              "#ed7953"
             ],
             [
              0.7777777777777778,
              "#fb9f3a"
             ],
             [
              0.8888888888888888,
              "#fdca26"
             ],
             [
              1,
              "#f0f921"
             ]
            ],
            "type": "heatmap"
           }
          ],
          "heatmapgl": [
           {
            "colorbar": {
             "outlinewidth": 0,
             "ticks": ""
            },
            "colorscale": [
             [
              0,
              "#0d0887"
             ],
             [
              0.1111111111111111,
              "#46039f"
             ],
             [
              0.2222222222222222,
              "#7201a8"
             ],
             [
              0.3333333333333333,
              "#9c179e"
             ],
             [
              0.4444444444444444,
              "#bd3786"
             ],
             [
              0.5555555555555556,
              "#d8576b"
             ],
             [
              0.6666666666666666,
              "#ed7953"
             ],
             [
              0.7777777777777778,
              "#fb9f3a"
             ],
             [
              0.8888888888888888,
              "#fdca26"
             ],
             [
              1,
              "#f0f921"
             ]
            ],
            "type": "heatmapgl"
           }
          ],
          "histogram": [
           {
            "marker": {
             "pattern": {
              "fillmode": "overlay",
              "size": 10,
              "solidity": 0.2
             }
            },
            "type": "histogram"
           }
          ],
          "histogram2d": [
           {
            "colorbar": {
             "outlinewidth": 0,
             "ticks": ""
            },
            "colorscale": [
             [
              0,
              "#0d0887"
             ],
             [
              0.1111111111111111,
              "#46039f"
             ],
             [
              0.2222222222222222,
              "#7201a8"
             ],
             [
              0.3333333333333333,
              "#9c179e"
             ],
             [
              0.4444444444444444,
              "#bd3786"
             ],
             [
              0.5555555555555556,
              "#d8576b"
             ],
             [
              0.6666666666666666,
              "#ed7953"
             ],
             [
              0.7777777777777778,
              "#fb9f3a"
             ],
             [
              0.8888888888888888,
              "#fdca26"
             ],
             [
              1,
              "#f0f921"
             ]
            ],
            "type": "histogram2d"
           }
          ],
          "histogram2dcontour": [
           {
            "colorbar": {
             "outlinewidth": 0,
             "ticks": ""
            },
            "colorscale": [
             [
              0,
              "#0d0887"
             ],
             [
              0.1111111111111111,
              "#46039f"
             ],
             [
              0.2222222222222222,
              "#7201a8"
             ],
             [
              0.3333333333333333,
              "#9c179e"
             ],
             [
              0.4444444444444444,
              "#bd3786"
             ],
             [
              0.5555555555555556,
              "#d8576b"
             ],
             [
              0.6666666666666666,
              "#ed7953"
             ],
             [
              0.7777777777777778,
              "#fb9f3a"
             ],
             [
              0.8888888888888888,
              "#fdca26"
             ],
             [
              1,
              "#f0f921"
             ]
            ],
            "type": "histogram2dcontour"
           }
          ],
          "mesh3d": [
           {
            "colorbar": {
             "outlinewidth": 0,
             "ticks": ""
            },
            "type": "mesh3d"
           }
          ],
          "parcoords": [
           {
            "line": {
             "colorbar": {
              "outlinewidth": 0,
              "ticks": ""
             }
            },
            "type": "parcoords"
           }
          ],
          "pie": [
           {
            "automargin": true,
            "type": "pie"
           }
          ],
          "scatter": [
           {
            "marker": {
             "colorbar": {
              "outlinewidth": 0,
              "ticks": ""
             }
            },
            "type": "scatter"
           }
          ],
          "scatter3d": [
           {
            "line": {
             "colorbar": {
              "outlinewidth": 0,
              "ticks": ""
             }
            },
            "marker": {
             "colorbar": {
              "outlinewidth": 0,
              "ticks": ""
             }
            },
            "type": "scatter3d"
           }
          ],
          "scattercarpet": [
           {
            "marker": {
             "colorbar": {
              "outlinewidth": 0,
              "ticks": ""
             }
            },
            "type": "scattercarpet"
           }
          ],
          "scattergeo": [
           {
            "marker": {
             "colorbar": {
              "outlinewidth": 0,
              "ticks": ""
             }
            },
            "type": "scattergeo"
           }
          ],
          "scattergl": [
           {
            "marker": {
             "colorbar": {
              "outlinewidth": 0,
              "ticks": ""
             }
            },
            "type": "scattergl"
           }
          ],
          "scattermapbox": [
           {
            "marker": {
             "colorbar": {
              "outlinewidth": 0,
              "ticks": ""
             }
            },
            "type": "scattermapbox"
           }
          ],
          "scatterpolar": [
           {
            "marker": {
             "colorbar": {
              "outlinewidth": 0,
              "ticks": ""
             }
            },
            "type": "scatterpolar"
           }
          ],
          "scatterpolargl": [
           {
            "marker": {
             "colorbar": {
              "outlinewidth": 0,
              "ticks": ""
             }
            },
            "type": "scatterpolargl"
           }
          ],
          "scatterternary": [
           {
            "marker": {
             "colorbar": {
              "outlinewidth": 0,
              "ticks": ""
             }
            },
            "type": "scatterternary"
           }
          ],
          "surface": [
           {
            "colorbar": {
             "outlinewidth": 0,
             "ticks": ""
            },
            "colorscale": [
             [
              0,
              "#0d0887"
             ],
             [
              0.1111111111111111,
              "#46039f"
             ],
             [
              0.2222222222222222,
              "#7201a8"
             ],
             [
              0.3333333333333333,
              "#9c179e"
             ],
             [
              0.4444444444444444,
              "#bd3786"
             ],
             [
              0.5555555555555556,
              "#d8576b"
             ],
             [
              0.6666666666666666,
              "#ed7953"
             ],
             [
              0.7777777777777778,
              "#fb9f3a"
             ],
             [
              0.8888888888888888,
              "#fdca26"
             ],
             [
              1,
              "#f0f921"
             ]
            ],
            "type": "surface"
           }
          ],
          "table": [
           {
            "cells": {
             "fill": {
              "color": "#EBF0F8"
             },
             "line": {
              "color": "white"
             }
            },
            "header": {
             "fill": {
              "color": "#C8D4E3"
             },
             "line": {
              "color": "white"
             }
            },
            "type": "table"
           }
          ]
         },
         "layout": {
          "annotationdefaults": {
           "arrowcolor": "#2a3f5f",
           "arrowhead": 0,
           "arrowwidth": 1
          },
          "autotypenumbers": "strict",
          "coloraxis": {
           "colorbar": {
            "outlinewidth": 0,
            "ticks": ""
           }
          },
          "colorscale": {
           "diverging": [
            [
             0,
             "#8e0152"
            ],
            [
             0.1,
             "#c51b7d"
            ],
            [
             0.2,
             "#de77ae"
            ],
            [
             0.3,
             "#f1b6da"
            ],
            [
             0.4,
             "#fde0ef"
            ],
            [
             0.5,
             "#f7f7f7"
            ],
            [
             0.6,
             "#e6f5d0"
            ],
            [
             0.7,
             "#b8e186"
            ],
            [
             0.8,
             "#7fbc41"
            ],
            [
             0.9,
             "#4d9221"
            ],
            [
             1,
             "#276419"
            ]
           ],
           "sequential": [
            [
             0,
             "#0d0887"
            ],
            [
             0.1111111111111111,
             "#46039f"
            ],
            [
             0.2222222222222222,
             "#7201a8"
            ],
            [
             0.3333333333333333,
             "#9c179e"
            ],
            [
             0.4444444444444444,
             "#bd3786"
            ],
            [
             0.5555555555555556,
             "#d8576b"
            ],
            [
             0.6666666666666666,
             "#ed7953"
            ],
            [
             0.7777777777777778,
             "#fb9f3a"
            ],
            [
             0.8888888888888888,
             "#fdca26"
            ],
            [
             1,
             "#f0f921"
            ]
           ],
           "sequentialminus": [
            [
             0,
             "#0d0887"
            ],
            [
             0.1111111111111111,
             "#46039f"
            ],
            [
             0.2222222222222222,
             "#7201a8"
            ],
            [
             0.3333333333333333,
             "#9c179e"
            ],
            [
             0.4444444444444444,
             "#bd3786"
            ],
            [
             0.5555555555555556,
             "#d8576b"
            ],
            [
             0.6666666666666666,
             "#ed7953"
            ],
            [
             0.7777777777777778,
             "#fb9f3a"
            ],
            [
             0.8888888888888888,
             "#fdca26"
            ],
            [
             1,
             "#f0f921"
            ]
           ]
          },
          "colorway": [
           "#636efa",
           "#EF553B",
           "#00cc96",
           "#ab63fa",
           "#FFA15A",
           "#19d3f3",
           "#FF6692",
           "#B6E880",
           "#FF97FF",
           "#FECB52"
          ],
          "font": {
           "color": "#2a3f5f"
          },
          "geo": {
           "bgcolor": "white",
           "lakecolor": "white",
           "landcolor": "#E5ECF6",
           "showlakes": true,
           "showland": true,
           "subunitcolor": "white"
          },
          "hoverlabel": {
           "align": "left"
          },
          "hovermode": "closest",
          "mapbox": {
           "style": "light"
          },
          "paper_bgcolor": "white",
          "plot_bgcolor": "#E5ECF6",
          "polar": {
           "angularaxis": {
            "gridcolor": "white",
            "linecolor": "white",
            "ticks": ""
           },
           "bgcolor": "#E5ECF6",
           "radialaxis": {
            "gridcolor": "white",
            "linecolor": "white",
            "ticks": ""
           }
          },
          "scene": {
           "xaxis": {
            "backgroundcolor": "#E5ECF6",
            "gridcolor": "white",
            "gridwidth": 2,
            "linecolor": "white",
            "showbackground": true,
            "ticks": "",
            "zerolinecolor": "white"
           },
           "yaxis": {
            "backgroundcolor": "#E5ECF6",
            "gridcolor": "white",
            "gridwidth": 2,
            "linecolor": "white",
            "showbackground": true,
            "ticks": "",
            "zerolinecolor": "white"
           },
           "zaxis": {
            "backgroundcolor": "#E5ECF6",
            "gridcolor": "white",
            "gridwidth": 2,
            "linecolor": "white",
            "showbackground": true,
            "ticks": "",
            "zerolinecolor": "white"
           }
          },
          "shapedefaults": {
           "line": {
            "color": "#2a3f5f"
           }
          },
          "ternary": {
           "aaxis": {
            "gridcolor": "white",
            "linecolor": "white",
            "ticks": ""
           },
           "baxis": {
            "gridcolor": "white",
            "linecolor": "white",
            "ticks": ""
           },
           "bgcolor": "#E5ECF6",
           "caxis": {
            "gridcolor": "white",
            "linecolor": "white",
            "ticks": ""
           }
          },
          "title": {
           "x": 0.05
          },
          "xaxis": {
           "automargin": true,
           "gridcolor": "white",
           "linecolor": "white",
           "ticks": "",
           "title": {
            "standoff": 15
           },
           "zerolinecolor": "white",
           "zerolinewidth": 2
          },
          "yaxis": {
           "automargin": true,
           "gridcolor": "white",
           "linecolor": "white",
           "ticks": "",
           "title": {
            "standoff": 15
           },
           "zerolinecolor": "white",
           "zerolinewidth": 2
          }
         }
        },
        "xaxis": {
         "anchor": "y",
         "autorange": true,
         "domain": [
          0,
          1
         ],
         "range": [
          0,
          2998.9750000065274
         ],
         "title": {
          "text": "t/ms"
         },
         "type": "linear"
        },
        "yaxis": {
         "anchor": "x",
         "autorange": true,
         "domain": [
          0,
          1
         ],
         "range": [
          -70.07416741443079,
          -41.198837710547416
         ],
         "title": {
          "text": "U/mV"
         },
         "type": "linear"
        }
       }
      },
      "image/png": "[encoded data removed]",
      "text/html": [
       "<div>                            <div id=\"f855bee1-55c3-4b6f-9ad2-cbe35c845419\" class=\"plotly-graph-div\" style=\"height:525px; width:100%;\"></div>            <script type=\"text/javascript\">                require([\"plotly\"], function(Plotly) {                    window.PLOTLYENV=window.PLOTLYENV || {};                                    if (document.getElementById(\"f855bee1-55c3-4b6f-9ad2-cbe35c845419\")) {                    Plotly.newPlot(                        \"f855bee1-55c3-4b6f-9ad2-cbe35c845419\",                        [{\"hovertemplate\":\"t/ms=%{x}<br>U/mV=%{y}<extra></extra>\",\"legendgroup\":\"\",\"line\":{\"color\":\"#636efa\",\"dash\":\"solid\"},\"marker\":{\"symbol\":\"circle\"},\"mode\":\"lines\",\"name\":\"\",\"showlegend\":false,\"x\":[0.0,0.9750000000000005,1.999999999999997,2.9999999999999933,3.99999999999999,4.975000000000003,5.975000000000017,6.975000000000032,7.975000000000046,8.97500000000006,9.975000000000074,10.975000000000088,11.975000000000103,12.975000000000117,13.975000000000131,14.975000000000145,15.97500000000016,16.975000000000104,17.975000000000048,18.99999999999999,19.999999999999932,20.999999999999876,21.99999999999982,22.999999999999762,23.999999999999705,24.99999999999965,25.99999999999959,26.999999999999535,27.999999999999478,28.99999999999942,29.999999999999364,30.999999999999307,31.99999999999925,32.9999999999992,33.99999999999914,34.99999999999908,35.99999999999903,36.99999999999897,37.99999999999891,38.999999999998856,39.9999999999988,40.99999999999874,41.999999999998685,42.99999999999863,43.99999999999857,44.999999999998515,45.99999999999846,46.9999999999984,47.999999999998344,48.99999999999829,49.99999999999823,50.999999999998174,51.99999999999812,52.99999999999806,53.999999999998,54.99999999999795,55.99999999999789,56.99999999999783,57.999999999997776,58.99999999999772,59.99999999999766,60.999999999997605,61.99999999999755,62.99999999999749,63.999999999997435,64.99999999999766,65.99999999999788,66.99999999999811,67.99999999999834,68.99999999999856,69.99999999999879,70.99999999999902,71.99999999999925,72.99999999999947,73.9999999999997,74.99999999999993,75.97500000000015,76.97500000000038,77.9750000000006,78.97500000000083,79.97500000000106,80.97500000000129,81.97500000000151,82.97500000000174,83.97500000000197,84.9750000000022,85.97500000000242,86.97500000000265,87.97500000000288,88.9750000000031,89.97500000000333,90.97500000000356,91.97500000000379,92.97500000000402,93.97500000000424,94.97500000000447,95.9750000000047,96.97500000000493,97.97500000000515,98.97500000000538,99.97500000000561,100.97500000000583,101.97500000000606,102.97500000000629,103.97500000000652,104.97500000000674,105.97500000000697,106.9750000000072,107.97500000000743,108.97500000000765,109.97500000000788,110.97500000000811,111.97500000000834,112.97500000000856,113.97500000000879,114.97500000000902,115.97500000000925,116.97500000000947,117.9750000000097,118.97500000000993,119.97500000001016,120.97500000001038,121.97500000001061,122.97500000001084,123.97500000001106,124.97500000001129,125.97500000001152,126.97500000001175,127.97500000001197,128.9750000000122,129.97500000001241,130.97500000001264,131.97500000001287,132.9750000000131,133.97500000001332,134.97500000001355,135.97500000001378,136.975000000014,137.97500000001423,138.97500000001446,139.9750000000147,140.97500000001492,141.97500000001514,142.97500000001537,143.9750000000156,144.97500000001583,145.97500000001605,146.97500000001628,147.9750000000165,148.97500000001673,149.97500000001696,150.9750000000172,151.97500000001742,152.97500000001764,153.97500000001787,154.9750000000181,155.97500000001833,156.97500000001855,157.97500000001878,158.975000000019,159.97500000001924,160.97500000001946,161.9750000000197,162.97500000001992,163.97500000002015,164.97500000002037,165.9750000000206,166.97500000002083,167.97500000002105,168.97500000002128,169.9750000000215,170.97500000002174,171.97500000002196,172.9750000000222,173.97500000002242,174.97500000002265,175.97500000002287,176.9750000000231,177.97500000002333,178.97500000002356,179.97500000002378,180.975000000024,181.97500000002424,182.97500000002447,183.9750000000247,184.97500000002492,185.97500000002515,186.97500000002537,187.9750000000256,188.97500000002583,189.97500000002606,190.97500000002628,191.9750000000265,192.97500000002674,193.97500000002697,194.9750000000272,195.97500000002742,196.97500000002765,197.97500000002788,198.9750000000281,199.97500000002833,200.97500000002856,201.97500000002879,202.975000000029,203.97500000002924,204.97500000002947,205.9750000000297,206.97500000002992,207.97500000003015,208.97500000003038,209.9750000000306,210.97500000003083,211.97500000003106,212.9750000000313,213.9750000000315,214.97500000003174,215.97500000003197,216.9750000000322,217.97500000003242,218.97500000003265,219.97500000003288,220.9750000000331,221.97500000003333,222.97500000003356,223.9750000000338,224.97500000003402,225.97500000003424,226.97500000003447,227.9750000000347,228.97500000003492,229.97500000003515,230.97500000003538,231.9750000000356,232.97500000003583,233.97500000003606,234.9750000000363,235.97500000003652,236.97500000003674,237.97500000003697,238.9750000000372,239.97500000003743,240.97500000003765,241.97500000003788,242.9750000000381,243.97500000003834,244.97500000003856,245.9750000000388,246.97500000003902,247.97500000003924,248.97500000003947,249.9750000000397,250.97500000003993,251.97500000004015,252.97500000004038,253.9750000000406,254.97500000004084,255.97500000004106,256.97500000004015,257.97500000003924,258.97500000003834,259.9750000000374,260.9750000000365,261.9750000000356,262.9750000000347,263.9750000000338,264.9750000000329,265.97500000003197,266.97500000003106,267.97500000003015,268.97500000002924,269.97500000002833,270.9750000000274,271.9750000000265,272.9750000000256,273.9750000000247,274.9750000000238,275.9750000000229,276.97500000002196,277.97500000002105,278.97500000002015,279.97500000001924,280.9750000000183,281.9750000000174,282.9750000000165,283.9750000000156,284.9750000000147,285.9750000000138,286.97500000001287,287.97500000001196,288.97500000001105,289.97500000001014,290.97500000000923,291.9750000000083,292.9750000000074,293.9750000000065,294.9750000000056,295.9750000000047,296.9750000000038,297.97500000000286,298.97500000000196,299.97500000000105,300.97500000000014,301.9999999999992,302.9999999999983,303.9999999999974,304.9999999999965,305.99999999999557,306.99999999999466,307.99999999999375,308.99999999999284,309.9999999999919,310.999999999991,311.9999999999901,312.9999999999892,313.9999999999883,314.9999999999874,315.99999999998647,316.99999999998556,317.99999999998465,318.99999999998374,319.99999999998283,320.9999999999819,321.999999999981,322.9999999999801,323.9999999999792,324.9999999999783,325.9999999999774,326.99999999997647,327.99999999997556,328.99999999997465,329.99999999997374,330.99999999997283,331.9999999999719,332.999999999971,333.9999999999701,334.9999999999692,335.9999999999683,336.9999999999674,337.99999999996646,338.99999999996555,339.99999999996464,340.99999999996373,341.9999999999628,342.9999999999619,343.999999999961,344.9999999999601,345.9999999999592,346.9999999999583,347.99999999995737,348.99999999995646,349.99999999995555,350.99999999995464,351.99999999995373,352.9999999999528,353.9999999999519,354.999999999951,355.9999999999501,356.9999999999492,357.9999999999483,358.99999999994736,359.99999999994645,360.99999999994554,361.99999999994463,362.9999999999437,363.9999999999428,364.9999999999419,365.999999999941,366.9999999999401,367.9999999999392,368.99999999993827,369.99999999993736,370.99999999993645,371.99999999993554,372.99999999993463,373.9999999999337,374.9999999999328,375.9999999999319,376.999999999931,377.9999999999301,378.9999999999292,379.99999999992826,380.99999999992735,381.99999999992644,382.99999999992554,383.9999999999246,384.9999999999237,385.9999999999228,386.9999999999219,387.999999999921,388.9999999999201,389.99999999991917,390.99999999991826,391.99999999991735,392.99999999991644,393.99999999991553,394.9999999999146,395.9999999999137,396.9999999999128,397.9999999999119,398.999999999911,399.9999999999101,400.99999999990916,401.99999999990825,402.99999999990735,403.99999999990644,404.9999999999055,405.9999999999046,406.9999999999037,407.9999999999028,408.9999999999019,409.999999999901,410.99999999990007,411.99999999989916,412.99999999989825,413.99999999989734,414.99999999989643,415.9999999998955,416.9999999998946,417.9999999998937,418.9999999998928,419.9999999998919,420.999999999891,421.99999999989006,422.99999999988916,423.99999999988825,424.99999999988734,425.9999999998864,426.9999999998855,427.9999999998846,428.9999999998837,429.9999999998828,430.9999999998819,431.99999999988097,432.99999999988006,433.99999999987915,434.99999999987824,435.99999999987733,436.9999999998764,437.9999999998755,438.9999999998746,439.9999999998737,440.9999999998728,441.9999999998719,442.99999999987097,443.99999999987006,444.99999999986915,445.99999999986824,446.9999999998673,447.9999999998664,448.9999999998655,449.9999999998646,450.9999999998637,451.9999999998628,452.99999999986187,453.99999999986096,454.99999999986005,455.99999999985914,456.99999999985823,457.9999999998573,458.9999999998564,459.9999999998555,460.9999999998546,461.9999999998537,462.9999999998528,463.99999999985187,464.99999999985096,465.99999999985005,466.99999999984914,467.9999999998482,468.9999999998473,469.9999999998464,470.9999999998455,471.9999999998446,472.9999999998437,473.99999999984277,474.99999999984186,475.99999999984095,476.99999999984004,477.99999999983913,478.9999999998382,479.9999999998373,480.9999999998364,481.9999999998355,482.9999999998346,483.9999999998337,484.99999999983277,485.99999999983186,486.99999999983095,487.99999999983004,488.99999999982913,489.9999999998282,490.9999999998273,491.9999999998264,492.9999999998255,493.9999999998246,494.9999999998237,495.99999999982276,496.99999999982185,497.99999999982094,498.99999999982003,499.9999999998191,500.9999999998182,501.9999999998173,502.9999999998164,503.9999999998155,504.9999999998146,505.99999999981367,506.99999999981276,507.99999999981185,508.99999999981094,509.99999999981003,510.9999999998091,511.9999999998082,512.9999999998073,513.9999999998064,514.9999999998055,515.9999999998046,516.9999999998037,517.9999999998028,518.9999999998018,519.9999999998009,520.9999999998,521.9999999997991,522.9999999997982,523.9999999997973,524.9999999997964,525.9999999997955,526.9999999997946,527.9999999997937,528.9999999997927,529.9999999997918,530.9999999997909,531.99999999979,532.9999999997891,533.9999999997882,534.9999999997873,535.9999999997864,536.9999999997855,537.9999999997846,538.9999999997837,539.9999999997827,540.9999999997818,541.9999999997809,542.99999999978,543.9999999997791,544.9999999997782,545.9999999997773,546.9999999997764,547.9999999997755,548.9999999997746,549.9999999997736,550.9999999997727,551.9999999997718,552.9999999997709,553.99999999977,554.9999999997691,555.9999999997682,556.9999999997673,557.9999999997664,558.9999999997655,559.9999999997646,560.9999999997636,561.9999999997627,562.9999999997618,563.9999999997609,564.99999999976,565.9999999997591,566.9999999997582,567.9999999997573,568.9999999997564,569.9999999997555,570.9999999997546,571.9999999997536,572.9999999997527,573.9999999997518,574.9999999997509,575.99999999975,576.9999999997491,577.9999999997482,578.9999999997473,579.9999999997464,580.9999999997455,581.9999999997445,582.9999999997436,583.9999999997427,584.9999999997418,585.9999999997409,586.99999999974,587.9999999997391,588.9999999997382,589.9999999997373,590.9999999997364,591.9999999997355,592.9999999997345,593.9999999997336,594.9999999997327,595.9999999997318,596.9999999997309,597.99999999973,598.9999999997291,599.9999999997282,600.9999999997273,601.9999999997264,602.9999999997254,603.9999999997245,604.9999999997236,605.9999999997227,606.9999999997218,607.9999999997209,608.99999999972,609.9999999997191,610.9999999997182,611.9999999997173,612.9999999997164,613.9999999997154,614.9999999997145,615.9999999997136,616.9999999997127,617.9999999997118,618.9999999997109,619.99999999971,620.9999999997091,621.9999999997082,622.9999999997073,623.9999999997063,624.9999999997054,625.9999999997045,626.9999999997036,627.9999999997027,628.9999999997018,629.9999999997009,630.9999999997,631.9999999996991,632.9999999996982,633.9999999996973,634.9999999996963,635.9999999996954,636.9999999996945,637.9999999996936,638.9999999996927,639.9999999996918,640.9999999996909,641.99999999969,642.9999999996891,643.9999999996882,644.9999999996872,645.9999999996863,646.9999999996854,647.9999999996845,648.9999999996836,649.9999999996827,650.9999999996818,651.9999999996809,652.99999999968,653.9999999996791,654.9999999996782,655.9999999996772,656.9999999996763,657.9999999996754,658.9999999996745,659.9999999996736,660.9999999996727,661.9999999996718,662.9999999996709,663.99999999967,664.9999999996691,665.9999999996681,666.9999999996672,667.9999999996663,668.9999999996654,669.9999999996645,670.9999999996636,671.9999999996627,672.9999999996618,673.9999999996609,674.99999999966,675.999999999659,676.9999999996581,677.9999999996572,678.9999999996563,679.9999999996554,680.9999999996545,681.9999999996536,682.9999999996527,683.9999999996518,684.9999999996509,685.99999999965,686.999999999649,687.9999999996481,688.9999999996472,689.9999999996463,690.9999999996454,691.9999999996445,692.9999999996436,693.9999999996427,694.9999999996418,695.9999999996409,696.99999999964,697.999999999639,698.9999999996381,699.9999999996372,700.9999999996363,701.9999999996354,702.9999999996345,703.9999999996336,704.9999999996327,705.9999999996318,706.9999999996309,707.99999999963,708.999999999629,709.9999999996281,710.9999999996272,711.9999999996263,712.9999999996254,713.9999999996245,714.9999999996236,715.9999999996227,716.9999999996218,717.9999999996209,718.99999999962,719.999999999619,720.9999999996181,721.9999999996172,722.9999999996163,723.9999999996154,724.9999999996145,725.9999999996136,726.9999999996127,727.9999999996118,728.9999999996108,729.9999999996099,730.999999999609,731.9999999996081,732.9999999996072,733.9999999996063,734.9999999996054,735.9999999996045,736.9999999996036,737.9999999996027,738.9999999996018,739.9999999996008,740.9999999995999,741.999999999599,742.9999999995981,743.9999999995972,744.9999999995963,745.9999999995954,746.9999999995945,747.9999999995936,748.9999999995927,749.9999999995918,750.9999999995908,751.9999999995899,752.999999999589,753.9999999995881,754.9999999995872,755.9999999995863,756.9999999995854,757.9999999995845,758.9999999995836,759.9999999995827,760.9999999995817,761.9999999995808,762.9999999995799,763.999999999579,764.9999999995781,765.9999999995772,766.9999999995763,767.9999999995754,768.9999999995745,769.9999999995736,770.9999999995727,771.9999999995717,772.9999999995708,773.9999999995699,774.999999999569,775.9999999995681,776.9999999995672,777.9999999995663,778.9999999995654,779.9999999995645,780.9999999995636,781.9999999995626,782.9999999995617,783.9999999995608,784.9999999995599,785.999999999559,786.9999999995581,787.9999999995572,788.9999999995563,789.9999999995554,790.9999999995545,791.9999999995536,792.9999999995526,793.9999999995517,794.9999999995508,795.9999999995499,796.999999999549,797.9999999995481,798.9999999995472,799.9999999995463,800.9999999995454,801.9999999995445,802.9999999995435,803.9999999995426,804.9999999995417,805.9999999995408,806.9999999995399,807.999999999539,808.9999999995381,809.9999999995372,810.9999999995363,811.9999999995354,812.9999999995345,813.9999999995335,814.9999999995326,815.9999999995317,816.9999999995308,817.9999999995299,818.999999999529,819.9999999995281,820.9999999995272,821.9999999995263,822.9999999995254,823.9999999995244,824.9999999995235,825.9999999995226,826.9999999995217,827.9999999995208,828.9999999995199,829.999999999519,830.9999999995181,831.9999999995172,832.9999999995163,833.9999999995154,834.9999999995144,835.9999999995135,836.9999999995126,837.9999999995117,838.9999999995108,839.9999999995099,840.999999999509,841.9999999995081,842.9999999995072,843.9999999995063,844.9999999995053,845.9999999995044,846.9999999995035,847.9999999995026,848.9999999995017,849.9999999995008,850.9999999994999,851.999999999499,852.9999999994981,853.9999999994972,854.9999999994963,855.9999999994953,856.9999999994944,857.9999999994935,858.9999999994926,859.9999999994917,860.9999999994908,861.9999999994899,862.999999999489,863.9999999994881,864.9999999994872,865.9999999994862,866.9999999994853,867.9999999994844,868.9999999994835,869.9999999994826,870.9999999994817,871.9999999994808,872.9999999994799,873.999999999479,874.9999999994781,875.9999999994772,876.9999999994762,877.9999999994753,878.9999999994744,879.9999999994735,880.9999999994726,881.9999999994717,882.9999999994708,883.9999999994699,884.999999999469,885.9999999994681,886.9999999994671,887.9999999994662,888.9999999994653,889.9999999994644,890.9999999994635,891.9999999994626,892.9999999994617,893.9999999994608,894.9999999994599,895.999999999459,896.999999999458,897.9999999994571,898.9999999994562,899.9999999994553,900.9999999994544,901.9999999994535,902.9999999994526,903.9999999994517,904.9999999994508,905.9999999994499,906.999999999449,907.999999999448,908.9999999994471,909.9999999994462,910.9999999994453,911.9999999994444,912.9999999994435,913.9999999994426,914.9999999994417,915.9999999994408,916.9999999994399,917.999999999439,918.999999999438,919.9999999994371,920.9999999994362,921.9999999994353,922.9999999994344,923.9999999994335,924.9999999994326,925.9999999994317,926.9999999994308,927.9999999994299,928.999999999429,929.999999999428,930.9999999994271,931.9999999994262,932.9999999994253,933.9999999994244,934.9999999994235,935.9999999994226,936.9999999994217,937.9999999994208,938.9999999994199,939.999999999419,940.999999999418,941.9999999994171,942.9999999994162,943.9999999994153,944.9999999994144,945.9999999994135,946.9999999994126,947.9999999994117,948.9999999994108,949.9999999994099,950.9999999994089,951.999999999408,952.9999999994071,953.9999999994062,954.9999999994053,955.9999999994044,956.9999999994035,957.9999999994026,958.9999999994017,959.9999999994008,960.9999999993998,961.9999999993989,962.999999999398,963.9999999993971,964.9999999993962,965.9999999993953,966.9999999993944,967.9999999993935,968.9999999993926,969.9999999993917,970.9999999993908,971.9999999993898,972.9999999993889,973.999999999388,974.9999999993871,975.9999999993862,976.9999999993853,977.9999999993844,978.9999999993835,979.9999999993826,980.9999999993817,981.9999999993807,982.9999999993798,983.9999999993789,984.999999999378,985.9999999993771,986.9999999993762,987.9999999993753,988.9999999993744,989.9999999993735,990.9999999993726,991.9999999993717,992.9999999993707,993.9999999993698,994.9999999993689,995.999999999368,996.9999999993671,997.9999999993662,998.9999999993653,999.9999999993644,1000.9999999993635,1001.9999999993626,1002.9999999993616,1003.9999999993607,1004.9999999993598,1005.9999999993589,1006.999999999358,1007.9999999993571,1008.9999999993562,1009.9999999993553,1010.9999999993544,1011.9999999993535,1012.9999999993526,1013.9999999993516,1014.9999999993507,1015.9999999993498,1016.9999999993489,1017.999999999348,1018.9999999993471,1019.9999999993462,1020.9999999993453,1021.9999999993444,1022.9999999993435,1023.9999999993425,1024.999999999346,1025.9999999993497,1026.9999999993533,1027.999999999357,1028.9999999993606,1029.9999999993643,1030.999999999368,1031.9999999993715,1032.9999999993752,1033.9999999993788,1034.9999999993825,1035.999999999386,1036.9999999993897,1037.9999999993934,1038.999999999397,1039.9999999994006,1040.9999999994043,1041.999999999408,1042.9999999994116,1043.9999999994152,1044.9999999994188,1045.9999999994225,1046.999999999426,1047.9999999994297,1048.9999999994334,1049.999999999437,1050.9999999994407,1051.9999999994443,1052.999999999448,1053.9999999994516,1054.9999999994552,1055.9999999994589,1056.9999999994625,1057.9999999994661,1058.9999999994698,1059.9999999994734,1060.999999999477,1061.9999999994807,1062.9999999994843,1063.999999999488,1064.9999999994916,1065.9999999994952,1066.9999999994989,1067.9999999995025,1068.9999999995061,1069.9999999995098,1070.9999999995134,1071.999999999517,1072.9999999995207,1073.9999999995243,1074.999999999528,1075.9999999995316,1076.9999999995352,1077.9999999995389,1078.9999999995425,1079.9999999995462,1080.9999999995498,1081.9999999995534,1082.999999999557,1083.9999999995607,1084.9999999995644,1085.999999999568,1086.9999999995716,1087.9999999995753,1088.999999999579,1089.9999999995825,1090.9999999995862,1091.9999999995898,1092.9999999995935,1093.999999999597,1094.9999999996007,1095.9999999996044,1096.999999999608,1097.9999999996116,1098.9999999996153,1099.999999999619,1100.9999999996226,1101.9999999996262,1102.9999999996298,1103.9999999996335,1104.999999999637,1105.9999999996407,1106.9999999996444,1107.999999999648,1108.9999999996517,1109.9999999996553,1110.999999999659,1111.9999999996626,1112.9999999996662,1113.9999999996699,1114.9999999996735,1115.9999999996771,1116.9999999996808,1117.9999999996844,1118.999999999688,1119.9999999996917,1120.9999999996953,1121.999999999699,1122.9999999997026,1123.9999999997062,1124.9999999997099,1125.9999999997135,1126.9999999997171,1127.9999999997208,1128.9999999997244,1129.999999999728,1130.9999999997317,1131.9999999997353,1132.999999999739,1133.9999999997426,1134.9999999997463,1135.99999999975,1136.9999999997535,1137.9999999997572,1138.9999999997608,1139.9999999997644,1140.999999999768,1141.9999999997717,1142.9999999997754,1143.999999999779,1144.9999999997826,1145.9999999997863,1146.99999999979,1147.9999999997935,1148.9999999997972,1149.9999999998008,1150.9999999998045,1151.999999999808,1152.9999999998117,1153.9999999998154,1154.999999999819,1155.9999999998226,1156.9999999998263,1157.99999999983,1158.9999999998336,1159.9999999998372,1160.9999999998408,1161.9999999998445,1162.9999999998481,1163.9999999998518,1164.9999999998554,1165.999999999859,1166.9999999998627,1167.9999999998663,1168.99999999987,1169.9999999998736,1170.9999999998772,1171.9999999998809,1172.9999999998845,1173.9999999998881,1174.9999999998918,1175.9999999998954,1176.999999999899,1177.9999999999027,1178.9999999999063,1179.99999999991,1180.9999999999136,1181.9999999999172,1182.9999999999209,1183.9999999999245,1184.9999999999281,1185.9999999999318,1186.9999999999354,1187.999999999939,1188.9999999999427,1189.9999999999463,1190.99999999995,1191.9999999999536,1192.9999999999573,1193.999999999961,1194.9999999999645,1195.9999999999682,1196.9999999999718,1197.9999999999754,1198.999999999979,1199.9999999999827,1200.9999999999864,1201.99999999999,1202.9999999999936,1203.9999999999973,1204.9750000000008,1205.9750000000045,1206.975000000008,1207.9750000000117,1208.9750000000154,1209.975000000019,1210.9750000000226,1211.9750000000263,1212.97500000003,1213.9750000000336,1214.9750000000372,1215.9750000000408,1216.9750000000445,1217.975000000048,1218.9750000000518,1219.9750000000554,1220.975000000059,1221.9750000000627,1222.9750000000663,1223.97500000007,1224.9750000000736,1225.9750000000772,1226.9750000000809,1227.9750000000845,1228.9750000000881,1229.9750000000918,1230.9750000000954,1231.975000000099,1232.9750000001027,1233.9750000001063,1234.97500000011,1235.9750000001136,1236.9750000001172,1237.9750000001209,1238.9750000001245,1239.9750000001281,1240.9750000001318,1241.9750000001354,1242.975000000139,1243.9750000001427,1244.9750000001463,1245.97500000015,1246.9750000001536,1247.9750000001573,1248.975000000161,1249.9750000001645,1250.9750000001682,1251.9750000001718,1252.9750000001754,1253.975000000179,1254.9750000001827,1255.9750000001864,1256.97500000019,1257.9750000001936,1258.9750000001973,1259.975000000201,1260.9750000002045,1261.9750000002082,1262.9750000002118,1263.9750000002155,1264.975000000219,1265.9750000002227,1266.9750000002264,1267.97500000023,1268.9750000002336,1269.9750000002373,1270.975000000241,1271.9750000002446,1272.9750000002482,1273.9750000002518,1274.9750000002555,1275.9750000002591,1276.9750000002628,1277.9750000002664,1278.97500000027,1279.9750000002737,1280.9750000002773,1281.975000000281,1282.9750000002846,1283.9750000002882,1284.9750000002919,1285.9750000002955,1286.9750000002991,1287.9750000003028,1288.9750000003064,1289.97500000031,1290.9750000003137,1291.9750000003173,1292.975000000321,1293.9750000003246,1294.9750000003282,1295.9750000003319,1296.9750000003355,1297.9750000003392,1298.9750000003428,1299.9750000003464,1300.97500000035,1301.9750000003537,1302.9750000003573,1303.975000000361,1304.9750000003646,1305.9750000003683,1306.975000000372,1307.9750000003755,1308.9750000003792,1309.9750000003828,1310.9750000003864,1311.97500000039,1312.9750000003937,1313.9750000003974,1314.975000000401,1315.9750000004046,1316.9750000004083,1317.975000000412,1318.9750000004155,1319.9750000004192,1320.9750000004228,1321.9750000004265,1322.97500000043,1323.9750000004337,1324.9750000004374,1325.975000000441,1326.9750000004447,1327.9750000004483,1328.975000000452,1329.9750000004556,1330.9750000004592,1331.9750000004628,1332.9750000004665,1333.9750000004701,1334.9750000004738,1335.9750000004774,1336.975000000481,1337.9750000004847,1338.9750000004883,1339.975000000492,1340.9750000004956,1341.9750000004992,1342.9750000005029,1343.9750000005065,1344.9750000005101,1345.9750000005138,1346.9750000005174,1347.975000000521,1348.9750000005247,1349.9750000005283,1350.975000000532,1351.9750000005356,1352.9750000005392,1353.9750000005429,1354.9750000005465,1355.9750000005502,1356.9750000005538,1357.9750000005574,1358.975000000561,1359.9750000005647,1360.9750000005683,1361.975000000572,1362.9750000005756,1363.9750000005793,1364.975000000583,1365.9750000005865,1366.9750000005902,1367.9750000005938,1368.9750000005974,1369.975000000601,1370.9750000006047,1371.9750000006084,1372.975000000612,1373.9750000006156,1374.9750000006193,1375.975000000623,1376.9750000006266,1377.9750000006302,1378.9750000006338,1379.9750000006375,1380.975000000641,1381.9750000006447,1382.9750000006484,1383.975000000652,1384.9750000006557,1385.9750000006593,1386.975000000663,1387.9750000006666,1388.9750000006702,1389.9750000006738,1390.9750000006775,1391.9750000006811,1392.9750000006848,1393.9750000006884,1394.975000000692,1395.9750000006957,1396.9750000006993,1397.975000000703,1398.9750000007066,1399.9750000007102,1400.9750000007139,1401.9750000007175,1402.9750000007211,1403.9750000007248,1404.9750000007284,1405.975000000732,1406.9750000007357,1407.9750000007393,1408.975000000743,1409.9750000007466,1410.9750000007502,1411.9750000007539,1412.9750000007575,1413.9750000007612,1414.9750000007648,1415.9750000007684,1416.975000000772,1417.9750000007757,1418.9750000007793,1419.975000000783,1420.9750000007866,1421.9750000007903,1422.975000000794,1423.9750000007975,1424.9750000008012,1425.9750000008048,1426.9750000008084,1427.975000000812,1428.9750000008157,1429.9750000008194,1430.975000000823,1431.9750000008266,1432.9750000008303,1433.975000000834,1434.9750000008376,1435.9750000008412,1436.9750000008448,1437.9750000008485,1438.975000000852,1439.9750000008557,1440.9750000008594,1441.975000000863,1442.9750000008667,1443.9750000008703,1444.975000000874,1445.9750000008776,1446.9750000008812,1447.9750000008848,1448.9750000008885,1449.9750000008921,1450.9750000008958,1451.9750000008994,1452.975000000903,1453.9750000009067,1454.9750000009103,1455.975000000914,1456.9750000009176,1457.9750000009212,1458.9750000009249,1459.9750000009285,1460.9750000009321,1461.9750000009358,1462.9750000009394,1463.975000000943,1464.9750000009467,1465.9750000009503,1466.975000000954,1467.9750000009576,1468.9750000009612,1469.9750000009649,1470.9750000009685,1471.9750000009722,1472.9750000009758,1473.9750000009794,1474.975000000983,1475.9750000009867,1476.9750000009903,1477.975000000994,1478.9750000009976,1479.9750000010013,1480.975000001005,1481.9750000010085,1482.9750000010122,1483.9750000010158,1484.9750000010195,1485.975000001023,1486.9750000010267,1487.9750000010304,1488.975000001034,1489.9750000010376,1490.9750000010413,1491.975000001045,1492.9750000010486,1493.9750000010522,1494.9750000010558,1495.9750000010595,1496.975000001063,1497.9750000010667,1498.9750000010704,1499.975000001074,1500.9750000010777,1501.9750000010813,1502.975000001085,1503.9750000010886,1504.9750000010922,1505.9750000010959,1506.9750000010995,1507.9750000011031,1508.9750000011068,1509.9750000011104,1510.975000001114,1511.9750000011177,1512.9750000011213,1513.975000001125,1514.9750000011286,1515.9750000011322,1516.9750000011359,1517.9750000011395,1518.9750000011431,1519.9750000011468,1520.9750000011504,1521.975000001154,1522.9750000011577,1523.9750000011613,1524.975000001165,1525.9750000011686,1526.9750000011722,1527.9750000011759,1528.9750000011795,1529.9750000011832,1530.9750000011868,1531.9750000011904,1532.975000001194,1533.9750000011977,1534.9750000012014,1535.975000001205,1536.9750000012086,1537.9750000012123,1538.975000001216,1539.9750000012195,1540.9750000012232,1541.9750000012268,1542.9750000012305,1543.975000001234,1544.9750000012377,1545.9750000012414,1546.975000001245,1547.9750000012486,1548.9750000012523,1549.975000001256,1550.9750000012596,1551.9750000012632,1552.9750000012668,1553.9750000012705,1554.975000001274,1555.9750000012777,1556.9750000012814,1557.975000001285,1558.9750000012887,1559.9750000012923,1560.975000001296,1561.9750000012996,1562.9750000013032,1563.9750000013069,1564.9750000013105,1565.9750000013141,1566.9750000013178,1567.9750000013214,1568.975000001325,1569.9750000013287,1570.9750000013323,1571.975000001336,1572.9750000013396,1573.9750000013432,1574.9750000013469,1575.9750000013505,1576.9750000013541,1577.9750000013578,1578.9750000013614,1579.975000001365,1580.9750000013687,1581.9750000013723,1582.975000001376,1583.9750000013796,1584.9750000013833,1585.975000001387,1586.9750000013905,1587.9750000013942,1588.9750000013978,1589.9750000014014,1590.975000001405,1591.9750000014087,1592.9750000014124,1593.975000001416,1594.9750000014196,1595.9750000014233,1596.975000001427,1597.9750000014305,1598.9750000014342,1599.9750000014378,1600.9750000014415,1601.975000001445,1602.9750000014487,1603.9750000014524,1604.975000001456,1605.9750000014596,1606.9750000014633,1607.975000001467,1608.9750000014706,1609.9750000014742,1610.9750000014778,1611.9750000014815,1612.9750000014851,1613.9750000014888,1614.9750000014924,1615.975000001496,1616.9750000014997,1617.9750000015033,1618.975000001507,1619.9750000015106,1620.9750000015142,1621.9750000015179,1622.9750000015215,1623.9750000015251,1624.9750000015288,1625.9750000015324,1626.975000001536,1627.9750000015397,1628.9750000015433,1629.975000001547,1630.9750000015506,1631.9750000015542,1632.9750000015579,1633.9750000015615,1634.9750000015651,1635.9750000015688,1636.9750000015724,1637.975000001576,1638.9750000015797,1639.9750000015833,1640.975000001587,1641.9750000015906,1642.9750000015943,1643.975000001598,1644.9750000016015,1645.9750000016052,1646.9750000016088,1647.9750000016124,1648.975000001616,1649.9750000016197,1650.9750000016234,1651.975000001627,1652.9750000016306,1653.9750000016343,1654.975000001638,1655.9750000016415,1656.9750000016452,1657.9750000016488,1658.9750000016525,1659.975000001656,1660.9750000016597,1661.9750000016634,1662.975000001667,1663.9750000016707,1664.9750000016743,1665.975000001678,1666.9750000016816,1667.9750000016852,1668.9750000016888,1669.9750000016925,1670.9750000016961,1671.9750000016998,1672.9750000017034,1673.975000001707,1674.9750000017107,1675.9750000017143,1676.975000001718,1677.9750000017216,1678.9750000017252,1679.9750000017289,1680.9750000017325,1681.9750000017361,1682.9750000017398,1683.9750000017434,1684.975000001747,1685.9750000017507,1686.9750000017543,1687.975000001758,1688.9750000017616,1689.9750000017652,1690.9750000017689,1691.9750000017725,1692.9750000017762,1693.9750000017798,1694.9750000017834,1695.975000001787,1696.9750000017907,1697.9750000017943,1698.975000001798,1699.9750000018016,1700.9750000018053,1701.975000001809,1702.9750000018125,1703.9750000018162,1704.9750000018198,1705.9750000018234,1706.975000001827,1707.9750000018307,1708.9750000018344,1709.975000001838,1710.9750000018416,1711.9750000018453,1712.975000001849,1713.9750000018525,1714.9750000018562,1715.9750000018598,1716.9750000018635,1717.975000001867,1718.9750000018707,1719.9750000018744,1720.975000001878,1721.9750000018817,1722.9750000018853,1723.975000001889,1724.9750000018926,1725.9750000018962,1726.9750000018998,1727.9750000019035,1728.9750000019071,1729.9750000019108,1730.9750000019144,1731.975000001918,1732.9750000019217,1733.9750000019253,1734.975000001929,1735.9750000019326,1736.9750000019362,1737.9750000019399,1738.9750000019435,1739.9750000019471,1740.9750000019508,1741.9750000019544,1742.975000001958,1743.9750000019617,1744.9750000019653,1745.975000001969,1746.9750000019726,1747.9750000019762,1748.9750000019799,1749.9750000019835,1750.9750000019872,1751.9750000019908,1752.9750000019944,1753.975000001998,1754.9750000020017,1755.9750000020053,1756.975000002009,1757.9750000020126,1758.9750000020163,1759.97500000202,1760.9750000020235,1761.9750000020272,1762.9750000020308,1763.9750000020344,1764.975000002038,1765.9750000020417,1766.9750000020454,1767.975000002049,1768.9750000020526,1769.9750000020563,1770.97500000206,1771.9750000020636,1772.9750000020672,1773.9750000020708,1774.9750000020745,1775.975000002078,1776.9750000020817,1777.9750000020854,1778.975000002089,1779.9750000020927,1780.9750000020963,1781.9750000021,1782.9750000021036,1783.9750000021072,1784.9750000021108,1785.9750000021145,1786.9750000021181,1787.9750000021218,1788.9750000021254,1789.975000002129,1790.9750000021327,1791.9750000021363,1792.97500000214,1793.9750000021436,1794.9750000021472,1795.9750000021509,1796.9750000021545,1797.9750000021581,1798.9750000021618,1799.9750000021654,1800.975000002169,1801.9750000021727,1802.9750000021763,1803.97500000218,1804.9750000021836,1805.9750000021872,1806.9750000021909,1807.9750000021945,1808.9750000021982,1809.9750000022018,1810.9750000022054,1811.975000002209,1812.9750000022127,1813.9750000022163,1814.97500000222,1815.9750000022236,1816.9750000022273,1817.975000002231,1818.9750000022345,1819.9750000022382,1820.9750000022418,1821.9750000022455,1822.975000002249,1823.9750000022527,1824.9750000022564,1825.97500000226,1826.9750000022636,1827.9750000022673,1828.975000002271,1829.9750000022746,1830.9750000022782,1831.9750000022818,1832.9750000022855,1833.975000002289,1834.9750000022927,1835.9750000022964,1836.9750000023,1837.9750000023037,1838.9750000023073,1839.975000002311,1840.9750000023146,1841.9750000023182,1842.9750000023218,1843.9750000023255,1844.9750000023291,1845.9750000023328,1846.9750000023364,1847.97500000234,1848.9750000023437,1849.9750000023473,1850.975000002351,1851.9750000023546,1852.9750000023582,1853.9750000023619,1854.9750000023655,1855.9750000023691,1856.9750000023728,1857.9750000023764,1858.97500000238,1859.9750000023837,1860.9750000023873,1861.975000002391,1862.9750000023946,1863.9750000023982,1864.9750000024019,1865.9750000024055,1866.9750000024092,1867.9750000024128,1868.9750000024164,1869.97500000242,1870.9750000024237,1871.9750000024274,1872.975000002431,1873.9750000024346,1874.9750000024383,1875.975000002442,1876.9750000024455,1877.9750000024492,1878.9750000024528,1879.9750000024565,1880.97500000246,1881.9750000024637,1882.9750000024674,1883.975000002471,1884.9750000024746,1885.9750000024783,1886.975000002482,1887.9750000024856,1888.9750000024892,1889.9750000024928,1890.9750000024965,1891.9750000025,1892.9750000025037,1893.9750000025074,1894.975000002511,1895.9750000025147,1896.9750000025183,1897.975000002522,1898.9750000025256,1899.9750000025292,1900.9750000025329,1901.9750000025365,1902.9750000025401,1903.9750000025438,1904.9750000025474,1905.975000002551,1906.9750000025547,1907.9750000025583,1908.975000002562,1909.9750000025656,1910.9750000025692,1911.9750000025729,1912.9750000025765,1913.9750000025801,1914.9750000025838,1915.9750000025874,1916.975000002591,1917.9750000025947,1918.9750000025983,1919.975000002602,1920.9750000026056,1921.9750000026092,1922.975000002613,1923.9750000026165,1924.9750000026202,1925.9750000026238,1926.9750000026274,1927.975000002631,1928.9750000026347,1929.9750000026384,1930.975000002642,1931.9750000026456,1932.9750000026493,1933.975000002653,1934.9750000026565,1935.9750000026602,1936.9750000026638,1937.9750000026675,1938.975000002671,1939.9750000026747,1940.9750000026784,1941.975000002682,1942.9750000026856,1943.9750000026893,1944.975000002693,1945.9750000026966,1946.9750000027002,1947.9750000027038,1948.9750000027075,1949.975000002711,1950.9750000027148,1951.9750000027184,1952.975000002722,1953.9750000027257,1954.9750000027293,1955.975000002733,1956.9750000027366,1957.9750000027402,1958.9750000027439,1959.9750000027475,1960.9750000027511,1961.9750000027548,1962.9750000027584,1963.975000002762,1964.9750000027657,1965.9750000027693,1966.975000002773,1967.9750000027766,1968.9750000027802,1969.9750000027839,1970.9750000027875,1971.9750000027911,1972.9750000027948,1973.9750000027984,1974.975000002802,1975.9750000028057,1976.9750000028093,1977.975000002813,1978.9750000028166,1979.9750000028203,1980.975000002824,1981.9750000028275,1982.9750000028312,1983.9750000028348,1984.9750000028384,1985.975000002842,1986.9750000028457,1987.9750000028494,1988.975000002853,1989.9750000028566,1990.9750000028603,1991.975000002864,1992.9750000028675,1993.9750000028712,1994.9750000028748,1995.9750000028785,1996.975000002882,1997.9750000028857,1998.9750000028894,1999.975000002893,2000.9750000028966,2001.9750000029003,2002.975000002904,2003.9750000029076,2004.9750000029112,2005.9750000029148,2006.9750000029185,2007.9750000029221,2008.9750000029258,2009.9750000029294,2010.975000002933,2011.9750000029367,2012.9750000029403,2013.975000002944,2014.9750000029476,2015.9750000029512,2016.9750000029549,2017.9750000029585,2018.9750000029621,2019.9750000029658,2020.9750000029694,2021.975000002973,2022.9750000029767,2023.9750000029803,2024.975000002984,2025.9750000029876,2026.9750000029912,2027.9750000029949,2028.9750000029985,2029.9750000030022,2030.9750000030058,2031.9750000030094,2032.975000003013,2033.9750000030167,2034.9750000030203,2035.975000003024,2036.9750000030276,2037.9750000030313,2038.975000003035,2039.9750000030385,2040.9750000030422,2041.9750000030458,2042.9750000030494,2043.975000003053,2044.9750000030567,2045.9750000030604,2046.975000003064,2047.9750000030676,2048.9750000030713,2049.975000003075,2050.9750000030785,2051.975000003082,2052.975000003086,2053.9750000030895,2054.975000003093,2055.9750000030967,2056.9750000031004,2057.975000003104,2058.9750000031077,2059.9750000031113,2060.975000003115,2061.9750000031186,2062.975000003122,2063.975000003126,2064.9750000031295,2065.975000003133,2066.9750000031368,2067.9750000031404,2068.975000003144,2069.9750000031477,2070.9750000031513,2071.975000003155,2072.9750000031586,2073.975000003162,2074.975000003166,2075.9750000031695,2076.975000003173,2077.975000003177,2078.9750000031804,2079.975000003184,2080.9750000031877,2081.9750000031913,2082.975000003195,2083.9750000031986,2084.9750000032022,2085.975000003206,2086.9750000032095,2087.975000003213,2088.975000003217,2089.9750000032204,2090.975000003224,2091.9750000032277,2092.9750000032313,2093.975000003235,2094.9750000032386,2095.9750000032423,2096.975000003246,2097.9750000032495,2098.975000003253,2099.975000003257,2100.9750000032604,2101.975000003264,2102.9750000032677,2103.9750000032714,2104.975000003275,2105.9750000032786,2106.9750000032823,2107.975000003286,2108.9750000032896,2109.975000003293,2110.975000003297,2111.9750000033005,2112.975000003304,2113.9750000033077,2114.9750000033114,2115.975000003315,2116.9750000033187,2117.9750000033223,2118.975000003326,2119.9750000033296,2120.975000003333,2121.975000003337,2122.9750000033405,2123.975000003344,2124.9750000033478,2125.9750000033514,2126.975000003355,2127.9750000033587,2128.9750000033623,2129.975000003366,2130.9750000033696,2131.975000003373,2132.975000003377,2133.9750000033805,2134.975000003384,2135.975000003388,2136.9750000033914,2137.975000003395,2138.9750000033987,2139.9750000034023,2140.975000003406,2141.9750000034096,2142.9750000034132,2143.975000003417,2144.9750000034205,2145.975000003424,2146.975000003428,2147.9750000034314,2148.975000003435,2149.9750000034387,2150.9750000034423,2151.975000003446,2152.9750000034496,2153.9750000034533,2154.975000003457,2155.9750000034605,2156.975000003464,2157.975000003468,2158.9750000034715,2159.975000003475,2160.9750000034787,2161.9750000034824,2162.975000003486,2163.9750000034896,2164.9750000034933,2165.975000003497,2166.9750000035006,2167.975000003504,2168.975000003508,2169.9750000035115,2170.975000003515,2171.9750000035187,2172.9750000035224,2173.975000003526,2174.9750000035297,2175.9750000035333,2176.975000003537,2177.9750000035406,2178.975000003544,2179.975000003548,2180.9750000035515,2181.975000003555,2182.9750000035588,2183.9750000035624,2184.975000003566,2185.9750000035697,2186.9750000035733,2187.975000003577,2188.9750000035806,2189.9750000035842,2190.975000003588,2191.9750000035915,2192.975000003595,2193.975000003599,2194.9750000036024,2195.975000003606,2196.9750000036097,2197.9750000036133,2198.975000003617,2199.9750000036206,2200.9750000036242,2201.975000003628,2202.9750000036315,2203.975000003635,2204.975000003639,2205.9750000036424,2206.975000003646,2207.9750000036497,2208.9750000036533,2209.975000003657,2210.9750000036606,2211.9750000036643,2212.975000003668,2213.9750000036715,2214.975000003675,2215.975000003679,2216.9750000036825,2217.975000003686,2218.9750000036897,2219.9750000036934,2220.975000003697,2221.9750000037006,2222.9750000037043,2223.975000003708,2224.9750000037116,2225.975000003715,2226.975000003719,2227.9750000037225,2228.975000003726,2229.9750000037297,2230.9750000037334,2231.975000003737,2232.9750000037407,2233.9750000037443,2234.975000003748,2235.9750000037516,2236.975000003755,2237.975000003759,2238.9750000037625,2239.975000003766,2240.9750000037698,2241.9750000037734,2242.975000003777,2243.9750000037807,2244.9750000037843,2245.975000003788,2246.9750000037916,2247.9750000037952,2248.975000003799,2249.9750000038025,2250.975000003806,2251.97500000381,2252.9750000038134,2253.975000003817,2254.9750000038207,2255.9750000038243,2256.975000003828,2257.9750000038316,2258.9750000038352,2259.975000003839,2260.9750000038425,2261.975000003846,2262.97500000385,2263.9750000038534,2264.975000003857,2265.9750000038607,2266.9750000038644,2267.975000003868,2268.9750000038716,2269.9750000038753,2270.975000003879,2271.9750000038825,2272.975000003886,2273.97500000389,2274.9750000038935,2275.975000003897,2276.9750000039007,2277.9750000039044,2278.975000003908,2279.9750000039116,2280.9750000039153,2281.975000003919,2282.9750000039226,2283.975000003926,2284.97500000393,2285.9750000039335,2286.975000003937,2287.9750000039407,2288.9750000039444,2289.975000003948,2290.9750000039517,2291.9750000039553,2292.975000003959,2293.9750000039626,2294.975000003966,2295.97500000397,2296.9750000039735,2297.975000003977,2298.9750000039808,2299.9750000039844,2300.975000003988,2301.9750000039917,2302.9750000039953,2303.975000003999,2304.9750000040026,2305.9750000040062,2306.97500000401,2307.9750000040135,2308.975000004017,2309.975000004021,2310.9750000040244,2311.975000004028,2312.9750000040317,2313.9750000040353,2314.975000004039,2315.9750000040426,2316.9750000040463,2317.97500000405,2318.9750000040535,2319.975000004057,2320.975000004061,2321.9750000040644,2322.975000004068,2323.9750000040717,2324.9750000040754,2325.975000004079,2326.9750000040826,2327.9750000040863,2328.97500000409,2329.9750000040935,2330.975000004097,2331.975000004101,2332.9750000041045,2333.975000004108,2334.9750000041117,2335.9750000041154,2336.975000004119,2337.9750000041226,2338.9750000041263,2339.97500000413,2340.9750000041336,2341.975000004137,2342.975000004141,2343.9750000041445,2344.975000004148,2345.9750000041518,2346.9750000041554,2347.975000004159,2348.9750000041627,2349.9750000041663,2350.97500000417,2351.9750000041736,2352.975000004177,2353.975000004181,2354.9750000041845,2355.975000004188,2356.9750000041918,2357.9750000041954,2358.975000004199,2359.9750000042027,2360.9750000042063,2361.97500000421,2362.9750000042136,2363.9750000042172,2364.975000004221,2365.9750000042245,2366.975000004228,2367.975000004232,2368.9750000042354,2369.975000004239,2370.9750000042427,2371.9750000042463,2372.97500000425,2373.9750000042536,2374.9750000042573,2375.975000004261,2376.9750000042645,2377.975000004268,2378.975000004272,2379.9750000042754,2380.975000004279,2381.9750000042827,2382.9750000042864,2383.97500000429,2384.9750000042936,2385.9750000042973,2386.975000004301,2387.9750000043045,2388.975000004308,2389.975000004312,2390.9750000043155,2391.975000004319,2392.9750000043227,2393.9750000043264,2394.97500000433,2395.9750000043337,2396.9750000043373,2397.975000004341,2398.9750000043446,2399.975000004348,2400.975000004352,2401.9750000043555,2402.975000004359,2403.9750000043628,2404.9750000043664,2405.97500000437,2406.9750000043737,2407.9750000043773,2408.975000004381,2409.9750000043846,2410.975000004388,2411.975000004392,2412.9750000043955,2413.975000004399,2414.975000004403,2415.9750000044064,2416.97500000441,2417.9750000044137,2418.9750000044173,2419.975000004421,2420.9750000044246,2421.9750000044282,2422.975000004432,2423.9750000044355,2424.975000004439,2425.975000004443,2426.9750000044464,2427.97500000445,2428.9750000044537,2429.9750000044573,2430.975000004461,2431.9750000044646,2432.9750000044683,2433.975000004472,2434.9750000044755,2435.975000004479,2436.975000004483,2437.9750000044864,2438.97500000449,2439.9750000044937,2440.9750000044974,2441.975000004501,2442.9750000045046,2443.9750000045083,2444.975000004512,2445.9750000045156,2446.975000004519,2447.975000004523,2448.9750000045265,2449.97500000453,2450.9750000045337,2451.9750000045374,2452.975000004541,2453.9750000045447,2454.9750000045483,2455.975000004552,2456.9750000045556,2457.975000004559,2458.975000004563,2459.9750000045665,2460.97500000457,2461.9750000045738,2462.9750000045774,2463.975000004581,2464.9750000045847,2465.9750000045883,2466.975000004592,2467.9750000045956,2468.975000004599,2469.975000004603,2470.9750000046065,2471.97500000461,2472.975000004614,2473.9750000046174,2474.975000004621,2475.9750000046247,2476.9750000046283,2477.975000004632,2478.9750000046356,2479.9750000046392,2480.975000004643,2481.9750000046465,2482.97500000465,2483.975000004654,2484.9750000046574,2485.975000004661,2486.9750000046647,2487.9750000046683,2488.975000004672,2489.9750000046756,2490.9750000046793,2491.975000004683,2492.9750000046865,2493.97500000469,2494.975000004694,2495.9750000046974,2496.975000004701,2497.9750000047047,2498.9750000047084,2499.975000004712,2500.9750000047156,2501.9750000047193,2502.975000004723,2503.9750000047266,2504.97500000473,2505.975000004734,2506.9750000047375,2507.975000004741,2508.9750000047447,2509.9750000047484,2510.975000004752,2511.9750000047557,2512.9750000047593,2513.975000004763,2514.9750000047666,2515.97500000477,2516.975000004774,2517.9750000047775,2518.975000004781,2519.9750000047848,2520.9750000047884,2521.975000004792,2522.9750000047957,2523.9750000047993,2524.975000004803,2525.9750000048066,2526.97500000481,2527.975000004814,2528.9750000048175,2529.975000004821,2530.975000004825,2531.9750000048284,2532.975000004832,2533.9750000048357,2534.9750000048393,2535.975000004843,2536.9750000048466,2537.9750000048502,2538.975000004854,2539.9750000048575,2540.975000004861,2541.975000004865,2542.9750000048684,2543.975000004872,2544.9750000048757,2545.9750000048793,2546.975000004883,2547.9750000048866,2548.9750000048903,2549.975000004894,2550.9750000048975,2551.975000004901,2552.975000004905,2553.9750000049085,2554.975000004912,2555.9750000049157,2556.9750000049194,2557.975000004923,2558.9750000049266,2559.9750000049303,2560.975000004934,2561.9750000049376,2562.975000004941,2563.975000004945,2564.9750000049485,2565.975000004952,2566.9750000049557,2567.9750000049594,2568.975000004963,2569.9750000049667,2570.9750000049703,2571.975000004974,2572.9750000049776,2573.975000004981,2574.975000004985,2575.9750000049885,2576.975000004992,2577.9750000049958,2578.9750000049994,2579.975000005003,2580.9750000050067,2581.9750000050103,2582.975000005014,2583.9750000050176,2584.9750000050212,2585.975000005025,2586.9750000050285,2587.975000005032,2588.975000005036,2589.9750000050394,2590.975000005043,2591.9750000050467,2592.9750000050503,2593.975000005054,2594.9750000050576,2595.9750000050612,2596.975000005065,2597.9750000050685,2598.975000005072,2599.975000005076,2600.9750000050794,2601.975000005083,2602.9750000050867,2603.9750000050904,2604.975000005094,2605.9750000050976,2606.9750000051013,2607.975000005105,2608.9750000051085,2609.975000005112,2610.975000005116,2611.9750000051195,2612.975000005123,2613.9750000051267,2614.9750000051304,2615.975000005134,2616.9750000051376,2617.9750000051413,2618.975000005145,2619.9750000051486,2620.975000005152,2621.975000005156,2622.9750000051595,2623.975000005163,2624.9750000051667,2625.9750000051704,2626.975000005174,2627.9750000051777,2628.9750000051813,2629.975000005185,2630.9750000051886,2631.975000005192,2632.975000005196,2633.9750000051995,2634.975000005203,2635.9750000052068,2636.9750000052104,2637.975000005214,2638.9750000052177,2639.9750000052213,2640.975000005225,2641.9750000052286,2642.9750000052322,2643.975000005236,2644.9750000052395,2645.975000005243,2646.975000005247,2647.9750000052504,2648.975000005254,2649.9750000052577,2650.9750000052613,2651.975000005265,2652.9750000052686,2653.9750000052722,2654.975000005276,2655.9750000052795,2656.975000005283,2657.975000005287,2658.9750000052904,2659.975000005294,2660.9750000052977,2661.9750000053014,2662.975000005305,2663.9750000053086,2664.9750000053123,2665.975000005316,2666.9750000053195,2667.975000005323,2668.975000005327,2669.9750000053305,2670.975000005334,2671.9750000053377,2672.9750000053414,2673.975000005345,2674.9750000053486,2675.9750000053523,2676.975000005356,2677.9750000053596,2678.975000005363,2679.975000005367,2680.9750000053705,2681.975000005374,2682.9750000053778,2683.9750000053814,2684.975000005385,2685.9750000053887,2686.9750000053923,2687.975000005396,2688.9750000053996,2689.975000005403,2690.975000005407,2691.9750000054105,2692.975000005414,2693.9750000054178,2694.9750000054214,2695.975000005425,2696.9750000054287,2697.9750000054323,2698.975000005436,2699.9750000054396,2700.9750000054432,2701.975000005447,2702.9750000054505,2703.975000005454,2704.975000005458,2705.9750000054614,2706.975000005465,2707.9750000054687,2708.9750000054723,2709.975000005476,2710.9750000054796,2711.9750000054833,2712.975000005487,2713.9750000054905,2714.975000005494,2715.975000005498,2716.9750000055014,2717.975000005505,2718.9750000055087,2719.9750000055124,2720.975000005516,2721.9750000055196,2722.9750000055233,2723.975000005527,2724.9750000055305,2725.975000005534,2726.975000005538,2727.9750000055415,2728.975000005545,2729.9750000055487,2730.9750000055524,2731.975000005556,2732.9750000055597,2733.9750000055633,2734.975000005567,2735.9750000055706,2736.975000005574,2737.975000005578,2738.9750000055815,2739.975000005585,2740.9750000055888,2741.9750000055924,2742.975000005596,2743.9750000055997,2744.9750000056033,2745.975000005607,2746.9750000056106,2747.975000005614,2748.975000005618,2749.9750000056215,2750.975000005625,2751.9750000056288,2752.9750000056324,2753.975000005636,2754.9750000056397,2755.9750000056433,2756.975000005647,2757.9750000056506,2758.9750000056542,2759.975000005658,2760.9750000056615,2761.975000005665,2762.975000005669,2763.9750000056724,2764.975000005676,2765.9750000056797,2766.9750000056833,2767.975000005687,2768.9750000056906,2769.9750000056943,2770.975000005698,2771.9750000057015,2772.975000005705,2773.975000005709,2774.9750000057124,2775.975000005716,2776.9750000057197,2777.9750000057234,2778.975000005727,2779.9750000057306,2780.9750000057343,2781.975000005738,2782.9750000057415,2783.975000005745,2784.975000005749,2785.9750000057525,2786.975000005756,2787.9750000057597,2788.9750000057634,2789.975000005767,2790.9750000057707,2791.9750000057743,2792.975000005778,2793.9750000057816,2794.975000005785,2795.975000005789,2796.9750000057925,2797.975000005796,2798.9750000057998,2799.9750000058034,2800.975000005807,2801.9750000058107,2802.9750000058143,2803.975000005818,2804.9750000058216,2805.975000005825,2806.975000005829,2807.9750000058325,2808.975000005836,2809.97500000584,2810.9750000058434,2811.975000005847,2812.9750000058507,2813.9750000058543,2814.975000005858,2815.9750000058616,2816.9750000058652,2817.975000005869,2818.9750000058725,2819.975000005876,2820.97500000588,2821.9750000058834,2822.975000005887,2823.9750000058907,2824.9750000058943,2825.975000005898,2826.9750000059016,2827.9750000059053,2828.975000005909,2829.9750000059125,2830.975000005916,2831.97500000592,2832.9750000059234,2833.975000005927,2834.9750000059307,2835.9750000059344,2836.975000005938,2837.9750000059416,2838.9750000059453,2839.975000005949,2840.9750000059526,2841.975000005956,2842.97500000596,2843.9750000059635,2844.975000005967,2845.9750000059707,2846.9750000059744,2847.975000005978,2848.9750000059817,2849.9750000059853,2850.975000005989,2851.9750000059926,2852.975000005996,2853.975000006,2854.9750000060035,2855.975000006007,2856.9750000060108,2857.9750000060144,2858.975000006018,2859.9750000060217,2860.9750000060253,2861.975000006029,2862.9750000060326,2863.975000006036,2864.97500000604,2865.9750000060435,2866.975000006047,2867.975000006051,2868.9750000060544,2869.975000006058,2870.9750000060617,2871.9750000060653,2872.975000006069,2873.9750000060726,2874.9750000060762,2875.97500000608,2876.9750000060835,2877.975000006087,2878.975000006091,2879.9750000060944,2880.975000006098,2881.9750000061017,2882.9750000061053,2883.975000006109,2884.9750000061126,2885.9750000061163,2886.97500000612,2887.9750000061235,2888.975000006127,2889.975000006131,2890.9750000061345,2891.975000006138,2892.9750000061417,2893.9750000061454,2894.975000006149,2895.9750000061526,2896.9750000061563,2897.97500000616,2898.9750000061636,2899.975000006167,2900.975000006171,2901.9750000061745,2902.975000006178,2903.9750000061817,2904.9750000061854,2905.975000006189,2906.9750000061927,2907.9750000061963,2908.9750000062,2909.9750000062036,2910.975000006207,2911.975000006211,2912.9750000062145,2913.975000006218,2914.9750000062218,2915.9750000062254,2916.975000006229,2917.9750000062327,2918.9750000062363,2919.97500000624,2920.9750000062436,2921.9750000062472,2922.975000006251,2923.9750000062545,2924.975000006258,2925.975000006262,2926.9750000062654,2927.975000006269,2928.9750000062727,2929.9750000062763,2930.97500000628,2931.9750000062836,2932.9750000062872,2933.975000006291,2934.9750000062945,2935.975000006298,2936.975000006302,2937.9750000063054,2938.975000006309,2939.9750000063127,2940.9750000063163,2941.97500000632,2942.9750000063236,2943.9750000063273,2944.975000006331,2945.9750000063345,2946.975000006338,2947.975000006342,2948.9750000063455,2949.975000006349,2950.9750000063527,2951.9750000063564,2952.97500000636,2953.9750000063636,2954.9750000063673,2955.975000006371,2956.9750000063746,2957.975000006378,2958.975000006382,2959.9750000063855,2960.975000006389,2961.9750000063927,2962.9750000063964,2963.9750000064,2964.9750000064037,2965.9750000064073,2966.975000006411,2967.9750000064146,2968.975000006418,2969.975000006422,2970.9750000064255,2971.975000006429,2972.9750000064328,2973.9750000064364,2974.97500000644,2975.9750000064437,2976.9750000064473,2977.975000006451,2978.9750000064546,2979.9750000064582,2980.975000006462,2981.9750000064655,2982.975000006469,2983.975000006473,2984.9750000064764,2985.97500000648,2986.9750000064837,2987.9750000064873,2988.975000006491,2989.9750000064946,2990.9750000064982,2991.975000006502,2992.9750000065055,2993.975000006509,2994.975000006513,2995.9750000065164,2996.97500000652,2997.9750000065237,2998.9750000065274],\"xaxis\":\"x\",\"y\":[-65.0,-65.676826523535,-65.95549732987887,-66.05999285862255,-66.10035448050618,-66.11193770872165,-66.10946001457623,-66.09873790687625,-66.08274494071377,-66.0629416731771,-66.040086701825,-66.0146010053782,-65.98673760080264,-65.95666262353842,-65.92449494045522,-65.89032596052458,-65.85422983439277,-65.81626891097427,-65.77649680480503,-65.73389956966048,-65.69059688229792,-65.64560755488873,-65.59896311492318,-65.55069112820681,-65.50081551429592,-65.44935678901905,-65.39633225046683,-65.34175611905427,-65.28563963892105,-65.22799114559811,-65.16881610344097,-65.10811711509487,-65.04589390439932,-64.98214327342596,-64.91685903357393,-64.85003191013358,-64.78164941904011,-64.71169571397718,-64.640151401247,-64.56699331916415,-64.49219427782805,-64.41572275418424,-64.33754253615268,-64.257612308194,-64.17588516903625,-64.09230807027856,-64.0068211620612,-63.91935702889887,-63.829839794918,-63.7381840728601,-63.644293725028774,-63.548060396557176,-63.44936177121881,-63.34805948705219,-63.2439966320382,-63.13699471790421,-63.026850000705664,-62.91332897766768,-62.79616283719768,-62.67504056762083,-62.549600332644175,-62.41941858670714,-62.283996215383006,-62.14274072094244,-61.99494309560697,-61.83974748162897,-61.676110926389775,-61.50274937823472,-61.31806434307536,-61.120042040594036,-60.90611301841671,-60.67295435392332,-60.41620791560578,-60.13007570712764,-59.806736820398655,-59.435513252945825,-59.01346604365761,-58.49924311825569,-57.8757341633968,-57.10833748012098,-56.15875736718883,-54.99966220510572,-53.64608168210454,-52.191250549061415,-50.80283544297325,-49.653265392422405,-48.840528221058946,-48.37033556894864,-48.1921245163654,-48.24129556827069,-48.4628806372267,-48.818120449750005,-49.282780140835435,-49.843439716825245,-50.494427069176204,-51.23606789500007,-52.07418078069006,-53.02052182733024,-54.093609301369845,-55.31834516526153,-56.71982811642333,-58.300934839583896,-59.99454922501839,-61.626277168564044,-62.985163384248935,-63.97135088040531,-64.62727297306365,-65.05169791006517,-65.33137980697627,-65.52385039508276,-65.66314988813569,-65.76865154470079,-65.8513987270704,-65.91785111477357,-65.97194557487474,-66.01620361813539,-66.05232695679337,-66.08152274365678,-66.104685850514,-66.12250455783158,-66.13552431406755,-66.14418786372023,-66.14886158598753,-66.14985347180354,-66.14742582600263,-66.14180451217544,-66.1331858505643,-66.12174187271042,-66.10762439451031,-66.09096822023072,-66.07189369502062,-66.05050876094936,-66.02691062929428,-66.00118715258702,-65.97341795908397,-65.94367539736398,-65.91202532781094,-65.87852778947733,-65.84323756472851,-65.80620465932614,-65.76747471200937,-65.72708934482263,-65.6850864632078,-65.64150051318019,-65.5963627014863,-65.54970118354524,-65.5015412230595,-65.45190532645975,-65.4008133547377,-65.34828261470194,-65.294327931269,-65.23896170205039,-65.18219393514445,-65.12403227077205,-65.06448198714936,-65.0035459906798,-64.94122479039531,-64.87751645625988,-64.81241656076337,-64.74591810292232,-64.67801141355916,-64.60868404044233,-64.53792061145968,-64.46570267366155,-64.392008505563,-64.31681289949712,-64.24008691028017,-64.16179756563174,-64.08190753295712,-64.00037473603447,-63.91715191382976,-63.832186112143624,-63.745418096868484,-63.6567816752591,-63.56620290875173,-63.473599197251545,-63.37887821024895,-63.28193663452801,-63.1826587009644,-63.080914443891736,-62.976557634729275,-62.86942331660293,-62.75932484713403,-62.646050331119525,-62.52935829132953,-62.40897238123739,-62.28457488429287,-62.15579866457739,-62.02221712558654,-61.883331585971824,-61.73855527723697,-61.587192884967756,-61.428414158186996,-61.26121955123734,-61.084395067203985,-60.89645233779559,-60.695548355587405,-60.47937697312978,-60.24502105699687,-59.988749804555354,-59.705740196807426,-59.38969573658134,-59.03233296376043,-58.622717180739684,-58.14648110437469,-57.58512008552,-56.91596046159084,-56.11423382342592,-55.15990081656013,-54.05203846016987,-52.828660297915185,-51.57754773485223,-50.41805152111491,-49.456851921672815,-48.75125127515369,-48.30496105269179,-48.08810233607432,-48.06024844660039,-48.18485738136083,-48.43464247087128,-48.79165745871378,-49.24545646301072,-49.79115740196708,-50.42810952888933,-51.15930949483626,-51.991490353092075,-52.93566627581817,-54.007573126775604,-55.22642862675847,-56.6080017860552,-58.14463292939286,-59.769606521593104,-61.336805206286726,-62.67683075002197,-63.70065747866692,-64.4274311271003,-64.92932880651385,-65.27868265839281,-65.52879997024681,-65.71435870003998,-65.85686750656579,-65.96955755704167,-66.06068088434344,-66.13552248782038,-66.19758274164087,-66.24926623985432,-66.29228591093361,-66.3279040992478,-66.35707978272009,-66.38056098920877,-66.39894456841654,-66.41271603647627,-66.42227692104257,-66.42796404099931,-66.43006343418395,-66.42882063788429,-66.42444842223082,-66.41713270491894,-66.4070371415335,-66.39430673438595,-66.37907070259962,-66.36144478845986,-66.34153312815604,-66.31942978221838,-66.29521999729774,-66.26898125390292,-66.24078414205879,-66.21069309750564,-66.17876702391496,-66.1450598212969,-66.10962083651447,-66.07249524868736,-66.03372439974854,-65.99334607835746,-65.95139476392426,-65.90790183611266,-65.86289575427476,-65.81640221041215,-65.7684442585557,-65.7190424229559,-65.66821478696912,-65.61597706414129,-65.56234265266392,-65.50732267404852,-65.45092599665082,-65.39315924438115,-65.3340267907297,-65.27353073804234,-65.2116708816975,-65.14844465868055,-65.08384707976148,-65.01787064425334,-64.95050523603697,-64.88173799923231,-64.81155319150872,-64.73993201266039,-64.66685240553736,-64.59228882589301,-64.51621197701013,-64.43858850417766,-64.35938064310912,-64.27854581522803,-64.1939515100502,-64.10966939739467,-64.02359706964799,-63.9356670548788,-63.84580385583374,-63.75392296650347,-63.659929720154175,-63.563717934372534,-63.46516831031089,-63.36414653248886,-63.26050100156769,-63.154060114384734,-63.04462898177473,-62.93198544336739,-62.81587519674364,-62.69600580234383,-62.57203924953384,-62.443582665452666,-62.310176604867486,-62.17128015935351,-62.02625184218991,-61.8743248037228,-61.71457435310683,-61.54587491869687,-61.36684233637058,-61.17575550364406,-60.9704486547796,-60.74816130040338,-60.50532648699891,-60.23726840421723,-59.93776619984663,-59.598421267010465,-59.20774240647803,-58.74985110474038,-58.20275977366153,-57.536449595066905,-56.71188788215606,-55.68445443735098,-54.41915004073245,-52.92501496677825,-51.296277987393495,-49.71084716603707,-48.3553898508202,-47.338792841026425,-46.671456096722956,-46.302609941009784,-46.165465866154236,-46.20330714405243,-46.37701738062253,-46.663107392581395,-47.049131263580364,-47.52959941904794,-48.10320912256278,-48.771326481313395,-49.537474065785496,-50.4076405291614,-51.39131020876414,-52.50306562570668,-53.76415796666632,-55.20175987366316,-56.8390073368109,-58.66189845884473,-60.5606295071058,-62.316265869047335,-63.72657084666917,-64.74093323039016,-65.43214312526538,-65.90089134968738,-66.22670066202394,-66.46162445678422,-66.63752368186556,-66.77365383255855,-66.88181687362886,-66.96944765111297,-67.0413904584335,-67.10091660257886,-67.15031421059766,-67.19123730390405,-67.2249178029193,-67.2522979805445,-67.27411564556552,-67.29096049669273,-67.3033124137448,-67.31156812622538,-67.31606021054546,-67.31707090209507,-67.31484232490992,-67.30958419617876,-67.30147971780178,-67.2906901443711,-67.2773583698523,-67.26161177640923,-67.24356452119474,-67.22331938989157,-67.20096931257193,-67.17659861368914,-67.15028405072162,-67.12209568331417,-67.09209760532454,-67.06034856509523,-67.02690249387356,-66.99180895819364,-66.95511354881619,-66.9168582163844,-66.87708156194644,-66.83581908898445,-66.79310342237248,-66.74896449867582,-66.70342973140956,-66.65652415425888,-66.60827054470977,-66.55868953009382,-66.50779967771686,-66.45561757041814,-66.4021578686424,-66.34743335987979,-66.29145499616192,-66.23423192006497,-66.17577147957319,-66.11607923197114,-66.05515893676763,-65.99301253757906,-65.92964013264437,-65.86503993364839,-65.7992082122017,-65.73213923327184,-65.66382517463161,-65.59425603117346,-65.52341950269121,-65.45130086348114,-65.37788281175781,-65.30314529653523,-65.22706531914187,-65.14961670606344,-65.07076984914676,-64.99049140842122,-64.90874397196359,-64.82548566606434,-64.7406697076261,-64.65424388911393,-64.56614998431645,-64.47632306069389,-64.38469068096452,-64.29117197266507,-64.1956765395116,-64.09810318213047,-63.99833838776374,-63.896254538328115,-63.79170777292456,-63.68453542366256,-63.57455292091335,-63.46155003403835,-63.34528627341742,-63.22548522532189,-63.101827517220734,-62.97394200938313,-62.841394666940914,-62.70367436729194,-62.560174613580806,-62.41016971508775,-62.25278339549472,-62.08694689997189,-61.911342331303466,-61.72432489457066,-61.52381454298955,-61.30714248701954,-61.07082996949381,-60.81026363456247,-60.51921044595576,-60.189080280828925,-59.80778904551238,-59.35799458458866,-58.8143900965351,-58.13977123185443,-57.2802665564957,-56.16311343568147,-54.70908231945994,-52.883968145306355,-50.791597997739686,-48.70742277852141,-46.94001275888739,-45.65247103992879,-44.83431179811669,-44.385662941775706,-44.19834657352793,-44.19226580201347,-44.31928061780394,-44.5548534653314,-44.888835438416805,-45.318866324003096,-45.84640474154818,-46.47459312776057,-47.2072934205486,-48.048941047882884,-49.00512820331458,-50.08399989823929,-51.298599731244636,-52.670066922849635,-54.23033596652684,-56.01833623855028,-58.05135008830337,-60.2457004335652,-62.34421283206826,-64.04773242809809,-65.25532040834482,-66.05757575251373,-66.58853512719307,-66.95049256671868,-67.20756802378251,-67.39766881429689,-67.54318982102099,-67.6576850503546,-67.74964045272974,-67.82456640247169,-67.88617148288485,-67.93703704654163,-67.97901634122032,-68.0134779326673,-68.04145861356177,-68.06376216013497,-68.08102477366344,-68.09375948227282,-68.10238693111528,-68.10725716980244,-68.10866536315919,-68.10686332214192,-68.10206810829551,-68.09446855462491,-68.08423027924374,-68.07149959214613,-68.05640657744667,-68.03906755311607,-68.01958705483617,-67.99805945171136,-67.9745702741545,-67.94919731434517,-67.92201154535184,-67.89307789431932,-67.86245589724612,-67.83020025689532,-67.79636132086931,-67.76098549335536,-67.72411559142265,-67.68579115456572,-67.64604871460176,-67.6049220316854,-67.56244230117942,-67.51863833525765,-67.47353672248269,-67.42716196799624,-67.37953661657406,-67.33068136036675,-67.28061513290481,-67.22935519060145,-67.17691718289709,-67.12331521185637,-67.06856188200621,-67.01266834096116,-66.95564431133909,-66.89749811427673,-66.83823668484753,-66.77786557949945,-66.71638897560902,-66.65380966310548,-66.59012902807014,-66.52534702808943,-66.45946215909977,-66.39247141326084,-66.32437022741217,-66.25515242142795,-66.18481012573609,-66.1133336970492,-66.04071162122824,-65.96693040196762,-65.89197443377759,-65.81582585744356,-65.73846439583855,-65.65986716758806,-65.58000847563245,-65.49885956716506,-65.41638836086985,-65.33255913646931,-65.24733218081231,-65.1606633834546,-65.07250377337597,-64.9827989867272,-64.89148865338993,-64.79850568750769,-64.70377546386474,-64.60721485783058,-64.50873112144913,-64.40822056152734,-64.30556697714485,-64.20063980303671,-64.09329189104585,-63.983356843213606,-63.87064578545789,-63.75494343796646,-63.63600329439024,-63.513541662005444,-63.38723023298516,-63.2566867430023,-63.12146311367272,-62.9810302484409,-62.83475832480166,-62.68189094900848,-62.521510832813746,-62.35249358816798,-62.1734446073035,-61.982611457681195,-61.777760191695094,-61.55599744934911,-61.313509471927226,-61.04517106400864,-60.74394669192138,-60.39995284481534,-59.99896029335418,-59.519968035075074,-58.93128109758606,-58.18443589369064,-57.20623407296542,-55.89447333962503,-54.14042499275427,-51.92352143068358,-49.455724096912625,-47.15371917628875,-45.36093246489821,-44.16631098772176,-43.471169557386325,-43.12539307319906,-43.00714307675847,-43.04135594134781,-43.18996950037922,-43.43754298203838,-43.78062355020556,-44.22145711461164,-44.76463722020781,-45.415416880500146,-46.178943877475646,-47.06012946939616,-48.06416749628392,-49.19791890019878,-50.47247582985496,-51.90711500404502,-53.533974581142346,-55.39883450088463,-57.539905011075746,-59.904938824971126,-62.23137204287987,-64.14703936609327,-65.49629149659886,-66.37732253888674,-66.95023248002376,-67.33534620554157,-67.60597011182583,-67.80439442473472,-67.95519208793814,-68.07309191967467,-68.16726600080094,-68.24364897093871,-68.30622086447808,-68.35773994312342,-68.40017589766589,-68.4349744189068,-68.4632236586722,-68.48576179597116,-68.50324823471354,-68.51621177239413,-68.52508385785796,-68.53022199872784,-68.531926540098,-68.53045290407893,-68.52602066860169,-68.51882040940438,-68.50901893393922,-68.49676334154981,-68.48218421432506,-68.46539815513952,-68.44650982902604,-68.42561362197952,-68.40279500176531,-68.37813164407675,-68.35169437210725,-68.3235479463718,-68.29375173329237,-68.26236027481714,-68.22942377661869,-68.19498852880004,-68.15909727025146,-68.12178950561116,-68.08310178210962,-68.04306793220415,-68.00171928686618,-67.95908486351622,-67.91519153189225,-67.87006416063967,-67.82372574688956,-67.77619753074788,-67.72749909632677,-67.67764846065369,-67.6266621516196,-67.57455527590817,-67.52134157773204,-67.46703348902982,-67.41164217170824,-67.35517755234807,-67.29764834977651,-67.23906209575978,-67.17942514904706,-67.11874270288166,-67.05701878606142,-66.99425625752588,-66.93045679444579,-66.86562087363014,-66.79974774608286,-66.73283540441622,-66.66488054275857,-66.59587850871966,-66.525823246853,-66.45470723297731,-66.38252139857401,-66.3092550443535,-66.23489574189072,-66.15942922210601,-66.08283924907356,-66.00510747745864,-65.9262132915275,-65.84613362336295,-65.76484274749399,-65.68231204861934,-65.59850975853043,-65.51340065765106,-65.42694573564789,-65.33910180461594,-65.24982105696225,-65.15905055858936,-65.06673166596136,-64.9727993532695,-64.87718143283024,-64.77979764809562,-64.68055861382943,-64.5793645719305,-64.47610392361476,-64.37065148860474,-64.26286642903666,-64.1525897587563,-64.03964133631624,-63.923816210206866,-63.80488014494671,-63.68256410251664,-63.556557379647,-63.42649899895892,-63.2919668085619,-63.152463541392216,-63.007398793604146,-62.85606545600375,-62.69760850365264,-62.5309831038031,-62.35489755810504,-62.16773434706198,-61.96743897809918,-61.751360564627504,-61.516018520203275,-61.256753649159556,-60.967194214967535,-60.63841919077078,-60.2576159835044,-59.80588373845701,-59.254602280543544,-58.559528171420105,-57.65202783493201,-56.43016209467855,-54.76679578857807,-52.58402726972365,-50.02156359990677,-47.50124983466192,-45.45885653482012,-44.06284975414627,-43.23526573341665,-42.81030263284596,-42.643304097389205,-42.64260419574158,-42.76108615952095,-42.979253616004094,-43.292218313652235,-43.7020046510836,-44.21350398068294,-44.83245245603255,-45.56446010131632,-46.41467115021207,-47.38800584572671,-48.49017406211219,-49.7297990393061,-51.122012146417724,-52.693491877415134,-54.48677312005618,-56.55282807848466,-58.897219309255796,-61.347862493393045,-63.51890374681508,-65.12171531007608,-66.17911616979393,-66.85812171998796,-67.30534712294119,-67.61336361563897,-67.83539612959672,-68.00187289330097,-68.13069363501056,-68.23281103036227,-68.31520230525705,-68.38248249266512,-68.43781022697499,-68.48341531680832,-68.52091696320343,-68.55152185607476,-68.57615098491891,-68.59552285059878,-68.61020929935378,-68.62067376456861,-68.62729797088188,-68.63040092923661,-68.63025269040736,-68.62708447458807,-68.62109625439875,-68.61246251973662,-68.60133672439075,-68.58785476249913,-68.57213772080692,-68.55429408295022,-68.53442151384826,-68.51260831849996,-68.48893464549947,-68.46347348837467,-68.43629152520559,-68.40744982778095,-68.37700446456634,-68.34500701658659,-68.311505021306,-68.27654235655018,-68.24015957417149,-68.202394191233,-68.16328094510723,-68.12285201767497,-68.08113723291419,-68.03816423140509,-67.99395862470344,-67.9485441320286,-67.90194270131649,-67.8541746163635,-67.80525859152243,-67.75521185516561,-67.70405022294271,-67.6517881617303,-67.5984388449968,-67.5440142001618,-67.48852494853601,-67.43198063819256,-67.37438967012658,-67.31575931798493,-67.25609574152827,-67.19540399397809,-67.13368802328917,-67.07095066737801,-67.00719364322079,-66.94241752973652,-66.8766217442349,-66.80980451222062,-66.74196283017922,-66.67309242099786,-66.6031876814896,-66.53224162144183,-66.46024579352199,-66.38719021316162,-66.31306326752221,-66.23785161234221,-66.16154005539438,-66.0841114249959,-66.00554642173874,-65.92582345134814,-65.84491843618693,-65.76280460245103,-65.67945223966278,-65.59482842835185,-65.50889673112542,-65.42161684139707,-65.33294418290384,-65.24282945183504,-65.15121809166695,-65.05804968879744,-64.96325727443629,-64.86676651509434,-64.76849476989373,-64.66834998794182,-64.56622941245163,-64.4620180500671,-64.35558685316005,-64.2467905489376,-64.13546503107173,-64.02142420549055,-63.904456149975736,-63.78431840413172,-63.66073214784565,-63.533374946022995,-63.4018716259722,-63.26578269733121,-63.124589501782985,-62.97767495894611,-62.824298305542676,-62.66356152811697,-62.4943641377732,-62.31534131996614,-62.1247779650128,-61.92048705288695,-61.6996343007361,-61.458480066374264,-61.1919909756583,-60.89324170566353,-60.55247120067741,-60.155559062918876,-59.68152000591369,-59.09836004649581,-58.35641403430677,-57.3789202085083,-56.05470948253627,-54.25736675022864,-51.947101282727765,-49.34492236367877,-46.915559893123586,-45.042115045456654,-43.814908398965926,-43.11612087971492,-42.777583490891296,-42.667678775696295,-42.708084133273935,-42.86057861117464,-43.110505804867316,-43.45525385061607,-43.89772757051407,-44.44298616044541,-45.096585347551546,-45.8638227601418,-46.74958544645578,-47.75882484500933,-48.89789349945466,-50.17709459171084,-51.61474509011856,-53.242363825837515,-55.10718453436316,-57.255436886787905,-59.654033269253226,-62.05394870724729,-64.05676472189488,-65.4700809391607,-66.3866146816368,-66.97712932501699,-67.37100473529173,-67.6463059092976,-67.84748660727513,-68.00008180169456,-68.11926487291373,-68.21442766619253,-68.29162178039996,-68.35489368988013,-68.40704135045964,-68.45005904945472,-68.48540813116956,-68.5141869252001,-68.53724036051241,-68.55523241122941,-68.56869504096161,-68.57806194857963,-68.58369228536095,-68.58588763180593,-68.58490436499291,-68.58096282071573,-68.57425419053685,-68.56494579272199,-68.55318515779346,-68.53910323724726,-68.52281695448055,-68.50443125576713,-68.48404077642685,-68.4617312074738,-68.43758042652014,-68.41165944133417,-68.38403318307692,-68.35476117787678,-68.32389811912527,-68.29149435810032,-68.25759632690101,-68.22224690488916,-68.18548573762058,-68.1473495155618,-68.10787221854719,-68.06708533082276,-68.02501803072302,-67.98169735827953,-67.93714836353037,-67.89139423785677,-67.84445643026173,-67.79635475023422,-67.74710745855126,-67.69673134721126,-67.64524180942773,-67.59265290054984,-67.53897739056832,-67.48422680880981,-67.42841148127748,-67.37154056103266,-67.3136220519316,-67.25466282593972,-67.19466863420598,-67.13364411198445,-67.07159277745085,-67.00851702439684,-66.94441810871018,-66.87929612849972,-66.81314999764683,-66.74597741251064,-66.6777748114249,-66.60853732652035,-66.53825872738771,-66.46693135589034,-66.3945460513979,-66.32109206555116,-66.24655696551095,-66.17092652445879,-66.09418459794364,-66.01631298438195,-65.93729126776554,-65.85709664029292,-65.77570370221234,-65.69308423572653,-65.60920694922197,-65.5240371873825,-65.43753660195104,-65.34966277687603,-65.2603688003612,-65.16960277480553,-65.07730725384228,-64.98341859328096,-64.88786619999765,-64.79057165918148,-64.69144771586188,-64.59039708092637,-64.48731102450593,-64.38206771030374,-64.27453021220518,-64.1645441388007,-64.05193477052306,-63.936503586578596,-63.81802402185887,-63.696236244178245,-63.570840673968206,-63.44148987468932,-63.307778311064915,-63.169229286997684,-63.025278110066246,-62.8752501450568,-62.71833185285747,-62.55353206460685,-62.379629453462506,-62.19510017336344,-61.99801649009385,-61.78590217152899,-61.55552209756083,-61.302569628469314,-61.02119148042277,-60.70324855035715,-60.337138877749084,-59.90588414593811,-59.38397926032984,-58.73224974462109,-57.8899953939095,-56.765774088630415,-55.23847193631424,-53.208203551345434,-50.743211704529955,-48.19947564295958,-46.03592857151689,-44.49561431653142,-43.551182725727635,-43.04905130936779,-42.83638913308517,-42.80929343444573,-42.91117934124245,-43.11669785897796,-43.417680898780496,-43.81435870819572,-44.310606568630305,-44.911544310101746,-45.622388896344304,-46.44803617334535,-47.39324669157014,-48.46356667907262,-49.667272333252605,-51.01866849884368,-52.54277624229228,-54.279709563950604,-56.27977010410886,-58.55943352320246,-60.980891511134416,-63.18450436843843,-64.85187082812952,-65.96520990203004,-66.68067151028103,-67.14962357309075,-67.4706505042874,-67.70086675278677,-67.87284055536516,-68.00560522782823,-68.11072065105968,-68.19550045693337,-68.26475451681831,-68.32175989672868,-68.36882190354893,-68.40761002514228,-68.43936576564737,-68.46503503304208,-68.48535468130315,-68.50091041407575,-68.51217635936875,-68.51954265902158,-68.52333506742606,-68.52382912596678,-68.52126059182221,-68.51583323735744,-68.50772477394173,-68.49709141701021,-68.48407145198772,-68.46878805494988,-68.45135154983852,-68.43186123422716,-68.41040687080894,-68.38706991697356,-68.36192454709291,-68.33503850911626,-68.30647384759234,-68.2762875180319,-68.24453191220647,-68.21125530986258,-68.17650226920242,-68.14031396602759,-68.10272848957267,-68.06378110149085,-68.02350446338926,-67.98192883719435,-67.93908226203476,-67.89499071061171,-67.84967822755411,-67.80316705185187,-67.75547772515118,-67.70662918733306,-67.65663886068518,-67.60552272365959,-67.5532953751503,-67.499970089984,-67.44555886629033,-67.39007246523651,-67.33352044355175,-67.27591117917602,-67.21725189030478,-67.15754864798534,-67.09680638241177,-67.03502888295972,-66.9722187919527,-66.90837759207956,-66.84350558734594,-66.77760187731376,-66.71066432440588,-66.64268951385466,-66.57367270591327,-66.5036077797465,-66.43248716840374,-66.36030178406257,-66.2870409327245,-66.212692217213,-66.13724142733946,-66.06067241573726,-65.98296695769504,-65.90410459302119,-65.82406244761758,-65.74281503205057,-65.66033401391094,-65.57658796019956,-65.49154204525276,-65.4051577188982,-65.31739232852999,-65.22819868749922,-65.13752458076017,-65.0453121967624,-64.95149747231885,-64.85600933423723,-64.75876881789311,-64.65968803834201,-64.5586689837824,-64.45560209376242,-64.35036457499804,-64.24281839538604,-64.1328078806717,-64.02015681710779,-63.90466493540681,-63.78610361366184,-63.667300852054986,-63.54186855243709,-63.41246060164923,-63.278668887650454,-63.14001359775288,-62.99592623989386,-62.8457275064188,-62.68859805901218,-62.52353945913069,-62.34932116942342,-62.16440754141336,-61.966855535353794,-61.75416882196504,-61.523085555511855,-61.269263113684254,-60.98679923169285,-60.66748763286811,-60.29963429025818,-59.86613710086818,-59.34133521368229,-58.68589732986463,-57.83910718072357,-56.710122421866195,-55.180256818584276,-53.155473236894125,-50.710990140896286,-48.20126724953982,-46.073201342578926,-44.55972477733139,-43.63174142939102,-43.13882331704706,-42.931811311707875,-42.909162093058754,-43.01535882143474,-43.22536624051716,-43.53099228984494,-43.93231921777528,-44.43303929068512,-45.03809071256236,-45.752534468329344,-46.581166895269895,-47.52874960763327,-48.60098711380306,-49.806532419091226,-51.16032950340801,-52.68825408193295,-54.43108666743343,-56.43801621115671,-58.71866317862342,-61.121233322826086,-63.282501505613716,-64.90372289646413,-65.98338815328854,-66.67835682345105,-67.13540014830895,-67.44936653020854,-67.67520693525456,-67.84433446533852,-67.97516230510203,-68.07890492704428,-68.16267492074822,-68.23116024755873,-68.2875614149715,-68.3341342193699,-68.37251531460102,-68.40392393590496,-68.42929056918554,-68.4493411720552,-68.46465359809369,-68.47569621187242,-68.48285484593008,-68.48645197629753,-68.48676060948857,-68.48401451306194,-68.47841587616404,-68.4701411345249,-68.45934546410105,-68.44616629456107,-68.43072609085752,-68.41313458089263,-68.39349055862391,-68.37188335796462,-68.34839406853423,-68.323096546929,-68.29605826450688,-68.26734102320086,-68.23700156401445,-68.20509208742179,-68.17166070100666,-68.13675180649155,-68.10040643593715,-68.06266254503507,-68.02355526989946,-67.98311715263736,-67.9413783399961,-67.89836675868693,-67.85410827033365,-67.80862680851718,-67.76194449999406,-67.71408177181723,-67.66505744582356,-67.61488882171498,-67.56359174977104,-67.51118069405655,-67.45766878687375,-67.40306787504062,-67.3473885585365,-67.29064022186473,-67.23283105852586,-67.17396808878338,-67.11405717094347,-67.0531030062122,-66.99110913721813,-66.92807794011398,-66.86401061022482,-66.79890714104386,-66.73276629635836,-66.66558557521026,-66.59736116929466,-66.5280879123243,-66.45775922077533,-66.38636702537133,-66.31390169242431,-66.24035193415031,-66.16570470678057,-66.08994509520478,-66.01305618255388,-65.93501890297907,-65.85581187547578,-65.77541121629392,-65.69379032702105,-65.61091965491208,-65.52676642138962,-65.4412943139335,-65.35446313562758,-65.26622840553718,-65.17654090173492,-65.0853461371383,-64.9925837562481,-64.89818683835914,-64.80208108956309,-64.70418390198252,-64.60440325346488,-64.50263641470238,-64.39876842238255,-64.29267026647521,-64.18419672591098,-64.07318376894706,-63.95944541065167,-63.84276988832856,-63.722914973086226,-63.59960217797993,-63.47250954400289,-63.34126257531612,-63.205422741136275,-63.06447274294168,-62.917797430856396,-62.76465879354536,-62.60416276511356,-62.43521456723572,-62.256457734510285,-62.06618952214341,-61.862241502827246,-61.641807849903074,-61.40119336797181,-61.135435731789194,-60.83772619515642,-60.49850062154349,-60.10398194343714,-59.63380356378782,-59.057121586859374,-58.32645415514267,-57.369146573164464,-56.08108349169914,-54.34450176601008,-52.11952155505992,-49.603241859224816,-47.227267675795126,-45.367150768302174,-44.129333161693744,-43.41387571069957,-43.062351414265535,-42.945632439829275,-42.98434960606641,-43.13835524645221,-43.39128081173759,-43.73923395767925,-44.18418757252727,-44.730499947080425,-45.38318878444775,-46.147169050282294,-47.02714116013879,-48.028133124458826,-49.156901011691446,-50.42449581442878,-51.85022057242464,-53.46639434198574,-55.31957366317462,-57.45066723651588,-59.813515538642314,-62.15001607717356,-64.08051761534632,-65.4389364313332,-66.32242796312302,-66.89447654241485,-67.27788385358981,-67.54697378879096,-67.74429295282866,-67.89439434813502,-68.0119180395175,-68.10594852024592,-68.1823513554983,-68.24505632474765,-68.29678632040934,-68.33948644174575,-68.37458530672332,-68.40315916362016,-68.42603783234699,-68.44387479808171,-68.45719463360788,-68.46642575133423,-68.4719234656083,-68.47398653356824,-68.47286922882533,-68.46879030316133,-68.46193974476763,-68.45248395154086,-68.44056974683237,-68.4263275374442,-68.40987382708721,-68.39131323922602,-68.37074016180956,-68.34824009732573,-68.32389078066949,-68.29776311234549,-68.2699219433294,-68.24042673980973,-68.2093321498235,-68.17668848912412,-68.14254216007602,-68.10693601462071,-68.06990967015155,-68.03149978554814,-67.99174030317386,-67.95066266172752,-67.90829598383469,-67.86466724171298,-67.81980140362582,-67.77372156339739,-67.72644905491163,-67.67800355318498,-67.62840316338416,-67.57766449889071,-67.52580274941425,-67.47283173991879,-67.41876398105241,-67.36361071164467,-67.3073819337034,-67.25008644029695,-67.1917318366063,-67.1323245543359,-67.0718698596502,-67.01037185468248,-66.94783347263079,-66.88425646638012,-66.81964139051108,-66.75398757653294,-66.68729310100777,-66.61955474627437,-66.5507679533118,-66.48092676619771,-66.41002376754973,-66.33805000417091,-66.26499490202256,-66.19084616944988,-66.1155896874564,-66.0392093855504,-65.96168710149838,-65.88300242299586,-65.80313250892179,-65.72205188746065,-65.63973222786758,-65.55614208208762,-65.47124659172118,-65.3850071550022,-65.29738104744432,-65.20832098850072,-65.11777464511243,-65.02568406110875,-64.93198499906283,-64.83660617831912,-64.73946838923017,-64.64048345905533,-64.53955303910722,-64.43656717531486,-64.3314026147461,-64.22392078822986,-64.11396539303894,-64.00135947826111,-63.88590190722117,-63.767363033475,-63.64547937573601,-63.51994700720639,-63.390413278444825,-63.25646635825764,-63.117621886957366,-62.973305764128,-62.822831697955614,-62.66537156142757,-62.49991573031622,-62.325219254143484,-62.139727662018856,-61.94147297313156,-61.727925284204055,-61.49577677929304,-61.24062073882888,-60.95646380585792,-60.63496772655452,-60.2642437889887,-59.826898846345294,-59.29683654689951,-58.63409380217696,-57.77714360591914,-56.63453455281864,-55.08872766722075,-53.05197671694135,-50.61149768548419,-48.12763913706874,-46.03700631617733,-44.5577703223978,-43.65404341293807,-43.17609403800306,-42.978102015260205,-42.96146369361359,-43.07243966151459,-43.28686366875084,-43.5968958848275,-44.00271877596212,-44.50801298841719,-45.11766176307631,-45.83666567567938,-46.66978644615571,-47.621813922491256,-48.69859195226085,-49.90908252959803,-51.268763113445935,-52.80425597848846,-54.556974047785744,-56.57517572944334,-58.86223194878173,-61.25335458906598,-63.381580503819066,-64.96516177444501,-66.01694361676651,-66.69483700850776,-67.14194109171075,-67.4500086411483,-67.67217565858023,-67.8388857634194,-67.9680361736556,-68.0705580035736,-68.15340140150103,-68.22115705377978,-68.27696485009811,-68.32304147212206,-68.36099755671178,-68.3920345635949,-68.417070535084,-68.43682251906048,-68.45186185263702,-68.462652037455,-68.46957520740422,-68.47295097479912,-68.4730500918272,-68.47010452414256,-68.46431500033135,-68.45585675709243,-68.44488397457847,-68.43153324667624,-68.41592633006778,-68.39817234711008,-68.37836956979582,-68.35660687865749,-68.33296496666894,-68.30751734105245,-68.28033116338123,-68.25146795917125,-68.22098422120773,-68.18893192569449,-68.15535897630663,-68.12030958818977,-68.08382462158619,-68.04594187290601,-68.00669632959142,-67.96612039400628,-67.92424408059422,-67.88109518987542,-67.83669946219209,-67.79108071366974,-67.74426095643399,-67.69626050479627,-67.64709806887099,-67.59679083681633,-67.54535454675059,-67.49280354918663,-67.43915086070302,-67.38440820947366,-67.32858607313021,-67.27169370936802,-67.21373917960187,-67.15472936591686,-67.09466998147666,-67.03356557448434,-66.97141952573267,-66.90823403968484,-66.84401012902666,-66.77874759246122,-66.7124449855621,-66.64509958431456,-66.57670734097405,-66.50726283173245,-66.43675919560764,-66.36518806381841,-66.29253947883667,-66.21880180210181,-66.14396160924346,-66.06800357144309,-65.99091032135465,-65.91266230169087,-65.83323759431221,-65.75261172721646,-65.67075745642485,-65.58764451918995,-65.50323935428717,-65.41750478440203,-65.33039965463496,-65.24187841999586,-65.15189067334555,-65.06038060349681,-64.96728637099075,-64.87253938640913,-64.77606347272102,-64.677773888927,-64.57757618688699,-64.47536486647797,-64.3710217854207,-64.26441426887148,-64.15539284920933,-64.04378854716587,-63.929409580027865,-63.81203734865902,-63.691421509344394,-63.567273874230764,-63.439260798660186,-63.30699359471835,-63.170016343173444,-63.02779023773315,-62.87967325158743,-62.72489341251375,-62.562513223633275,-62.39138163448493,-62.2100682256491,-62.01677154236478,-61.809189157828136,-61.584329954686105,-61.338237330460316,-61.06557207873828,-60.758969355210816,-60.4080244974186,-59.99765971420688,-59.50545532181019,-58.897299816115634,-58.12062556085205,-57.095674551967804,-55.711961350313814,-53.85845306805287,-51.53776093985354,-49.014672589215635,-46.737689408452866,-45.02604089085535,-43.92484587943526,-43.30871347004267,-43.02162055498115,-42.946274185373895,-43.01401207986544,-43.191577598729914,-43.466350007646255,-43.8362599903645,-44.30406987092079,-44.87440799344144,-45.552318173189704,-46.34266236008008,-47.25015037756025,-48.28005613175883,-49.43985801847081,-50.74211655970068,-52.20872807343456,-53.875506928860304,-55.7908563110143,-57.985737250803005,-60.37391164428151,-62.64673547678278,-64.44683961289627,-65.68102616404587,-66.47883508251388,-66.99852831708742,-67.35051508548739,-67.60019597570083,-67.78496037577207,-67.92653090066325,-68.0379815801269,-68.12750339385478,-68.2004325999942,-68.26037342234682,-68.30984140368523,-68.35064534568595,-68.38412169159322,-68.41128272579351,-68.43291281586549,-68.44963242844904,-68.46194164937745,-68.47025037572517,-68.47489966556329,-68.47617711223481,-68.47432810961553,-68.4695642442825,-68.46206964604835,-68.45200586487373,-68.43951566795323,-68.42472603407231,-68.40775054298518,-68.38869130296486,-68.36764052150588,-68.34468179722265,-68.3198911916031,-68.29333812522933,-68.26508613279474,-68.23519350349777,-68.20371382768238,-68.17069646615802,-68.13618695529594,-68.10022735839591,-68.06285657176225,-68.02411059238689,-67.98402275279814,-67.94262392772228,-67.89994271632722,-67.85600560317985,-67.81083710058246,-67.76445987442352,-67.7168948554115,-67.6681613372191,-67.61827706283894,-67.56725830024159,-67.51511990826457,-67.46187539347055,-67.40753695868345,-67.35211554365661,-67.2956208583697,-67.23806140925974,-67.17944451868344,-67.11977633777522,-67.0590618528445,-66.99730488534627,-66.93450808544551,-66.87067291905404,-66.80579964823505,-66.73988730474085,-66.67293365639571,-66.60493516595221,-66.53588694197205,-66.46578268116231,-66.39461460151045,-66.3223733654271,-66.24904799195201,-66.17462575696052,-66.09909208005196,-66.0224303966482,-65.94462201352844,-65.86564594573899,-65.78547873248225,-65.70409422911055,-65.62146337190902,-65.53755391168625,-65.45233011150886,-65.36575240298146,-65.277776994453,-65.18835542315882,-65.09743404175606,-65.00495342763632,-64.91084770103824,-64.81504373480055,-64.7174602347851,-64.61800666512389,-64.516581986215,-64.41307316549359,-64.30735341079513,-64.19928006287816,-64.08869206636462,-63.97540691555697,-63.8592169412071,-63.739884763665195,-63.617137682589096,-63.49066069796935,-63.36008775263602,-63.224990640153,-63.0848648145909,-62.939111040804136,-62.787011390059845,-62.62769744457841,-62.46010761141792,-62.28292897486117,-62.09451682863411,-61.89278140362331,-61.675025447588055,-61.43770665280424,-61.17608268364899,-60.88366875487195,-60.55138952856451,-60.16622355540563,-59.70899773696961,-59.15077696101104,-58.44709574242438,-57.52970470962593,-56.299219252440786,-54.63673105079985,-52.480993884136545,-49.98573601305376,-47.56048040041097,-45.609201642557565,-44.28026721796501,-43.49530871176829,-43.09740571455946,-42.95058325148023,-42.96830186199126,-43.10551897653886,-43.34311502516027,-43.67583184794945,-44.105043161510984,-44.63490154034942,-45.270409101746516,-46.01653604881438,-46.878011969673935,-47.85975357413089,-48.96810872229757,-50.213216974343744,-51.612748467310695,-53.19666778211542,-55.00966293289652,-57.09675079637308,-59.43425836700694,-61.80122087232173,-63.815692192466045,-65.26294252486748,-66.21076238320546,-66.82289863700481,-67.23047177792682,-67.51443239537706,-67.72128565851149,-67.87778636509064,-67.99979974433877,-68.09711066659013,-68.17599939100498,-68.24065014488339,-68.2939472312205,-68.33794128808057,-68.37413186001687,-68.40364407268844,-68.42734222157137,-68.44590464526877,-68.45987420568079,-68.46969303754975,-68.4757269406947,-68.47828282216197,-68.47762139119132,-68.47396655622451,-68.46751249307235,-68.45842904229639,-68.44686588944276,-68.43295584546536,-68.41681745258968,-68.39855707776555,-68.37827061201855,-68.35604486320707,-68.33195870764479,-68.30608405021152,-68.27848663088707,-68.24922670709145,-68.21835963470645,-68.18593636582055,-68.15200387750015,-68.11660554298801,-68.07978145455742,-68.0415687054289,-68.00200163683527,-67.96111205518295,-67.91892942341566,-67.87548102994634,-67.83079213797443,-67.78488611754511,-67.73778456229404,-67.6895073925434,-67.64007294613452,-67.58949805814893,-67.5377981305348,-67.48498719242485,-67.4310779518749,-67.37608183956938,-67.32000904497924,-67.26286854535226,-67.20466812782384,-67.14541440487204,-67.08511282327912,-67.0237676666589,-66.96138205157631,-66.89795791721649,-66.83349600846907,-66.76799585224637,-66.70145572679937,-66.63387262364995,-66.56524220175763,-66.49555873338144,-66.42481504103506,-66.3530024247808,-66.28011057900213,-66.20612749762543,-66.1310393665973,-66.05483044219203,-65.97748291352768,-65.89897674732623,-65.81928951269894,-65.73839618324403,-65.65626891337583,-65.57287678515901,-65.48818552128641,-65.4021571590245,-65.31474967891002,-65.2259165808444,-65.13560639867582,-65.04376214258362,-64.95032065631041,-64.85521187343727,-64.75835795344075,-64.65967227378005,-64.55905824868266,-64.4564079381148,-64.35160040124285,-64.2444997367752,-64.13495273710718,-64.02278606276813,-63.90780281678562,-63.78977836238379,-63.668455178890426,-63.54353648426504,-63.41467826136759,-63.28147919760709,-63.14346786809548,-63.00008623586287,-62.850668171201576,-62.69441114649722,-62.53033844858768,-62.35724801551534,-62.17364209788812,-61.97762894696358,-61.76678292538319,-61.537941576227894,-61.286905072747466,-61.00798117904097,-60.69328037544814,-60.331598946804284,-59.90661322232982,-59.39392414304782,-58.75626000539064,-57.936166548306986,-56.84730777269772,-55.374425949304396,-53.41686570867965,-51.021612974026446,-48.50971768164562,-46.32982722485908,-44.74654067008006,-43.75719643661729,-43.22027112775663,-42.98430968548342,-42.94232306303173,-43.0342027217987,-43.23200680114854,-43.52595295471601,-43.915334591670316,-44.40349214603717,-44.99523860347502,-45.6956203635819,-46.50945401931082,-47.44148203557196,-48.49725117209937,-49.68497718633871,-51.0187054599926,-52.52279851235806,-54.2361536335998,-56.207781964133346,-58.4558917400229,-60.8536646530765,-63.055960494458326,-64.74040686977611,-65.87371591481208,-66.6043267522559,-67.08323128916072,-67.41058523830391,-67.64488549460016,-67.81958955140442,-67.95425638601496,-68.06075214442154,-68.14657130873974,-68.21663331471552,-68.27428368706875,-68.32187191819291,-68.36109693647677,-68.39322045722545,-68.4192026489657,-68.43979068070878,-68.45557788697222,-68.46704415768022,-68.47458406762762,-68.47852684102928,-68.47915077880326,-68.47669386535486,-68.47136169533925,-68.46333349000993,-68.45276673047286,-68.43980077451585,-68.42455971571556,-68.4071546700257,-68.3876856242206,-68.36624294502414,-68.34290862255847,-68.31775730360087,-68.29085715694046,-68.26227060339617,-68.23205493585617,-68.20026284914474,-68.16694289547137,-68.13213987795105,-68.09589519223901,-68.05824712437064,-68.01923111143385,-67.97887997042533,-67.93722409970783,-67.89429165676059,-67.8501087152036,-67.80469940367203,-67.75808602860603,-67.71028918275802,-67.66132784088988,-67.61121944392708,-67.55997997260093,-67.50762401150713,-67.45416480427988,-67.39961430053543,-67.34398319508603,-67.28728095982842,-67.2295158686602,-67.17069501565643,-67.11082432669453,-67.04990856462591,-66.98795132805259,-66.92495504367554,-66.86092095211569,-66.79584908707332,-66.72973824757851,-66.66258596303716,-66.59438845067754,-66.52514056494178,-66.45483573822304,-66.38346591228287,-66.31102145951935,-66.23749109313654,-66.16286176509813,-66.08711855052493,-66.0102445170174,-65.93222057708407,-65.85302532155337,-65.77263483150266,-65.69102246575271,-65.60815862051112,-65.52401045707118,-65.43854159274412,-65.35171174927963,-65.26347635191672,-65.17378607085296,-65.08258629522193,-64.98981652763372,-64.8954096847491,-64.79929128618163,-64.70137850992138,-64.60157908752812,-64.49979000571616,-64.39589597282642,-64.28976759787054,-64.18125921609452,-64.07020627674903,-63.956422184871876,-63.83969445691225,-63.71978000718372,-63.59639932385815,-63.46922921342257,-63.33789368173849,-63.20195236455048,-63.06088569954925,-62.914075714419035,-62.76078084142819,-62.60010248145256,-62.4309400046115,-62.251929287707426,-62.06135741266372,-61.857042213227274,-61.636158972222354,-61.394986007116195,-61.128523057881154,-60.8299058012086,-60.48948672701176,-60.09336074661715,-59.620960737420326,-59.041125779350715,-58.30588224277675,-57.34188362181489,-56.04435679941442,-54.296035023783666,-52.06093507884555,-49.5429357302947,-47.175930263345315,-45.33010388909587,-44.10555021796847,-43.39957572375308,-43.05392626957476,-42.94066659480145,-42.98152516130977,-43.13706754703775,-43.39132035580976,-43.74059314075048,-44.18695848302924,-44.7348239321629,-45.38923231486928,-46.155112925904405,-47.037178431974354,-48.04047647326646,-49.17180390115347,-50.4422934783713,-51.87139330121529,-53.49162996580192,-55.349696455533675,-57.48597333658565,-59.85186598270504,-62.18567707929494,-64.1085342177744,-65.45920902230962,-66.33736275859793,-66.90624467243124,-67.28782023234088,-67.5558071471554,-67.75241409606959,-67.90201931500492,-68.01917288172218,-68.11291157395948,-68.18907443614165,-68.2515756704565,-68.30312849127792,-68.34567166452926,-68.38062947299561,-68.4090750838916,-68.4318360581503,-68.4495641809382,-68.46278271675575,-68.47191905127171,-68.47732767884152,-68.47930669132278,-68.47810981479368,-68.47395534451488,-68.46703288351058,-68.45750850119157,-68.44552873802746,-68.43122375502479,-68.41470984059994,-68.3960914282514,-68.37546273719535,-68.35290911912988,-68.32850817346356,-68.30233067835884,-68.27444137380806,-68.24489962492858,-68.2137599873574,-68.18107269210003,-68.14688406356555,-68.11123688177884,-68.07417069764537,-68.03572210842053,-67.9959249992625,-67.95481075565759,-67.91240845066257,-67.86874501026034,-67.82384535953605,-67.77773255193985,-67.73042788357583,-67.68195099408473,-67.63231995547675,-67.58155135004964,-67.52966033835727,-67.47666071800312,-67.42256497396873,-67.36738432099006,-67.31112873846683,-67.25380699826155,-67.19542668566086,-67.13599421372875,-67.07551483116082,-67.01399262374143,-66.95143050938077,-66.88783022668413,-66.82319231692398,-66.75751609920638,-66.69079963858177,-66.62303970671503,-66.55423173471986,-66.48436975759468,-66.41344634961905,-66.34145254999568,-66.26837777778087,-66.19420973510367,-66.11893429741323,-66.04253538932046,-65.96499484432904,-65.88629224649256,-65.80640475167611,-65.72530688565546,-65.64297031589125,-65.55936359313577,-65.4744518584092,-65.38819650998728,-65.30055482403637,-65.21147952130138,-65.12091827067107,-65.02881311858711,-64.93509983093563,-64.83970713109468,-64.7425558142129,-64.64355771314777,-64.54261448566764,-64.43961618506025,-64.33443956672069,-64.22694607085324,-64.11697940521863,-64.00436263059171,-63.88889462326128,-63.77034575110444,-63.64845254854308,-63.52291110590778,-63.39336879221192,-63.259413795832074,-63.120561777299756,-62.97623865617965,-62.825758158808576,-62.6682921716904,-62.50283107463949,-62.3281299033832,-62.14263414089118,-61.94437570254553,-61.730824478667856,-61.49867226336267,-61.24351161443028,-60.959347838151835,-60.63784018352286,-60.26709518827403,-59.829710447785,-59.299571066584946,-58.63667585973998,-57.77941866093505,-56.63618853254088,-55.08916741574024,-53.050302808789866,-50.606912918842085,-48.1201678450397,-46.02749437812565,-44.54716808998248,-43.64294287198863,-43.16471043359707,-42.96642795165288,-42.94941095595435,-43.05991748701502,-43.273808524481296,-43.58327800194874,-43.98854093505806,-44.49330780713568,-45.102488665978306,-45.821106455371655,-46.65393746705834,-47.605772912539265,-48.68243780315537,-49.89284772718768,-51.25240130769306,-52.7876163912342,-54.53982750919546,-56.557437370333766,-58.84464629805384,-61.238241495948664,-63.37148584760228,-64.96038049253987,-66.01606929999164,-66.69641194818205,-67.14499114429796,-67.45395773894394,-67.67668772418541,-67.84376017417588,-67.97314952281667,-68.07583228812813,-68.15878617466517,-68.22661904500043,-68.28248173133339,-68.3285980175199,-68.36658322877157,-68.39764197058747,-68.4226944306293,-68.4424591441054,-68.45750849652934,-68.46830674083378,-68.47523655805077,-68.47861796514154,-68.47872201791566,-68.47578091286672,-68.46999555619337,-68.46154132268884,-68.45057250087308,-68.4372257703368,-68.42162295601246,-68.403873234914,-68.38407492301944,-68.36231693641317,-68.33867999691495,-68.31323763523488,-68.28605703215375,-68.25719972896432,-68.2267222314988,-68.19467652683355,-68.16111052780579,-68.12606845740946,-68.089591182742,-68.05171650634422,-68.01247942132099,-67.97191233542037,-67.93004526838624,-67.8869060261071,-67.8425203545233,-67.79691207571335,-67.75010320824438,-67.70211407347074,-67.65296338927186,-67.60266835240787,-67.55124471053708,-67.49870682476815,-67.4450677234516,-67.39033914781028,-67.33453158993238,-67.27765432349867,-67.21971542757453,-67.16072180369875,-67.10067918643885,-67.03959214752119,-66.97746409354606,-66.91429725727068,-66.85009268235764,-66.78485020140052,-66.71856840702436,-66.65124461569991,-66.58287482391337,-66.51345365615482,-66.44297430418948,-66.37142845685791,-66.2988062195773,-66.22509602259724,-66.15028451679734,-66.07435645573156,-65.9972945622882,-65.91907937814129,-65.83968909380816,-65.75909935676182,-65.67728305459205,-65.59421006968252,-65.50984700120418,-65.42415684946403,-65.33709865670184,-65.24862709725103,-65.15869200862448,-65.06723785327925,-64.97420309875781,-64.87951950118206,-64.78311127376432,-64.68489411785744,-64.58477408871494,-64.48264626147102,-64.37839315417263,-64.27188285357626,-64.16296677494168,-64.05147696806354,-63.93722285665923,-63.81998726476609,-63.699521538722685,-63.575539511998535,-63.447709975997455,-63.31564720290439,-63.17889890226006,-63.03693075883767,-62.88910636155294,-62.7346608387861,-62.572665780753105,-62.40198191976234,-62.22119433394254,-62.02852227124292,-61.82169143352009,-61.597749633749544,-61.352795241006866,-61.081568369913825,-60.77682129771927,-60.42832645517036,-60.021280030479254,-59.533694089390316,-58.932141140506005,-58.16510585733196,-57.15425329644559,-55.790196464507396,-53.95989010611123,-51.65637324298409,-49.13103272630894,-46.83097755694481,-45.08795463765666,-43.95899620553297,-43.323040539665314,-43.02310671277368,-42.939375941125256,-43.00104613018114,-43.17352796818256,-43.44349524536749,-43.808547721617394,-44.271315163498464,-44.83639192263863,-45.508832487326735,-46.29351997520841,-47.19516399620584,-48.21897638713487,-49.372256500700054,-50.66719989806366,-52.125093004398124,-53.78096630846402,-55.68293861402761,-57.86468128137918,-60.24960811103933,-62.53953597175019,-64.37001572272439,-65.6317206838676,-66.44813794136957,-66.97915425977776,-67.33795433235709,-67.59186093550524,-67.77936566632718,-67.92279806774363,-68.03557063655016,-68.12606920826894,-68.19974640757093,-68.26027847537476,-68.31022700772321,-68.35143113902475,-68.38524783242713,-68.41270359853397,-68.43459289547448,-68.45154350234853,-68.46406091284166,-68.47255910072097,-68.47738225310057,-68.47882040570117,-68.4771208887099,-68.4724968459672,-68.4651336762722,-68.45519397616141,-68.44282138551067,-68.4281436181237,-68.4112748785652,-68.39231781074305,-68.37136508493684,-68.34850070250975,-68.32380107780142,-68.29733594247645,-68.269169107095,-68.23935910685422,-68.20795975260032,-68.17502060377866,-68.14058737656583,-68.10470229775028,-68.06740441298811,-68.02872985627796,-67.98871208641344,-67.94738209498509,-67.90476858979982,-67.86089815688837,-67.81579540373662,-67.76948308596386,-67.72198221927152,-67.67331217825654,-67.62349078335917,-67.57253437707364,-67.52045789033983,-67.46727489989472,-67.4129976772404,-67.3576372297499,-67.30120333437667,-67.24370456429001,-67.18514830872944,-67.12554078625587,-67.06488705154129,-67.00319099575388,-66.94045534051087,-66.87668162535815,-66.81187018861104,-66.74602014136129,-66.67912933435197,-66.61119431737139,-66.54221029070855,-66.47217104810036,-66.4010689105581,-66.32889465024489,-66.2556374035211,-66.18128457204972,-66.10582171072241,-66.02923240088661,-65.95149810718142,-65.87259801590399,-65.7925088525453,-65.71120467568588,-65.62865664392427,-65.54483275196529,-65.45969753120987,-65.37321170937125,-65.2853318225343,-65.19600977183808,-65.10519231529204,-65.01282048337828,-64.91882890456168,-64.82314502387497,-64.72568819392255,-64.62636861282986,-64.5250860776295,-64.42172851375369,-64.31617023130701,-64.20826984584183,-64.09786778433552,-63.984783274785535,-63.86881068813879,-63.749715061417824,-63.62722657707558,-63.50103369983501,-63.37077457033366,-63.23602611233054,-63.09629010821975,-62.95097520794544,-62.79937341485948,-62.64062896970522,-62.47369662023638,-62.29728483966802,-62.109777345210105,-61.90912276771311,-61.69267667511455,-61.456970853352914,-61.197369134133154,-60.907542366311844,-60.57864889325545,-60.19802667398545,-59.74706747646952,-59.19773590511495,-58.50698660191206,-57.60866037577088,-56.40571785866236,-54.7791574272972,-52.65840570899283,-50.1761947187756,-47.72897740270234,-45.73301512072004,-44.35800798013829,-43.53745287207667,-43.11579638746474,-42.95375687960662,-42.96111290033925,-43.09025439003112,-43.32060164013779,-43.64616300060306,-44.06798264680974,-44.590090769585906,-45.217467598406515,-45.955101479933454,-46.807734101135246,-47.780235923584726,-48.87877884703774,-50.11310111982909,-51.50014015433432,-53.0687721985321,-54.8627063048722,-56.92837669686995,-59.25164592720945,-61.629557490193676,-63.68243419035439,-65.17301891124033,-66.15302936269144,-66.78533852579871,-67.20502885928413,-67.49639775690437,-67.70797190427595,-67.86762758872217,-67.9918493968469,-68.09077317255529,-68.1708852875803,-68.23649556497672,-68.29056754885471,-68.33520347900814,-68.37193747651386,-68.40191844499542,-68.4260274274876,-68.44495482422965,-68.45925236769581,-68.46936884619727,-68.47567514339394,-68.47848211848684,-68.47805360275211,-68.47461600765932,-68.46836554319842,-68.45947372375377,-68.44809162790285,-68.43435323805016,-68.41837809095152,-68.40027340527132,-68.3801358073287,-68.35805274445816,-68.33410365294873,-68.30836093114223,-68.28089075643949,-68.25175377612966,-68.22100569537389,-68.18869778069286,-68.1548772934941,-68.11958786528204,-68.08286982385762,-68.04476047810816,-68.0052943675043,-67.96450348136993,-67.92241745206518,-67.87906372549136,-67.83446771182254,-67.78865291877297,-67.74164106945356,-67.69345220643643,-67.64410478347361,-67.59361574602752,-67.54200060161943,-67.4892734808477,-67.43544718972996,-67.38053325402586,-67.32454195593947,-67.26748236365471,-67.20936235395703,-67.15018862820044,-67.08996672175566,-67.02870100703674,-66.96639469011673,-66.90304980089623,-66.83866717670703,-66.77324643917103,-66.70678596405854,-66.63928284382364,-66.57073284238966,-66.50113034169046,-66.43046827934113,-66.35873807673,-66.28592955665007,-66.21203084946984,-66.137028286677,-66.0609062803476,-65.98364718698527,-65.90523115376672,-65.8256359449894,-65.74483674608415,-65.66280594210936,-65.57951286706923,-65.49492351976362,-65.40900024103415,-65.32170134630745,-65.23298070616357,-65.14278726617418,-65.05106449545283,-64.95774975118633,-64.86277354358835,-64.76605868230334,-64.66751928092826,-64.56705959079704,-64.46457262815902,-64.35993854988365,-64.25302272113744,-64.14367340333749,-64.03171897075994,-63.916964537790115,-63.79918784357907,-63.678134193375705,-63.55351019106387,-63.42497590840147,-63.2921350124538,-63.15452219803966,-63.011587022768374,-62.862672881779496,-62.70698933031316,-62.54357517395938,-62.37124855235424,-62.188538401546026,-61.99358879044968,-61.78402300150751,-61.55674667360133,-61.307656745793174,-61.03120158676592,-60.719700875452155,-60.36226982612855,-59.94308243707477,-59.43853043447497,-58.81260283365998,-58.009783980069905,-56.94629923933791,-55.50855236761529,-53.591156470870615,-51.22295873719786,-48.70379132621674,-46.48422484817252,-44.85073705471278,-43.81851663963647,-43.251542615478456,-42.99623787703371,-42.94156860419311,-43.024170563987596,-43.21410920394535,-43.500548867341024,-43.882282627697755,-44.36244269806486,-44.94577963547448,-45.63734388388591,-46.44197103208009,-47.36438754058785,-48.410023986078755,-49.586789864504404,-50.90812231272882,-52.39738732294318,-54.09227341045836,-56.041709800367435,-58.269485190873304,-60.665393433182686,-62.897527300493266,-64.62795739529952,-65.80034753216042,-66.55671761622256,-67.0512175109826,-67.38799985829273,-67.62820074395914,-67.80677332611069,-67.94409981139661,-68.05250697468784,-68.13975567287906,-68.21092519672119,-68.26946051855649,-68.317775082231,-68.35761019165533,-68.39025641282736,-68.41669405022941,-68.43768465329732,-68.45383204988683,-68.46562394325875,-68.47346083759281,-68.47767653748738,-68.47855294112641,-68.47633090158178,-68.47121833350921,-68.46339635874969,-68.45302403385018,-68.44024203664142,-68.42517557769663,-68.40793672671929,-68.38862629161281,-68.36733535147044,-68.34414651879094,-68.31913498764663,-68.29236941101269,-68.26391264047462,-68.23382235415087,-68.20215159307776,-68.16894922203603,-68.13426032756044,-68.09812656334952,-68.06058645131488,-68.0216756449634,-67.98142716059233,-67.93987158076584,-67.8970372338073,-67.85295035237485,-67.80763521366032,-67.76111426338504,-67.71340822537076,-67.66453619819539,-67.61451574019912,-67.5633629439317,-67.51109250091389,-67.4577177574905,-67.40325076238737,-67.34770230651144,-67.29108195539388,-67.23339807463067,-67.17465784857318,-67.11486729244183,-67.0540312580042,-66.9921534328205,-66.9292363330928,-66.86528128997793,-66.8002884292619,-66.73425664413465,-66.66718356078161,-66.59906549642606,-66.52989740932847,-66.45967284019545,-66.38838384430953,-66.31602091357965,-66.24257288757572,-66.1680268524172,-66.09236802622233,-66.01557962960572,-65.93764273940674,-65.85853612359429,-65.77823605485705,-65.69671610001551,-65.61394688183402,-65.52989580922258,-65.44452677105343,-65.3577997879277,-65.26967061509934,-65.18009028850402,-65.08900460405077,-64.99635351847493,-64.90207045736094,-64.80608151292476,-64.70830451009891,-64.60864791452545,-64.50700954966739,-64.40327508217665,-64.2973162241258,-64.18898858714367,-64.07812910572463,-63.96455292345177,-63.84804960469177,-63.72837849235041,-63.605262975318695,-63.47838335134699,-63.347367862963644,-63.21178133262542,-63.07111060833373,-62.924745721800974,-62.771955210381066,-62.61185338637329,-62.443356332997546,-62.265121869456436,-62.075466333142124,-61.872247225182036,-61.65269460902273,-61.4131639804406,-61.14876619140354,-60.85280063488218,-60.515866945639566,-60.12444222061555,-59.658562936862594,-59.08803235053524,-58.366394408524165,-57.42249293935869,-56.15380323477391,-54.44207534891325,-52.23999037245532,-49.73006093709044,-47.337022513140006,-45.446248427095355,-44.17798063368735,-43.4392319393689,-43.0719867110534,-42.944843987078436,-42.97608153367149,-43.123951969091294,-43.37119208825615,-43.71347105780462,-44.15257694648588,-44.692814261288476,-45.3392101552675,-46.09671079512452,-46.97003375698084,-47.96416665849516,-49.08570833490588,-50.3453587517931,-51.76179730842911,-53.36645688297671,-55.20522980360966,-57.32071319230813,-59.67538534404581,-62.02460974001465,-63.98678290336611,-65.37782508199983,-66.28476369285794,-66.87145286262944,-67.26373393544921,-67.53831047214447,-67.73915352985522,-67.8916153957277,-68.01078585264491,-68.1060092697036,-68.18330646462194,-68.24670308527618,-68.29898306719325,-68.34213148010468,-68.37760379234734,-68.40649472169571,-68.42964707863582,-68.44772368026601,-68.46125593912515,-68.47067737739192,-68.47634719623456,-68.47856715976097,-68.4775939047253,-68.47364806723202,-68.46692115817949,-68.45758082106498,-68.44577490963782,-68.43163469183057,-68.41527739782697,-68.39680826927074,-68.3763222243577,-68.35390522375059,-68.32963540098207,-68.3035840055999,-68.27581619604237,-68.24639171086,-68.21536544063133,-68.18278791819542,-68.14870574116576,-68.1131619378881,-68.07619628587706,-68.03784558997505,-67.99814392620495,-67.95712285617311,-67.9148116160331,-67.87123728333006,-67.82642492449015,-67.78039772525503,-67.73317710598721,-67.68478282347749,-67.6352330606131,-67.58454450505032,-67.53273241786437,-67.47981069298517,-67.42579190811102,-67.37068736763175,-67.31450713806314,-67.25726007633328,-67.19895385122408,-67.13959495818044,-67.07918872761864,-67.01773932682602,-66.95524975544662,-66.89172183449718,-66.82715618880172,-66.76155222262908,-66.69490808829184,-66.62722064734596,-66.55848542395395,-66.48869654991482,-66.41784670069515,-66.34592702174095,-66.2729270441655,-66.19883458877838,-66.12363565724593,-66.04731430893509,-65.9698525217856,-65.89123003522404,-65.81142417286068,-65.73040964222331,-65.64815830838029,-65.56463893768272,-65.47981690718676,-65.39365387446472,-65.30610740154967,-65.21713052543028,-65.12667126613223,-65.03467206140913,-64.9410691148921,-64.84579164158629],\"yaxis\":\"y\",\"type\":\"scattergl\"}],                        {\"template\":{\"data\":{\"bar\":[{\"error_x\":{\"color\":\"#2a3f5f\"},\"error_y\":{\"color\":\"#2a3f5f\"},\"marker\":{\"line\":{\"color\":\"#E5ECF6\",\"width\":0.5},\"pattern\":{\"fillmode\":\"overlay\",\"size\":10,\"solidity\":0.2}},\"type\":\"bar\"}],\"barpolar\":[{\"marker\":{\"line\":{\"color\":\"#E5ECF6\",\"width\":0.5},\"pattern\":{\"fillmode\":\"overlay\",\"size\":10,\"solidity\":0.2}},\"type\":\"barpolar\"}],\"carpet\":[{\"aaxis\":{\"endlinecolor\":\"#2a3f5f\",\"gridcolor\":\"white\",\"linecolor\":\"white\",\"minorgridcolor\":\"white\",\"startlinecolor\":\"#2a3f5f\"},\"baxis\":{\"endlinecolor\":\"#2a3f5f\",\"gridcolor\":\"white\",\"linecolor\":\"white\",\"minorgridcolor\":\"white\",\"startlinecolor\":\"#2a3f5f\"},\"type\":\"carpet\"}],\"choropleth\":[{\"colorbar\":{\"outlinewidth\":0,\"ticks\":\"\"},\"type\":\"choropleth\"}],\"contour\":[{\"colorbar\":{\"outlinewidth\":0,\"ticks\":\"\"},\"colorscale\":[[0.0,\"#0d0887\"],[0.1111111111111111,\"#46039f\"],[0.2222222222222222,\"#7201a8\"],[0.3333333333333333,\"#9c179e\"],[0.4444444444444444,\"#bd3786\"],[0.5555555555555556,\"#d8576b\"],[0.6666666666666666,\"#ed7953\"],[0.7777777777777778,\"#fb9f3a\"],[0.8888888888888888,\"#fdca26\"],[1.0,\"#f0f921\"]],\"type\":\"contour\"}],\"contourcarpet\":[{\"colorbar\":{\"outlinewidth\":0,\"ticks\":\"\"},\"type\":\"contourcarpet\"}],\"heatmap\":[{\"colorbar\":{\"outlinewidth\":0,\"ticks\":\"\"},\"colorscale\":[[0.0,\"#0d0887\"],[0.1111111111111111,\"#46039f\"],[0.2222222222222222,\"#7201a8\"],[0.3333333333333333,\"#9c179e\"],[0.4444444444444444,\"#bd3786\"],[0.5555555555555556,\"#d8576b\"],[0.6666666666666666,\"#ed7953\"],[0.7777777777777778,\"#fb9f3a\"],[0.8888888888888888,\"#fdca26\"],[1.0,\"#f0f921\"]],\"type\":\"heatmap\"}],\"heatmapgl\":[{\"colorbar\":{\"outlinewidth\":0,\"ticks\":\"\"},\"colorscale\":[[0.0,\"#0d0887\"],[0.1111111111111111,\"#46039f\"],[0.2222222222222222,\"#7201a8\"],[0.3333333333333333,\"#9c179e\"],[0.4444444444444444,\"#bd3786\"],[0.5555555555555556,\"#d8576b\"],[0.6666666666666666,\"#ed7953\"],[0.7777777777777778,\"#fb9f3a\"],[0.8888888888888888,\"#fdca26\"],[1.0,\"#f0f921\"]],\"type\":\"heatmapgl\"}],\"histogram\":[{\"marker\":{\"pattern\":{\"fillmode\":\"overlay\",\"size\":10,\"solidity\":0.2}},\"type\":\"histogram\"}],\"histogram2d\":[{\"colorbar\":{\"outlinewidth\":0,\"ticks\":\"\"},\"colorscale\":[[0.0,\"#0d0887\"],[0.1111111111111111,\"#46039f\"],[0.2222222222222222,\"#7201a8\"],[0.3333333333333333,\"#9c179e\"],[0.4444444444444444,\"#bd3786\"],[0.5555555555555556,\"#d8576b\"],[0.6666666666666666,\"#ed7953\"],[0.7777777777777778,\"#fb9f3a\"],[0.8888888888888888,\"#fdca26\"],[1.0,\"#f0f921\"]],\"type\":\"histogram2d\"}],\"histogram2dcontour\":[{\"colorbar\":{\"outlinewidth\":0,\"ticks\":\"\"},\"colorscale\":[[0.0,\"#0d0887\"],[0.1111111111111111,\"#46039f\"],[0.2222222222222222,\"#7201a8\"],[0.3333333333333333,\"#9c179e\"],[0.4444444444444444,\"#bd3786\"],[0.5555555555555556,\"#d8576b\"],[0.6666666666666666,\"#ed7953\"],[0.7777777777777778,\"#fb9f3a\"],[0.8888888888888888,\"#fdca26\"],[1.0,\"#f0f921\"]],\"type\":\"histogram2dcontour\"}],\"mesh3d\":[{\"colorbar\":{\"outlinewidth\":0,\"ticks\":\"\"},\"type\":\"mesh3d\"}],\"parcoords\":[{\"line\":{\"colorbar\":{\"outlinewidth\":0,\"ticks\":\"\"}},\"type\":\"parcoords\"}],\"pie\":[{\"automargin\":true,\"type\":\"pie\"}],\"scatter\":[{\"marker\":{\"colorbar\":{\"outlinewidth\":0,\"ticks\":\"\"}},\"type\":\"scatter\"}],\"scatter3d\":[{\"line\":{\"colorbar\":{\"outlinewidth\":0,\"ticks\":\"\"}},\"marker\":{\"colorbar\":{\"outlinewidth\":0,\"ticks\":\"\"}},\"type\":\"scatter3d\"}],\"scattercarpet\":[{\"marker\":{\"colorbar\":{\"outlinewidth\":0,\"ticks\":\"\"}},\"type\":\"scattercarpet\"}],\"scattergeo\":[{\"marker\":{\"colorbar\":{\"outlinewidth\":0,\"ticks\":\"\"}},\"type\":\"scattergeo\"}],\"scattergl\":[{\"marker\":{\"colorbar\":{\"outlinewidth\":0,\"ticks\":\"\"}},\"type\":\"scattergl\"}],\"scattermapbox\":[{\"marker\":{\"colorbar\":{\"outlinewidth\":0,\"ticks\":\"\"}},\"type\":\"scattermapbox\"}],\"scatterpolar\":[{\"marker\":{\"colorbar\":{\"outlinewidth\":0,\"ticks\":\"\"}},\"type\":\"scatterpolar\"}],\"scatterpolargl\":[{\"marker\":{\"colorbar\":{\"outlinewidth\":0,\"ticks\":\"\"}},\"type\":\"scatterpolargl\"}],\"scatterternary\":[{\"marker\":{\"colorbar\":{\"outlinewidth\":0,\"ticks\":\"\"}},\"type\":\"scatterternary\"}],\"surface\":[{\"colorbar\":{\"outlinewidth\":0,\"ticks\":\"\"},\"colorscale\":[[0.0,\"#0d0887\"],[0.1111111111111111,\"#46039f\"],[0.2222222222222222,\"#7201a8\"],[0.3333333333333333,\"#9c179e\"],[0.4444444444444444,\"#bd3786\"],[0.5555555555555556,\"#d8576b\"],[0.6666666666666666,\"#ed7953\"],[0.7777777777777778,\"#fb9f3a\"],[0.8888888888888888,\"#fdca26\"],[1.0,\"#f0f921\"]],\"type\":\"surface\"}],\"table\":[{\"cells\":{\"fill\":{\"color\":\"#EBF0F8\"},\"line\":{\"color\":\"white\"}},\"header\":{\"fill\":{\"color\":\"#C8D4E3\"},\"line\":{\"color\":\"white\"}},\"type\":\"table\"}]},\"layout\":{\"annotationdefaults\":{\"arrowcolor\":\"#2a3f5f\",\"arrowhead\":0,\"arrowwidth\":1},\"autotypenumbers\":\"strict\",\"coloraxis\":{\"colorbar\":{\"outlinewidth\":0,\"ticks\":\"\"}},\"colorscale\":{\"diverging\":[[0,\"#8e0152\"],[0.1,\"#c51b7d\"],[0.2,\"#de77ae\"],[0.3,\"#f1b6da\"],[0.4,\"#fde0ef\"],[0.5,\"#f7f7f7\"],[0.6,\"#e6f5d0\"],[0.7,\"#b8e186\"],[0.8,\"#7fbc41\"],[0.9,\"#4d9221\"],[1,\"#276419\"]],\"sequential\":[[0.0,\"#0d0887\"],[0.1111111111111111,\"#46039f\"],[0.2222222222222222,\"#7201a8\"],[0.3333333333333333,\"#9c179e\"],[0.4444444444444444,\"#bd3786\"],[0.5555555555555556,\"#d8576b\"],[0.6666666666666666,\"#ed7953\"],[0.7777777777777778,\"#fb9f3a\"],[0.8888888888888888,\"#fdca26\"],[1.0,\"#f0f921\"]],\"sequentialminus\":[[0.0,\"#0d0887\"],[0.1111111111111111,\"#46039f\"],[0.2222222222222222,\"#7201a8\"],[0.3333333333333333,\"#9c179e\"],[0.4444444444444444,\"#bd3786\"],[0.5555555555555556,\"#d8576b\"],[0.6666666666666666,\"#ed7953\"],[0.7777777777777778,\"#fb9f3a\"],[0.8888888888888888,\"#fdca26\"],[1.0,\"#f0f921\"]]},\"colorway\":[\"#636efa\",\"#EF553B\",\"#00cc96\",\"#ab63fa\",\"#FFA15A\",\"#19d3f3\",\"#FF6692\",\"#B6E880\",\"#FF97FF\",\"#FECB52\"],\"font\":{\"color\":\"#2a3f5f\"},\"geo\":{\"bgcolor\":\"white\",\"lakecolor\":\"white\",\"landcolor\":\"#E5ECF6\",\"showlakes\":true,\"showland\":true,\"subunitcolor\":\"white\"},\"hoverlabel\":{\"align\":\"left\"},\"hovermode\":\"closest\",\"mapbox\":{\"style\":\"light\"},\"paper_bgcolor\":\"white\",\"plot_bgcolor\":\"#E5ECF6\",\"polar\":{\"angularaxis\":{\"gridcolor\":\"white\",\"linecolor\":\"white\",\"ticks\":\"\"},\"bgcolor\":\"#E5ECF6\",\"radialaxis\":{\"gridcolor\":\"white\",\"linecolor\":\"white\",\"ticks\":\"\"}},\"scene\":{\"xaxis\":{\"backgroundcolor\":\"#E5ECF6\",\"gridcolor\":\"white\",\"gridwidth\":2,\"linecolor\":\"white\",\"showbackground\":true,\"ticks\":\"\",\"zerolinecolor\":\"white\"},\"yaxis\":{\"backgroundcolor\":\"#E5ECF6\",\"gridcolor\":\"white\",\"gridwidth\":2,\"linecolor\":\"white\",\"showbackground\":true,\"ticks\":\"\",\"zerolinecolor\":\"white\"},\"zaxis\":{\"backgroundcolor\":\"#E5ECF6\",\"gridcolor\":\"white\",\"gridwidth\":2,\"linecolor\":\"white\",\"showbackground\":true,\"ticks\":\"\",\"zerolinecolor\":\"white\"}},\"shapedefaults\":{\"line\":{\"color\":\"#2a3f5f\"}},\"ternary\":{\"aaxis\":{\"gridcolor\":\"white\",\"linecolor\":\"white\",\"ticks\":\"\"},\"baxis\":{\"gridcolor\":\"white\",\"linecolor\":\"white\",\"ticks\":\"\"},\"bgcolor\":\"#E5ECF6\",\"caxis\":{\"gridcolor\":\"white\",\"linecolor\":\"white\",\"ticks\":\"\"}},\"title\":{\"x\":0.05},\"xaxis\":{\"automargin\":true,\"gridcolor\":\"white\",\"linecolor\":\"white\",\"ticks\":\"\",\"title\":{\"standoff\":15},\"zerolinecolor\":\"white\",\"zerolinewidth\":2},\"yaxis\":{\"automargin\":true,\"gridcolor\":\"white\",\"linecolor\":\"white\",\"ticks\":\"\",\"title\":{\"standoff\":15},\"zerolinecolor\":\"white\",\"zerolinewidth\":2}}},\"xaxis\":{\"anchor\":\"y\",\"domain\":[0.0,1.0],\"title\":{\"text\":\"t/ms\"}},\"yaxis\":{\"anchor\":\"x\",\"domain\":[0.0,1.0],\"title\":{\"text\":\"U/mV\"}},\"legend\":{\"tracegroupgap\":0},\"margin\":{\"t\":60}},                        {\"responsive\": true}                    ).then(function(){\n",
       "                            \n",
       "var gd = document.getElementById('f855bee1-55c3-4b6f-9ad2-cbe35c845419');\n",
       "var x = new MutationObserver(function (mutations, observer) {{\n",
       "        var display = window.getComputedStyle(gd).display;\n",
       "        if (!display || display === 'none') {{\n",
       "            console.log([gd, 'removed!']);\n",
       "            Plotly.purge(gd);\n",
       "            observer.disconnect();\n",
       "        }}\n",
       "}});\n",
       "\n",
       "// Listen for the removal of the full notebook cells\n",
       "var notebookContainer = gd.closest('#notebook-container');\n",
       "if (notebookContainer) {{\n",
       "    x.observe(notebookContainer, {childList: true});\n",
       "}}\n",
       "\n",
       "// Listen for the clearing of the current output cell\n",
       "var outputEl = gd.closest('.output');\n",
       "if (outputEl) {{\n",
       "    x.observe(outputEl, {childList: true});\n",
       "}}\n",
       "\n",
       "                        })                };                });            </script>        </div>"
      ]
     },
     "metadata": {},
     "output_type": "display_data"
    }
   ],
   "source": [
    "m = arbor.single_cell_model(c51a_default)\n",
    "m.properties.catalogue.extend(io_catalogue, '')\n",
    "m.probe(\"voltage\", '(root)', frequency=1)\n",
    "m.run(tfinal=3000, dt=0.025)\n",
    "df = pd.DataFrame({\"t/ms\": m.traces[0].time, \"U/mV\": m.traces[0].value})\n",
    "px.line(df, x='t/ms', y='U/mV')"
   ]
  }
 ],
 "metadata": {
  "kernelspec": {
   "display_name": "EBRAINS-experimental",
   "language": "python",
   "name": "ebrains-experimental"
  },
  "language_info": {
   "codemirror_mode": {
    "name": "ipython",
    "version": 3
   },
   "file_extension": ".py",
   "mimetype": "text/x-python",
   "name": "python",
   "nbconvert_exporter": "python",
   "pygments_lexer": "ipython3",
   "version": "3.8.11"
  }
 },
 "nbformat": 4,
 "nbformat_minor": 5
}
